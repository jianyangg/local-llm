{
 "cells": [
  {
   "cell_type": "code",
   "execution_count": 2,
   "metadata": {},
   "outputs": [],
   "source": [
    "import nltk\n",
    "from nltk.corpus import stopwords\n",
    "from nltk.tokenize import word_tokenize\n",
    "from langchain_community.llms import Ollama"
   ]
  },
  {
   "cell_type": "code",
   "execution_count": 3,
   "metadata": {},
   "outputs": [],
   "source": [
    "# Ollama instance\n",
    "llm = Ollama(model=\"llama3.1\", temperature=0, base_url=\"http://localhost:11434\", verbose=False)"
   ]
  },
  {
   "cell_type": "code",
   "execution_count": 4,
   "metadata": {},
   "outputs": [],
   "source": [
    "from langchain.docstore.document import Document as LangchainDocument\n",
    "from langchain_community.embeddings import OllamaEmbeddings\n",
    "from langchain_experimental.text_splitter import SemanticChunker\n",
    "from llmsherpa.readers import LayoutPDFReader\n",
    "\n",
    "config = {\n",
    "    \"nlm_url\": \"http://localhost:5001/api/parseDocument?renderFormat=all&applyOcr=yes&useNewIndentParser=yes\",\n",
    "}\n",
    "\n",
    "def parent_chain(node):\n",
    "    \"\"\"\n",
    "    Returns the parent chain of the block consisting of all the parents of the block until the root.\n",
    "    \"\"\"\n",
    "    chain = []\n",
    "    parent = node.parent\n",
    "    while parent:\n",
    "        chain.append(parent)\n",
    "        parent = parent.parent\n",
    "    chain.reverse()\n",
    "    return chain\n",
    "\n",
    "def parent_text(node):\n",
    "    \"\"\"\n",
    "    Returns the text of the parent chain of the block. This is useful for adding section information to the text.\n",
    "    \"\"\"\n",
    "    chain = parent_chain(node)\n",
    "    header_texts = []\n",
    "    para_texts = []\n",
    "    for p in chain:\n",
    "        if p.tag == \"header\":\n",
    "            header_texts.append(p.to_text()) \n",
    "        elif p.tag in ['list_item', 'para']:\n",
    "            para_texts.append(p.to_text())\n",
    "    text = \"\\n>\\n\".join(header_texts)\n",
    "    if len(para_texts) > 0:\n",
    "        text +=\"\\n\\n\".join(para_texts)\n",
    "    return text\n",
    "   \n",
    "def to_context_text(node, include_section_info=True):\n",
    "    \"\"\"\n",
    "    This is a customised function largely derived from layout_reader.py of the llmsherpa library\n",
    "    Returns the text of the block with section information. This provides context to the text.\n",
    "    \"\"\"\n",
    "    text = \"Metadata:\\n\"\n",
    "    if include_section_info and parent_text(node) != \"\":\n",
    "        text += parent_text(node) + \"  >\\n\"\n",
    "    text += \"Content:\\n\"\n",
    "    if node.tag in ['list_item', 'para']:\n",
    "        text += node.to_text(include_children=True, recurse=True)\n",
    "    elif node.tag == 'table':\n",
    "        text += node.to_html()\n",
    "    else:\n",
    "        text += node.to_text(include_children=True, recurse=True)\n",
    "    return text\n",
    "\n",
    "def is_use_semantic_chunking(leaf_nodes):\n",
    "    # Returns true if more than 50% of paragraphs have only one line\n",
    "    count = 0\n",
    "    num_paras = len([node for node in leaf_nodes if node.tag == \"para\"])\n",
    "    \n",
    "    for node in leaf_nodes:\n",
    "        if node.tag == \"para\":\n",
    "            txt = node.to_text().strip()\n",
    "\n",
    "            lines = txt.split(\"\\n\")\n",
    "            if len(lines) == 1:\n",
    "                count += 1\n",
    "                # print(\"Single line para:\", txt)\n",
    "\n",
    "    print(\"Number of single line para:\", count)\n",
    "    print(\"Number of paragraphs:\", num_paras)\n",
    "    return count > num_paras/2\n",
    "\n",
    "def find_leaf_nodes(node, leaf_nodes=None):\n",
    "    if leaf_nodes is None:\n",
    "        leaf_nodes = []\n",
    "\n",
    "    if len(node.children) == 0:\n",
    "        leaf_nodes.append(node)\n",
    "    for child in node.children:\n",
    "        find_leaf_nodes(child, leaf_nodes)\n",
    "\n",
    "    return leaf_nodes\n",
    "\n",
    "def docParser(file_path, st=None, tenant_id=None, visualise_chunking=False, layout_reader=None, prev_leaf_node=None):\n",
    "    print(\"run\")\n",
    "    layout_root = None\n",
    "\n",
    "    try:\n",
    "        reader = LayoutPDFReader(config[\"nlm_url\"]) if layout_reader is None else layout_reader\n",
    "        try:\n",
    "            print(\"Reading file:\", file_path)\n",
    "            # Instead of giving by file_path, give as bytes instead\n",
    "            with open(file_path, \"rb\") as f:\n",
    "                file_in_bytes = f.read()\n",
    "            parsed_doc = reader.read_pdf(file_path, contents=file_in_bytes)\n",
    "        except FileNotFoundError:\n",
    "            if st is not None:\n",
    "                st.error(f\"File {file_path} not found.\")\n",
    "            print(f\"File {file_path} not found.\")\n",
    "            return []\n",
    "        layout_root = parsed_doc.root_node\n",
    "    except Exception as e:\n",
    "        if st is not None:\n",
    "            st.error(\"Error:\", e)\n",
    "        print(\"Error:\", e)\n",
    "\n",
    "    leaf_nodes = find_leaf_nodes(layout_root)\n",
    "    if prev_leaf_node is not None:\n",
    "        if prev_leaf_node == leaf_nodes:\n",
    "            prev_leaf_node = leaf_nodes\n",
    "            print(\"Same leaf nodes\")\n",
    "        else:\n",
    "            print(\"Different leaf nodes\")\n",
    "            print(prev_leaf_node[-1].to_text())\n",
    "            print(leaf_nodes[-1].to_text())\n",
    "\n",
    "    if is_use_semantic_chunking(leaf_nodes):\n",
    "        # Perform semantic chunking\n",
    "\n",
    "        ## Load embeddings\n",
    "        embeddings = OllamaEmbeddings(\n",
    "            base_url=config[\"ollama_base_url\"],\t\n",
    "            model=config[\"llm_name\"]\n",
    "        )\n",
    "        ## Chunk documents using semantic chunker\n",
    "        text_splitter = SemanticChunker(\n",
    "            embeddings, breakpoint_threshold_type=\"percentile\"\n",
    "        )\n",
    "\n",
    "        full_text = \"\"\n",
    "        for child in layout_root.children:\n",
    "            full_text += child.to_text(include_children=True, recurse=True) + \"\\n\"\n",
    "\n",
    "        docs = text_splitter.create_documents([full_text])\n",
    "    else:\n",
    "        print(\"Using llmsherpa\")\n",
    "        # Use chunks from llmsherpa\n",
    "        # Each chunk is each leaf_node with to_context_text()\n",
    "        collated_pg_content = [to_context_text(node) for node in leaf_nodes]\n",
    "        print(\"REMOVE:\", collated_pg_content[0])\n",
    "\n",
    "        # Convert to Langchain documents\n",
    "        docs = [LangchainDocument(page_content=collated_pg_content[i], metadata={key: leaf_nodes[i].block_json[key] for key in ('bbox', 'page_idx', 'level')} | {\"file_path\": file_path}) for i in range(len(collated_pg_content))]\n",
    "\n",
    "    return (docs, prev_leaf_node)"
   ]
  },
  {
   "cell_type": "markdown",
   "metadata": {},
   "source": [
    "Parse Document into LangChain Document format"
   ]
  },
  {
   "cell_type": "code",
   "execution_count": 5,
   "metadata": {},
   "outputs": [],
   "source": [
    "docs_path = [\"/home/jianyang/local-llm/topic-modelling/documents/amazon_report.pdf\", \"/home/jianyang/local-llm/topic-modelling/documents/Alibaba.pdf\"]\t"
   ]
  },
  {
   "cell_type": "code",
   "execution_count": 6,
   "metadata": {},
   "outputs": [],
   "source": [
    "def parseAllDocs(docs_path):\n",
    "\n",
    "    docs = []\n",
    "    prev_leaf_node = None\n",
    "    for doc in docs_path:\n",
    "        print(f\"Parsing document: {doc}\")\n",
    "        new_docs, prev_leaf_node = docParser(doc, layout_reader=LayoutPDFReader(config[\"nlm_url\"]), prev_leaf_node=prev_leaf_node)\n",
    "        docs.extend(new_docs)\n",
    "        print(\"Document parsed successfully.\", end=\"\\n\\n\")\n",
    "\n",
    "    return docs"
   ]
  },
  {
   "cell_type": "code",
   "execution_count": 7,
   "metadata": {},
   "outputs": [
    {
     "name": "stdout",
     "output_type": "stream",
     "text": [
      "Parsing document: /home/jianyang/local-llm/topic-modelling/documents/amazon_report.pdf\n",
      "run\n",
      "Reading file: /home/jianyang/local-llm/topic-modelling/documents/amazon_report.pdf\n",
      "Number of single line para: 26\n",
      "Number of paragraphs: 104\n",
      "Using llmsherpa\n",
      "REMOVE: Metadata:\n",
      "Content:\n",
      "amazon\n",
      "Document parsed successfully.\n",
      "\n",
      "Parsing document: /home/jianyang/local-llm/topic-modelling/documents/Alibaba.pdf\n",
      "run\n",
      "Reading file: /home/jianyang/local-llm/topic-modelling/documents/Alibaba.pdf\n",
      "Number of single line para: 0\n",
      "Number of paragraphs: 48\n",
      "Using llmsherpa\n",
      "REMOVE: Metadata:\n",
      "Introduction  >\n",
      "Content:\n",
      " \n",
      " \n",
      "  Patrick   \n",
      " \n",
      ":      [00:01:53]      Hello.\n",
      "Welcome      to      Business      Breakdowns  \n",
      " \n",
      ".      I\\\\\\'myour      host      Patrick      O\\\\\\'Shaughnessy  \n",
      " \n",
      ".      Today      we\\\\\\'ll      be      breaking  \n",
      " \n",
      "  down      the      world\\\\\\'s      largest      e-commerce      company   \n",
      " \n",
      ",      Alibaba.\n",
      "Alibaba      was      founded      in      1997      by      Jack      Maand      almost      20      other      co-  \n",
      " \n",
      "  founders   \n",
      " \n",
      ",      as      an      online      bulletin      board      that      allowed      small      Chinese      manufacturers      to      tel      buyers      around      the      world      that      they  \n",
      " \n",
      "  were      open      for      business  \n",
      " \n",
      ".      Today,      Alibaba      operates      asprawling      ecosystem      of      businesses      that      includes      e-commerce  \n",
      " \n",
      "  marketplaces   \n",
      " \n",
      ",      cloud      computing   \n",
      " \n",
      ",      food      delivery,      logistics   \n",
      " \n",
      ",      and      financial      services     .Inthis      Breakdown   \n",
      " \n",
      ",      we      discuss      the  \n",
      " \n",
      "  staggering      scale      of      Alibaba\\\\\\'s      business   \n",
      " \n",
      ",      how      Alibaba      went      from      copycat      to      innovator   \n",
      " \n",
      ",      and      the      looming      threat      of      the      next  \n",
      " \n",
      "  generation      of      Chinese      juggernauts   \n",
      " \n",
      ",      and      how      competition      is      viewed      differently      in      China      versus      the      West.\n",
      "For      this      episode   \n",
      " \n",
      ",      I\\\\\\'m  \n",
      " \n",
      "  joined      by      aspecial      guest      host   \n",
      " \n",
      ",      Claire      Cormier      Thiedke,      who      many      of      you      will      remember      from      her      appearance      on      Invest      like  \n",
      " \n",
      "  the      Best  \n",
      " \n",
      ".      Claire      is      the      managing      director      of      Asia      Pacific      for      Hines      and      brings      her      firsthand      view      of      what      Alibaba      has      built      in  \n",
      " \n",
      "  China,      and      her      daily      experience      using      the      company\\\\\\'s      products  \n",
      " \n",
      ".      Tohelp      us      break      down      Alibaba,      we\\\\\\'re      joined      by      Ram  \n",
      " \n",
      "  Parameswaran      ,the      founder      and      managing      partner      of      investment      firm      Octahedron      Capital.\n",
      "Ram      has      invested      in      some      of      the  \n",
      " \n",
      "  biggest      Chinese      companies      of      the      past      decade   \n",
      " \n",
      ",      including      Pinduoduo      and      ByteDance   \n",
      " \n",
      ",      and      is      the      first      person   \n",
      " \n",
      "|      thought      of  \n",
      " \n",
      "  when      wanting      to      breakdown      Alibaba.\n",
      " \n",
      " \n",
      "!      hope      you      enjoy      this      Business      Breakdown     .\n",
      "Document parsed successfully.\n",
      "\n"
     ]
    }
   ],
   "source": [
    "docs = parseAllDocs(docs_path)"
   ]
  },
  {
   "cell_type": "code",
   "execution_count": 8,
   "metadata": {},
   "outputs": [
    {
     "data": {
      "text/plain": [
       "[]"
      ]
     },
     "execution_count": 8,
     "metadata": {},
     "output_type": "execute_result"
    }
   ],
   "source": [
    "[doc for doc in docs if \"state_of_union\" in doc.metadata[\"file_path\"]][:3]"
   ]
  },
  {
   "cell_type": "code",
   "execution_count": 9,
   "metadata": {},
   "outputs": [
    {
     "data": {
      "text/plain": [
       "[Document(page_content='Metadata:\\nContent:\\namazon', metadata={'bbox': [199.68, 73.22, 199.68, 85.22], 'page_idx': 0, 'level': 0, 'file_path': '/home/jianyang/local-llm/topic-modelling/documents/amazon_report.pdf'}),\n",
       " Document(page_content='Metadata:\\nAMAZON.COM      ANNOUNCES      FIRST      QUARTER      RESULTS  >\\nContent:\\nSEATTLE—(BUSINESS      WIRE)      April      30,      2024—Amazon.com,      Inc.      (NASDAQ:      AMZN)      today      announced      financial      results  \\n \\n  for      its      first      quarter      ended      March      31,      2024.', metadata={'bbox': [49.92, 195.42, 525.6, 219.42], 'page_idx': 0, 'level': 1, 'file_path': '/home/jianyang/local-llm/topic-modelling/documents/amazon_report.pdf'}),\n",
       " Document(page_content='Metadata:\\nAMAZON.COM      ANNOUNCES      FIRST      QUARTER      RESULTS  >\\nContent:\\n \\n \\n \\n¢      Net      sales      increased      13%      to      $143.3      billion      in      the      first      quarter,      compared      with      $127.4      billion      in      first      quarter      2023.  \\n \\n  Excluding      the      $0.2      billion      unfavorable      impact      from      year-over-year      changes      in      foreign      exchange      rates      throughout      the  \\n \\n  quarter,      net      sales      increased      13%      compared      with      first      quarter      2023.', metadata={'bbox': [68.16, 241.03, 539.76, 277.28], 'page_idx': 0, 'level': 1, 'file_path': '/home/jianyang/local-llm/topic-modelling/documents/amazon_report.pdf'})]"
      ]
     },
     "execution_count": 9,
     "metadata": {},
     "output_type": "execute_result"
    }
   ],
   "source": [
    "docs[:3]"
   ]
  },
  {
   "cell_type": "markdown",
   "metadata": {},
   "source": [
    "Remove stopwords"
   ]
  },
  {
   "cell_type": "code",
   "execution_count": 10,
   "metadata": {},
   "outputs": [
    {
     "name": "stderr",
     "output_type": "stream",
     "text": [
      "[nltk_data] Downloading package stopwords to\n",
      "[nltk_data]     /home/jianyang/nltk_data...\n",
      "[nltk_data]   Package stopwords is already up-to-date!\n"
     ]
    },
    {
     "data": {
      "text/plain": [
       "True"
      ]
     },
     "execution_count": 10,
     "metadata": {},
     "output_type": "execute_result"
    }
   ],
   "source": [
    "# Download stopwords if not already downloaded\n",
    "nltk.download('stopwords')"
   ]
  },
  {
   "cell_type": "code",
   "execution_count": 11,
   "metadata": {},
   "outputs": [],
   "source": [
    "# pre-process documents\n",
    "# docs_str = [doc.page_content for doc in docs]\n",
    "docs_str = []\n",
    "stop_words = set(stopwords.words('english'))\n",
    "\n",
    "for doc in docs:\n",
    "    # Remove stop words\n",
    "    # Only referencing the page_content\n",
    "    text = doc.page_content\n",
    "    tokens = word_tokenize(text)\n",
    "    temp_filtered_text = [word for word in tokens if word.casefold() not in stop_words]\n",
    "    # ignore all instances of the word Metadata or Content\n",
    "    temp_filtered_text = [word for word in temp_filtered_text if word.casefold() not in [\"metadata\", \"content\"]]\n",
    "    filtered_text = \" \".join(temp_filtered_text)\n",
    "    docs_str.append(filtered_text)\n"
   ]
  },
  {
   "cell_type": "code",
   "execution_count": 12,
   "metadata": {},
   "outputs": [
    {
     "data": {
      "text/plain": [
       "[': : amazon',\n",
       " ': AMAZON.COM ANNOUNCES FIRST QUARTER RESULTS > : SEATTLE— ( BUSINESS WIRE ) April 30 , 2024—Amazon.com , Inc. ( NASDAQ : AMZN ) today announced financial results first quarter ended March 31 , 2024 .',\n",
       " ': AMAZON.COM ANNOUNCES FIRST QUARTER RESULTS > : ¢ Net sales increased 13 % $ 143.3 billion first quarter , compared $ 127.4 billion first quarter 2023 . Excluding $ 0.2 billion unfavorable impact year-over-year changes foreign exchange rates throughout quarter , net sales increased 13 % compared first quarter 2023 .']"
      ]
     },
     "execution_count": 12,
     "metadata": {},
     "output_type": "execute_result"
    }
   ],
   "source": [
    "docs_str[:3]"
   ]
  },
  {
   "cell_type": "code",
   "execution_count": 13,
   "metadata": {},
   "outputs": [
    {
     "data": {
      "text/plain": [
       "[Document(page_content='Metadata:\\nContent:\\namazon', metadata={'bbox': [199.68, 73.22, 199.68, 85.22], 'page_idx': 0, 'level': 0, 'file_path': '/home/jianyang/local-llm/topic-modelling/documents/amazon_report.pdf'}),\n",
       " Document(page_content='Metadata:\\nAMAZON.COM      ANNOUNCES      FIRST      QUARTER      RESULTS  >\\nContent:\\nSEATTLE—(BUSINESS      WIRE)      April      30,      2024—Amazon.com,      Inc.      (NASDAQ:      AMZN)      today      announced      financial      results  \\n \\n  for      its      first      quarter      ended      March      31,      2024.', metadata={'bbox': [49.92, 195.42, 525.6, 219.42], 'page_idx': 0, 'level': 1, 'file_path': '/home/jianyang/local-llm/topic-modelling/documents/amazon_report.pdf'}),\n",
       " Document(page_content='Metadata:\\nAMAZON.COM      ANNOUNCES      FIRST      QUARTER      RESULTS  >\\nContent:\\n \\n \\n \\n¢      Net      sales      increased      13%      to      $143.3      billion      in      the      first      quarter,      compared      with      $127.4      billion      in      first      quarter      2023.  \\n \\n  Excluding      the      $0.2      billion      unfavorable      impact      from      year-over-year      changes      in      foreign      exchange      rates      throughout      the  \\n \\n  quarter,      net      sales      increased      13%      compared      with      first      quarter      2023.', metadata={'bbox': [68.16, 241.03, 539.76, 277.28], 'page_idx': 0, 'level': 1, 'file_path': '/home/jianyang/local-llm/topic-modelling/documents/amazon_report.pdf'})]"
      ]
     },
     "execution_count": 13,
     "metadata": {},
     "output_type": "execute_result"
    }
   ],
   "source": [
    "docs[:3]"
   ]
  },
  {
   "cell_type": "markdown",
   "metadata": {},
   "source": [
    "Initialise [BERTopic Model](https://maartengr.github.io/BERTopic/algorithm/algorithm.html)"
   ]
  },
  {
   "cell_type": "code",
   "execution_count": 14,
   "metadata": {},
   "outputs": [
    {
     "name": "stderr",
     "output_type": "stream",
     "text": [
      "/home/jianyang/miniconda3/envs/local-llm/lib/python3.9/site-packages/tqdm/auto.py:22: TqdmWarning: IProgress not found. Please update jupyter and ipywidgets. See https://ipywidgets.readthedocs.io/en/stable/user_install.html\n",
      "  from .autonotebook import tqdm as notebook_tqdm\n",
      "/home/jianyang/miniconda3/envs/local-llm/lib/python3.9/site-packages/torchvision/io/image.py:13: UserWarning: Failed to load image Python extension: /home/jianyang/miniconda3/envs/local-llm/lib/python3.9/site-packages/torchvision/image.so: undefined symbol: _ZN3c1017RegisterOperatorsD1Ev\n",
      "  warn(f\"Failed to load image Python extension: {e}\")\n"
     ]
    }
   ],
   "source": [
    "# Taken from tutorial\n",
    "from umap import UMAP\n",
    "from hdbscan import HDBSCAN\n",
    "from sentence_transformers import SentenceTransformer\n",
    "from sklearn.feature_extraction.text import CountVectorizer\n",
    "\n",
    "from bertopic import BERTopic\n",
    "from bertopic.representation import KeyBERTInspired\n",
    "from bertopic.vectorizers import ClassTfidfTransformer\n",
    "\n",
    "\n",
    "# Step 1 - Extract embeddings\n",
    "embedding_model = SentenceTransformer(\"all-MiniLM-L6-v2\")\n",
    "\n",
    "# Step 2 - Reduce dimensionality\n",
    "umap_model = UMAP(n_neighbors=10, n_components=5, min_dist=0.0, metric='cosine')\n",
    "\n",
    "# Step 3 - Cluster reduced embeddings\n",
    "hdbscan_model = HDBSCAN(min_cluster_size=5, metric='euclidean', cluster_selection_method='eom', prediction_data=True)\n",
    "\n",
    "# Step 4 - Tokenize topics\n",
    "vectorizer_model = CountVectorizer(stop_words=\"english\")\n",
    "\n",
    "# Step 5 - Create topic representation\n",
    "ctfidf_model = ClassTfidfTransformer()\n",
    "\n",
    "# Step 6 - (Optional) Fine-tune topic representations with \n",
    "# a `bertopic.representation` model\n",
    "representation_model = KeyBERTInspired()\n",
    "\n",
    "# All steps together\n",
    "topic_model = BERTopic(\n",
    "  min_topic_size=3,                          # Minimum size of the topic\n",
    "  embedding_model=embedding_model,          # Step 1 - Extract embeddings\n",
    "  umap_model=umap_model,                    # Step 2 - Reduce dimensionality\n",
    "  hdbscan_model=hdbscan_model,              # Step 3 - Cluster reduced embeddings\n",
    "  vectorizer_model=vectorizer_model,        # Step 4 - Tokenize topics\n",
    "  ctfidf_model=ctfidf_model,                # Step 5 - Extract topic words\n",
    "  representation_model=representation_model # Step 6 - (Optional) Fine-tune topic represenations\n",
    ")\n"
   ]
  },
  {
   "cell_type": "code",
   "execution_count": 15,
   "metadata": {},
   "outputs": [
    {
     "name": "stderr",
     "output_type": "stream",
     "text": [
      "/home/jianyang/miniconda3/envs/local-llm/lib/python3.9/site-packages/numba/np/ufunc/parallel.py:371: NumbaWarning: The TBB threading layer requires TBB version 2021 update 6 or later i.e., TBB_INTERFACE_VERSION >= 12060. Found TBB_INTERFACE_VERSION = 12050. The TBB threading layer is disabled.\n",
      "  warnings.warn(problem)\n",
      "OMP: Info #276: omp_set_nested routine deprecated, please use omp_set_max_active_levels instead.\n"
     ]
    }
   ],
   "source": [
    "topics, _ = topic_model.fit_transform(docs_str)"
   ]
  },
  {
   "cell_type": "code",
   "execution_count": 16,
   "metadata": {},
   "outputs": [
    {
     "data": {
      "text/html": [
       "<div>\n",
       "<style scoped>\n",
       "    .dataframe tbody tr th:only-of-type {\n",
       "        vertical-align: middle;\n",
       "    }\n",
       "\n",
       "    .dataframe tbody tr th {\n",
       "        vertical-align: top;\n",
       "    }\n",
       "\n",
       "    .dataframe thead th {\n",
       "        text-align: right;\n",
       "    }\n",
       "</style>\n",
       "<table border=\"1\" class=\"dataframe\">\n",
       "  <thead>\n",
       "    <tr style=\"text-align: right;\">\n",
       "      <th></th>\n",
       "      <th>Topic</th>\n",
       "      <th>Count</th>\n",
       "      <th>Name</th>\n",
       "      <th>Representation</th>\n",
       "      <th>Representative_Docs</th>\n",
       "    </tr>\n",
       "  </thead>\n",
       "  <tbody>\n",
       "    <tr>\n",
       "      <th>0</th>\n",
       "      <td>-1</td>\n",
       "      <td>2</td>\n",
       "      <td>-1_report_references_annual_2020</td>\n",
       "      <td>[report, references, annual, 2020, seller, sel...</td>\n",
       "      <td>[: : Source : 2020 Annual Report, : Y/Y % &gt; Ce...</td>\n",
       "    </tr>\n",
       "    <tr>\n",
       "      <th>1</th>\n",
       "      <td>0</td>\n",
       "      <td>94</td>\n",
       "      <td>0_income_amazon_aws_sales</td>\n",
       "      <td>[income, amazon, aws, sales, billion, quarter,...</td>\n",
       "      <td>[: AMAZON.COM ANNOUNCES FIRST QUARTER RESULTS ...</td>\n",
       "    </tr>\n",
       "    <tr>\n",
       "      <th>2</th>\n",
       "      <td>1</td>\n",
       "      <td>48</td>\n",
       "      <td>1_alibaba_commerce_business_companies</td>\n",
       "      <td>[alibaba, commerce, business, companies, merch...</td>\n",
       "      <td>[: Massive Scale Alibaba &gt; : [ 00 :07 :21 ] Ye...</td>\n",
       "    </tr>\n",
       "    <tr>\n",
       "      <th>3</th>\n",
       "      <td>2</td>\n",
       "      <td>15</td>\n",
       "      <td>2_amazon_march_diluted_2023</td>\n",
       "      <td>[amazon, march, diluted, 2023, quarter, 2024, ...</td>\n",
       "      <td>[: AMAZON.COM ANNOUNCES FIRST QUARTER RESULTS ...</td>\n",
       "    </tr>\n",
       "    <tr>\n",
       "      <th>4</th>\n",
       "      <td>3</td>\n",
       "      <td>15</td>\n",
       "      <td>3_financing_repayments_leases_finance</td>\n",
       "      <td>[financing, repayments, leases, finance, incom...</td>\n",
       "      <td>[: Y/Y % &gt; : ( 4 ) Free cash flow less princip...</td>\n",
       "    </tr>\n",
       "    <tr>\n",
       "      <th>5</th>\n",
       "      <td>4</td>\n",
       "      <td>9</td>\n",
       "      <td>4_stockholders_liabilities_equity_earnings</td>\n",
       "      <td>[stockholders, liabilities, equity, earnings, ...</td>\n",
       "      <td>[: LIABILITIES STOCKHOLDERS ’ EQUITY &gt; : Accou...</td>\n",
       "    </tr>\n",
       "    <tr>\n",
       "      <th>6</th>\n",
       "      <td>5</td>\n",
       "      <td>6</td>\n",
       "      <td>5_aws_2023_months_march</td>\n",
       "      <td>[aws, 2023, months, march, 032, 2024, 037, 247...</td>\n",
       "      <td>[: AWS &gt; Three Months Ended March 31 , 2023 20...</td>\n",
       "    </tr>\n",
       "  </tbody>\n",
       "</table>\n",
       "</div>"
      ],
      "text/plain": [
       "   Topic  Count                                        Name  \\\n",
       "0     -1      2            -1_report_references_annual_2020   \n",
       "1      0     94                   0_income_amazon_aws_sales   \n",
       "2      1     48       1_alibaba_commerce_business_companies   \n",
       "3      2     15                 2_amazon_march_diluted_2023   \n",
       "4      3     15       3_financing_repayments_leases_finance   \n",
       "5      4      9  4_stockholders_liabilities_equity_earnings   \n",
       "6      5      6                     5_aws_2023_months_march   \n",
       "\n",
       "                                      Representation  \\\n",
       "0  [report, references, annual, 2020, seller, sel...   \n",
       "1  [income, amazon, aws, sales, billion, quarter,...   \n",
       "2  [alibaba, commerce, business, companies, merch...   \n",
       "3  [amazon, march, diluted, 2023, quarter, 2024, ...   \n",
       "4  [financing, repayments, leases, finance, incom...   \n",
       "5  [stockholders, liabilities, equity, earnings, ...   \n",
       "6  [aws, 2023, months, march, 032, 2024, 037, 247...   \n",
       "\n",
       "                                 Representative_Docs  \n",
       "0  [: : Source : 2020 Annual Report, : Y/Y % > Ce...  \n",
       "1  [: AMAZON.COM ANNOUNCES FIRST QUARTER RESULTS ...  \n",
       "2  [: Massive Scale Alibaba > : [ 00 :07 :21 ] Ye...  \n",
       "3  [: AMAZON.COM ANNOUNCES FIRST QUARTER RESULTS ...  \n",
       "4  [: Y/Y % > : ( 4 ) Free cash flow less princip...  \n",
       "5  [: LIABILITIES STOCKHOLDERS ’ EQUITY > : Accou...  \n",
       "6  [: AWS > Three Months Ended March 31 , 2023 20...  "
      ]
     },
     "execution_count": 16,
     "metadata": {},
     "output_type": "execute_result"
    }
   ],
   "source": [
    "topic_model.get_topic_info()"
   ]
  },
  {
   "cell_type": "code",
   "execution_count": 17,
   "metadata": {},
   "outputs": [
    {
     "data": {
      "text/plain": [
       "plotly.graph_objs._figure.Figure"
      ]
     },
     "execution_count": 17,
     "metadata": {},
     "output_type": "execute_result"
    }
   ],
   "source": [
    "type(topic_model.visualize_topics())"
   ]
  },
  {
   "cell_type": "code",
   "execution_count": 18,
   "metadata": {},
   "outputs": [],
   "source": [
    "def get_chunks_from_topic(topic_id, topic_model, docs_str, docs):\n",
    "    \"\"\"\n",
    "    docs_str - list of strings\n",
    "    docs - list of Langchain Document objects\n",
    "    \"\"\"\n",
    "    temp = topic_model.get_document_info(docs_str)[\"Topic\"] == topic_id\n",
    "    # print(temp)\n",
    "    df = topic_model.get_document_info(docs_str)[temp]\n",
    "    # get list of all index\n",
    "    doc_index = df.index.tolist()\n",
    "    return [docs[i] for i in doc_index]\n",
    "    # return df[\"Document\"]"
   ]
  },
  {
   "cell_type": "code",
   "execution_count": 19,
   "metadata": {},
   "outputs": [
    {
     "data": {
      "text/plain": [
       "[Document(page_content='Metadata:\\nContent:\\namazon', metadata={'bbox': [199.68, 73.22, 199.68, 85.22], 'page_idx': 0, 'level': 0, 'file_path': '/home/jianyang/local-llm/topic-modelling/documents/amazon_report.pdf'}),\n",
       " Document(page_content='Metadata:\\nAMAZON.COM      ANNOUNCES      FIRST      QUARTER      RESULTS  >\\nContent:\\nSEATTLE—(BUSINESS      WIRE)      April      30,      2024—Amazon.com,      Inc.      (NASDAQ:      AMZN)      today      announced      financial      results  \\n \\n  for      its      first      quarter      ended      March      31,      2024.', metadata={'bbox': [49.92, 195.42, 525.6, 219.42], 'page_idx': 0, 'level': 1, 'file_path': '/home/jianyang/local-llm/topic-modelling/documents/amazon_report.pdf'}),\n",
       " Document(page_content='Metadata:\\nAMAZON.COM      ANNOUNCES      FIRST      QUARTER      RESULTS  >\\nContent:\\n \\n \\n \\n¢      Net      sales      increased      13%      to      $143.3      billion      in      the      first      quarter,      compared      with      $127.4      billion      in      first      quarter      2023.  \\n \\n  Excluding      the      $0.2      billion      unfavorable      impact      from      year-over-year      changes      in      foreign      exchange      rates      throughout      the  \\n \\n  quarter,      net      sales      increased      13%      compared      with      first      quarter      2023.', metadata={'bbox': [68.16, 241.03, 539.76, 277.28], 'page_idx': 0, 'level': 1, 'file_path': '/home/jianyang/local-llm/topic-modelling/documents/amazon_report.pdf'}),\n",
       " Document(page_content='Metadata:\\nAMAZON.COM      ANNOUNCES      FIRST      QUARTER      RESULTS  >\\nContent:\\n*\\n \\n   North      America      segment      sales      increased      12%      year-over-year      to      $86.3      billion.', metadata={'bbox': [104.16, 282.09, 399.6, 294.09], 'page_idx': 0, 'level': 2, 'file_path': '/home/jianyang/local-llm/topic-modelling/documents/amazon_report.pdf'}),\n",
       " Document(page_content='Metadata:\\nAMAZON.COM      ANNOUNCES      FIRST      QUARTER      RESULTS¢\\n \\n   International      segment      sales      increased      10%      year-over-year      to      $31.9      billion,      or      increased      11%      excluding  \\n \\n  changes      in      foreign      exchange      rates.  >\\nContent:\\n*\\n \\n   AWS      segment      sales      increased      17%      year-over-year      to      $25.0      billion.', metadata={'bbox': [104.16, 328.18, 361.43999999999994, 340.18], 'page_idx': 0, 'level': 2, 'file_path': '/home/jianyang/local-llm/topic-modelling/documents/amazon_report.pdf'}),\n",
       " Document(page_content='Metadata:\\nAMAZON.COM      ANNOUNCES      FIRST      QUARTER      RESULTS  >\\nContent:\\n¢\\n \\n   Operating      income      increased      to      $15.3      billion      in      the      first      quarter,      compared      with      $4.8      billion      in      first      quarter      2023.', metadata={'bbox': [68.16, 345.22, 516.48, 357.22], 'page_idx': 0, 'level': 1, 'file_path': '/home/jianyang/local-llm/topic-modelling/documents/amazon_report.pdf'}),\n",
       " Document(page_content='Metadata:\\nAMAZON.COM      ANNOUNCES      FIRST      QUARTER      RESULTS  >\\nContent:\\n*\\n \\n   North      America      segment      operating      income      was      $5.0      billion,      compared      with      operating      income      of      $0.9      billion  \\n \\n  in      first      quarter      2023.', metadata={'bbox': [104.16, 362.27, 526.56, 386.51], 'page_idx': 0, 'level': 2, 'file_path': '/home/jianyang/local-llm/topic-modelling/documents/amazon_report.pdf'}),\n",
       " Document(page_content='Metadata:\\nAMAZON.COM      ANNOUNCES      FIRST      QUARTER      RESULTS  >\\nContent:\\n¢\\n \\n   International      segment      operating      income      was      $0.9      billion,      compared      with      an      operating      loss      of      $1.2      billion      in  \\n \\n  first      quarter      2023.', metadata={'bbox': [104.16, 391.08, 544.08, 415.32], 'page_idx': 0, 'level': 2, 'file_path': '/home/jianyang/local-llm/topic-modelling/documents/amazon_report.pdf'}),\n",
       " Document(page_content='Metadata:\\nAMAZON.COM      ANNOUNCES      FIRST      QUARTER      RESULTS  >\\nContent:\\n¢«      AWS      segment      operating      income      was      $9.4      billion,      compared      with      operating      income      of      $5.1      billion      in      first  \\n \\n  quarter      2023.', metadata={'bbox': [104.16, 420.13, 527.52, 444.61], 'page_idx': 0, 'level': 2, 'file_path': '/home/jianyang/local-llm/topic-modelling/documents/amazon_report.pdf'}),\n",
       " Document(page_content='Metadata:\\nAMAZON.COM      ANNOUNCES      FIRST      QUARTER      RESULTS  >\\nContent:\\n¢\\n \\n   Net      income      increased      to      $10.4      billion      in      the      first      quarter,      or      $0.98      per      diluted      share,      compared      with      $3.2      billion,      or  \\n \\n  $0.31      per      diluted      share,      in      first      quarter      2023.', metadata={'bbox': [68.16, 449.18, 537.84, 473.18], 'page_idx': 0, 'level': 1, 'file_path': '/home/jianyang/local-llm/topic-modelling/documents/amazon_report.pdf'}),\n",
       " Document(page_content='Metadata:\\nAMAZON.COM      ANNOUNCES      FIRST      QUARTER      RESULTS  >\\nContent:\\n \\n \\n \\n¢      First      quarter      2024      net      income      includes   \\n \\na      pre-tax      valuation      loss      of      $2.0      billion      included      in      non-operating  \\n \\n  expense      from      the      common      stock      investment      in      Rivian      Automotive,      Inc.,      compared      to   \\n \\na      pre-tax      valuation      loss  \\n \\n  of      $0.5      billion      from      the      investment      in      first      quarter      2023.', metadata={'bbox': [104.16, 478.22, 542.4, 514.23], 'page_idx': 0, 'level': 1, 'file_path': '/home/jianyang/local-llm/topic-modelling/documents/amazon_report.pdf'}),\n",
       " Document(page_content='Metadata:\\nAMAZON.COM      ANNOUNCES      FIRST      QUARTER      RESULTS  >\\nContent:\\n*\\n \\n   Operating      cash      flow      increased      82%      to      $99.1      billion      for      the      trailing      twelve      months,      compared      with      $54.3      billion      for  \\n \\n  the      trailing      twelve      months      ended      March      31,      2023.', metadata={'bbox': [68.16, 519.28, 538.8, 543.52], 'page_idx': 0, 'level': 2, 'file_path': '/home/jianyang/local-llm/topic-modelling/documents/amazon_report.pdf'}),\n",
       " Document(page_content='Metadata:\\nAMAZON.COM      ANNOUNCES      FIRST      QUARTER      RESULTS  >\\nContent:\\n*\\n \\n   Free      cash      flow      improved      to      an      inflow      of      $50.1      billion      for      the      trailing      twelve      months,      compared      with      an      outflow      of  \\n \\n  $3.3      billion      for      the      trailing      twelve      months      ended      March      31,      2023.', metadata={'bbox': [68.16, 548.33, 537.36, 572.33], 'page_idx': 0, 'level': 2, 'file_path': '/home/jianyang/local-llm/topic-modelling/documents/amazon_report.pdf'}),\n",
       " Document(page_content='Metadata:\\nAMAZON.COM      ANNOUNCES      FIRST      QUARTER      RESULTS \\n \\n \\n¢      Free      cash      flow      less      principal      repayments      of      finance      leases      and      financing      obligations      improved      to      an      inflow      of  \\n \\n  $46.1      billion      for      the      trailing      twelve      months,      compared      with      an      outflow      of      $10.1      billion      for      the      trailing      twelve      months  \\n \\n  ended      March      31,      2023.  >\\nContent:\\n*\\n \\n   Free      cash      flow      less      equipment      finance      leases      and      principal      repayments      of      all      other      finance      leases      and      financing  \\n \\n  obligations      improved      to      an      inflow      of      $48.8      billion      for      the      trailing      twelve      months,      compared      with      an      outflow      of      $4.5  \\n \\n  billion      for      the      trailing      twelve      months      ended      March      31,      2023.', metadata={'bbox': [68.16, 618.67, 533.52, 654.43], 'page_idx': 0, 'level': 2, 'file_path': '/home/jianyang/local-llm/topic-modelling/documents/amazon_report.pdf'}),\n",
       " Document(page_content='Metadata:\\nAMAZON.COM      ANNOUNCES      FIRST      QUARTER      RESULTS  >\\nContent:\\n \\n \\n  “Tt      was   \\n \\na      good      start      to      the      year      across      the      business,      and      you      can      see      that      in      both      our      customer      experience      improvements      and  \\n \\n  financial      results,”      said      Andy      Jassy,      Amazon      President      and      CEO.\\n“The      combination      of      companies      renewing      their      infrastructure  \\n \\n  modernization      efforts      and      the      appeal      of      AWS’s      AI      capabilities      is      reaccelerating      AWS’s      growth      rate      (now      at   \\n \\na      $100      billion  \\n \\n  annual      revenue      run      rate);      our      Stores      business      continues      to      expand      selection,      provide      everyday      low      prices,      and      accelerate  \\n \\n  delivery      speed      (setting      another      record      on      speed      for      Prime      customers      in      Q1)      while      lowering      our      cost      to      serve;      and,      our  \\n \\n  Advertising      efforts      continue      to      benefit      from      the      growth      of      our      Stores      and      Prime      Video      businesses.\\nIt’s      very      early      days      in      all      of  \\n \\n  our      businesses      and      we      remain      excited      by      how      much      more      we      can      make      customers’      lives      better      and      easier      moving      forward.”', metadata={'bbox': [49.68, 42.73, 546.48, 126.75], 'page_idx': 1, 'level': 1, 'file_path': '/home/jianyang/local-llm/topic-modelling/documents/amazon_report.pdf'}),\n",
       " Document(page_content='Metadata:\\nAMAZON.COM      ANNOUNCES      FIRST      QUARTER      RESULTS\\n>\\nHighlights  >\\nContent:\\nObsessing      over      the      customer      experience Amazon      obsesses      over      how      to      make      customers’      lives      better      and      easier      every      day      with      new      and      improved      products      and      services.\\n \\n \\n  This      is      true      for      consumers,      sellers,      brands,      developers,      enterprises,      and      creators.\\nFor      example,      Amazon:', metadata={'bbox': [49.68, 168.77, 525.84, 210.78], 'page_idx': 1, 'level': 1, 'file_path': '/home/jianyang/local-llm/topic-modelling/documents/amazon_report.pdf'}),\n",
       " Document(page_content='Metadata:\\nAMAZON.COM      ANNOUNCES      FIRST      QUARTER      RESULTS\\n>\\nHighlights  >\\nContent:\\n*\\n \\n   Announced      that      Prime      Video      will      stream      its      first      NFL      Wild      Card      playoff      game      in      January      2025.\\nPrime      Video,      which      is  \\n \\n  home      to      Thursday      Night      Football,      will      have      exclusive      rights      to      air      an      opening      round      playoff      game.', metadata={'bbox': [68.16, 582.9, 555.6, 606.9], 'page_idx': 1, 'level': 2, 'file_path': '/home/jianyang/local-llm/topic-modelling/documents/amazon_report.pdf'}),\n",
       " Document(page_content='Metadata:\\nAMAZON.COM      ANNOUNCES      FIRST      QUARTER      RESULTS\\n>\\nHighlights  >\\nContent:\\n*\\n \\n   Earned      12      awards      for      Amazon      MGM      Studios      film      American      Fiction,      including      nine      for      Best      Adapted      Screenplay      by  \\n \\n  writer/director      Cord      Jefferson.\\nThese      include      an      Academy      Award,      BAFTA      Film      Award,      Critics      Choice      Award,      two  \\n \\n  Independent      Spirit      Awards,      and      two      Writers      Guild      of      America      Awards.', metadata={'bbox': [68.16, 611.95, 541.92, 647.95], 'page_idx': 1, 'level': 2, 'file_path': '/home/jianyang/local-llm/topic-modelling/documents/amazon_report.pdf'}),\n",
       " Document(page_content='Metadata:\\nAMAZON.COM      ANNOUNCES      FIRST      QUARTER      RESULTS\\n>\\nHighlights  >\\nContent:\\n*\\n \\n   Grew      Prime      Video’s      international      slate      of      content      with      more      than      30      local      Amazon      Originals,      including      Operacion  \\n \\n  Triunfo      (Spain),      Prime      Video’s      first      weekly      live      entertainment      show,      which      was      watched      by      more      than      3.5      million  \\n \\n  unique      viewers      in      Spain;      Indian      Police      Force      (India),      which      had      the      most      viewers      complete      the      entire      first      season      for  \\n \\n  any      Amazon      India      Original      in      its      launch      week;      and      Last      One      Laughing      (Mexico)      Season      Six,      which      is      the      longest  \\n \\n  running      edition      of      the      hit      global      franchise.', metadata={'bbox': [68.16, 653.0, 543.36, 713.01], 'page_idx': 1, 'level': 2, 'file_path': '/home/jianyang/local-llm/topic-modelling/documents/amazon_report.pdf'}),\n",
       " Document(page_content='Metadata:\\nAMAZON.COM      ANNOUNCES      FIRST      QUARTER      RESULTS\\n>\\nHighlights  >\\nContent:\\n¢\\n \\n   Shared      how      customers      and      partners      are      using      AWS      generative      artificial      intelligence      (generative      AJ)      services      to      deliver  \\n \\n  new      customer      experiences,      accelerate      employee      productivity,      and      transform      operations.', metadata={'bbox': [68.16, 718.06, 532.08, 742.06], 'page_idx': 1, 'level': 1, 'file_path': '/home/jianyang/local-llm/topic-modelling/documents/amazon_report.pdf'}),\n",
       " Document(page_content='Metadata:\\nAMAZON.COM      ANNOUNCES      FIRST      QUARTER      RESULTS\\n>\\nHighlights  >\\nContent:\\nSiemens      is      integrating      Amazon      Bedrock      into      its      low-code      development      platform      Mendix      to      allow      thousands  \\n \\n  of      companies      across      multiple      industries      to      create      and      upgrade      applications      with      the      power      of      generative      AI.', metadata={'bbox': [121.92, 42.73, 538.56, 66.74000000000001], 'page_idx': 2, 'level': 1, 'file_path': '/home/jianyang/local-llm/topic-modelling/documents/amazon_report.pdf'}),\n",
       " Document(page_content='Metadata:\\nAMAZON.COM      ANNOUNCES      FIRST      QUARTER      RESULTS\\n>\\nHighlights  >\\nContent:\\n \\n \\n  Philips      is      using      AWS      HealthImaging      and      Amazon      Bedrock      to      scale      digital      pathology,      helping      labs      and  \\n \\n  healthcare      organizations      improve      diagnostics,      increase      productivity,      accelerate      research,      and      address      complex  \\n \\n  medical      cases,      like      cancer      care.', metadata={'bbox': [121.68, 71.78, 526.56, 107.79], 'page_idx': 2, 'level': 1, 'file_path': '/home/jianyang/local-llm/topic-modelling/documents/amazon_report.pdf'}),\n",
       " Document(page_content='Metadata:\\nAMAZON.COM      ANNOUNCES      FIRST      QUARTER      RESULTS\\n>\\nHighlights  >\\nContent:\\n \\n \\n  Accenture      and      Anthropic      are      collaborating      with      AWS      to      help      organizations—especially      those      in      highly-  \\n \\n  regulated      industries      like      healthcare,      public      sector,      banking,      and      insurance—responsibly      adopt      and      scale  \\n \\n  generative      AI      technology      with      Amazon      Bedrock.\\nThis      collaboration      will      help      organizations      like      the      District  \\n \\n  of      Columbia      Department      of      Health      speed      innovation,      improve      customer      service,      and      improve      productivity,  \\n \\n  while      keeping      data      private      and      secure.', metadata={'bbox': [121.68, 112.83, 522.96, 172.85], 'page_idx': 2, 'level': 1, 'file_path': '/home/jianyang/local-llm/topic-modelling/documents/amazon_report.pdf'}),\n",
       " Document(page_content='Metadata:\\nAMAZON.COM      ANNOUNCES      FIRST      QUARTER      RESULTS\\n>\\nHighlights  >\\nContent:\\n \\n \\n  BT      Group,   \\n \\na      multinational      communications      company,      provided      Amazon   \\n \\nQ      Developer      to      1,200      of      its  \\n \\n  engineers,      generating      more      than      100,000      lines      of      code      in      its      first      four      months      and      automating      approximately  \\n \\n  12%      of      the      repetitive      and      time-consuming      work      done      by      software      engineers      using      the      platform.', metadata={'bbox': [121.68, 177.89, 514.8, 213.9], 'page_idx': 2, 'level': 1, 'file_path': '/home/jianyang/local-llm/topic-modelling/documents/amazon_report.pdf'}),\n",
       " Document(page_content='Metadata:\\nAMAZON.COM      ANNOUNCES      FIRST      QUARTER      RESULTS\\n>\\nHighlights  >\\nContent:\\n \\n \\n  The      Deutsche      Fu8ball      Liga      (DFL)      named      AWS      the      Official      Generative      AI      Provider      of      the      DFL,      and      is      using  \\n \\n  AI      on      AWS      to      generate      metadata      that      allows      the      league,      clubs,      and      media      partners      to      more      efficiently      search  \\n \\n  for      content      in      more      than      210,000      hours      of      video      footage.', metadata={'bbox': [121.68, 218.71, 534.96, 254.71], 'page_idx': 2, 'level': 1, 'file_path': '/home/jianyang/local-llm/topic-modelling/documents/amazon_report.pdf'}),\n",
       " Document(page_content='Metadata:\\nAMAZON.COM      ANNOUNCES      FIRST      QUARTER      RESULTS\\n>\\nHighlights  >\\nContent:\\n \\n \\n  Audi      used      Amazon      SageMaker      and      Amazon      OpenSearch      Service      to      build   \\n \\na      generative      AI      chatbot      to      improve  \\n \\n  its      enterprise      search      experience      and      help      employees      find      and      navigate      internal      documentation,      reducing  \\n \\n  search      time      from      hours      to   \\n \\na      few      seconds      and      improving      productivity.', metadata={'bbox': [121.68, 259.76, 526.08, 295.77], 'page_idx': 2, 'level': 1, 'file_path': '/home/jianyang/local-llm/topic-modelling/documents/amazon_report.pdf'}),\n",
       " Document(page_content='Metadata:\\nAMAZON.COM      ANNOUNCES      FIRST      QUARTER      RESULTS\\n>\\nHighlights  >\\nContent:\\n \\n \\n  Konica      Minolta      Healthcare,   \\n \\na      medical      diagnostic      imaging      and      healthcare      information      technology      company,  \\n \\n  announced      an      enterprise      imaging      cloud      platform      using      AWS      HealthImaging      to      reduce      image      storage      costs,  \\n \\n  enable      access      from      almost      anywhere,      and      accelerate      data      retrieval.', metadata={'bbox': [121.68, 300.81, 527.28, 336.82], 'page_idx': 2, 'level': 1, 'file_path': '/home/jianyang/local-llm/topic-modelling/documents/amazon_report.pdf'}),\n",
       " Document(page_content='Metadata:\\nAMAZON.COM      ANNOUNCES      FIRST      QUARTER      RESULTS\\n>\\nHighlights  >\\nContent:\\n \\n \\n  Dana-Farber      Cancer      Institute      built   \\n \\na      new      research      solution      on      Amazon      Bedrock      to      help      clinicians      interpret  \\n \\n  complex      lab      results      to      help      diagnose      medical      conditions,      assess      treatment      efficacy,      and      determine      next      steps  \\n \\n  in      clinical      care.', metadata={'bbox': [121.68, 341.86, 534.24, 377.87], 'page_idx': 2, 'level': 1, 'file_path': '/home/jianyang/local-llm/topic-modelling/documents/amazon_report.pdf'}),\n",
       " Document(page_content='Metadata:\\nAMAZON.COM      ANNOUNCES      FIRST      QUARTER      RESULTS\\n>\\nHighlights  >\\nContent:\\n \\n \\n  Enterprise      healthcare      software      provider      symplr      announced   \\n \\na      generative      AI      solution      that      uses      Amazon  \\n \\n  Bedrock      and      Amazon   \\n \\nQ      to      connect      and      optimize      hospital      operations      so      clinicians      and      administrators      can  \\n \\n  quickly      access      relevant      data,      simplifying      staff      scheduling      and      other      administrative      processes.', metadata={'bbox': [121.68, 382.92, 526.32, 418.92], 'page_idx': 2, 'level': 1, 'file_path': '/home/jianyang/local-llm/topic-modelling/documents/amazon_report.pdf'}),\n",
       " Document(page_content='Metadata:\\nAMAZON.COM      ANNOUNCES      FIRST      QUARTER      RESULTS\\n>\\nHighlights  >\\nContent:\\n \\n \\n  Choice      Hotels      became      the      first      hotel      company      to      migrate      its      entire      system      infrastructure      to      the      cloud.\\nThe  \\n \\n  move      to      AWS      is      part      of      Choice      Hotels’      long-term      technology      roadmap      and      adoption      of      AI,      and      involves  \\n \\n  decommissioning      more      than      3,700      servers,      retiring      over      300      applications,      and      migrating      more      than      250  \\n \\n  applications.', metadata={'bbox': [121.68, 423.97, 528.24, 471.98], 'page_idx': 2, 'level': 1, 'file_path': '/home/jianyang/local-llm/topic-modelling/documents/amazon_report.pdf'}),\n",
       " Document(page_content='Metadata:\\nAMAZON.COM      ANNOUNCES      FIRST      QUARTER      RESULTS\\n>\\nHighlights  >\\nContent:\\n \\n \\n  Mobile      network      operator      Tele2      launched      an      Internet      of      Things      customer      support      solution,      powered      by  \\n \\n  Amazon      Bedrock,      to      help      agents      provide      faster      and      more      detailed      conversational      responses      to      customers  \\n \\n  across      multiple      channels.', metadata={'bbox': [121.68, 476.78, 520.08, 512.79], 'page_idx': 2, 'level': 1, 'file_path': '/home/jianyang/local-llm/topic-modelling/documents/amazon_report.pdf'}),\n",
       " Document(page_content='Metadata:\\nAMAZON.COM      ANNOUNCES      FIRST      QUARTER      RESULTS\\n>\\nHighlights  >\\nContent:\\n \\n \\n  Vonage,   \\n \\na      cloud      communications      provider,      announced   \\n \\na      new      anti-fraud      solution      with      AWS      generative      Al  \\n \\n  capabilities      to      enable      businesses      to      better      protect      themselves      from      mobile      fraud      while      improving      customer  \\n \\n  experiences.', metadata={'bbox': [121.68, 517.84, 534.24, 553.84], 'page_idx': 2, 'level': 1, 'file_path': '/home/jianyang/local-llm/topic-modelling/documents/amazon_report.pdf'}),\n",
       " Document(page_content='Metadata:\\nAMAZON.COM      ANNOUNCES      FIRST      QUARTER      RESULTS\\n>\\nHighlights  >\\nContent:\\n \\n \\n  Genomics      England,   \\n \\na      human      genome      research      organization,      is      using      Amazon      Bedrock      to      help      researchers  \\n \\n  identify      associations      between      genetic      variants      and      medical      conditions      by      quickly      processing      millions      of      pages  \\n \\n  of      scientific      literature,      with      the      goal      of      informing      future      genetic      tests      and      improving      human      health.', metadata={'bbox': [121.92, 558.89, 538.56, 594.9], 'page_idx': 2, 'level': 1, 'file_path': '/home/jianyang/local-llm/topic-modelling/documents/amazon_report.pdf'}),\n",
       " Document(page_content='Metadata:\\nAMAZON.COM      ANNOUNCES      FIRST      QUARTER      RESULTS\\n>\\nHighlights  >\\nContent:\\n \\n \\n  AI      biotechnology      company      Owkin      selected      AWS      as      its      primary      cloud      provider      to      develop      generative      AI  \\n \\n  applications      and      accelerate      drug      discovery      and      development,      empowering      scientists      and      researchers      to      access,  \\n \\n  analyze,      and      manage      vast      amounts      of      data      efficiently      and      securely      in      the      cloud.', metadata={'bbox': [121.68, 599.94, 533.76, 635.95], 'page_idx': 2, 'level': 1, 'file_path': '/home/jianyang/local-llm/topic-modelling/documents/amazon_report.pdf'}),\n",
       " Document(page_content='Metadata:\\nAMAZON.COM      ANNOUNCES      FIRST      QUARTER      RESULTS\\n>\\nHighlights  >\\nContent:\\n<table><tr><td colSpan=1></td><td colSpan=1>      Parsyl,      a      data-powered      insurer,      is      using      Amazon      Bedrock      to      turn      unwieldy      customer      information,      like      email       attachments      in      different      formats,      into      usable      data      to      help      identify      patterns      of      risk      for      businesses      transporting       goods.</td></tr><tr><td colSpan=1>      e</td><td colSpan=1><p>Plans      to      launch      new      infrastructure      Regions      in      the      Kingdom      of      Saudi      Arabia      and      in      Mexico,      which      will      give  \\n \\n  developers,      startups,      entrepreneurs,      and      enterprises      greater      choice      for      running      their      applications      and      serving  \\n \\n  end      users.\\nAs      part      of      AWS’s      long-term      commitment,      it      is      planning      to      invest      more      than      $5.3      billion      in      the  \\n \\n  Kingdom      of      Saudi      Arabia      and      more      than      $5      billion      in      Mexico      over      the      next      several      years.\\n \\n \\n  A      planned      investment      of      $10      billion      to      build      two      data      center      complexes      in      Mississippi.\\nThis      investment,  \\n \\n  which      is      the      single      largest      capital      investment      in      the      state’s      history,      will      create      at      least      1,000      jobs      and      support  \\n \\n  new      educational      trainings      in      the      state.\\n \\n \\n  The      general      availability      of      new      AWS      Local      Zones      in      Atlanta,      Chicago,      and      Houston.\\nIn      Atlanta,      AWS      Local  \\n \\n  Zones      support      EC2      P5      instances,      which      deliver      the      highest      performance      for      deep      learning      and      high-  \\n \\n  performance      computing      applications.</p></td></tr><tr><td colSpan=1>      e</td><td colSpan=1><p>On      the      software      development      side,      Amazon   \\n \\nQ      not      only      generates      highly      accurate      code,      but      also      tests      code,  \\n \\n  debugs      coding      conflicts,      and      transforms      code      from      one      form      to      another      (today,      developers      can      save      months  \\n \\n  using   \\n \\nQ      to      move      from      older      versions      of      Java      to      newer,      more      secure      and      capable      ones;      in      the      near      future,   \\n \\nQ       will      help      developers      transform      their     .net      code      as      well).\\n \\n \\nQ      Developer      Agents      does      multi-step      planning      and  \\n \\n  reasoning      to      allow      developers      to      string      together      multiple      requests      and      have   \\n \\nQ      implement      them.\\n \\n \\n  On      the      internal      data      side,      most      companies      have      large      troves      of      data      that      reside      in      wikis,      intranet      pages,  \\n \\n  Salesforce,      storage      repositories      like      Amazon      $3,      and      many      other      data      stores      and      SaaS      apps      that      are      hard      to  \\n \\n  access.\\nIt      makes      answering      straightforward      questions      about      company      policies,      products,      business      results,  \\n \\n  code,      people,      and      many      other      topics      hard      and      frustrating.\\n \\n \\nQ      makes      this      much      simpler.\\nCustomers      can      point   \\n \\nQ       at      all      of      its      enterprise      data      repositories,      and      it’ll      search      this      data,      summarize      logically,      analyze      trends,      and  \\n \\n  engage      in      dialog      with      customers      about      this      data.\\nWith      the      launch      of   \\n \\na      powerful      new      capability      called   \\n \\nQ      Apps,  \\n \\n  employees      can      now      describe,      in      natural      language,      what      apps      they      want      to      build      on      top      of      this      internal      data,  \\n \\n  and   \\n \\nQ      Apps      will      quickly      generate      that      app.\\nThis      will      make      it      much      easier      for      internal      teams      to      build      useful  \\n \\n  apps      from      their      own      data.\\n \\n \\n  The      general      availability      of      Anthropic’s      Claude   \\n \\n3      family      of      vision-enabled      foundation      models      (FMs)—Opus,  \\n \\n  Sonnet,      and      Haiku—which      are      the      best      performing      models      in      the      world      right      now      and      provide      industry-  \\n \\n  leading      accuracy,      performance,      speed,      and      cost.\\nClaude   \\n \\n3      Opus      has      set   \\n \\na      new      standard,      outperforming      other  \\n \\n  models      available      today      in      the      areas      of      reasoning,      math,      and      coding.\\nAmazon      Bedrock      became      the      first  \\n \\n  managed      service      to      add      Claude   \\n \\n3      models,      and      continues      to      provide      customers      with      the      widest      choice      of      high-  \\n \\n  performing,      fully-managed      large      language      models      (LLMs)      and      FMs.\\n \\n \\n  The      general      availability      of      Meta      Llama   \\n \\n3      models,   \\n \\na      collection      of      pretrained      and      instruction      fine-tuned      LLMs  \\n \\n  that      come      in      two      sizes—8B      and      70B.\\nThe      new      models      demonstrate      significant      improvements      over      previous  \\n \\n  versions      due      to      vastly      increased      training      data      and      scale.\\nThis      collection      of      models      supports   \\n \\na      broad      range      of  \\n \\n  use      cases,      like      text      summarization      and      classification,      sentiment      analysis,      language      translation,      and      code  \\n \\n  generation.\\n \\n \\n  The      addition      of      FMs      from      leading      AI      startup      Mistral      AI.\\nMistral      Large,      the      latest      and      most      advanced      LLM  \\n \\n  from      Mistral      AI,      provides      top-tier      reasoning      capabilities      for      complex      multilingual      reasoning      tasks.\\nMistral  \\n \\n  AI’s      Mixtral      8x7B      and      Mistral      7B      models      can      summarize,      answer      questions,      and      help      organize      information  \\n \\n  with      their      deep      understanding      of      text      structure      and      architecture.\\n \\n \\n  The      availability      of      new      Cohere      models      (Command      R      and      Command      R+)      on      Bedrock.\\n \\n \\n  New      first      party      Amazon      Titan      LLMs,      including      Amazon      Titan      Text      Embeddings      V2      and      the      general  \\n \\n  availability      of      Amazon      Titan      Image      Generator.</p></td></tr></table>', metadata={'bbox': [121.68, 640.99, 544.8, 652.99], 'page_idx': 2, 'level': 1, 'file_path': '/home/jianyang/local-llm/topic-modelling/documents/amazon_report.pdf'}),\n",
       " Document(page_content='Metadata:\\nAMAZON.COM      ANNOUNCES      FIRST      QUARTER      RESULTS\\n>\\nHighlights  \\n \\n*      The      general      availability      of      Model      Evaluation,      which      is      the      fastest      way      for      organizations      to      analyze,      compare,  \\n \\n  and      select      models      on      Amazon      Bedrock,      reducing      time      from      weeks      to      hours      spent      evaluating      models      so  \\n \\n  customers      can      bring      new      applications      and      experiences      to      market      faster.  >\\nContent:\\n*\\n \\n   The      general      availability      of      Guardrails,      which      provides      customers      with      best-in-class      technology      to      easily  \\n \\n  implement      safeguards      to      remove      personal      and      sensitive      information,      profanity,      specific      words,      and      harmful  \\n \\n  content.\\nGuardrails      offers      industry-leading      safety      protection      on      top      of      the      native      capabilities      of      FMs,      helping  \\n \\n  customers      block      up      to      85%      of      harmful      content.\\nGuardrails      is      the      only      solution      offered      by   \\n \\na      broad      cloud  \\n \\n  provider      that      allows      customers      to      have      built-in      and      custom      safeguards      in   \\n \\na      single      offering,      and      it      works      with  \\n \\n  all      LLMs      in      Amazon      Bedrock,      as      well      as      fine-tuned      models.', metadata={'bbox': [104.16, 83.79, 536.64, 155.8], 'page_idx': 4, 'level': 1, 'file_path': '/home/jianyang/local-llm/topic-modelling/documents/amazon_report.pdf'}),\n",
       " Document(page_content='Metadata:\\nAMAZON.COM      ANNOUNCES      FIRST      QUARTER      RESULTS\\n>\\nHighlights  >\\nContent:\\n \\n \\n \\n¢      The      new      Custom      Model      Import      capability      that      makes      it      simple      for      customers      to      import      models      from  \\n \\n  SageMaker      (or      elsewhere)      into      Bedrock      before      deploying      their      application—enabling      customers      to      take  \\n \\n  advantage      of      all      the      Bedrock      features      that      make      it      so      much      easier      to      build      high      quality      production-grade  \\n \\n  generative      AI      apps.', metadata={'bbox': [104.16, 160.85, 519.84, 208.86], 'page_idx': 4, 'level': 1, 'file_path': '/home/jianyang/local-llm/topic-modelling/documents/amazon_report.pdf'}),\n",
       " Document(page_content='Metadata:\\nAMAZON.COM      ANNOUNCES      FIRST      QUARTER      RESULTS\\n>\\nHighlights  >\\nContent:\\n \\n \\n  Announced      the      extension      of      AWS      and      NVIDIA’s      strategic      collaboration      to      make      AWS      the      best      place      to      run      NVIDIA  \\n \\n  GPUs,      helping      customers      unlock      new      generative      AI      capabilities.\\nAWS      will      bring      together      NVIDIA’s      next-generation  \\n \\n  Blackwell      platform      with      AWS      Nitro      System      and      AWS      Key      Management      Service      advanced      security,      Elastic      Fabric  \\n \\n  Adapter      petabit-scale      networking,      and      Amazon      EC2      UltraCluster      hyper-scale      clustering,      enabling      customers      to  \\n \\n  securely      build      and      run      multi-trillion      parameter      LLMs      faster,      at      massive      scale,      and      at   \\n \\na      lower      cost      than      previous-  \\n \\n  generation      NVIDIA      GPUs      on      Amazon      EC2.\\nIn      addition,      Project      Ceiba,      an      AI      supercomputer      being      jointly      developed  \\n \\n  by      AWS      and      NVIDIA      exclusively      on      AWS      for      NVIDIA’s      own      AI      research      and      development,      will      be      built      on      the  \\n \\n  Blackwell      platform.', metadata={'bbox': [85.68, 213.9, 527.76, 309.93000000000006], 'page_idx': 4, 'level': 1, 'file_path': '/home/jianyang/local-llm/topic-modelling/documents/amazon_report.pdf'}),\n",
       " Document(page_content=\"Metadata:\\nAMAZON.COM      ANNOUNCES      FIRST      QUARTER      RESULTS\\n>\\nHighlights  >\\nContent:\\n \\n \\n  Continued      to      meet      growing      demand      for      AWS      Trainium      and      Inferentia      chips,      which      help      customers      maximize  \\n \\n  performance      and      control      costs      for      their      machine      learning      (ML)      workloads.\\nCustomers      using      these      purpose-built      AWS       ML      AI      chips      include      Anthropic,      Databricks,      Leonardo.ai,      Qualtrics,      Ricoh,      Stockmark,      Watashiha,      and      Vyond.\\nIn  \\n \\n  addition,      Meta\\\\\\\\\\\\'s      recently-launched      Llama   \\n \\n3      model      is      running      on      Trainium      and      Inferentia2—delivering      the      lowest      cost  \\n \\n  to      train,      fine      tune,      and      deploy      Llama   \\n \\n3      on      AWS.\", metadata={'bbox': [85.44, 314.74, 541.2, 374.75], 'page_idx': 4, 'level': 1, 'file_path': '/home/jianyang/local-llm/topic-modelling/documents/amazon_report.pdf'}),\n",
       " Document(page_content='Metadata:\\nAMAZON.COM      ANNOUNCES      FIRST      QUARTER      RESULTS\\n>\\nHighlights  >\\nContent:\\n \\n \\n  Updated      AWS      Neuron      (software      that      lets      customers      use      popular      frameworks      like      PyTorch      to      train      and      deploy      models  \\n \\n  with      minimal      code      changes      on      Amazon      EC2      instances,      powered      by      Trainium      and      Inferentia      chips)      to      include      features  \\n \\n  that      further      reduce      costs      for      LLM      inference      for      both      external      customers      and      internal      teams      at      Amazon,      such      as  \\n \\n  Amazon      Rufus.', metadata={'bbox': [85.68, 379.8, 527.52, 427.81], 'page_idx': 4, 'level': 1, 'file_path': '/home/jianyang/local-llm/topic-modelling/documents/amazon_report.pdf'}),\n",
       " Document(page_content='Metadata:\\nAMAZON.COM      ANNOUNCES      FIRST      QUARTER      RESULTS\\n>\\nHighlights  >\\nContent:\\n \\n \\n  Continued      to      rollout      Rufus      in      the      Amazon      Shopping      app      to      millions      of      customers      in      the      U.S.      Rufus,      in      beta,      is   \\n \\na      new       generative      AlI-powered      shopping      assistant      that      can      help      customers      save      time      and      make      more      informed      purchase  \\n \\n  decisions      by      answering   \\n \\na      variety      of      shopping-related      questions,      providing      product      comparisons,      making  \\n \\n  recommendations,      and      more.\\nAmazon      improved      Rufus’      answer      accuracy      and      response      speed,      and      added      new      features,  \\n \\n  including      “My      Orders,”      which      answers      questions      such      as      “when      did   \\n \\nI      last      order      coffee?”\\nand      “what      dog      treats      did   \\n \\nI      last  \\n \\n  order?”\\n \\n \\n  Added      more      generative      AI      features      for      independent      sellers      in      the      U.S.      to      create      product      listings,      including   \\n \\na      new      tool  \\n \\n  that      allows      sellers      to      leverage      product      listings      on      their      own      websites,      simply      by      providing      Amazon      with   \\n \\na      URL.\\n \\n \\n  Amazon’s      generative      Al-based      features      automatically      parse      the      information      to      seamlessly      create      high-quality,  \\n \\n  engaging      listings      for      Amazon’s      store.\\nThis      feature      further      enhances      and      streamlines      the      process      of      creating      product  \\n \\n  listings,      saving      sellers      time      and      effort,      while      also      developing      product      listings      that      appeal      to      customers      and      help      drive  \\n \\n  sales.', metadata={'bbox': [85.68, 432.85, 548.88, 581.9299999999998], 'page_idx': 4, 'level': 1, 'file_path': '/home/jianyang/local-llm/topic-modelling/documents/amazon_report.pdf'}),\n",
       " Document(page_content='Metadata:\\nAMAZON.COM      ANNOUNCES      FIRST      QUARTER      RESULTS\\n>\\nHighlights  >\\nContent:\\n \\n \\n  Released      20      films      and      series      from      Amazon      MGM      Studios,      including      the      debut      season      of      Fallout,      which      attracted      more  \\n \\n  than      65      million      viewers      worldwide      and      has      become      the      second      most      watched      title      ever      on      Prime      Video      through      its      first  \\n \\n  16      days;      Road      House,      which      attracted      more      than      50      million      viewers      worldwide      in      its      first      two      weekends      streaming      on  \\n \\n  Prime      Video,      the      biggest      debut      ever      for      an      Amazon      MGM      Studios-produced      film;      Hazbin      Hotel,      which      had      the      most  \\n \\n  total      global      viewers      on      its      opening      weekend      for   \\n \\na      new      animated      series      on      Prime      Video;      and      The      Beekeeper,      which  \\n \\n  ranked      in      the      top-10      of      theatrical      releases      by      revenue      globally      in      the      first      quarter.', metadata={'bbox': [85.68, 586.98, 547.2, 659.0], 'page_idx': 4, 'level': 1, 'file_path': '/home/jianyang/local-llm/topic-modelling/documents/amazon_report.pdf'}),\n",
       " Document(page_content='Metadata:\\nAMAZON.COM      ANNOUNCES      FIRST      QUARTER      RESULTS\\n>\\nHighlights  >\\nContent:\\n \\n \\n  Announced      plans      to      create   \\n \\na      new      series      from      MrBeast,      the      world’s      most-subscribed      YouTube      creator.\\nBeast      Games      is  \\n \\n  set      to      have      1,000      contestants      competing      for      $5      million—the      biggest      single      prize      in      the      history      of      television      and  \\n \\n  streaming.\\nThe      series      will      premiere      on      Prime      Video      in      more      than      240      countries      and      territories      and      is      based      on  \\n \\n  MrBeast’s      popular      show.', metadata={'bbox': [85.68, 664.04, 551.04, 712.05], 'page_idx': 4, 'level': 1, 'file_path': '/home/jianyang/local-llm/topic-modelling/documents/amazon_report.pdf'}),\n",
       " Document(page_content='Metadata:\\nAMAZON.COM      ANNOUNCES      FIRST      QUARTER      RESULTS\\n>\\nHighlights  >\\nContent:\\nAnnounced   \\n \\na      global      collaboration      that      will      bring      Fire      TV      to      Panasonic’s      new      smart      TVs.\\nCustomers      will      get      the  \\n \\n  benefits      of      Fire      TV’s      personalized      streaming      and      access      to      Alexa,      combined      with      Panasonic’s      smart      TVs.\\nAmazon  \\n \\n  also      announced      Matter      Casting      on      Fire      TV      and      Echo      Show      15—an      industry-first      implementation      of      this      practice.\\n \\n \\n  Matter      Casting      lets      customers      stream      and      control      content      on      their      television      or      streaming      stick      from      their      mobile      app.\\n \\n \\n  Customers      can      begin      watching   \\n \\na      movie      from      Prime      Video      on      their      phone,      and      cast      it      to   \\n \\na      compatible      Fire      TV      or      Echo  \\n \\n  Show      15      to      continue      watching      on   \\n \\na      bigger      screen.', metadata={'bbox': [85.68, 716.86, 537.84, 740.86], 'page_idx': 4, 'level': 1, 'file_path': '/home/jianyang/local-llm/topic-modelling/documents/amazon_report.pdf'}),\n",
       " Document(page_content='Metadata:\\nAMAZON.COM      ANNOUNCES      FIRST      QUARTER      RESULTS\\n>\\nHighlights  >\\nContent:\\n \\n \\n  Launched      Ring      Battery      Doorbell      Pro,      Ring’s      most      advanced      battery-powered      doorbell.\\nIt      features      3D      Motion  \\n \\n  Detection      to      make      motion      alerts      more      precise;      HD+      Head-to-Toe      Video      to      improve      image      quality;      and      Audio      Toggle  \\n \\n  to      turn      audio      recording      on      and      off.', metadata={'bbox': [85.68, 95.79, 526.56, 131.8], 'page_idx': 5, 'level': 1, 'file_path': '/home/jianyang/local-llm/topic-modelling/documents/amazon_report.pdf'}),\n",
       " Document(page_content='Metadata:\\nAMAZON.COM      ANNOUNCES      FIRST      QUARTER      RESULTS\\n>\\nHighlights  >\\nContent:\\n \\n \\n  Introduced      Blink      Mini      2,   \\n \\na      compact      plug-in      camera      that      works      both      indoors      and      outdoors.\\nBlink      Mini   \\n \\n2      features  \\n \\n  enhanced      image      quality,   \\n \\na      built-in      LED      spotlight      for      night      view      in      color,      and      on-device      computer      vision      to      support  \\n \\n  smart      notifications,      including      person      detection      so      customers      can      receive      alerts      only      when   \\n \\na      person      is      detected      (versus  \\n \\n  an      animal      or      object).', metadata={'bbox': [85.68, 136.84, 525.6, 184.85], 'page_idx': 5, 'level': 1, 'file_path': '/home/jianyang/local-llm/topic-modelling/documents/amazon_report.pdf'}),\n",
       " Document(page_content='Metadata:\\nAMAZON.COM      ANNOUNCES      FIRST      QUARTER      RESULTS\\n>\\nHighlights  >\\nContent:\\n \\n \\n  Achieved      several      important      milestones      on      the      path      toward      commercializing      Zoox,      Amazon’s      self-driving      robotaxi,  \\n \\n  which      is      expected      later      this      year.\\nKey      deliverables      included:      receiving      Zoox’s      California      Public      Utilities      Commission  \\n \\n  Driverless      Autonomous      Vehicle      Pilot      permit,      which      allows      Zoox      to      carry      members      of      the      public      in      Foster      City,  \\n \\n  California,      without      charging   \\n \\na      fare;      expanding      driving      capabilities      to      include      higher      speeds,      night      driving,      and      driving  \\n \\n  in      light      rain      in      both      California      and      Nevada;      and      expanding      the      virtual      boundary      where      Zoox      can      operate      its      robotaxis  \\n \\n  in      Las      Vegas,      helping      prepare      for      the      first      public      riders      in      the      city      later      this      year.', metadata={'bbox': [85.68, 189.9, 528.72, 261.91999999999996], 'page_idx': 5, 'level': 1, 'file_path': '/home/jianyang/local-llm/topic-modelling/documents/amazon_report.pdf'}),\n",
       " Document(page_content='Metadata:\\nAMAZON.COM      ANNOUNCES      FIRST      QUARTER      RESULTS\\n>\\nHighlights  >\\nContent:\\n \\n \\n  Announced      that      Amazon      improved      recordable      incident      rates      (any      work-related      injury      that      requires      more      than      basic  \\n \\n  first-aid      treatment)      by      30%      and      lost      time      incident      rates      (any      work-related      injury      that      requires      someone      to      take      time  \\n \\n  away      from      work)      by      60%      worldwide      over      the      past      four      years.\\nIn      2024,      Amazon      plans      to      invest      over      $750      million      in  \\n \\n  technologies,      resources,      training,      and      programs      to      further      improve      safety      across      its      network.', metadata={'bbox': [85.68, 362.27, 541.68, 410.28], 'page_idx': 5, 'level': 1, 'file_path': '/home/jianyang/local-llm/topic-modelling/documents/amazon_report.pdf'}),\n",
       " Document(page_content='Metadata:\\nAMAZON.COM      ANNOUNCES      FIRST      QUARTER      RESULTS\\n>\\nHighlights  >\\nContent:\\n \\n \\n  Achieved      record-breaking      participation      in      Career      Choice,      Amazon’s      education      benefit      that      empowers      employees      to  \\n \\n  learn      new      skills      for      career      success,      in      the      first      quarter.\\nSince      the      program      launched      in      2012,      nearly      200,000      employees  \\n \\n  have      furthered      their      education,      earned      industry      certifications,      and      learned      new      skills      through      the      program.', metadata={'bbox': [85.68, 415.33, 539.76, 451.33], 'page_idx': 5, 'level': 1, 'file_path': '/home/jianyang/local-llm/topic-modelling/documents/amazon_report.pdf'}),\n",
       " Document(page_content='Metadata:\\nAMAZON.COM      ANNOUNCES      FIRST      QUARTER      RESULTS\\n>\\nHighlights  >\\nContent:\\n \\n \\n  Ranked      No.   \\n \\n3      on      Fortune      magazine’s      World’s      Most      Admired      Companies      list—      Amazon’s      eighth      straight      year      in      the  \\n \\n  top      three.\\nThe      annual      ranking      is      determined      by   \\n \\na      survey      of      top      executives      and      analysts,      and      companies      are      evaluated  \\n \\n  on      factors      including      the      quality      of      their      management      and      products,      commitments      to      social      responsibility,      and      ability      to  \\n \\n  attract      talent.', metadata={'bbox': [85.68, 456.38, 551.76, 504.39], 'page_idx': 5, 'level': 1, 'file_path': '/home/jianyang/local-llm/topic-modelling/documents/amazon_report.pdf'}),\n",
       " Document(page_content='Metadata:\\nAMAZON.COM      ANNOUNCES      FIRST      QUARTER      RESULTS\\n>\\nHighlights  >\\nContent:\\n \\n \\n  Expanded      opportunities      for      women      in      India,      including      awarding      new      scholarships      for      500      women      students      to      help  \\n \\n  them      build   \\n \\na      career      in      technology      as      part      of      the      Amazon      Future      Engineer      Scholarship      Program.\\nStudents      will      receive  \\n \\n  50,000      Indian      Rupees      each      year      to      go      toward      courses      in      computer      science.', metadata={'bbox': [85.68, 509.43, 525.36, 545.44], 'page_idx': 5, 'level': 1, 'file_path': '/home/jianyang/local-llm/topic-modelling/documents/amazon_report.pdf'}),\n",
       " Document(page_content='Metadata:\\nAMAZON.COM      ANNOUNCES      FIRST      QUARTER      RESULTS\\n>\\nHighlights  >\\nContent:\\n \\n \\n  Announced      that      Amazon      will      introduce      its      Delivery      Service      Partner      (DSP)      program      in      Brisbane,      Melbourne,      and  \\n \\n  Sydney,      Australia      this      year.\\nThe      DSP      program      provides      access      to      tools,      resources,      and      Amazon’s      logistics      expertise      to  \\n \\n  help      entrepreneurs      start      delivery      businesses,      and      has      the      potential      to      create      hundreds      of      jobs      for      delivery      drivers.\\nThe  \\n \\n  program      will      expand      Amazon’s      last      mile      network      in      Australia      to      meet      growing      customer      demand.', metadata={'bbox': [85.68, 550.49, 551.28, 598.5], 'page_idx': 5, 'level': 1, 'file_path': '/home/jianyang/local-llm/topic-modelling/documents/amazon_report.pdf'}),\n",
       " Document(page_content='Metadata:\\nAMAZON.COM      ANNOUNCES      FIRST      QUARTER      RESULTS\\n>\\nHighlights  >\\nContent:\\n \\n \\n  Announced      plans      to      open      Amazon      Robotics      fulfillment      centers      in      Asturias,      Spain      and      Sagamihara      City,      Japan,      as      part  \\n \\n  of      Amazon’s      commitment      to      design      and      deploy      advanced      technology      that      improves      operational      safety,      employee  \\n \\n  experience,      and      customer      delivery.\\nThe      company      now      has      Robotics      fulfillment      centers      in      11      countries      around      the  \\n \\n  world,      and      they      help      improve      workplace      ergonomics,      reduce      heavy      lifting      and      repetitive      tasks,      and      enable      employees  \\n \\n  to      gain      new      skills.', metadata={'bbox': [85.68, 603.3, 541.44, 663.32], 'page_idx': 5, 'level': 1, 'file_path': '/home/jianyang/local-llm/topic-modelling/documents/amazon_report.pdf'}),\n",
       " Document(page_content='Metadata:\\nAMAZON.COM      ANNOUNCES      FIRST      QUARTER      RESULTS\\n>\\nHighlights  \\n \\n*      Launched   \\n \\na      Disaster      Relief      Hub      in      Rheinberg,      Germany—Amazon’s      first      Hub      in      Europe      and      the      company’s      13th  \\n \\n  around      the      world.\\nThe      21,000-square-foot      Hub      allows      Amazon      to      store      and      quickly      pack      relief      items      that      are      most  \\n \\n  needed      following      natural      disasters      and      other      emergencies.\\nAWS      also      provided      technology      to      support      the      nonprofit  \\n \\n  Help.NGO      to      fight      wildfires      in      Chile      and      Colombia,      including      monitoring      active      fires,      spotting      new      fires,      and  \\n \\n  evaluating      how      best      to      help      evacuated      residents      return      to      their      homes.\\nSince      2017,      Amazon      has      used      its      global  \\n \\n  inventory,      logistics      infrastructure,      and      cloud      technology      to      respond      to      more      than      145      natural      disasters      and      donate      more  \\n \\n  than      24      million      relief      items      globally.  >\\nContent:\\n*\\n \\n   Increased      funding      for      the      AWS      Health      Equity      Initiative      by      $20      million,      bringing      its      commitment      since      the      program  \\n \\n  launched      in      2021      to      $60      million.\\nThis      program      provides      free      cloud      credits      and      technical      expertise      to      help      organizations  \\n \\n  harness      the      power      of      the      cloud      to      advance      global      health.\\nIt      has      supported      263      organizations      globally      since      2021.', metadata={'bbox': [68.16, 131.56, 513.12, 167.81], 'page_idx': 6, 'level': 1, 'file_path': '/home/jianyang/local-llm/topic-modelling/documents/amazon_report.pdf'}),\n",
       " Document(page_content='Metadata:\\nAMAZON.COM      ANNOUNCES      FIRST      QUARTER      RESULTS\\n>\\nHighlights  >\\nContent:\\n \\n \\n \\n¢      Was      named      the      largest      corporate      purchaser      of      renewable      energy      by      BloombergNEF      for      the      fourth      consecutive      year.\\n \\n \\n  Amazon      now      has      more      than      500      wind      and      solar      projects      globally      that      are      expected      to      generate      more      than      77,000  \\n \\n  gigawatt-hours      of      clean      energy      each      year—or      enough      to      power      7.2      million      U.S.      homes.', metadata={'bbox': [68.16, 172.85, 528.72, 208.86], 'page_idx': 6, 'level': 1, 'file_path': '/home/jianyang/local-llm/topic-modelling/documents/amazon_report.pdf'}),\n",
       " Document(page_content='Metadata:\\nAMAZON.COM      ANNOUNCES      FIRST      QUARTER      RESULTS\\n>\\nHighlights  >\\nContent:\\n \\n \\n \\n¢      Invested      in      Glacier,   \\n \\na      women-led      AI      and      robotics      company      that      helps      the      recycling      industry      reduce      waste      by  \\n \\n  automating,      sorting,      and      collecting      real-time      data      on      recycling      streams.\\nThe      investment      is      part      of      Amazon’s      Climate  \\n \\n  Pledge      Fund,      and      is      the      second      woman      CEO-led      company      that      The      Fund      has      invested      in      as      part      of      its      $53      million  \\n \\n  Female      Founder      Initiative,      which      launched      in      2022      to      close      the      funding      gap      for      women      in      climate      tech.', metadata={'bbox': [67.92, 266.72, 518.64, 314.73], 'page_idx': 6, 'level': 1, 'file_path': '/home/jianyang/local-llm/topic-modelling/documents/amazon_report.pdf'}),\n",
       " Document(page_content='Metadata:\\nAMAZON.COM      ANNOUNCES      FIRST      QUARTER      RESULTS\\n>\\nHighlights  >\\nContent:\\n \\n \\n  Financial      Guidance  \\n \\n  The      following      forward-looking      statements      reflect      Amazon.com’s      expectations      as      of      April      30,      2024,      and      are      subject      to  \\n \\n  substantial      uncertainty.\\nOur      results      are      inherently      unpredictable      and      may      be      materially      affected      by      many      factors,      such      as  \\n \\n  fluctuations      in      foreign      exchange      rates,      changes      in      global      economic      and      geopolitical      conditions      and      customer      demand      and  \\n \\n  spending      (including      the      impact      of      recessionary      fears),      inflation,      interest      rates,      regional      labor      market      constraints,      world      events,  \\n \\n  the      rate      of      growth      of      the      internet,      online      commerce,      cloud      services,      and      new      and      emerging      technologies,      and      the      various      factors  \\n \\n  detailed      below.', metadata={'bbox': [49.68, 328.9, 533.04, 412.92], 'page_idx': 6, 'level': 1, 'file_path': '/home/jianyang/local-llm/topic-modelling/documents/amazon_report.pdf'}),\n",
       " Document(page_content='Metadata:\\nAMAZON.COM      ANNOUNCES      FIRST      QUARTER      RESULTS\\n>\\nSecond      Quarter      2024      Guidance  >\\nContent:\\n*\\n \\n   Net      sales      are      expected      to      be      between      $144.0      billion      and      $149.0      billion,      or      to      grow      between      7%      and      11%      compared  \\n \\n  with      second      quarter      2023.\\nThis      guidance      anticipates      an      unfavorable      impact      of      approximately      60      basis      points      from  \\n \\n  foreign      exchange      rates.\\nIn      first      quarter      2024      the      impact      from      Leap      Year      added      approximately      120      basis      points      to      the  \\n \\n  year-over-year      net      sales      growth      rate.', metadata={'bbox': [68.16, 438.61, 538.08, 486.86], 'page_idx': 6, 'level': 2, 'file_path': '/home/jianyang/local-llm/topic-modelling/documents/amazon_report.pdf'}),\n",
       " Document(page_content='Metadata:\\nAMAZON.COM      ANNOUNCES      FIRST      QUARTER      RESULTS\\n>\\nSecond      Quarter      2024      Guidance  >\\nContent:\\n*\\n \\n   Operating      income      is      expected      to      be      between      $10.0      billion      and      $14.0      billion,      compared      with      $7.7      billion      in      second  \\n \\n  quarter      2023.', metadata={'bbox': [68.16, 486.63, 513.12, 511.11], 'page_idx': 6, 'level': 2, 'file_path': '/home/jianyang/local-llm/topic-modelling/documents/amazon_report.pdf'}),\n",
       " Document(page_content='Metadata:\\nAMAZON.COM      ANNOUNCES      FIRST      QUARTER      RESULTS\\n>\\nSecond      Quarter      2024      Guidance  >\\nContent:\\n*\\n \\n   This      guidance      assumes,      among      other      things,      that      no      additional      business      acquisitions,      restructurings,      or      legal  \\n \\n  settlements      are      concluded.', metadata={'bbox': [68.16, 510.87, 497.28, 534.88], 'page_idx': 6, 'level': 2, 'file_path': '/home/jianyang/local-llm/topic-modelling/documents/amazon_report.pdf'}),\n",
       " Document(page_content='Metadata:\\nAMAZON.COM      ANNOUNCES      FIRST      QUARTER      RESULTS\\n>\\nSecond      Quarter      2024      Guidance  >\\nContent:\\n \\n \\n \\nA      conference      call      will      be      webcast      live      today      at      2:30      p.m.      PT/5:30      p.m.      ET,      and      will      be      available      for      at      least      three      months      at  \\n \\n  amazon.com/ir.\\nThis      call      will      contain      forward-looking      statements      and      other      material      information      regarding      the      Company’s  \\n \\n  financial      and      operating      results.', metadata={'bbox': [49.68, 546.89, 536.4, 582.89], 'page_idx': 6, 'level': 2, 'file_path': '/home/jianyang/local-llm/topic-modelling/documents/amazon_report.pdf'}),\n",
       " Document(page_content=\"Metadata:\\nAMAZON.COM      ANNOUNCES      FIRST      QUARTER      RESULTS\\n>\\nSecond      Quarter      2024      Guidance  >\\nContent:\\n \\n \\n  These      forward-looking      statements      are      inherently      difficult      to      predict.\\nActual      results      and      outcomes      could      differ      materially      for   \\n \\na       variety      of      reasons,      including,      in      addition      to      the      factors      discussed      above,      the      amount      that      Amazon.com      invests      in      new      business  \\n \\n  opportunities      and      the      timing      of      those      investments,      the      mix      of      products      and      services      sold      to      customers,      the      mix      of      net      sales  \\n \\n  derived      from      products      as      compared      with      services,      the      extent      to      which      we      owe      income      or      other      taxes,      competition,      management  \\n \\n  of      growth,      potential      fluctuations      in      operating      results,      international      growth      and      expansion,      the      outcomes      of      claims,      litigation,  \\n \\n  government      investigations,      and      other      proceedings,      fulfillment,      sortation,      delivery,      and      data      center      optimization,      risks      of  \\n \\n  inventory      management,      variability      in      demand,      the      degree      to      which      the      Company      enters      into,      maintains,      and      develops  \\n \\n  commercial      agreements,      proposed      and      completed      acquisitions      and      strategic      transactions,      payments      risks,      and      risks      of  \\n \\n  fulfillment      throughput      and      productivity.\\nOther      risks      and      uncertainties      include,      among      others,      risks      related      to      new      products,  \\n \\n  services,      and      technologies,      security      breaches,      system      interruptions,      government      regulation      and      taxation,      and      fraud.\\nIn      addition,  \\n \\n  global      economic      and      geopolitical      conditions      and      additional      or      unforeseen      circumstances,      developments,      or      events      may      give  \\n \\n  rise      to      or      amplify      many      of      these      risks.\\nMore      information      about      factors      that      potentially      could      affect      Amazon.com\\\\\\\\\\\\'s      financial results      is      included      in      Amazon.com’s      filings      with      the      Securities      and      Exchange      Commission      (“SEC”),      including      its      most      recent  \\n \\n  Annual      Report      on      Form      10-K      and      subsequent      filings.\", metadata={'bbox': [47.76, 594.9, 546.24, 738.94], 'page_idx': 6, 'level': 2, 'file_path': '/home/jianyang/local-llm/topic-modelling/documents/amazon_report.pdf'}),\n",
       " Document(page_content='Metadata:\\nAMAZON.COM      ANNOUNCES      FIRST      QUARTER      RESULTS\\n>\\nSecond      Quarter      2024      Guidance  >\\nContent:\\n \\n \\n  Our      investor      relations      website      is      amazon.com/ir      and      we      encourage      investors      to      use      it      as   \\n \\na      way      of      easily      finding      information  \\n \\n  about      us.\\nWe      promptly      make      available      on      this      website,      free      of      charge,      the      reports      that      we      file      or      furnish      with      the      SEC,      corporate  \\n \\n  governance      information      (including      our      Code      of      Business      Conduct      and      Ethics),      and      select      press      releases,      which      may      contain  \\n \\n  material      information      about      us,      and      you      may      subscribe      to      be      notified      of      new      information      posted      to      this      site.', metadata={'bbox': [49.68, 78.74, 524.4, 126.75], 'page_idx': 7, 'level': 2, 'file_path': '/home/jianyang/local-llm/topic-modelling/documents/amazon_report.pdf'}),\n",
       " Document(page_content='Metadata:\\nAMAZON.COM      ANNOUNCES      FIRST      QUARTER      RESULTS\\n>\\nSecond      Quarter      2024      Guidance  >\\nContent:\\n \\n \\n  About      Amazon  \\n \\n  Amazon      is      guided      by      four      principles:      customer      obsession      rather      than      competitor      focus,      passion      for      invention,      commitment      to  \\n \\n  operational      excellence,      and      long-term      thinking.\\nAmazon      strives      to      be      Earth’s      Most      Customer-Centric      Company,      Earth’s      Best  \\n \\n  Employer,      and      Earth’s      Safest      Place      to      Work.\\nCustomer      reviews,      1-Click      shopping,      personalized      recommendations,      Prime,  \\n \\n  Fulfillment      by      Amazon,      AWS,      Kindle      Direct      Publishing,      Kindle,      Career      Choice,      Fire      tablets,      Fire      TV,      Amazon      Echo,      Alexa,  \\n \\n  Just      Walk      Out      technology,      Amazon      Studios,      and      The      Climate      Pledge      are      some      of      the      things      pioneered      by      Amazon.\\nFor      more  \\n \\n  information,      visit      amazon.com/about      and      follow      @AmazonNews.', metadata={'bbox': [49.68, 140.92, 541.92, 224.7], 'page_idx': 7, 'level': 2, 'file_path': '/home/jianyang/local-llm/topic-modelling/documents/amazon_report.pdf'}),\n",
       " Document(page_content='Metadata:\\nAMAZON.COM      ANNOUNCES      FIRST      QUARTER      RESULTS\\n>\\nSecond      Quarter      2024      Guidance  >\\nContent:\\n \\n \\n  Consolidated      Statements      of      Cash      Flows  \\n \\n  (in      millions)  \\n \\n  (unaudited)  \\n \\n  Three      Months      Ended      Twelve      Months      Ended  \\n \\n  March      31,      March      31,  \\n \\n  2023      2024      2023      2024 CASH,      CASH      EQUIVALENTS,      AND      RESTRICTED      CASH,      BEGINNING      OF      PERIOD $\\n \\n   54,253   \\n \\n$      73,890   \\n \\n$      36,599      §$      49,734  \\n \\n  OPERATING      ACTIVITIES:  \\n \\n  Net      income      3,172      10,431      4,294      37,684  \\n \\n  Adjustments      to      reconcile      net      income      to      net      cash      from      operating      activities:  \\n \\n  Depreciation      and      amortization      of      property      and      equipment      and      capitalized      content      costs,      operating      lease      assets,  \\n \\n  and      other      11,123      11,684      43,851      49,224  \\n \\n  Stock-based      compensation      4,748      4,961      21,119      24,236  \\n \\n  Non-operating      expense      (income),      net      534      2,734      8,811      1,452  \\n \\n  Deferred      income      taxes      (472)      (938)      (6,619)      (6,342)  \\n \\n  Changes      in      operating      assets      and      liabilities:  \\n \\n  Inventories      371      1,776      393      2,854  \\n \\n  Accounts      receivable,      net      and      other      4,724      3,684      (4,361)      (9,388)  \\n \\n  Other      assets      (3,203)      (2,701)      (14,499)      (11,763)  \\n \\n  Accounts      payable      (11,264)      (11,282)      1,061      5,455  \\n \\n  Accrued      expenses      and      other      (5,763)      (2,928)      (1,418)      407  \\n \\n  Unearned      revenue      818      1,568      1,698      5,328  \\n \\n  Net      cash      provided      by      (used      in)      operating      activities      4,788      18,989      54,330      99,147  \\n \\n  INVESTING      ACTIVITIES:  \\n \\n  Purchases      of      property      and      equipment      (14,207)      (14,925)      (62,901)      (53,447)  \\n \\n  Proceeds      from      property      and      equipment      sales      and      incentives      1,137      990      5,252      4,449  \\n \\n  Acquisitions,      net      of      cash      acquired,      non-marketable      investments,      and      other      (3,513)      (3,354)      (5,488)      (5,680)  \\n \\n  Sales      and      maturities      of      marketable      securities      1,115      1,392      9,963      5,904  \\n \\n  Purchases      of      marketable      securities      (338)      (1,965)      (1,139)      (3,115)  \\n \\n  Net      cash      provided      by      (used      in)      investing      activities      (15,806)      (17,862)      (54,313)      (51,889)  \\n \\n  FINANCING      ACTIVITIES:  \\n \\n  Common      stock      repurchased      —_—      —_—      (3,334)   \\n \\n—       Proceeds      from      short-term      debt,      and      other      12,780      338      40,590      5,687  \\n \\n  Repayments      of      short-term      debt,      and      other      (3,603)      (404)      (34,926)      (22,478)  \\n \\n  Proceeds      from      long-term      debt   \\n \\n—   \\n \\n—      21,166      —_  \\n \\n  Repayments      of      long-term      debt      (1,386)      (330)      (2,644)      (2,620)  \\n \\n  Principal      repayments      of      finance      leases      (1,380)      (770)      (6,544)      (3,774)  \\n \\n  Principal      repayments      of      financing      obligations      (57)      (90)      (226)      (304)  \\n \\n  Net      cash      provided      by      (used      in)      financing      activities      6,354      (1,256)      14,082      (23,489)  \\n \\n  Foreign      currency      effect      on      cash,      cash      equivalents,      and      restricted      cash      145      (429)      (964)      (171)  \\n \\n  Net      increase      (decrease)      in      cash,      cash      equivalents,      and      restricted      cash      (4,519)      (558)      13,135      23,598  \\n \\n  CASH,      CASH      EQUIVALENTS,      AND      RESTRICTED      CASH,      END      OF      PERIOD   \\n \\n$      49,734   \\n \\n$      73,332.   \\n \\n$      49,734   \\n \\n$      73,332  \\n \\n  SUPPLEMENTAL      CASH      FLOW      INFORMATION:      TT  \\n \\n  Cash      paid      for      interest      on      debt,      net      of      capitalized      interest   \\n \\n$      402   \\n \\n$      269   \\n \\n$      1,684   \\n \\n$      2,475  \\n \\n  Cash      paid      for      operating      leases      2,467      3,332      8,733      11,318  \\n \\n  Cash      paid      for      interest      on      finance      leases      81      74      348      301  \\n \\n  Cash      paid      for      interest      on      financing      obligations      59      64      208      201  \\n \\n  Cash      paid      for      income      taxes,      net      of      refunds      619      458      6,201      11,018  \\n \\n  Assets      acquired      under      operating      leases      3,626      3,753      20,251      14,179  \\n \\n  Property      and      equipment      acquired      under      finance      leases,      net      of      remeasurements      and      modifications   \\n \\n8      42      517      676  \\n \\n  Property      and      equipment      recognized      during      the      construction      period      of      build-to-suit      lease      arrangements      131      37      1,953      263  \\n \\n  Property      and      equipment      derecognized      after      the      construction      period      of      build-to-suit      lease      arrangements,      with      the  \\n \\n  associated      leases      recognized      as      operating      720      —_—      5,845      654  \\n \\n  Consolidated      Statements      of      Operations  \\n \\n  (in      millions,      except      per      share      data)  \\n \\n  (unaudited) Net      product      sales Net      service      sales Total      net      sales Operating      expenses:', metadata={'bbox': [52.32, 54.74, 552.0, 708.45], 'page_idx': 8, 'level': 2, 'file_path': '/home/jianyang/local-llm/topic-modelling/documents/amazon_report.pdf'}),\n",
       " Document(page_content='Metadata:\\nAMAZON.COM      ANNOUNCES      FIRST      QUARTER      RESULTS\\n>\\nSecond      Quarter      2024      Guidance  >\\nContent:\\nCost      of      sales', metadata={'bbox': [70.8, 204.78, 102.72, 216.78], 'page_idx': 9, 'level': 2, 'file_path': '/home/jianyang/local-llm/topic-modelling/documents/amazon_report.pdf'}),\n",
       " Document(page_content='Metadata:\\nAMAZON.COM      ANNOUNCES      FIRST      QUARTER      RESULTS\\n>\\nFulfillment  >\\nContent:\\nTechnology      and      infrastructure Sales      and      marketing General      and      administrative', metadata={'bbox': [70.8, 234.79, 138.0, 276.80000000000007], 'page_idx': 9, 'level': 2, 'file_path': '/home/jianyang/local-llm/topic-modelling/documents/amazon_report.pdf'}),\n",
       " Document(page_content='Metadata:\\nAMAZON.COM      ANNOUNCES      FIRST      QUARTER      RESULTS\\n>\\nFulfillment  >\\nContent:\\nTotal      operating      expenses Operating      income Interest      income Interest      expense Other      income      (expense),      net Total      non-operating      expense Income      before      income      taxes Provision      for      income      taxes', metadata={'bbox': [52.8, 294.81, 153.6, 411.96], 'page_idx': 9, 'level': 2, 'file_path': '/home/jianyang/local-llm/topic-modelling/documents/amazon_report.pdf'}),\n",
       " Document(page_content='Metadata:\\nAMAZON.COM      ANNOUNCES      FIRST      QUARTER      RESULTS\\n>\\nFulfillment  >\\nContent:\\nNet      income Basic      earnings      per      share Diluted      earnings      per      share', metadata={'bbox': [52.32, 429.97, 137.04, 473.42], 'page_idx': 9, 'level': 2, 'file_path': '/home/jianyang/local-llm/topic-modelling/documents/amazon_report.pdf'}),\n",
       " Document(page_content='Metadata:\\nAMAZON.COM      ANNOUNCES      FIRST      QUARTER      RESULTS\\n>\\nBasic  >\\nContent:\\n \\n \\n  10,347      10,670  \\n \\n  Consolidated      Statements      of      Comprehensive      Income  \\n \\n  (in      millions)  \\n \\n  (unaudited)', metadata={'bbox': [196.56, 509.43, 531.84, 521.4300000000001], 'page_idx': 9, 'level': 2, 'file_path': '/home/jianyang/local-llm/topic-modelling/documents/amazon_report.pdf'}),\n",
       " Document(page_content='Metadata:\\nAMAZON.COM      ANNOUNCES      FIRST      QUARTER      RESULTS\\n>\\nDiluted       March      31,  >\\nContent:\\nNet      income Other      comprehensive      income      (loss):', metadata={'bbox': [52.32, 147.88, 173.04, 174.77], 'page_idx': 10, 'level': 2, 'file_path': '/home/jianyang/local-llm/topic-modelling/documents/amazon_report.pdf'}),\n",
       " Document(page_content='Metadata:\\nAMAZON.COM      ANNOUNCES      FIRST      QUARTER      RESULTS\\n>\\nDiluted       March      31,  >\\nContent:\\nForeign      currency      translation      adjustments,      net      of      tax      of      $(10)      and      $30 Available-for-sale      debt      securities:', metadata={'bbox': [70.56, 177.89, 331.68, 204.78], 'page_idx': 10, 'level': 2, 'file_path': '/home/jianyang/local-llm/topic-modelling/documents/amazon_report.pdf'}),\n",
       " Document(page_content='Metadata:\\nAMAZON.COM      ANNOUNCES      FIRST      QUARTER      RESULTS\\n>\\nDiluted       March      31,  >\\nContent:\\nChange      in      net      unrealized      gains      (losses),      net      of      tax      of      $(29)      and      $(158) Less:      reclassification      adjustment      for      losses      (gains)      included      in      “Other      income  \\n \\n  (expense),      net,”      net      of      tax      of      $(10)      and      $0 Net      change Other,      net      of      tax      of      $0      and      $(1) Total      other      comprehensive      income      (loss) 3,686   \\n \\n$      9,873  \\n \\n  North      America Comprehensive      income', metadata={'bbox': [52.56, 213.9, 535.92, 320.01], 'page_idx': 10, 'level': 2, 'file_path': '/home/jianyang/local-llm/topic-modelling/documents/amazon_report.pdf'}),\n",
       " Document(page_content='Metadata:\\nAMAZON.COM      ANNOUNCES      FIRST      QUARTER      RESULTS\\n>\\nDiluted       March      31,\\n>\\nThree      Months      Ended       March      31,       2023      2024  >\\nContent:\\nNet      sales Operating      expenses Operating      income', metadata={'bbox': [70.56, 157.49, 113.28, 199.5], 'page_idx': 11, 'level': 3, 'file_path': '/home/jianyang/local-llm/topic-modelling/documents/amazon_report.pdf'}),\n",
       " Document(page_content='Metadata:\\nAMAZON.COM      ANNOUNCES      FIRST      QUARTER      RESULTS\\n>\\nDiluted       March      31,\\n>\\nInternational  >\\nContent:\\nNet      sales Operating      expenses Operating      income      (loss)', metadata={'bbox': [70.56, 230.23, 145.2, 272.9599999999999], 'page_idx': 11, 'level': 3, 'file_path': '/home/jianyang/local-llm/topic-modelling/documents/amazon_report.pdf'}),\n",
       " Document(page_content='Metadata:\\nAWS  >\\nContent:\\nNet      sales Operating      expenses Operating      income', metadata={'bbox': [70.56, 303.21, 113.28, 345.7], 'page_idx': 11, 'level': 1, 'file_path': '/home/jianyang/local-llm/topic-modelling/documents/amazon_report.pdf'}),\n",
       " Document(page_content='Metadata:\\nAWS\\n>\\nConsolidated  >\\nContent:\\nNet      sales Operating      expenses Operating      income', metadata={'bbox': [70.32, 375.95, 113.28, 417.96], 'page_idx': 11, 'level': 2, 'file_path': '/home/jianyang/local-llm/topic-modelling/documents/amazon_report.pdf'}),\n",
       " Document(page_content='Metadata:\\nAWS\\n>\\nConsolidated  >\\nContent:\\nNet      income', metadata={'bbox': [70.32, 465.98, 87.84, 477.98], 'page_idx': 11, 'level': 2, 'file_path': '/home/jianyang/local-llm/topic-modelling/documents/amazon_report.pdf'}),\n",
       " Document(page_content='Metadata:\\nAWS\\n>\\nSegment      Highlights:  >\\nContent:\\nY/Y      net      sales      growth:', metadata={'bbox': [70.56, 510.87, 127.2, 522.87], 'page_idx': 11, 'level': 2, 'file_path': '/home/jianyang/local-llm/topic-modelling/documents/amazon_report.pdf'}),\n",
       " Document(page_content='Metadata:\\nAWS  >\\nContent:\\nNorth      America', metadata={'bbox': [88.32, 526.0, 114.48, 538.0], 'page_idx': 11, 'level': 1, 'file_path': '/home/jianyang/local-llm/topic-modelling/documents/amazon_report.pdf'}),\n",
       " Document(page_content='Metadata:\\nAWS  >\\nContent:\\nInternational', metadata={'bbox': [88.8, 540.88, 88.8, 552.88], 'page_idx': 11, 'level': 1, 'file_path': '/home/jianyang/local-llm/topic-modelling/documents/amazon_report.pdf'}),\n",
       " Document(page_content='Metadata:\\nAWS\\n>\\nConsolidated  >\\nContent:\\nNet      sales      mix:', metadata={'bbox': [70.32, 586.02, 109.44, 598.02], 'page_idx': 11, 'level': 2, 'file_path': '/home/jianyang/local-llm/topic-modelling/documents/amazon_report.pdf'}),\n",
       " Document(page_content='Metadata:\\nAWS  >\\nContent:\\nNorth      America', metadata={'bbox': [88.32, 600.9, 114.48, 612.9], 'page_idx': 11, 'level': 1, 'file_path': '/home/jianyang/local-llm/topic-modelling/documents/amazon_report.pdf'}),\n",
       " Document(page_content='Metadata:\\nAWS  >\\nContent:\\nInternational', metadata={'bbox': [88.8, 616.03, 88.8, 628.03], 'page_idx': 11, 'level': 1, 'file_path': '/home/jianyang/local-llm/topic-modelling/documents/amazon_report.pdf'}),\n",
       " Document(page_content='Metadata:\\nAWS  >\\nContent:\\n \\n \\n  100   \\n \\n%      100   \\n \\n%       Consolidated      Balance      Sheets  \\n \\n  (in      millions,      except      per      share      data)  \\n \\n  (unaudited)', metadata={'bbox': [232.56, 646.76, 553.44, 658.76], 'page_idx': 11, 'level': 1, 'file_path': '/home/jianyang/local-llm/topic-modelling/documents/amazon_report.pdf'}),\n",
       " Document(page_content='Metadata:\\nAWS\\n>\\nConsolidated       Segment      Information  >\\nContent:\\n(in      millions)  \\n \\n  (unaudited)', metadata={'bbox': [280.08, 66.74, 294.96, 90.74], 'page_idx': 11, 'level': 2, 'file_path': '/home/jianyang/local-llm/topic-modelling/documents/amazon_report.pdf'}),\n",
       " Document(page_content='Metadata:\\nY/Y      %  >\\nContent:\\n \\n \\n  Segments  \\n \\n  North      America      Segment:  \\n \\n  Net      sales  \\n \\n  Net      sales      --      Y/Y      growth,      excluding      F/X  \\n \\n  Net      sales      --      TTM  \\n \\n  Operating      income      (loss)  \\n \\n  F/X      impact      --      favorable      (unfavorable)  \\n \\n  Operating      income      (loss)      --      Y/Y      growth,      excluding      F/X  \\n \\n  Operating      margin      --   \\n \\n%      of      North      America      net      sales  \\n \\n  Operating      income      (loss)      --      TTM  \\n \\n  Operating      margin      --      TTM   \\n \\n%      of      North      America      net      sales  \\n \\n  International      Segment:  \\n \\n  Net      sales  \\n \\n  Net      sales      --      Y/Y      growth,      excluding      F/X  \\n \\n  Net      sales      --      TTM  \\n \\n  Operating      income      (loss)  \\n \\n  F/X      impact      --      favorable      (unfavorable)  \\n \\n  Operating      income      (loss)      --      Y/Y      growth      (decline),      excluding      F/X  \\n \\n  Operating      margin      --   \\n \\n%      of      International      net      sales  \\n \\n  Operating      loss      --      TTM  \\n \\n  Operating      margin      --      TTM   \\n \\n%      of      International      net      sales  \\n \\n  AWS      Segment:  \\n \\n  Net      sales  \\n \\n  Net      sales      --      Y/Y      growth,      excluding      F/X  \\n \\n  Net      sales      --      TTM  \\n \\n  Operating      income  \\n \\n  F/X      impact      --      favorable      (unfavorable)  \\n \\n  Operating      income      --      Y/Y      growth      (decline),      excluding      F/X  \\n \\n  Operating      margin      --   \\n \\n%      of      AWS      net      sales  \\n \\n  Operating      income      --      TTM  \\n \\n  Operating      margin      --      TTM   \\n \\n%      of      AWS      net      sales Q4      2022      Q12023      —Q2.2023   \\n \\n=      Q3.\\n2023.   \\n \\n=      Q42023.\\n \\n \\n=      Q12024_~—Change Y/Y   \\n \\n%    \\n \\n$      93,363      $76,881      $82,546   \\n \\n$      87,887      $105,514   \\n \\n$      86,341      12   \\n \\n%       14%      11%      11%      11%      13   \\n \\n%      12   \\n \\n%      N/A       $315,880      $323,517      $331,633      $340,677      $352,828      $362,288      12   \\n \\n%    \\n \\n$      (240)   \\n \\n$      898   \\n \\n$      3,211   \\n \\n$      4307   \\n \\n$      6461   \\n \\n$      4,983      455   \\n \\n%    \\n \\n$   \\n \\n6   \\n \\n$      41   \\n \\n$      (@   \\n \\n$      (7)   \\n \\n$      (13)   \\n \\n$   \\n \\n8      N/A       53   \\n \\n%      N/A      N/A      N/A      N/A      454%      N/A       (0.3)%      1.2%      3.9%      4.9%      6.1%      5.8%      N/A    \\n \\n$      (2,847)   \\n \\n$      (81)   \\n \\n$      3,457   \\n \\n$      8176      $14,877  \\n \\n  $      18,962      N/A       (0.9)%  \\n \\n  (0.1)%      1.0   \\n \\n%      2.4%      4.2%      5.2%      N/A    \\n \\n$      34,463      $29,123      $29,697      $32,137      $40,243      -$      31,935      10   \\n \\n%       5%      9%      10   \\n \\n%      11%      13   \\n \\n%      11%      N/A       $118,007      $118,371      $121,003      $125,420      $131,200      $134,012      13   \\n \\n%    \\n \\n$      (2,228)   \\n \\n$      (1,247)   \\n \\n$      (895)   \\n \\n$      (95)   \\n \\n$      (419)   \\n \\n$      903      N/A    \\n \\n$      (31)   \\n \\n$      (174)   \\n \\n$      32   \\n \\n$      228   \\n \\n$      160   \\n \\n$      @)      N/A       17%      (16)%      (48)%      (87)%      (74)%      N/A      N/A       (6.5)%  \\n \\n  —      (4.3)%  \\n \\n  —      3.0)%      ~—(0.3)%      ~——(1.0)%      2.8   \\n \\n%      N/A    \\n \\n$      (7,746)   \\n \\n$      (7,712)   \\n \\n$      (6,836)   \\n \\n$      (4,465)   \\n \\n$      (2,656)   \\n \\n$      (506)      (93)%  \\n \\n  (6.6)%  \\n \\n  (5)%      (5.6%  \\n \\n  (3.6)%      (2.0)%  \\n \\n  —      (0.4)%      N/A       $21,378      $21,354      $22,140      $23,059      $24,204      —$      25,037      17%  \\n \\n  20   \\n \\n%      16%      12%      12%      13   \\n \\n%      17%      N/A    \\n \\n$      80,096      $83,009      $85,410      $87,931      $90,757      $94,440      14   \\n \\n%    \\n \\n$      5,205   \\n \\n$      5,123   \\n \\n$      5365   \\n \\n$      6976   \\n \\n$      7,167   \\n \\n$      9,421      84   \\n \\n%    \\n \\n$      468   \\n \\n$      272   \\n \\n$   \\n \\n7   \\n \\n$      (69)   \\n \\n$      (62)   \\n \\n$      67      N/A       (10)%      (26)%      (8)%      30%      39   \\n \\n%      83   \\n \\n%      N/A       243%      240%      242%      303%      296%      37.6%      N/A    \\n \\n$      22,841      $21,446      $21,096      $22,669      $24,631  \\n \\n  $      28,929      35%  \\n \\n  28.5%      258%      247%      258%      271%      30.6%      N/A growth      (decline) ()  \\n \\n  Y/Y      %', metadata={'bbox': [52.32, 113.31, 554.64, 504.87], 'page_idx': 14, 'level': 1, 'file_path': '/home/jianyang/local-llm/topic-modelling/documents/amazon_report.pdf'}),\n",
       " Document(page_content='Metadata:\\nY/Y      %  >\\nContent:\\n \\n \\n  Net      Sales  \\n \\n  Online      stores      (1)  \\n \\n  Online      stores      --      Y/Y      growth,      excluding      F/X  \\n \\n  Physical      stores      (2)  \\n \\n  Physical      stores      --      Y/Y      growth,      excluding      F/X  \\n \\n  Third-party      seller      services      (3)  \\n \\n  Third-party      seller      services      --      Y/Y      growth,      excluding      F/X  \\n \\n  Advertising      services      (4)  \\n \\n  Advertising      services      --      Y/Y      growth,      excluding      F/X  \\n \\n  Subscription      services      (5)  \\n \\n  Subscription      services      --      Y/Y      growth,      excluding      F/X  \\n \\n  AWS       AWS      --      Y/Y      growth,      excluding      F/X  \\n \\n  Other      (6)  \\n \\n  Other      --      Y/Y      growth      (decline),      excluding      F/X  \\n \\n  Stock-based      Compensation      Expense  \\n \\n  Cost      of      sales  \\n \\n  Fulfillment  \\n \\n  Technology      and      infrastructure  \\n \\n  Sales      and      marketing  \\n \\n  General      and      administrative  \\n \\n  Total      stock-based      compensation      expense  \\n \\n  Other  \\n \\n  WW      shipping      costs  \\n \\n  WW      shipping      costs      --      Y/Y      growth  \\n \\n  WW      paid      units      --      Y/Y      growth      (7)  \\n \\n  WW      seller      unit      mix      --   \\n \\n%      of      WW      paid      units      (7) Q4      2022      Q12023      —Q22023      —_Q3      2023      Q4.2023      —Q1.2024      Change', metadata={'bbox': [53.04, 112.59, 532.08, 448.69000000000005], 'page_idx': 15, 'level': 1, 'file_path': '/home/jianyang/local-llm/topic-modelling/documents/amazon_report.pdf'}),\n",
       " Document(page_content='Metadata:\\nY/Y      %  >\\nContent:\\nAmazon.com,      Inc.', metadata={'bbox': [267.6, 54.74, 328.56, 66.74000000000001], 'page_idx': 16, 'level': 1, 'file_path': '/home/jianyang/local-llm/topic-modelling/documents/amazon_report.pdf'}),\n",
       " Document(page_content='Metadata:\\nY/Y      %\\n>\\nCertain      Definitions  >\\nContent:\\ne\\n \\n \\n  References      to      customers      mean      customer      accounts      established      when   \\n \\na      customer      places      an      order      through      one      of      our  \\n \\n  stores.\\nCustomer      accounts      exclude      certain      customers,      including      customers      associated      with      certain      of      our      acquisitions,  \\n \\n  Amazon      Payments      customers,      AWS      customers,      and      the      customers      of      select      companies      with      whom      we      have   \\n \\na       technology      alliance      or      marketing      and      promotional      relationship.\\nCustomers      are      considered      active      when      they      have  \\n \\n  placed      an      order      during      the      preceding      twelve-month      period.', metadata={'bbox': [67.92, 107.07, 528.0, 164.69], 'page_idx': 16, 'level': 2, 'file_path': '/home/jianyang/local-llm/topic-modelling/documents/amazon_report.pdf'}),\n",
       " Document(page_content='Metadata:\\nY/Y      %\\n>\\nCertain      Definitions  >\\nContent:\\n \\n \\n  References      to      AWS      customers      mean      unique      AWS      customer      accounts,      which      are      unique      customer      account      IDs      that      are  \\n \\n  eligible      to      use      AWS      services.\\nThis      includes      AWS      accounts      in      the      AWS      free      tier.\\nMultiple      users      accessing      AWS       services      via      one      account      ID      are      counted      as   \\n \\na      single      account.\\nCustomers      are      considered      active      when      they      have      had  \\n \\n  AWS      usage      activity      during      the      preceding      one-month      period.', metadata={'bbox': [85.68, 252.8, 546.72, 300.81], 'page_idx': 16, 'level': 2, 'file_path': '/home/jianyang/local-llm/topic-modelling/documents/amazon_report.pdf'}),\n",
       " Document(page_content='Metadata:\\nY/Y      %\\n>\\nUnits  >\\nContent:\\n \\n \\n \\n¢      References      to      units      mean      physical      and      digital      units      sold      (net      of      returns      and      cancellations)      by      us      and      sellers      in      our  \\n \\n  stores      as      well      as      Amazon-owned      items      sold      in      other      stores.\\nUnits      sold      are      paid      units      and      do      not      include      units  \\n \\n  associated      with      AWS,      certain      acquisitions,      certain      subscriptions,      rental      businesses,      or      advertising      businesses,      or  \\n \\n  Amazon      gift      cards.', metadata={'bbox': [67.92, 326.74, 523.92, 374.75], 'page_idx': 16, 'level': 2, 'file_path': '/home/jianyang/local-llm/topic-modelling/documents/amazon_report.pdf'}),\n",
       " Document(page_content='Metadata:\\nY/Y      %\\n>\\nAmazon      Investor      Relations      Amazon      Public      Relations  >\\nContent:\\namazon-ir@amazon.com      amazon-pr@amazon.com', metadata={'bbox': [52.56, 450.86, 320.88, 462.86], 'page_idx': 16, 'level': 2, 'file_path': '/home/jianyang/local-llm/topic-modelling/documents/amazon_report.pdf'}),\n",
       " Document(page_content='Metadata:\\nContent:\\nCreated      by      @ekmokaya', metadata={'bbox': [4.32, 710.82, 57.13, 722.82], 'page_idx': 9, 'level': 0, 'file_path': '/home/jianyang/local-llm/topic-modelling/documents/Alibaba.pdf'})]"
      ]
     },
     "execution_count": 19,
     "metadata": {},
     "output_type": "execute_result"
    }
   ],
   "source": [
    "get_chunks_from_topic(0, topic_model, docs_str, docs)"
   ]
  },
  {
   "cell_type": "code",
   "execution_count": 20,
   "metadata": {},
   "outputs": [],
   "source": [
    "# perform vector search on top 2 topics from the query\n",
    "def get_chunks_from_query(query, topic_model, docs_str, docs):\n",
    "    topics = topic_model.find_topics(query)\n",
    "    print(topics)\n",
    "    chunks = []\n",
    "    \n",
    "    # Select all topics with probability > 0.5\n",
    "    for i in range(len(topics[1])):\n",
    "        if topics[1][i] > 0.5:\n",
    "            print(\"Topic Chosen:\", topics[0][i], \"Probability:\", topics[1][i])\n",
    "            chunks.extend(get_chunks_from_topic(topics[0][i], topic_model, docs_str, docs))\n",
    "\n",
    "    if len(chunks) > 3:\n",
    "        return chunks\n",
    "    \n",
    "    # If not enough chunks, get the top 3 topics\n",
    "    for i in range(len(chunks), 3):\n",
    "        print(\"Getting topic:\", i)\n",
    "        chunks.extend(get_chunks_from_topic(i, topic_model, docs_str, docs))\n",
    "        if len(chunks) > 3:\n",
    "            break\n",
    "\n",
    "    return chunks"
   ]
  },
  {
   "cell_type": "code",
   "execution_count": 21,
   "metadata": {},
   "outputs": [
    {
     "data": {
      "text/plain": [
       "([1, 0, 2, 4, 5], [0.4906037, 0.40404835, 0.36816785, 0.271473, 0.25330758])"
      ]
     },
     "execution_count": 21,
     "metadata": {},
     "output_type": "execute_result"
    }
   ],
   "source": [
    "topic_model.find_topics(\"Alibaba\")"
   ]
  },
  {
   "cell_type": "code",
   "execution_count": 22,
   "metadata": {},
   "outputs": [],
   "source": [
    "# Define query here\n",
    "query = \"discuss the business model differences between amazon and alibaba\""
   ]
  },
  {
   "cell_type": "code",
   "execution_count": 23,
   "metadata": {},
   "outputs": [
    {
     "name": "stdout",
     "output_type": "stream",
     "text": [
      "([0, 1, 2, 5, 4], [0.57957596, 0.4945858, 0.4455811, 0.31860283, 0.23087329])\n",
      "Topic Chosen: 0 Probability: 0.57957596\n"
     ]
    }
   ],
   "source": [
    "langchain_docs = get_chunks_from_query(query, topic_model, docs_str, docs)"
   ]
  },
  {
   "cell_type": "code",
   "execution_count": 24,
   "metadata": {},
   "outputs": [],
   "source": [
    "# Remove bbox metadata from langchain_docs due to ChromaDB limitations\n",
    "for doc in langchain_docs:\n",
    "    doc.metadata[\"bbox\"] = \"\""
   ]
  },
  {
   "cell_type": "code",
   "execution_count": 25,
   "metadata": {},
   "outputs": [
    {
     "data": {
      "text/plain": [
       "94"
      ]
     },
     "execution_count": 25,
     "metadata": {},
     "output_type": "execute_result"
    }
   ],
   "source": [
    "len(langchain_docs)"
   ]
  },
  {
   "cell_type": "code",
   "execution_count": 26,
   "metadata": {},
   "outputs": [
    {
     "data": {
      "text/plain": [
       "{'bbox': '',\n",
       " 'page_idx': 0,\n",
       " 'level': 0,\n",
       " 'file_path': '/home/jianyang/local-llm/topic-modelling/documents/amazon_report.pdf'}"
      ]
     },
     "execution_count": 26,
     "metadata": {},
     "output_type": "execute_result"
    }
   ],
   "source": [
    "langchain_docs[0].metadata"
   ]
  },
  {
   "cell_type": "code",
   "execution_count": 27,
   "metadata": {},
   "outputs": [
    {
     "data": {
      "text/plain": [
       "1"
      ]
     },
     "execution_count": 27,
     "metadata": {},
     "output_type": "execute_result"
    }
   ],
   "source": [
    "# identify number of non-alibaba documents in the list\n",
    "len([doc for doc in langchain_docs if \"alibaba\" in doc.metadata[\"file_path\"].lower()])"
   ]
  },
  {
   "cell_type": "code",
   "execution_count": 28,
   "metadata": {},
   "outputs": [],
   "source": [
    "from langchain_community.embeddings import OllamaEmbeddings\n",
    "from langchain_community.vectorstores import Chroma, FAISS"
   ]
  },
  {
   "cell_type": "code",
   "execution_count": 29,
   "metadata": {},
   "outputs": [],
   "source": [
    "\n",
    "embeddings = OllamaEmbeddings(base_url = \"http://localhost:11434\", model = \"llama3:instruct\")\n",
    "vectorstore = Chroma.from_documents(langchain_docs, embeddings)\n",
    "retriever = vectorstore.as_retriever(search_kwargs={\"k\": 10})\n",
    "# retriever = vectorstore.as_retriever()"
   ]
  },
  {
   "cell_type": "code",
   "execution_count": 30,
   "metadata": {},
   "outputs": [],
   "source": [
    "topic_docs = retriever.invoke(query)"
   ]
  },
  {
   "cell_type": "code",
   "execution_count": 31,
   "metadata": {},
   "outputs": [
    {
     "data": {
      "text/plain": [
       "[Document(page_content='Metadata:\\nY/Y      %\\n>\\nAmazon      Investor      Relations      Amazon      Public      Relations  >\\nContent:\\namazon-ir@amazon.com      amazon-pr@amazon.com', metadata={'bbox': '', 'file_path': '/home/jianyang/local-llm/topic-modelling/documents/amazon_report.pdf', 'level': 2, 'page_idx': 16}),\n",
       " Document(page_content='Metadata:\\nAMAZON.COM      ANNOUNCES      FIRST      QUARTER      RESULTS\\n>\\nHighlights  \\n \\n*      Launched   \\n \\na      Disaster      Relief      Hub      in      Rheinberg,      Germany—Amazon’s      first      Hub      in      Europe      and      the      company’s      13th  \\n \\n  around      the      world.\\nThe      21,000-square-foot      Hub      allows      Amazon      to      store      and      quickly      pack      relief      items      that      are      most  \\n \\n  needed      following      natural      disasters      and      other      emergencies.\\nAWS      also      provided      technology      to      support      the      nonprofit  \\n \\n  Help.NGO      to      fight      wildfires      in      Chile      and      Colombia,      including      monitoring      active      fires,      spotting      new      fires,      and  \\n \\n  evaluating      how      best      to      help      evacuated      residents      return      to      their      homes.\\nSince      2017,      Amazon      has      used      its      global  \\n \\n  inventory,      logistics      infrastructure,      and      cloud      technology      to      respond      to      more      than      145      natural      disasters      and      donate      more  \\n \\n  than      24      million      relief      items      globally.  >\\nContent:\\n*\\n \\n   Increased      funding      for      the      AWS      Health      Equity      Initiative      by      $20      million,      bringing      its      commitment      since      the      program  \\n \\n  launched      in      2021      to      $60      million.\\nThis      program      provides      free      cloud      credits      and      technical      expertise      to      help      organizations  \\n \\n  harness      the      power      of      the      cloud      to      advance      global      health.\\nIt      has      supported      263      organizations      globally      since      2021.', metadata={'bbox': '', 'file_path': '/home/jianyang/local-llm/topic-modelling/documents/amazon_report.pdf', 'level': 1, 'page_idx': 6}),\n",
       " Document(page_content='Metadata:\\nAMAZON.COM      ANNOUNCES      FIRST      QUARTER      RESULTS\\n>\\nHighlights  \\n \\n*      The      general      availability      of      Model      Evaluation,      which      is      the      fastest      way      for      organizations      to      analyze,      compare,  \\n \\n  and      select      models      on      Amazon      Bedrock,      reducing      time      from      weeks      to      hours      spent      evaluating      models      so  \\n \\n  customers      can      bring      new      applications      and      experiences      to      market      faster.  >\\nContent:\\n*\\n \\n   The      general      availability      of      Guardrails,      which      provides      customers      with      best-in-class      technology      to      easily  \\n \\n  implement      safeguards      to      remove      personal      and      sensitive      information,      profanity,      specific      words,      and      harmful  \\n \\n  content.\\nGuardrails      offers      industry-leading      safety      protection      on      top      of      the      native      capabilities      of      FMs,      helping  \\n \\n  customers      block      up      to      85%      of      harmful      content.\\nGuardrails      is      the      only      solution      offered      by   \\n \\na      broad      cloud  \\n \\n  provider      that      allows      customers      to      have      built-in      and      custom      safeguards      in   \\n \\na      single      offering,      and      it      works      with  \\n \\n  all      LLMs      in      Amazon      Bedrock,      as      well      as      fine-tuned      models.', metadata={'bbox': '', 'file_path': '/home/jianyang/local-llm/topic-modelling/documents/amazon_report.pdf', 'level': 1, 'page_idx': 4}),\n",
       " Document(page_content='Metadata:\\nAMAZON.COM      ANNOUNCES      FIRST      QUARTER      RESULTS\\n>\\nDiluted       March      31,  >\\nContent:\\nChange      in      net      unrealized      gains      (losses),      net      of      tax      of      $(29)      and      $(158) Less:      reclassification      adjustment      for      losses      (gains)      included      in      “Other      income  \\n \\n  (expense),      net,”      net      of      tax      of      $(10)      and      $0 Net      change Other,      net      of      tax      of      $0      and      $(1) Total      other      comprehensive      income      (loss) 3,686   \\n \\n$      9,873  \\n \\n  North      America Comprehensive      income', metadata={'bbox': '', 'file_path': '/home/jianyang/local-llm/topic-modelling/documents/amazon_report.pdf', 'level': 2, 'page_idx': 10}),\n",
       " Document(page_content='Metadata:\\nAMAZON.COM      ANNOUNCES      FIRST      QUARTER      RESULTS¢\\n \\n   International      segment      sales      increased      10%      year-over-year      to      $31.9      billion,      or      increased      11%      excluding  \\n \\n  changes      in      foreign      exchange      rates.  >\\nContent:\\n*\\n \\n   AWS      segment      sales      increased      17%      year-over-year      to      $25.0      billion.', metadata={'bbox': '', 'file_path': '/home/jianyang/local-llm/topic-modelling/documents/amazon_report.pdf', 'level': 2, 'page_idx': 0}),\n",
       " Document(page_content='Metadata:\\nAMAZON.COM      ANNOUNCES      FIRST      QUARTER      RESULTS\\n>\\nSecond      Quarter      2024      Guidance  >\\nContent:\\n*\\n \\n   Net      sales      are      expected      to      be      between      $144.0      billion      and      $149.0      billion,      or      to      grow      between      7%      and      11%      compared  \\n \\n  with      second      quarter      2023.\\nThis      guidance      anticipates      an      unfavorable      impact      of      approximately      60      basis      points      from  \\n \\n  foreign      exchange      rates.\\nIn      first      quarter      2024      the      impact      from      Leap      Year      added      approximately      120      basis      points      to      the  \\n \\n  year-over-year      net      sales      growth      rate.', metadata={'bbox': '', 'file_path': '/home/jianyang/local-llm/topic-modelling/documents/amazon_report.pdf', 'level': 2, 'page_idx': 6}),\n",
       " Document(page_content='Metadata:\\nAMAZON.COM      ANNOUNCES      FIRST      QUARTER      RESULTS \\n \\n \\n¢      Free      cash      flow      less      principal      repayments      of      finance      leases      and      financing      obligations      improved      to      an      inflow      of  \\n \\n  $46.1      billion      for      the      trailing      twelve      months,      compared      with      an      outflow      of      $10.1      billion      for      the      trailing      twelve      months  \\n \\n  ended      March      31,      2023.  >\\nContent:\\n*\\n \\n   Free      cash      flow      less      equipment      finance      leases      and      principal      repayments      of      all      other      finance      leases      and      financing  \\n \\n  obligations      improved      to      an      inflow      of      $48.8      billion      for      the      trailing      twelve      months,      compared      with      an      outflow      of      $4.5  \\n \\n  billion      for      the      trailing      twelve      months      ended      March      31,      2023.', metadata={'bbox': '', 'file_path': '/home/jianyang/local-llm/topic-modelling/documents/amazon_report.pdf', 'level': 2, 'page_idx': 0}),\n",
       " Document(page_content='Metadata:\\nAMAZON.COM      ANNOUNCES      FIRST      QUARTER      RESULTS\\n>\\nHighlights  >\\nContent:\\n \\n \\n  Announced      that      Amazon      will      introduce      its      Delivery      Service      Partner      (DSP)      program      in      Brisbane,      Melbourne,      and  \\n \\n  Sydney,      Australia      this      year.\\nThe      DSP      program      provides      access      to      tools,      resources,      and      Amazon’s      logistics      expertise      to  \\n \\n  help      entrepreneurs      start      delivery      businesses,      and      has      the      potential      to      create      hundreds      of      jobs      for      delivery      drivers.\\nThe  \\n \\n  program      will      expand      Amazon’s      last      mile      network      in      Australia      to      meet      growing      customer      demand.', metadata={'bbox': '', 'file_path': '/home/jianyang/local-llm/topic-modelling/documents/amazon_report.pdf', 'level': 1, 'page_idx': 5}),\n",
       " Document(page_content='Metadata:\\nAMAZON.COM      ANNOUNCES      FIRST      QUARTER      RESULTS\\n>\\nHighlights  >\\nContent:\\nSiemens      is      integrating      Amazon      Bedrock      into      its      low-code      development      platform      Mendix      to      allow      thousands  \\n \\n  of      companies      across      multiple      industries      to      create      and      upgrade      applications      with      the      power      of      generative      AI.', metadata={'bbox': '', 'file_path': '/home/jianyang/local-llm/topic-modelling/documents/amazon_report.pdf', 'level': 1, 'page_idx': 2}),\n",
       " Document(page_content='Metadata:\\nAMAZON.COM      ANNOUNCES      FIRST      QUARTER      RESULTS\\n>\\nHighlights  >\\nContent:\\n \\n \\n  Announced      that      Amazon      improved      recordable      incident      rates      (any      work-related      injury      that      requires      more      than      basic  \\n \\n  first-aid      treatment)      by      30%      and      lost      time      incident      rates      (any      work-related      injury      that      requires      someone      to      take      time  \\n \\n  away      from      work)      by      60%      worldwide      over      the      past      four      years.\\nIn      2024,      Amazon      plans      to      invest      over      $750      million      in  \\n \\n  technologies,      resources,      training,      and      programs      to      further      improve      safety      across      its      network.', metadata={'bbox': '', 'file_path': '/home/jianyang/local-llm/topic-modelling/documents/amazon_report.pdf', 'level': 1, 'page_idx': 5})]"
      ]
     },
     "execution_count": 31,
     "metadata": {},
     "output_type": "execute_result"
    }
   ],
   "source": [
    "topic_docs"
   ]
  },
  {
   "cell_type": "code",
   "execution_count": 32,
   "metadata": {},
   "outputs": [
    {
     "name": "stdout",
     "output_type": "stream",
     "text": [
      "94\n"
     ]
    }
   ],
   "source": [
    "print(len(langchain_docs))"
   ]
  },
  {
   "cell_type": "code",
   "execution_count": 33,
   "metadata": {},
   "outputs": [
    {
     "name": "stdout",
     "output_type": "stream",
     "text": [
      "The provided text appears to be a collection of documents extracted from PDF files using OCR (Optical Character Recognition) technology. The documents are in the format of `Document(page_content='...')`, where each document contains metadata and page content.\n",
      "\n",
      "To answer your question, there is no specific information about Amazon's revenue or growth rate in the provided text. However, I can provide some general insights based on the content:\n",
      "\n",
      "1. **Revenue and Growth**: The documents mention \"Y/Y %\", which likely refers to year-over-year (YoY) percentage change in revenue or another metric. However, without specific numbers, it's difficult to determine the actual growth rate.\n",
      "2. **Units Sold**: One document mentions \"units sold\" as a measure of physical and digital units sold by Amazon and its sellers. This could be related to revenue, but again, no specific numbers are provided.\n",
      "3. **Customer Accounts and AWS Customers**: The documents define customer accounts and AWS customers, which might be relevant to understanding Amazon's business performance.\n",
      "\n",
      "To get more accurate information about Amazon's revenue or growth rate, I recommend checking the company's official financial reports, such as its quarterly earnings releases or annual reports (10-K). These sources typically provide detailed financial information, including revenue and growth rates.\n"
     ]
    }
   ],
   "source": [
    "topic_model_resp = llm.invoke(f\"Answer the question: {query} with the following documents: {langchain_docs}\")\n",
    "print(topic_model_resp)"
   ]
  },
  {
   "cell_type": "markdown",
   "metadata": {},
   "source": [
    "### Comparing with Documents retrieved WITHOUT topic modelling"
   ]
  },
  {
   "cell_type": "code",
   "execution_count": 34,
   "metadata": {},
   "outputs": [
    {
     "name": "stdout",
     "output_type": "stream",
     "text": [
      "{'/home/jianyang/local-llm/topic-modelling/documents/Alibaba.pdf', '/home/jianyang/local-llm/topic-modelling/documents/amazon_report.pdf'}\n",
      "189\n"
     ]
    }
   ],
   "source": [
    "# Proof that docs contain all the unfiltered documents by topic\n",
    "print(set(doc.metadata[\"file_path\"] for doc in docs))\n",
    "print(len(docs))"
   ]
  },
  {
   "cell_type": "code",
   "execution_count": 35,
   "metadata": {},
   "outputs": [],
   "source": [
    "assert langchain_docs != docs\n",
    "assert len(langchain_docs) < len(docs)"
   ]
  },
  {
   "cell_type": "code",
   "execution_count": 36,
   "metadata": {},
   "outputs": [],
   "source": [
    "# remove bbox\n",
    "for doc in docs:\n",
    "    doc.metadata[\"bbox\"] = \"\""
   ]
  },
  {
   "cell_type": "code",
   "execution_count": 37,
   "metadata": {},
   "outputs": [],
   "source": [
    "vectorstore_before_topic_model = FAISS.from_documents(docs, embeddings)\n",
    "retriever_before_topic_model = vectorstore_before_topic_model.as_retriever(search_kwargs={\"k\": 10})"
   ]
  },
  {
   "cell_type": "code",
   "execution_count": 38,
   "metadata": {},
   "outputs": [],
   "source": [
    "no_topic_docs = retriever_before_topic_model.invoke(query)"
   ]
  },
  {
   "cell_type": "code",
   "execution_count": 39,
   "metadata": {},
   "outputs": [
    {
     "data": {
      "text/plain": [
       "[Document(page_content='Metadata:\\nY/Y      %\\n>\\nAmazon      Investor      Relations      Amazon      Public      Relations  >\\nContent:\\namazon-ir@amazon.com      amazon-pr@amazon.com', metadata={'bbox': '', 'page_idx': 16, 'level': 2, 'file_path': '/home/jianyang/local-llm/topic-modelling/documents/amazon_report.pdf'}),\n",
       " Document(page_content='Metadata:\\nAMAZON.COM      ANNOUNCES      FIRST      QUARTER      RESULTS\\n>\\nDiluted       March      31,  >\\nContent:\\n67,791      72,633 20,905      22,317 20,450      20,424 10,172      9,662 3,043      2,742 223      228 122,584      128,006 4,774      15,307 611      993  \\n \\n  (823)      (644) (443)      (2,673) (655)      (2,324) 4,119      12,983  \\n \\n  (948)      (2,467) 1\\n \\n   (85) 3,172      10,431 0.31      1.00 0.31      0.98', metadata={'bbox': '', 'page_idx': 9, 'level': 2, 'file_path': '/home/jianyang/local-llm/topic-modelling/documents/amazon_report.pdf'}),\n",
       " Document(page_content='Metadata:\\nAWS\\n>\\nThree      Months      Ended       March      31,       2023      2024  >\\nContent:\\n$\\n \\n   127,358   \\n \\n$      143,313 122,584      128,006 4,774      15,307 (655)      (2,324)  \\n \\n  (948)      (2,467) 1\\n \\n   (85) $\\n \\n   3,172   \\n \\n$      10,431', metadata={'bbox': '', 'page_idx': 11, 'level': 2, 'file_path': '/home/jianyang/local-llm/topic-modelling/documents/amazon_report.pdf'}),\n",
       " Document(page_content='Metadata:\\nASSETS\\n>\\nGoodwill Other      assets  >\\nContent:\\nTotal      assets', metadata={'bbox': '', 'page_idx': 12, 'level': 2, 'file_path': '/home/jianyang/local-llm/topic-modelling/documents/amazon_report.pdf'}),\n",
       " Document(page_content='Metadata:\\nLIABILITIES      AND      STOCKHOLDERS’      EQUITY\\n>\\nStockholders’      equity:  >\\nContent:\\nPreferred      stock      ($0.01      par      value;      500      shares      authorized;      no      shares      issued      or  \\n \\n  outstanding) Common      stock      ($0.01      par      value;      100,000      shares      authorized;      10,898      and      10,918  \\n \\n  shares      issued;      10,383      and      10,403      shares      outstanding) Treasury      stock,      at      cost Additional      paid-in      capital Accumulated      other      comprehensive      income      (loss) Retained      earnings Total      stockholders’      equity Total      liabilities      and      stockholders’      equity  \\n \\n  December      31,      2023  \\n \\n  March      31,      2024  \\n \\n  $      73,387   \\n \\n$      72,852  \\n \\n  13,393      12,222  \\n \\n  33,318      31,147  \\n \\n  52,253      47,768  \\n \\n  172,351      163,989  \\n \\n  204,177      209,950  \\n \\n  72,513      73,313  \\n \\n  22,789      22,770  \\n \\n  56,024      60,947  \\n \\n  $      527,854   \\n \\n$      530,969  \\n \\n  $      84,981   \\n \\n$      73,068  \\n \\n  64,709      63,970  \\n \\n  15,227      15,927  \\n \\n  164,917      152,965  \\n \\n  77,297      77,052  \\n \\n  58,314      57,634  \\n \\n  25,451      26,657  \\n \\n  109      109  \\n \\n  (7,837)      (7,837)  \\n \\n  99,025      103,938  \\n \\n  (3,040)      (3,598)  \\n \\n  113,618      124,049  \\n \\n  201,875      216,661  \\n \\n  $      527,854   \\n \\n$      530,969', metadata={'bbox': '', 'page_idx': 12, 'level': 2, 'file_path': '/home/jianyang/local-llm/topic-modelling/documents/amazon_report.pdf'}),\n",
       " Document(page_content='Metadata:\\nLIABILITIES      AND      STOCKHOLDERS’      EQUITY\\n>\\nOther      long-term      liabilities  >\\nContent:\\nCommitments      and      contingencies', metadata={'bbox': '', 'page_idx': 12, 'level': 2, 'file_path': '/home/jianyang/local-llm/topic-modelling/documents/amazon_report.pdf'}),\n",
       " Document(page_content='Metadata:\\nAWS\\n>\\nThree      Months      Ended       March      31,       2023      2024  >\\nContent:\\n60   \\n \\n%      60   \\n \\n% 23      22 17      18', metadata={'bbox': '', 'page_idx': 11, 'level': 2, 'file_path': '/home/jianyang/local-llm/topic-modelling/documents/amazon_report.pdf'}),\n",
       " Document(page_content='Metadata:\\nY/Y      %  >\\nContent:\\n(7)      Excludes      the      impact      of      Whole      Foods      Market.', metadata={'bbox': '', 'page_idx': 15, 'level': 2, 'file_path': '/home/jianyang/local-llm/topic-modelling/documents/amazon_report.pdf'}),\n",
       " Document(page_content='Metadata:\\nAMAZON.COM      ANNOUNCES      FIRST      QUARTER      RESULTS\\n>\\nHighlights  \\n \\n*      Launched   \\n \\na      Disaster      Relief      Hub      in      Rheinberg,      Germany—Amazon’s      first      Hub      in      Europe      and      the      company’s      13th  \\n \\n  around      the      world.\\nThe      21,000-square-foot      Hub      allows      Amazon      to      store      and      quickly      pack      relief      items      that      are      most  \\n \\n  needed      following      natural      disasters      and      other      emergencies.\\nAWS      also      provided      technology      to      support      the      nonprofit  \\n \\n  Help.NGO      to      fight      wildfires      in      Chile      and      Colombia,      including      monitoring      active      fires,      spotting      new      fires,      and  \\n \\n  evaluating      how      best      to      help      evacuated      residents      return      to      their      homes.\\nSince      2017,      Amazon      has      used      its      global  \\n \\n  inventory,      logistics      infrastructure,      and      cloud      technology      to      respond      to      more      than      145      natural      disasters      and      donate      more  \\n \\n  than      24      million      relief      items      globally.  >\\nContent:\\n*\\n \\n   Increased      funding      for      the      AWS      Health      Equity      Initiative      by      $20      million,      bringing      its      commitment      since      the      program  \\n \\n  launched      in      2021      to      $60      million.\\nThis      program      provides      free      cloud      credits      and      technical      expertise      to      help      organizations  \\n \\n  harness      the      power      of      the      cloud      to      advance      global      health.\\nIt      has      supported      263      organizations      globally      since      2021.', metadata={'bbox': '', 'page_idx': 6, 'level': 1, 'file_path': '/home/jianyang/local-llm/topic-modelling/documents/amazon_report.pdf'}),\n",
       " Document(page_content='Metadata:\\nY/Y      %  >\\nContent:\\n(3)      Free      cash      flow      is      cash      flow      from      operations      reduced      by      “Purchases      of      property      and      equipment,      net      of      proceeds      from      sales      and      incentives.”', metadata={'bbox': '', 'page_idx': 13, 'level': 2, 'file_path': '/home/jianyang/local-llm/topic-modelling/documents/amazon_report.pdf'})]"
      ]
     },
     "execution_count": 39,
     "metadata": {},
     "output_type": "execute_result"
    }
   ],
   "source": [
    "no_topic_docs"
   ]
  },
  {
   "cell_type": "code",
   "execution_count": 40,
   "metadata": {},
   "outputs": [
    {
     "data": {
      "text/plain": [
       "50"
      ]
     },
     "execution_count": 40,
     "metadata": {},
     "output_type": "execute_result"
    }
   ],
   "source": [
    "# See the number of document chunks referencing alibaba\n",
    "len([doc for doc in docs if \"alibaba\" in doc.metadata[\"file_path\"].lower()])"
   ]
  },
  {
   "cell_type": "code",
   "execution_count": 41,
   "metadata": {},
   "outputs": [
    {
     "name": "stdout",
     "output_type": "stream",
     "text": [
      "The provided code snippet appears to be a Python script that uses the PyMuPDF library to extract text from a PDF file. The script iterates over each page of the document and creates a `Document` object for each page, which contains the extracted text content and metadata.\n",
      "\n",
      "To answer your question about how to improve the performance of this script, here are some suggestions:\n",
      "\n",
      "1. **Use a more efficient PDF parsing library**: PyMuPDF is not the most efficient library for large documents or complex layouts. You may want to consider using a more modern and optimized library like `pdfplumber` or `pdfquery`.\n",
      "2. **Optimize memory usage**: The script creates a new `Document` object for each page, which can lead to high memory usage if the document is very large. Consider using a single data structure to store all the extracted text content and metadata.\n",
      "3. **Use multi-threading or parallel processing**: If you're dealing with extremely large documents or multiple PDF files, consider using multi-threading or parallel processing to speed up the extraction process.\n",
      "4. **Improve error handling**: The script does not handle errors well. Consider adding try-except blocks to catch and handle any exceptions that may occur during the extraction process.\n",
      "\n",
      "Here's an updated version of the code that incorporates some of these suggestions:\n",
      "```python\n",
      "import pdfplumber\n",
      "\n",
      "def extract_text_from_pdf(file_path):\n",
      "    with pdfplumber.open(file_path) as pdf:\n",
      "        extracted_content = []\n",
      "        for page in pdf.pages:\n",
      "            text = page.extract_text()\n",
      "            metadata = {\n",
      "                'bbox': page.bbox,\n",
      "                'page_idx': page.page_number,\n",
      "                'level': page.level\n",
      "            }\n",
      "            extracted_content.append((text, metadata))\n",
      "    return extracted_content\n",
      "\n",
      "# Usage example\n",
      "file_path = '/home/jianyang/local-llm/topic-modelling/documents/amazon_report.pdf'\n",
      "extracted_content = extract_text_from_pdf(file_path)\n",
      "for text, metadata in extracted_content:\n",
      "    print(text)\n",
      "    print(metadata)\n",
      "```\n",
      "Note that this updated code uses the `pdfplumber` library and a single data structure to store all the extracted content. It also includes basic error handling using try-except blocks.\n"
     ]
    }
   ],
   "source": [
    "no_topic_resp = llm.invoke(f\"Answer the question: {query} with the following documents: {no_topic_docs}\")\n",
    "print(no_topic_resp)"
   ]
  },
  {
   "cell_type": "markdown",
   "metadata": {},
   "source": [
    "### Compare differences in document retrieval between topic modelling and no topic modelling"
   ]
  },
  {
   "cell_type": "code",
   "execution_count": 42,
   "metadata": {},
   "outputs": [
    {
     "name": "stdout",
     "output_type": "stream",
     "text": [
      "Help me compare the relevant document retrieval performance comparing between      using topic modelling and not using topic modelling. I am using the query 'discuss the business model differences between amazon and alibaba'      to retrieve relevant documents from both topic model and non-topic model methods.      I need you to identify which set of documents are better in terms of relevance to the query.      TO make the test fair, you won't know which set of documents are from the topic model and which are not.      Please compare the two sets of documents and identify which set of documents are more relevant to the query.\n",
      "      Be succinct and NOT verbose, give me the better version straight away with a brief explanation why you think so.\n",
      "      Focus on how good the documents are at answering the query. Some documents may have more keywords but less relevant content and that's not what we want.\n",
      "      Version 1: Documents retrieved using topic model:        [Document(page_content='Metadata:\\nY/Y      %\\n>\\nAmazon      Investor      Relations      Amazon      Public      Relations  >\\nContent:\\namazon-ir@amazon.com      amazon-pr@amazon.com', metadata={'bbox': '', 'file_path': '/home/jianyang/local-llm/topic-modelling/documents/amazon_report.pdf', 'level': 2, 'page_idx': 16}), Document(page_content='Metadata:\\nAMAZON.COM      ANNOUNCES      FIRST      QUARTER      RESULTS\\n>\\nHighlights  \\n \\n*      Launched   \\n \\na      Disaster      Relief      Hub      in      Rheinberg,      Germany—Amazon’s      first      Hub      in      Europe      and      the      company’s      13th  \\n \\n  around      the      world.\\nThe      21,000-square-foot      Hub      allows      Amazon      to      store      and      quickly      pack      relief      items      that      are      most  \\n \\n  needed      following      natural      disasters      and      other      emergencies.\\nAWS      also      provided      technology      to      support      the      nonprofit  \\n \\n  Help.NGO      to      fight      wildfires      in      Chile      and      Colombia,      including      monitoring      active      fires,      spotting      new      fires,      and  \\n \\n  evaluating      how      best      to      help      evacuated      residents      return      to      their      homes.\\nSince      2017,      Amazon      has      used      its      global  \\n \\n  inventory,      logistics      infrastructure,      and      cloud      technology      to      respond      to      more      than      145      natural      disasters      and      donate      more  \\n \\n  than      24      million      relief      items      globally.  >\\nContent:\\n*\\n \\n   Increased      funding      for      the      AWS      Health      Equity      Initiative      by      $20      million,      bringing      its      commitment      since      the      program  \\n \\n  launched      in      2021      to      $60      million.\\nThis      program      provides      free      cloud      credits      and      technical      expertise      to      help      organizations  \\n \\n  harness      the      power      of      the      cloud      to      advance      global      health.\\nIt      has      supported      263      organizations      globally      since      2021.', metadata={'bbox': '', 'file_path': '/home/jianyang/local-llm/topic-modelling/documents/amazon_report.pdf', 'level': 1, 'page_idx': 6}), Document(page_content='Metadata:\\nAMAZON.COM      ANNOUNCES      FIRST      QUARTER      RESULTS\\n>\\nHighlights  \\n \\n*      The      general      availability      of      Model      Evaluation,      which      is      the      fastest      way      for      organizations      to      analyze,      compare,  \\n \\n  and      select      models      on      Amazon      Bedrock,      reducing      time      from      weeks      to      hours      spent      evaluating      models      so  \\n \\n  customers      can      bring      new      applications      and      experiences      to      market      faster.  >\\nContent:\\n*\\n \\n   The      general      availability      of      Guardrails,      which      provides      customers      with      best-in-class      technology      to      easily  \\n \\n  implement      safeguards      to      remove      personal      and      sensitive      information,      profanity,      specific      words,      and      harmful  \\n \\n  content.\\nGuardrails      offers      industry-leading      safety      protection      on      top      of      the      native      capabilities      of      FMs,      helping  \\n \\n  customers      block      up      to      85%      of      harmful      content.\\nGuardrails      is      the      only      solution      offered      by   \\n \\na      broad      cloud  \\n \\n  provider      that      allows      customers      to      have      built-in      and      custom      safeguards      in   \\n \\na      single      offering,      and      it      works      with  \\n \\n  all      LLMs      in      Amazon      Bedrock,      as      well      as      fine-tuned      models.', metadata={'bbox': '', 'file_path': '/home/jianyang/local-llm/topic-modelling/documents/amazon_report.pdf', 'level': 1, 'page_idx': 4}), Document(page_content='Metadata:\\nAMAZON.COM      ANNOUNCES      FIRST      QUARTER      RESULTS\\n>\\nDiluted       March      31,  >\\nContent:\\nChange      in      net      unrealized      gains      (losses),      net      of      tax      of      $(29)      and      $(158) Less:      reclassification      adjustment      for      losses      (gains)      included      in      “Other      income  \\n \\n  (expense),      net,”      net      of      tax      of      $(10)      and      $0 Net      change Other,      net      of      tax      of      $0      and      $(1) Total      other      comprehensive      income      (loss) 3,686   \\n \\n$      9,873  \\n \\n  North      America Comprehensive      income', metadata={'bbox': '', 'file_path': '/home/jianyang/local-llm/topic-modelling/documents/amazon_report.pdf', 'level': 2, 'page_idx': 10}), Document(page_content='Metadata:\\nAMAZON.COM      ANNOUNCES      FIRST      QUARTER      RESULTS¢\\n \\n   International      segment      sales      increased      10%      year-over-year      to      $31.9      billion,      or      increased      11%      excluding  \\n \\n  changes      in      foreign      exchange      rates.  >\\nContent:\\n*\\n \\n   AWS      segment      sales      increased      17%      year-over-year      to      $25.0      billion.', metadata={'bbox': '', 'file_path': '/home/jianyang/local-llm/topic-modelling/documents/amazon_report.pdf', 'level': 2, 'page_idx': 0}), Document(page_content='Metadata:\\nAMAZON.COM      ANNOUNCES      FIRST      QUARTER      RESULTS\\n>\\nSecond      Quarter      2024      Guidance  >\\nContent:\\n*\\n \\n   Net      sales      are      expected      to      be      between      $144.0      billion      and      $149.0      billion,      or      to      grow      between      7%      and      11%      compared  \\n \\n  with      second      quarter      2023.\\nThis      guidance      anticipates      an      unfavorable      impact      of      approximately      60      basis      points      from  \\n \\n  foreign      exchange      rates.\\nIn      first      quarter      2024      the      impact      from      Leap      Year      added      approximately      120      basis      points      to      the  \\n \\n  year-over-year      net      sales      growth      rate.', metadata={'bbox': '', 'file_path': '/home/jianyang/local-llm/topic-modelling/documents/amazon_report.pdf', 'level': 2, 'page_idx': 6}), Document(page_content='Metadata:\\nAMAZON.COM      ANNOUNCES      FIRST      QUARTER      RESULTS \\n \\n \\n¢      Free      cash      flow      less      principal      repayments      of      finance      leases      and      financing      obligations      improved      to      an      inflow      of  \\n \\n  $46.1      billion      for      the      trailing      twelve      months,      compared      with      an      outflow      of      $10.1      billion      for      the      trailing      twelve      months  \\n \\n  ended      March      31,      2023.  >\\nContent:\\n*\\n \\n   Free      cash      flow      less      equipment      finance      leases      and      principal      repayments      of      all      other      finance      leases      and      financing  \\n \\n  obligations      improved      to      an      inflow      of      $48.8      billion      for      the      trailing      twelve      months,      compared      with      an      outflow      of      $4.5  \\n \\n  billion      for      the      trailing      twelve      months      ended      March      31,      2023.', metadata={'bbox': '', 'file_path': '/home/jianyang/local-llm/topic-modelling/documents/amazon_report.pdf', 'level': 2, 'page_idx': 0}), Document(page_content='Metadata:\\nAMAZON.COM      ANNOUNCES      FIRST      QUARTER      RESULTS\\n>\\nHighlights  >\\nContent:\\n \\n \\n  Announced      that      Amazon      will      introduce      its      Delivery      Service      Partner      (DSP)      program      in      Brisbane,      Melbourne,      and  \\n \\n  Sydney,      Australia      this      year.\\nThe      DSP      program      provides      access      to      tools,      resources,      and      Amazon’s      logistics      expertise      to  \\n \\n  help      entrepreneurs      start      delivery      businesses,      and      has      the      potential      to      create      hundreds      of      jobs      for      delivery      drivers.\\nThe  \\n \\n  program      will      expand      Amazon’s      last      mile      network      in      Australia      to      meet      growing      customer      demand.', metadata={'bbox': '', 'file_path': '/home/jianyang/local-llm/topic-modelling/documents/amazon_report.pdf', 'level': 1, 'page_idx': 5}), Document(page_content='Metadata:\\nAMAZON.COM      ANNOUNCES      FIRST      QUARTER      RESULTS\\n>\\nHighlights  >\\nContent:\\nSiemens      is      integrating      Amazon      Bedrock      into      its      low-code      development      platform      Mendix      to      allow      thousands  \\n \\n  of      companies      across      multiple      industries      to      create      and      upgrade      applications      with      the      power      of      generative      AI.', metadata={'bbox': '', 'file_path': '/home/jianyang/local-llm/topic-modelling/documents/amazon_report.pdf', 'level': 1, 'page_idx': 2}), Document(page_content='Metadata:\\nAMAZON.COM      ANNOUNCES      FIRST      QUARTER      RESULTS\\n>\\nHighlights  >\\nContent:\\n \\n \\n  Announced      that      Amazon      improved      recordable      incident      rates      (any      work-related      injury      that      requires      more      than      basic  \\n \\n  first-aid      treatment)      by      30%      and      lost      time      incident      rates      (any      work-related      injury      that      requires      someone      to      take      time  \\n \\n  away      from      work)      by      60%      worldwide      over      the      past      four      years.\\nIn      2024,      Amazon      plans      to      invest      over      $750      million      in  \\n \\n  technologies,      resources,      training,      and      programs      to      further      improve      safety      across      its      network.', metadata={'bbox': '', 'file_path': '/home/jianyang/local-llm/topic-modelling/documents/amazon_report.pdf', 'level': 1, 'page_idx': 5})]\n",
      "        Version 2: Documents retrieved without using topic model:        [Document(page_content='Metadata:\\nY/Y      %\\n>\\nAmazon      Investor      Relations      Amazon      Public      Relations  >\\nContent:\\namazon-ir@amazon.com      amazon-pr@amazon.com', metadata={'bbox': '', 'page_idx': 16, 'level': 2, 'file_path': '/home/jianyang/local-llm/topic-modelling/documents/amazon_report.pdf'}), Document(page_content='Metadata:\\nAMAZON.COM      ANNOUNCES      FIRST      QUARTER      RESULTS\\n>\\nDiluted       March      31,  >\\nContent:\\n67,791      72,633 20,905      22,317 20,450      20,424 10,172      9,662 3,043      2,742 223      228 122,584      128,006 4,774      15,307 611      993  \\n \\n  (823)      (644) (443)      (2,673) (655)      (2,324) 4,119      12,983  \\n \\n  (948)      (2,467) 1\\n \\n   (85) 3,172      10,431 0.31      1.00 0.31      0.98', metadata={'bbox': '', 'page_idx': 9, 'level': 2, 'file_path': '/home/jianyang/local-llm/topic-modelling/documents/amazon_report.pdf'}), Document(page_content='Metadata:\\nAWS\\n>\\nThree      Months      Ended       March      31,       2023      2024  >\\nContent:\\n$\\n \\n   127,358   \\n \\n$      143,313 122,584      128,006 4,774      15,307 (655)      (2,324)  \\n \\n  (948)      (2,467) 1\\n \\n   (85) $\\n \\n   3,172   \\n \\n$      10,431', metadata={'bbox': '', 'page_idx': 11, 'level': 2, 'file_path': '/home/jianyang/local-llm/topic-modelling/documents/amazon_report.pdf'}), Document(page_content='Metadata:\\nASSETS\\n>\\nGoodwill Other      assets  >\\nContent:\\nTotal      assets', metadata={'bbox': '', 'page_idx': 12, 'level': 2, 'file_path': '/home/jianyang/local-llm/topic-modelling/documents/amazon_report.pdf'}), Document(page_content='Metadata:\\nLIABILITIES      AND      STOCKHOLDERS’      EQUITY\\n>\\nStockholders’      equity:  >\\nContent:\\nPreferred      stock      ($0.01      par      value;      500      shares      authorized;      no      shares      issued      or  \\n \\n  outstanding) Common      stock      ($0.01      par      value;      100,000      shares      authorized;      10,898      and      10,918  \\n \\n  shares      issued;      10,383      and      10,403      shares      outstanding) Treasury      stock,      at      cost Additional      paid-in      capital Accumulated      other      comprehensive      income      (loss) Retained      earnings Total      stockholders’      equity Total      liabilities      and      stockholders’      equity  \\n \\n  December      31,      2023  \\n \\n  March      31,      2024  \\n \\n  $      73,387   \\n \\n$      72,852  \\n \\n  13,393      12,222  \\n \\n  33,318      31,147  \\n \\n  52,253      47,768  \\n \\n  172,351      163,989  \\n \\n  204,177      209,950  \\n \\n  72,513      73,313  \\n \\n  22,789      22,770  \\n \\n  56,024      60,947  \\n \\n  $      527,854   \\n \\n$      530,969  \\n \\n  $      84,981   \\n \\n$      73,068  \\n \\n  64,709      63,970  \\n \\n  15,227      15,927  \\n \\n  164,917      152,965  \\n \\n  77,297      77,052  \\n \\n  58,314      57,634  \\n \\n  25,451      26,657  \\n \\n  109      109  \\n \\n  (7,837)      (7,837)  \\n \\n  99,025      103,938  \\n \\n  (3,040)      (3,598)  \\n \\n  113,618      124,049  \\n \\n  201,875      216,661  \\n \\n  $      527,854   \\n \\n$      530,969', metadata={'bbox': '', 'page_idx': 12, 'level': 2, 'file_path': '/home/jianyang/local-llm/topic-modelling/documents/amazon_report.pdf'}), Document(page_content='Metadata:\\nLIABILITIES      AND      STOCKHOLDERS’      EQUITY\\n>\\nOther      long-term      liabilities  >\\nContent:\\nCommitments      and      contingencies', metadata={'bbox': '', 'page_idx': 12, 'level': 2, 'file_path': '/home/jianyang/local-llm/topic-modelling/documents/amazon_report.pdf'}), Document(page_content='Metadata:\\nAWS\\n>\\nThree      Months      Ended       March      31,       2023      2024  >\\nContent:\\n60   \\n \\n%      60   \\n \\n% 23      22 17      18', metadata={'bbox': '', 'page_idx': 11, 'level': 2, 'file_path': '/home/jianyang/local-llm/topic-modelling/documents/amazon_report.pdf'}), Document(page_content='Metadata:\\nY/Y      %  >\\nContent:\\n(7)      Excludes      the      impact      of      Whole      Foods      Market.', metadata={'bbox': '', 'page_idx': 15, 'level': 2, 'file_path': '/home/jianyang/local-llm/topic-modelling/documents/amazon_report.pdf'}), Document(page_content='Metadata:\\nAMAZON.COM      ANNOUNCES      FIRST      QUARTER      RESULTS\\n>\\nHighlights  \\n \\n*      Launched   \\n \\na      Disaster      Relief      Hub      in      Rheinberg,      Germany—Amazon’s      first      Hub      in      Europe      and      the      company’s      13th  \\n \\n  around      the      world.\\nThe      21,000-square-foot      Hub      allows      Amazon      to      store      and      quickly      pack      relief      items      that      are      most  \\n \\n  needed      following      natural      disasters      and      other      emergencies.\\nAWS      also      provided      technology      to      support      the      nonprofit  \\n \\n  Help.NGO      to      fight      wildfires      in      Chile      and      Colombia,      including      monitoring      active      fires,      spotting      new      fires,      and  \\n \\n  evaluating      how      best      to      help      evacuated      residents      return      to      their      homes.\\nSince      2017,      Amazon      has      used      its      global  \\n \\n  inventory,      logistics      infrastructure,      and      cloud      technology      to      respond      to      more      than      145      natural      disasters      and      donate      more  \\n \\n  than      24      million      relief      items      globally.  >\\nContent:\\n*\\n \\n   Increased      funding      for      the      AWS      Health      Equity      Initiative      by      $20      million,      bringing      its      commitment      since      the      program  \\n \\n  launched      in      2021      to      $60      million.\\nThis      program      provides      free      cloud      credits      and      technical      expertise      to      help      organizations  \\n \\n  harness      the      power      of      the      cloud      to      advance      global      health.\\nIt      has      supported      263      organizations      globally      since      2021.', metadata={'bbox': '', 'page_idx': 6, 'level': 1, 'file_path': '/home/jianyang/local-llm/topic-modelling/documents/amazon_report.pdf'}), Document(page_content='Metadata:\\nY/Y      %  >\\nContent:\\n(3)      Free      cash      flow      is      cash      flow      from      operations      reduced      by      “Purchases      of      property      and      equipment,      net      of      proceeds      from      sales      and      incentives.”', metadata={'bbox': '', 'page_idx': 13, 'level': 2, 'file_path': '/home/jianyang/local-llm/topic-modelling/documents/amazon_report.pdf'})]\n"
     ]
    }
   ],
   "source": [
    "# Evaluate using ChatGPT.\n",
    "# The printed output will be the input to ChatGPT\n",
    "\n",
    "print(f\"Help me compare the relevant document retrieval performance comparing between\\\n",
    "      using topic modelling and not using topic modelling. I am using the query '{query}'\\\n",
    "      to retrieve relevant documents from both topic model and non-topic model methods.\\\n",
    "      I need you to identify which set of documents are better in terms of relevance to the query.\\\n",
    "      TO make the test fair, you won't know which set of documents are from the topic model and which are not.\\\n",
    "      Please compare the two sets of documents and identify which set of documents are more relevant to the query.\\n\\\n",
    "      Be succinct and NOT verbose, give me the better version straight away with a brief explanation why you think so.\\n\\\n",
    "      Focus on how good the documents are at answering the query. Some documents may have more keywords but less relevant content and that's not what we want.\\n\\\n",
    "      Version 1: Documents retrieved using topic model:\\\n",
    "        {topic_docs}\\n\\\n",
    "        Version 2: Documents retrieved without using topic model:\\\n",
    "        {no_topic_docs}\")"
   ]
  },
  {
   "cell_type": "code",
   "execution_count": 43,
   "metadata": {},
   "outputs": [
    {
     "name": "stdout",
     "output_type": "stream",
     "text": [
      "discuss the business model differences between amazon and alibaba\n"
     ]
    }
   ],
   "source": [
    "print(query)"
   ]
  },
  {
   "cell_type": "markdown",
   "metadata": {},
   "source": [
    "Saving and loading model for future re-use"
   ]
  },
  {
   "cell_type": "code",
   "execution_count": 44,
   "metadata": {},
   "outputs": [
    {
     "name": "stderr",
     "output_type": "stream",
     "text": [
      "2024-07-24 12:04:54,690 - BERTopic - WARNING: When you use `pickle` to save/load a BERTopic model,please make sure that the environments in which you saveand load the model are **exactly** the same. The version of BERTopic,its dependencies, and python need to remain the same.\n"
     ]
    }
   ],
   "source": [
    "topic_model.save(\"topic_cache\", serialization=\"pickle\", save_embedding_model=False, save_ctfidf=True)"
   ]
  },
  {
   "cell_type": "code",
   "execution_count": 45,
   "metadata": {},
   "outputs": [],
   "source": [
    "loaded_model = BERTopic.load(\"topic_cache\", embedding_model=SentenceTransformer(\"all-MiniLM-L6-v2\"))"
   ]
  },
  {
   "cell_type": "code",
   "execution_count": 46,
   "metadata": {},
   "outputs": [
    {
     "data": {
      "text/html": [
       "<div>\n",
       "<style scoped>\n",
       "    .dataframe tbody tr th:only-of-type {\n",
       "        vertical-align: middle;\n",
       "    }\n",
       "\n",
       "    .dataframe tbody tr th {\n",
       "        vertical-align: top;\n",
       "    }\n",
       "\n",
       "    .dataframe thead th {\n",
       "        text-align: right;\n",
       "    }\n",
       "</style>\n",
       "<table border=\"1\" class=\"dataframe\">\n",
       "  <thead>\n",
       "    <tr style=\"text-align: right;\">\n",
       "      <th></th>\n",
       "      <th>Topic</th>\n",
       "      <th>Count</th>\n",
       "      <th>Name</th>\n",
       "      <th>Representation</th>\n",
       "      <th>Representative_Docs</th>\n",
       "    </tr>\n",
       "  </thead>\n",
       "  <tbody>\n",
       "    <tr>\n",
       "      <th>0</th>\n",
       "      <td>-1</td>\n",
       "      <td>2</td>\n",
       "      <td>-1_report_references_annual_2020</td>\n",
       "      <td>[report, references, annual, 2020, seller, sel...</td>\n",
       "      <td>[: : Source : 2020 Annual Report, : Y/Y % &gt; Ce...</td>\n",
       "    </tr>\n",
       "    <tr>\n",
       "      <th>1</th>\n",
       "      <td>0</td>\n",
       "      <td>94</td>\n",
       "      <td>0_income_amazon_aws_sales</td>\n",
       "      <td>[income, amazon, aws, sales, billion, quarter,...</td>\n",
       "      <td>[: AMAZON.COM ANNOUNCES FIRST QUARTER RESULTS ...</td>\n",
       "    </tr>\n",
       "    <tr>\n",
       "      <th>2</th>\n",
       "      <td>1</td>\n",
       "      <td>48</td>\n",
       "      <td>1_alibaba_commerce_business_companies</td>\n",
       "      <td>[alibaba, commerce, business, companies, merch...</td>\n",
       "      <td>[: Massive Scale Alibaba &gt; : [ 00 :07 :21 ] Ye...</td>\n",
       "    </tr>\n",
       "    <tr>\n",
       "      <th>3</th>\n",
       "      <td>2</td>\n",
       "      <td>15</td>\n",
       "      <td>2_amazon_march_diluted_2023</td>\n",
       "      <td>[amazon, march, diluted, 2023, quarter, 2024, ...</td>\n",
       "      <td>[: AMAZON.COM ANNOUNCES FIRST QUARTER RESULTS ...</td>\n",
       "    </tr>\n",
       "    <tr>\n",
       "      <th>4</th>\n",
       "      <td>3</td>\n",
       "      <td>15</td>\n",
       "      <td>3_financing_repayments_leases_finance</td>\n",
       "      <td>[financing, repayments, leases, finance, incom...</td>\n",
       "      <td>[: Y/Y % &gt; : ( 4 ) Free cash flow less princip...</td>\n",
       "    </tr>\n",
       "    <tr>\n",
       "      <th>5</th>\n",
       "      <td>4</td>\n",
       "      <td>9</td>\n",
       "      <td>4_stockholders_liabilities_equity_earnings</td>\n",
       "      <td>[stockholders, liabilities, equity, earnings, ...</td>\n",
       "      <td>[: LIABILITIES STOCKHOLDERS ’ EQUITY &gt; : Accou...</td>\n",
       "    </tr>\n",
       "    <tr>\n",
       "      <th>6</th>\n",
       "      <td>5</td>\n",
       "      <td>6</td>\n",
       "      <td>5_aws_2023_months_march</td>\n",
       "      <td>[aws, 2023, months, march, 032, 2024, 037, 247...</td>\n",
       "      <td>[: AWS &gt; Three Months Ended March 31 , 2023 20...</td>\n",
       "    </tr>\n",
       "  </tbody>\n",
       "</table>\n",
       "</div>"
      ],
      "text/plain": [
       "   Topic  Count                                        Name  \\\n",
       "0     -1      2            -1_report_references_annual_2020   \n",
       "1      0     94                   0_income_amazon_aws_sales   \n",
       "2      1     48       1_alibaba_commerce_business_companies   \n",
       "3      2     15                 2_amazon_march_diluted_2023   \n",
       "4      3     15       3_financing_repayments_leases_finance   \n",
       "5      4      9  4_stockholders_liabilities_equity_earnings   \n",
       "6      5      6                     5_aws_2023_months_march   \n",
       "\n",
       "                                      Representation  \\\n",
       "0  [report, references, annual, 2020, seller, sel...   \n",
       "1  [income, amazon, aws, sales, billion, quarter,...   \n",
       "2  [alibaba, commerce, business, companies, merch...   \n",
       "3  [amazon, march, diluted, 2023, quarter, 2024, ...   \n",
       "4  [financing, repayments, leases, finance, incom...   \n",
       "5  [stockholders, liabilities, equity, earnings, ...   \n",
       "6  [aws, 2023, months, march, 032, 2024, 037, 247...   \n",
       "\n",
       "                                 Representative_Docs  \n",
       "0  [: : Source : 2020 Annual Report, : Y/Y % > Ce...  \n",
       "1  [: AMAZON.COM ANNOUNCES FIRST QUARTER RESULTS ...  \n",
       "2  [: Massive Scale Alibaba > : [ 00 :07 :21 ] Ye...  \n",
       "3  [: AMAZON.COM ANNOUNCES FIRST QUARTER RESULTS ...  \n",
       "4  [: Y/Y % > : ( 4 ) Free cash flow less princip...  \n",
       "5  [: LIABILITIES STOCKHOLDERS ’ EQUITY > : Accou...  \n",
       "6  [: AWS > Three Months Ended March 31 , 2023 20...  "
      ]
     },
     "execution_count": 46,
     "metadata": {},
     "output_type": "execute_result"
    }
   ],
   "source": [
    "loaded_model.get_topic_info()"
   ]
  },
  {
   "cell_type": "code",
   "execution_count": 47,
   "metadata": {},
   "outputs": [
    {
     "data": {
      "text/plain": [
       "7"
      ]
     },
     "execution_count": 47,
     "metadata": {},
     "output_type": "execute_result"
    }
   ],
   "source": [
    "len(loaded_model.get_topic_info())"
   ]
  },
  {
   "cell_type": "code",
   "execution_count": 48,
   "metadata": {},
   "outputs": [
    {
     "ename": "KeyError",
     "evalue": "-1",
     "output_type": "error",
     "traceback": [
      "\u001b[0;31m---------------------------------------------------------------------------\u001b[0m",
      "\u001b[0;31mValueError\u001b[0m                                Traceback (most recent call last)",
      "File \u001b[0;32m~/miniconda3/envs/local-llm/lib/python3.9/site-packages/pandas/core/indexes/range.py:413\u001b[0m, in \u001b[0;36mRangeIndex.get_loc\u001b[0;34m(self, key)\u001b[0m\n\u001b[1;32m    412\u001b[0m \u001b[38;5;28;01mtry\u001b[39;00m:\n\u001b[0;32m--> 413\u001b[0m     \u001b[38;5;28;01mreturn\u001b[39;00m \u001b[38;5;28;43mself\u001b[39;49m\u001b[38;5;241;43m.\u001b[39;49m\u001b[43m_range\u001b[49m\u001b[38;5;241;43m.\u001b[39;49m\u001b[43mindex\u001b[49m\u001b[43m(\u001b[49m\u001b[43mnew_key\u001b[49m\u001b[43m)\u001b[49m\n\u001b[1;32m    414\u001b[0m \u001b[38;5;28;01mexcept\u001b[39;00m \u001b[38;5;167;01mValueError\u001b[39;00m \u001b[38;5;28;01mas\u001b[39;00m err:\n",
      "\u001b[0;31mValueError\u001b[0m: -1 is not in range",
      "\nThe above exception was the direct cause of the following exception:\n",
      "\u001b[0;31mKeyError\u001b[0m                                  Traceback (most recent call last)",
      "Cell \u001b[0;32mIn[48], line 1\u001b[0m\n\u001b[0;32m----> 1\u001b[0m \u001b[43mloaded_model\u001b[49m\u001b[38;5;241;43m.\u001b[39;49m\u001b[43mget_topic_info\u001b[49m\u001b[43m(\u001b[49m\u001b[43m)\u001b[49m\u001b[43m[\u001b[49m\u001b[38;5;124;43m\"\u001b[39;49m\u001b[38;5;124;43mRepresentation\u001b[39;49m\u001b[38;5;124;43m\"\u001b[39;49m\u001b[43m]\u001b[49m\u001b[43m[\u001b[49m\u001b[38;5;241;43m-\u001b[39;49m\u001b[38;5;241;43m1\u001b[39;49m\u001b[43m]\u001b[49m\n",
      "File \u001b[0;32m~/miniconda3/envs/local-llm/lib/python3.9/site-packages/pandas/core/series.py:1121\u001b[0m, in \u001b[0;36mSeries.__getitem__\u001b[0;34m(self, key)\u001b[0m\n\u001b[1;32m   1118\u001b[0m     \u001b[38;5;28;01mreturn\u001b[39;00m \u001b[38;5;28mself\u001b[39m\u001b[38;5;241m.\u001b[39m_values[key]\n\u001b[1;32m   1120\u001b[0m \u001b[38;5;28;01melif\u001b[39;00m key_is_scalar:\n\u001b[0;32m-> 1121\u001b[0m     \u001b[38;5;28;01mreturn\u001b[39;00m \u001b[38;5;28;43mself\u001b[39;49m\u001b[38;5;241;43m.\u001b[39;49m\u001b[43m_get_value\u001b[49m\u001b[43m(\u001b[49m\u001b[43mkey\u001b[49m\u001b[43m)\u001b[49m\n\u001b[1;32m   1123\u001b[0m \u001b[38;5;66;03m# Convert generator to list before going through hashable part\u001b[39;00m\n\u001b[1;32m   1124\u001b[0m \u001b[38;5;66;03m# (We will iterate through the generator there to check for slices)\u001b[39;00m\n\u001b[1;32m   1125\u001b[0m \u001b[38;5;28;01mif\u001b[39;00m is_iterator(key):\n",
      "File \u001b[0;32m~/miniconda3/envs/local-llm/lib/python3.9/site-packages/pandas/core/series.py:1237\u001b[0m, in \u001b[0;36mSeries._get_value\u001b[0;34m(self, label, takeable)\u001b[0m\n\u001b[1;32m   1234\u001b[0m     \u001b[38;5;28;01mreturn\u001b[39;00m \u001b[38;5;28mself\u001b[39m\u001b[38;5;241m.\u001b[39m_values[label]\n\u001b[1;32m   1236\u001b[0m \u001b[38;5;66;03m# Similar to Index.get_value, but we do not fall back to positional\u001b[39;00m\n\u001b[0;32m-> 1237\u001b[0m loc \u001b[38;5;241m=\u001b[39m \u001b[38;5;28;43mself\u001b[39;49m\u001b[38;5;241;43m.\u001b[39;49m\u001b[43mindex\u001b[49m\u001b[38;5;241;43m.\u001b[39;49m\u001b[43mget_loc\u001b[49m\u001b[43m(\u001b[49m\u001b[43mlabel\u001b[49m\u001b[43m)\u001b[49m\n\u001b[1;32m   1239\u001b[0m \u001b[38;5;28;01mif\u001b[39;00m is_integer(loc):\n\u001b[1;32m   1240\u001b[0m     \u001b[38;5;28;01mreturn\u001b[39;00m \u001b[38;5;28mself\u001b[39m\u001b[38;5;241m.\u001b[39m_values[loc]\n",
      "File \u001b[0;32m~/miniconda3/envs/local-llm/lib/python3.9/site-packages/pandas/core/indexes/range.py:415\u001b[0m, in \u001b[0;36mRangeIndex.get_loc\u001b[0;34m(self, key)\u001b[0m\n\u001b[1;32m    413\u001b[0m         \u001b[38;5;28;01mreturn\u001b[39;00m \u001b[38;5;28mself\u001b[39m\u001b[38;5;241m.\u001b[39m_range\u001b[38;5;241m.\u001b[39mindex(new_key)\n\u001b[1;32m    414\u001b[0m     \u001b[38;5;28;01mexcept\u001b[39;00m \u001b[38;5;167;01mValueError\u001b[39;00m \u001b[38;5;28;01mas\u001b[39;00m err:\n\u001b[0;32m--> 415\u001b[0m         \u001b[38;5;28;01mraise\u001b[39;00m \u001b[38;5;167;01mKeyError\u001b[39;00m(key) \u001b[38;5;28;01mfrom\u001b[39;00m \u001b[38;5;21;01merr\u001b[39;00m\n\u001b[1;32m    416\u001b[0m \u001b[38;5;28;01mif\u001b[39;00m \u001b[38;5;28misinstance\u001b[39m(key, Hashable):\n\u001b[1;32m    417\u001b[0m     \u001b[38;5;28;01mraise\u001b[39;00m \u001b[38;5;167;01mKeyError\u001b[39;00m(key)\n",
      "\u001b[0;31mKeyError\u001b[0m: -1"
     ]
    }
   ],
   "source": [
    "loaded_model.get_topic_info()[\"Representation\"][-1]"
   ]
  },
  {
   "cell_type": "code",
   "execution_count": 49,
   "metadata": {},
   "outputs": [],
   "source": [
    "# Generate topic name\n",
    "topic_name = {}\n",
    "for i in range(len(loaded_model.get_topic_info())):\n",
    "    rep_words = loaded_model.get_topic_info()[\"Representation\"][i]\n",
    "    topic_name[i-1] = llm.invoke(f\"Generate a 2 to 3 word TOPIC NAME from the words it's represented by: ({rep_words[:4]}). IMPORTANT: EXCLUDE ANY PREAMBLE OR EXPLANATION.\")\n",
    "\n",
    "loaded_model.set_topic_labels(topic_name)"
   ]
  },
  {
   "cell_type": "markdown",
   "metadata": {},
   "source": [
    "![images](ideal_state.png)"
   ]
  },
  {
   "cell_type": "markdown",
   "metadata": {},
   "source": [
    "Note the linked topic under business practices. This happens when we try to topic model across multiple documents."
   ]
  },
  {
   "cell_type": "code",
   "execution_count": 50,
   "metadata": {},
   "outputs": [
    {
     "data": {
      "text/plain": [
       "{-1: 'Annual Report',\n",
       " 0: 'Amazon Sales',\n",
       " 1: 'E-commerce platforms',\n",
       " 2: 'Amazon March Dilution',\n",
       " 3: 'Lease Repayments',\n",
       " 4: 'Financial Reports',\n",
       " 5: 'AWS March'}"
      ]
     },
     "execution_count": 50,
     "metadata": {},
     "output_type": "execute_result"
    }
   ],
   "source": [
    "topic_name"
   ]
  },
  {
   "cell_type": "code",
   "execution_count": null,
   "metadata": {},
   "outputs": [],
   "source": [
    "loaded_model.get_document_info(docs_str)[:1]"
   ]
  },
  {
   "cell_type": "code",
   "execution_count": null,
   "metadata": {},
   "outputs": [],
   "source": [
    "from neo4j import GraphDatabase\n",
    "\n",
    "uri = \"neo4j://localhost:7688\"\n",
    "with GraphDatabase.driver(uri, auth=(\"neo4j\", \"password\")) as driver:\n",
    "    # Clear database\n",
    "    driver.execute_query(\"MATCH (n) DETACH DELETE n\")\n",
    "    # Add all topics\n",
    "    for topic in topic_name:\n",
    "        driver.execute_query(f\"CREATE (t:Topic {{name: '{topic_name[topic]}', id: '{topic}'}})\")\n",
    "    # Add all documents\n",
    "    doc_path = [doc.metadata['file_path'].split(\"/\")[-1] for doc in docs]\n",
    "    set_doc_path = set(doc_path)\n",
    "    for doc in set_doc_path:\n",
    "        driver.execute_query(f\"CREATE (d:Document {{name: '{doc}'}})\")\n",
    "    # Add all document chunks\n",
    "    for i, doc in enumerate(docs):\n",
    "        driver.execute_query(f\"CREATE (c:Chunk {{id: 'chunk_{i}', text: '{doc.page_content}', name: '{doc.metadata['file_path']}', topic: '{loaded_model.get_document_info(docs_str)['Topic'][i]}'}})\")\n",
    "    # Add relationships between documents and chunks\n",
    "    for i, doc in enumerate(docs):\n",
    "        driver.execute_query(f\"MATCH (d:Document {{name: '{doc.metadata['file_path'].split('/')[-1]}'}}), (c:Chunk {{id: 'chunk_{i}'}}) CREATE (d)-[:HAS_CHUNK]->(c)\")\n",
    "        # Add relationships between chunks and topics\n",
    "        driver.execute_query(f\"MATCH (c:Chunk {{id: 'chunk_{i}'}}), (t:Topic {{id: '{loaded_model.get_document_info(docs_str)['Topic'][i]}'}}) CREATE (c)-[:HAS_TOPIC]->(t)\")\n",
    "    # Add direct link between documents and topics\n",
    "    # for doc in set_doc_path:\n",
    "    #     driver.execute_query(f\"MATCH (d:Document {{name: '{doc}'}}), (t:Topic {{id: '{loaded_model.get_document_info(docs_str)['Topic'][doc_path.index(doc)]}'}}) CREATE (d)-[:HAS_TOPIC]->(t)\")\n",
    "    for doc_path in set_doc_path:\n",
    "        # Each main doc has multiple topics associated with it\n",
    "        # Find all topics associated with the doc\n",
    "        chunks = [doc for doc in docs if doc.metadata['file_path'].split('/')[-1] == doc_path]\n",
    "        topics = [loaded_model.get_document_info(docs_str)['Topic'][docs.index(chunk)] for chunk in chunks]\n",
    "        set_topics = set(topics)\n",
    "        for topic in set_topics:\n",
    "            driver.execute_query(f\"MATCH (d:Document {{name: '{doc_path}'}}), (t:Topic {{id: '{topic}'}}) CREATE (d)-[:HAS_TOPIC]->(t)\")\n"
   ]
  },
  {
   "cell_type": "code",
   "execution_count": null,
   "metadata": {},
   "outputs": [
    {
     "data": {
      "text/plain": [
       "-1"
      ]
     },
     "execution_count": 69,
     "metadata": {},
     "output_type": "execute_result"
    }
   ],
   "source": [
    "loaded_model.get_document_info(docs_str)[\"Topic\"][0]"
   ]
  },
  {
   "cell_type": "code",
   "execution_count": 58,
   "metadata": {},
   "outputs": [
    {
     "data": {
      "text/plain": [
       "{-1: 'Annual Report',\n",
       " 0: 'Amazon Sales',\n",
       " 1: 'E-commerce platforms',\n",
       " 2: 'Amazon March Dilution',\n",
       " 3: 'Lease Repayments',\n",
       " 4: 'Financial Reports',\n",
       " 5: 'AWS March'}"
      ]
     },
     "execution_count": 58,
     "metadata": {},
     "output_type": "execute_result"
    }
   ],
   "source": [
    "topic_name"
   ]
  },
  {
   "cell_type": "code",
   "execution_count": 68,
   "metadata": {},
   "outputs": [
    {
     "data": {
      "text/html": [
       "<div>\n",
       "<style scoped>\n",
       "    .dataframe tbody tr th:only-of-type {\n",
       "        vertical-align: middle;\n",
       "    }\n",
       "\n",
       "    .dataframe tbody tr th {\n",
       "        vertical-align: top;\n",
       "    }\n",
       "\n",
       "    .dataframe thead th {\n",
       "        text-align: right;\n",
       "    }\n",
       "</style>\n",
       "<table border=\"1\" class=\"dataframe\">\n",
       "  <thead>\n",
       "    <tr style=\"text-align: right;\">\n",
       "      <th></th>\n",
       "      <th>Topic</th>\n",
       "      <th>Count</th>\n",
       "      <th>Name</th>\n",
       "      <th>Representation</th>\n",
       "      <th>Representative_Docs</th>\n",
       "    </tr>\n",
       "  </thead>\n",
       "  <tbody>\n",
       "    <tr>\n",
       "      <th>0</th>\n",
       "      <td>-1</td>\n",
       "      <td>2</td>\n",
       "      <td>-1_report_references_annual_2020</td>\n",
       "      <td>[report, references, annual, 2020, seller, sel...</td>\n",
       "      <td>[: : Source : 2020 Annual Report, : Y/Y % &gt; Ce...</td>\n",
       "    </tr>\n",
       "    <tr>\n",
       "      <th>1</th>\n",
       "      <td>0</td>\n",
       "      <td>94</td>\n",
       "      <td>0_income_amazon_aws_sales</td>\n",
       "      <td>[income, amazon, aws, sales, billion, quarter,...</td>\n",
       "      <td>[: AMAZON.COM ANNOUNCES FIRST QUARTER RESULTS ...</td>\n",
       "    </tr>\n",
       "    <tr>\n",
       "      <th>2</th>\n",
       "      <td>1</td>\n",
       "      <td>48</td>\n",
       "      <td>1_alibaba_commerce_business_companies</td>\n",
       "      <td>[alibaba, commerce, business, companies, merch...</td>\n",
       "      <td>[: Massive Scale Alibaba &gt; : [ 00 :07 :21 ] Ye...</td>\n",
       "    </tr>\n",
       "    <tr>\n",
       "      <th>3</th>\n",
       "      <td>2</td>\n",
       "      <td>15</td>\n",
       "      <td>2_amazon_march_diluted_2023</td>\n",
       "      <td>[amazon, march, diluted, 2023, quarter, 2024, ...</td>\n",
       "      <td>[: AMAZON.COM ANNOUNCES FIRST QUARTER RESULTS ...</td>\n",
       "    </tr>\n",
       "    <tr>\n",
       "      <th>4</th>\n",
       "      <td>3</td>\n",
       "      <td>15</td>\n",
       "      <td>3_financing_repayments_leases_finance</td>\n",
       "      <td>[financing, repayments, leases, finance, incom...</td>\n",
       "      <td>[: Y/Y % &gt; : ( 4 ) Free cash flow less princip...</td>\n",
       "    </tr>\n",
       "    <tr>\n",
       "      <th>5</th>\n",
       "      <td>4</td>\n",
       "      <td>9</td>\n",
       "      <td>4_stockholders_liabilities_equity_earnings</td>\n",
       "      <td>[stockholders, liabilities, equity, earnings, ...</td>\n",
       "      <td>[: LIABILITIES STOCKHOLDERS ’ EQUITY &gt; : Accou...</td>\n",
       "    </tr>\n",
       "    <tr>\n",
       "      <th>6</th>\n",
       "      <td>5</td>\n",
       "      <td>6</td>\n",
       "      <td>5_aws_2023_months_march</td>\n",
       "      <td>[aws, 2023, months, march, 032, 2024, 037, 247...</td>\n",
       "      <td>[: AWS &gt; Three Months Ended March 31 , 2023 20...</td>\n",
       "    </tr>\n",
       "  </tbody>\n",
       "</table>\n",
       "</div>"
      ],
      "text/plain": [
       "   Topic  Count                                        Name  \\\n",
       "0     -1      2            -1_report_references_annual_2020   \n",
       "1      0     94                   0_income_amazon_aws_sales   \n",
       "2      1     48       1_alibaba_commerce_business_companies   \n",
       "3      2     15                 2_amazon_march_diluted_2023   \n",
       "4      3     15       3_financing_repayments_leases_finance   \n",
       "5      4      9  4_stockholders_liabilities_equity_earnings   \n",
       "6      5      6                     5_aws_2023_months_march   \n",
       "\n",
       "                                      Representation  \\\n",
       "0  [report, references, annual, 2020, seller, sel...   \n",
       "1  [income, amazon, aws, sales, billion, quarter,...   \n",
       "2  [alibaba, commerce, business, companies, merch...   \n",
       "3  [amazon, march, diluted, 2023, quarter, 2024, ...   \n",
       "4  [financing, repayments, leases, finance, incom...   \n",
       "5  [stockholders, liabilities, equity, earnings, ...   \n",
       "6  [aws, 2023, months, march, 032, 2024, 037, 247...   \n",
       "\n",
       "                                 Representative_Docs  \n",
       "0  [: : Source : 2020 Annual Report, : Y/Y % > Ce...  \n",
       "1  [: AMAZON.COM ANNOUNCES FIRST QUARTER RESULTS ...  \n",
       "2  [: Massive Scale Alibaba > : [ 00 :07 :21 ] Ye...  \n",
       "3  [: AMAZON.COM ANNOUNCES FIRST QUARTER RESULTS ...  \n",
       "4  [: Y/Y % > : ( 4 ) Free cash flow less princip...  \n",
       "5  [: LIABILITIES STOCKHOLDERS ’ EQUITY > : Accou...  \n",
       "6  [: AWS > Three Months Ended March 31 , 2023 20...  "
      ]
     },
     "execution_count": 68,
     "metadata": {},
     "output_type": "execute_result"
    }
   ],
   "source": [
    "topic_model.get_topic_info()"
   ]
  },
  {
   "cell_type": "code",
   "execution_count": 72,
   "metadata": {},
   "outputs": [
    {
     "data": {
      "text/plain": [
       "[-1, 0, 1, 2, 3, 4, 5]"
      ]
     },
     "execution_count": 72,
     "metadata": {},
     "output_type": "execute_result"
    }
   ],
   "source": [
    "list(topic_model.get_topic_info()[\"Topic\"])"
   ]
  },
  {
   "cell_type": "code",
   "execution_count": 90,
   "metadata": {},
   "outputs": [
    {
     "data": {
      "text/plain": [
       "[Document(page_content='Metadata:\\nContent:\\namazon', metadata={'bbox': '', 'page_idx': 0, 'level': 0, 'file_path': '/home/jianyang/local-llm/topic-modelling/documents/amazon_report.pdf'}),\n",
       " Document(page_content='Metadata:\\nAMAZON.COM      ANNOUNCES      FIRST      QUARTER      RESULTS  >\\nContent:\\nSEATTLE—(BUSINESS      WIRE)      April      30,      2024—Amazon.com,      Inc.      (NASDAQ:      AMZN)      today      announced      financial      results  \\n \\n  for      its      first      quarter      ended      March      31,      2024.', metadata={'bbox': '', 'page_idx': 0, 'level': 1, 'file_path': '/home/jianyang/local-llm/topic-modelling/documents/amazon_report.pdf'}),\n",
       " Document(page_content='Metadata:\\nAMAZON.COM      ANNOUNCES      FIRST      QUARTER      RESULTS  >\\nContent:\\n \\n \\n \\n¢      Net      sales      increased      13%      to      $143.3      billion      in      the      first      quarter,      compared      with      $127.4      billion      in      first      quarter      2023.  \\n \\n  Excluding      the      $0.2      billion      unfavorable      impact      from      year-over-year      changes      in      foreign      exchange      rates      throughout      the  \\n \\n  quarter,      net      sales      increased      13%      compared      with      first      quarter      2023.', metadata={'bbox': '', 'page_idx': 0, 'level': 1, 'file_path': '/home/jianyang/local-llm/topic-modelling/documents/amazon_report.pdf'}),\n",
       " Document(page_content='Metadata:\\nAMAZON.COM      ANNOUNCES      FIRST      QUARTER      RESULTS  >\\nContent:\\n*\\n \\n   North      America      segment      sales      increased      12%      year-over-year      to      $86.3      billion.', metadata={'bbox': '', 'page_idx': 0, 'level': 2, 'file_path': '/home/jianyang/local-llm/topic-modelling/documents/amazon_report.pdf'}),\n",
       " Document(page_content='Metadata:\\nAMAZON.COM      ANNOUNCES      FIRST      QUARTER      RESULTS¢\\n \\n   International      segment      sales      increased      10%      year-over-year      to      $31.9      billion,      or      increased      11%      excluding  \\n \\n  changes      in      foreign      exchange      rates.  >\\nContent:\\n*\\n \\n   AWS      segment      sales      increased      17%      year-over-year      to      $25.0      billion.', metadata={'bbox': '', 'page_idx': 0, 'level': 2, 'file_path': '/home/jianyang/local-llm/topic-modelling/documents/amazon_report.pdf'}),\n",
       " Document(page_content='Metadata:\\nAMAZON.COM      ANNOUNCES      FIRST      QUARTER      RESULTS  >\\nContent:\\n¢\\n \\n   Operating      income      increased      to      $15.3      billion      in      the      first      quarter,      compared      with      $4.8      billion      in      first      quarter      2023.', metadata={'bbox': '', 'page_idx': 0, 'level': 1, 'file_path': '/home/jianyang/local-llm/topic-modelling/documents/amazon_report.pdf'}),\n",
       " Document(page_content='Metadata:\\nAMAZON.COM      ANNOUNCES      FIRST      QUARTER      RESULTS  >\\nContent:\\n*\\n \\n   North      America      segment      operating      income      was      $5.0      billion,      compared      with      operating      income      of      $0.9      billion  \\n \\n  in      first      quarter      2023.', metadata={'bbox': '', 'page_idx': 0, 'level': 2, 'file_path': '/home/jianyang/local-llm/topic-modelling/documents/amazon_report.pdf'}),\n",
       " Document(page_content='Metadata:\\nAMAZON.COM      ANNOUNCES      FIRST      QUARTER      RESULTS  >\\nContent:\\n¢\\n \\n   International      segment      operating      income      was      $0.9      billion,      compared      with      an      operating      loss      of      $1.2      billion      in  \\n \\n  first      quarter      2023.', metadata={'bbox': '', 'page_idx': 0, 'level': 2, 'file_path': '/home/jianyang/local-llm/topic-modelling/documents/amazon_report.pdf'}),\n",
       " Document(page_content='Metadata:\\nAMAZON.COM      ANNOUNCES      FIRST      QUARTER      RESULTS  >\\nContent:\\n¢«      AWS      segment      operating      income      was      $9.4      billion,      compared      with      operating      income      of      $5.1      billion      in      first  \\n \\n  quarter      2023.', metadata={'bbox': '', 'page_idx': 0, 'level': 2, 'file_path': '/home/jianyang/local-llm/topic-modelling/documents/amazon_report.pdf'}),\n",
       " Document(page_content='Metadata:\\nAMAZON.COM      ANNOUNCES      FIRST      QUARTER      RESULTS  >\\nContent:\\n¢\\n \\n   Net      income      increased      to      $10.4      billion      in      the      first      quarter,      or      $0.98      per      diluted      share,      compared      with      $3.2      billion,      or  \\n \\n  $0.31      per      diluted      share,      in      first      quarter      2023.', metadata={'bbox': '', 'page_idx': 0, 'level': 1, 'file_path': '/home/jianyang/local-llm/topic-modelling/documents/amazon_report.pdf'}),\n",
       " Document(page_content='Metadata:\\nAMAZON.COM      ANNOUNCES      FIRST      QUARTER      RESULTS  >\\nContent:\\n \\n \\n \\n¢      First      quarter      2024      net      income      includes   \\n \\na      pre-tax      valuation      loss      of      $2.0      billion      included      in      non-operating  \\n \\n  expense      from      the      common      stock      investment      in      Rivian      Automotive,      Inc.,      compared      to   \\n \\na      pre-tax      valuation      loss  \\n \\n  of      $0.5      billion      from      the      investment      in      first      quarter      2023.', metadata={'bbox': '', 'page_idx': 0, 'level': 1, 'file_path': '/home/jianyang/local-llm/topic-modelling/documents/amazon_report.pdf'}),\n",
       " Document(page_content='Metadata:\\nAMAZON.COM      ANNOUNCES      FIRST      QUARTER      RESULTS  >\\nContent:\\n*\\n \\n   Operating      cash      flow      increased      82%      to      $99.1      billion      for      the      trailing      twelve      months,      compared      with      $54.3      billion      for  \\n \\n  the      trailing      twelve      months      ended      March      31,      2023.', metadata={'bbox': '', 'page_idx': 0, 'level': 2, 'file_path': '/home/jianyang/local-llm/topic-modelling/documents/amazon_report.pdf'}),\n",
       " Document(page_content='Metadata:\\nAMAZON.COM      ANNOUNCES      FIRST      QUARTER      RESULTS  >\\nContent:\\n*\\n \\n   Free      cash      flow      improved      to      an      inflow      of      $50.1      billion      for      the      trailing      twelve      months,      compared      with      an      outflow      of  \\n \\n  $3.3      billion      for      the      trailing      twelve      months      ended      March      31,      2023.', metadata={'bbox': '', 'page_idx': 0, 'level': 2, 'file_path': '/home/jianyang/local-llm/topic-modelling/documents/amazon_report.pdf'}),\n",
       " Document(page_content='Metadata:\\nAMAZON.COM      ANNOUNCES      FIRST      QUARTER      RESULTS \\n \\n \\n¢      Free      cash      flow      less      principal      repayments      of      finance      leases      and      financing      obligations      improved      to      an      inflow      of  \\n \\n  $46.1      billion      for      the      trailing      twelve      months,      compared      with      an      outflow      of      $10.1      billion      for      the      trailing      twelve      months  \\n \\n  ended      March      31,      2023.  >\\nContent:\\n*\\n \\n   Free      cash      flow      less      equipment      finance      leases      and      principal      repayments      of      all      other      finance      leases      and      financing  \\n \\n  obligations      improved      to      an      inflow      of      $48.8      billion      for      the      trailing      twelve      months,      compared      with      an      outflow      of      $4.5  \\n \\n  billion      for      the      trailing      twelve      months      ended      March      31,      2023.', metadata={'bbox': '', 'page_idx': 0, 'level': 2, 'file_path': '/home/jianyang/local-llm/topic-modelling/documents/amazon_report.pdf'}),\n",
       " Document(page_content='Metadata:\\nAMAZON.COM      ANNOUNCES      FIRST      QUARTER      RESULTS  >\\nContent:\\n \\n \\n  “Tt      was   \\n \\na      good      start      to      the      year      across      the      business,      and      you      can      see      that      in      both      our      customer      experience      improvements      and  \\n \\n  financial      results,”      said      Andy      Jassy,      Amazon      President      and      CEO.\\n“The      combination      of      companies      renewing      their      infrastructure  \\n \\n  modernization      efforts      and      the      appeal      of      AWS’s      AI      capabilities      is      reaccelerating      AWS’s      growth      rate      (now      at   \\n \\na      $100      billion  \\n \\n  annual      revenue      run      rate);      our      Stores      business      continues      to      expand      selection,      provide      everyday      low      prices,      and      accelerate  \\n \\n  delivery      speed      (setting      another      record      on      speed      for      Prime      customers      in      Q1)      while      lowering      our      cost      to      serve;      and,      our  \\n \\n  Advertising      efforts      continue      to      benefit      from      the      growth      of      our      Stores      and      Prime      Video      businesses.\\nIt’s      very      early      days      in      all      of  \\n \\n  our      businesses      and      we      remain      excited      by      how      much      more      we      can      make      customers’      lives      better      and      easier      moving      forward.”', metadata={'bbox': '', 'page_idx': 1, 'level': 1, 'file_path': '/home/jianyang/local-llm/topic-modelling/documents/amazon_report.pdf'}),\n",
       " Document(page_content='Metadata:\\nAMAZON.COM      ANNOUNCES      FIRST      QUARTER      RESULTS\\n>\\nHighlights  >\\nContent:\\nObsessing      over      the      customer      experience Amazon      obsesses      over      how      to      make      customers’      lives      better      and      easier      every      day      with      new      and      improved      products      and      services.\\n \\n \\n  This      is      true      for      consumers,      sellers,      brands,      developers,      enterprises,      and      creators.\\nFor      example,      Amazon:', metadata={'bbox': '', 'page_idx': 1, 'level': 1, 'file_path': '/home/jianyang/local-llm/topic-modelling/documents/amazon_report.pdf'}),\n",
       " Document(page_content='Metadata:\\nAMAZON.COM      ANNOUNCES      FIRST      QUARTER      RESULTS\\n>\\nHighlights  >\\nContent:\\n*\\n \\n   Continued      to      delight      customers      with      fast      and      convenient      delivery.\\nWith      more      than   \\n \\n2      billion      global      units      arriving      the  \\n \\n  same      or      next      day      in      QI,      Amazon      delivered      to      Prime      members      at      its      fastest      speeds      ever.\\nIn      March,      across      the      top      60  \\n \\n  largest      U.S.      metro      areas,      nearly      60%      of      Prime      member      orders      arrived      the      same      or      next      day,      and      in      London,      Tokyo,      and  \\n \\n  Toronto,   \\n \\n3      out      of   \\n \\n4      items      were      delivered      the      same      or      next      day.', metadata={'bbox': '', 'page_idx': 1, 'level': 2, 'file_path': '/home/jianyang/local-llm/topic-modelling/documents/amazon_report.pdf'}),\n",
       " Document(page_content='Metadata:\\nAMAZON.COM      ANNOUNCES      FIRST      QUARTER      RESULTS\\n>\\nHighlights  >\\nContent:\\n*\\n \\n   Expanded      selection      across      the      company’s      stores      with      the      launch      of      popular      brands.\\nIn      the      U.S.,      this      included      Gen   \\n \\nZ       favorite      Parade;      luxury      fashion      and      accessories      from      AREA      and      HBX      Archives      by      Hypebeast;      beauty      brands      Clinique,  \\n \\n  Keys      Soulcare      by      Alicia      Keys,      and      LOVEDO1      by      John      Legend;      tech      brands      Oura      Ring      and      Sonos      speakers;      and  \\n \\n  officially-licensed      products      from      the      National      Women’s      Soccer      League.\\nIn      Europe,      Luxury      Stores      at      Amazon  \\n \\n  announced   \\n \\na      collaboration      with      Hardly      Ever      Worn      It      to      offer      customers      pre-owned      items      from      luxury      brands.', metadata={'bbox': '', 'page_idx': 1, 'level': 2, 'file_path': '/home/jianyang/local-llm/topic-modelling/documents/amazon_report.pdf'}),\n",
       " Document(page_content='Metadata:\\nAMAZON.COM      ANNOUNCES      FIRST      QUARTER      RESULTS\\n>\\nHighlights \\n \\n \\n¢      Helped      customers      save      with      shopping      events      worldwide,      including      Amazon’s      Spring      Deal      Days      in      Europe      and      the      first  \\n \\n  Big      Spring      Sale      in      Canada      and      the      U.S.,      where      customers      saved      on   \\n \\na      wide      selection      of      items      including      fashion,  \\n \\n  outdoor      furniture,      lawn      and      garden      essentials,      and      cleaning      and      organizing      products.\\nAmazon      also      held   \\n \\na      Ramadan  \\n \\n  event      in      Egypt,      Saudi      Arabia,      and      the      UAE,      where      customers      shopped      hundreds      of      thousands      of      deals      on      local      and  \\n \\n  international      brands.\\nAmazon      also      announced      it      will      hold      its      10th      Prime      Day      event      in      July.  >\\nContent:\\n*\\n \\n   Expanded      the      company’s      health      care      offerings      to      provide      customers      in      the      U.S.      more      convenient      access      to      medical  \\n \\n  care      and      medications,      including      adding      Amazon      Pharmacy      home      delivery      of      select      Lilly      diabetes,      obesity,      and  \\n \\n  migraine      medications      to      LillyDirect      patients;      launching      same-day      delivery      of      prescription      medications      to      Amazon  \\n \\n  Pharmacy      customers      in      two      new      locations—greater      Los      Angeles      and      New      York      City—with      plans      to      expand      to      more  \\n \\n  than   \\n \\na      dozen      cities      by      the      end      of      year;      and      introducing      Health      Condition      Programs,      which      makes      it      easier      for  \\n \\n  customers      to      discover      and      enroll      in      digital      health      benefits      for      conditions      like      prediabetes,      diabetes,      and      high      blood  \\n \\n  pressure      in      Amazon’s      U.S.      store.', metadata={'bbox': '', 'page_idx': 1, 'level': 1, 'file_path': '/home/jianyang/local-llm/topic-modelling/documents/amazon_report.pdf'}),\n",
       " Document(page_content='Metadata:\\nAMAZON.COM      ANNOUNCES      FIRST      QUARTER      RESULTS\\n>\\nHighlights  >\\nContent:\\n \\n \\n  ¢«      Launched   \\n \\na      grocery      subscription      for      unlimited      delivery      on      orders      over      $35      from      Whole      Foods      Market,      Amazon      Fresh,  \\n \\n  as      well      as      local      grocery      and      specialty      retailers.\\nThe      subscription      benefit      is      available      to      Prime      members      in      more      than  \\n \\n  3,500      towns      and      cities      in      the      U.S.,      as      well      as      customers      using   \\n \\na      registered      Electronic      Benefits      Transfer      card.', metadata={'bbox': '', 'page_idx': 1, 'level': 1, 'file_path': '/home/jianyang/local-llm/topic-modelling/documents/amazon_report.pdf'}),\n",
       " Document(page_content='Metadata:\\nAMAZON.COM      ANNOUNCES      FIRST      QUARTER      RESULTS\\n>\\nHighlights  >\\nContent:\\n \\n \\n  ¢«      Announced      that      Buy      with      Prime      is      available      for      Salesforce      Commerce      Cloud      merchants.\\nBy      offering      new      features      like  \\n \\n  the      ability      for      shoppers      to      search      and      filter      for      Prime-eligible      items,      and      the      ability      to      purchase      Prime-eligible      and      non-  \\n \\n  eligible      items      in      the      same      order,      Buy      with      Prime      provides      merchants      using      Salesforce      Commerce      Cloud      more  \\n \\n  flexibility      and      functionality,      while      maintaining      control      over      their      stores’      look      and      feel.', metadata={'bbox': '', 'page_idx': 1, 'level': 1, 'file_path': '/home/jianyang/local-llm/topic-modelling/documents/amazon_report.pdf'}),\n",
       " Document(page_content='Metadata:\\nAMAZON.COM      ANNOUNCES      FIRST      QUARTER      RESULTS\\n>\\nHighlights  >\\nContent:\\n*\\n \\n   Announced      that      Prime      Video      will      stream      its      first      NFL      Wild      Card      playoff      game      in      January      2025.\\nPrime      Video,      which      is  \\n \\n  home      to      Thursday      Night      Football,      will      have      exclusive      rights      to      air      an      opening      round      playoff      game.', metadata={'bbox': '', 'page_idx': 1, 'level': 2, 'file_path': '/home/jianyang/local-llm/topic-modelling/documents/amazon_report.pdf'}),\n",
       " Document(page_content='Metadata:\\nAMAZON.COM      ANNOUNCES      FIRST      QUARTER      RESULTS\\n>\\nHighlights  >\\nContent:\\n*\\n \\n   Earned      12      awards      for      Amazon      MGM      Studios      film      American      Fiction,      including      nine      for      Best      Adapted      Screenplay      by  \\n \\n  writer/director      Cord      Jefferson.\\nThese      include      an      Academy      Award,      BAFTA      Film      Award,      Critics      Choice      Award,      two  \\n \\n  Independent      Spirit      Awards,      and      two      Writers      Guild      of      America      Awards.', metadata={'bbox': '', 'page_idx': 1, 'level': 2, 'file_path': '/home/jianyang/local-llm/topic-modelling/documents/amazon_report.pdf'}),\n",
       " Document(page_content='Metadata:\\nAMAZON.COM      ANNOUNCES      FIRST      QUARTER      RESULTS\\n>\\nHighlights  >\\nContent:\\n*\\n \\n   Grew      Prime      Video’s      international      slate      of      content      with      more      than      30      local      Amazon      Originals,      including      Operacion  \\n \\n  Triunfo      (Spain),      Prime      Video’s      first      weekly      live      entertainment      show,      which      was      watched      by      more      than      3.5      million  \\n \\n  unique      viewers      in      Spain;      Indian      Police      Force      (India),      which      had      the      most      viewers      complete      the      entire      first      season      for  \\n \\n  any      Amazon      India      Original      in      its      launch      week;      and      Last      One      Laughing      (Mexico)      Season      Six,      which      is      the      longest  \\n \\n  running      edition      of      the      hit      global      franchise.', metadata={'bbox': '', 'page_idx': 1, 'level': 2, 'file_path': '/home/jianyang/local-llm/topic-modelling/documents/amazon_report.pdf'}),\n",
       " Document(page_content='Metadata:\\nAMAZON.COM      ANNOUNCES      FIRST      QUARTER      RESULTS\\n>\\nHighlights  >\\nContent:\\n¢\\n \\n   Shared      how      customers      and      partners      are      using      AWS      generative      artificial      intelligence      (generative      AJ)      services      to      deliver  \\n \\n  new      customer      experiences,      accelerate      employee      productivity,      and      transform      operations.', metadata={'bbox': '', 'page_idx': 1, 'level': 1, 'file_path': '/home/jianyang/local-llm/topic-modelling/documents/amazon_report.pdf'}),\n",
       " Document(page_content='Metadata:\\nAMAZON.COM      ANNOUNCES      FIRST      QUARTER      RESULTS\\n>\\nHighlights  >\\nContent:\\nSiemens      is      integrating      Amazon      Bedrock      into      its      low-code      development      platform      Mendix      to      allow      thousands  \\n \\n  of      companies      across      multiple      industries      to      create      and      upgrade      applications      with      the      power      of      generative      AI.', metadata={'bbox': '', 'page_idx': 2, 'level': 1, 'file_path': '/home/jianyang/local-llm/topic-modelling/documents/amazon_report.pdf'}),\n",
       " Document(page_content='Metadata:\\nAMAZON.COM      ANNOUNCES      FIRST      QUARTER      RESULTS\\n>\\nHighlights  >\\nContent:\\n \\n \\n  Philips      is      using      AWS      HealthImaging      and      Amazon      Bedrock      to      scale      digital      pathology,      helping      labs      and  \\n \\n  healthcare      organizations      improve      diagnostics,      increase      productivity,      accelerate      research,      and      address      complex  \\n \\n  medical      cases,      like      cancer      care.', metadata={'bbox': '', 'page_idx': 2, 'level': 1, 'file_path': '/home/jianyang/local-llm/topic-modelling/documents/amazon_report.pdf'}),\n",
       " Document(page_content='Metadata:\\nAMAZON.COM      ANNOUNCES      FIRST      QUARTER      RESULTS\\n>\\nHighlights  >\\nContent:\\n \\n \\n  Accenture      and      Anthropic      are      collaborating      with      AWS      to      help      organizations—especially      those      in      highly-  \\n \\n  regulated      industries      like      healthcare,      public      sector,      banking,      and      insurance—responsibly      adopt      and      scale  \\n \\n  generative      AI      technology      with      Amazon      Bedrock.\\nThis      collaboration      will      help      organizations      like      the      District  \\n \\n  of      Columbia      Department      of      Health      speed      innovation,      improve      customer      service,      and      improve      productivity,  \\n \\n  while      keeping      data      private      and      secure.', metadata={'bbox': '', 'page_idx': 2, 'level': 1, 'file_path': '/home/jianyang/local-llm/topic-modelling/documents/amazon_report.pdf'}),\n",
       " Document(page_content='Metadata:\\nAMAZON.COM      ANNOUNCES      FIRST      QUARTER      RESULTS\\n>\\nHighlights  >\\nContent:\\n \\n \\n  BT      Group,   \\n \\na      multinational      communications      company,      provided      Amazon   \\n \\nQ      Developer      to      1,200      of      its  \\n \\n  engineers,      generating      more      than      100,000      lines      of      code      in      its      first      four      months      and      automating      approximately  \\n \\n  12%      of      the      repetitive      and      time-consuming      work      done      by      software      engineers      using      the      platform.', metadata={'bbox': '', 'page_idx': 2, 'level': 1, 'file_path': '/home/jianyang/local-llm/topic-modelling/documents/amazon_report.pdf'}),\n",
       " Document(page_content='Metadata:\\nAMAZON.COM      ANNOUNCES      FIRST      QUARTER      RESULTS\\n>\\nHighlights  >\\nContent:\\n \\n \\n  The      Deutsche      Fu8ball      Liga      (DFL)      named      AWS      the      Official      Generative      AI      Provider      of      the      DFL,      and      is      using  \\n \\n  AI      on      AWS      to      generate      metadata      that      allows      the      league,      clubs,      and      media      partners      to      more      efficiently      search  \\n \\n  for      content      in      more      than      210,000      hours      of      video      footage.', metadata={'bbox': '', 'page_idx': 2, 'level': 1, 'file_path': '/home/jianyang/local-llm/topic-modelling/documents/amazon_report.pdf'}),\n",
       " Document(page_content='Metadata:\\nAMAZON.COM      ANNOUNCES      FIRST      QUARTER      RESULTS\\n>\\nHighlights  >\\nContent:\\n \\n \\n  Audi      used      Amazon      SageMaker      and      Amazon      OpenSearch      Service      to      build   \\n \\na      generative      AI      chatbot      to      improve  \\n \\n  its      enterprise      search      experience      and      help      employees      find      and      navigate      internal      documentation,      reducing  \\n \\n  search      time      from      hours      to   \\n \\na      few      seconds      and      improving      productivity.', metadata={'bbox': '', 'page_idx': 2, 'level': 1, 'file_path': '/home/jianyang/local-llm/topic-modelling/documents/amazon_report.pdf'}),\n",
       " Document(page_content='Metadata:\\nAMAZON.COM      ANNOUNCES      FIRST      QUARTER      RESULTS\\n>\\nHighlights  >\\nContent:\\n \\n \\n  Konica      Minolta      Healthcare,   \\n \\na      medical      diagnostic      imaging      and      healthcare      information      technology      company,  \\n \\n  announced      an      enterprise      imaging      cloud      platform      using      AWS      HealthImaging      to      reduce      image      storage      costs,  \\n \\n  enable      access      from      almost      anywhere,      and      accelerate      data      retrieval.', metadata={'bbox': '', 'page_idx': 2, 'level': 1, 'file_path': '/home/jianyang/local-llm/topic-modelling/documents/amazon_report.pdf'}),\n",
       " Document(page_content='Metadata:\\nAMAZON.COM      ANNOUNCES      FIRST      QUARTER      RESULTS\\n>\\nHighlights  >\\nContent:\\n \\n \\n  Dana-Farber      Cancer      Institute      built   \\n \\na      new      research      solution      on      Amazon      Bedrock      to      help      clinicians      interpret  \\n \\n  complex      lab      results      to      help      diagnose      medical      conditions,      assess      treatment      efficacy,      and      determine      next      steps  \\n \\n  in      clinical      care.', metadata={'bbox': '', 'page_idx': 2, 'level': 1, 'file_path': '/home/jianyang/local-llm/topic-modelling/documents/amazon_report.pdf'}),\n",
       " Document(page_content='Metadata:\\nAMAZON.COM      ANNOUNCES      FIRST      QUARTER      RESULTS\\n>\\nHighlights  >\\nContent:\\n \\n \\n  Enterprise      healthcare      software      provider      symplr      announced   \\n \\na      generative      AI      solution      that      uses      Amazon  \\n \\n  Bedrock      and      Amazon   \\n \\nQ      to      connect      and      optimize      hospital      operations      so      clinicians      and      administrators      can  \\n \\n  quickly      access      relevant      data,      simplifying      staff      scheduling      and      other      administrative      processes.', metadata={'bbox': '', 'page_idx': 2, 'level': 1, 'file_path': '/home/jianyang/local-llm/topic-modelling/documents/amazon_report.pdf'}),\n",
       " Document(page_content='Metadata:\\nAMAZON.COM      ANNOUNCES      FIRST      QUARTER      RESULTS\\n>\\nHighlights  >\\nContent:\\n \\n \\n  Choice      Hotels      became      the      first      hotel      company      to      migrate      its      entire      system      infrastructure      to      the      cloud.\\nThe  \\n \\n  move      to      AWS      is      part      of      Choice      Hotels’      long-term      technology      roadmap      and      adoption      of      AI,      and      involves  \\n \\n  decommissioning      more      than      3,700      servers,      retiring      over      300      applications,      and      migrating      more      than      250  \\n \\n  applications.', metadata={'bbox': '', 'page_idx': 2, 'level': 1, 'file_path': '/home/jianyang/local-llm/topic-modelling/documents/amazon_report.pdf'}),\n",
       " Document(page_content='Metadata:\\nAMAZON.COM      ANNOUNCES      FIRST      QUARTER      RESULTS\\n>\\nHighlights  >\\nContent:\\n \\n \\n  Mobile      network      operator      Tele2      launched      an      Internet      of      Things      customer      support      solution,      powered      by  \\n \\n  Amazon      Bedrock,      to      help      agents      provide      faster      and      more      detailed      conversational      responses      to      customers  \\n \\n  across      multiple      channels.', metadata={'bbox': '', 'page_idx': 2, 'level': 1, 'file_path': '/home/jianyang/local-llm/topic-modelling/documents/amazon_report.pdf'}),\n",
       " Document(page_content='Metadata:\\nAMAZON.COM      ANNOUNCES      FIRST      QUARTER      RESULTS\\n>\\nHighlights  >\\nContent:\\n \\n \\n  Vonage,   \\n \\na      cloud      communications      provider,      announced   \\n \\na      new      anti-fraud      solution      with      AWS      generative      Al  \\n \\n  capabilities      to      enable      businesses      to      better      protect      themselves      from      mobile      fraud      while      improving      customer  \\n \\n  experiences.', metadata={'bbox': '', 'page_idx': 2, 'level': 1, 'file_path': '/home/jianyang/local-llm/topic-modelling/documents/amazon_report.pdf'}),\n",
       " Document(page_content='Metadata:\\nAMAZON.COM      ANNOUNCES      FIRST      QUARTER      RESULTS\\n>\\nHighlights  >\\nContent:\\n \\n \\n  Genomics      England,   \\n \\na      human      genome      research      organization,      is      using      Amazon      Bedrock      to      help      researchers  \\n \\n  identify      associations      between      genetic      variants      and      medical      conditions      by      quickly      processing      millions      of      pages  \\n \\n  of      scientific      literature,      with      the      goal      of      informing      future      genetic      tests      and      improving      human      health.', metadata={'bbox': '', 'page_idx': 2, 'level': 1, 'file_path': '/home/jianyang/local-llm/topic-modelling/documents/amazon_report.pdf'}),\n",
       " Document(page_content='Metadata:\\nAMAZON.COM      ANNOUNCES      FIRST      QUARTER      RESULTS\\n>\\nHighlights  >\\nContent:\\n \\n \\n  AI      biotechnology      company      Owkin      selected      AWS      as      its      primary      cloud      provider      to      develop      generative      AI  \\n \\n  applications      and      accelerate      drug      discovery      and      development,      empowering      scientists      and      researchers      to      access,  \\n \\n  analyze,      and      manage      vast      amounts      of      data      efficiently      and      securely      in      the      cloud.', metadata={'bbox': '', 'page_idx': 2, 'level': 1, 'file_path': '/home/jianyang/local-llm/topic-modelling/documents/amazon_report.pdf'}),\n",
       " Document(page_content='Metadata:\\nAMAZON.COM      ANNOUNCES      FIRST      QUARTER      RESULTS\\n>\\nHighlights  >\\nContent:\\n<table><tr><td colSpan=1></td><td colSpan=1>      Parsyl,      a      data-powered      insurer,      is      using      Amazon      Bedrock      to      turn      unwieldy      customer      information,      like      email       attachments      in      different      formats,      into      usable      data      to      help      identify      patterns      of      risk      for      businesses      transporting       goods.</td></tr><tr><td colSpan=1>      e</td><td colSpan=1><p>Plans      to      launch      new      infrastructure      Regions      in      the      Kingdom      of      Saudi      Arabia      and      in      Mexico,      which      will      give  \\n \\n  developers,      startups,      entrepreneurs,      and      enterprises      greater      choice      for      running      their      applications      and      serving  \\n \\n  end      users.\\nAs      part      of      AWS’s      long-term      commitment,      it      is      planning      to      invest      more      than      $5.3      billion      in      the  \\n \\n  Kingdom      of      Saudi      Arabia      and      more      than      $5      billion      in      Mexico      over      the      next      several      years.\\n \\n \\n  A      planned      investment      of      $10      billion      to      build      two      data      center      complexes      in      Mississippi.\\nThis      investment,  \\n \\n  which      is      the      single      largest      capital      investment      in      the      state’s      history,      will      create      at      least      1,000      jobs      and      support  \\n \\n  new      educational      trainings      in      the      state.\\n \\n \\n  The      general      availability      of      new      AWS      Local      Zones      in      Atlanta,      Chicago,      and      Houston.\\nIn      Atlanta,      AWS      Local  \\n \\n  Zones      support      EC2      P5      instances,      which      deliver      the      highest      performance      for      deep      learning      and      high-  \\n \\n  performance      computing      applications.</p></td></tr><tr><td colSpan=1>      e</td><td colSpan=1><p>On      the      software      development      side,      Amazon   \\n \\nQ      not      only      generates      highly      accurate      code,      but      also      tests      code,  \\n \\n  debugs      coding      conflicts,      and      transforms      code      from      one      form      to      another      (today,      developers      can      save      months  \\n \\n  using   \\n \\nQ      to      move      from      older      versions      of      Java      to      newer,      more      secure      and      capable      ones;      in      the      near      future,   \\n \\nQ       will      help      developers      transform      their     .net      code      as      well).\\n \\n \\nQ      Developer      Agents      does      multi-step      planning      and  \\n \\n  reasoning      to      allow      developers      to      string      together      multiple      requests      and      have   \\n \\nQ      implement      them.\\n \\n \\n  On      the      internal      data      side,      most      companies      have      large      troves      of      data      that      reside      in      wikis,      intranet      pages,  \\n \\n  Salesforce,      storage      repositories      like      Amazon      $3,      and      many      other      data      stores      and      SaaS      apps      that      are      hard      to  \\n \\n  access.\\nIt      makes      answering      straightforward      questions      about      company      policies,      products,      business      results,  \\n \\n  code,      people,      and      many      other      topics      hard      and      frustrating.\\n \\n \\nQ      makes      this      much      simpler.\\nCustomers      can      point   \\n \\nQ       at      all      of      its      enterprise      data      repositories,      and      it’ll      search      this      data,      summarize      logically,      analyze      trends,      and  \\n \\n  engage      in      dialog      with      customers      about      this      data.\\nWith      the      launch      of   \\n \\na      powerful      new      capability      called   \\n \\nQ      Apps,  \\n \\n  employees      can      now      describe,      in      natural      language,      what      apps      they      want      to      build      on      top      of      this      internal      data,  \\n \\n  and   \\n \\nQ      Apps      will      quickly      generate      that      app.\\nThis      will      make      it      much      easier      for      internal      teams      to      build      useful  \\n \\n  apps      from      their      own      data.\\n \\n \\n  The      general      availability      of      Anthropic’s      Claude   \\n \\n3      family      of      vision-enabled      foundation      models      (FMs)—Opus,  \\n \\n  Sonnet,      and      Haiku—which      are      the      best      performing      models      in      the      world      right      now      and      provide      industry-  \\n \\n  leading      accuracy,      performance,      speed,      and      cost.\\nClaude   \\n \\n3      Opus      has      set   \\n \\na      new      standard,      outperforming      other  \\n \\n  models      available      today      in      the      areas      of      reasoning,      math,      and      coding.\\nAmazon      Bedrock      became      the      first  \\n \\n  managed      service      to      add      Claude   \\n \\n3      models,      and      continues      to      provide      customers      with      the      widest      choice      of      high-  \\n \\n  performing,      fully-managed      large      language      models      (LLMs)      and      FMs.\\n \\n \\n  The      general      availability      of      Meta      Llama   \\n \\n3      models,   \\n \\na      collection      of      pretrained      and      instruction      fine-tuned      LLMs  \\n \\n  that      come      in      two      sizes—8B      and      70B.\\nThe      new      models      demonstrate      significant      improvements      over      previous  \\n \\n  versions      due      to      vastly      increased      training      data      and      scale.\\nThis      collection      of      models      supports   \\n \\na      broad      range      of  \\n \\n  use      cases,      like      text      summarization      and      classification,      sentiment      analysis,      language      translation,      and      code  \\n \\n  generation.\\n \\n \\n  The      addition      of      FMs      from      leading      AI      startup      Mistral      AI.\\nMistral      Large,      the      latest      and      most      advanced      LLM  \\n \\n  from      Mistral      AI,      provides      top-tier      reasoning      capabilities      for      complex      multilingual      reasoning      tasks.\\nMistral  \\n \\n  AI’s      Mixtral      8x7B      and      Mistral      7B      models      can      summarize,      answer      questions,      and      help      organize      information  \\n \\n  with      their      deep      understanding      of      text      structure      and      architecture.\\n \\n \\n  The      availability      of      new      Cohere      models      (Command      R      and      Command      R+)      on      Bedrock.\\n \\n \\n  New      first      party      Amazon      Titan      LLMs,      including      Amazon      Titan      Text      Embeddings      V2      and      the      general  \\n \\n  availability      of      Amazon      Titan      Image      Generator.</p></td></tr></table>', metadata={'bbox': '', 'page_idx': 2, 'level': 1, 'file_path': '/home/jianyang/local-llm/topic-modelling/documents/amazon_report.pdf'}),\n",
       " Document(page_content='Metadata:\\nAMAZON.COM      ANNOUNCES      FIRST      QUARTER      RESULTS\\n>\\nHighlights  \\n \\n*      The      general      availability      of      Model      Evaluation,      which      is      the      fastest      way      for      organizations      to      analyze,      compare,  \\n \\n  and      select      models      on      Amazon      Bedrock,      reducing      time      from      weeks      to      hours      spent      evaluating      models      so  \\n \\n  customers      can      bring      new      applications      and      experiences      to      market      faster.  >\\nContent:\\n*\\n \\n   The      general      availability      of      Guardrails,      which      provides      customers      with      best-in-class      technology      to      easily  \\n \\n  implement      safeguards      to      remove      personal      and      sensitive      information,      profanity,      specific      words,      and      harmful  \\n \\n  content.\\nGuardrails      offers      industry-leading      safety      protection      on      top      of      the      native      capabilities      of      FMs,      helping  \\n \\n  customers      block      up      to      85%      of      harmful      content.\\nGuardrails      is      the      only      solution      offered      by   \\n \\na      broad      cloud  \\n \\n  provider      that      allows      customers      to      have      built-in      and      custom      safeguards      in   \\n \\na      single      offering,      and      it      works      with  \\n \\n  all      LLMs      in      Amazon      Bedrock,      as      well      as      fine-tuned      models.', metadata={'bbox': '', 'page_idx': 4, 'level': 1, 'file_path': '/home/jianyang/local-llm/topic-modelling/documents/amazon_report.pdf'}),\n",
       " Document(page_content='Metadata:\\nAMAZON.COM      ANNOUNCES      FIRST      QUARTER      RESULTS\\n>\\nHighlights  >\\nContent:\\n \\n \\n \\n¢      The      new      Custom      Model      Import      capability      that      makes      it      simple      for      customers      to      import      models      from  \\n \\n  SageMaker      (or      elsewhere)      into      Bedrock      before      deploying      their      application—enabling      customers      to      take  \\n \\n  advantage      of      all      the      Bedrock      features      that      make      it      so      much      easier      to      build      high      quality      production-grade  \\n \\n  generative      AI      apps.', metadata={'bbox': '', 'page_idx': 4, 'level': 1, 'file_path': '/home/jianyang/local-llm/topic-modelling/documents/amazon_report.pdf'}),\n",
       " Document(page_content='Metadata:\\nAMAZON.COM      ANNOUNCES      FIRST      QUARTER      RESULTS\\n>\\nHighlights  >\\nContent:\\n \\n \\n  Announced      the      extension      of      AWS      and      NVIDIA’s      strategic      collaboration      to      make      AWS      the      best      place      to      run      NVIDIA  \\n \\n  GPUs,      helping      customers      unlock      new      generative      AI      capabilities.\\nAWS      will      bring      together      NVIDIA’s      next-generation  \\n \\n  Blackwell      platform      with      AWS      Nitro      System      and      AWS      Key      Management      Service      advanced      security,      Elastic      Fabric  \\n \\n  Adapter      petabit-scale      networking,      and      Amazon      EC2      UltraCluster      hyper-scale      clustering,      enabling      customers      to  \\n \\n  securely      build      and      run      multi-trillion      parameter      LLMs      faster,      at      massive      scale,      and      at   \\n \\na      lower      cost      than      previous-  \\n \\n  generation      NVIDIA      GPUs      on      Amazon      EC2.\\nIn      addition,      Project      Ceiba,      an      AI      supercomputer      being      jointly      developed  \\n \\n  by      AWS      and      NVIDIA      exclusively      on      AWS      for      NVIDIA’s      own      AI      research      and      development,      will      be      built      on      the  \\n \\n  Blackwell      platform.', metadata={'bbox': '', 'page_idx': 4, 'level': 1, 'file_path': '/home/jianyang/local-llm/topic-modelling/documents/amazon_report.pdf'}),\n",
       " Document(page_content=\"Metadata:\\nAMAZON.COM      ANNOUNCES      FIRST      QUARTER      RESULTS\\n>\\nHighlights  >\\nContent:\\n \\n \\n  Continued      to      meet      growing      demand      for      AWS      Trainium      and      Inferentia      chips,      which      help      customers      maximize  \\n \\n  performance      and      control      costs      for      their      machine      learning      (ML)      workloads.\\nCustomers      using      these      purpose-built      AWS       ML      AI      chips      include      Anthropic,      Databricks,      Leonardo.ai,      Qualtrics,      Ricoh,      Stockmark,      Watashiha,      and      Vyond.\\nIn  \\n \\n  addition,      Meta\\\\\\\\\\\\'s      recently-launched      Llama   \\n \\n3      model      is      running      on      Trainium      and      Inferentia2—delivering      the      lowest      cost  \\n \\n  to      train,      fine      tune,      and      deploy      Llama   \\n \\n3      on      AWS.\", metadata={'bbox': '', 'page_idx': 4, 'level': 1, 'file_path': '/home/jianyang/local-llm/topic-modelling/documents/amazon_report.pdf'}),\n",
       " Document(page_content='Metadata:\\nAMAZON.COM      ANNOUNCES      FIRST      QUARTER      RESULTS\\n>\\nHighlights  >\\nContent:\\n \\n \\n  Updated      AWS      Neuron      (software      that      lets      customers      use      popular      frameworks      like      PyTorch      to      train      and      deploy      models  \\n \\n  with      minimal      code      changes      on      Amazon      EC2      instances,      powered      by      Trainium      and      Inferentia      chips)      to      include      features  \\n \\n  that      further      reduce      costs      for      LLM      inference      for      both      external      customers      and      internal      teams      at      Amazon,      such      as  \\n \\n  Amazon      Rufus.', metadata={'bbox': '', 'page_idx': 4, 'level': 1, 'file_path': '/home/jianyang/local-llm/topic-modelling/documents/amazon_report.pdf'}),\n",
       " Document(page_content='Metadata:\\nAMAZON.COM      ANNOUNCES      FIRST      QUARTER      RESULTS\\n>\\nHighlights  >\\nContent:\\n \\n \\n  Continued      to      rollout      Rufus      in      the      Amazon      Shopping      app      to      millions      of      customers      in      the      U.S.      Rufus,      in      beta,      is   \\n \\na      new       generative      AlI-powered      shopping      assistant      that      can      help      customers      save      time      and      make      more      informed      purchase  \\n \\n  decisions      by      answering   \\n \\na      variety      of      shopping-related      questions,      providing      product      comparisons,      making  \\n \\n  recommendations,      and      more.\\nAmazon      improved      Rufus’      answer      accuracy      and      response      speed,      and      added      new      features,  \\n \\n  including      “My      Orders,”      which      answers      questions      such      as      “when      did   \\n \\nI      last      order      coffee?”\\nand      “what      dog      treats      did   \\n \\nI      last  \\n \\n  order?”\\n \\n \\n  Added      more      generative      AI      features      for      independent      sellers      in      the      U.S.      to      create      product      listings,      including   \\n \\na      new      tool  \\n \\n  that      allows      sellers      to      leverage      product      listings      on      their      own      websites,      simply      by      providing      Amazon      with   \\n \\na      URL.\\n \\n \\n  Amazon’s      generative      Al-based      features      automatically      parse      the      information      to      seamlessly      create      high-quality,  \\n \\n  engaging      listings      for      Amazon’s      store.\\nThis      feature      further      enhances      and      streamlines      the      process      of      creating      product  \\n \\n  listings,      saving      sellers      time      and      effort,      while      also      developing      product      listings      that      appeal      to      customers      and      help      drive  \\n \\n  sales.', metadata={'bbox': '', 'page_idx': 4, 'level': 1, 'file_path': '/home/jianyang/local-llm/topic-modelling/documents/amazon_report.pdf'}),\n",
       " Document(page_content='Metadata:\\nAMAZON.COM      ANNOUNCES      FIRST      QUARTER      RESULTS\\n>\\nHighlights  >\\nContent:\\n \\n \\n  Released      20      films      and      series      from      Amazon      MGM      Studios,      including      the      debut      season      of      Fallout,      which      attracted      more  \\n \\n  than      65      million      viewers      worldwide      and      has      become      the      second      most      watched      title      ever      on      Prime      Video      through      its      first  \\n \\n  16      days;      Road      House,      which      attracted      more      than      50      million      viewers      worldwide      in      its      first      two      weekends      streaming      on  \\n \\n  Prime      Video,      the      biggest      debut      ever      for      an      Amazon      MGM      Studios-produced      film;      Hazbin      Hotel,      which      had      the      most  \\n \\n  total      global      viewers      on      its      opening      weekend      for   \\n \\na      new      animated      series      on      Prime      Video;      and      The      Beekeeper,      which  \\n \\n  ranked      in      the      top-10      of      theatrical      releases      by      revenue      globally      in      the      first      quarter.', metadata={'bbox': '', 'page_idx': 4, 'level': 1, 'file_path': '/home/jianyang/local-llm/topic-modelling/documents/amazon_report.pdf'}),\n",
       " Document(page_content='Metadata:\\nAMAZON.COM      ANNOUNCES      FIRST      QUARTER      RESULTS\\n>\\nHighlights  >\\nContent:\\n \\n \\n  Announced      plans      to      create   \\n \\na      new      series      from      MrBeast,      the      world’s      most-subscribed      YouTube      creator.\\nBeast      Games      is  \\n \\n  set      to      have      1,000      contestants      competing      for      $5      million—the      biggest      single      prize      in      the      history      of      television      and  \\n \\n  streaming.\\nThe      series      will      premiere      on      Prime      Video      in      more      than      240      countries      and      territories      and      is      based      on  \\n \\n  MrBeast’s      popular      show.', metadata={'bbox': '', 'page_idx': 4, 'level': 1, 'file_path': '/home/jianyang/local-llm/topic-modelling/documents/amazon_report.pdf'}),\n",
       " Document(page_content='Metadata:\\nAMAZON.COM      ANNOUNCES      FIRST      QUARTER      RESULTS\\n>\\nHighlights  >\\nContent:\\nAnnounced   \\n \\na      global      collaboration      that      will      bring      Fire      TV      to      Panasonic’s      new      smart      TVs.\\nCustomers      will      get      the  \\n \\n  benefits      of      Fire      TV’s      personalized      streaming      and      access      to      Alexa,      combined      with      Panasonic’s      smart      TVs.\\nAmazon  \\n \\n  also      announced      Matter      Casting      on      Fire      TV      and      Echo      Show      15—an      industry-first      implementation      of      this      practice.\\n \\n \\n  Matter      Casting      lets      customers      stream      and      control      content      on      their      television      or      streaming      stick      from      their      mobile      app.\\n \\n \\n  Customers      can      begin      watching   \\n \\na      movie      from      Prime      Video      on      their      phone,      and      cast      it      to   \\n \\na      compatible      Fire      TV      or      Echo  \\n \\n  Show      15      to      continue      watching      on   \\n \\na      bigger      screen.', metadata={'bbox': '', 'page_idx': 4, 'level': 1, 'file_path': '/home/jianyang/local-llm/topic-modelling/documents/amazon_report.pdf'}),\n",
       " Document(page_content='Metadata:\\nAMAZON.COM      ANNOUNCES      FIRST      QUARTER      RESULTS\\n>\\nHighlights  >\\nContent:\\n \\n \\n  Launched      Ring      Battery      Doorbell      Pro,      Ring’s      most      advanced      battery-powered      doorbell.\\nIt      features      3D      Motion  \\n \\n  Detection      to      make      motion      alerts      more      precise;      HD+      Head-to-Toe      Video      to      improve      image      quality;      and      Audio      Toggle  \\n \\n  to      turn      audio      recording      on      and      off.', metadata={'bbox': '', 'page_idx': 5, 'level': 1, 'file_path': '/home/jianyang/local-llm/topic-modelling/documents/amazon_report.pdf'}),\n",
       " Document(page_content='Metadata:\\nAMAZON.COM      ANNOUNCES      FIRST      QUARTER      RESULTS\\n>\\nHighlights  >\\nContent:\\n \\n \\n  Introduced      Blink      Mini      2,   \\n \\na      compact      plug-in      camera      that      works      both      indoors      and      outdoors.\\nBlink      Mini   \\n \\n2      features  \\n \\n  enhanced      image      quality,   \\n \\na      built-in      LED      spotlight      for      night      view      in      color,      and      on-device      computer      vision      to      support  \\n \\n  smart      notifications,      including      person      detection      so      customers      can      receive      alerts      only      when   \\n \\na      person      is      detected      (versus  \\n \\n  an      animal      or      object).', metadata={'bbox': '', 'page_idx': 5, 'level': 1, 'file_path': '/home/jianyang/local-llm/topic-modelling/documents/amazon_report.pdf'}),\n",
       " Document(page_content='Metadata:\\nAMAZON.COM      ANNOUNCES      FIRST      QUARTER      RESULTS\\n>\\nHighlights  >\\nContent:\\n \\n \\n  Achieved      several      important      milestones      on      the      path      toward      commercializing      Zoox,      Amazon’s      self-driving      robotaxi,  \\n \\n  which      is      expected      later      this      year.\\nKey      deliverables      included:      receiving      Zoox’s      California      Public      Utilities      Commission  \\n \\n  Driverless      Autonomous      Vehicle      Pilot      permit,      which      allows      Zoox      to      carry      members      of      the      public      in      Foster      City,  \\n \\n  California,      without      charging   \\n \\na      fare;      expanding      driving      capabilities      to      include      higher      speeds,      night      driving,      and      driving  \\n \\n  in      light      rain      in      both      California      and      Nevada;      and      expanding      the      virtual      boundary      where      Zoox      can      operate      its      robotaxis  \\n \\n  in      Las      Vegas,      helping      prepare      for      the      first      public      riders      in      the      city      later      this      year.', metadata={'bbox': '', 'page_idx': 5, 'level': 1, 'file_path': '/home/jianyang/local-llm/topic-modelling/documents/amazon_report.pdf'}),\n",
       " Document(page_content='Metadata:\\nAMAZON.COM      ANNOUNCES      FIRST      QUARTER      RESULTS\\n>\\nHighlights  >\\nContent:\\n \\n \\n  Announced      Whole      Foods      Market      Daily      Shop,   \\n \\na      new      quick-shop      store      designed      to      provide      customers      in      urban  \\n \\n  neighborhoods   \\n \\na      quick,      convenient      shopping      experience.\\nThe      new      format      will      launch      on      the      Upper      East      Side      in  \\n \\n  Manhattan,      with      additional      locations      in      New      York      City      to      follow.', metadata={'bbox': '', 'page_idx': 5, 'level': 1, 'file_path': '/home/jianyang/local-llm/topic-modelling/documents/amazon_report.pdf'}),\n",
       " Document(page_content='Metadata:\\nAMAZON.COM      ANNOUNCES      FIRST      QUARTER      RESULTS\\n>\\nHighlights  >\\nContent:\\n \\n \\n  Announced      that      Amazon      improved      recordable      incident      rates      (any      work-related      injury      that      requires      more      than      basic  \\n \\n  first-aid      treatment)      by      30%      and      lost      time      incident      rates      (any      work-related      injury      that      requires      someone      to      take      time  \\n \\n  away      from      work)      by      60%      worldwide      over      the      past      four      years.\\nIn      2024,      Amazon      plans      to      invest      over      $750      million      in  \\n \\n  technologies,      resources,      training,      and      programs      to      further      improve      safety      across      its      network.', metadata={'bbox': '', 'page_idx': 5, 'level': 1, 'file_path': '/home/jianyang/local-llm/topic-modelling/documents/amazon_report.pdf'}),\n",
       " Document(page_content='Metadata:\\nAMAZON.COM      ANNOUNCES      FIRST      QUARTER      RESULTS\\n>\\nHighlights  >\\nContent:\\n \\n \\n  Achieved      record-breaking      participation      in      Career      Choice,      Amazon’s      education      benefit      that      empowers      employees      to  \\n \\n  learn      new      skills      for      career      success,      in      the      first      quarter.\\nSince      the      program      launched      in      2012,      nearly      200,000      employees  \\n \\n  have      furthered      their      education,      earned      industry      certifications,      and      learned      new      skills      through      the      program.', metadata={'bbox': '', 'page_idx': 5, 'level': 1, 'file_path': '/home/jianyang/local-llm/topic-modelling/documents/amazon_report.pdf'}),\n",
       " Document(page_content='Metadata:\\nAMAZON.COM      ANNOUNCES      FIRST      QUARTER      RESULTS\\n>\\nHighlights  >\\nContent:\\n \\n \\n  Ranked      No.   \\n \\n3      on      Fortune      magazine’s      World’s      Most      Admired      Companies      list—      Amazon’s      eighth      straight      year      in      the  \\n \\n  top      three.\\nThe      annual      ranking      is      determined      by   \\n \\na      survey      of      top      executives      and      analysts,      and      companies      are      evaluated  \\n \\n  on      factors      including      the      quality      of      their      management      and      products,      commitments      to      social      responsibility,      and      ability      to  \\n \\n  attract      talent.', metadata={'bbox': '', 'page_idx': 5, 'level': 1, 'file_path': '/home/jianyang/local-llm/topic-modelling/documents/amazon_report.pdf'}),\n",
       " Document(page_content='Metadata:\\nAMAZON.COM      ANNOUNCES      FIRST      QUARTER      RESULTS\\n>\\nHighlights  >\\nContent:\\n \\n \\n  Expanded      opportunities      for      women      in      India,      including      awarding      new      scholarships      for      500      women      students      to      help  \\n \\n  them      build   \\n \\na      career      in      technology      as      part      of      the      Amazon      Future      Engineer      Scholarship      Program.\\nStudents      will      receive  \\n \\n  50,000      Indian      Rupees      each      year      to      go      toward      courses      in      computer      science.', metadata={'bbox': '', 'page_idx': 5, 'level': 1, 'file_path': '/home/jianyang/local-llm/topic-modelling/documents/amazon_report.pdf'}),\n",
       " Document(page_content='Metadata:\\nAMAZON.COM      ANNOUNCES      FIRST      QUARTER      RESULTS\\n>\\nHighlights  >\\nContent:\\n \\n \\n  Announced      that      Amazon      will      introduce      its      Delivery      Service      Partner      (DSP)      program      in      Brisbane,      Melbourne,      and  \\n \\n  Sydney,      Australia      this      year.\\nThe      DSP      program      provides      access      to      tools,      resources,      and      Amazon’s      logistics      expertise      to  \\n \\n  help      entrepreneurs      start      delivery      businesses,      and      has      the      potential      to      create      hundreds      of      jobs      for      delivery      drivers.\\nThe  \\n \\n  program      will      expand      Amazon’s      last      mile      network      in      Australia      to      meet      growing      customer      demand.', metadata={'bbox': '', 'page_idx': 5, 'level': 1, 'file_path': '/home/jianyang/local-llm/topic-modelling/documents/amazon_report.pdf'}),\n",
       " Document(page_content='Metadata:\\nAMAZON.COM      ANNOUNCES      FIRST      QUARTER      RESULTS\\n>\\nHighlights  >\\nContent:\\n \\n \\n  Announced      plans      to      open      Amazon      Robotics      fulfillment      centers      in      Asturias,      Spain      and      Sagamihara      City,      Japan,      as      part  \\n \\n  of      Amazon’s      commitment      to      design      and      deploy      advanced      technology      that      improves      operational      safety,      employee  \\n \\n  experience,      and      customer      delivery.\\nThe      company      now      has      Robotics      fulfillment      centers      in      11      countries      around      the  \\n \\n  world,      and      they      help      improve      workplace      ergonomics,      reduce      heavy      lifting      and      repetitive      tasks,      and      enable      employees  \\n \\n  to      gain      new      skills.', metadata={'bbox': '', 'page_idx': 5, 'level': 1, 'file_path': '/home/jianyang/local-llm/topic-modelling/documents/amazon_report.pdf'}),\n",
       " Document(page_content='Metadata:\\nAMAZON.COM      ANNOUNCES      FIRST      QUARTER      RESULTS\\n>\\nHighlights  \\n \\n*      Launched   \\n \\na      Disaster      Relief      Hub      in      Rheinberg,      Germany—Amazon’s      first      Hub      in      Europe      and      the      company’s      13th  \\n \\n  around      the      world.\\nThe      21,000-square-foot      Hub      allows      Amazon      to      store      and      quickly      pack      relief      items      that      are      most  \\n \\n  needed      following      natural      disasters      and      other      emergencies.\\nAWS      also      provided      technology      to      support      the      nonprofit  \\n \\n  Help.NGO      to      fight      wildfires      in      Chile      and      Colombia,      including      monitoring      active      fires,      spotting      new      fires,      and  \\n \\n  evaluating      how      best      to      help      evacuated      residents      return      to      their      homes.\\nSince      2017,      Amazon      has      used      its      global  \\n \\n  inventory,      logistics      infrastructure,      and      cloud      technology      to      respond      to      more      than      145      natural      disasters      and      donate      more  \\n \\n  than      24      million      relief      items      globally.  >\\nContent:\\n*\\n \\n   Increased      funding      for      the      AWS      Health      Equity      Initiative      by      $20      million,      bringing      its      commitment      since      the      program  \\n \\n  launched      in      2021      to      $60      million.\\nThis      program      provides      free      cloud      credits      and      technical      expertise      to      help      organizations  \\n \\n  harness      the      power      of      the      cloud      to      advance      global      health.\\nIt      has      supported      263      organizations      globally      since      2021.', metadata={'bbox': '', 'page_idx': 6, 'level': 1, 'file_path': '/home/jianyang/local-llm/topic-modelling/documents/amazon_report.pdf'}),\n",
       " Document(page_content='Metadata:\\nAMAZON.COM      ANNOUNCES      FIRST      QUARTER      RESULTS\\n>\\nHighlights  >\\nContent:\\n \\n \\n \\n¢      Was      named      the      largest      corporate      purchaser      of      renewable      energy      by      BloombergNEF      for      the      fourth      consecutive      year.\\n \\n \\n  Amazon      now      has      more      than      500      wind      and      solar      projects      globally      that      are      expected      to      generate      more      than      77,000  \\n \\n  gigawatt-hours      of      clean      energy      each      year—or      enough      to      power      7.2      million      U.S.      homes.', metadata={'bbox': '', 'page_idx': 6, 'level': 1, 'file_path': '/home/jianyang/local-llm/topic-modelling/documents/amazon_report.pdf'}),\n",
       " Document(page_content='Metadata:\\nAMAZON.COM      ANNOUNCES      FIRST      QUARTER      RESULTS\\n>\\nHighlights  >\\nContent:\\n \\n \\n \\n¢      Announced      that      nearly      half      of      all      customer      orders      fulfilled      in      India      are      delivered      in      reduced      or      original      packaging—  \\n \\n  meaning      less      packaging      is      needed      to      ensure      the      deliveries      arrive      safely,      which      is      better      for      customers      and      the  \\n \\n  environment.\\nDeliveries      with      reduced      or      no      additional      packaging      are      reaching      customers      in      more      than      300      cities      across  \\n \\n  India,      up      from      nine      cities      in      2019.', metadata={'bbox': '', 'page_idx': 6, 'level': 1, 'file_path': '/home/jianyang/local-llm/topic-modelling/documents/amazon_report.pdf'}),\n",
       " Document(page_content='Metadata:\\nAMAZON.COM      ANNOUNCES      FIRST      QUARTER      RESULTS\\n>\\nHighlights  >\\nContent:\\n \\n \\n \\n¢      Invested      in      Glacier,   \\n \\na      women-led      AI      and      robotics      company      that      helps      the      recycling      industry      reduce      waste      by  \\n \\n  automating,      sorting,      and      collecting      real-time      data      on      recycling      streams.\\nThe      investment      is      part      of      Amazon’s      Climate  \\n \\n  Pledge      Fund,      and      is      the      second      woman      CEO-led      company      that      The      Fund      has      invested      in      as      part      of      its      $53      million  \\n \\n  Female      Founder      Initiative,      which      launched      in      2022      to      close      the      funding      gap      for      women      in      climate      tech.', metadata={'bbox': '', 'page_idx': 6, 'level': 1, 'file_path': '/home/jianyang/local-llm/topic-modelling/documents/amazon_report.pdf'}),\n",
       " Document(page_content='Metadata:\\nAMAZON.COM      ANNOUNCES      FIRST      QUARTER      RESULTS\\n>\\nHighlights  >\\nContent:\\n \\n \\n  Financial      Guidance  \\n \\n  The      following      forward-looking      statements      reflect      Amazon.com’s      expectations      as      of      April      30,      2024,      and      are      subject      to  \\n \\n  substantial      uncertainty.\\nOur      results      are      inherently      unpredictable      and      may      be      materially      affected      by      many      factors,      such      as  \\n \\n  fluctuations      in      foreign      exchange      rates,      changes      in      global      economic      and      geopolitical      conditions      and      customer      demand      and  \\n \\n  spending      (including      the      impact      of      recessionary      fears),      inflation,      interest      rates,      regional      labor      market      constraints,      world      events,  \\n \\n  the      rate      of      growth      of      the      internet,      online      commerce,      cloud      services,      and      new      and      emerging      technologies,      and      the      various      factors  \\n \\n  detailed      below.', metadata={'bbox': '', 'page_idx': 6, 'level': 1, 'file_path': '/home/jianyang/local-llm/topic-modelling/documents/amazon_report.pdf'}),\n",
       " Document(page_content='Metadata:\\nAMAZON.COM      ANNOUNCES      FIRST      QUARTER      RESULTS\\n>\\nSecond      Quarter      2024      Guidance  >\\nContent:\\n*\\n \\n   Net      sales      are      expected      to      be      between      $144.0      billion      and      $149.0      billion,      or      to      grow      between      7%      and      11%      compared  \\n \\n  with      second      quarter      2023.\\nThis      guidance      anticipates      an      unfavorable      impact      of      approximately      60      basis      points      from  \\n \\n  foreign      exchange      rates.\\nIn      first      quarter      2024      the      impact      from      Leap      Year      added      approximately      120      basis      points      to      the  \\n \\n  year-over-year      net      sales      growth      rate.', metadata={'bbox': '', 'page_idx': 6, 'level': 2, 'file_path': '/home/jianyang/local-llm/topic-modelling/documents/amazon_report.pdf'}),\n",
       " Document(page_content='Metadata:\\nAMAZON.COM      ANNOUNCES      FIRST      QUARTER      RESULTS\\n>\\nSecond      Quarter      2024      Guidance  >\\nContent:\\n*\\n \\n   Operating      income      is      expected      to      be      between      $10.0      billion      and      $14.0      billion,      compared      with      $7.7      billion      in      second  \\n \\n  quarter      2023.', metadata={'bbox': '', 'page_idx': 6, 'level': 2, 'file_path': '/home/jianyang/local-llm/topic-modelling/documents/amazon_report.pdf'}),\n",
       " Document(page_content='Metadata:\\nAMAZON.COM      ANNOUNCES      FIRST      QUARTER      RESULTS\\n>\\nSecond      Quarter      2024      Guidance  >\\nContent:\\n*\\n \\n   This      guidance      assumes,      among      other      things,      that      no      additional      business      acquisitions,      restructurings,      or      legal  \\n \\n  settlements      are      concluded.', metadata={'bbox': '', 'page_idx': 6, 'level': 2, 'file_path': '/home/jianyang/local-llm/topic-modelling/documents/amazon_report.pdf'}),\n",
       " Document(page_content='Metadata:\\nAMAZON.COM      ANNOUNCES      FIRST      QUARTER      RESULTS\\n>\\nSecond      Quarter      2024      Guidance  >\\nContent:\\n \\n \\n \\nA      conference      call      will      be      webcast      live      today      at      2:30      p.m.      PT/5:30      p.m.      ET,      and      will      be      available      for      at      least      three      months      at  \\n \\n  amazon.com/ir.\\nThis      call      will      contain      forward-looking      statements      and      other      material      information      regarding      the      Company’s  \\n \\n  financial      and      operating      results.', metadata={'bbox': '', 'page_idx': 6, 'level': 2, 'file_path': '/home/jianyang/local-llm/topic-modelling/documents/amazon_report.pdf'}),\n",
       " Document(page_content=\"Metadata:\\nAMAZON.COM      ANNOUNCES      FIRST      QUARTER      RESULTS\\n>\\nSecond      Quarter      2024      Guidance  >\\nContent:\\n \\n \\n  These      forward-looking      statements      are      inherently      difficult      to      predict.\\nActual      results      and      outcomes      could      differ      materially      for   \\n \\na       variety      of      reasons,      including,      in      addition      to      the      factors      discussed      above,      the      amount      that      Amazon.com      invests      in      new      business  \\n \\n  opportunities      and      the      timing      of      those      investments,      the      mix      of      products      and      services      sold      to      customers,      the      mix      of      net      sales  \\n \\n  derived      from      products      as      compared      with      services,      the      extent      to      which      we      owe      income      or      other      taxes,      competition,      management  \\n \\n  of      growth,      potential      fluctuations      in      operating      results,      international      growth      and      expansion,      the      outcomes      of      claims,      litigation,  \\n \\n  government      investigations,      and      other      proceedings,      fulfillment,      sortation,      delivery,      and      data      center      optimization,      risks      of  \\n \\n  inventory      management,      variability      in      demand,      the      degree      to      which      the      Company      enters      into,      maintains,      and      develops  \\n \\n  commercial      agreements,      proposed      and      completed      acquisitions      and      strategic      transactions,      payments      risks,      and      risks      of  \\n \\n  fulfillment      throughput      and      productivity.\\nOther      risks      and      uncertainties      include,      among      others,      risks      related      to      new      products,  \\n \\n  services,      and      technologies,      security      breaches,      system      interruptions,      government      regulation      and      taxation,      and      fraud.\\nIn      addition,  \\n \\n  global      economic      and      geopolitical      conditions      and      additional      or      unforeseen      circumstances,      developments,      or      events      may      give  \\n \\n  rise      to      or      amplify      many      of      these      risks.\\nMore      information      about      factors      that      potentially      could      affect      Amazon.com\\\\\\\\\\\\'s      financial results      is      included      in      Amazon.com’s      filings      with      the      Securities      and      Exchange      Commission      (“SEC”),      including      its      most      recent  \\n \\n  Annual      Report      on      Form      10-K      and      subsequent      filings.\", metadata={'bbox': '', 'page_idx': 6, 'level': 2, 'file_path': '/home/jianyang/local-llm/topic-modelling/documents/amazon_report.pdf'}),\n",
       " Document(page_content='Metadata:\\nAMAZON.COM      ANNOUNCES      FIRST      QUARTER      RESULTS\\n>\\nSecond      Quarter      2024      Guidance  >\\nContent:\\n \\n \\n  Our      investor      relations      website      is      amazon.com/ir      and      we      encourage      investors      to      use      it      as   \\n \\na      way      of      easily      finding      information  \\n \\n  about      us.\\nWe      promptly      make      available      on      this      website,      free      of      charge,      the      reports      that      we      file      or      furnish      with      the      SEC,      corporate  \\n \\n  governance      information      (including      our      Code      of      Business      Conduct      and      Ethics),      and      select      press      releases,      which      may      contain  \\n \\n  material      information      about      us,      and      you      may      subscribe      to      be      notified      of      new      information      posted      to      this      site.', metadata={'bbox': '', 'page_idx': 7, 'level': 2, 'file_path': '/home/jianyang/local-llm/topic-modelling/documents/amazon_report.pdf'}),\n",
       " Document(page_content='Metadata:\\nAMAZON.COM      ANNOUNCES      FIRST      QUARTER      RESULTS\\n>\\nSecond      Quarter      2024      Guidance  >\\nContent:\\n \\n \\n  About      Amazon  \\n \\n  Amazon      is      guided      by      four      principles:      customer      obsession      rather      than      competitor      focus,      passion      for      invention,      commitment      to  \\n \\n  operational      excellence,      and      long-term      thinking.\\nAmazon      strives      to      be      Earth’s      Most      Customer-Centric      Company,      Earth’s      Best  \\n \\n  Employer,      and      Earth’s      Safest      Place      to      Work.\\nCustomer      reviews,      1-Click      shopping,      personalized      recommendations,      Prime,  \\n \\n  Fulfillment      by      Amazon,      AWS,      Kindle      Direct      Publishing,      Kindle,      Career      Choice,      Fire      tablets,      Fire      TV,      Amazon      Echo,      Alexa,  \\n \\n  Just      Walk      Out      technology,      Amazon      Studios,      and      The      Climate      Pledge      are      some      of      the      things      pioneered      by      Amazon.\\nFor      more  \\n \\n  information,      visit      amazon.com/about      and      follow      @AmazonNews.', metadata={'bbox': '', 'page_idx': 7, 'level': 2, 'file_path': '/home/jianyang/local-llm/topic-modelling/documents/amazon_report.pdf'}),\n",
       " Document(page_content='Metadata:\\nAMAZON.COM      ANNOUNCES      FIRST      QUARTER      RESULTS\\n>\\nSecond      Quarter      2024      Guidance  >\\nContent:\\n \\n \\n  Consolidated      Statements      of      Cash      Flows  \\n \\n  (in      millions)  \\n \\n  (unaudited)  \\n \\n  Three      Months      Ended      Twelve      Months      Ended  \\n \\n  March      31,      March      31,  \\n \\n  2023      2024      2023      2024 CASH,      CASH      EQUIVALENTS,      AND      RESTRICTED      CASH,      BEGINNING      OF      PERIOD $\\n \\n   54,253   \\n \\n$      73,890   \\n \\n$      36,599      §$      49,734  \\n \\n  OPERATING      ACTIVITIES:  \\n \\n  Net      income      3,172      10,431      4,294      37,684  \\n \\n  Adjustments      to      reconcile      net      income      to      net      cash      from      operating      activities:  \\n \\n  Depreciation      and      amortization      of      property      and      equipment      and      capitalized      content      costs,      operating      lease      assets,  \\n \\n  and      other      11,123      11,684      43,851      49,224  \\n \\n  Stock-based      compensation      4,748      4,961      21,119      24,236  \\n \\n  Non-operating      expense      (income),      net      534      2,734      8,811      1,452  \\n \\n  Deferred      income      taxes      (472)      (938)      (6,619)      (6,342)  \\n \\n  Changes      in      operating      assets      and      liabilities:  \\n \\n  Inventories      371      1,776      393      2,854  \\n \\n  Accounts      receivable,      net      and      other      4,724      3,684      (4,361)      (9,388)  \\n \\n  Other      assets      (3,203)      (2,701)      (14,499)      (11,763)  \\n \\n  Accounts      payable      (11,264)      (11,282)      1,061      5,455  \\n \\n  Accrued      expenses      and      other      (5,763)      (2,928)      (1,418)      407  \\n \\n  Unearned      revenue      818      1,568      1,698      5,328  \\n \\n  Net      cash      provided      by      (used      in)      operating      activities      4,788      18,989      54,330      99,147  \\n \\n  INVESTING      ACTIVITIES:  \\n \\n  Purchases      of      property      and      equipment      (14,207)      (14,925)      (62,901)      (53,447)  \\n \\n  Proceeds      from      property      and      equipment      sales      and      incentives      1,137      990      5,252      4,449  \\n \\n  Acquisitions,      net      of      cash      acquired,      non-marketable      investments,      and      other      (3,513)      (3,354)      (5,488)      (5,680)  \\n \\n  Sales      and      maturities      of      marketable      securities      1,115      1,392      9,963      5,904  \\n \\n  Purchases      of      marketable      securities      (338)      (1,965)      (1,139)      (3,115)  \\n \\n  Net      cash      provided      by      (used      in)      investing      activities      (15,806)      (17,862)      (54,313)      (51,889)  \\n \\n  FINANCING      ACTIVITIES:  \\n \\n  Common      stock      repurchased      —_—      —_—      (3,334)   \\n \\n—       Proceeds      from      short-term      debt,      and      other      12,780      338      40,590      5,687  \\n \\n  Repayments      of      short-term      debt,      and      other      (3,603)      (404)      (34,926)      (22,478)  \\n \\n  Proceeds      from      long-term      debt   \\n \\n—   \\n \\n—      21,166      —_  \\n \\n  Repayments      of      long-term      debt      (1,386)      (330)      (2,644)      (2,620)  \\n \\n  Principal      repayments      of      finance      leases      (1,380)      (770)      (6,544)      (3,774)  \\n \\n  Principal      repayments      of      financing      obligations      (57)      (90)      (226)      (304)  \\n \\n  Net      cash      provided      by      (used      in)      financing      activities      6,354      (1,256)      14,082      (23,489)  \\n \\n  Foreign      currency      effect      on      cash,      cash      equivalents,      and      restricted      cash      145      (429)      (964)      (171)  \\n \\n  Net      increase      (decrease)      in      cash,      cash      equivalents,      and      restricted      cash      (4,519)      (558)      13,135      23,598  \\n \\n  CASH,      CASH      EQUIVALENTS,      AND      RESTRICTED      CASH,      END      OF      PERIOD   \\n \\n$      49,734   \\n \\n$      73,332.   \\n \\n$      49,734   \\n \\n$      73,332  \\n \\n  SUPPLEMENTAL      CASH      FLOW      INFORMATION:      TT  \\n \\n  Cash      paid      for      interest      on      debt,      net      of      capitalized      interest   \\n \\n$      402   \\n \\n$      269   \\n \\n$      1,684   \\n \\n$      2,475  \\n \\n  Cash      paid      for      operating      leases      2,467      3,332      8,733      11,318  \\n \\n  Cash      paid      for      interest      on      finance      leases      81      74      348      301  \\n \\n  Cash      paid      for      interest      on      financing      obligations      59      64      208      201  \\n \\n  Cash      paid      for      income      taxes,      net      of      refunds      619      458      6,201      11,018  \\n \\n  Assets      acquired      under      operating      leases      3,626      3,753      20,251      14,179  \\n \\n  Property      and      equipment      acquired      under      finance      leases,      net      of      remeasurements      and      modifications   \\n \\n8      42      517      676  \\n \\n  Property      and      equipment      recognized      during      the      construction      period      of      build-to-suit      lease      arrangements      131      37      1,953      263  \\n \\n  Property      and      equipment      derecognized      after      the      construction      period      of      build-to-suit      lease      arrangements,      with      the  \\n \\n  associated      leases      recognized      as      operating      720      —_—      5,845      654  \\n \\n  Consolidated      Statements      of      Operations  \\n \\n  (in      millions,      except      per      share      data)  \\n \\n  (unaudited) Net      product      sales Net      service      sales Total      net      sales Operating      expenses:', metadata={'bbox': '', 'page_idx': 8, 'level': 2, 'file_path': '/home/jianyang/local-llm/topic-modelling/documents/amazon_report.pdf'}),\n",
       " Document(page_content='Metadata:\\nAMAZON.COM      ANNOUNCES      FIRST      QUARTER      RESULTS\\n>\\nSecond      Quarter      2024      Guidance  >\\nContent:\\nCost      of      sales', metadata={'bbox': '', 'page_idx': 9, 'level': 2, 'file_path': '/home/jianyang/local-llm/topic-modelling/documents/amazon_report.pdf'}),\n",
       " Document(page_content='Metadata:\\nAMAZON.COM      ANNOUNCES      FIRST      QUARTER      RESULTS\\n>\\nFulfillment  >\\nContent:\\nTechnology      and      infrastructure Sales      and      marketing General      and      administrative', metadata={'bbox': '', 'page_idx': 9, 'level': 2, 'file_path': '/home/jianyang/local-llm/topic-modelling/documents/amazon_report.pdf'}),\n",
       " Document(page_content='Metadata:\\nAMAZON.COM      ANNOUNCES      FIRST      QUARTER      RESULTS\\n>\\nFulfillment  >\\nContent:\\nTotal      operating      expenses Operating      income Interest      income Interest      expense Other      income      (expense),      net Total      non-operating      expense Income      before      income      taxes Provision      for      income      taxes', metadata={'bbox': '', 'page_idx': 9, 'level': 2, 'file_path': '/home/jianyang/local-llm/topic-modelling/documents/amazon_report.pdf'}),\n",
       " Document(page_content='Metadata:\\nAMAZON.COM      ANNOUNCES      FIRST      QUARTER      RESULTS\\n>\\nFulfillment  >\\nContent:\\nNet      income Basic      earnings      per      share Diluted      earnings      per      share', metadata={'bbox': '', 'page_idx': 9, 'level': 2, 'file_path': '/home/jianyang/local-llm/topic-modelling/documents/amazon_report.pdf'}),\n",
       " Document(page_content='Metadata:\\nAMAZON.COM      ANNOUNCES      FIRST      QUARTER      RESULTS\\n>\\nBasic  >\\nContent:\\n \\n \\n  10,347      10,670  \\n \\n  Consolidated      Statements      of      Comprehensive      Income  \\n \\n  (in      millions)  \\n \\n  (unaudited)', metadata={'bbox': '', 'page_idx': 9, 'level': 2, 'file_path': '/home/jianyang/local-llm/topic-modelling/documents/amazon_report.pdf'}),\n",
       " Document(page_content='Metadata:\\nAMAZON.COM      ANNOUNCES      FIRST      QUARTER      RESULTS\\n>\\nDiluted       March      31,  >\\nContent:\\n2023      2024', metadata={'bbox': '', 'page_idx': 9, 'level': 2, 'file_path': '/home/jianyang/local-llm/topic-modelling/documents/amazon_report.pdf'}),\n",
       " Document(page_content='Metadata:\\nAMAZON.COM      ANNOUNCES      FIRST      QUARTER      RESULTS\\n>\\nDiluted       March      31,  >\\nContent:\\n56,981   \\n \\n$      60,915 70,377      82,398 127,358      143,313', metadata={'bbox': '', 'page_idx': 9, 'level': 2, 'file_path': '/home/jianyang/local-llm/topic-modelling/documents/amazon_report.pdf'}),\n",
       " Document(page_content='Metadata:\\nAMAZON.COM      ANNOUNCES      FIRST      QUARTER      RESULTS\\n>\\nDiluted       March      31,  >\\nContent:\\n67,791      72,633 20,905      22,317 20,450      20,424 10,172      9,662 3,043      2,742 223      228 122,584      128,006 4,774      15,307 611      993  \\n \\n  (823)      (644) (443)      (2,673) (655)      (2,324) 4,119      12,983  \\n \\n  (948)      (2,467) 1\\n \\n   (85) 3,172      10,431 0.31      1.00 0.31      0.98', metadata={'bbox': '', 'page_idx': 9, 'level': 2, 'file_path': '/home/jianyang/local-llm/topic-modelling/documents/amazon_report.pdf'}),\n",
       " Document(page_content='Metadata:\\nAMAZON.COM      ANNOUNCES      FIRST      QUARTER      RESULTS\\n>\\nDiluted       March      31,  >\\nContent:\\n10,250      10,393', metadata={'bbox': '', 'page_idx': 9, 'level': 2, 'file_path': '/home/jianyang/local-llm/topic-modelling/documents/amazon_report.pdf'}),\n",
       " Document(page_content='Metadata:\\nAMAZON.COM      ANNOUNCES      FIRST      QUARTER      RESULTS\\n>\\nDiluted       March      31,  >\\nContent:\\nNet      income Other      comprehensive      income      (loss):', metadata={'bbox': '', 'page_idx': 10, 'level': 2, 'file_path': '/home/jianyang/local-llm/topic-modelling/documents/amazon_report.pdf'}),\n",
       " Document(page_content='Metadata:\\nAMAZON.COM      ANNOUNCES      FIRST      QUARTER      RESULTS\\n>\\nDiluted       March      31,  >\\nContent:\\nForeign      currency      translation      adjustments,      net      of      tax      of      $(10)      and      $30 Available-for-sale      debt      securities:', metadata={'bbox': '', 'page_idx': 10, 'level': 2, 'file_path': '/home/jianyang/local-llm/topic-modelling/documents/amazon_report.pdf'}),\n",
       " Document(page_content='Metadata:\\nAMAZON.COM      ANNOUNCES      FIRST      QUARTER      RESULTS\\n>\\nDiluted       March      31,  >\\nContent:\\nChange      in      net      unrealized      gains      (losses),      net      of      tax      of      $(29)      and      $(158) Less:      reclassification      adjustment      for      losses      (gains)      included      in      “Other      income  \\n \\n  (expense),      net,”      net      of      tax      of      $(10)      and      $0 Net      change Other,      net      of      tax      of      $0      and      $(1) Total      other      comprehensive      income      (loss) 3,686   \\n \\n$      9,873  \\n \\n  North      America Comprehensive      income', metadata={'bbox': '', 'page_idx': 10, 'level': 2, 'file_path': '/home/jianyang/local-llm/topic-modelling/documents/amazon_report.pdf'}),\n",
       " Document(page_content='Metadata:\\nAMAZON.COM      ANNOUNCES      FIRST      QUARTER      RESULTS\\n>\\nDiluted       March      31,\\n>\\nThree      Months      Ended       March      31,       2023      2024  >\\nContent:\\n3,172   \\n \\n§      10,431', metadata={'bbox': '', 'page_idx': 10, 'level': 3, 'file_path': '/home/jianyang/local-llm/topic-modelling/documents/amazon_report.pdf'}),\n",
       " Document(page_content='Metadata:\\nAMAZON.COM      ANNOUNCES      FIRST      QUARTER      RESULTS\\n>\\nDiluted       March      31,\\n>\\nThree      Months      Ended       March      31,       2023      2024  >\\nContent:\\n386      (1,096)', metadata={'bbox': '', 'page_idx': 10, 'level': 3, 'file_path': '/home/jianyang/local-llm/topic-modelling/documents/amazon_report.pdf'}),\n",
       " Document(page_content='Metadata:\\nAMAZON.COM      ANNOUNCES      FIRST      QUARTER      RESULTS\\n>\\nDiluted       March      31,\\n>\\nThree      Months      Ended       March      31,       2023      2024  >\\nContent:\\n95      536', metadata={'bbox': '', 'page_idx': 10, 'level': 3, 'file_path': '/home/jianyang/local-llm/topic-modelling/documents/amazon_report.pdf'}),\n",
       " Document(page_content='Metadata:\\nAMAZON.COM      ANNOUNCES      FIRST      QUARTER      RESULTS\\n>\\nDiluted       March      31,\\n>\\nThree      Months      Ended       March      31,       2023      2024  >\\nContent:\\n33   \\n \\n1 128      537 =\\n \\n   1 514      (558)', metadata={'bbox': '', 'page_idx': 10, 'level': 3, 'file_path': '/home/jianyang/local-llm/topic-modelling/documents/amazon_report.pdf'}),\n",
       " Document(page_content='Metadata:\\nAMAZON.COM      ANNOUNCES      FIRST      QUARTER      RESULTS\\n>\\nDiluted       March      31,\\n>\\nThree      Months      Ended       March      31,       2023      2024  >\\nContent:\\nNet      sales Operating      expenses Operating      income', metadata={'bbox': '', 'page_idx': 11, 'level': 3, 'file_path': '/home/jianyang/local-llm/topic-modelling/documents/amazon_report.pdf'}),\n",
       " Document(page_content='Metadata:\\nAMAZON.COM      ANNOUNCES      FIRST      QUARTER      RESULTS\\n>\\nDiluted       March      31,\\n>\\nInternational  >\\nContent:\\nNet      sales Operating      expenses Operating      income      (loss)', metadata={'bbox': '', 'page_idx': 11, 'level': 3, 'file_path': '/home/jianyang/local-llm/topic-modelling/documents/amazon_report.pdf'}),\n",
       " Document(page_content='Metadata:\\nAWS  >\\nContent:\\nNet      sales Operating      expenses Operating      income', metadata={'bbox': '', 'page_idx': 11, 'level': 1, 'file_path': '/home/jianyang/local-llm/topic-modelling/documents/amazon_report.pdf'}),\n",
       " Document(page_content='Metadata:\\nAWS\\n>\\nConsolidated  >\\nContent:\\nNet      sales Operating      expenses Operating      income', metadata={'bbox': '', 'page_idx': 11, 'level': 2, 'file_path': '/home/jianyang/local-llm/topic-modelling/documents/amazon_report.pdf'}),\n",
       " Document(page_content='Metadata:\\nAWS\\n>\\nConsolidated  >\\nContent:\\nNet      income', metadata={'bbox': '', 'page_idx': 11, 'level': 2, 'file_path': '/home/jianyang/local-llm/topic-modelling/documents/amazon_report.pdf'}),\n",
       " Document(page_content='Metadata:\\nAWS\\n>\\nSegment      Highlights:  >\\nContent:\\nY/Y      net      sales      growth:', metadata={'bbox': '', 'page_idx': 11, 'level': 2, 'file_path': '/home/jianyang/local-llm/topic-modelling/documents/amazon_report.pdf'}),\n",
       " Document(page_content='Metadata:\\nAWS  >\\nContent:\\nNorth      America', metadata={'bbox': '', 'page_idx': 11, 'level': 1, 'file_path': '/home/jianyang/local-llm/topic-modelling/documents/amazon_report.pdf'}),\n",
       " Document(page_content='Metadata:\\nAWS  >\\nContent:\\nInternational', metadata={'bbox': '', 'page_idx': 11, 'level': 1, 'file_path': '/home/jianyang/local-llm/topic-modelling/documents/amazon_report.pdf'}),\n",
       " Document(page_content='Metadata:\\nAWS\\n>\\nConsolidated  >\\nContent:\\nNet      sales      mix:', metadata={'bbox': '', 'page_idx': 11, 'level': 2, 'file_path': '/home/jianyang/local-llm/topic-modelling/documents/amazon_report.pdf'}),\n",
       " Document(page_content='Metadata:\\nAWS  >\\nContent:\\nNorth      America', metadata={'bbox': '', 'page_idx': 11, 'level': 1, 'file_path': '/home/jianyang/local-llm/topic-modelling/documents/amazon_report.pdf'}),\n",
       " Document(page_content='Metadata:\\nAWS  >\\nContent:\\nInternational', metadata={'bbox': '', 'page_idx': 11, 'level': 1, 'file_path': '/home/jianyang/local-llm/topic-modelling/documents/amazon_report.pdf'}),\n",
       " Document(page_content='Metadata:\\nAWS  >\\nContent:\\n \\n \\n  100   \\n \\n%      100   \\n \\n%       Consolidated      Balance      Sheets  \\n \\n  (in      millions,      except      per      share      data)  \\n \\n  (unaudited)', metadata={'bbox': '', 'page_idx': 11, 'level': 1, 'file_path': '/home/jianyang/local-llm/topic-modelling/documents/amazon_report.pdf'}),\n",
       " Document(page_content='Metadata:\\nAWS\\n>\\nConsolidated       Segment      Information  >\\nContent:\\n(in      millions)  \\n \\n  (unaudited)', metadata={'bbox': '', 'page_idx': 11, 'level': 2, 'file_path': '/home/jianyang/local-llm/topic-modelling/documents/amazon_report.pdf'}),\n",
       " Document(page_content='Metadata:\\nAWS\\n>\\nThree      Months      Ended       March      31,       2023      2024  >\\nContent:\\n$\\n \\n   76,881   \\n \\n$      86,341 75,983      81,358 $\\n \\n   898      $4,983', metadata={'bbox': '', 'page_idx': 11, 'level': 2, 'file_path': '/home/jianyang/local-llm/topic-modelling/documents/amazon_report.pdf'}),\n",
       " Document(page_content='Metadata:\\nAWS\\n>\\nThree      Months      Ended       March      31,       2023      2024  >\\nContent:\\n$\\n \\n   29,123   \\n \\n$      31,935 30,370      31,032 $\\n \\n   (1,247)   \\n \\n$      903', metadata={'bbox': '', 'page_idx': 11, 'level': 2, 'file_path': '/home/jianyang/local-llm/topic-modelling/documents/amazon_report.pdf'}),\n",
       " Document(page_content='Metadata:\\nAWS\\n>\\nThree      Months      Ended       March      31,       2023      2024  >\\nContent:\\n$\\n \\n   21,354   \\n \\n$      25,037 16,231      15,616 $\\n \\n   5,123      $9,421', metadata={'bbox': '', 'page_idx': 11, 'level': 2, 'file_path': '/home/jianyang/local-llm/topic-modelling/documents/amazon_report.pdf'}),\n",
       " Document(page_content='Metadata:\\nAWS\\n>\\nThree      Months      Ended       March      31,       2023      2024  >\\nContent:\\n$\\n \\n   127,358   \\n \\n$      143,313 122,584      128,006 4,774      15,307 (655)      (2,324)  \\n \\n  (948)      (2,467) 1\\n \\n   (85) $\\n \\n   3,172   \\n \\n$      10,431', metadata={'bbox': '', 'page_idx': 11, 'level': 2, 'file_path': '/home/jianyang/local-llm/topic-modelling/documents/amazon_report.pdf'}),\n",
       " Document(page_content='Metadata:\\nAWS\\n>\\nThree      Months      Ended       March      31,       2023      2024  >\\nContent:\\n11%      12   \\n \\n% 1      10 16      17 9\\n \\n   13', metadata={'bbox': '', 'page_idx': 11, 'level': 2, 'file_path': '/home/jianyang/local-llm/topic-modelling/documents/amazon_report.pdf'}),\n",
       " Document(page_content='Metadata:\\nAWS\\n>\\nThree      Months      Ended       March      31,       2023      2024  >\\nContent:\\n60   \\n \\n%      60   \\n \\n% 23      22 17      18', metadata={'bbox': '', 'page_idx': 11, 'level': 2, 'file_path': '/home/jianyang/local-llm/topic-modelling/documents/amazon_report.pdf'}),\n",
       " Document(page_content='Metadata:\\nASSETS  >\\nContent:\\nCurrent      assets:', metadata={'bbox': '', 'page_idx': 12, 'level': 1, 'file_path': '/home/jianyang/local-llm/topic-modelling/documents/amazon_report.pdf'}),\n",
       " Document(page_content='Metadata:\\nASSETS  >\\nContent:\\nCash      and      cash      equivalents Marketable      securities', metadata={'bbox': '', 'page_idx': 12, 'level': 1, 'file_path': '/home/jianyang/local-llm/topic-modelling/documents/amazon_report.pdf'}),\n",
       " Document(page_content='Metadata:\\nASSETS\\n>\\nInventories  >\\nContent:\\nAccounts      receivable,      net      and      other Total      current      assets Property      and      equipment,      net Operating      leases', metadata={'bbox': '', 'page_idx': 12, 'level': 2, 'file_path': '/home/jianyang/local-llm/topic-modelling/documents/amazon_report.pdf'}),\n",
       " Document(page_content='Metadata:\\nASSETS\\n>\\nGoodwill Other      assets  >\\nContent:\\nTotal      assets', metadata={'bbox': '', 'page_idx': 12, 'level': 2, 'file_path': '/home/jianyang/local-llm/topic-modelling/documents/amazon_report.pdf'}),\n",
       " Document(page_content='Metadata:\\nLIABILITIES      AND      STOCKHOLDERS’      EQUITY  >\\nContent:\\nCurrent      liabilities:', metadata={'bbox': '', 'page_idx': 12, 'level': 1, 'file_path': '/home/jianyang/local-llm/topic-modelling/documents/amazon_report.pdf'}),\n",
       " Document(page_content='Metadata:\\nLIABILITIES      AND      STOCKHOLDERS’      EQUITY  >\\nContent:\\nAccounts      payable Accrued      expenses      and      other Unearned      revenue Total      current      liabilities Long-term      lease      liabilities Long-term      debt', metadata={'bbox': '', 'page_idx': 12, 'level': 1, 'file_path': '/home/jianyang/local-llm/topic-modelling/documents/amazon_report.pdf'}),\n",
       " Document(page_content='Metadata:\\nLIABILITIES      AND      STOCKHOLDERS’      EQUITY\\n>\\nOther      long-term      liabilities  >\\nContent:\\nCommitments      and      contingencies', metadata={'bbox': '', 'page_idx': 12, 'level': 2, 'file_path': '/home/jianyang/local-llm/topic-modelling/documents/amazon_report.pdf'}),\n",
       " Document(page_content='Metadata:\\nLIABILITIES      AND      STOCKHOLDERS’      EQUITY\\n>\\nStockholders’      equity:  >\\nContent:\\nPreferred      stock      ($0.01      par      value;      500      shares      authorized;      no      shares      issued      or  \\n \\n  outstanding) Common      stock      ($0.01      par      value;      100,000      shares      authorized;      10,898      and      10,918  \\n \\n  shares      issued;      10,383      and      10,403      shares      outstanding) Treasury      stock,      at      cost Additional      paid-in      capital Accumulated      other      comprehensive      income      (loss) Retained      earnings Total      stockholders’      equity Total      liabilities      and      stockholders’      equity  \\n \\n  December      31,      2023  \\n \\n  March      31,      2024  \\n \\n  $      73,387   \\n \\n$      72,852  \\n \\n  13,393      12,222  \\n \\n  33,318      31,147  \\n \\n  52,253      47,768  \\n \\n  172,351      163,989  \\n \\n  204,177      209,950  \\n \\n  72,513      73,313  \\n \\n  22,789      22,770  \\n \\n  56,024      60,947  \\n \\n  $      527,854   \\n \\n$      530,969  \\n \\n  $      84,981   \\n \\n$      73,068  \\n \\n  64,709      63,970  \\n \\n  15,227      15,927  \\n \\n  164,917      152,965  \\n \\n  77,297      77,052  \\n \\n  58,314      57,634  \\n \\n  25,451      26,657  \\n \\n  109      109  \\n \\n  (7,837)      (7,837)  \\n \\n  99,025      103,938  \\n \\n  (3,040)      (3,598)  \\n \\n  113,618      124,049  \\n \\n  201,875      216,661  \\n \\n  $      527,854   \\n \\n$      530,969', metadata={'bbox': '', 'page_idx': 12, 'level': 2, 'file_path': '/home/jianyang/local-llm/topic-modelling/documents/amazon_report.pdf'}),\n",
       " Document(page_content='Metadata:\\nLIABILITIES      AND      STOCKHOLDERS’      EQUITY\\n>\\nStockholders’      equity:  >\\nContent:\\n \\n \\n  Supplemental      Financial      Information      and      Business      Metrics  \\n \\n  (in      millions,      except      per      share      data)  \\n \\n  (unaudited)', metadata={'bbox': '', 'page_idx': 13, 'level': 2, 'file_path': '/home/jianyang/local-llm/topic-modelling/documents/amazon_report.pdf'}),\n",
       " Document(page_content='Metadata:\\nY/Y      %  >\\nContent:\\nQ4      2022      Q1      2023      Q2      2023      Q3      2023      Q4      2023      Q1      2024      Change  \\n \\n  Cash      Flows      and      Shares', metadata={'bbox': '', 'page_idx': 13, 'level': 1, 'file_path': '/home/jianyang/local-llm/topic-modelling/documents/amazon_report.pdf'}),\n",
       " Document(page_content='Metadata:\\nY/Y      %  >\\nContent:\\n \\n \\n  Operating      cash      flow      --      trailing      twelve      months      (TTM)   \\n \\n$      46,752   \\n \\n$      54330   \\n \\n$      61,841   \\n \\n$      71,654   \\n \\n$      84,946   \\n \\n$      99,147      82%  \\n \\n  Operating      cash      flow      --      TTM      Y/Y      growth      1%      38   \\n \\n%      74%      81%      82   \\n \\n%      82%      N/A       Purchases      of      property      and      equipment,      net      of      proceeds      from      sales      and  \\n \\n  incentives      --      TTM   \\n \\n$      58,321   \\n \\n$      57,649   \\n \\n$      53,963   \\n \\n$      50,220   \\n \\n$      48,133   \\n \\n$      48,998      (15)%  \\n \\n  Principal      repayments      of      finance      leases      --      TTM   \\n \\n$      7,941   \\n \\n$      6,544   \\n \\n$      5,705   \\n \\n$      5,245   \\n \\n$      4,384      $§$      3,774      (42)%  \\n \\n  Principal      repayments      of      financing      obligations      --      TTM   \\n \\n$      248      «=§$      226   \\n \\n=      §$      244   \\n \\n$      260   \\n \\n=      §$      271   \\n \\n$      304      34%  \\n \\n  Equipment      acquired      under      finance      leases      --      TTM      (1)   \\n \\n$      299   \\n \\n$      285   \\n \\n§      209   \\n \\n=      §$      239      §$      310   \\n \\n=   \\n \\n$      306      8%  \\n \\n  Principal      repayments      of      all      other      finance      leases      --      TTM      (2)   \\n \\n$      670      «=$      625   \\n \\n§      631   \\n \\n$      694      §$      683   \\n \\n§      761      22   \\n \\n%       Free      cash      flow      --      TTM      (3)   \\n \\n$      (11,569)   \\n \\n$      (3,319)   \\n \\n$      7,878   \\n \\n$      21,434   \\n \\n$      36,813   \\n \\n$      50,149      N/A       Free      cash      flow      less      principal      repayments      of      finance      leases      and  \\n \\n  financing      obligations      --      TTM      (4)   \\n \\n$      (19,758)   \\n \\n$      (10,089)   \\n \\n$      1,929   \\n \\n$      15,929   \\n \\n$      32,158   \\n \\n$      46,071      N/A       Free      cash      flow      less      equipment      finance      leases      and      principal      repayments  \\n \\n  of      all      other      finance      leases      and      financing      obligations      --      TTM      (5)   \\n \\n$      (12,786)   \\n \\n$      (4,455)   \\n \\n$      6,734   \\n \\n$      20,241   \\n \\n$      35,549   \\n \\n$      48,778      N/A       Common      shares      and      stock-based      awards      outstanding      10,627      10,625      10,794      10,792      10,788      10,788      2%  \\n \\n  Common      shares      outstanding      10,242      10,258      10,313      10,330      10,383      10,403      1%  \\n \\n  Stock-based      awards      outstanding      384      367      481      462      406      385      5%  \\n \\n  Stock-based      awards      outstanding      --   \\n \\n%      of      common      shares      outstanding      3.8   \\n \\n%      3.6%      47%      45%      3.9   \\n \\n%      3.7%      N/A       Results      of      Operations  \\n \\n  Worldwide      (WW)      net      sales   \\n \\n$      149,204   \\n \\n$      127,358   \\n \\n$      134,383   \\n \\n$      143,083   \\n \\n$      169,961   \\n \\n$      143,313      13   \\n \\n%       WW      net      sales      --      Y/Y      growth,      excluding      F/X      12   \\n \\n%      11%      11%      11%      13   \\n \\n%      13   \\n \\n%      N/A       WW      net      sales      --      TTM   \\n \\n$      513,983   \\n \\n$      524,897   \\n \\n$      538,046   \\n \\n$      554,028   \\n \\n$      574,785   \\n \\n$      590,740      13   \\n \\n%       WW      net      sales      --      TTM      Y/Y      growth,      excluding      F/X      13   \\n \\n%      13   \\n \\n%      13   \\n \\n%      12   \\n \\n%      12%      12   \\n \\n%      N/A       Operating      income   \\n \\n$      2,737   \\n \\n$      4,774      §$      7,681   \\n \\n$      11,188   \\n \\n$      13,209   \\n \\n$      15,307      221%  \\n \\n  F/X      impact      --      favorable   \\n \\n$      213.   \\n \\n$      139   \\n \\n$      104   \\n \\n$      132   \\n \\n$      85   \\n \\n$      72      N/A       Operating      income      --      Y/Y      growth      (decline),      excluding      F/X      (27)%      26   \\n \\n%      128   \\n \\n%      338   \\n \\n%      379   \\n \\n%      219   \\n \\n%      N/A       Operating      margin      --   \\n \\n%      of      WW      net      sales      1.8%      3.7%      5.7%      7.8%      7.8   \\n \\n%      10.7   \\n \\n%      N/A       Operating      income      --      TTM   \\n \\n$      12,248   \\n \\n$      13,353   \\n \\n$      17,717   \\n \\n$      26380   \\n \\n$      36,852   \\n \\n$      47,385      255%  \\n \\n  Operating      income      --      TTM      Y/Y      growth      (decline),      excluding      F/X      (54)%      (37)%      10   \\n \\n%      99   \\n \\n%      197   \\n \\n%      252   \\n \\n%      N/A       Operating      margin      --      TTM   \\n \\n%      of      WW      net      sales      24%      2.5%      3.3   \\n \\n%      48%      6.4   \\n \\n%      8.0   \\n \\n%      N/A       Net      income   \\n \\n$      278      =$      3,172   \\n \\n$      6,750      §$      9,879   \\n \\n$      10,624   \\n \\n$      10,431      229   \\n \\n%       Net      income      per      diluted      share   \\n \\n$      0.03   \\n \\n$      0.31   \\n \\n=      =$      0.65   \\n \\n$      0.94      $§$      1.00   \\n \\n$      0.98      219   \\n \\n%       Net      income      (loss)      --      TTM   \\n \\n$      (2,722)   \\n \\n$      4,294   \\n \\n$      13,072   \\n \\n$      20,079   \\n \\n$      30,425   \\n \\n$      37,684      718   \\n \\n%       Net      income      (loss)      per      diluted      share      --      TTM   \\n \\n$      (0.27)   \\n \\n$      0.42   \\n \\n=   \\n \\n$      1.26   \\n \\n$      1.93   \\n \\n$      2.90   \\n \\n$      3.56      756      %', metadata={'bbox': '', 'page_idx': 13, 'level': 1, 'file_path': '/home/jianyang/local-llm/topic-modelling/documents/amazon_report.pdf'}),\n",
       " Document(page_content='Metadata:\\nY/Y      %  >\\nContent:\\n(1)   \\n \\n_      For      the      twelve      months      ended      March      31,      2023      and      2024,      this      amount      relates      to      equipment      included      in      “Property      and      equipment      acquired      under      finance      leases,      net      of  \\n \\n  remeasurements      and      modifications”      of      $517      million      and      $676      million.', metadata={'bbox': '', 'page_idx': 13, 'level': 2, 'file_path': '/home/jianyang/local-llm/topic-modelling/documents/amazon_report.pdf'}),\n",
       " Document(page_content='Metadata:\\nY/Y      %  >\\nContent:\\n(2)      For      the      twelve      months      ended      March      31,      2023      and      2024,      this      amount      relates      to      property      included      in      “Principal      repayments      of      finance      leases”      of      $6,544      million      and      $3,774  \\n \\n  million.', metadata={'bbox': '', 'page_idx': 13, 'level': 2, 'file_path': '/home/jianyang/local-llm/topic-modelling/documents/amazon_report.pdf'}),\n",
       " Document(page_content='Metadata:\\nY/Y      %  >\\nContent:\\n(3)      Free      cash      flow      is      cash      flow      from      operations      reduced      by      “Purchases      of      property      and      equipment,      net      of      proceeds      from      sales      and      incentives.”', metadata={'bbox': '', 'page_idx': 13, 'level': 2, 'file_path': '/home/jianyang/local-llm/topic-modelling/documents/amazon_report.pdf'}),\n",
       " Document(page_content='Metadata:\\nY/Y      %  >\\nContent:\\n(4)      Free      cash      flow      less      principal      repayments      of      finance      leases      and      financing      obligations      is      free      cash      flow      reduced      by      “Principal      repayments      of      finance      leases”      and      “Principal  \\n \\n  repayments      of      financing      obligations.”', metadata={'bbox': '', 'page_idx': 13, 'level': 2, 'file_path': '/home/jianyang/local-llm/topic-modelling/documents/amazon_report.pdf'}),\n",
       " Document(page_content='Metadata:\\nY/Y      %  >\\nContent:\\n(5)      Free      cash      flow      less      equipment      finance      leases      and      principal      repayments      of      all      other      finance      leases      and      financing      obligations      is      free      cash      flow      reduced      by      equipment      acquired  \\n \\n  under      finance      leases,      which      is      included      in      “Property      and      equipment      acquired      under      finance      leases,      net      of      remeasurements      and      modifications,”      principal      repayments      of      all  \\n \\n  other      finance      lease      liabilities,      which      is      included      in      “Principal      repayments      of      finance      leases,”      and      “Principal      repayments      of      financing      obligations.”', metadata={'bbox': '', 'page_idx': 13, 'level': 2, 'file_path': '/home/jianyang/local-llm/topic-modelling/documents/amazon_report.pdf'}),\n",
       " Document(page_content='Metadata:\\nY/Y      %  >\\nContent:\\n \\n \\n  Segments  \\n \\n  North      America      Segment:  \\n \\n  Net      sales  \\n \\n  Net      sales      --      Y/Y      growth,      excluding      F/X  \\n \\n  Net      sales      --      TTM  \\n \\n  Operating      income      (loss)  \\n \\n  F/X      impact      --      favorable      (unfavorable)  \\n \\n  Operating      income      (loss)      --      Y/Y      growth,      excluding      F/X  \\n \\n  Operating      margin      --   \\n \\n%      of      North      America      net      sales  \\n \\n  Operating      income      (loss)      --      TTM  \\n \\n  Operating      margin      --      TTM   \\n \\n%      of      North      America      net      sales  \\n \\n  International      Segment:  \\n \\n  Net      sales  \\n \\n  Net      sales      --      Y/Y      growth,      excluding      F/X  \\n \\n  Net      sales      --      TTM  \\n \\n  Operating      income      (loss)  \\n \\n  F/X      impact      --      favorable      (unfavorable)  \\n \\n  Operating      income      (loss)      --      Y/Y      growth      (decline),      excluding      F/X  \\n \\n  Operating      margin      --   \\n \\n%      of      International      net      sales  \\n \\n  Operating      loss      --      TTM  \\n \\n  Operating      margin      --      TTM   \\n \\n%      of      International      net      sales  \\n \\n  AWS      Segment:  \\n \\n  Net      sales  \\n \\n  Net      sales      --      Y/Y      growth,      excluding      F/X  \\n \\n  Net      sales      --      TTM  \\n \\n  Operating      income  \\n \\n  F/X      impact      --      favorable      (unfavorable)  \\n \\n  Operating      income      --      Y/Y      growth      (decline),      excluding      F/X  \\n \\n  Operating      margin      --   \\n \\n%      of      AWS      net      sales  \\n \\n  Operating      income      --      TTM  \\n \\n  Operating      margin      --      TTM   \\n \\n%      of      AWS      net      sales Q4      2022      Q12023      —Q2.2023   \\n \\n=      Q3.\\n2023.   \\n \\n=      Q42023.\\n \\n \\n=      Q12024_~—Change Y/Y   \\n \\n%    \\n \\n$      93,363      $76,881      $82,546   \\n \\n$      87,887      $105,514   \\n \\n$      86,341      12   \\n \\n%       14%      11%      11%      11%      13   \\n \\n%      12   \\n \\n%      N/A       $315,880      $323,517      $331,633      $340,677      $352,828      $362,288      12   \\n \\n%    \\n \\n$      (240)   \\n \\n$      898   \\n \\n$      3,211   \\n \\n$      4307   \\n \\n$      6461   \\n \\n$      4,983      455   \\n \\n%    \\n \\n$   \\n \\n6   \\n \\n$      41   \\n \\n$      (@   \\n \\n$      (7)   \\n \\n$      (13)   \\n \\n$   \\n \\n8      N/A       53   \\n \\n%      N/A      N/A      N/A      N/A      454%      N/A       (0.3)%      1.2%      3.9%      4.9%      6.1%      5.8%      N/A    \\n \\n$      (2,847)   \\n \\n$      (81)   \\n \\n$      3,457   \\n \\n$      8176      $14,877  \\n \\n  $      18,962      N/A       (0.9)%  \\n \\n  (0.1)%      1.0   \\n \\n%      2.4%      4.2%      5.2%      N/A    \\n \\n$      34,463      $29,123      $29,697      $32,137      $40,243      -$      31,935      10   \\n \\n%       5%      9%      10   \\n \\n%      11%      13   \\n \\n%      11%      N/A       $118,007      $118,371      $121,003      $125,420      $131,200      $134,012      13   \\n \\n%    \\n \\n$      (2,228)   \\n \\n$      (1,247)   \\n \\n$      (895)   \\n \\n$      (95)   \\n \\n$      (419)   \\n \\n$      903      N/A    \\n \\n$      (31)   \\n \\n$      (174)   \\n \\n$      32   \\n \\n$      228   \\n \\n$      160   \\n \\n$      @)      N/A       17%      (16)%      (48)%      (87)%      (74)%      N/A      N/A       (6.5)%  \\n \\n  —      (4.3)%  \\n \\n  —      3.0)%      ~—(0.3)%      ~——(1.0)%      2.8   \\n \\n%      N/A    \\n \\n$      (7,746)   \\n \\n$      (7,712)   \\n \\n$      (6,836)   \\n \\n$      (4,465)   \\n \\n$      (2,656)   \\n \\n$      (506)      (93)%  \\n \\n  (6.6)%  \\n \\n  (5)%      (5.6%  \\n \\n  (3.6)%      (2.0)%  \\n \\n  —      (0.4)%      N/A       $21,378      $21,354      $22,140      $23,059      $24,204      —$      25,037      17%  \\n \\n  20   \\n \\n%      16%      12%      12%      13   \\n \\n%      17%      N/A    \\n \\n$      80,096      $83,009      $85,410      $87,931      $90,757      $94,440      14   \\n \\n%    \\n \\n$      5,205   \\n \\n$      5,123   \\n \\n$      5365   \\n \\n$      6976   \\n \\n$      7,167   \\n \\n$      9,421      84   \\n \\n%    \\n \\n$      468   \\n \\n$      272   \\n \\n$   \\n \\n7   \\n \\n$      (69)   \\n \\n$      (62)   \\n \\n$      67      N/A       (10)%      (26)%      (8)%      30%      39   \\n \\n%      83   \\n \\n%      N/A       243%      240%      242%      303%      296%      37.6%      N/A    \\n \\n$      22,841      $21,446      $21,096      $22,669      $24,631  \\n \\n  $      28,929      35%  \\n \\n  28.5%      258%      247%      258%      271%      30.6%      N/A growth      (decline) ()  \\n \\n  Y/Y      %', metadata={'bbox': '', 'page_idx': 14, 'level': 1, 'file_path': '/home/jianyang/local-llm/topic-modelling/documents/amazon_report.pdf'}),\n",
       " Document(page_content='Metadata:\\nY/Y      %  >\\nContent:\\n \\n \\n  Net      Sales  \\n \\n  Online      stores      (1)  \\n \\n  Online      stores      --      Y/Y      growth,      excluding      F/X  \\n \\n  Physical      stores      (2)  \\n \\n  Physical      stores      --      Y/Y      growth,      excluding      F/X  \\n \\n  Third-party      seller      services      (3)  \\n \\n  Third-party      seller      services      --      Y/Y      growth,      excluding      F/X  \\n \\n  Advertising      services      (4)  \\n \\n  Advertising      services      --      Y/Y      growth,      excluding      F/X  \\n \\n  Subscription      services      (5)  \\n \\n  Subscription      services      --      Y/Y      growth,      excluding      F/X  \\n \\n  AWS       AWS      --      Y/Y      growth,      excluding      F/X  \\n \\n  Other      (6)  \\n \\n  Other      --      Y/Y      growth      (decline),      excluding      F/X  \\n \\n  Stock-based      Compensation      Expense  \\n \\n  Cost      of      sales  \\n \\n  Fulfillment  \\n \\n  Technology      and      infrastructure  \\n \\n  Sales      and      marketing  \\n \\n  General      and      administrative  \\n \\n  Total      stock-based      compensation      expense  \\n \\n  Other  \\n \\n  WW      shipping      costs  \\n \\n  WW      shipping      costs      --      Y/Y      growth  \\n \\n  WW      paid      units      --      Y/Y      growth      (7)  \\n \\n  WW      seller      unit      mix      --   \\n \\n%      of      WW      paid      units      (7) Q4      2022      Q12023      —Q22023      —_Q3      2023      Q4.2023      —Q1.2024      Change', metadata={'bbox': '', 'page_idx': 15, 'level': 1, 'file_path': '/home/jianyang/local-llm/topic-modelling/documents/amazon_report.pdf'}),\n",
       " Document(page_content='Metadata:\\nY/Y      %  >\\nContent:\\n \\n \\n \\n$      64,531      $51,096      $52,966      $57,267      $70,543      $54,670      7%  \\n \\n  2%      3%      5%      6%      8%      7%      N/A    \\n \\n$      4,957   \\n \\n$      4,895   \\n \\n$      5,024   \\n \\n$      4,959   \\n \\n$      5,152   \\n \\n$      5,202      6%  \\n \\n  6%      1%      7%      6%      4%      6%      N/A    \\n \\n$      36,339      $29,820      $32,332      $34,342      $43,559   \\n \\n—   \\n \\n$      34,596      16%  \\n \\n  24%      20   \\n \\n%      18   \\n \\n%      18   \\n \\n%      19   \\n \\n%      16   \\n \\n%      N/A       $11,557   \\n \\n$      9,509      $10,683      $12,060      $14,654      $11,824      24%  \\n \\n  23%      23%      22   \\n \\n%      25   \\n \\n%      26   \\n \\n%      24%      N/A    \\n \\n$      9,189   \\n \\n$      9,657   \\n \\n$      9,894      $10,170      $10,488  \\n \\n  $      10,722      11%  \\n \\n  17%      17%      14%      13%      13%      1%      N/A $21,378      $21,354      $22,140      $23,059      $24,204   \\n \\n—   \\n \\n$      25,037      17%  \\n \\n  20   \\n \\n%      16%      12%      12%      13%      17%      N/A $\\n \\n   1,253   \\n \\n$      1,027   \\n \\n$      1344   \\n \\n$      1,226   \\n \\n$      1,361   \\n \\n$      1,262      23%  \\n \\n  80   \\n \\n%      57%      26   \\n \\n%      (3)%      8%      23   \\n \\n%      N/A', metadata={'bbox': '', 'page_idx': 15, 'level': 1, 'file_path': '/home/jianyang/local-llm/topic-modelling/documents/amazon_report.pdf'}),\n",
       " Document(page_content='Metadata:\\nY/Y      %  >\\nContent:\\n \\n \\n \\n$      208   \\n \\n$      16   \\n \\n$      251   \\n \\n$      193   \\n \\n$      227   \\n \\n$      174      6%  \\n \\n  $      757   \\n \\n$      603   \\n \\n$      932   \\n \\n$      732   \\n \\n$      823   \\n \\n$      636      5%  \\n \\n  $      3,126   \\n \\n$      2,574   \\n \\n$      4,043   \\n \\n$      3,284   \\n \\n$      3,533   \\n \\n$      2,772      8%  \\n \\n  $      1,092   \\n \\n$      993   \\n \\n$      1303   \\n \\n$      1111   \\n \\n$      1,216   \\n \\n$      932      (6)%  \\n \\n  $      423   \\n \\n$      413   \\n \\n$      598   \\n \\n$      509   \\n \\n$      520   \\n \\n$      447      8%  \\n \\n  $      5,606   \\n \\n$      4,748   \\n \\n$      7,127   \\n \\n$      5,829   \\n \\n$      6319   \\n \\n$      4,961      4%  \\n \\n  $24,714      $19,937      $20,418      $21,799      $27,326  \\n \\n  $      21,834      10   \\n \\n%       4%      2%      6%      9%      11%      10   \\n \\n%      N/A       8%      8%      9%      9%      12%      12%      N/A       59%      59%      60   \\n \\n%      60   \\n \\n%      61%      61%      N/A       1,541,000      1,465,000      1,461,000      1,500,000      1,525,000      1,521,000      4% (4)%      (10)%      (4)%      (3)%      (1)%      4%      N/A (2)  \\n \\n  included      in      “Online      stores.”', metadata={'bbox': '', 'page_idx': 15, 'level': 1, 'file_path': '/home/jianyang/local-llm/topic-modelling/documents/amazon_report.pdf'}),\n",
       " Document(page_content='Metadata:\\nY/Y      %  >\\nContent:\\n(3)', metadata={'bbox': '', 'page_idx': 15, 'level': 2, 'file_path': '/home/jianyang/local-llm/topic-modelling/documents/amazon_report.pdf'}),\n",
       " Document(page_content='Metadata:\\nY/Y      %  >\\nContent:\\n(4)', metadata={'bbox': '', 'page_idx': 15, 'level': 2, 'file_path': '/home/jianyang/local-llm/topic-modelling/documents/amazon_report.pdf'}),\n",
       " Document(page_content='Metadata:\\nY/Y      %  >\\nContent:\\n(5)  \\n \\n  services.', metadata={'bbox': '', 'page_idx': 15, 'level': 2, 'file_path': '/home/jianyang/local-llm/topic-modelling/documents/amazon_report.pdf'}),\n",
       " Document(page_content='Metadata:\\nY/Y      %  >\\nContent:\\n(6)  \\n \\n  credit      card      agreements.', metadata={'bbox': '', 'page_idx': 15, 'level': 2, 'file_path': '/home/jianyang/local-llm/topic-modelling/documents/amazon_report.pdf'}),\n",
       " Document(page_content='Metadata:\\nY/Y      %  >\\nContent:\\n(7)      Excludes      the      impact      of      Whole      Foods      Market.', metadata={'bbox': '', 'page_idx': 15, 'level': 2, 'file_path': '/home/jianyang/local-llm/topic-modelling/documents/amazon_report.pdf'}),\n",
       " Document(page_content='Metadata:\\nY/Y      %  >\\nContent:\\nAmazon.com,      Inc.', metadata={'bbox': '', 'page_idx': 16, 'level': 1, 'file_path': '/home/jianyang/local-llm/topic-modelling/documents/amazon_report.pdf'}),\n",
       " Document(page_content='Metadata:\\nY/Y      %\\n>\\nCertain      Definitions  >\\nContent:\\ne\\n \\n \\n  References      to      customers      mean      customer      accounts      established      when   \\n \\na      customer      places      an      order      through      one      of      our  \\n \\n  stores.\\nCustomer      accounts      exclude      certain      customers,      including      customers      associated      with      certain      of      our      acquisitions,  \\n \\n  Amazon      Payments      customers,      AWS      customers,      and      the      customers      of      select      companies      with      whom      we      have   \\n \\na       technology      alliance      or      marketing      and      promotional      relationship.\\nCustomers      are      considered      active      when      they      have  \\n \\n  placed      an      order      during      the      preceding      twelve-month      period.', metadata={'bbox': '', 'page_idx': 16, 'level': 2, 'file_path': '/home/jianyang/local-llm/topic-modelling/documents/amazon_report.pdf'}),\n",
       " Document(page_content='Metadata:\\nY/Y      %\\n>\\nCertain      Definitions  >\\nContent:\\n \\n \\n  References      to      sellers      means      seller      accounts,      which      are      established      when   \\n \\na      seller      receives      an      order      from   \\n \\na      customer  \\n \\n  account.\\nSellers      are      considered      active      when      they      have      received      an      order      from   \\n \\na      customer      during      the      preceding      twelve-  \\n \\n  month      period.', metadata={'bbox': '', 'page_idx': 16, 'level': 2, 'file_path': '/home/jianyang/local-llm/topic-modelling/documents/amazon_report.pdf'}),\n",
       " Document(page_content='Metadata:\\nY/Y      %\\n>\\nCertain      Definitions  >\\nContent:\\n \\n \\n  References      to      AWS      customers      mean      unique      AWS      customer      accounts,      which      are      unique      customer      account      IDs      that      are  \\n \\n  eligible      to      use      AWS      services.\\nThis      includes      AWS      accounts      in      the      AWS      free      tier.\\nMultiple      users      accessing      AWS       services      via      one      account      ID      are      counted      as   \\n \\na      single      account.\\nCustomers      are      considered      active      when      they      have      had  \\n \\n  AWS      usage      activity      during      the      preceding      one-month      period.', metadata={'bbox': '', 'page_idx': 16, 'level': 2, 'file_path': '/home/jianyang/local-llm/topic-modelling/documents/amazon_report.pdf'}),\n",
       " Document(page_content='Metadata:\\nY/Y      %\\n>\\nUnits  >\\nContent:\\n \\n \\n \\n¢      References      to      units      mean      physical      and      digital      units      sold      (net      of      returns      and      cancellations)      by      us      and      sellers      in      our  \\n \\n  stores      as      well      as      Amazon-owned      items      sold      in      other      stores.\\nUnits      sold      are      paid      units      and      do      not      include      units  \\n \\n  associated      with      AWS,      certain      acquisitions,      certain      subscriptions,      rental      businesses,      or      advertising      businesses,      or  \\n \\n  Amazon      gift      cards.', metadata={'bbox': '', 'page_idx': 16, 'level': 2, 'file_path': '/home/jianyang/local-llm/topic-modelling/documents/amazon_report.pdf'}),\n",
       " Document(page_content='Metadata:\\nY/Y      %  >\\nContent:\\nContacts:', metadata={'bbox': '', 'page_idx': 16, 'level': 1, 'file_path': '/home/jianyang/local-llm/topic-modelling/documents/amazon_report.pdf'}),\n",
       " Document(page_content='Metadata:\\nY/Y      %\\n>\\nAmazon      Investor      Relations      Amazon      Public      Relations  >\\nContent:\\namazon-ir@amazon.com      amazon-pr@amazon.com', metadata={'bbox': '', 'page_idx': 16, 'level': 2, 'file_path': '/home/jianyang/local-llm/topic-modelling/documents/amazon_report.pdf'}),\n",
       " Document(page_content=\"Metadata:\\nIntroduction  >\\nContent:\\n \\n \\n  Patrick   \\n \\n:      [00:01:53]      Hello.\\nWelcome      to      Business      Breakdowns  \\n \\n.      I\\\\\\\\\\\\'myour      host      Patrick      O\\\\\\\\\\\\'Shaughnessy  \\n \\n.      Today      we\\\\\\\\\\\\'ll      be      breaking  \\n \\n  down      the      world\\\\\\\\\\\\'s      largest      e-commerce      company   \\n \\n,      Alibaba.\\nAlibaba      was      founded      in      1997      by      Jack      Maand      almost      20      other      co-  \\n \\n  founders   \\n \\n,      as      an      online      bulletin      board      that      allowed      small      Chinese      manufacturers      to      tel      buyers      around      the      world      that      they  \\n \\n  were      open      for      business  \\n \\n.      Today,      Alibaba      operates      asprawling      ecosystem      of      businesses      that      includes      e-commerce  \\n \\n  marketplaces   \\n \\n,      cloud      computing   \\n \\n,      food      delivery,      logistics   \\n \\n,      and      financial      services     .Inthis      Breakdown   \\n \\n,      we      discuss      the  \\n \\n  staggering      scale      of      Alibaba\\\\\\\\\\\\'s      business   \\n \\n,      how      Alibaba      went      from      copycat      to      innovator   \\n \\n,      and      the      looming      threat      of      the      next  \\n \\n  generation      of      Chinese      juggernauts   \\n \\n,      and      how      competition      is      viewed      differently      in      China      versus      the      West.\\nFor      this      episode   \\n \\n,      I\\\\\\\\\\\\'m  \\n \\n  joined      by      aspecial      guest      host   \\n \\n,      Claire      Cormier      Thiedke,      who      many      of      you      will      remember      from      her      appearance      on      Invest      like  \\n \\n  the      Best  \\n \\n.      Claire      is      the      managing      director      of      Asia      Pacific      for      Hines      and      brings      her      firsthand      view      of      what      Alibaba      has      built      in  \\n \\n  China,      and      her      daily      experience      using      the      company\\\\\\\\\\\\'s      products  \\n \\n.      Tohelp      us      break      down      Alibaba,      we\\\\\\\\\\\\'re      joined      by      Ram  \\n \\n  Parameswaran      ,the      founder      and      managing      partner      of      investment      firm      Octahedron      Capital.\\nRam      has      invested      in      some      of      the  \\n \\n  biggest      Chinese      companies      of      the      past      decade   \\n \\n,      including      Pinduoduo      and      ByteDance   \\n \\n,      and      is      the      first      person   \\n \\n|      thought      of  \\n \\n  when      wanting      to      breakdown      Alibaba.\\n \\n \\n!      hope      you      enjoy      this      Business      Breakdown     .\", metadata={'bbox': '', 'page_idx': 0, 'level': 1, 'file_path': '/home/jianyang/local-llm/topic-modelling/documents/Alibaba.pdf'}),\n",
       " Document(page_content=\"Metadata:\\nThe      Massive      Scale      of      Alibaba  >\\nContent:\\n \\n \\n  Claire:      [00:03:13]      Ram,      can      we      start      just      by      level      setting      for      amoment      and      understanding      what      Alibaba      is      because      it\\\\\\\\\\\\'sa  \\n \\n  name      that      so      many      people      hear      and      are      familiar      with,      and      it\\\\\\\\\\\\'sso      often      compared      to      analogs      like      Amazon  \\n \\n.      Can      you      maybe  \\n \\n  just      unpack      that   \\n \\na      little      bit      for      us?\", metadata={'bbox': '', 'page_idx': 0, 'level': 1, 'file_path': '/home/jianyang/local-llm/topic-modelling/documents/Alibaba.pdf'}),\n",
       " Document(page_content=\"Metadata:\\nThe      Massive      Scale      of      Alibaba  >\\nContent:\\n[00      :03      :30]      So      Alibaba      ,|      think      is      one      of      the      most      fascinating      businesses      inthe      world.\\nAnd      in      America   \\n \\n,      we      tend      to      have  \\n \\n  these      simplistic      views      of      business  \\n \\n.      The   \\n \\nX      of   \\n \\nY      is      this.\\nAnd      Alibaba      is      an      enigma      even      today      ,even      though      the      company      is      well   \\n \\n-       known   \\n \\n,      they      had      acharismatic      founder      who      gets      into      trouble      for      all      the      wrong      reasons      sometimes,      but   \\n \\na      brilliant      legendary  \\n \\n  founder  \\n \\n.      But      Alibaba      is      an      enigma  \\n \\n.      So      first      of      all,      people      say      it\\\\\\\\\\\\'s      Amazon  \\n \\n.      It      was      actually      not      Amazon  \\n \\n.      The      business      model   \\n \\n,      the  \\n \\n  original      business      model      is      monetized      on      advertising  \\n \\n.      So      it\\\\\\\\\\\\'s      actually      Google      in      many      ways.\\nSo      even      the      assumption      that      it  \\n \\n  sells      e-commerce      ,yes,it      seals      e-commerce   \\n \\n,      but      it      monetizes      mostly      on      advertising  \\n \\n.      It\\\\\\\\\\\\'s      an      unknown      fact      inthe      industry      for the Number two.\\nPeople don\\\\\\\\\\\\'t understand the scale of Alibaba.\\nIt\\\\\\\\\\\\'s a bigger scale than Amazon.\\nAmazon is subscale  \\n \\n  compared      to      Alibaba.\\nSo      let      me      give      you      afew      stats      about      this.\\nIn      2015   \\n \\n,      Alibaba      sold      $500      billion      in      volume      across      their      two  \\n \\n  main      e-commerce      properties      Tmall      and      Taobao  \\n \\n.      That\\\\\\\\\\\\'s      500      billion.\\nIn      2020   \\n \\n,      they      more      than      doubled      that      to      1.2      trillion.\\nAnd      in  \\n \\n  2025   \\n \\n,      by      my      estimates      ,they      will      double      again      to      2.5      trillion.\\nIf      you      put      this      in      context  \\n \\n.      In      2015   \\n \\n,      they      were      10%of      total      retail  \\n \\n  spending      in      China.\\nIn      2020   \\n \\n,      they      were      20%of      retail      spending   \\n \\na      China.\\nIn      2025   \\n \\n,      they\\\\\\\\\\\\'re      25%of      retail      spending      in      China.\\nSo      this      is  \\n \\n  a      utility      at   \\n \\na      scale      where      every      Chinese      consumer      that      effectively      goes      on      the      internet   \\n \\n,      buys      Alibaba      products      first,      and      then  \\n \\n  also      uses      other      stuff  \\n \\n.      So      if      you      take      an      analog      of      Netflix      in      the      U.S,      when      you      cut      the      cord      for      the      first      time,      or      you\\\\\\\\\\\\'re   \\n \\na      young  \\n \\n  student      coming      out      of      college      and      you      never      buy      acable      subscription      in      your      life,      the      first      thing      what      do      you      buy?\\nYou      buy  \\n \\n  Netflix.\\nAnd      then      you      may      layer      on      Hulu      and      you      may      layer      on      other      on-demand      services  \\n \\n.      But      you      start      with      Netflix      first.\\nAnd  \\n \\n  that\\\\\\\\\\\\'s      Alibaba      in      China.\\nIt      is      the      primary      medium      for      almost      everybody      to      satisfy      ther      human      needs      viae-commerce  \\n \\n.      So      that      is  \\n \\n  ascale      of      Alibaba.\\nThis      is   \\n \\na      country      -scale      business     .\", metadata={'bbox': '', 'page_idx': 0, 'level': 1, 'file_path': '/home/jianyang/local-llm/topic-modelling/documents/Alibaba.pdf'}),\n",
       " Document(page_content=\"Metadata:\\nThe      Massive      Scale      of      Alibaba  >\\nContent:\\n \\n \\n  Give      you      one      more      stat      here.\\nThey      had      800      million      active      customers      in      2020     .Each      person      on      average      bought      something      on  \\n \\n  Alibaba      twice   \\n \\na      week   \\n \\n,      two      times   \\n \\na      week  \\n \\n.      This      does      not      include      groceries      and      food.\\nThis      does      not      include      living.\\nThis      includes  \\n \\n  discretionary      buys      on      Alibaba   \\n \\n,      twice   \\n \\na      week  \\n \\n.      And      what\\\\\\\\\\\\'s      amazing      is      five      years      ago   \\n \\n,      they      were      mostly      fashion      and      appard  \\n \\n.      And  \\n \\n  now      they\\\\\\\\\\\\'ve      gone      to      almost      every      single      category      of      any      lifestyle      in      China.\\nAnd      what\\\\\\\\\\\\'s      incredible      is      your      typical      user      starts      year  \\n \\n  one      buying      around      $400      per      year.\\nAnd      by      year      five      goes      to      $2,000      per      year.\\nSo      these      scores      just      keep      on      maturing      as      they  \\n \\n  become      richer      because      the      Chinese      GDP      is      still      small      per      capita      compared      to      the      American      GDP.\\nSo      they      get      richer   \\n \\n,      they  \\n \\n  spend      more   \\n \\n,      therefore      it\\\\\\\\\\\\'s      very      easy      to      model      our      cohort      analysis      to      double      Alibaba      again      over      the      next      five      years  \\n \\n.      So      that\\\\\\\\\\\\'s      2.5  \\n \\n  trillion      in      our      estimates      from      1.2      last      year.\\nAnd      this      is      only      in      discretionary      spending     .And      then      they\\\\\\\\\\\\'ve      got      other      stuff      on      top      of  \\n \\n  this.\", metadata={'bbox': '', 'page_idx': 0, 'level': 1, 'file_path': '/home/jianyang/local-llm/topic-modelling/documents/Alibaba.pdf'}),\n",
       " Document(page_content='Metadata:\\nThe      Massive      Scale      of      Alibaba  >\\nContent:\\n \\n \\n  This      is   \\n \\na      utility      at   \\n \\na      scale      where      every      Chinese      consumer      that      effectively      goes      on      the      internet   \\n \\n,      buys      Alibaba products first, and then also uses other stuff They had 800 million active customers in 2020.\\nEach person on  \\n \\n  average      bought      something      on      Alibaba      twice   \\n \\na      week   \\n \\n,      two      times   \\n \\na      week  \\n \\n.      This      does      not      include      groceries      and  \\n \\n  food  \\n \\n.      This      does      not      include      living.\\nThis      includes      discretionary      buys      on      Alibaba,      twice   \\n \\na      week     .', metadata={'bbox': '', 'page_idx': 1, 'level': 1, 'file_path': '/home/jianyang/local-llm/topic-modelling/documents/Alibaba.pdf'}),\n",
       " Document(page_content=\"Metadata:\\nThe      Massive      Scale      of      Alibaba  >\\nContent:\\n \\n \\n  Claire:      [00:06:49]   \\n \\n1      was      so      excited      to      talk      to      you      about      this,      because      how      many      times      aday      am   \\n \\n|      touching      Alibaba      in      different parts of my life?\\nAndin grocery , orders to get food in the morning, but then also Alibaba is an owner of the newspaper  \\n \\n  where   \\n \\n|      absorb      some      of      the      best      news      on      the      city      and      on      the      region  \\n \\n.      And      that\\\\\\\\\\\\'s      to      say      nothing      of      the      Alipay      that   \\n \\n|      needed      to  \\n \\n  be      able      to      pay      for      the      DDor      the      taxi      to      get      where   \\n \\n|      was      going  \\n \\n.      How      do      you      explain      it      for      someone      who\\\\\\\\\\\\'s      just      trying      to      get      their  \\n \\n  head      around      the      way      they      touch      their      customers      ?\", metadata={'bbox': '', 'page_idx': 1, 'level': 1, 'file_path': '/home/jianyang/local-llm/topic-modelling/documents/Alibaba.pdf'}),\n",
       " Document(page_content=\"Metadata:\\nThe      Massive      Scale      of      Alibaba  >\\nContent:\\n \\n \\n  [00      :07      :21]      Yeah.\\nAnd      that\\\\\\\\\\\\'s      the      hard      part  \\n \\n.      All|      told      you      was      just      the      commerce      business  \\n \\n.      So      on      top      of      that   \\n \\n,      they      have      the  \\n \\n  world\\\\\\\\\\\\'s      leading      cloud      business      in      China.\\nSo      as      Chinese      enterprises      and      SMBs      get      digitized      to      go      to      the      cloud      from      traditional  \\n \\n  on-premise      hosted      solutions   \\n \\n,      Ali      Cloud      gets      40      to      50      cents      on      every      incremental      dollar      that\\\\\\\\\\\\'s      spent      on      the      cloud  \\n \\n.      So      just  \\n \\n  imagine   \\n \\n,      were      not      even      at      the      beginning      of      hundreds      of      potentia      SAS      companies      being      built      out      of      China.\\nAnd      who\\\\\\\\\\\\'s      going      to  \\n \\n  profit      for      all      of      that   \\n \\n?      It\\\\\\\\\\\\'s      going      to      be      Alibaba.\\nSo      that\\\\\\\\\\\\'s      the      second      piece  \\n \\n.      Which      by      the      way,is      growing      North      of      50%in   \\n \\na      very  \\n \\n  healthy      manner      ,EBITDApositive      already  \\n \\n.      And      so      Alibaba      looks   \\n \\na      lot      like      what      Amazon      looked      like      in      the      initial      days      of      Amazon  \\n \\n  web      services  \\n \\n.      And      people      don\\\\\\\\\\\\'t      even      value      it      that      much      right      now,      because      one,|      don\\\\\\\\\\\\'t      think      people      really      understand      the  \\n \\n  power      of      the      cloud      in      China.\\nYet      there      are      questions      about      whether      Chinese      enterprises      even      pay      for      cloud      services      ,as      they  \\n \\n  pay      in      America      ,and      abunch      of      other      reasons  \\n \\n.      That\\\\\\\\\\\\'s      the      commerce      business      for      consumers  \\n \\n.      That\\\\\\\\\\\\'s      the      cloud      business      for  \\n \\n  enterprises     .And      then      you      have      the      Alipay      business      ,which      is   \\n \\na      33%equity      owned      business      by      Alibaba.\\nWas      incubated      in  \\n \\n  Alibaba      back      inthe      early      2000s      as      the      escrow      mechanism      to      pay      merchants     .\", metadata={'bbox': '', 'page_idx': 1, 'level': 1, 'file_path': '/home/jianyang/local-llm/topic-modelling/documents/Alibaba.pdf'}),\n",
       " Document(page_content=\"Metadata:\\nThe      Massive      Scale      of      Alibaba  >\\nContent:\\n \\n \\n  There      was      no      real      close      loop      payment      system      in      China      till      Alipay      came      around      back      inthe      early      2000s  \\n \\n.      And      it\\\\\\\\\\\\'s      just      the      way  \\n \\n  eBay      needed      PayPal      to      make      sure      that      money      got      transferred      only      when      the      consumer      saw      the      product  \\n \\n.      Alibaba      had      to      do  \\n \\n  something      very      similar  \\n \\n.      But      our      Anti-Financial      is      likely      going      to      be      even      bigger      than      Alibaba   \\n \\n,      overtime  \\n \\n.      Ant      Financial      is  \\n \\n  effectively      one      of      the      two      defacto      ways      for      every      Chinese      consumer      to      manage      their      financial      lives.\\nIt\\\\\\\\\\\\'s      the      biggest      money  \\n \\n  market      product      inthe      world.\\nIt\\\\\\\\\\\\'s      bigger      than      JP      Morgan  \\n \\n.      It      has      wealth      management      products  \\n \\n.      It      has      insurance      products  \\n \\n.      It      has  \\n \\n  lending      products  \\n \\n.      And      it\\\\\\\\\\\\'s      all      30%      owned      by      Alibaba.\\nAnd      even      more      interesting      ,this      is      about      ecosystem      control  \\n \\n.      So      you      talked  \\n \\n  about      ordering      food  \\n \\n.      Those      are      all      adjacencies     .Inthe      big      picture   \\n \\n,      all      the      stuff      you      talk      about      doesn\\\\\\\\\\\\'t      even      matter  \\n \\n.      They      will      all  \\n \\n  become      10      to      $20      billion      businesses      over      time.\\nBut      at      the      scale      of      the      core      business      of      Ant      Financial      ,the      commerce      business   \\n \\n,       and      the      cloud      business      ,those      are      all      little,      and      that      doesn\\\\\\\\\\\\'t      really      matter  \\n \\n.      So      it\\\\\\\\\\\\'s      funny.\\nThose      are      standalone      big      businesses      in  \\n \\n  America      and      that      own      rights   \\n \\n,      but      because      Alibaba      is      acountry      scale      business      ,it      doesn\\\\\\\\\\\\'t      matter     .\", metadata={'bbox': '', 'page_idx': 1, 'level': 1, 'file_path': '/home/jianyang/local-llm/topic-modelling/documents/Alibaba.pdf'}),\n",
       " Document(page_content=\"Metadata:\\nThe      Massive      Scale      of      Alibaba  >\\nContent:\\n \\n \\n  Claire:      [00:09:58]      So      you\\\\\\\\\\\\'ve      used      the      term      country      scale      acouple      of      times.\\nAnd      when      it      comes      to      the      country,      China      is  \\n \\n  enormous   \\n \\n,      but      it      also      is      so      much      complex      because      it      is      changing      so      much,      but      also      just      in      the      time      since      Alibaba’\\\\\\\\\\\\'s      founding   \\n \\n,       has      evolved      greatly.\\ncan      you      tap      into      what      you      really      mean      when      you      say      the      country      scale      and      what      we      should      really      take  \\n \\n  from      that      ?\", metadata={'bbox': '', 'page_idx': 1, 'level': 1, 'file_path': '/home/jianyang/local-llm/topic-modelling/documents/Alibaba.pdf'}),\n",
       " Document(page_content=\"Metadata:\\nThe      Massive      Scale      of      Alibaba  >\\nContent:\\n \\n \\n  [00      :10      :20]      So      Alibaba      could      be      acountry      of      its      own.\\nThink      about      the      GDP      of      Alibaba      is      2.4      trillion      in      five      years   \\n \\n,      and      1.2  \\n \\n  trillion      right      now.      When      you      are      crossing      that      scale      of      volume   \\n \\n,      you      are      acountry      effectively  \\n \\n.      That\\\\\\\\\\\\'s      what   \\n \\n|      mean  \\n \\n.      Second   \\n \\n,       Alibaba      has      800      million      average      active      customers  \\n \\n.      Ant      Financial      has      even      more.\\nThis      means      that      60%or      70%of      the      total  \\n \\n  population      use      an      Alibaba      service  \\n \\n.      Were      talking      about      billions      here.\\nWe\\\\\\\\\\\\'re      not      talking      about      afew      millions  \\n \\n.      Number      two.\\n \\n \\n  Number      three      is,aS      you      mentioned      earlier      on,      Claire,      Alibaba\\\\\\\\\\\\'s      products      affect      every      part      of      your      life,      whether      you\\\\\\\\\\\\'re   \\n \\na       consumer      or      whether      you\\\\\\\\\\\\'re   \\n \\na      business  \\n \\n.      I\\\\\\\\\\\\'ve      actually      not      seen      any      company      inthe      world      that      has      that      level      of      impact      ona  \\n \\n  certain      country  \\n \\n.      Let\\\\\\\\\\\\'s      put      it      this      way.If      Amazon      disappeared      tomorrow   \\n \\n,      theoretically      speaking   \\n \\n,      yes      we      will      be      affected   \\n \\n,      but   \\n \\na       Walmart      and   \\n \\na      Target      ,and      other      e-commerce      companies      will      take      its      place  \\n \\n.      If      Alibaba      disappeared      tomorrow      ,|      suspect      there\\\\\\\\\\\\'ll  \\n \\n  be      much      more      impact      on      the      ecosystem      ,in      fact      ,on      the      Chinese      economy     .\", metadata={'bbox': '', 'page_idx': 1, 'level': 1, 'file_path': '/home/jianyang/local-llm/topic-modelling/documents/Alibaba.pdf'}),\n",
       " Document(page_content='Metadata:\\nContent:\\nSource      :      2020      Annual      Report', metadata={'bbox': '', 'page_idx': 2, 'level': 0, 'file_path': '/home/jianyang/local-llm/topic-modelling/documents/Alibaba.pdf'}),\n",
       " Document(page_content='Metadata:\\nThe      History      of      Alibaba  >\\nContent:\\n \\n \\n  Claire:      [00:11:29]      There      are      so      many      different      directions      that      we      can      take      this.\\nAnd      one      thing      that      jumps      out      to      me      is      within  \\n \\n  China,      only      8%of      the      Chinese      live      in      cities      that      are      well      known      outside      of      China.\\nSo      Shanghai   \\n \\n,      Beijing,      and      Guangzhou  \\n \\n.      So  \\n \\n  the      majority      of      folks,      two-thirds      of      them,      are      living      in      tier      three,      tier      four,      tier      five      cities  \\n \\n.      That      would      be      the      equivalent      of  \\n \\n  Mesa   \\n \\n,      Arizona,      probably,      something      of      that      nature.\\nHow      does      Alibaba      think      about      balancing      its      business      or      strategy  \\n \\n  between      tier      one      China,      and      then      all      of      the      rest      ?', metadata={'bbox': '', 'page_idx': 2, 'level': 1, 'file_path': '/home/jianyang/local-llm/topic-modelling/documents/Alibaba.pdf'}),\n",
       " Document(page_content='Metadata:\\nThe      History      of      Alibaba  >\\nContent:\\n \\n \\n  [00      :12      :05]      So   \\n \\n|      think      for      this,      you\\\\\\\\\\\\\\'ve      got      to      go      back      to      the      history      of      Alibaba   \\n \\na      little      bit.\\nSo      let\\\\\\\\\\\\\\'s      talk      about      the      different  \\n \\n  layers      in      which      Alibaba      was      built      because      it      was      built      in      layers  \\n \\n.      It\\\\\\\\\\\\\\'s      not      like      Jack      Ma      and      his      20      co-founders      woke      up      one  \\n \\n  morning      and      said      ,\"Oh,      we\\\\\\\\\\\\\\'re      going      to      build   \\n \\na      hundred      product      company      off      the      goal     .\"\\nThey      couldn\\\\\\\\\\\\\\'t      do      that  \\n \\n.      The      reality      is      what  \\n \\n  |      find      so      fascinating      about      Baba,      and      frankly      ,!\\nadmire      the      company      ,is      they      along      with      Tencent   \\n \\n,      was      the      first      company   \\n \\n_      that  \\n \\n  bridged      what   \\n \\n|      call      the      old      China      and      the      new      China.\\nSo      I\\\\\\\\\\\\\\'ve      been      fortunate      to      be      invested      in      what   \\n \\n|      call      new      Chinese  \\n \\n  companies  \\n \\n.      Whether      it\\\\\\\\\\\\\\'s   \\n \\na      Meituan   \\n \\n,      whether      it\\\\\\\\\\\\\\'s   \\n \\na      ByteDance   \\n \\n,      whether      it\\\\\\\\\\\\\\'s   \\n \\na      Pinduoduo  \\n \\n.      This      is      avery      new      phenomenon’      where  \\n \\n  the      CEOs      were      Western      -educated   \\n \\n,      they      got      there   \\n \\n,      they      used      to      work      in      American      companies      and      they      knew      what      machine  \\n \\n  learning      was      and      they      built      it      more      with      the      Silicon      Valley      ethos  \\n \\n.      Definitely      ,ByteDance      did.\\nBut      Jack      Ma      was   \\n \\na      teacher   \\n \\n,      an  \\n \\n  English      teacher  \\n \\n.      And      so      he      was      the      first      person      in      my      opinion   \\n \\n,      who      fought      against      the      odds      to      create      one      of      the      lasting  \\n \\n  companies      in      what   \\n \\n|      call      Gen      OneWeb      China,      this      was      along      with      Sina      and      Baidu      and      most      of      the      other      companies      outside      of  \\n \\n  Tencent      and      BABA,      they      become      irrelevant      right      now,      they\\\\\\\\\\\\\\'ve      already      been      disrupted   \\n \\n,      yet      BABA      kept      evolving      itself  \\n \\n.      So,      let\\\\\\\\\\\\\\'s  \\n \\n  first      start      with      what      happened      at      BABA,      what      did      they      stat      with?', metadata={'bbox': '', 'page_idx': 2, 'level': 1, 'file_path': '/home/jianyang/local-llm/topic-modelling/documents/Alibaba.pdf'}),\n",
       " Document(page_content='Metadata:\\nThe      History      of      Alibaba  >\\nContent:\\n \\n \\n  In      1999   \\n \\n,      BABA      was      acopycat      of      eBay.\\nSo,most      of      BABA\\\\\\\\\\\\\\'searly      products      were      copycatted      products  \\n \\n.      There      was      no      reason      for  \\n \\n  them      to      innovate  \\n \\n.      They      saw      what      was      happening      inthe      USthey      said   \\n \\n,      \"Well,      let\\\\\\\\\\\\\\'s      build      the      same      thing      for      China\"      because      they  \\n \\n  had      the      big      macro      view      inthe      world      that      things      would      go      from      point   \\n \\nA      to      point      B.      So,      they      first      started      with      alibaba     .com   \\n \\n,      which  \\n \\n  is      the      B2B      market      base      to      procure      products      between      merchants      and      suppliers  \\n \\n.      Then      they      started      eBay,      which      was      Taobao      in  \\n \\n  2003  \\n \\n.      Then      they      needed      to      obviously      build      Alipay,      which      was      Alipay      was      the      escrow      mechanism      for      Taobao      merchants  \\n \\n.      Then  \\n \\n  they      built      Tmall      by      2008  \\n \\n.      Tmall      was      the      first      as      they      got      to      scale      became      abranded      business   \\n \\n,      where      Nike      and      Adidas      and      local  \\n \\n  Chinese      brands      would      create      shops      on      Tmall.\\nThen      they      built      Alibaba      Cloud      in      2009      because      they      saw      how      Amazon      would  \\n \\n  take      that      infrastructure      and      give      it      to      the      world.\\nSo,      for      the      longest      time      ,they      were      copycats  \\n \\n.      Remember   \\n \\n,      they      don\\\\\\\\\\\\\\'t      own  \\n \\n  logistics      ,it\\\\\\\\\\\\\\'s      avery      asset      -light      business      that      generates      65%plus      less      EBITDAmargins  \\n \\n.      So,      the      ethos      in      Alibaba      is      all      about  \\n \\n  platform      creation   \\n \\n,      take      friction      to      zero,      create      collective      good      for      everybody      and      let      everybody      benefit      inthe      process      and      be  \\n \\n  the      meta      aggregator      on      top      of      it.\\nSo      then   \\n \\n,      they      layered      on      logistics      and      then      they      lay      out      SaaS      applications  \\n \\n.      Then      they      layered  \\n \\n  on      home      goods      and      food      and      so      on      and      so      forth.', metadata={'bbox': '', 'page_idx': 2, 'level': 1, 'file_path': '/home/jianyang/local-llm/topic-modelling/documents/Alibaba.pdf'}),\n",
       " Document(page_content='Metadata:\\nThe      History      of      Alibaba  >\\nContent:\\n \\n \\n  The      ethos      in      Alibaba      is      all      about      platform      creation   \\n \\n,      take      friction      to      zero,      create      collective      good      for      everybody and let everybody benefit in the process and be the meta aggregator on top of itSo, the story of Alibaba is not  \\n \\n  one      waking      up      in      1999      and      imagining      this      BMOto      be      built.\\nThe      ethos      really      is,      \"Let\\\\\\\\\\\\\\'s      reduce      friction      to      the  \\n \\n  maximum      degree      we      can      and   \\n \\n|      love      everybody      to      enter      the      ecosystem      and      then      create      an      option      ””', metadata={'bbox': '', 'page_idx': 2, 'level': 1, 'file_path': '/home/jianyang/local-llm/topic-modelling/documents/Alibaba.pdf'}),\n",
       " Document(page_content='Metadata:\\nThe      History      of      Alibaba  >\\nContent:\\n \\n \\n  So,      the      story      of      Alibaba      is      not      one      waking      up      in      1999      and      imagining      this      BMOto      be      built.\\nThe      ethos      really      is,      \"Let\\\\\\\\\\\\\\'s      reduce  \\n \\n  friction      to      the      maximum      degree      we      can      and   \\n \\n|      love      everybody      to      enter      the      ecosysten      and      then      create      an      option     .\"\\nThat\\\\\\\\\\\\\\'s      the  \\n \\n  ethos      of      Alibaba      on      almost      everything  \\n \\n.      So      if      you      had      that      ethos   \\n \\n,      and      if      you      think      about      how      Alibaba      was      built      with      20      co-  \\n \\n  founders  \\n \\n.      Now,      it      is      to      Masa\\\\\\\\\\\\\\'s      son\\\\\\\\\\\\\\'s      credit      that      he      saw      the      genius      in      Jack      Ma,      and      frankly,      Alibaba      is   \\n \\na      big      part      of      Soul      fans\\\\\\\\\\\\\\'      value      creation  \\n \\n.      Now      that\\\\\\\\\\\\\\'s      exceptional      but      if   \\n \\n|      was      as      an      investor      back      inthe      day,      if      |\\\\\\\\\\\\\\'velooked      outside      in,!\\ncould      not      have  \\n \\n  understood      what      Alibaba      did.\\nIt      doesn\\\\\\\\\\\\\\'t      make      sense      because      it      breaks      every      rule      of      the      way      Western      companies      operate  \\n \\n.      So,  \\n \\n  when      it      comes      to      this      long      data      of      consumers      in      China,      Alibaba      was      the      perfect      framework      to      tap      into      all      of      China.\\nWhy?\\n \\n \\n  Because      let\\\\\\\\\\\\\\'s      talk      about      92%of      the      people      living      in      tier      two      to      tier      six      cities   \\n \\n,      the      700      plus      cities      in      China      that      most      people  \\n \\n  haven\\\\\\\\\\\\\\'t      heard      of.\\nWell,      if      you      had      to      build      all      the      infrastructure      via      first-party   \\n \\n,      put      out      your      own      warehouses,      put      your      own      kind  \\n \\n  of      supply      chains   \\n \\n,      put      your      own      last      -mile      delivery      networks      ,are      impossible      and      capital      intensive      tasks   \\n \\n,      you      need      infinite      capital  \\n \\n  for      that  \\n \\n.      But      if      you      created      anetwork      of      local      suppliers      and      connected      them      up      vialogic      and      software   \\n \\n,      which      was      the      Cainiao  \\n \\n  network      did,      well,      then      you      have      something  \\n \\n.      Now      what      is      even      more      interesting      is,as      you      build      this      web      of      the      depth      of  \\n \\n  merchants      ,aS      new      merchants      came      on,      they      went      to      Alibaba      first      to      sell      their      wares     .', metadata={'bbox': '', 'page_idx': 2, 'level': 1, 'file_path': '/home/jianyang/local-llm/topic-modelling/documents/Alibaba.pdf'}),\n",
       " Document(page_content='Metadata:\\nThe      History      of      Alibaba  >\\nContent:\\n \\n \\n  So      in      the      beginning   \\n \\n,      you      had      an      offline      merchant      who      said      ,\"Okay,I      need      an      online      presence      then      let      me      be      asdler      on      Taobao   \\n \\n|       But      over      time   \\n \\n,      what      happened   \\n \\n?      Hundreds      of      thousands      of      micro      -entrepreneurs      who      also      wanted      to      sell      either      aservice      ora  \\n \\n  product      or   \\n \\na      brand      ,instead      of      opening      their      shop      inastreet      in      atier      four      city      went      direct      to      Alibaba      and      started      selling      their  \\n \\n  products  \\n \\n.      Now      it\\\\\\\\\\\\\\'s      funny   \\n \\n,      right   \\n \\n?      That      was      when   \\n \\n|      think      that      in      the      Western      world      right      now,we\\\\\\\\\\\\\\'re      now      copycatting      Alibaba.\\n \\n \\n  What      do      you      think      Shopify      is?\\nShopify      gives      millions   \\n \\n,      hopefully   \\n \\n,      millions      of      consumers   \\n \\n,      the      chance      to      build      their      own  \\n \\n  storefronts      online      virtually      give      the      tools      to      make      them      successful     .So,Alibaba   \\n \\n|      would      argue      was      the      origin      of      Shopify  \\n \\n.      And  \\n \\n  what      is      Shopify      doing   \\n \\n?      They      are      turning      on      Shopify      Pay      because      they      want      their      own      internal      ecosystem   \\n \\n_      to      allow      transactions  \\n \\n  to      be      done      within      merchants      and      consumers.\\n \\n \\n.      Now,      Shopify      is      building      up      third-party      warehouses      ,which      sounds      alot      like  \\n \\n  Cainiao      to      me.\\nSo,      it\\\\\\\\\\\\\\'s      funny   \\n \\n,      right   \\n \\n?      The      copier      has      clearly      in      my      opinion   \\n \\n,      become      the      innovator      and      that\\\\\\\\\\\\\\'s      how      they      reach      1.7  \\n \\n  billion      people      in      China,      not      by      building      everything      full      stack      because      remember   \\n \\n,      today      we      are      inaworld      where      capital      is  \\n \\n  effectively      free      and      capital      is      infinite,      but      this      is   \\n \\na      point      in      time,      the      capital      was      always      scarce      and      Alibaba      Group      at      atime  \\n \\n  when      the      capital      was      scarce      ,so      they      built      an      empire      by      forging      alliances     .', metadata={'bbox': '', 'page_idx': 3, 'level': 1, 'file_path': '/home/jianyang/local-llm/topic-modelling/documents/Alibaba.pdf'}),\n",
       " Document(page_content=\"Metadata:\\nThe      Logistics      Business  >\\nContent:\\n \\n \\n  Claire:      [00:18:15]      You      just      referenced      something      there      in      Cainiao,      their      logistics      firm      that      they      launched      but      then      they\\\\\\\\\\\\'re      also  \\n \\n  an      investor      in      other      third      party      logistics   \\n \\n,      3PL      groups.\\nItreally      does      change      the      physical      infrastructure      of      cities      of      China.\\nDid  \\n \\n  they      look      at      that      access   \\n \\n,      that      physical      access      as      part      of      their      moat      ?\", metadata={'bbox': '', 'page_idx': 3, 'level': 1, 'file_path': '/home/jianyang/local-llm/topic-modelling/documents/Alibaba.pdf'}),\n",
       " Document(page_content=\"Metadata:\\nThe      Logistics      Business  >\\nContent:\\n \\n \\n  [00      :18      :37]      Every      business      eventually      Claire,|      think      becomes      an      omnichannel      business  \\n \\n.      There\\\\\\\\\\\\'s      nothing      called   \\n \\na      pure  \\n \\n  digital      business      anywhere      inthe      world      anymore      when      you      achieve      some      scale  \\n \\n.      So,if      you      take      the      example      of      food      delivery      in  \\n \\n  America   \\n \\n,      well,      you      started      with      pure      marketplaces  \\n \\n.      Eventually   \\n \\n,      you\\\\\\\\\\\\'ve      got      to      also      build      logistics      and      build   \\n \\na      full-stack      solution  \\n \\n.   \\n \\n|       think      it\\\\\\\\\\\\'s   \\n \\na      very      healthy      interplay     .A      few      years      after      Alibaba      was      started      ,that      came      about   \\n \\na      full-stack      solution      company      called  \\n \\n  JD,which      is      also      aphenomenal      company      in      China.\\nAnd      JD\\\\\\\\\\\\'s      entire      stake      as      well,      your      third-party      tower      marketplace      does      not  \\n \\n  really      stand      for      trust      and      quality  \\n \\n.      Well,      let      me      build   \\n \\na      first-party      business      to      compete      with      you      and   \\n \\n|      will      own      the      entire      logistic  \\n \\n  stack      because      the      team      was   \\n \\n,      Okay      well,if      an      e-commerce      company      wins      on      price,      selection      ,and      most      importantly  \\n \\n  convenience      ,well,how      can      Cainiao      with      this      hodgepodge      collection      of      thousands      of      logistics      supplies      around      the      world  \\n \\n  promise      two      to      three      -day      or      four-day      delivery   \\n \\n?      But      JD      could      because      the      logistics      were      in      their      own      hands   \\n \\n,      which      means   \\n \\n_      they  \\n \\n  obviously      had      to      go      to      higher      AOV      products      and      higher      -margin      products      at      the      beginning   \\n \\n,      which      means      that      categories      were  \\n \\n  restricted      at      the      beginning      to      typically      electronics      and      appared     .\", metadata={'bbox': '', 'page_idx': 3, 'level': 1, 'file_path': '/home/jianyang/local-llm/topic-modelling/documents/Alibaba.pdf'}),\n",
       " Document(page_content='Metadata:\\nThe      Logistics      Business  >\\nContent:\\n \\n \\n  But      if      you      have      that      hodgepodge      layer      of      acollection      of      the      long      tail      of      suppliers      in      terms      of      logistics   \\n \\n,      it\\\\\\\\\\\\\\'s      only   \\n \\na      question      of  \\n \\n  how      deeply      do      you      utilize      the      network   \\n \\n?      You      can      throw      the      long      tail      of      categories      on      it.\\nAnd      they      were      also      lucky      at   \\n \\na      point      in  \\n \\n  time      that      inthe      early      2000s      ,the      Chinese      consumer      arguably      was      not      discerning      about      expecting      stuff      at      her      doorstep      inone  \\n \\n  day      or      six      hours      or      four      hours  \\n \\n.      Alibaba\\\\\\\\\\\\\\'s      genius      is      inthe      execution      of      taking      that      typical      seven      -day      inthe      early      days   \\n \\n,      seven      to  \\n \\n  10-day      transportation      to      delivery      to      home      experience      to      now      six      days      by      constant  \\n \\n.      And      again   \\n \\n,      it\\\\\\\\\\\\\\'s      all      about      densification  \\n \\n  Initially,      you      have      people      who      ship      from,      let\\\\\\\\\\\\\\'s      say      Beijing      to      Qingdao      for      example      ,now      over      time      you      have      two      or      three  \\n \\n  suppliers      who      deliver      within,   \\n \\n|      don\\\\\\\\\\\\\\'t      know   \\n \\n,      400      meters      to      where      you      are.\\nSo,      this      is      about      densification      and      that\\\\\\\\\\\\\\'s   \\n \\na      layered  \\n \\n  Cainiao      approach     .What      happened      over      time      is      because      they      don\\\\\\\\\\\\\\'t      own      the      actual      physical      suppliers      ,the      smart      thing      to      do  \\n \\n  was      take      equity      stakes      inabunch      of      these      companies     .So      then   \\n \\n,      because      you      own      equity      stakes      in      those      companies   \\n \\n,      maybe  \\n \\n  you      have      ashot      at      getting      preferred      capacity      from      those      service      providers  \\n \\n.      So,      while      JD      builds      JD      Logistics      astandalone   \\n \\n_      high-  \\n \\n  quality   \\n \\n,      self      -contained      ecosystem      for      itself   \\n \\n,      this      was      Alibaba\\\\\\\\\\\\\\'s      hack      ,\"Let\\\\\\\\\\\\\\'s      build   \\n \\na      software      layered      on      top      of      all      these      suppliers  \\n \\n  of      delivery      systems      and      then      let\\\\\\\\\\\\\\'s      put      equity      stakes      in      every      one      of      them      so      we      have      soft      control      on      them     .\"\\nWhat      is      amazing  \\n \\n  about      Alibaba      is      because      they      grew      up      inan      environment      of      frugality      and      they      grew      up      inan      environment      where      nothing      was  \\n \\n  given      to      them   \\n \\n,      they      always      had      their      hack      their      way      into      scale      be      an      asset      -light      methodology  \\n \\n.      That   \\n \\n|      think      what\\\\\\\\\\\\\\'s      special      about  \\n \\n  Alibaba   \\n \\n,      nothing      was      given      to      them   \\n \\n,      they      could      take      nothing      for      granted     .', metadata={'bbox': '', 'page_idx': 3, 'level': 1, 'file_path': '/home/jianyang/local-llm/topic-modelling/documents/Alibaba.pdf'}),\n",
       " Document(page_content=\"Metadata:\\nThe      Logistics      Business  >\\nContent:\\n \\n \\n  What      is      amazing      about      Alibaba      is      because      they      grew      up      inan      environment      of      frugality      and      they      grew      up      in      an  \\n \\n  environment      where      nothing      was      given      to      them,      they      always      had      their      hack      their      way      into      scale      be      an      asset      -light  \\n \\n  methodology  \\n \\n.      That   \\n \\n|      think      what\\\\\\\\\\\\'s      special      about      Alibaba,      nothing      was      given      to      them,      they      could      take      nothing      for  \\n \\n  granted     .\", metadata={'bbox': '', 'page_idx': 4, 'level': 1, 'file_path': '/home/jianyang/local-llm/topic-modelling/documents/Alibaba.pdf'}),\n",
       " Document(page_content=\"Metadata:\\nThe      E-Commerce      Landscape      in      China  >\\nContent:\\n \\n \\n  Patrick   \\n \\n:      [00:21:46]      It      seems      like      one      of      the      most      interesting      modern      trends      amidst      the,   \\n \\nI      don\\\\\\\\\\\\'t      know,      whatever      generation  \\n \\n  you      want      to      call      it,      the      ByteDances      of      the      world,      the      Pinduoduos      of      the      world,      that      the      pressure      on      the      core      e-commerce  \\n \\n  business   \\n \\n,      obviously      it\\\\\\\\\\\\'sstill      massive   \\n \\n,      but      there      are      other      players      inthe      ecosystem      now      that      really      matters      that      have      some  \\n \\n  real      market      share.\\n \\n \\n|      think      Pinduoduo      in      particular      has      incredible      numbers  \\n \\n.      What      are      your      observations      of      just      like      the      right  \\n \\n  or      most      interesting      business      models      to      monetize      commerce      generally      in      China,      where      if      they\\\\\\\\\\\\'re      Google   \\n \\n,      not      Amazon   \\n \\n,      they\\\\\\\\\\\\'re  \\n \\n  monetizing      through      advertising   \\n \\n?      Just      talk      us      through      like      watching      that      development      and      what      the      ecosystem      looks      like  \\n \\n  today      and      what      companies      are      now      relevant      in      that      core      base      of      Alibaba      that      commerce      center      ?\", metadata={'bbox': '', 'page_idx': 4, 'level': 1, 'file_path': '/home/jianyang/local-llm/topic-modelling/documents/Alibaba.pdf'}),\n",
       " Document(page_content=\"Metadata:\\nThe      E-Commerce      Landscape      in      China  >\\nContent:\\n \\n \\n  [00      :22      :28]      There      are      three      companies      that      are      relevant      for      e-commerce      in      China.\\nThere      is      JD,      which   \\n \\n|      think      is   \\n \\na      full-stack  \\n \\n  first-party      ,most      Amazon      -like      business     .So,JD      would      always      call      itself      the      Amazon      of      China,      though   \\n \\n|      would      argue      when      it  \\n \\n  comes      to      atechnology      backbone      and      technology      infrastructure      ,they      are      quite      poor      compared      to      Amazon  \\n \\n.      And      Alibaba      is  \\n \\n  much      more   \\n \\n,      again      ,more      technologically      superior      to      JD      than      JD      clams      to      be.\\nThe      company   \\n \\n|      am      most      excited      about      and      I\\\\\\\\\\\\'ve  \\n \\n  been      invested      in      them   \\n \\n,      luckily      for      along      time,is      Pinduoduo  \\n \\n.      But      Pinduoduo      again      is      an      advertising      mode   \\n \\n,      it\\\\\\\\\\\\'s      not   \\n \\na      commerce  \\n \\n  model  \\n \\n.      Pinduoduo      and      Alibaba      are      the      same      and      Pinduoduo      is      just      anew      version      of      Alibaba,      equally      aggressive      if      not      more,a  \\n \\n  technical      whatever      itis,      batshit      crazy      in      how      they      execute      stuff  \\n \\n.      It\\\\\\\\\\\\'s      areally      impressive      company     .Itis      nuts      how      they      execute  \\n \\n  against     .|      think      they      have      to      do      it      because      you\\\\\\\\\\\\'ve      got      to      understand      ,the      competitive      intensity      in      China      puts      us      to      shame      in      this  \\n \\n  country  \\n \\n.      It      is      1000      times      more      competitive      in      China      to      do      anything  \\n \\n.      So,      the      question      to      ask      is      how      does      aPinduoduo      emerge  \\n \\n  under      the      shadow      of      Alibaba      ?How      does   \\n \\na      ByteDance      emerge      from      the      shadow      of      aTencent   \\n \\n?      And      Tencent      and      Alibaba      are      no       slouches  \\n \\n.      When      they      see      competition   \\n \\n,      they      try      every      attenpt      to      squash      the      competition  \\n \\n.      It\\\\\\\\\\\\'s      just      the      way      these      companies      are  \\n \\n  built.\\nIf      you      had      to      talk      about      the      competitive      landscape      that      is      Pinduoduo   \\n \\n,      Alibaba      ,and      JD      and      then      you\\\\\\\\\\\\'ve      got      alonger      tail      of  \\n \\n  smaller      companies      like      Vipshop      but      they\\\\\\\\\\\\'re      not      that      relevant      right      now.      I\\\\\\\\\\\\'m      pretty      confident      there\\\\\\\\\\\\'ll      be      other      upstarts      that      come  \\n \\n  over      time.\\nAnd   \\n \\n|      would      also      put      Meituan      inthe      mix      and      I\\\\\\\\\\\\'ll      tell      you      why   \\n \\n|      put      Meituan      inthe      mix.\\nSo,      people      talk      about  \\n \\n  competition      as      abit      of   \\n \\na      bad      thing     .|      think      competition      is      awonderful      thing.\\nNumber      two      is,      think      about      the      market      share  \\n \\n  Alibaba      had      in      China.\\nAt      one      point      in      2015   \\n \\n,      they      were      80%of      all      had      in      China.\\nAt      one      point      in      2015   \\n \\n,      they      were      80%of      dll      e-  \\n \\n  commerce      in      China.\\nThat      doesn\\\\\\\\\\\\'t      make      sense  \\n \\n.      You      can      never      have      an      80%market      in      e-commerce      ,ever.\\nLook      at      America  \\n \\n.      Even  \\n \\n  Walmart      at      its      peak      had      15%of      the      market      share  \\n \\n.      You      just      can\\\\\\\\\\\\'t      have      it.\\nIt\\\\\\\\\\\\'s      not      healthy  \\n \\n.      It      doesn\\\\\\\\\\\\'t      make      sense  \\n \\n.      But      just  \\n \\n  because      you      lose      market      share      doesn\\\\\\\\\\\\'t      mean      that      the      company      is      losing      relevance  \\n \\n.      Infact      ,Amazon      loses      market      share      to  \\n \\n  Wayfair,and      other      companies      growing      even      faster      than      Amazon  \\n \\n.      It      doesn\\\\\\\\\\\\'t      mean      Amazon      is      losing      relevance      inthe      country  \\n \\n.       So,      looking      at      market      share      on      astandalone      basis      ,in      my      opinion   \\n \\n,      is      not      the      right      way      to      look      at      e-commerce      companies  \\n \\n.      It\\\\\\\\\\\\'s  \\n \\n  about      how      many      incremental      dollars      you      collect      ,and      how      big      do      you      get      over      scale      ,and      how      many      dollars      can      you      create  \\n \\n  when      you\\\\\\\\\\\\'re      at      scale      ,interms      of      EBITDA,      to      apply      to      other      products      to      further      strengthen      your      competitive      mode     .\", metadata={'bbox': '', 'page_idx': 4, 'level': 1, 'file_path': '/home/jianyang/local-llm/topic-modelling/documents/Alibaba.pdf'}),\n",
       " Document(page_content=\"Metadata:\\nSource      :      WSJ  >\\nContent:\\n \\n \\n  To      level      -set   \\n \\n,      everybody      attacks      Alibaba      ina      different      way.\\nWhen      you      are      the      biggest   \\n \\n,      baddest      person      in      town,      everyone\\\\\\\\\\\\'s  \\n \\n  gunning      for      you      in      one      way      or      the      other  \\n \\n.      So      competition      initself      doesn\\\\\\\\\\\\'t      really      worry      me.\\nThe      question      is      how      do      you      execute   \\n \\n?       Because      Alibaba      is      an      aggressive      company      ,was      an      aggressive      company  \\n \\n.      It\\\\\\\\\\\\'s      just      part      of      their      DNA.\\nOne,      you      just      need      an      even  \\n \\n  more      aggressive      competitor      ,like      Pinduoduo      who      will      not      take      no      for      an      answer  \\n \\n.      Second      is      in      China,      what      I\\\\\\\\\\\\'ve      observed      over  \\n \\n  years      is      this      is      all      about   \\n \\na      battle      for      the      relevance      of      user      mind      share  \\n \\n.      China      is   \\n \\na      battle      for      user      mind      share  \\n \\n.      So      number      one.\\nSo  \\n \\n  anybody      who      has      aproduct      that      can      vitally      grow      and      gain      you      some      market      share      maybe      has      achance      of      scaling      abusiness  \\n \\n.       What      did      JD      do?\\nJD      just      said      were      going      to      focus      on      the      bigger      cities  \\n \\n.      We\\\\\\\\\\\\'re      going      to      build      full      logistics  \\n \\n.      Were      going      to      stand  \\n \\n  for      trust      and      quality      ,and      were      going      to      be      the      offline      retailer  \\n \\n.      Very      understandable      business      mode  \\n \\n.      Our      gross      margins      are  \\n \\n  going      to      be      lower.\\nWe      probably      will      be      cyclical      in      nature  \\n \\n.      We      won\\\\\\\\\\\\'t      offer      all      categories  \\n \\n.      And      our      scale      of      users      will      be      lower  \\n \\n  than      Alibaba   \\n \\n,      but      that\\\\\\\\\\\\'s      fine      with      us.\", metadata={'bbox': '', 'page_idx': 5, 'level': 1, 'file_path': '/home/jianyang/local-llm/topic-modelling/documents/Alibaba.pdf'}),\n",
       " Document(page_content=\"Metadata:\\nSource      :      WSJ  >\\nContent:\\n \\n \\n  Pinduoduo      took      avery      different      approach      to      business      building  \\n \\n.      They      bought      agamified      business      model   \\n \\n,      which      basically  \\n \\n  offered      products      for      very,      very,      very      cheap  \\n \\n.      Again,      this      is      back      to      reducing      friction      for      the      user  \\n \\n.      Alibaba\\\\\\\\\\\\'s      scale   \\n \\n,      and      Patrick   \\n \\n,       we\\\\\\\\\\\\'ve      talked      about      it      before      inaprevious      podcast   \\n \\n,      but      reducing      friction      is      probably      the      number      one      reason      for      internet  \\n \\n  businesses      to      scale  \\n \\n.      So      let\\\\\\\\\\\\'s      talk      about      that  \\n \\n.      Alibaba      built      Taobao      on      the      back      of      aggregating      hundreds      of      thousands      of  \\n \\n  millions      of      small      merchants   \\n \\n,      existing      and      new,      by      taking      costs      to      zero.\\neBay      was      in      China      when      Alibaba      was      born,      and      eBay,      by  \\n \\n  the      time      decisions      got      routed      viatelegram      between      the      Bay      area      and      Bajing,it      was      game      over.\\nThis      is      aso      why      Amazon      had  \\n \\n  to      eat      humble      pie      in      China.\\nChinese      competitors      run      circles      around      American      companies     .So      American      companies      are      much  \\n \\n  better      off      working      with      them      than      working      against      them     .So,number      one.\\nNumber      two      is      you      take      friction      to      zero.\\nSo      what      did  \\n \\n  Pinduoduo      do?\\nThey      took      prices      to      zero,      effectively      ,by      giving      very      cheap      prices      to      consumers  \\n \\n.      How      did      they      finance      those  \\n \\n  prices   \\n \\n?      The      hack      that      they      used      was      they      procured      directly      from      the      manufacturer      or      from   \\n \\na      distributor  \\n \\n.      So      the      key      inside      of  \\n \\n  Pinduoduo      is      inacountry      where   \\n \\n,      between      manufacturing      and      aretal      store      ,or      aretail      store      online,      there      are      multiple      levds      of  \\n \\n  distributors  \\n \\n.      Wholesalers   \\n \\n,      city      distributors   \\n \\n,      county      distributors  \\n \\n.      Well,      what      if      you      collapse      all      that   \\n \\n?      One,      you      get      your      prices      are  \\n \\n  much      lower.\\nAnd      two,      manufacturers      just      want      to      move      large      volumes  \\n \\n.      So      if      you      aggregate      them      viaagamified      front      end,      like  \\n \\n  a      Groupon      inmany      ways,      well,      you      could      build   \\n \\na      business      mode      around      that.\", metadata={'bbox': '', 'page_idx': 5, 'level': 1, 'file_path': '/home/jianyang/local-llm/topic-modelling/documents/Alibaba.pdf'}),\n",
       " Document(page_content=\"Metadata:\\nSource      :      WSJ  >\\nContent:\\n \\n \\n  So      Pinduoduo   \\n \\n,      it\\\\\\\\\\\\'s      all      about      consumer      mind      share      and      user      time.\\nSo      they      scaled      their      user      base  \\n \\n.      And      in      fact   \\n \\n,   \\n \\n|      still      remember the way Pinduoduo went public ,it was inthe shadow of darkness.\\nThey filed on the 4th of July,and many people the  \\n \\n  common      refrain      in      America      was      this      is      some      pump      and      dump      Chinese      fraud.\\nIt      could      not      be      more      different      than      the      truth.\\nWe,  \\n \\n  inthe      Western      world,      often      don\\\\\\\\\\\\'t      understand      the      games      and      wars      that      Chinese      companies      have      to      play      inorder      to      survive  \\n \\n  we      can      think      something      different  \\n \\n.      But      my      point      is,      it\\\\\\\\\\\\'s      all      about      aquest      for      user      mind      share  \\n \\n.      So      Pinduoduo      built      that  \\n \\n.      And      then  \\n \\n  once      they      did      that   \\n \\n,      they      are      some      of      the      best      execution      people      inthe      world.\\nPeriod  \\n \\n.      So      they      were      able      to      go      build      it      that      out.\\n \\n \\n  They      got      to      scale  \\n \\n.      Now      they      are      600,      700      million      people      in      active      buyers  \\n \\n.      Now      they\\\\\\\\\\\\'ll      increase      the      categories  \\n \\n.      And   \\n \\n|      would argue that Pinduoduo benefited from all the infrastructure that Alibaba built out for them.\\nAlibaba trained For 20 years , they  \\n \\n  trained      merchants      to      have      amazing      tools      and      put      them      on      these      systems      first.\\nThey      educated      two      generations      of      merchants  \\n \\n  And      now   \\n \\n,      those      merchants      just      sav      anew      channel      called      Pinduoduo      ,and      just      jumped      onto      it.\", metadata={'bbox': '', 'page_idx': 5, 'level': 1, 'file_path': '/home/jianyang/local-llm/topic-modelling/documents/Alibaba.pdf'}),\n",
       " Document(page_content=\"Metadata:\\nSource      :      WSJ  >\\nContent:\\n \\n \\n  So      either      of      you,      if      Alibaba      had      not      done      what      they      did      to      educate      acountry      on      e-commerce      ,Pinduoduo      wouldn\\\\\\\\\\\\'t      exist  \\n \\n.      Of  \\n \\n  course   \\n \\n,      the      vagaries      of      nature      as      such      that      Pinduoduo      now      is      areal      competitor      of      Alibaba.\\nNow,      this      discussion      can      not      end  \\n \\n  without   \\n \\na      discussion      on      Meituan      which      is      one      of      my      favorite      companies      inthe      world.\\nMeituan      is      alot      like      JD.\\nIt      is      full-stack food delivery first.\\nBut then over time, what has happened is They started with the food delivery and excellent scale and  \\n \\n  performance      and      execution      over      years  \\n \\n.      But      then      they      got      into      accommodations      and      hotels   \\n \\n,      and      they      had      some      ,|      argue   \\n \\n,      some  \\n \\n  success      there   \\n \\n,      but      not      much  \\n \\n.      Where      theres      ahuge      success      and      where      there\\\\\\\\\\\\'s      the      potential      disruption      to      the      Alibaba      model  \\n \\n  now      is      the      same      phenomenon’      we\\\\\\\\\\\\'re      seeing      in      America      right      now.      See,      Amazon      was      the      alpha      predator      in      America      when      it  \\n \\n  came      to      e-commerce  \\n \\n.      They      did      it      on      the      back      of      price,      selection      ,and      convenience     .Wecan      get      almost      80%of      what      we      want  \\n \\n  within      two      days      in      America      ,from      Amazon  \\n \\n.      Now      DoorDash      comes      along      ,Instacart      comes      around      and      says   \\n \\n,      I\\\\\\\\\\\\'ll      get      you      the  \\n \\n  same      thing      by      aggregating      the      existing      retailers      in      America      and      bring      it      to      you      in      three      hours  \\n \\n.      How      does      Amazon      compete      with  \\n \\n  that   \\n \\n?      So      this      is      what      Meituan      one      does      in      China.\\nOver      time,      the      biggest      trend      in      China      right      now      is      this      thing      called      community  \\n \\n  group      buying   \\n \\n,      around      food  \\n \\n.      Everyone      wants      fresh      food   \\n \\n,      especially      the      pandemic   \\n \\n,      delivered      to      their      homes  \\n \\n.      And      everyone      has   \\n \\na       version      of      it.\\nMeituan      has      aversion      of      it.\\nPinduoduo      going      to      do      itinsize.\\nAlibaba      obviously      is      fighting      back      and      figuring      its  \\n \\n  own      strategy      out,and      DiDiis      getting      into      it.\\nBut   \\n \\n|      think      Baba      will      get      there      as      well      intheir      own      two-hour      delivery      strategies     .\", metadata={'bbox': '', 'page_idx': 6, 'level': 1, 'file_path': '/home/jianyang/local-llm/topic-modelling/documents/Alibaba.pdf'}),\n",
       " Document(page_content=\"Metadata:\\nSource      :      WSJ  >\\nContent:\\n \\n \\n  Claire:      [00:31:12]      The      Pinduoduo      example   \\n \\n,      because      it\\\\\\\\\\\\'sreally      pushing      into      not      just      group      buying,      but      also      the      social      and      the  \\n \\n  gaming      aspect      that      were      seeing      in      other      different      companies      and      strategies      within      China,      is      it   \\n \\na      bit      like      Twitter      and  \\n \\n  Clubhouse   \\n \\n?      Twitter      is   \\n \\na      big      ecosystem   \\n \\n_     .It\\\\\\\\\\\\'sthe      home      page      for      many      people\\\\\\\\\\\\'s      internet      and      mobile      experience  \\n \\n.      And      then  \\n \\n  Clubhouse      rolls      out      and      captures      this      zeitgeist   \\n \\n,      but      then      Twitter      has      spaces  \\n \\n.      And      so      there\\\\\\\\\\\\'s      almost      this      threat      of   \\n \\n,      we      could  \\n \\n  do      that   \\n \\n,      and      we      can      push      into      it.\\nAnd      if      we      do,      then      we\\\\\\\\\\\\'ve      got   \\n \\na      bigger      moat      to      begin      with.\\nIs      that      an      analog      or      is      that      off?\", metadata={'bbox': '', 'page_idx': 6, 'level': 1, 'file_path': '/home/jianyang/local-llm/topic-modelling/documents/Alibaba.pdf'}),\n",
       " Document(page_content=\"Metadata:\\nSource      :      WSJ  >\\nContent:\\n[00:31:51] It is somewhat of an analog.\\nThe hope and expectation Ihave is because Alibaba is good at executing  \\n \\n  listen   \\n \\n,      innovation      is      not      the      purview      or      the      sole      privilege      of      large      companies  \\n \\n.      Infact      ,the      farther      away      from      them      you      are,      the  \\n \\n  more      innovative      you      have      to      be      for   \\n \\na      survival      perspective     .So,Meituan      comes      up      with      this      community      group      buying      strategy  \\n \\n  and      it      works  \\n \\n.      Our      expectation      is      Alibaba      will      actually      just      copy      it      and      do      an      equally      good      job      and      provide      the      same      service      level  \\n \\n  and      quality      for      its      800      million      users  \\n \\n.      The      Clubhouse      /Twitter      example      ,!\\nwould      argue   \\n \\n,      it\\\\\\\\\\\\'s   \\n \\na      little      different  \\n \\n.      We\\\\\\\\\\\\'ve      seen      many avatars of that in the past.\\nWe\\\\\\\\\\\\'ve seen So Twitter bought way back inthe day, but they ultimately put the kibosh on that.\\n \\n \\n  Before      we      had      Clubhouse      ,we      had      Houseparty   \\n \\n,      which      was      extremely      viral      in      nature   \\n \\n,      which      was      an      amazing      product  \\n \\n.      We      now       have      interesting      companies      in      Cameo      and      Patreon  \\n \\n.      And      so      far,      what      I\\\\\\\\\\\\'ve      observed      is      Twitter      did      not      copy      fast  \\n \\n.      Facebook  \\n \\n  copied      incredibly      fast  \\n \\n.      Snapchat      innovates      and      Facebook      copies  \\n \\n.      That      historically      used      to      be      the      situation  \\n \\n.      And      we      always  \\n \\n  saw      Twitter      would      not      copy      anybody     .\", metadata={'bbox': '', 'page_idx': 6, 'level': 1, 'file_path': '/home/jianyang/local-llm/topic-modelling/documents/Alibaba.pdf'}),\n",
       " Document(page_content=\"Metadata:\\nSource      :      WSJ  >\\nContent:\\n \\n \\n  Finally,      Twitter      seems      to      have      got      its      act      together  \\n \\n.      They      finally      seen      to      have      shed      their      technical      debt      ,if      you      watch      the      analyst day promise to double the speed of delivery of products , which is good.\\nSo why Clubhouse is an awesome phenomenon And  \\n \\n  it\\\\\\\\\\\\'s   \\n \\na      phenomenon   \\n \\n_      if      you\\\\\\\\\\\\'ve      been      on      it.!\\nwould      argue      that      Twitter      understands      that      they      have      to      copy      and      copy      fast   \\n \\n,      else      they  \\n \\n  themselves      are      standing      inthe      battle      of      irrelevance      at      some      point      intime,      but   \\n \\n|      suspect      that      Twitter      will      do   \\n \\na      good      job.      So   \\n \\n|       think      the      analogy      is      reasonable   \\n \\n,      Claire.\\nAlibaba      has      just      shown      ahistory      of      executing   \\n \\n,      both      innovating      on      its      own      or      copying  \\n \\n  competitors      or      quashing      competitors     .Wehave      abunch      of      techniques      that      got      them      into      trouble      recently   \\n \\n,      but      they      are      an  \\n \\n  incredibly      aggressive      organization      inalmost      everything      they      do.\\nOne      thing      they      may      not      have      done      very      well      is      buying      stuff  \\n \\n  and      then      investing      outside      the      country  \\n \\n.      That      seems      to      be      questionable      to      me      as      well.\", metadata={'bbox': '', 'page_idx': 6, 'level': 1, 'file_path': '/home/jianyang/local-llm/topic-modelling/documents/Alibaba.pdf'}),\n",
       " Document(page_content=\"Metadata:\\nThe      Competitive      Spirit  >\\nContent:\\n \\n \\n  Patrick   \\n \\n:      [00:34:02]   \\n \\n|      have   \\n \\na      question      for      both      of      you      since      you\\\\\\\\\\\\'ve      got      alot      more      experience      in      China      than   \\n \\n|      do.\\nRam,   \\n \\na      couple of times you\\\\\\\\\\\\'ve mentioned this concept of aggression or competition level , or Would quash us in the West if they had the  \\n \\n  opportunity      to      come      compete      against      us.\\nAnd      Claire,      obviously      you\\\\\\\\\\\\'ve      spent      aton      of      time      infront      of      these      businesses   \\n \\n,       working      with      them   \\n \\n,      seeing      them      build.\\nWhat      is      behind      that?\\nBehind      that      word      aggression      and      competition   \\n \\n,      what      specifically  \\n \\n  are      Chinese      companies      doing      differently      and/or      better      that      leads      to      that      competitive      edge   \\n \\n,      that      competitive      spirit,      that  \\n \\n  aggression      ?\", metadata={'bbox': '', 'page_idx': 7, 'level': 1, 'file_path': '/home/jianyang/local-llm/topic-modelling/documents/Alibaba.pdf'}),\n",
       " Document(page_content=\"Metadata:\\nThe      Competitive      Spirit  >\\nContent:\\n \\n \\n  Claire:      [00:34:36]      It\\\\\\\\\\\\'sfunny      because      the      word      aggression      or      winning,      it      almost      sounds      like      this      negative  \\n \\n.   \\n \\n|      take      this      view      that  \\n \\n  it      comes      from      this      strong      sense      of      comradery      and      teamwork      with      your      crew      that\\\\\\\\\\\\'s      going      to      build      something      with      you.\\nJust  \\n \\n  the      language      around      companies   \\n \\n,      whether      it\\\\\\\\\\\\'s      building      engineers      who      arecreating      acleaning      program      to      keep      people      safe  \\n \\n  during      COVID      it\\\\\\\\\\\\'snot      how      do      we      keep      tenants      safe,      it\\\\\\\\\\\\'show      do      we      get      to      victory      over      this      virus?\\nAnd      if      it\\\\\\\\\\\\'s      companies      that  \\n \\n  are      building   \\n \\n,      and      astartup      that\\\\\\\\\\\\'s      getting      started   \\n \\n,      it\\\\\\\\\\\\'show      do      we      get      to      the      top      of      the      mountain      together   \\n \\n?      There      is      this  \\n \\n  language      of      this      heroic      fight      of      creating      something  \\n \\n.      And      so   \\n \\n|      think      there      is      this      surface      understanding      where      people      will      say  \\n \\n  this      all      comes      from      scarcity      and      China\\\\\\\\\\\\'s      economy      is      growing      so      fast  \\n \\n.      And   \\n \\n|      take      this      other      way,      of      this      sense      of      community  \\n \\n  and      winning      and      togetherness  \\n \\n.      Ram,      what      would      you      say      ?\", metadata={'bbox': '', 'page_idx': 7, 'level': 1, 'file_path': '/home/jianyang/local-llm/topic-modelling/documents/Alibaba.pdf'}),\n",
       " Document(page_content=\"Metadata:\\nThe      Competitive      Spirit  >\\nContent:\\n \\n \\n  [00      :35      :35]   \\n \\n|      think      that      is      true.\\n \\n \\n|      think      you\\\\\\\\\\\\'re      exactly      right,      Claire.\\nThat\\\\\\\\\\\\'s      the      way      the      generals      motivate      the      army.\\nBut  \\n \\n  between      the      armies   \\n \\n,      they      hate      each      other  \\n \\n.      So   \\n \\n|      would      argue      that      were      both      correct  \\n \\n.      This      is      the      way      the      common      goal      of  \\n \\n  mission      -oriented      structures      is      from.\\nIt\\\\\\\\\\\\'s      generals      leading      their      troops      to      battles  \\n \\n.      And      this      is      why      in      Alibaba   \\n \\n,      the      sole      leadership  \\n \\n  is      deified  \\n \\n.      They\\\\\\\\\\\\'re      like      the      ancient      heroes     .|      find      it      beautiful  \\n \\n.      It\\\\\\\\\\\\'s      beautifully      seeped      in      old      Chinese      culture  \\n \\n.      It\\\\\\\\\\\\'s      quite      beautiful      ,in  \\n \\n  my      opinion  \\n \\n.      It\\\\\\\\\\\\'s      like      the      general      leading      the      troops      to      battle   \\n \\n,      this      community      and      purpose      of      winning.\\nIt\\\\\\\\\\\\'s      very      meta      in      the      way  \\n \\n  they      think      about      stuff  \\n \\n.      It\\\\\\\\\\\\'s      very      philosophical   \\n \\n,      but      between      armies   \\n \\n,      there      can      be      no      survivors  \\n \\n.      It      is      me      versus      them  \\n \\n.      And      so,|  \\n \\n  actually      think      were      both      correct  \\n \\n.      We\\\\\\\\\\\\'re      just      looking      at      it      in      two      different      ways.\\nBecause      again      ,it\\\\\\\\\\\\'s      just      not      the      scarcity      value,  \\n \\n  but      China,      as   \\n \\na      culture      ,in      my      observation      ,is      extraordinarily      competitive  \\n \\n.      And      again   \\n \\n,      because      the      country      is   \\n \\na      young      country that emerged from relative poverty inarelatively short period of time.\\nUntil the 1990s It\\\\\\\\\\\\'s funny.\\nWe talk about the BRICK  \\n \\n  economies      .1|      grew      up      in      India,      and      I\\\\\\\\\\\\'ve      worked      in      China.\\nAnd      you      go      to      China,      China      shouldn\\\\\\\\\\\\'t      be   \\n \\na      brick      economy  \\n \\n.      That\\\\\\\\\\\\'s      an      old  \\n \\n  term  \\n \\n.      China      is      so      far      ahead   \\n \\n,      it\\\\\\\\\\\\'s      not      even      funny.\\nAnd      so      they      came      to      this      relative      point      of      prosperity      in      30      years  \\n \\n.      That      change      is  \\n \\n  an      aggressive      change     .And      so      many      things      got      upended      inthat      period  \\n \\n.      You      went      from      arelatively      poor   \\n \\n,      socialist      country      to  \\n \\n  what   \\n \\n|      call      the      Chinese      version      of      capitalism      ,with      world-leading      ambitions  \\n \\n.      And      so   \\n \\n|      think      that      is      the      reason      for      we      have      to      win  \\n \\n  at      all      costs      attitude     .\", metadata={'bbox': '', 'page_idx': 7, 'level': 1, 'file_path': '/home/jianyang/local-llm/topic-modelling/documents/Alibaba.pdf'}),\n",
       " Document(page_content=\"Metadata:\\nThe      Competitive      Spirit  >\\nContent:\\n \\n \\n  But      think      about      the      US.\\nTake      Uber      as   \\n \\na      company  \\n \\n.      The      US,      who      take      Uber      as      acompany  \\n \\n.      Right.\\nUber,      well      known      to      be  \\n \\n  incredibly      competitive      in      what      they      do.\\nAmazon      says      something   \\n \\n,      the      world      quakes  \\n \\n.      Right.\\nThey\\\\\\\\\\\\'re      known      for      that      execution  \\n \\n.   \\n \\n|       would      argue      that      for      every      sub      -sector   \\n \\n,      there      are      multiple      competitors      in      China      and      these      waves      of      competitors      keep      coming  \\n \\n.       So      the      incumbents      can      never      rest  \\n \\n.      So      they\\\\\\\\\\\\'re      always      aggressive  \\n \\n.      The      minute      there      is      weakness   \\n \\n_   \\n \\n,      there      is      debt  \\n \\n.      The      minute      that  \\n \\n  people      will      sniff      you      out,      they\\\\\\\\\\\\'ll      kill      you.\\nThis      is      the      way      it      is.\\nRight.\\nAlmost      every      business      sector  \\n \\n.      And      therefore   \\n \\n,      part      of      the      way  \\n \\n  they      have      dealt      with      this      is      companies      that      do      well,      they      have      such      apride      of      execution      speed      and      intensity  \\n \\n.   \\n \\n|      mean   \\n \\n,      there      is  \\n \\n  this      concept      called      996,      which      has      abad      connotation      because      people      die      of      exhaustion      and      of      crazy      hard      work.\\nBut      this  \\n \\n  intensity      of      culture   \\n \\n,      the      intensity      of      work      in      nine      to      nine,      six      days   \\n \\na      week      ,is      just      in-built      in      these      companies      that      we      don\\\\\\\\\\\\'t      see  \\n \\n  that      in      USs      companies  \\n \\n.      Right.\\nAnd      then   \\n \\n,      the      other      piece      is      of      course   \\n \\n,      building      avery      deep      connection      with      local      and      central  \\n \\n  governments  \\n \\n.      That\\\\\\\\\\\\'s      the      third      piece      that   \\n \\n|      don\\\\\\\\\\\\'t      think      people      talk      about      too      much  \\n \\n.      Government      relations      are      so      important      to  \\n \\n  building      great      Chinese      companies  \\n \\n.      And      so,I      think      Claire      is      right,      it\\\\\\\\\\\\'s      not      maybe      ascarcity      mentality  \\n \\n.      And   \\n \\n|      agree      with      her  \\n \\n  completely      it\\\\\\\\\\\\'s      this      mission      to      win.\\nBut      the      only      thing   \\n \\n|      would      argue      is,      think      that\\\\\\\\\\\\'s      the      internal      view,      the      general      leading      his  \\n \\n  troops      to      the      army   \\n \\n,      versus      atake      no      prisoners      attitude     .\", metadata={'bbox': '', 'page_idx': 7, 'level': 1, 'file_path': '/home/jianyang/local-llm/topic-modelling/documents/Alibaba.pdf'}),\n",
       " Document(page_content=\"Metadata:\\nThe      Competitive      Spirit  >\\nContent:\\n \\n \\n \\n|      would      argue      that      for      every      sub-sector   \\n \\n,      there      are      multiple      competitors      in      China      and      these      waves      of      competitors  \\n \\n  keep      coming  \\n \\n.      So      the      incumbents      can      never      rest.\\nSo      they\\\\\\\\\\\\'re      always      aggressive  \\n \\n.      The      minute      there      is      weakness   \\n \\n,       there      is      debt.\\nThe      minute      that      people      will      sniff      you      out,      they\\\\\\\\\\\\'ll      kill      you.\", metadata={'bbox': '', 'page_idx': 7, 'level': 1, 'file_path': '/home/jianyang/local-llm/topic-modelling/documents/Alibaba.pdf'}),\n",
       " Document(page_content=\"Metadata:\\nPortable      Lessons      for      American      Companies  >\\nContent:\\n \\n \\n  Patrick   \\n \\n:      [00      :38      :43]      I\\\\\\\\\\\\'mcurious   \\n \\n,      in      the      West      that      we\\\\\\\\\\\\'ve      got      this      now,      very      mature,      developed      language      for      sources      of  \\n \\n  competitive      advantage      in      Western      companies  \\n \\n.      How      different      is      that      language      for      companies      in      China?\\nSaid      differently   \\n \\n,      the  \\n \\n  seven      powers   \\n \\n,      or      the      five      forces   \\n \\n,      or      whatever      framework      you      want      to      use.\\nDo      you      think,      Ram,      that      it\\\\\\\\\\\\'sthe      same      driving  \\n \\n  factors      that      lead      to      success      and,      or      failure?\\nOr      are      there      more      unique,      relevant      attributes      of      sustainable      competitive  \\n \\n  advantage      in      China      versus      the      West      ?\", metadata={'bbox': '', 'page_idx': 8, 'level': 1, 'file_path': '/home/jianyang/local-llm/topic-modelling/documents/Alibaba.pdf'}),\n",
       " Document(page_content=\"Metadata:\\nPortable      Lessons      for      American      Companies  >\\nContent:\\n \\n \\n  [00:39:14]      The      seven      powers      framework      ,which   \\n \\n|      follow      somewhat      religiously      ,is      universal      in      nature  \\n \\n.      Right.\\nBut   \\n \\n|      do      think  \\n \\n  the      weighting      of      those      companies      is      different      in      different      countries     .So,if      you      think      about      that      last      piece      of      operational  \\n \\n  process      power   \\n \\n,      that   \\n \\n|      don\\\\\\\\\\\\'t      know      why      Hamilton      put      it      at      the      end.\\n \\n \\n|      think      it\\\\\\\\\\\\'s      one      of      the      most      important      ones     .|      would      argue      that  \\n \\n  a      couple      of      those      have      very      high      weightage      in      China.\\nSo      branding      ,|      don\\\\\\\\\\\\'t      know,      China\\\\\\\\\\\\'s      an      immature      country      still      in      many  \\n \\n  ways.\\nRight.\\nAre      there      any      historical      brands      from      China      that      matter   \\n \\n?      No,      I\\\\\\\\\\\\'m      going      to      argue      there      are      going      to      be      hundreds      of  \\n \\n  new      brands      built      over      the      next      30      to      50      years  \\n \\n.      Right.\\nSo      branding   \\n \\n,      maybe      not      that      much  \\n \\n.      Switching      costs   \\n \\n,      they      make      it      very  \\n \\n  easy      to      switch  \\n \\n.      So,      the      switching      costs      are      not      very      high      across      internet      companies      in      China.\\nBut   \\n \\n|      think      if      theres      one      thing  \\n \\n  that      jumps      out      to      me,scale      economics      really      matters      in      China,      the      first      part      of      Hamilton\\\\\\\\\\\\'s      framework  \\n \\n.      And      then   \\n \\n,      the  \\n \\n  operational      process      cover.\\nSo   \\n \\n|      think      if      you      had      avape      then   \\n \\n,      again      ,|      haven\\\\\\\\\\\\'t      done      the      work,      but   \\n \\n|      suspect      it      would      be      weighted  \\n \\n  differently      in      China      versus      the      US.\\nThe      execution      and      scale      are      the      two      big      things      that      would      jump      out      to      me      in      my  \\n \\n  observation\", metadata={'bbox': '', 'page_idx': 8, 'level': 1, 'file_path': '/home/jianyang/local-llm/topic-modelling/documents/Alibaba.pdf'}),\n",
       " Document(page_content='Metadata:\\nPortable      Lessons      for      American      Companies  >\\nContent:\\n \\n \\n  Claire:      [00:40:20]      So,      what      do      you      think,      now      that      the      West      has      had      more      time      and      will      have      more      time      to      watch      Alibaba  \\n \\n  grow      and      evolve   \\n \\n?      You      talked      about      this      concept      of      mission      and      the      ethos      between      East      and      West.\\nWhat      can      the      West      learn  \\n \\n  from      Alibaba?', metadata={'bbox': '', 'page_idx': 8, 'level': 1, 'file_path': '/home/jianyang/local-llm/topic-modelling/documents/Alibaba.pdf'}),\n",
       " Document(page_content=\"Metadata:\\nPortable      Lessons      for      American      Companies  >\\nContent:\\n \\n \\n  [00      :40      :37]   \\n \\n|      would      say      that      user      experience      in      China      and      the      USare      so      fundamentally      different  \\n \\n.      Or      user      experiences      and  \\n \\n  user      expectations     .So      in      America   \\n \\n,      what      do      we      love?\\nMy      analyst      this      morning      ,used      this      amazing      experience  \\n \\n.      He      said   \\n \\n,      the  \\n \\n  Beatles      White      Album      UI,      very      clean   \\n \\n,      very      non-complicated      ,very      streamlined      ,very      Apple-like      products  \\n \\n.      Welove      using      Apple      in  \\n \\n  this      country  \\n \\n.      Right.\\n1s      the      Beatles      white      album      UI.\\n1!\\nwould      say      that\\\\\\\\\\\\'s      boring   \\n \\n,      really      boring  \\n \\n.      The      Chinese      consumer   \\n \\n,      first      of      all,  \\n \\n  they      are      native      mobile      and      native      internet      users  \\n \\n.      They      just      want      the      buzzer      -like      experience      .1|      go      to      Reddit  \\n \\n.      And      I\\\\\\\\\\\\'ve      been      going  \\n \\n  to      Reddit      after      the      Wall      Street      Bets      saga      in      January     .|      never      really      went      before      that     .|      actually      cannot      figure      out      Reddit   \\n \\n,      for      the  \\n \\n  most      part     .Is      this      too      confusing      ,even      for      me?\\nTheres      too      much      stuff      going      on      there      that      ,as      an      old      fogy      probably      doesn\\\\\\\\\\\\'t      really  \\n \\n  quite      get      it.\", metadata={'bbox': '', 'page_idx': 8, 'level': 1, 'file_path': '/home/jianyang/local-llm/topic-modelling/documents/Alibaba.pdf'}),\n",
       " Document(page_content='Metadata:\\nPortable      Lessons      for      American      Companies  >\\nContent:\\n \\n \\n  But      in      China,      it\\\\\\\\\\\\\\'s      all      about      the      buzzer      ,in      your      face   \\n \\n,      the      colors   \\n \\n,      the      fireworks   \\n \\n,      it\\\\\\\\\\\\\\'s      like,      \"Hey,      come      here   \\n \\n,      you      see      this.\"\\nRight.\\nSo  \\n \\n  fundamentally      ,1      think      our      e-commerce      companies      are      boring   \\n \\n,      really      boring  \\n \\n.      Amazon      makes      me      fall      asleep  \\n \\n.      It\\\\\\\\\\\\\\'s      utilitarian   \\n \\n,      does  \\n \\n  the      job,      but      that      will      change  \\n \\n.      Why      is      that      changing   \\n \\n?      Well,      fundamentally      because      we      have      social      companies      redizing      that      after  \\n \\n  they      have      made      $85      billion      in      advertising      like      Facebook      ,well,      what\\\\\\\\\\\\\\'s      the      next      big      hundred      billion      dollar      opportunity   \\n \\n?      Well,      it\\\\\\\\\\\\\\'s  \\n \\n  going      to      be      commerce  \\n \\n.      So,      what      did      they      do?\\nWhere      do      they      turn      on      commerce      for      the      first      time   \\n \\n?      On      Instagram  \\n \\n.      Not      on      the  \\n \\n  Facebook      blue      app      ,on      Instagram     .So      then      what      happens   \\n \\n?      Then      Pinterest      comes      on.\\nThen      TikTok      comes      to      the      US.\\nAnd      now       people      are      now      realizing   \\n \\n,      Aha.      It\\\\\\\\\\\\\\'s      actually      much      more      fun.\\nInfact   \\n \\n,      that      is      our      virtual      shopping      mall      online.', metadata={'bbox': '', 'page_idx': 8, 'level': 1, 'file_path': '/home/jianyang/local-llm/topic-modelling/documents/Alibaba.pdf'}),\n",
       " Document(page_content=\"Metadata:\\nPortable      Lessons      for      American      Companies  >\\nContent:\\n \\n \\n \\n|      mean      ,malls      were      fun      inthe      US.\\nIt      was   \\n \\na      social      time      you      spent  \\n \\n.      You      didn\\\\\\\\\\\\'t      go      there      for      utility.\\nYou      went      to      hang      there  \\n \\n.      So,      the  \\n \\n  first      thing   \\n \\n|      would      see      with      social      companies      turning      on      commerce      ,my      best      guess      is      shopping      in      America      will      become      more  \\n \\n  fun      again  \\n \\n.      It      won\\\\\\\\\\\\'t      be      boring  \\n \\n.      Number      two,      because      of      companies      like      TikTok,      what      is      the      big      driver      there   \\n \\n?      And      Patreon      and  \\n \\n  Clubhouse      and      everything      else,      you\\\\\\\\\\\\'re      seeing      the      creator      economy      explode  \\n \\n.      Right.\\nAnd      if      the      creator      economy      explodes   \\n \\n,       everyone      becomes      amicro      -entrepreneur      and      you      then      have      influencers  \\n \\n.      Well,      that      drives      alot      of      the      shopping      trends      in  \\n \\n  America   \\n \\n,      very      similar      to      how      influencers      drive      shopping      trends      in      China.\\nSo      that\\\\\\\\\\\\'s      what   \\n \\n|      think      from      acommerce      perspective   \\n \\n, we may likely evolve to over time.\\nBut that doesn\\\\\\\\\\\\'t mean Amazon doesn\\\\\\\\\\\\'t go Amazon cannot evolve its way into that fun  \\n \\n  shopping      experience      ,but      they      don\\\\\\\\\\\\'t      have      to.\\nOther      companies      will      evolve.\\nAnd   \\n \\n|      think      we\\\\\\\\\\\\'re      going      to      copy      alot      of      these  \\n \\n  behaviors      from      China,      which      is      good     .\", metadata={'bbox': '', 'page_idx': 8, 'level': 1, 'file_path': '/home/jianyang/local-llm/topic-modelling/documents/Alibaba.pdf'}),\n",
       " Document(page_content=\"Metadata:\\nPortable      Lessons      for      American      Companies  >\\nContent:\\n \\n \\n  Claire:      [00:43:25]   \\n \\n1      have      to      squeeze      inaprediction      question      on      this,      because      you      talk      about      the      fun      of      shopping      and      the  \\n \\n  digital      world      and      it      moving      and      how      it\\\\\\\\\\\\'schanging  \\n \\n.      So,      does      this      mean      people      will      come      back      to      malls?\\nSo      how      does      this  \\n \\n  relate      then      back      to      the      West      on      the      physical      real      estate      ?\", metadata={'bbox': '', 'page_idx': 9, 'level': 1, 'file_path': '/home/jianyang/local-llm/topic-modelling/documents/Alibaba.pdf'}),\n",
       " Document(page_content=\"Metadata:\\nPortable      Lessons      for      American      Companies  >\\nContent:\\n \\n \\n  [00      :43      :42]      So,      traditional      malls      with      boring      stuff      ,don\\\\\\\\\\\\'t      stand      achance  \\n \\n.      Right.\\nMalls      are      experiential      ,fun      ways      of      doing  \\n \\n  things  \\n \\n.      Right.\\nPeople      will      go      back     .|      think   \\n \\na      subset      of      malls      in      America      will      survive      actually   \\n \\n,      but      they      will      just      look      very      different  \\n \\n.       Therell      be      more      entertainment      and      food      and      fun      and      arcades  \\n \\n.      And      maybe      more      showcases      where      you      can      look      at      the      newest  \\n \\n  products      and      then      scan      QRcode   \\n \\n,      click   \\n \\n,      deliver      to      your      house      and      you      go      back      home  \\n \\n.      That\\\\\\\\\\\\'s      what      you      will      see.\\nWe      are      over   \\n \\n-       malled      in      this      country  \\n \\n.      And      obviously   \\n \\n,      the      mall      footprint      of      this      country      will      go      down      by      probably      half      inthe      next      20      years.\\n \\n \\n  There\\\\\\\\\\\\'s      no      question      about      that      in      my      mind,      but      it\\\\\\\\\\\\'s      not      going      to      ever      go      down      to      zero.\\nWhat      you      will      see      is      those      places  \\n \\n  repurposed      to      much      more      fun      things   \\n \\n,      because      shopping      is      fun.\\nIt\\\\\\\\\\\\'s      not      like      in      China.\\nShopping      should      be      an      experience  \\n \\n.      Right.\\n \\n \\n  |      remember      growing      up      in      Asia      and      my      mom      would      go      out      to      shop      inthe      bazaar      because      going      and      selecting      tomatoes      and  \\n \\n  haggling      with      the      guy,is      fun      for      whatever      reason  \\n \\n.      But      people      love      it.\\nAnd   \\n \\n|      think      people      are      very      similar      indifferent      parts      of      the  \\n \\n  world.\\nWe\\\\\\\\\\\\'re      more      similar      than      we      think      were      different  \\n \\n.      And      especially   \\n \\n,      think      about      young      people      growing      up      indifferent      parts  \\n \\n  of      the      world  \\n \\n.      They      look      very      similar      to      each      other      because      they      all      were      brought      up      on      the      same      mobile      native      internet      first.\\n \\n \\n  They      use      more      or      less      the      same      app      ,global      apps      growing      up.\\nAnd      so,      they      look      and      feel      and      think      and      learn      the      same  \\n \\n.      Look      at  \\n \\n  this      podcast  \\n \\n.      Right.\\nYour      podcast      is      listened      to      by      people      ina      hundred      places      inthe      world.\\nThis      wasn\\\\\\\\\\\\'t      the      case      20      years      ago.\\n \\n \\n  So      this      is      just      back      to      the      democratization      of      knowledge     .And   \\n \\n|      suspect      that      people      will      look      more      similar      in      20      years  \\n \\n.      And  \\n \\n  therefore      ,the      application      that      serves      them   \\n \\n,      will      have      to      be      more      similar  \\n \\n.      And   \\n \\n|      think      they      converge      with      the      Chinese      view      on  \\n \\n  the      world      than      the      American      view      on      the      world      because      it\\\\\\\\\\\\'s      very      boring      right      now.\", metadata={'bbox': '', 'page_idx': 9, 'level': 1, 'file_path': '/home/jianyang/local-llm/topic-modelling/documents/Alibaba.pdf'}),\n",
       " Document(page_content=\"Metadata:\\nPortable      Lessons      for      American      Companies  >\\nContent:\\n \\n \\n  Claire:      [00:45:29]      There\\\\\\\\\\\\'s   \\n \\na      book      by      Parag      Khanna      called      Connectography  \\n \\n.      And      it      puts      this      idea      that      lines      on   \\n \\na      map      aren\\\\\\\\\\\\'t  \\n \\n  what      matters      anymore.\\nIt\\\\\\\\\\\\'sthe      connections      that      come      from      the      internet      and   \\n \\na      mobile      experience   \\n \\n,      and      when      and      how      places  \\n \\n  move      through      geography      that      hits      on      alot      of      what      you\\\\\\\\\\\\'re      saying  \\n \\n.      And      so,   \\n \\n|      guess      where      I\\\\\\\\\\\\'mgoing      to      hit      with      the      last  \\n \\n  question  \\n \\n.      Which      is,      if      we      want      to      learn      more      about      Alibaba      or      what      they\\\\\\\\\\\\'re      seeing   \\n \\n,      or      what      they\\\\\\\\\\\\'re      thinking      about   \\n \\n,      where  \\n \\n  would      we      go?\\nWhat      should      we      read?\", metadata={'bbox': '', 'page_idx': 9, 'level': 1, 'file_path': '/home/jianyang/local-llm/topic-modelling/documents/Alibaba.pdf'}),\n",
       " Document(page_content=\"Metadata:\\nPortable      Lessons      for      American      Companies  >\\nContent:\\n \\n \\n  [00      :45      :55]   \\n \\n1      think      the      book      to      read      is,      Alibaba,      The      House      That      Jack      Ma      Built.\\nIt\\\\\\\\\\\\'s      reasonably      accurate  \\n \\n.      Duncan      Clark,      who  \\n \\n  wrote      it,      did   \\n \\na      good      job      of      it.\\nAnd      if      you      wanted      an      easy      read      about      the      history      of      Alibaba      and      what      this      legendary      entrepreneur  \\n \\n  did,      because      this      guy      is      legendary     .He      doesn\\\\\\\\\\\\'t      deserve      to      have      built      Alibaba   \\n \\n,      but      he      did.\\nItis      an      astonishing      story      of      grit      and  \\n \\n  persistence      ,and      just      being      at      it      for      along      time.\", metadata={'bbox': '', 'page_idx': 9, 'level': 1, 'file_path': '/home/jianyang/local-llm/topic-modelling/documents/Alibaba.pdf'}),\n",
       " Document(page_content=\"Metadata:\\nPortable      Lessons      for      American      Companies  >\\nContent:\\nClaire:      [00:46:18]      Ram,      you\\\\\\\\\\\\'ve      been      amazing  \\n \\n.      This      has      been      so      much      fun      to      dig      into,      and      we\\\\\\\\\\\\'ve      touched      so      many      different  \\n \\n  pieces      of      Alibaba      and      the      business  \\n \\n.      Hey,      look   \\n \\n,      we\\\\\\\\\\\\'ve      only      scratched      the      surface     .\", metadata={'bbox': '', 'page_idx': 9, 'level': 1, 'file_path': '/home/jianyang/local-llm/topic-modelling/documents/Alibaba.pdf'}),\n",
       " Document(page_content=\"Metadata:\\nPortable      Lessons      for      American      Companies  >\\nContent:\\nPatrick   \\n \\n:      [00:46      :27]      That\\\\\\\\\\\\'s      the      idea.\\nPique      the      interest     .\", metadata={'bbox': '', 'page_idx': 9, 'level': 1, 'file_path': '/home/jianyang/local-llm/topic-modelling/documents/Alibaba.pdf'}),\n",
       " Document(page_content='Metadata:\\nPortable      Lessons      for      American      Companies  >\\nContent:\\nClaire:      [00:46      :30]      Pique      the      interest  \\n \\n.      Thank      you      so      much      for      your      time.\\nThis      was      such   \\n \\na      blast  \\n \\n.      Really      appreciate      it,      Ram.', metadata={'bbox': '', 'page_idx': 9, 'level': 1, 'file_path': '/home/jianyang/local-llm/topic-modelling/documents/Alibaba.pdf'}),\n",
       " Document(page_content=\"Metadata:\\nPortable      Lessons      for      American      Companies  >\\nContent:\\n \\n \\n  Patrick   \\n \\n:      [00:46:36]      Thanks   \\n \\n,      Ram.\\nThank      you      for      joining      us      for      this      breakdown      of      Alibaba      with      Ram      Parameswaran  \\n \\n.      Ram      has  \\n \\n  me      thinking      about      what      American      companies      can      learn      from      Chinese      companies  \\n \\n.      What      strikes      me      most      from      our  \\n \\n  conversation      is      how      underdeveloped      and      boring      our      e-commerce      is      compared      to      what      Chinese      companies      are      doing.\\nOur  \\n \\n  massive      social      media      companies      like      Facebook   \\n \\n,      Twitter,      Instagram   \\n \\n,      Snapchat   \\n \\n,      Reddit   \\n \\n,      and      so      on,      are      only      scratching      the  \\n \\n  surface      of      pushing      commerce      onto      their      websites      and      making      them      fun.\\nRam\\\\\\\\\\\\'sconcept      of      the      virtual      experiential      shopping  \\n \\n  mall      is      something      that      many      American      companies      should      be      studying      from      China.\", metadata={'bbox': '', 'page_idx': 9, 'level': 1, 'file_path': '/home/jianyang/local-llm/topic-modelling/documents/Alibaba.pdf'}),\n",
       " Document(page_content='Metadata:\\nContent:\\nCreated      by      @ekmokaya', metadata={'bbox': '', 'page_idx': 9, 'level': 0, 'file_path': '/home/jianyang/local-llm/topic-modelling/documents/Alibaba.pdf'})]"
      ]
     },
     "execution_count": 90,
     "metadata": {},
     "output_type": "execute_result"
    }
   ],
   "source": [
    "docs"
   ]
  },
  {
   "cell_type": "code",
   "execution_count": 111,
   "metadata": {},
   "outputs": [
    {
     "name": "stdout",
     "output_type": "stream",
     "text": [
      "{'Topic': [-1, 0, 1, 2, 3, 4, 5], 'Count': [2, 94, 48, 15, 15, 9, 6], 'Name': dict_values(['Annual Report', 'Amazon Sales', 'E-commerce platforms', 'Amazon March Dilution', 'Lease Repayments', 'Financial Reports', 'AWS March']), 'Top4Words': [['report', 'references', 'annual', '2020'], ['income', 'amazon', 'aws', 'sales'], ['alibaba', 'commerce', 'business', 'companies'], ['amazon', 'march', 'diluted', '2023'], ['financing', 'repayments', 'leases', 'finance'], ['stockholders', 'liabilities', 'equity', 'earnings'], ['aws', '2023', 'months', 'march']]}\n",
      "[('[TOPIC]\\nAnnual Report', {'size': 6, 'color': '#ccab1b'}), ('[TOPIC]\\nAmazon Sales', {'size': 94, 'color': '#ccab1b'}), ('[TOPIC]\\nE-commerce platforms', {'size': 48, 'color': '#ccab1b'}), ('[TOPIC]\\nAmazon March Dilution', {'size': 15, 'color': '#ccab1b'}), ('[TOPIC]\\nLease Repayments', {'size': 15, 'color': '#ccab1b'}), ('[TOPIC]\\nFinancial Reports', {'size': 9, 'color': '#ccab1b'}), ('[TOPIC]\\nAWS March', {'size': 6, 'color': '#ccab1b'})]\n",
      "[(\"[REP_WORDS]\\n['report', 'references', 'annual', '2020']\", {'size': 8, 'color': '#3b0afc'}), (\"[REP_WORDS]\\n['income', 'amazon', 'aws', 'sales']\", {'size': 8, 'color': '#3b0afc'}), (\"[REP_WORDS]\\n['alibaba', 'commerce', 'business', 'companies']\", {'size': 8, 'color': '#3b0afc'}), (\"[REP_WORDS]\\n['amazon', 'march', 'diluted', '2023']\", {'size': 8, 'color': '#3b0afc'}), (\"[REP_WORDS]\\n['financing', 'repayments', 'leases', 'finance']\", {'size': 8, 'color': '#3b0afc'}), (\"[REP_WORDS]\\n['stockholders', 'liabilities', 'equity', 'earnings']\", {'size': 8, 'color': '#3b0afc'}), (\"[REP_WORDS]\\n['aws', '2023', 'months', 'march']\", {'size': 8, 'color': '#3b0afc'})]\n"
     ]
    }
   ],
   "source": [
    "import networkx as nx\n",
    "import json\n",
    "import pandas as pd\n",
    "\n",
    "# Extracting data from the topic model and storing it in a dictionary\n",
    "topic_info = topic_model.get_topic_info()\n",
    "data = {\n",
    "    'Topic': list(topic_info['Topic']),\n",
    "    'Count': list(topic_info['Count']),\n",
    "    'Name': topic_name.values(),\n",
    "    'Top4Words': [rep[:4] for rep in topic_info['Representation']]\n",
    "}\n",
    "\n",
    "# Printing the data for verification\n",
    "print(data)\n",
    "\n",
    "# Creating a DataFrame from the data\n",
    "df = pd.DataFrame(data)\n",
    "\n",
    "# Creating a graph using NetworkX\n",
    "G = nx.Graph()\n",
    "\n",
    "### NODES\n",
    "## Topic nodes\n",
    "# Creating a list of nodes with their attributes\n",
    "topic_node_data = [\n",
    "    (f\"[TOPIC]\\n{row['Name']}\", {\n",
    "        'size': max(row['Count'], 6),\n",
    "        'color': \"#ccab1b\"\n",
    "    }) for row in df.to_dict('records')\n",
    "]\n",
    "\n",
    "\n",
    "# Printing the node data for verification\n",
    "print(topic_node_data)\n",
    "\n",
    "## Representation nodes\n",
    "rep_node_data = []\n",
    "for i in range(len(df)):\n",
    "    rep_node_data.append((f\"[REP_WORDS]\\n{df['Top4Words'][i]}\", {\n",
    "        'size': 8,\n",
    "        'color': \"#3b0afc\",\n",
    "    }))\n",
    "\n",
    "print(rep_node_data)\n",
    "\n",
    "## Document nodes\n",
    "doc_path = [doc.metadata['file_path'].split(\"/\")[-1] for doc in docs]\n",
    "set_doc_path = set(doc_path)\n",
    "doc_node_data = []\n",
    "for doc in set_doc_path:\n",
    "    doc_node_data.append((f\"[DOC]\\n{doc}\", {\n",
    "        'size': 2/3 * max(df['Count']),\n",
    "        'color': \"#ed4ae2\"\n",
    "    }))\n",
    "\n",
    "# Collate all nodes\n",
    "node_data = []\n",
    "node_data.extend(topic_node_data)\n",
    "node_data.extend(rep_node_data)\n",
    "node_data.extend(doc_node_data)\n",
    "\n",
    "# Adding nodes to the graph\n",
    "G.add_nodes_from(node_data)\n",
    "\n",
    "\n",
    "### EDGES\n",
    "## Document to Topics\n",
    "for doc_path in set_doc_path:\n",
    "    # Each main doc has multiple topics associated with it\n",
    "    # Find all topics associated with the doc\n",
    "    chunks = [doc for doc in docs if doc.metadata['file_path'].split('/')[-1] == doc_path]\n",
    "    topics = [topic_model.get_document_info(docs_str)['Topic'][docs.index(chunk)] for chunk in chunks]\n",
    "    set_topics = set(topics)\n",
    "    for topic in set_topics:\n",
    "        G.add_edge(f\"[DOC]\\n{doc_path}\", f\"[TOPIC]\\n{topic_name[topic]}\", label=\"HAS_TOPIC\", weight=2)\n",
    "\n",
    "## Topics to Representation\n",
    "for i in range(len(df)):\n",
    "    G.add_edge(f\"[TOPIC]\\n{df['Name'][i]}\", f\"[REP_WORDS]\\n{df['Top4Words'][i]}\", label=\"HAS_WORDS\", weight=2)\n",
    "\n",
    "# Converting the graph to JSON format\n",
    "graph_data = nx.node_link_data(G)\n",
    "\n",
    "# Saving the graph data to a JSON file\n",
    "with open(\"graph.json\", \"w\") as f:\n",
    "    json.dump(graph_data, f)\n"
   ]
  },
  {
   "cell_type": "code",
   "execution_count": 133,
   "metadata": {},
   "outputs": [
    {
     "name": "stdout",
     "output_type": "stream",
     "text": [
      "Annual Report\n",
      "{0, 2, 3, 4, 5, -1}\n",
      "Amazon Sales\n",
      "{0, 2, 3, 4, 5, -1}\n",
      "E-commerce platforms\n",
      "{0, 2, 3, 4, 5, -1}\n",
      "Amazon March Dilution\n",
      "{0, 2, 3, 4, 5, -1}\n",
      "Lease Repayments\n",
      "{0, 2, 3, 4, 5, -1}\n",
      "Financial Reports\n",
      "{0, 2, 3, 4, 5, -1}\n",
      "AWS March\n",
      "{0, 2, 3, 4, 5, -1}\n"
     ]
    }
   ],
   "source": [
    "    # Generate topic name\n",
    "    unique_topics = set(topics)\n",
    "    topic_name = {}\n",
    "    for i in range(len(topic_model.get_topic_info())):\n",
    "        rep_words = topic_model.get_topic_info()[\"Representation\"][i]\n",
    "        gen_llm_topic_name = llm.invoke(f\"Generate a 2 to 3 word TOPIC NAME from the words it's represented by: ({rep_words[:4]}). IMPORTANT: EXCLUDE ANY PREAMBLE OR EXPLANATION.\")\n",
    "        print(gen_llm_topic_name)\n",
    "        print(unique_topics)\n",
    "        topic_name[i+min(unique_topics)] = gen_llm_topic_name\n",
    "\n",
    "    topic_model.set_topic_labels(topic_name)"
   ]
  },
  {
   "cell_type": "code",
   "execution_count": 196,
   "metadata": {},
   "outputs": [],
   "source": [
    "df_copy = topic_model.get_topic_info()[[\"Topic\", \"CustomName\", \"Representation\", \"Count\", \"Representative_Docs\"]].copy(deep=True)"
   ]
  },
  {
   "cell_type": "code",
   "execution_count": 197,
   "metadata": {},
   "outputs": [
    {
     "data": {
      "text/html": [
       "<div>\n",
       "<style scoped>\n",
       "    .dataframe tbody tr th:only-of-type {\n",
       "        vertical-align: middle;\n",
       "    }\n",
       "\n",
       "    .dataframe tbody tr th {\n",
       "        vertical-align: top;\n",
       "    }\n",
       "\n",
       "    .dataframe thead th {\n",
       "        text-align: right;\n",
       "    }\n",
       "</style>\n",
       "<table border=\"1\" class=\"dataframe\">\n",
       "  <thead>\n",
       "    <tr style=\"text-align: right;\">\n",
       "      <th></th>\n",
       "      <th>Topic</th>\n",
       "      <th>CustomName</th>\n",
       "      <th>Representation</th>\n",
       "      <th>Count</th>\n",
       "      <th>Representative_Docs</th>\n",
       "    </tr>\n",
       "  </thead>\n",
       "  <tbody>\n",
       "    <tr>\n",
       "      <th>0</th>\n",
       "      <td>-1</td>\n",
       "      <td>Annual Report</td>\n",
       "      <td>[report, references, annual, 2020, seller, sel...</td>\n",
       "      <td>2</td>\n",
       "      <td>[: : Source : 2020 Annual Report, : Y/Y % &gt; Ce...</td>\n",
       "    </tr>\n",
       "    <tr>\n",
       "      <th>1</th>\n",
       "      <td>0</td>\n",
       "      <td>Amazon Sales</td>\n",
       "      <td>[income, amazon, aws, sales, billion, quarter,...</td>\n",
       "      <td>94</td>\n",
       "      <td>[: AMAZON.COM ANNOUNCES FIRST QUARTER RESULTS ...</td>\n",
       "    </tr>\n",
       "    <tr>\n",
       "      <th>2</th>\n",
       "      <td>1</td>\n",
       "      <td>E-commerce platforms</td>\n",
       "      <td>[alibaba, commerce, business, companies, merch...</td>\n",
       "      <td>48</td>\n",
       "      <td>[: Massive Scale Alibaba &gt; : [ 00 :07 :21 ] Ye...</td>\n",
       "    </tr>\n",
       "    <tr>\n",
       "      <th>3</th>\n",
       "      <td>2</td>\n",
       "      <td>Amazon March Dilution</td>\n",
       "      <td>[amazon, march, diluted, 2023, quarter, 2024, ...</td>\n",
       "      <td>15</td>\n",
       "      <td>[: AMAZON.COM ANNOUNCES FIRST QUARTER RESULTS ...</td>\n",
       "    </tr>\n",
       "    <tr>\n",
       "      <th>4</th>\n",
       "      <td>3</td>\n",
       "      <td>Lease Repayments</td>\n",
       "      <td>[financing, repayments, leases, finance, incom...</td>\n",
       "      <td>15</td>\n",
       "      <td>[: Y/Y % &gt; : ( 4 ) Free cash flow less princip...</td>\n",
       "    </tr>\n",
       "    <tr>\n",
       "      <th>5</th>\n",
       "      <td>4</td>\n",
       "      <td>Financial Reports</td>\n",
       "      <td>[stockholders, liabilities, equity, earnings, ...</td>\n",
       "      <td>9</td>\n",
       "      <td>[: LIABILITIES STOCKHOLDERS ’ EQUITY &gt; : Accou...</td>\n",
       "    </tr>\n",
       "    <tr>\n",
       "      <th>6</th>\n",
       "      <td>5</td>\n",
       "      <td>AWS March</td>\n",
       "      <td>[aws, 2023, months, march, 032, 2024, 037, 247...</td>\n",
       "      <td>6</td>\n",
       "      <td>[: AWS &gt; Three Months Ended March 31 , 2023 20...</td>\n",
       "    </tr>\n",
       "  </tbody>\n",
       "</table>\n",
       "</div>"
      ],
      "text/plain": [
       "   Topic             CustomName  \\\n",
       "0     -1          Annual Report   \n",
       "1      0           Amazon Sales   \n",
       "2      1   E-commerce platforms   \n",
       "3      2  Amazon March Dilution   \n",
       "4      3       Lease Repayments   \n",
       "5      4      Financial Reports   \n",
       "6      5              AWS March   \n",
       "\n",
       "                                      Representation  Count  \\\n",
       "0  [report, references, annual, 2020, seller, sel...      2   \n",
       "1  [income, amazon, aws, sales, billion, quarter,...     94   \n",
       "2  [alibaba, commerce, business, companies, merch...     48   \n",
       "3  [amazon, march, diluted, 2023, quarter, 2024, ...     15   \n",
       "4  [financing, repayments, leases, finance, incom...     15   \n",
       "5  [stockholders, liabilities, equity, earnings, ...      9   \n",
       "6  [aws, 2023, months, march, 032, 2024, 037, 247...      6   \n",
       "\n",
       "                                 Representative_Docs  \n",
       "0  [: : Source : 2020 Annual Report, : Y/Y % > Ce...  \n",
       "1  [: AMAZON.COM ANNOUNCES FIRST QUARTER RESULTS ...  \n",
       "2  [: Massive Scale Alibaba > : [ 00 :07 :21 ] Ye...  \n",
       "3  [: AMAZON.COM ANNOUNCES FIRST QUARTER RESULTS ...  \n",
       "4  [: Y/Y % > : ( 4 ) Free cash flow less princip...  \n",
       "5  [: LIABILITIES STOCKHOLDERS ’ EQUITY > : Accou...  \n",
       "6  [: AWS > Three Months Ended March 31 , 2023 20...  "
      ]
     },
     "execution_count": 197,
     "metadata": {},
     "output_type": "execute_result"
    }
   ],
   "source": [
    "df_copy"
   ]
  },
  {
   "cell_type": "code",
   "execution_count": 198,
   "metadata": {},
   "outputs": [
    {
     "name": "stdout",
     "output_type": "stream",
     "text": [
      "{0, 1, -1}\n",
      "{0, 2, 3, 4, 5, -1}\n"
     ]
    }
   ],
   "source": [
    "# Find a mapping from each topic to the Documents in the topic\n",
    "topic_to_docs = {}\n",
    "doc_path = [doc.metadata['file_path'].split(\"/\")[-1] for doc in docs]\n",
    "set_doc_path = set(doc_path)\n",
    "for path in set_doc_path:\n",
    "    # Each main doc has multiple topics associated with it\n",
    "    # Find all topics associated with the doc\n",
    "    chunks = [doc for doc in docs if doc.metadata['file_path'].split('/')[-1] == path]\n",
    "    topics = [topic_model.get_document_info(docs_str)['Topic'][docs.index(chunk)] for chunk in chunks]\n",
    "    set_topics = set(topics)\n",
    "    print(set_topics)\n",
    "    for topic in set_topics:\n",
    "        if topic not in topic_to_docs:\n",
    "            topic_to_docs[topic] = []\n",
    "        topic_to_docs[topic].append(path)\n"
   ]
  },
  {
   "cell_type": "code",
   "execution_count": 199,
   "metadata": {},
   "outputs": [],
   "source": [
    "# Format each value such that it's a string\n",
    "for topic in topic_to_docs:\n",
    "    topic_to_docs[topic] = \", \".join(topic_to_docs[topic])\n",
    "\n",
    "# Format Representation\n",
    "df_copy[\"Representation\"] = df_copy[\"Representation\"].apply(lambda x: \", \".join(x))"
   ]
  },
  {
   "cell_type": "code",
   "execution_count": 200,
   "metadata": {},
   "outputs": [
    {
     "data": {
      "text/plain": [
       "{0: 'Alibaba.pdf, amazon_report.pdf',\n",
       " 1: 'Alibaba.pdf',\n",
       " -1: 'Alibaba.pdf, amazon_report.pdf',\n",
       " 2: 'amazon_report.pdf',\n",
       " 3: 'amazon_report.pdf',\n",
       " 4: 'amazon_report.pdf',\n",
       " 5: 'amazon_report.pdf'}"
      ]
     },
     "execution_count": 200,
     "metadata": {},
     "output_type": "execute_result"
    }
   ],
   "source": [
    "topic_to_docs"
   ]
  },
  {
   "cell_type": "code",
   "execution_count": 201,
   "metadata": {},
   "outputs": [
    {
     "data": {
      "text/html": [
       "<div>\n",
       "<style scoped>\n",
       "    .dataframe tbody tr th:only-of-type {\n",
       "        vertical-align: middle;\n",
       "    }\n",
       "\n",
       "    .dataframe tbody tr th {\n",
       "        vertical-align: top;\n",
       "    }\n",
       "\n",
       "    .dataframe thead th {\n",
       "        text-align: right;\n",
       "    }\n",
       "</style>\n",
       "<table border=\"1\" class=\"dataframe\">\n",
       "  <thead>\n",
       "    <tr style=\"text-align: right;\">\n",
       "      <th></th>\n",
       "      <th>Topic</th>\n",
       "      <th>CustomName</th>\n",
       "      <th>Representation</th>\n",
       "      <th>Count</th>\n",
       "      <th>Representative_Docs</th>\n",
       "    </tr>\n",
       "  </thead>\n",
       "  <tbody>\n",
       "    <tr>\n",
       "      <th>0</th>\n",
       "      <td>-1</td>\n",
       "      <td>Annual Report</td>\n",
       "      <td>report, references, annual, 2020, seller, sell...</td>\n",
       "      <td>2</td>\n",
       "      <td>[: : Source : 2020 Annual Report, : Y/Y % &gt; Ce...</td>\n",
       "    </tr>\n",
       "    <tr>\n",
       "      <th>1</th>\n",
       "      <td>0</td>\n",
       "      <td>Amazon Sales</td>\n",
       "      <td>income, amazon, aws, sales, billion, quarter, ...</td>\n",
       "      <td>94</td>\n",
       "      <td>[: AMAZON.COM ANNOUNCES FIRST QUARTER RESULTS ...</td>\n",
       "    </tr>\n",
       "    <tr>\n",
       "      <th>2</th>\n",
       "      <td>1</td>\n",
       "      <td>E-commerce platforms</td>\n",
       "      <td>alibaba, commerce, business, companies, mercha...</td>\n",
       "      <td>48</td>\n",
       "      <td>[: Massive Scale Alibaba &gt; : [ 00 :07 :21 ] Ye...</td>\n",
       "    </tr>\n",
       "    <tr>\n",
       "      <th>3</th>\n",
       "      <td>2</td>\n",
       "      <td>Amazon March Dilution</td>\n",
       "      <td>amazon, march, diluted, 2023, quarter, 2024, a...</td>\n",
       "      <td>15</td>\n",
       "      <td>[: AMAZON.COM ANNOUNCES FIRST QUARTER RESULTS ...</td>\n",
       "    </tr>\n",
       "    <tr>\n",
       "      <th>4</th>\n",
       "      <td>3</td>\n",
       "      <td>Lease Repayments</td>\n",
       "      <td>financing, repayments, leases, finance, income...</td>\n",
       "      <td>15</td>\n",
       "      <td>[: Y/Y % &gt; : ( 4 ) Free cash flow less princip...</td>\n",
       "    </tr>\n",
       "    <tr>\n",
       "      <th>5</th>\n",
       "      <td>4</td>\n",
       "      <td>Financial Reports</td>\n",
       "      <td>stockholders, liabilities, equity, earnings, s...</td>\n",
       "      <td>9</td>\n",
       "      <td>[: LIABILITIES STOCKHOLDERS ’ EQUITY &gt; : Accou...</td>\n",
       "    </tr>\n",
       "    <tr>\n",
       "      <th>6</th>\n",
       "      <td>5</td>\n",
       "      <td>AWS March</td>\n",
       "      <td>aws, 2023, months, march, 032, 2024, 037, 247,...</td>\n",
       "      <td>6</td>\n",
       "      <td>[: AWS &gt; Three Months Ended March 31 , 2023 20...</td>\n",
       "    </tr>\n",
       "  </tbody>\n",
       "</table>\n",
       "</div>"
      ],
      "text/plain": [
       "   Topic             CustomName  \\\n",
       "0     -1          Annual Report   \n",
       "1      0           Amazon Sales   \n",
       "2      1   E-commerce platforms   \n",
       "3      2  Amazon March Dilution   \n",
       "4      3       Lease Repayments   \n",
       "5      4      Financial Reports   \n",
       "6      5              AWS March   \n",
       "\n",
       "                                      Representation  Count  \\\n",
       "0  report, references, annual, 2020, seller, sell...      2   \n",
       "1  income, amazon, aws, sales, billion, quarter, ...     94   \n",
       "2  alibaba, commerce, business, companies, mercha...     48   \n",
       "3  amazon, march, diluted, 2023, quarter, 2024, a...     15   \n",
       "4  financing, repayments, leases, finance, income...     15   \n",
       "5  stockholders, liabilities, equity, earnings, s...      9   \n",
       "6  aws, 2023, months, march, 032, 2024, 037, 247,...      6   \n",
       "\n",
       "                                 Representative_Docs  \n",
       "0  [: : Source : 2020 Annual Report, : Y/Y % > Ce...  \n",
       "1  [: AMAZON.COM ANNOUNCES FIRST QUARTER RESULTS ...  \n",
       "2  [: Massive Scale Alibaba > : [ 00 :07 :21 ] Ye...  \n",
       "3  [: AMAZON.COM ANNOUNCES FIRST QUARTER RESULTS ...  \n",
       "4  [: Y/Y % > : ( 4 ) Free cash flow less princip...  \n",
       "5  [: LIABILITIES STOCKHOLDERS ’ EQUITY > : Accou...  \n",
       "6  [: AWS > Three Months Ended March 31 , 2023 20...  "
      ]
     },
     "execution_count": 201,
     "metadata": {},
     "output_type": "execute_result"
    }
   ],
   "source": [
    "df_copy"
   ]
  },
  {
   "cell_type": "code",
   "execution_count": 202,
   "metadata": {},
   "outputs": [],
   "source": [
    "# Add to df\n",
    "df_copy[\"Documents\"] = df_copy[\"Topic\"].map(topic_to_docs)"
   ]
  },
  {
   "cell_type": "code",
   "execution_count": 203,
   "metadata": {},
   "outputs": [
    {
     "data": {
      "text/html": [
       "<div>\n",
       "<style scoped>\n",
       "    .dataframe tbody tr th:only-of-type {\n",
       "        vertical-align: middle;\n",
       "    }\n",
       "\n",
       "    .dataframe tbody tr th {\n",
       "        vertical-align: top;\n",
       "    }\n",
       "\n",
       "    .dataframe thead th {\n",
       "        text-align: right;\n",
       "    }\n",
       "</style>\n",
       "<table border=\"1\" class=\"dataframe\">\n",
       "  <thead>\n",
       "    <tr style=\"text-align: right;\">\n",
       "      <th></th>\n",
       "      <th>Topic</th>\n",
       "      <th>CustomName</th>\n",
       "      <th>Representation</th>\n",
       "      <th>Count</th>\n",
       "      <th>Representative_Docs</th>\n",
       "      <th>Documents</th>\n",
       "    </tr>\n",
       "  </thead>\n",
       "  <tbody>\n",
       "    <tr>\n",
       "      <th>0</th>\n",
       "      <td>-1</td>\n",
       "      <td>Annual Report</td>\n",
       "      <td>report, references, annual, 2020, seller, sell...</td>\n",
       "      <td>2</td>\n",
       "      <td>[: : Source : 2020 Annual Report, : Y/Y % &gt; Ce...</td>\n",
       "      <td>Alibaba.pdf, amazon_report.pdf</td>\n",
       "    </tr>\n",
       "    <tr>\n",
       "      <th>1</th>\n",
       "      <td>0</td>\n",
       "      <td>Amazon Sales</td>\n",
       "      <td>income, amazon, aws, sales, billion, quarter, ...</td>\n",
       "      <td>94</td>\n",
       "      <td>[: AMAZON.COM ANNOUNCES FIRST QUARTER RESULTS ...</td>\n",
       "      <td>Alibaba.pdf, amazon_report.pdf</td>\n",
       "    </tr>\n",
       "    <tr>\n",
       "      <th>2</th>\n",
       "      <td>1</td>\n",
       "      <td>E-commerce platforms</td>\n",
       "      <td>alibaba, commerce, business, companies, mercha...</td>\n",
       "      <td>48</td>\n",
       "      <td>[: Massive Scale Alibaba &gt; : [ 00 :07 :21 ] Ye...</td>\n",
       "      <td>Alibaba.pdf</td>\n",
       "    </tr>\n",
       "    <tr>\n",
       "      <th>3</th>\n",
       "      <td>2</td>\n",
       "      <td>Amazon March Dilution</td>\n",
       "      <td>amazon, march, diluted, 2023, quarter, 2024, a...</td>\n",
       "      <td>15</td>\n",
       "      <td>[: AMAZON.COM ANNOUNCES FIRST QUARTER RESULTS ...</td>\n",
       "      <td>amazon_report.pdf</td>\n",
       "    </tr>\n",
       "    <tr>\n",
       "      <th>4</th>\n",
       "      <td>3</td>\n",
       "      <td>Lease Repayments</td>\n",
       "      <td>financing, repayments, leases, finance, income...</td>\n",
       "      <td>15</td>\n",
       "      <td>[: Y/Y % &gt; : ( 4 ) Free cash flow less princip...</td>\n",
       "      <td>amazon_report.pdf</td>\n",
       "    </tr>\n",
       "    <tr>\n",
       "      <th>5</th>\n",
       "      <td>4</td>\n",
       "      <td>Financial Reports</td>\n",
       "      <td>stockholders, liabilities, equity, earnings, s...</td>\n",
       "      <td>9</td>\n",
       "      <td>[: LIABILITIES STOCKHOLDERS ’ EQUITY &gt; : Accou...</td>\n",
       "      <td>amazon_report.pdf</td>\n",
       "    </tr>\n",
       "    <tr>\n",
       "      <th>6</th>\n",
       "      <td>5</td>\n",
       "      <td>AWS March</td>\n",
       "      <td>aws, 2023, months, march, 032, 2024, 037, 247,...</td>\n",
       "      <td>6</td>\n",
       "      <td>[: AWS &gt; Three Months Ended March 31 , 2023 20...</td>\n",
       "      <td>amazon_report.pdf</td>\n",
       "    </tr>\n",
       "  </tbody>\n",
       "</table>\n",
       "</div>"
      ],
      "text/plain": [
       "   Topic             CustomName  \\\n",
       "0     -1          Annual Report   \n",
       "1      0           Amazon Sales   \n",
       "2      1   E-commerce platforms   \n",
       "3      2  Amazon March Dilution   \n",
       "4      3       Lease Repayments   \n",
       "5      4      Financial Reports   \n",
       "6      5              AWS March   \n",
       "\n",
       "                                      Representation  Count  \\\n",
       "0  report, references, annual, 2020, seller, sell...      2   \n",
       "1  income, amazon, aws, sales, billion, quarter, ...     94   \n",
       "2  alibaba, commerce, business, companies, mercha...     48   \n",
       "3  amazon, march, diluted, 2023, quarter, 2024, a...     15   \n",
       "4  financing, repayments, leases, finance, income...     15   \n",
       "5  stockholders, liabilities, equity, earnings, s...      9   \n",
       "6  aws, 2023, months, march, 032, 2024, 037, 247,...      6   \n",
       "\n",
       "                                 Representative_Docs  \\\n",
       "0  [: : Source : 2020 Annual Report, : Y/Y % > Ce...   \n",
       "1  [: AMAZON.COM ANNOUNCES FIRST QUARTER RESULTS ...   \n",
       "2  [: Massive Scale Alibaba > : [ 00 :07 :21 ] Ye...   \n",
       "3  [: AMAZON.COM ANNOUNCES FIRST QUARTER RESULTS ...   \n",
       "4  [: Y/Y % > : ( 4 ) Free cash flow less princip...   \n",
       "5  [: LIABILITIES STOCKHOLDERS ’ EQUITY > : Accou...   \n",
       "6  [: AWS > Three Months Ended March 31 , 2023 20...   \n",
       "\n",
       "                        Documents  \n",
       "0  Alibaba.pdf, amazon_report.pdf  \n",
       "1  Alibaba.pdf, amazon_report.pdf  \n",
       "2                     Alibaba.pdf  \n",
       "3               amazon_report.pdf  \n",
       "4               amazon_report.pdf  \n",
       "5               amazon_report.pdf  \n",
       "6               amazon_report.pdf  "
      ]
     },
     "execution_count": 203,
     "metadata": {},
     "output_type": "execute_result"
    }
   ],
   "source": [
    "df_copy"
   ]
  },
  {
   "cell_type": "code",
   "execution_count": 204,
   "metadata": {},
   "outputs": [],
   "source": [
    "# rename column CustomName to Name\n",
    "df_copy.rename(columns={\"Topic\": \"Topic ID\", \"CustomName\": \"Topic\", \"Representation\": \"Key Words in Topic\", \"Count\": \"No. of Docs\", \"Representative_Docs\": \"Key Chunks in Topic\"}, inplace=True)"
   ]
  },
  {
   "cell_type": "code",
   "execution_count": 205,
   "metadata": {},
   "outputs": [
    {
     "data": {
      "text/html": [
       "<div>\n",
       "<style scoped>\n",
       "    .dataframe tbody tr th:only-of-type {\n",
       "        vertical-align: middle;\n",
       "    }\n",
       "\n",
       "    .dataframe tbody tr th {\n",
       "        vertical-align: top;\n",
       "    }\n",
       "\n",
       "    .dataframe thead th {\n",
       "        text-align: right;\n",
       "    }\n",
       "</style>\n",
       "<table border=\"1\" class=\"dataframe\">\n",
       "  <thead>\n",
       "    <tr style=\"text-align: right;\">\n",
       "      <th></th>\n",
       "      <th>Topic ID</th>\n",
       "      <th>Topic</th>\n",
       "      <th>Key Words in Topic</th>\n",
       "      <th>No. of Docs</th>\n",
       "      <th>Key Chunks in Topic</th>\n",
       "      <th>Documents</th>\n",
       "    </tr>\n",
       "  </thead>\n",
       "  <tbody>\n",
       "    <tr>\n",
       "      <th>0</th>\n",
       "      <td>-1</td>\n",
       "      <td>Annual Report</td>\n",
       "      <td>report, references, annual, 2020, seller, sell...</td>\n",
       "      <td>2</td>\n",
       "      <td>[: : Source : 2020 Annual Report, : Y/Y % &gt; Ce...</td>\n",
       "      <td>Alibaba.pdf, amazon_report.pdf</td>\n",
       "    </tr>\n",
       "    <tr>\n",
       "      <th>1</th>\n",
       "      <td>0</td>\n",
       "      <td>Amazon Sales</td>\n",
       "      <td>income, amazon, aws, sales, billion, quarter, ...</td>\n",
       "      <td>94</td>\n",
       "      <td>[: AMAZON.COM ANNOUNCES FIRST QUARTER RESULTS ...</td>\n",
       "      <td>Alibaba.pdf, amazon_report.pdf</td>\n",
       "    </tr>\n",
       "    <tr>\n",
       "      <th>2</th>\n",
       "      <td>1</td>\n",
       "      <td>E-commerce platforms</td>\n",
       "      <td>alibaba, commerce, business, companies, mercha...</td>\n",
       "      <td>48</td>\n",
       "      <td>[: Massive Scale Alibaba &gt; : [ 00 :07 :21 ] Ye...</td>\n",
       "      <td>Alibaba.pdf</td>\n",
       "    </tr>\n",
       "    <tr>\n",
       "      <th>3</th>\n",
       "      <td>2</td>\n",
       "      <td>Amazon March Dilution</td>\n",
       "      <td>amazon, march, diluted, 2023, quarter, 2024, a...</td>\n",
       "      <td>15</td>\n",
       "      <td>[: AMAZON.COM ANNOUNCES FIRST QUARTER RESULTS ...</td>\n",
       "      <td>amazon_report.pdf</td>\n",
       "    </tr>\n",
       "    <tr>\n",
       "      <th>4</th>\n",
       "      <td>3</td>\n",
       "      <td>Lease Repayments</td>\n",
       "      <td>financing, repayments, leases, finance, income...</td>\n",
       "      <td>15</td>\n",
       "      <td>[: Y/Y % &gt; : ( 4 ) Free cash flow less princip...</td>\n",
       "      <td>amazon_report.pdf</td>\n",
       "    </tr>\n",
       "    <tr>\n",
       "      <th>5</th>\n",
       "      <td>4</td>\n",
       "      <td>Financial Reports</td>\n",
       "      <td>stockholders, liabilities, equity, earnings, s...</td>\n",
       "      <td>9</td>\n",
       "      <td>[: LIABILITIES STOCKHOLDERS ’ EQUITY &gt; : Accou...</td>\n",
       "      <td>amazon_report.pdf</td>\n",
       "    </tr>\n",
       "    <tr>\n",
       "      <th>6</th>\n",
       "      <td>5</td>\n",
       "      <td>AWS March</td>\n",
       "      <td>aws, 2023, months, march, 032, 2024, 037, 247,...</td>\n",
       "      <td>6</td>\n",
       "      <td>[: AWS &gt; Three Months Ended March 31 , 2023 20...</td>\n",
       "      <td>amazon_report.pdf</td>\n",
       "    </tr>\n",
       "  </tbody>\n",
       "</table>\n",
       "</div>"
      ],
      "text/plain": [
       "   Topic ID                  Topic  \\\n",
       "0        -1          Annual Report   \n",
       "1         0           Amazon Sales   \n",
       "2         1   E-commerce platforms   \n",
       "3         2  Amazon March Dilution   \n",
       "4         3       Lease Repayments   \n",
       "5         4      Financial Reports   \n",
       "6         5              AWS March   \n",
       "\n",
       "                                  Key Words in Topic  No. of Docs  \\\n",
       "0  report, references, annual, 2020, seller, sell...            2   \n",
       "1  income, amazon, aws, sales, billion, quarter, ...           94   \n",
       "2  alibaba, commerce, business, companies, mercha...           48   \n",
       "3  amazon, march, diluted, 2023, quarter, 2024, a...           15   \n",
       "4  financing, repayments, leases, finance, income...           15   \n",
       "5  stockholders, liabilities, equity, earnings, s...            9   \n",
       "6  aws, 2023, months, march, 032, 2024, 037, 247,...            6   \n",
       "\n",
       "                                 Key Chunks in Topic  \\\n",
       "0  [: : Source : 2020 Annual Report, : Y/Y % > Ce...   \n",
       "1  [: AMAZON.COM ANNOUNCES FIRST QUARTER RESULTS ...   \n",
       "2  [: Massive Scale Alibaba > : [ 00 :07 :21 ] Ye...   \n",
       "3  [: AMAZON.COM ANNOUNCES FIRST QUARTER RESULTS ...   \n",
       "4  [: Y/Y % > : ( 4 ) Free cash flow less princip...   \n",
       "5  [: LIABILITIES STOCKHOLDERS ’ EQUITY > : Accou...   \n",
       "6  [: AWS > Three Months Ended March 31 , 2023 20...   \n",
       "\n",
       "                        Documents  \n",
       "0  Alibaba.pdf, amazon_report.pdf  \n",
       "1  Alibaba.pdf, amazon_report.pdf  \n",
       "2                     Alibaba.pdf  \n",
       "3               amazon_report.pdf  \n",
       "4               amazon_report.pdf  \n",
       "5               amazon_report.pdf  \n",
       "6               amazon_report.pdf  "
      ]
     },
     "execution_count": 205,
     "metadata": {},
     "output_type": "execute_result"
    }
   ],
   "source": [
    "df_copy"
   ]
  },
  {
   "cell_type": "code",
   "execution_count": 207,
   "metadata": {},
   "outputs": [
    {
     "data": {
      "text/html": [
       "<div>\n",
       "<style scoped>\n",
       "    .dataframe tbody tr th:only-of-type {\n",
       "        vertical-align: middle;\n",
       "    }\n",
       "\n",
       "    .dataframe tbody tr th {\n",
       "        vertical-align: top;\n",
       "    }\n",
       "\n",
       "    .dataframe thead th {\n",
       "        text-align: right;\n",
       "    }\n",
       "</style>\n",
       "<table border=\"1\" class=\"dataframe\">\n",
       "  <thead>\n",
       "    <tr style=\"text-align: right;\">\n",
       "      <th></th>\n",
       "      <th>Topic ID</th>\n",
       "      <th>Topic</th>\n",
       "      <th>Key Words in Topic</th>\n",
       "      <th>No. of Docs</th>\n",
       "      <th>Key Chunks in Topic</th>\n",
       "      <th>Documents</th>\n",
       "    </tr>\n",
       "  </thead>\n",
       "  <tbody>\n",
       "    <tr>\n",
       "      <th>0</th>\n",
       "      <td>-1</td>\n",
       "      <td>Annual Report</td>\n",
       "      <td>report, references, annual, 2020, seller, sell...</td>\n",
       "      <td>2</td>\n",
       "      <td>[: : Source : 2020 Annual Report, : Y/Y % &gt; Ce...</td>\n",
       "      <td>Alibaba.pdf, amazon_report.pdf</td>\n",
       "    </tr>\n",
       "    <tr>\n",
       "      <th>1</th>\n",
       "      <td>0</td>\n",
       "      <td>Amazon Sales</td>\n",
       "      <td>income, amazon, aws, sales, billion, quarter, ...</td>\n",
       "      <td>94</td>\n",
       "      <td>[: AMAZON.COM ANNOUNCES FIRST QUARTER RESULTS ...</td>\n",
       "      <td>Alibaba.pdf, amazon_report.pdf</td>\n",
       "    </tr>\n",
       "    <tr>\n",
       "      <th>2</th>\n",
       "      <td>1</td>\n",
       "      <td>E-commerce platforms</td>\n",
       "      <td>alibaba, commerce, business, companies, mercha...</td>\n",
       "      <td>48</td>\n",
       "      <td>[: Massive Scale Alibaba &gt; : [ 00 :07 :21 ] Ye...</td>\n",
       "      <td>Alibaba.pdf</td>\n",
       "    </tr>\n",
       "    <tr>\n",
       "      <th>3</th>\n",
       "      <td>2</td>\n",
       "      <td>Amazon March Dilution</td>\n",
       "      <td>amazon, march, diluted, 2023, quarter, 2024, a...</td>\n",
       "      <td>15</td>\n",
       "      <td>[: AMAZON.COM ANNOUNCES FIRST QUARTER RESULTS ...</td>\n",
       "      <td>amazon_report.pdf</td>\n",
       "    </tr>\n",
       "    <tr>\n",
       "      <th>4</th>\n",
       "      <td>3</td>\n",
       "      <td>Lease Repayments</td>\n",
       "      <td>financing, repayments, leases, finance, income...</td>\n",
       "      <td>15</td>\n",
       "      <td>[: Y/Y % &gt; : ( 4 ) Free cash flow less princip...</td>\n",
       "      <td>amazon_report.pdf</td>\n",
       "    </tr>\n",
       "    <tr>\n",
       "      <th>5</th>\n",
       "      <td>4</td>\n",
       "      <td>Financial Reports</td>\n",
       "      <td>stockholders, liabilities, equity, earnings, s...</td>\n",
       "      <td>9</td>\n",
       "      <td>[: LIABILITIES STOCKHOLDERS ’ EQUITY &gt; : Accou...</td>\n",
       "      <td>amazon_report.pdf</td>\n",
       "    </tr>\n",
       "    <tr>\n",
       "      <th>6</th>\n",
       "      <td>5</td>\n",
       "      <td>AWS March</td>\n",
       "      <td>aws, 2023, months, march, 032, 2024, 037, 247,...</td>\n",
       "      <td>6</td>\n",
       "      <td>[: AWS &gt; Three Months Ended March 31 , 2023 20...</td>\n",
       "      <td>amazon_report.pdf</td>\n",
       "    </tr>\n",
       "  </tbody>\n",
       "</table>\n",
       "</div>"
      ],
      "text/plain": [
       "   Topic ID                  Topic  \\\n",
       "0        -1          Annual Report   \n",
       "1         0           Amazon Sales   \n",
       "2         1   E-commerce platforms   \n",
       "3         2  Amazon March Dilution   \n",
       "4         3       Lease Repayments   \n",
       "5         4      Financial Reports   \n",
       "6         5              AWS March   \n",
       "\n",
       "                                  Key Words in Topic  No. of Docs  \\\n",
       "0  report, references, annual, 2020, seller, sell...            2   \n",
       "1  income, amazon, aws, sales, billion, quarter, ...           94   \n",
       "2  alibaba, commerce, business, companies, mercha...           48   \n",
       "3  amazon, march, diluted, 2023, quarter, 2024, a...           15   \n",
       "4  financing, repayments, leases, finance, income...           15   \n",
       "5  stockholders, liabilities, equity, earnings, s...            9   \n",
       "6  aws, 2023, months, march, 032, 2024, 037, 247,...            6   \n",
       "\n",
       "                                 Key Chunks in Topic  \\\n",
       "0  [: : Source : 2020 Annual Report, : Y/Y % > Ce...   \n",
       "1  [: AMAZON.COM ANNOUNCES FIRST QUARTER RESULTS ...   \n",
       "2  [: Massive Scale Alibaba > : [ 00 :07 :21 ] Ye...   \n",
       "3  [: AMAZON.COM ANNOUNCES FIRST QUARTER RESULTS ...   \n",
       "4  [: Y/Y % > : ( 4 ) Free cash flow less princip...   \n",
       "5  [: LIABILITIES STOCKHOLDERS ’ EQUITY > : Accou...   \n",
       "6  [: AWS > Three Months Ended March 31 , 2023 20...   \n",
       "\n",
       "                        Documents  \n",
       "0  Alibaba.pdf, amazon_report.pdf  \n",
       "1  Alibaba.pdf, amazon_report.pdf  \n",
       "2                     Alibaba.pdf  \n",
       "3               amazon_report.pdf  \n",
       "4               amazon_report.pdf  \n",
       "5               amazon_report.pdf  \n",
       "6               amazon_report.pdf  "
      ]
     },
     "execution_count": 207,
     "metadata": {},
     "output_type": "execute_result"
    }
   ],
   "source": [
    "df_copy"
   ]
  },
  {
   "cell_type": "code",
   "execution_count": 208,
   "metadata": {},
   "outputs": [],
   "source": [
    "df_copy.set_index(\"Topic\", inplace=True)"
   ]
  },
  {
   "cell_type": "code",
   "execution_count": 209,
   "metadata": {},
   "outputs": [
    {
     "data": {
      "text/html": [
       "<div>\n",
       "<style scoped>\n",
       "    .dataframe tbody tr th:only-of-type {\n",
       "        vertical-align: middle;\n",
       "    }\n",
       "\n",
       "    .dataframe tbody tr th {\n",
       "        vertical-align: top;\n",
       "    }\n",
       "\n",
       "    .dataframe thead th {\n",
       "        text-align: right;\n",
       "    }\n",
       "</style>\n",
       "<table border=\"1\" class=\"dataframe\">\n",
       "  <thead>\n",
       "    <tr style=\"text-align: right;\">\n",
       "      <th></th>\n",
       "      <th>Topic ID</th>\n",
       "      <th>Key Words in Topic</th>\n",
       "      <th>No. of Docs</th>\n",
       "      <th>Key Chunks in Topic</th>\n",
       "      <th>Documents</th>\n",
       "    </tr>\n",
       "    <tr>\n",
       "      <th>Topic</th>\n",
       "      <th></th>\n",
       "      <th></th>\n",
       "      <th></th>\n",
       "      <th></th>\n",
       "      <th></th>\n",
       "    </tr>\n",
       "  </thead>\n",
       "  <tbody>\n",
       "    <tr>\n",
       "      <th>Annual Report</th>\n",
       "      <td>-1</td>\n",
       "      <td>report, references, annual, 2020, seller, sell...</td>\n",
       "      <td>2</td>\n",
       "      <td>[: : Source : 2020 Annual Report, : Y/Y % &gt; Ce...</td>\n",
       "      <td>Alibaba.pdf, amazon_report.pdf</td>\n",
       "    </tr>\n",
       "    <tr>\n",
       "      <th>Amazon Sales</th>\n",
       "      <td>0</td>\n",
       "      <td>income, amazon, aws, sales, billion, quarter, ...</td>\n",
       "      <td>94</td>\n",
       "      <td>[: AMAZON.COM ANNOUNCES FIRST QUARTER RESULTS ...</td>\n",
       "      <td>Alibaba.pdf, amazon_report.pdf</td>\n",
       "    </tr>\n",
       "    <tr>\n",
       "      <th>E-commerce platforms</th>\n",
       "      <td>1</td>\n",
       "      <td>alibaba, commerce, business, companies, mercha...</td>\n",
       "      <td>48</td>\n",
       "      <td>[: Massive Scale Alibaba &gt; : [ 00 :07 :21 ] Ye...</td>\n",
       "      <td>Alibaba.pdf</td>\n",
       "    </tr>\n",
       "    <tr>\n",
       "      <th>Amazon March Dilution</th>\n",
       "      <td>2</td>\n",
       "      <td>amazon, march, diluted, 2023, quarter, 2024, a...</td>\n",
       "      <td>15</td>\n",
       "      <td>[: AMAZON.COM ANNOUNCES FIRST QUARTER RESULTS ...</td>\n",
       "      <td>amazon_report.pdf</td>\n",
       "    </tr>\n",
       "    <tr>\n",
       "      <th>Lease Repayments</th>\n",
       "      <td>3</td>\n",
       "      <td>financing, repayments, leases, finance, income...</td>\n",
       "      <td>15</td>\n",
       "      <td>[: Y/Y % &gt; : ( 4 ) Free cash flow less princip...</td>\n",
       "      <td>amazon_report.pdf</td>\n",
       "    </tr>\n",
       "    <tr>\n",
       "      <th>Financial Reports</th>\n",
       "      <td>4</td>\n",
       "      <td>stockholders, liabilities, equity, earnings, s...</td>\n",
       "      <td>9</td>\n",
       "      <td>[: LIABILITIES STOCKHOLDERS ’ EQUITY &gt; : Accou...</td>\n",
       "      <td>amazon_report.pdf</td>\n",
       "    </tr>\n",
       "    <tr>\n",
       "      <th>AWS March</th>\n",
       "      <td>5</td>\n",
       "      <td>aws, 2023, months, march, 032, 2024, 037, 247,...</td>\n",
       "      <td>6</td>\n",
       "      <td>[: AWS &gt; Three Months Ended March 31 , 2023 20...</td>\n",
       "      <td>amazon_report.pdf</td>\n",
       "    </tr>\n",
       "  </tbody>\n",
       "</table>\n",
       "</div>"
      ],
      "text/plain": [
       "                       Topic ID  \\\n",
       "Topic                             \n",
       "Annual Report                -1   \n",
       "Amazon Sales                  0   \n",
       "E-commerce platforms          1   \n",
       "Amazon March Dilution         2   \n",
       "Lease Repayments              3   \n",
       "Financial Reports             4   \n",
       "AWS March                     5   \n",
       "\n",
       "                                                      Key Words in Topic  \\\n",
       "Topic                                                                      \n",
       "Annual Report          report, references, annual, 2020, seller, sell...   \n",
       "Amazon Sales           income, amazon, aws, sales, billion, quarter, ...   \n",
       "E-commerce platforms   alibaba, commerce, business, companies, mercha...   \n",
       "Amazon March Dilution  amazon, march, diluted, 2023, quarter, 2024, a...   \n",
       "Lease Repayments       financing, repayments, leases, finance, income...   \n",
       "Financial Reports      stockholders, liabilities, equity, earnings, s...   \n",
       "AWS March              aws, 2023, months, march, 032, 2024, 037, 247,...   \n",
       "\n",
       "                       No. of Docs  \\\n",
       "Topic                                \n",
       "Annual Report                    2   \n",
       "Amazon Sales                    94   \n",
       "E-commerce platforms            48   \n",
       "Amazon March Dilution           15   \n",
       "Lease Repayments                15   \n",
       "Financial Reports                9   \n",
       "AWS March                        6   \n",
       "\n",
       "                                                     Key Chunks in Topic  \\\n",
       "Topic                                                                      \n",
       "Annual Report          [: : Source : 2020 Annual Report, : Y/Y % > Ce...   \n",
       "Amazon Sales           [: AMAZON.COM ANNOUNCES FIRST QUARTER RESULTS ...   \n",
       "E-commerce platforms   [: Massive Scale Alibaba > : [ 00 :07 :21 ] Ye...   \n",
       "Amazon March Dilution  [: AMAZON.COM ANNOUNCES FIRST QUARTER RESULTS ...   \n",
       "Lease Repayments       [: Y/Y % > : ( 4 ) Free cash flow less princip...   \n",
       "Financial Reports      [: LIABILITIES STOCKHOLDERS ’ EQUITY > : Accou...   \n",
       "AWS March              [: AWS > Three Months Ended March 31 , 2023 20...   \n",
       "\n",
       "                                            Documents  \n",
       "Topic                                                  \n",
       "Annual Report          Alibaba.pdf, amazon_report.pdf  \n",
       "Amazon Sales           Alibaba.pdf, amazon_report.pdf  \n",
       "E-commerce platforms                      Alibaba.pdf  \n",
       "Amazon March Dilution               amazon_report.pdf  \n",
       "Lease Repayments                    amazon_report.pdf  \n",
       "Financial Reports                   amazon_report.pdf  \n",
       "AWS March                           amazon_report.pdf  "
      ]
     },
     "execution_count": 209,
     "metadata": {},
     "output_type": "execute_result"
    }
   ],
   "source": [
    "df_copy"
   ]
  },
  {
   "cell_type": "code",
   "execution_count": null,
   "metadata": {},
   "outputs": [],
   "source": []
  }
 ],
 "metadata": {
  "kernelspec": {
   "display_name": "topic-modelling",
   "language": "python",
   "name": "python3"
  },
  "language_info": {
   "codemirror_mode": {
    "name": "ipython",
    "version": 3
   },
   "file_extension": ".py",
   "mimetype": "text/x-python",
   "name": "python",
   "nbconvert_exporter": "python",
   "pygments_lexer": "ipython3",
   "version": "3.9.19"
  }
 },
 "nbformat": 4,
 "nbformat_minor": 2
}
