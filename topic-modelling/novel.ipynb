{
 "cells": [
  {
   "cell_type": "code",
   "execution_count": 1,
   "metadata": {},
   "outputs": [],
   "source": [
    "import nltk\n",
    "from nltk.corpus import stopwords\n",
    "from nltk.tokenize import word_tokenize\n",
    "from langchain_community.llms import Ollama"
   ]
  },
  {
   "cell_type": "code",
   "execution_count": 2,
   "metadata": {},
   "outputs": [],
   "source": [
    "# Ollama instance\n",
    "llm = Ollama(model=\"llama3:instruct\", temperature=0, base_url=\"http://localhost:11434\", verbose=False)"
   ]
  },
  {
   "cell_type": "code",
   "execution_count": 3,
   "metadata": {},
   "outputs": [],
   "source": [
    "from langchain.docstore.document import Document as LangchainDocument\n",
    "from langchain_community.embeddings import OllamaEmbeddings\n",
    "from langchain_experimental.text_splitter import SemanticChunker\n",
    "from llmsherpa.readers import LayoutPDFReader\n",
    "\n",
    "config = {\n",
    "    \"nlm_url\": \"http://localhost:5001/api/parseDocument?renderFormat=all&applyOcr=yes&useNewIndentParser=yes\",\n",
    "}\n",
    "\n",
    "def parent_chain(node):\n",
    "    \"\"\"\n",
    "    Returns the parent chain of the block consisting of all the parents of the block until the root.\n",
    "    \"\"\"\n",
    "    chain = []\n",
    "    parent = node.parent\n",
    "    while parent:\n",
    "        chain.append(parent)\n",
    "        parent = parent.parent\n",
    "    chain.reverse()\n",
    "    return chain\n",
    "\n",
    "def parent_text(node):\n",
    "    \"\"\"\n",
    "    Returns the text of the parent chain of the block. This is useful for adding section information to the text.\n",
    "    \"\"\"\n",
    "    chain = parent_chain(node)\n",
    "    header_texts = []\n",
    "    para_texts = []\n",
    "    for p in chain:\n",
    "        if p.tag == \"header\":\n",
    "            header_texts.append(p.to_text()) \n",
    "        elif p.tag in ['list_item', 'para']:\n",
    "            para_texts.append(p.to_text())\n",
    "    text = \"\\n>\\n\".join(header_texts)\n",
    "    if len(para_texts) > 0:\n",
    "        text +=\"\\n\\n\".join(para_texts)\n",
    "    return text\n",
    "   \n",
    "def to_context_text(node, include_section_info=True):\n",
    "    \"\"\"\n",
    "    This is a customised function largely derived from layout_reader.py of the llmsherpa library\n",
    "    Returns the text of the block with section information. This provides context to the text.\n",
    "    \"\"\"\n",
    "    text = \"Metadata:\\n\"\n",
    "    if include_section_info and parent_text(node) != \"\":\n",
    "        text += parent_text(node) + \"  >\\n\"\n",
    "    text += \"Content:\\n\"\n",
    "    if node.tag in ['list_item', 'para']:\n",
    "        text += node.to_text(include_children=True, recurse=True)\n",
    "    elif node.tag == 'table':\n",
    "        text += node.to_html()\n",
    "    else:\n",
    "        text += node.to_text(include_children=True, recurse=True)\n",
    "    return text\n",
    "\n",
    "def is_use_semantic_chunking(leaf_nodes):\n",
    "    # Returns true if more than 50% of paragraphs have only one line\n",
    "    count = 0\n",
    "    num_paras = len([node for node in leaf_nodes if node.tag == \"para\"])\n",
    "    \n",
    "    for node in leaf_nodes:\n",
    "        if node.tag == \"para\":\n",
    "            txt = node.to_text().strip()\n",
    "\n",
    "            lines = txt.split(\"\\n\")\n",
    "            if len(lines) == 1:\n",
    "                count += 1\n",
    "                # print(\"Single line para:\", txt)\n",
    "\n",
    "    print(\"Number of single line para:\", count)\n",
    "    print(\"Number of paragraphs:\", num_paras)\n",
    "    return count > num_paras/2\n",
    "\n",
    "def find_leaf_nodes(node, leaf_nodes=None):\n",
    "    if leaf_nodes is None:\n",
    "        leaf_nodes = []\n",
    "\n",
    "    if len(node.children) == 0:\n",
    "        leaf_nodes.append(node)\n",
    "    for child in node.children:\n",
    "        find_leaf_nodes(child, leaf_nodes)\n",
    "\n",
    "    return leaf_nodes\n",
    "\n",
    "def docParser(file_path, st=None, tenant_id=None, visualise_chunking=False, layout_reader=None, prev_leaf_node=None):\n",
    "    print(\"run\")\n",
    "    layout_root = None\n",
    "\n",
    "    try:\n",
    "        reader = LayoutPDFReader(config[\"nlm_url\"]) if layout_reader is None else layout_reader\n",
    "        try:\n",
    "            print(\"Reading file:\", file_path)\n",
    "            # Instead of giving by file_path, give as bytes instead\n",
    "            with open(file_path, \"rb\") as f:\n",
    "                file_in_bytes = f.read()\n",
    "            parsed_doc = reader.read_pdf(file_path, contents=file_in_bytes)\n",
    "        except FileNotFoundError:\n",
    "            if st is not None:\n",
    "                st.error(f\"File {file_path} not found.\")\n",
    "            print(f\"File {file_path} not found.\")\n",
    "            return []\n",
    "        layout_root = parsed_doc.root_node\n",
    "    except Exception as e:\n",
    "        if st is not None:\n",
    "            st.error(\"Error:\", e)\n",
    "        print(\"Error:\", e)\n",
    "\n",
    "    leaf_nodes = find_leaf_nodes(layout_root)\n",
    "    if prev_leaf_node is not None:\n",
    "        if prev_leaf_node == leaf_nodes:\n",
    "            prev_leaf_node = leaf_nodes\n",
    "            print(\"Same leaf nodes\")\n",
    "        else:\n",
    "            print(\"Different leaf nodes\")\n",
    "            print(prev_leaf_node[-1].to_text())\n",
    "            print(leaf_nodes[-1].to_text())\n",
    "\n",
    "    if is_use_semantic_chunking(leaf_nodes):\n",
    "        # Perform semantic chunking\n",
    "\n",
    "        ## Load embeddings\n",
    "        embeddings = OllamaEmbeddings(\n",
    "            base_url=config[\"ollama_base_url\"],\t\n",
    "            model=config[\"llm_name\"]\n",
    "        )\n",
    "        ## Chunk documents using semantic chunker\n",
    "        text_splitter = SemanticChunker(\n",
    "            embeddings, breakpoint_threshold_type=\"percentile\"\n",
    "        )\n",
    "\n",
    "        full_text = \"\"\n",
    "        for child in layout_root.children:\n",
    "            full_text += child.to_text(include_children=True, recurse=True) + \"\\n\"\n",
    "\n",
    "        docs = text_splitter.create_documents([full_text])\n",
    "    else:\n",
    "        print(\"Using llmsherpa\")\n",
    "        # Use chunks from llmsherpa\n",
    "        # Each chunk is each leaf_node with to_context_text()\n",
    "        collated_pg_content = [to_context_text(node) for node in leaf_nodes]\n",
    "        print(\"REMOVE:\", collated_pg_content[0])\n",
    "\n",
    "        # Convert to Langchain documents\n",
    "        docs = [LangchainDocument(page_content=collated_pg_content[i], metadata={key: leaf_nodes[i].block_json[key] for key in ('bbox', 'page_idx', 'level')} | {\"file_path\": file_path}) for i in range(len(collated_pg_content))]\n",
    "\n",
    "    return (docs, prev_leaf_node)"
   ]
  },
  {
   "cell_type": "markdown",
   "metadata": {},
   "source": [
    "Parse Document into LangChain Document format"
   ]
  },
  {
   "cell_type": "code",
   "execution_count": 4,
   "metadata": {},
   "outputs": [],
   "source": [
    "docs_path = [\"/home/jianyang/local-llm/topic-modelling/documents/amazon_report.pdf\", \"/home/jianyang/local-llm/topic-modelling/documents/Alibaba.pdf\"]\t"
   ]
  },
  {
   "cell_type": "code",
   "execution_count": 5,
   "metadata": {},
   "outputs": [],
   "source": [
    "def parseAllDocs(docs_path):\n",
    "\n",
    "    docs = []\n",
    "    prev_leaf_node = None\n",
    "    for doc in docs_path:\n",
    "        print(f\"Parsing document: {doc}\")\n",
    "        new_docs, prev_leaf_node = docParser(doc, layout_reader=LayoutPDFReader(config[\"nlm_url\"]), prev_leaf_node=prev_leaf_node)\n",
    "        docs.extend(new_docs)\n",
    "        print(\"Document parsed successfully.\", end=\"\\n\\n\")\n",
    "\n",
    "    return docs"
   ]
  },
  {
   "cell_type": "code",
   "execution_count": 6,
   "metadata": {},
   "outputs": [
    {
     "name": "stdout",
     "output_type": "stream",
     "text": [
      "Parsing document: /home/jianyang/local-llm/topic-modelling/documents/amazon_report.pdf\n",
      "run\n",
      "Reading file: /home/jianyang/local-llm/topic-modelling/documents/amazon_report.pdf\n",
      "Number of single line para: 26\n",
      "Number of paragraphs: 104\n",
      "Using llmsherpa\n",
      "REMOVE: Metadata:\n",
      "Content:\n",
      "amazon\n",
      "Document parsed successfully.\n",
      "\n",
      "Parsing document: /home/jianyang/local-llm/topic-modelling/documents/Alibaba.pdf\n",
      "run\n",
      "Reading file: /home/jianyang/local-llm/topic-modelling/documents/Alibaba.pdf\n",
      "Number of single line para: 0\n",
      "Number of paragraphs: 48\n",
      "Using llmsherpa\n",
      "REMOVE: Metadata:\n",
      "Introduction  >\n",
      "Content:\n",
      " \n",
      " \n",
      "  Patrick   \n",
      " \n",
      ":      [00:01:53]      Hello.\n",
      "Welcome      to      Business      Breakdowns  \n",
      " \n",
      ".      I\\\\\\'myour      host      Patrick      O\\\\\\'Shaughnessy  \n",
      " \n",
      ".      Today      we\\\\\\'ll      be      breaking  \n",
      " \n",
      "  down      the      world\\\\\\'s      largest      e-commerce      company   \n",
      " \n",
      ",      Alibaba.\n",
      "Alibaba      was      founded      in      1997      by      Jack      Maand      almost      20      other      co-  \n",
      " \n",
      "  founders   \n",
      " \n",
      ",      as      an      online      bulletin      board      that      allowed      small      Chinese      manufacturers      to      tel      buyers      around      the      world      that      they  \n",
      " \n",
      "  were      open      for      business  \n",
      " \n",
      ".      Today,      Alibaba      operates      asprawling      ecosystem      of      businesses      that      includes      e-commerce  \n",
      " \n",
      "  marketplaces   \n",
      " \n",
      ",      cloud      computing   \n",
      " \n",
      ",      food      delivery,      logistics   \n",
      " \n",
      ",      and      financial      services     .Inthis      Breakdown   \n",
      " \n",
      ",      we      discuss      the  \n",
      " \n",
      "  staggering      scale      of      Alibaba\\\\\\'s      business   \n",
      " \n",
      ",      how      Alibaba      went      from      copycat      to      innovator   \n",
      " \n",
      ",      and      the      looming      threat      of      the      next  \n",
      " \n",
      "  generation      of      Chinese      juggernauts   \n",
      " \n",
      ",      and      how      competition      is      viewed      differently      in      China      versus      the      West.\n",
      "For      this      episode   \n",
      " \n",
      ",      I\\\\\\'m  \n",
      " \n",
      "  joined      by      aspecial      guest      host   \n",
      " \n",
      ",      Claire      Cormier      Thiedke,      who      many      of      you      will      remember      from      her      appearance      on      Invest      like  \n",
      " \n",
      "  the      Best  \n",
      " \n",
      ".      Claire      is      the      managing      director      of      Asia      Pacific      for      Hines      and      brings      her      firsthand      view      of      what      Alibaba      has      built      in  \n",
      " \n",
      "  China,      and      her      daily      experience      using      the      company\\\\\\'s      products  \n",
      " \n",
      ".      Tohelp      us      break      down      Alibaba,      we\\\\\\'re      joined      by      Ram  \n",
      " \n",
      "  Parameswaran      ,the      founder      and      managing      partner      of      investment      firm      Octahedron      Capital.\n",
      "Ram      has      invested      in      some      of      the  \n",
      " \n",
      "  biggest      Chinese      companies      of      the      past      decade   \n",
      " \n",
      ",      including      Pinduoduo      and      ByteDance   \n",
      " \n",
      ",      and      is      the      first      person   \n",
      " \n",
      "|      thought      of  \n",
      " \n",
      "  when      wanting      to      breakdown      Alibaba.\n",
      " \n",
      " \n",
      "!      hope      you      enjoy      this      Business      Breakdown     .\n",
      "Document parsed successfully.\n",
      "\n"
     ]
    }
   ],
   "source": [
    "docs = parseAllDocs(docs_path)"
   ]
  },
  {
   "cell_type": "code",
   "execution_count": 7,
   "metadata": {},
   "outputs": [
    {
     "data": {
      "text/plain": [
       "[]"
      ]
     },
     "execution_count": 7,
     "metadata": {},
     "output_type": "execute_result"
    }
   ],
   "source": [
    "[doc for doc in docs if \"state_of_union\" in doc.metadata[\"file_path\"]][:3]"
   ]
  },
  {
   "cell_type": "code",
   "execution_count": 8,
   "metadata": {},
   "outputs": [
    {
     "data": {
      "text/plain": [
       "[Document(page_content='Metadata:\\nContent:\\namazon', metadata={'bbox': [199.68, 73.22, 199.68, 85.22], 'page_idx': 0, 'level': 0, 'file_path': '/home/jianyang/local-llm/topic-modelling/documents/amazon_report.pdf'}),\n",
       " Document(page_content='Metadata:\\nAMAZON.COM      ANNOUNCES      FIRST      QUARTER      RESULTS  >\\nContent:\\nSEATTLE—(BUSINESS      WIRE)      April      30,      2024—Amazon.com,      Inc.      (NASDAQ:      AMZN)      today      announced      financial      results  \\n \\n  for      its      first      quarter      ended      March      31,      2024.', metadata={'bbox': [49.92, 195.42, 525.6, 219.42], 'page_idx': 0, 'level': 1, 'file_path': '/home/jianyang/local-llm/topic-modelling/documents/amazon_report.pdf'}),\n",
       " Document(page_content='Metadata:\\nAMAZON.COM      ANNOUNCES      FIRST      QUARTER      RESULTS  >\\nContent:\\n \\n \\n \\n¢      Net      sales      increased      13%      to      $143.3      billion      in      the      first      quarter,      compared      with      $127.4      billion      in      first      quarter      2023.  \\n \\n  Excluding      the      $0.2      billion      unfavorable      impact      from      year-over-year      changes      in      foreign      exchange      rates      throughout      the  \\n \\n  quarter,      net      sales      increased      13%      compared      with      first      quarter      2023.', metadata={'bbox': [68.16, 241.03, 539.76, 277.28], 'page_idx': 0, 'level': 1, 'file_path': '/home/jianyang/local-llm/topic-modelling/documents/amazon_report.pdf'})]"
      ]
     },
     "execution_count": 8,
     "metadata": {},
     "output_type": "execute_result"
    }
   ],
   "source": [
    "docs[:3]"
   ]
  },
  {
   "cell_type": "markdown",
   "metadata": {},
   "source": [
    "Remove stopwords"
   ]
  },
  {
   "cell_type": "code",
   "execution_count": 9,
   "metadata": {},
   "outputs": [
    {
     "name": "stderr",
     "output_type": "stream",
     "text": [
      "[nltk_data] Downloading package stopwords to\n",
      "[nltk_data]     /home/jianyang/nltk_data...\n",
      "[nltk_data]   Package stopwords is already up-to-date!\n"
     ]
    },
    {
     "data": {
      "text/plain": [
       "True"
      ]
     },
     "execution_count": 9,
     "metadata": {},
     "output_type": "execute_result"
    }
   ],
   "source": [
    "# Download stopwords if not already downloaded\n",
    "nltk.download('stopwords')"
   ]
  },
  {
   "cell_type": "code",
   "execution_count": 10,
   "metadata": {},
   "outputs": [],
   "source": [
    "# pre-process documents\n",
    "# docs_str = [doc.page_content for doc in docs]\n",
    "docs_str = []\n",
    "stop_words = set(stopwords.words('english'))\n",
    "\n",
    "for doc in docs:\n",
    "    # Remove stop words\n",
    "    # Only referencing the page_content\n",
    "    text = doc.page_content\n",
    "    tokens = word_tokenize(text)\n",
    "    temp_filtered_text = [word for word in tokens if word.casefold() not in stop_words]\n",
    "    # ignore all instances of the word Metadata or Content\n",
    "    temp_filtered_text = [word for word in temp_filtered_text if word.casefold() not in [\"metadata\", \"content\"]]\n",
    "    filtered_text = \" \".join(temp_filtered_text)\n",
    "    docs_str.append(filtered_text)\n"
   ]
  },
  {
   "cell_type": "code",
   "execution_count": 11,
   "metadata": {},
   "outputs": [
    {
     "data": {
      "text/plain": [
       "[': : amazon',\n",
       " ': AMAZON.COM ANNOUNCES FIRST QUARTER RESULTS > : SEATTLE— ( BUSINESS WIRE ) April 30 , 2024—Amazon.com , Inc. ( NASDAQ : AMZN ) today announced financial results first quarter ended March 31 , 2024 .',\n",
       " ': AMAZON.COM ANNOUNCES FIRST QUARTER RESULTS > : ¢ Net sales increased 13 % $ 143.3 billion first quarter , compared $ 127.4 billion first quarter 2023 . Excluding $ 0.2 billion unfavorable impact year-over-year changes foreign exchange rates throughout quarter , net sales increased 13 % compared first quarter 2023 .']"
      ]
     },
     "execution_count": 11,
     "metadata": {},
     "output_type": "execute_result"
    }
   ],
   "source": [
    "docs_str[:3]"
   ]
  },
  {
   "cell_type": "code",
   "execution_count": 12,
   "metadata": {},
   "outputs": [
    {
     "data": {
      "text/plain": [
       "[Document(page_content='Metadata:\\nContent:\\namazon', metadata={'bbox': [199.68, 73.22, 199.68, 85.22], 'page_idx': 0, 'level': 0, 'file_path': '/home/jianyang/local-llm/topic-modelling/documents/amazon_report.pdf'}),\n",
       " Document(page_content='Metadata:\\nAMAZON.COM      ANNOUNCES      FIRST      QUARTER      RESULTS  >\\nContent:\\nSEATTLE—(BUSINESS      WIRE)      April      30,      2024—Amazon.com,      Inc.      (NASDAQ:      AMZN)      today      announced      financial      results  \\n \\n  for      its      first      quarter      ended      March      31,      2024.', metadata={'bbox': [49.92, 195.42, 525.6, 219.42], 'page_idx': 0, 'level': 1, 'file_path': '/home/jianyang/local-llm/topic-modelling/documents/amazon_report.pdf'}),\n",
       " Document(page_content='Metadata:\\nAMAZON.COM      ANNOUNCES      FIRST      QUARTER      RESULTS  >\\nContent:\\n \\n \\n \\n¢      Net      sales      increased      13%      to      $143.3      billion      in      the      first      quarter,      compared      with      $127.4      billion      in      first      quarter      2023.  \\n \\n  Excluding      the      $0.2      billion      unfavorable      impact      from      year-over-year      changes      in      foreign      exchange      rates      throughout      the  \\n \\n  quarter,      net      sales      increased      13%      compared      with      first      quarter      2023.', metadata={'bbox': [68.16, 241.03, 539.76, 277.28], 'page_idx': 0, 'level': 1, 'file_path': '/home/jianyang/local-llm/topic-modelling/documents/amazon_report.pdf'})]"
      ]
     },
     "execution_count": 12,
     "metadata": {},
     "output_type": "execute_result"
    }
   ],
   "source": [
    "docs[:3]"
   ]
  },
  {
   "cell_type": "markdown",
   "metadata": {},
   "source": [
    "Initialise [BERTopic Model](https://maartengr.github.io/BERTopic/algorithm/algorithm.html)"
   ]
  },
  {
   "cell_type": "code",
   "execution_count": 13,
   "metadata": {},
   "outputs": [
    {
     "name": "stderr",
     "output_type": "stream",
     "text": [
      "/home/jianyang/miniconda3/envs/local-llm/lib/python3.9/site-packages/tqdm/auto.py:22: TqdmWarning: IProgress not found. Please update jupyter and ipywidgets. See https://ipywidgets.readthedocs.io/en/stable/user_install.html\n",
      "  from .autonotebook import tqdm as notebook_tqdm\n",
      "/home/jianyang/miniconda3/envs/local-llm/lib/python3.9/site-packages/torchvision/io/image.py:13: UserWarning: Failed to load image Python extension: /home/jianyang/miniconda3/envs/local-llm/lib/python3.9/site-packages/torchvision/image.so: undefined symbol: _ZN3c1017RegisterOperatorsD1Ev\n",
      "  warn(f\"Failed to load image Python extension: {e}\")\n"
     ]
    }
   ],
   "source": [
    "# Taken from tutorial\n",
    "from umap import UMAP\n",
    "from hdbscan import HDBSCAN\n",
    "from sentence_transformers import SentenceTransformer\n",
    "from sklearn.feature_extraction.text import CountVectorizer\n",
    "\n",
    "from bertopic import BERTopic\n",
    "from bertopic.representation import KeyBERTInspired\n",
    "from bertopic.vectorizers import ClassTfidfTransformer\n",
    "\n",
    "\n",
    "# Step 1 - Extract embeddings\n",
    "embedding_model = SentenceTransformer(\"all-MiniLM-L6-v2\")\n",
    "\n",
    "# Step 2 - Reduce dimensionality\n",
    "umap_model = UMAP(n_neighbors=10, n_components=5, min_dist=0.0, metric='cosine')\n",
    "\n",
    "# Step 3 - Cluster reduced embeddings\n",
    "hdbscan_model = HDBSCAN(min_cluster_size=5, metric='euclidean', cluster_selection_method='eom', prediction_data=True)\n",
    "\n",
    "# Step 4 - Tokenize topics\n",
    "vectorizer_model = CountVectorizer(stop_words=\"english\")\n",
    "\n",
    "# Step 5 - Create topic representation\n",
    "ctfidf_model = ClassTfidfTransformer()\n",
    "\n",
    "# Step 6 - (Optional) Fine-tune topic representations with \n",
    "# a `bertopic.representation` model\n",
    "representation_model = KeyBERTInspired()\n",
    "\n",
    "# All steps together\n",
    "topic_model = BERTopic(\n",
    "  min_topic_size=3,                          # Minimum size of the topic\n",
    "  embedding_model=embedding_model,          # Step 1 - Extract embeddings\n",
    "  umap_model=umap_model,                    # Step 2 - Reduce dimensionality\n",
    "  hdbscan_model=hdbscan_model,              # Step 3 - Cluster reduced embeddings\n",
    "  vectorizer_model=vectorizer_model,        # Step 4 - Tokenize topics\n",
    "  ctfidf_model=ctfidf_model,                # Step 5 - Extract topic words\n",
    "  representation_model=representation_model # Step 6 - (Optional) Fine-tune topic represenations\n",
    ")\n"
   ]
  },
  {
   "cell_type": "code",
   "execution_count": 14,
   "metadata": {},
   "outputs": [
    {
     "name": "stderr",
     "output_type": "stream",
     "text": [
      "/home/jianyang/miniconda3/envs/local-llm/lib/python3.9/site-packages/numba/np/ufunc/parallel.py:371: NumbaWarning: The TBB threading layer requires TBB version 2021 update 6 or later i.e., TBB_INTERFACE_VERSION >= 12060. Found TBB_INTERFACE_VERSION = 12050. The TBB threading layer is disabled.\n",
      "  warnings.warn(problem)\n",
      "OMP: Info #276: omp_set_nested routine deprecated, please use omp_set_max_active_levels instead.\n"
     ]
    }
   ],
   "source": [
    "topics, _ = topic_model.fit_transform(docs_str)"
   ]
  },
  {
   "cell_type": "code",
   "execution_count": 15,
   "metadata": {},
   "outputs": [
    {
     "data": {
      "text/html": [
       "<div>\n",
       "<style scoped>\n",
       "    .dataframe tbody tr th:only-of-type {\n",
       "        vertical-align: middle;\n",
       "    }\n",
       "\n",
       "    .dataframe tbody tr th {\n",
       "        vertical-align: top;\n",
       "    }\n",
       "\n",
       "    .dataframe thead th {\n",
       "        text-align: right;\n",
       "    }\n",
       "</style>\n",
       "<table border=\"1\" class=\"dataframe\">\n",
       "  <thead>\n",
       "    <tr style=\"text-align: right;\">\n",
       "      <th></th>\n",
       "      <th>Topic</th>\n",
       "      <th>Count</th>\n",
       "      <th>Name</th>\n",
       "      <th>Representation</th>\n",
       "      <th>Representative_Docs</th>\n",
       "    </tr>\n",
       "  </thead>\n",
       "  <tbody>\n",
       "    <tr>\n",
       "      <th>0</th>\n",
       "      <td>-1</td>\n",
       "      <td>22</td>\n",
       "      <td>-1_aws_amazon_customers_customer</td>\n",
       "      <td>[aws, amazon, customers, customer, availabilit...</td>\n",
       "      <td>[: Y/Y % &gt; Certain Definitions &gt; : e Reference...</td>\n",
       "    </tr>\n",
       "    <tr>\n",
       "      <th>1</th>\n",
       "      <td>0</td>\n",
       "      <td>48</td>\n",
       "      <td>0_alibaba_commerce_merchants_business</td>\n",
       "      <td>[alibaba, commerce, merchants, business, compa...</td>\n",
       "      <td>[: Portable Lessons American Companies &gt; : [ 0...</td>\n",
       "    </tr>\n",
       "    <tr>\n",
       "      <th>2</th>\n",
       "      <td>1</td>\n",
       "      <td>26</td>\n",
       "      <td>1_aws_amazon_ec2_cloud</td>\n",
       "      <td>[aws, amazon, ec2, cloud, enterprise, capabili...</td>\n",
       "      <td>[: AMAZON.COM ANNOUNCES FIRST QUARTER RESULTS ...</td>\n",
       "    </tr>\n",
       "    <tr>\n",
       "      <th>3</th>\n",
       "      <td>2</td>\n",
       "      <td>25</td>\n",
       "      <td>2_income_amazon_sales_billion</td>\n",
       "      <td>[income, amazon, sales, billion, finance, taxe...</td>\n",
       "      <td>[: AMAZON.COM ANNOUNCES FIRST QUARTER RESULTS ...</td>\n",
       "    </tr>\n",
       "    <tr>\n",
       "      <th>4</th>\n",
       "      <td>3</td>\n",
       "      <td>15</td>\n",
       "      <td>3_amazon_march_diluted_2023</td>\n",
       "      <td>[amazon, march, diluted, 2023, quarter, 2024, ...</td>\n",
       "      <td>[: AMAZON.COM ANNOUNCES FIRST QUARTER RESULTS ...</td>\n",
       "    </tr>\n",
       "    <tr>\n",
       "      <th>5</th>\n",
       "      <td>4</td>\n",
       "      <td>15</td>\n",
       "      <td>4_financing_repayments_leases_finance</td>\n",
       "      <td>[financing, repayments, leases, finance, incom...</td>\n",
       "      <td>[: Y/Y % &gt; : ( 4 ) Free cash flow less princip...</td>\n",
       "    </tr>\n",
       "    <tr>\n",
       "      <th>6</th>\n",
       "      <td>5</td>\n",
       "      <td>9</td>\n",
       "      <td>5_sales_income_expenses_aws</td>\n",
       "      <td>[sales, income, expenses, aws, expense, consol...</td>\n",
       "      <td>[: AWS &gt; Consolidated &gt; : Net sales Operating ...</td>\n",
       "    </tr>\n",
       "    <tr>\n",
       "      <th>7</th>\n",
       "      <td>6</td>\n",
       "      <td>9</td>\n",
       "      <td>6_stockholders_liabilities_equity_earnings</td>\n",
       "      <td>[stockholders, liabilities, equity, earnings, ...</td>\n",
       "      <td>[: LIABILITIES STOCKHOLDERS ’ EQUITY &gt; : Accou...</td>\n",
       "    </tr>\n",
       "    <tr>\n",
       "      <th>8</th>\n",
       "      <td>7</td>\n",
       "      <td>7</td>\n",
       "      <td>7_amazon_2024_nasdaq_reports</td>\n",
       "      <td>[amazon, 2024, nasdaq, reports, announces, fin...</td>\n",
       "      <td>[: AMAZON.COM ANNOUNCES FIRST QUARTER RESULTS ...</td>\n",
       "    </tr>\n",
       "    <tr>\n",
       "      <th>9</th>\n",
       "      <td>8</td>\n",
       "      <td>7</td>\n",
       "      <td>8_amazon_analysts_ranking_companies</td>\n",
       "      <td>[amazon, analysts, ranking, companies, awards,...</td>\n",
       "      <td>[: AMAZON.COM ANNOUNCES FIRST QUARTER RESULTS ...</td>\n",
       "    </tr>\n",
       "    <tr>\n",
       "      <th>10</th>\n",
       "      <td>9</td>\n",
       "      <td>6</td>\n",
       "      <td>9_aws_2023_months_march</td>\n",
       "      <td>[aws, 2023, months, march, 032, 2024, 037, 247...</td>\n",
       "      <td>[: AWS &gt; Three Months Ended March 31 , 2023 20...</td>\n",
       "    </tr>\n",
       "  </tbody>\n",
       "</table>\n",
       "</div>"
      ],
      "text/plain": [
       "    Topic  Count                                        Name  \\\n",
       "0      -1     22            -1_aws_amazon_customers_customer   \n",
       "1       0     48       0_alibaba_commerce_merchants_business   \n",
       "2       1     26                      1_aws_amazon_ec2_cloud   \n",
       "3       2     25               2_income_amazon_sales_billion   \n",
       "4       3     15                 3_amazon_march_diluted_2023   \n",
       "5       4     15       4_financing_repayments_leases_finance   \n",
       "6       5      9                 5_sales_income_expenses_aws   \n",
       "7       6      9  6_stockholders_liabilities_equity_earnings   \n",
       "8       7      7                7_amazon_2024_nasdaq_reports   \n",
       "9       8      7         8_amazon_analysts_ranking_companies   \n",
       "10      9      6                     9_aws_2023_months_march   \n",
       "\n",
       "                                       Representation  \\\n",
       "0   [aws, amazon, customers, customer, availabilit...   \n",
       "1   [alibaba, commerce, merchants, business, compa...   \n",
       "2   [aws, amazon, ec2, cloud, enterprise, capabili...   \n",
       "3   [income, amazon, sales, billion, finance, taxe...   \n",
       "4   [amazon, march, diluted, 2023, quarter, 2024, ...   \n",
       "5   [financing, repayments, leases, finance, incom...   \n",
       "6   [sales, income, expenses, aws, expense, consol...   \n",
       "7   [stockholders, liabilities, equity, earnings, ...   \n",
       "8   [amazon, 2024, nasdaq, reports, announces, fin...   \n",
       "9   [amazon, analysts, ranking, companies, awards,...   \n",
       "10  [aws, 2023, months, march, 032, 2024, 037, 247...   \n",
       "\n",
       "                                  Representative_Docs  \n",
       "0   [: Y/Y % > Certain Definitions > : e Reference...  \n",
       "1   [: Portable Lessons American Companies > : [ 0...  \n",
       "2   [: AMAZON.COM ANNOUNCES FIRST QUARTER RESULTS ...  \n",
       "3   [: AMAZON.COM ANNOUNCES FIRST QUARTER RESULTS ...  \n",
       "4   [: AMAZON.COM ANNOUNCES FIRST QUARTER RESULTS ...  \n",
       "5   [: Y/Y % > : ( 4 ) Free cash flow less princip...  \n",
       "6   [: AWS > Consolidated > : Net sales Operating ...  \n",
       "7   [: LIABILITIES STOCKHOLDERS ’ EQUITY > : Accou...  \n",
       "8   [: AMAZON.COM ANNOUNCES FIRST QUARTER RESULTS ...  \n",
       "9   [: AMAZON.COM ANNOUNCES FIRST QUARTER RESULTS ...  \n",
       "10  [: AWS > Three Months Ended March 31 , 2023 20...  "
      ]
     },
     "execution_count": 15,
     "metadata": {},
     "output_type": "execute_result"
    }
   ],
   "source": [
    "topic_model.get_topic_info()"
   ]
  },
  {
   "cell_type": "code",
   "execution_count": 16,
   "metadata": {},
   "outputs": [
    {
     "data": {
      "text/plain": [
       "plotly.graph_objs._figure.Figure"
      ]
     },
     "execution_count": 16,
     "metadata": {},
     "output_type": "execute_result"
    }
   ],
   "source": [
    "type(topic_model.visualize_topics())"
   ]
  },
  {
   "cell_type": "code",
   "execution_count": 17,
   "metadata": {},
   "outputs": [],
   "source": [
    "def get_chunks_from_topic(topic_id, topic_model, docs_str, docs):\n",
    "    \"\"\"\n",
    "    docs_str - list of strings\n",
    "    docs - list of Langchain Document objects\n",
    "    \"\"\"\n",
    "    temp = topic_model.get_document_info(docs_str)[\"Topic\"] == topic_id\n",
    "    # print(temp)\n",
    "    df = topic_model.get_document_info(docs_str)[temp]\n",
    "    # get list of all index\n",
    "    doc_index = df.index.tolist()\n",
    "    return [docs[i] for i in doc_index]\n",
    "    # return df[\"Document\"]"
   ]
  },
  {
   "cell_type": "code",
   "execution_count": 18,
   "metadata": {},
   "outputs": [
    {
     "data": {
      "text/plain": [
       "[Document(page_content=\"Metadata:\\nIntroduction  >\\nContent:\\n \\n \\n  Patrick   \\n \\n:      [00:01:53]      Hello.\\nWelcome      to      Business      Breakdowns  \\n \\n.      I\\\\\\\\\\\\'myour      host      Patrick      O\\\\\\\\\\\\'Shaughnessy  \\n \\n.      Today      we\\\\\\\\\\\\'ll      be      breaking  \\n \\n  down      the      world\\\\\\\\\\\\'s      largest      e-commerce      company   \\n \\n,      Alibaba.\\nAlibaba      was      founded      in      1997      by      Jack      Maand      almost      20      other      co-  \\n \\n  founders   \\n \\n,      as      an      online      bulletin      board      that      allowed      small      Chinese      manufacturers      to      tel      buyers      around      the      world      that      they  \\n \\n  were      open      for      business  \\n \\n.      Today,      Alibaba      operates      asprawling      ecosystem      of      businesses      that      includes      e-commerce  \\n \\n  marketplaces   \\n \\n,      cloud      computing   \\n \\n,      food      delivery,      logistics   \\n \\n,      and      financial      services     .Inthis      Breakdown   \\n \\n,      we      discuss      the  \\n \\n  staggering      scale      of      Alibaba\\\\\\\\\\\\'s      business   \\n \\n,      how      Alibaba      went      from      copycat      to      innovator   \\n \\n,      and      the      looming      threat      of      the      next  \\n \\n  generation      of      Chinese      juggernauts   \\n \\n,      and      how      competition      is      viewed      differently      in      China      versus      the      West.\\nFor      this      episode   \\n \\n,      I\\\\\\\\\\\\'m  \\n \\n  joined      by      aspecial      guest      host   \\n \\n,      Claire      Cormier      Thiedke,      who      many      of      you      will      remember      from      her      appearance      on      Invest      like  \\n \\n  the      Best  \\n \\n.      Claire      is      the      managing      director      of      Asia      Pacific      for      Hines      and      brings      her      firsthand      view      of      what      Alibaba      has      built      in  \\n \\n  China,      and      her      daily      experience      using      the      company\\\\\\\\\\\\'s      products  \\n \\n.      Tohelp      us      break      down      Alibaba,      we\\\\\\\\\\\\'re      joined      by      Ram  \\n \\n  Parameswaran      ,the      founder      and      managing      partner      of      investment      firm      Octahedron      Capital.\\nRam      has      invested      in      some      of      the  \\n \\n  biggest      Chinese      companies      of      the      past      decade   \\n \\n,      including      Pinduoduo      and      ByteDance   \\n \\n,      and      is      the      first      person   \\n \\n|      thought      of  \\n \\n  when      wanting      to      breakdown      Alibaba.\\n \\n \\n!      hope      you      enjoy      this      Business      Breakdown     .\", metadata={'bbox': [3.6, 103.47, 574.64, 304.63], 'page_idx': 0, 'level': 1, 'file_path': '/home/jianyang/local-llm/topic-modelling/documents/Alibaba.pdf'}),\n",
       " Document(page_content=\"Metadata:\\nThe      Massive      Scale      of      Alibaba  >\\nContent:\\n \\n \\n  Claire:      [00:03:13]      Ram,      can      we      start      just      by      level      setting      for      amoment      and      understanding      what      Alibaba      is      because      it\\\\\\\\\\\\'sa  \\n \\n  name      that      so      many      people      hear      and      are      familiar      with,      and      it\\\\\\\\\\\\'sso      often      compared      to      analogs      like      Amazon  \\n \\n.      Can      you      maybe  \\n \\n  just      unpack      that   \\n \\na      little      bit      for      us?\", metadata={'bbox': [3.6, 392.5, 542.95, 435.95], 'page_idx': 0, 'level': 1, 'file_path': '/home/jianyang/local-llm/topic-modelling/documents/Alibaba.pdf'}),\n",
       " Document(page_content=\"Metadata:\\nThe      Massive      Scale      of      Alibaba  >\\nContent:\\n[00      :03      :30]      So      Alibaba      ,|      think      is      one      of      the      most      fascinating      businesses      inthe      world.\\nAnd      in      America   \\n \\n,      we      tend      to      have  \\n \\n  these      simplistic      views      of      business  \\n \\n.      The   \\n \\nX      of   \\n \\nY      is      this.\\nAnd      Alibaba      is      an      enigma      even      today      ,even      though      the      company      is      well   \\n \\n-       known   \\n \\n,      they      had      acharismatic      founder      who      gets      into      trouble      for      all      the      wrong      reasons      sometimes,      but   \\n \\na      brilliant      legendary  \\n \\n  founder  \\n \\n.      But      Alibaba      is      an      enigma  \\n \\n.      So      first      of      all,      people      say      it\\\\\\\\\\\\'s      Amazon  \\n \\n.      It      was      actually      not      Amazon  \\n \\n.      The      business      model   \\n \\n,      the  \\n \\n  original      business      model      is      monetized      on      advertising  \\n \\n.      So      it\\\\\\\\\\\\'s      actually      Google      in      many      ways.\\nSo      even      the      assumption      that      it  \\n \\n  sells      e-commerce      ,yes,it      seals      e-commerce   \\n \\n,      but      it      monetizes      mostly      on      advertising  \\n \\n.      It\\\\\\\\\\\\'s      an      unknown      fact      inthe      industry      for the Number two.\\nPeople don\\\\\\\\\\\\'t understand the scale of Alibaba.\\nIt\\\\\\\\\\\\'s a bigger scale than Amazon.\\nAmazon is subscale  \\n \\n  compared      to      Alibaba.\\nSo      let      me      give      you      afew      stats      about      this.\\nIn      2015   \\n \\n,      Alibaba      sold      $500      billion      in      volume      across      their      two  \\n \\n  main      e-commerce      properties      Tmall      and      Taobao  \\n \\n.      That\\\\\\\\\\\\'s      500      billion.\\nIn      2020   \\n \\n,      they      more      than      doubled      that      to      1.2      trillion.\\nAnd      in  \\n \\n  2025   \\n \\n,      by      my      estimates      ,they      will      double      again      to      2.5      trillion.\\nIf      you      put      this      in      context  \\n \\n.      In      2015   \\n \\n,      they      were      10%of      total      retail  \\n \\n  spending      in      China.\\nIn      2020   \\n \\n,      they      were      20%of      retail      spending   \\n \\na      China.\\nIn      2025   \\n \\n,      they\\\\\\\\\\\\'re      25%of      retail      spending      in      China.\\nSo      this      is  \\n \\n  a      utility      at   \\n \\na      scale      where      every      Chinese      consumer      that      effectively      goes      on      the      internet   \\n \\n,      buys      Alibaba      products      first,      and      then  \\n \\n  also      uses      other      stuff  \\n \\n.      So      if      you      take      an      analog      of      Netflix      in      the      U.S,      when      you      cut      the      cord      for      the      first      time,      or      you\\\\\\\\\\\\'re   \\n \\na      young  \\n \\n  student      coming      out      of      college      and      you      never      buy      acable      subscription      in      your      life,      the      first      thing      what      do      you      buy?\\nYou      buy  \\n \\n  Netflix.\\nAnd      then      you      may      layer      on      Hulu      and      you      may      layer      on      other      on-demand      services  \\n \\n.      But      you      start      with      Netflix      first.\\nAnd  \\n \\n  that\\\\\\\\\\\\'s      Alibaba      in      China.\\nIt      is      the      primary      medium      for      almost      everybody      to      satisfy      ther      human      needs      viae-commerce  \\n \\n.      So      that      is  \\n \\n  ascale      of      Alibaba.\\nThis      is   \\n \\na      country      -scale      business     .\", metadata={'bbox': [3.84, 451.79, 581.6, 715.86], 'page_idx': 0, 'level': 1, 'file_path': '/home/jianyang/local-llm/topic-modelling/documents/Alibaba.pdf'}),\n",
       " Document(page_content=\"Metadata:\\nThe      Massive      Scale      of      Alibaba  >\\nContent:\\n \\n \\n  Give      you      one      more      stat      here.\\nThey      had      800      million      active      customers      in      2020     .Each      person      on      average      bought      something      on  \\n \\n  Alibaba      twice   \\n \\na      week   \\n \\n,      two      times   \\n \\na      week  \\n \\n.      This      does      not      include      groceries      and      food.\\nThis      does      not      include      living.\\nThis      includes  \\n \\n  discretionary      buys      on      Alibaba   \\n \\n,      twice   \\n \\na      week  \\n \\n.      And      what\\\\\\\\\\\\'s      amazing      is      five      years      ago   \\n \\n,      they      were      mostly      fashion      and      appard  \\n \\n.      And  \\n \\n  now      they\\\\\\\\\\\\'ve      gone      to      almost      every      single      category      of      any      lifestyle      in      China.\\nAnd      what\\\\\\\\\\\\'s      incredible      is      your      typical      user      starts      year  \\n \\n  one      buying      around      $400      per      year.\\nAnd      by      year      five      goes      to      $2,000      per      year.\\nSo      these      scores      just      keep      on      maturing      as      they  \\n \\n  become      richer      because      the      Chinese      GDP      is      still      small      per      capita      compared      to      the      American      GDP.\\nSo      they      get      richer   \\n \\n,      they  \\n \\n  spend      more   \\n \\n,      therefore      it\\\\\\\\\\\\'s      very      easy      to      model      our      cohort      analysis      to      double      Alibaba      again      over      the      next      five      years  \\n \\n.      So      that\\\\\\\\\\\\'s      2.5  \\n \\n  trillion      in      our      estimates      from      1.2      last      year.\\nAnd      this      is      only      in      discretionary      spending     .And      then      they\\\\\\\\\\\\'ve      got      other      stuff      on      top      of  \\n \\n  this.\", metadata={'bbox': [3.84, 731.7, 576.08, 822.44], 'page_idx': 0, 'level': 1, 'file_path': '/home/jianyang/local-llm/topic-modelling/documents/Alibaba.pdf'}),\n",
       " Document(page_content='Metadata:\\nThe      Massive      Scale      of      Alibaba  >\\nContent:\\n \\n \\n  This      is   \\n \\na      utility      at   \\n \\na      scale      where      every      Chinese      consumer      that      effectively      goes      on      the      internet   \\n \\n,      buys      Alibaba products first, and then also uses other stuff They had 800 million active customers in 2020.\\nEach person on  \\n \\n  average      bought      something      on      Alibaba      twice   \\n \\na      week   \\n \\n,      two      times   \\n \\na      week  \\n \\n.      This      does      not      include      groceries      and  \\n \\n  food  \\n \\n.      This      does      not      include      living.\\nThis      includes      discretionary      buys      on      Alibaba,      twice   \\n \\na      week     .', metadata={'bbox': [33.84, 80.9, 539.59, 140.19], 'page_idx': 1, 'level': 1, 'file_path': '/home/jianyang/local-llm/topic-modelling/documents/Alibaba.pdf'}),\n",
       " Document(page_content=\"Metadata:\\nThe      Massive      Scale      of      Alibaba  >\\nContent:\\n \\n \\n  Claire:      [00:06:49]   \\n \\n1      was      so      excited      to      talk      to      you      about      this,      because      how      many      times      aday      am   \\n \\n|      touching      Alibaba      in      different parts of my life?\\nAndin grocery , orders to get food in the morning, but then also Alibaba is an owner of the newspaper  \\n \\n  where   \\n \\n|      absorb      some      of      the      best      news      on      the      city      and      on      the      region  \\n \\n.      And      that\\\\\\\\\\\\'s      to      say      nothing      of      the      Alipay      that   \\n \\n|      needed      to  \\n \\n  be      able      to      pay      for      the      DDor      the      taxi      to      get      where   \\n \\n|      was      going  \\n \\n.      How      do      you      explain      it      for      someone      who\\\\\\\\\\\\'s      just      trying      to      get      their  \\n \\n  head      around      the      way      they      touch      their      customers      ?\", metadata={'bbox': [3.84, 155.8, 569.6, 230.93], 'page_idx': 1, 'level': 1, 'file_path': '/home/jianyang/local-llm/topic-modelling/documents/Alibaba.pdf'}),\n",
       " Document(page_content=\"Metadata:\\nThe      Massive      Scale      of      Alibaba  >\\nContent:\\n \\n \\n  [00      :07      :21]      Yeah.\\nAnd      that\\\\\\\\\\\\'s      the      hard      part  \\n \\n.      All|      told      you      was      just      the      commerce      business  \\n \\n.      So      on      top      of      that   \\n \\n,      they      have      the  \\n \\n  world\\\\\\\\\\\\'s      leading      cloud      business      in      China.\\nSo      as      Chinese      enterprises      and      SMBs      get      digitized      to      go      to      the      cloud      from      traditional  \\n \\n  on-premise      hosted      solutions   \\n \\n,      Ali      Cloud      gets      40      to      50      cents      on      every      incremental      dollar      that\\\\\\\\\\\\'s      spent      on      the      cloud  \\n \\n.      So      just  \\n \\n  imagine   \\n \\n,      were      not      even      at      the      beginning      of      hundreds      of      potentia      SAS      companies      being      built      out      of      China.\\nAnd      who\\\\\\\\\\\\'s      going      to  \\n \\n  profit      for      all      of      that   \\n \\n?      It\\\\\\\\\\\\'s      going      to      be      Alibaba.\\nSo      that\\\\\\\\\\\\'s      the      second      piece  \\n \\n.      Which      by      the      way,is      growing      North      of      50%in   \\n \\na      very  \\n \\n  healthy      manner      ,EBITDApositive      already  \\n \\n.      And      so      Alibaba      looks   \\n \\na      lot      like      what      Amazon      looked      like      in      the      initial      days      of      Amazon  \\n \\n  web      services  \\n \\n.      And      people      don\\\\\\\\\\\\'t      even      value      it      that      much      right      now,      because      one,|      don\\\\\\\\\\\\'t      think      people      really      understand      the  \\n \\n  power      of      the      cloud      in      China.\\nYet      there      are      questions      about      whether      Chinese      enterprises      even      pay      for      cloud      services      ,as      they  \\n \\n  pay      in      America      ,and      abunch      of      other      reasons  \\n \\n.      That\\\\\\\\\\\\'s      the      commerce      business      for      consumers  \\n \\n.      That\\\\\\\\\\\\'s      the      cloud      business      for  \\n \\n  enterprises     .And      then      you      have      the      Alipay      business      ,which      is   \\n \\na      33%equity      owned      business      by      Alibaba.\\nWas      incubated      in  \\n \\n  Alibaba      back      inthe      early      2000s      as      the      escrow      mechanism      to      pay      merchants     .\", metadata={'bbox': [3.84, 246.54, 574.16, 416.02], 'page_idx': 1, 'level': 1, 'file_path': '/home/jianyang/local-llm/topic-modelling/documents/Alibaba.pdf'}),\n",
       " Document(page_content=\"Metadata:\\nThe      Massive      Scale      of      Alibaba  >\\nContent:\\n \\n \\n  There      was      no      real      close      loop      payment      system      in      China      till      Alipay      came      around      back      inthe      early      2000s  \\n \\n.      And      it\\\\\\\\\\\\'s      just      the      way  \\n \\n  eBay      needed      PayPal      to      make      sure      that      money      got      transferred      only      when      the      consumer      saw      the      product  \\n \\n.      Alibaba      had      to      do  \\n \\n  something      very      similar  \\n \\n.      But      our      Anti-Financial      is      likely      going      to      be      even      bigger      than      Alibaba   \\n \\n,      overtime  \\n \\n.      Ant      Financial      is  \\n \\n  effectively      one      of      the      two      defacto      ways      for      every      Chinese      consumer      to      manage      their      financial      lives.\\nIt\\\\\\\\\\\\'s      the      biggest      money  \\n \\n  market      product      inthe      world.\\nIt\\\\\\\\\\\\'s      bigger      than      JP      Morgan  \\n \\n.      It      has      wealth      management      products  \\n \\n.      It      has      insurance      products  \\n \\n.      It      has  \\n \\n  lending      products  \\n \\n.      And      it\\\\\\\\\\\\'s      all      30%      owned      by      Alibaba.\\nAnd      even      more      interesting      ,this      is      about      ecosystem      control  \\n \\n.      So      you      talked  \\n \\n  about      ordering      food  \\n \\n.      Those      are      all      adjacencies     .Inthe      big      picture   \\n \\n,      all      the      stuff      you      talk      about      doesn\\\\\\\\\\\\'t      even      matter  \\n \\n.      They      will      all  \\n \\n  become      10      to      $20      billion      businesses      over      time.\\nBut      at      the      scale      of      the      core      business      of      Ant      Financial      ,the      commerce      business   \\n \\n,       and      the      cloud      business      ,those      are      all      little,      and      that      doesn\\\\\\\\\\\\'t      really      matter  \\n \\n.      So      it\\\\\\\\\\\\'s      funny.\\nThose      are      standalone      big      businesses      in  \\n \\n  America      and      that      own      rights   \\n \\n,      but      because      Alibaba      is      acountry      scale      business      ,it      doesn\\\\\\\\\\\\'t      matter     .\", metadata={'bbox': [3.84, 431.87, 587.36, 585.74], 'page_idx': 1, 'level': 1, 'file_path': '/home/jianyang/local-llm/topic-modelling/documents/Alibaba.pdf'}),\n",
       " Document(page_content=\"Metadata:\\nThe      Massive      Scale      of      Alibaba  >\\nContent:\\n \\n \\n  Claire:      [00:09:58]      So      you\\\\\\\\\\\\'ve      used      the      term      country      scale      acouple      of      times.\\nAnd      when      it      comes      to      the      country,      China      is  \\n \\n  enormous   \\n \\n,      but      it      also      is      so      much      complex      because      it      is      changing      so      much,      but      also      just      in      the      time      since      Alibaba’\\\\\\\\\\\\'s      founding   \\n \\n,       has      evolved      greatly.\\ncan      you      tap      into      what      you      really      mean      when      you      say      the      country      scale      and      what      we      should      really      take  \\n \\n  from      that      ?\", metadata={'bbox': [3.84, 601.35, 584.72, 660.64], 'page_idx': 1, 'level': 1, 'file_path': '/home/jianyang/local-llm/topic-modelling/documents/Alibaba.pdf'}),\n",
       " Document(page_content=\"Metadata:\\nThe      Massive      Scale      of      Alibaba  >\\nContent:\\n \\n \\n  [00      :10      :20]      So      Alibaba      could      be      acountry      of      its      own.\\nThink      about      the      GDP      of      Alibaba      is      2.4      trillion      in      five      years   \\n \\n,      and      1.2  \\n \\n  trillion      right      now.      When      you      are      crossing      that      scale      of      volume   \\n \\n,      you      are      acountry      effectively  \\n \\n.      That\\\\\\\\\\\\'s      what   \\n \\n|      mean  \\n \\n.      Second   \\n \\n,       Alibaba      has      800      million      average      active      customers  \\n \\n.      Ant      Financial      has      even      more.\\nThis      means      that      60%or      70%of      the      total  \\n \\n  population      use      an      Alibaba      service  \\n \\n.      Were      talking      about      billions      here.\\nWe\\\\\\\\\\\\'re      not      talking      about      afew      millions  \\n \\n.      Number      two.\\n \\n \\n  Number      three      is,aS      you      mentioned      earlier      on,      Claire,      Alibaba\\\\\\\\\\\\'s      products      affect      every      part      of      your      life,      whether      you\\\\\\\\\\\\'re   \\n \\na       consumer      or      whether      you\\\\\\\\\\\\'re   \\n \\na      business  \\n \\n.      I\\\\\\\\\\\\'ve      actually      not      seen      any      company      inthe      world      that      has      that      level      of      impact      ona  \\n \\n  certain      country  \\n \\n.      Let\\\\\\\\\\\\'s      put      it      this      way.If      Amazon      disappeared      tomorrow   \\n \\n,      theoretically      speaking   \\n \\n,      yes      we      will      be      affected   \\n \\n,      but   \\n \\na       Walmart      and   \\n \\na      Target      ,and      other      e-commerce      companies      will      take      its      place  \\n \\n.      If      Alibaba      disappeared      tomorrow      ,|      suspect      there\\\\\\\\\\\\'ll  \\n \\n  be      much      more      impact      on      the      ecosystem      ,in      fact      ,on      the      Chinese      economy     .\", metadata={'bbox': [3.84, 676.49, 566.96, 814.52], 'page_idx': 1, 'level': 1, 'file_path': '/home/jianyang/local-llm/topic-modelling/documents/Alibaba.pdf'}),\n",
       " Document(page_content='Metadata:\\nThe      History      of      Alibaba  >\\nContent:\\n \\n \\n  Claire:      [00:11:29]      There      are      so      many      different      directions      that      we      can      take      this.\\nAnd      one      thing      that      jumps      out      to      me      is      within  \\n \\n  China,      only      8%of      the      Chinese      live      in      cities      that      are      well      known      outside      of      China.\\nSo      Shanghai   \\n \\n,      Beijing,      and      Guangzhou  \\n \\n.      So  \\n \\n  the      majority      of      folks,      two-thirds      of      them,      are      living      in      tier      three,      tier      four,      tier      five      cities  \\n \\n.      That      would      be      the      equivalent      of  \\n \\n  Mesa   \\n \\n,      Arizona,      probably,      something      of      that      nature.\\nHow      does      Alibaba      think      about      balancing      its      business      or      strategy  \\n \\n  between      tier      one      China,      and      then      all      of      the      rest      ?', metadata={'bbox': [3.84, 197.57, 563.12, 272.71], 'page_idx': 2, 'level': 1, 'file_path': '/home/jianyang/local-llm/topic-modelling/documents/Alibaba.pdf'}),\n",
       " Document(page_content='Metadata:\\nThe      History      of      Alibaba  >\\nContent:\\n \\n \\n  [00      :12      :05]      So   \\n \\n|      think      for      this,      you\\\\\\\\\\\\\\'ve      got      to      go      back      to      the      history      of      Alibaba   \\n \\na      little      bit.\\nSo      let\\\\\\\\\\\\\\'s      talk      about      the      different  \\n \\n  layers      in      which      Alibaba      was      built      because      it      was      built      in      layers  \\n \\n.      It\\\\\\\\\\\\\\'s      not      like      Jack      Ma      and      his      20      co-founders      woke      up      one  \\n \\n  morning      and      said      ,\"Oh,      we\\\\\\\\\\\\\\'re      going      to      build   \\n \\na      hundred      product      company      off      the      goal     .\"\\nThey      couldn\\\\\\\\\\\\\\'t      do      that  \\n \\n.      The      reality      is      what  \\n \\n  |      find      so      fascinating      about      Baba,      and      frankly      ,!\\nadmire      the      company      ,is      they      along      with      Tencent   \\n \\n,      was      the      first      company   \\n \\n_      that  \\n \\n  bridged      what   \\n \\n|      call      the      old      China      and      the      new      China.\\nSo      I\\\\\\\\\\\\\\'ve      been      fortunate      to      be      invested      in      what   \\n \\n|      call      new      Chinese  \\n \\n  companies  \\n \\n.      Whether      it\\\\\\\\\\\\\\'s   \\n \\na      Meituan   \\n \\n,      whether      it\\\\\\\\\\\\\\'s   \\n \\na      ByteDance   \\n \\n,      whether      it\\\\\\\\\\\\\\'s   \\n \\na      Pinduoduo  \\n \\n.      This      is      avery      new      phenomenon’      where  \\n \\n  the      CEOs      were      Western      -educated   \\n \\n,      they      got      there   \\n \\n,      they      used      to      work      in      American      companies      and      they      knew      what      machine  \\n \\n  learning      was      and      they      built      it      more      with      the      Silicon      Valley      ethos  \\n \\n.      Definitely      ,ByteDance      did.\\nBut      Jack      Ma      was   \\n \\na      teacher   \\n \\n,      an  \\n \\n  English      teacher  \\n \\n.      And      so      he      was      the      first      person      in      my      opinion   \\n \\n,      who      fought      against      the      odds      to      create      one      of      the      lasting  \\n \\n  companies      in      what   \\n \\n|      call      Gen      OneWeb      China,      this      was      along      with      Sina      and      Baidu      and      most      of      the      other      companies      outside      of  \\n \\n  Tencent      and      BABA,      they      become      irrelevant      right      now,      they\\\\\\\\\\\\\\'ve      already      been      disrupted   \\n \\n,      yet      BABA      kept      evolving      itself  \\n \\n.      So,      let\\\\\\\\\\\\\\'s  \\n \\n  first      start      with      what      happened      at      BABA,      what      did      they      stat      with?', metadata={'bbox': [3.84, 288.31, 572.24, 473.64], 'page_idx': 2, 'level': 1, 'file_path': '/home/jianyang/local-llm/topic-modelling/documents/Alibaba.pdf'}),\n",
       " Document(page_content='Metadata:\\nThe      History      of      Alibaba  >\\nContent:\\n \\n \\n  In      1999   \\n \\n,      BABA      was      acopycat      of      eBay.\\nSo,most      of      BABA\\\\\\\\\\\\\\'searly      products      were      copycatted      products  \\n \\n.      There      was      no      reason      for  \\n \\n  them      to      innovate  \\n \\n.      They      saw      what      was      happening      inthe      USthey      said   \\n \\n,      \"Well,      let\\\\\\\\\\\\\\'s      build      the      same      thing      for      China\"      because      they  \\n \\n  had      the      big      macro      view      inthe      world      that      things      would      go      from      point   \\n \\nA      to      point      B.      So,      they      first      started      with      alibaba     .com   \\n \\n,      which  \\n \\n  is      the      B2B      market      base      to      procure      products      between      merchants      and      suppliers  \\n \\n.      Then      they      started      eBay,      which      was      Taobao      in  \\n \\n  2003  \\n \\n.      Then      they      needed      to      obviously      build      Alipay,      which      was      Alipay      was      the      escrow      mechanism      for      Taobao      merchants  \\n \\n.      Then  \\n \\n  they      built      Tmall      by      2008  \\n \\n.      Tmall      was      the      first      as      they      got      to      scale      became      abranded      business   \\n \\n,      where      Nike      and      Adidas      and      local  \\n \\n  Chinese      brands      would      create      shops      on      Tmall.\\nThen      they      built      Alibaba      Cloud      in      2009      because      they      saw      how      Amazon      would  \\n \\n  take      that      infrastructure      and      give      it      to      the      world.\\nSo,      for      the      longest      time      ,they      were      copycats  \\n \\n.      Remember   \\n \\n,      they      don\\\\\\\\\\\\\\'t      own  \\n \\n  logistics      ,it\\\\\\\\\\\\\\'s      avery      asset      -light      business      that      generates      65%plus      less      EBITDAmargins  \\n \\n.      So,      the      ethos      in      Alibaba      is      all      about  \\n \\n  platform      creation   \\n \\n,      take      friction      to      zero,      create      collective      good      for      everybody      and      let      everybody      benefit      inthe      process      and      be  \\n \\n  the      meta      aggregator      on      top      of      it.\\nSo      then   \\n \\n,      they      layered      on      logistics      and      then      they      lay      out      SaaS      applications  \\n \\n.      Then      they      layered  \\n \\n  on      home      goods      and      food      and      so      on      and      so      forth.', metadata={'bbox': [3.84, 489.48, 571.28, 674.81], 'page_idx': 2, 'level': 1, 'file_path': '/home/jianyang/local-llm/topic-modelling/documents/Alibaba.pdf'}),\n",
       " Document(page_content='Metadata:\\nThe      History      of      Alibaba  >\\nContent:\\n \\n \\n  The      ethos      in      Alibaba      is      all      about      platform      creation   \\n \\n,      take      friction      to      zero,      create      collective      good      for      everybody and let everybody benefit in the process and be the meta aggregator on top of itSo, the story of Alibaba is not  \\n \\n  one      waking      up      in      1999      and      imagining      this      BMOto      be      built.\\nThe      ethos      really      is,      \"Let\\\\\\\\\\\\\\'s      reduce      friction      to      the  \\n \\n  maximum      degree      we      can      and   \\n \\n|      love      everybody      to      enter      the      ecosystem      and      then      create      an      option      ””', metadata={'bbox': [34.08, 690.65, 541.51, 749.94], 'page_idx': 2, 'level': 1, 'file_path': '/home/jianyang/local-llm/topic-modelling/documents/Alibaba.pdf'}),\n",
       " Document(page_content='Metadata:\\nThe      History      of      Alibaba  >\\nContent:\\n \\n \\n  So,      the      story      of      Alibaba      is      not      one      waking      up      in      1999      and      imagining      this      BMOto      be      built.\\nThe      ethos      really      is,      \"Let\\\\\\\\\\\\\\'s      reduce  \\n \\n  friction      to      the      maximum      degree      we      can      and   \\n \\n|      love      everybody      to      enter      the      ecosysten      and      then      create      an      option     .\"\\nThat\\\\\\\\\\\\\\'s      the  \\n \\n  ethos      of      Alibaba      on      almost      everything  \\n \\n.      So      if      you      had      that      ethos   \\n \\n,      and      if      you      think      about      how      Alibaba      was      built      with      20      co-  \\n \\n  founders  \\n \\n.      Now,      it      is      to      Masa\\\\\\\\\\\\\\'s      son\\\\\\\\\\\\\\'s      credit      that      he      saw      the      genius      in      Jack      Ma,      and      frankly,      Alibaba      is   \\n \\na      big      part      of      Soul      fans\\\\\\\\\\\\\\'      value      creation  \\n \\n.      Now      that\\\\\\\\\\\\\\'s      exceptional      but      if   \\n \\n|      was      as      an      investor      back      inthe      day,      if      |\\\\\\\\\\\\\\'velooked      outside      in,!\\ncould      not      have  \\n \\n  understood      what      Alibaba      did.\\nIt      doesn\\\\\\\\\\\\\\'t      make      sense      because      it      breaks      every      rule      of      the      way      Western      companies      operate  \\n \\n.      So,  \\n \\n  when      it      comes      to      this      long      data      of      consumers      in      China,      Alibaba      was      the      perfect      framework      to      tap      into      all      of      China.\\nWhy?\\n \\n \\n  Because      let\\\\\\\\\\\\\\'s      talk      about      92%of      the      people      living      in      tier      two      to      tier      six      cities   \\n \\n,      the      700      plus      cities      in      China      that      most      people  \\n \\n  haven\\\\\\\\\\\\\\'t      heard      of.\\nWell,      if      you      had      to      build      all      the      infrastructure      via      first-party   \\n \\n,      put      out      your      own      warehouses,      put      your      own      kind  \\n \\n  of      supply      chains   \\n \\n,      put      your      own      last      -mile      delivery      networks      ,are      impossible      and      capital      intensive      tasks   \\n \\n,      you      need      infinite      capital  \\n \\n  for      that  \\n \\n.      But      if      you      created      anetwork      of      local      suppliers      and      connected      them      up      vialogic      and      software   \\n \\n,      which      was      the      Cainiao  \\n \\n  network      did,      well,      then      you      have      something  \\n \\n.      Now      what      is      even      more      interesting      is,as      you      build      this      web      of      the      depth      of  \\n \\n  merchants      ,aS      new      merchants      came      on,      they      went      to      Alibaba      first      to      sell      their      wares     .', metadata={'bbox': [3.36, 765.55, 565.28, 809.0], 'page_idx': 2, 'level': 1, 'file_path': '/home/jianyang/local-llm/topic-modelling/documents/Alibaba.pdf'}),\n",
       " Document(page_content='Metadata:\\nThe      History      of      Alibaba  >\\nContent:\\n \\n \\n  So      in      the      beginning   \\n \\n,      you      had      an      offline      merchant      who      said      ,\"Okay,I      need      an      online      presence      then      let      me      be      asdler      on      Taobao   \\n \\n|       But      over      time   \\n \\n,      what      happened   \\n \\n?      Hundreds      of      thousands      of      micro      -entrepreneurs      who      also      wanted      to      sell      either      aservice      ora  \\n \\n  product      or   \\n \\na      brand      ,instead      of      opening      their      shop      inastreet      in      atier      four      city      went      direct      to      Alibaba      and      started      selling      their  \\n \\n  products  \\n \\n.      Now      it\\\\\\\\\\\\\\'s      funny   \\n \\n,      right   \\n \\n?      That      was      when   \\n \\n|      think      that      in      the      Western      world      right      now,we\\\\\\\\\\\\\\'re      now      copycatting      Alibaba.\\n \\n \\n  What      do      you      think      Shopify      is?\\nShopify      gives      millions   \\n \\n,      hopefully   \\n \\n,      millions      of      consumers   \\n \\n,      the      chance      to      build      their      own  \\n \\n  storefronts      online      virtually      give      the      tools      to      make      them      successful     .So,Alibaba   \\n \\n|      would      argue      was      the      origin      of      Shopify  \\n \\n.      And  \\n \\n  what      is      Shopify      doing   \\n \\n?      They      are      turning      on      Shopify      Pay      because      they      want      their      own      internal      ecosystem   \\n \\n_      to      allow      transactions  \\n \\n  to      be      done      within      merchants      and      consumers.\\n \\n \\n.      Now,      Shopify      is      building      up      third-party      warehouses      ,which      sounds      alot      like  \\n \\n  Cainiao      to      me.\\nSo,      it\\\\\\\\\\\\\\'s      funny   \\n \\n,      right   \\n \\n?      The      copier      has      clearly      in      my      opinion   \\n \\n,      become      the      innovator      and      that\\\\\\\\\\\\\\'s      how      they      reach      1.7  \\n \\n  billion      people      in      China,      not      by      building      everything      full      stack      because      remember   \\n \\n,      today      we      are      inaworld      where      capital      is  \\n \\n  effectively      free      and      capital      is      infinite,      but      this      is   \\n \\na      point      in      time,      the      capital      was      always      scarce      and      Alibaba      Group      at      atime  \\n \\n  when      the      capital      was      scarce      ,so      they      built      an      empire      by      forging      alliances     .', metadata={'bbox': [3.84, 185.81, 582.32, 371.13], 'page_idx': 3, 'level': 1, 'file_path': '/home/jianyang/local-llm/topic-modelling/documents/Alibaba.pdf'}),\n",
       " Document(page_content=\"Metadata:\\nThe      Logistics      Business  >\\nContent:\\n \\n \\n  Claire:      [00:18:15]      You      just      referenced      something      there      in      Cainiao,      their      logistics      firm      that      they      launched      but      then      they\\\\\\\\\\\\'re      also  \\n \\n  an      investor      in      other      third      party      logistics   \\n \\n,      3PL      groups.\\nItreally      does      change      the      physical      infrastructure      of      cities      of      China.\\nDid  \\n \\n  they      look      at      that      access   \\n \\n,      that      physical      access      as      part      of      their      moat      ?\", metadata={'bbox': [3.84, 458.99, 568.64, 502.44], 'page_idx': 3, 'level': 1, 'file_path': '/home/jianyang/local-llm/topic-modelling/documents/Alibaba.pdf'}),\n",
       " Document(page_content=\"Metadata:\\nThe      Logistics      Business  >\\nContent:\\n \\n \\n  [00      :18      :37]      Every      business      eventually      Claire,|      think      becomes      an      omnichannel      business  \\n \\n.      There\\\\\\\\\\\\'s      nothing      called   \\n \\na      pure  \\n \\n  digital      business      anywhere      inthe      world      anymore      when      you      achieve      some      scale  \\n \\n.      So,if      you      take      the      example      of      food      delivery      in  \\n \\n  America   \\n \\n,      well,      you      started      with      pure      marketplaces  \\n \\n.      Eventually   \\n \\n,      you\\\\\\\\\\\\'ve      got      to      also      build      logistics      and      build   \\n \\na      full-stack      solution  \\n \\n.   \\n \\n|       think      it\\\\\\\\\\\\'s   \\n \\na      very      healthy      interplay     .A      few      years      after      Alibaba      was      started      ,that      came      about   \\n \\na      full-stack      solution      company      called  \\n \\n  JD,which      is      also      aphenomenal      company      in      China.\\nAnd      JD\\\\\\\\\\\\'s      entire      stake      as      well,      your      third-party      tower      marketplace      does      not  \\n \\n  really      stand      for      trust      and      quality  \\n \\n.      Well,      let      me      build   \\n \\na      first-party      business      to      compete      with      you      and   \\n \\n|      will      own      the      entire      logistic  \\n \\n  stack      because      the      team      was   \\n \\n,      Okay      well,if      an      e-commerce      company      wins      on      price,      selection      ,and      most      importantly  \\n \\n  convenience      ,well,how      can      Cainiao      with      this      hodgepodge      collection      of      thousands      of      logistics      supplies      around      the      world  \\n \\n  promise      two      to      three      -day      or      four-day      delivery   \\n \\n?      But      JD      could      because      the      logistics      were      in      their      own      hands   \\n \\n,      which      means   \\n \\n_      they  \\n \\n  obviously      had      to      go      to      higher      AOV      products      and      higher      -margin      products      at      the      beginning   \\n \\n,      which      means      that      categories      were  \\n \\n  restricted      at      the      beginning      to      typically      electronics      and      appared     .\", metadata={'bbox': [3.84, 518.29, 582.8, 687.77], 'page_idx': 3, 'level': 1, 'file_path': '/home/jianyang/local-llm/topic-modelling/documents/Alibaba.pdf'}),\n",
       " Document(page_content='Metadata:\\nThe      Logistics      Business  >\\nContent:\\n \\n \\n  But      if      you      have      that      hodgepodge      layer      of      acollection      of      the      long      tail      of      suppliers      in      terms      of      logistics   \\n \\n,      it\\\\\\\\\\\\\\'s      only   \\n \\na      question      of  \\n \\n  how      deeply      do      you      utilize      the      network   \\n \\n?      You      can      throw      the      long      tail      of      categories      on      it.\\nAnd      they      were      also      lucky      at   \\n \\na      point      in  \\n \\n  time      that      inthe      early      2000s      ,the      Chinese      consumer      arguably      was      not      discerning      about      expecting      stuff      at      her      doorstep      inone  \\n \\n  day      or      six      hours      or      four      hours  \\n \\n.      Alibaba\\\\\\\\\\\\\\'s      genius      is      inthe      execution      of      taking      that      typical      seven      -day      inthe      early      days   \\n \\n,      seven      to  \\n \\n  10-day      transportation      to      delivery      to      home      experience      to      now      six      days      by      constant  \\n \\n.      And      again   \\n \\n,      it\\\\\\\\\\\\\\'s      all      about      densification  \\n \\n  Initially,      you      have      people      who      ship      from,      let\\\\\\\\\\\\\\'s      say      Beijing      to      Qingdao      for      example      ,now      over      time      you      have      two      or      three  \\n \\n  suppliers      who      deliver      within,   \\n \\n|      don\\\\\\\\\\\\\\'t      know   \\n \\n,      400      meters      to      where      you      are.\\nSo,      this      is      about      densification      and      that\\\\\\\\\\\\\\'s   \\n \\na      layered  \\n \\n  Cainiao      approach     .What      happened      over      time      is      because      they      don\\\\\\\\\\\\\\'t      own      the      actual      physical      suppliers      ,the      smart      thing      to      do  \\n \\n  was      take      equity      stakes      inabunch      of      these      companies     .So      then   \\n \\n,      because      you      own      equity      stakes      in      those      companies   \\n \\n,      maybe  \\n \\n  you      have      ashot      at      getting      preferred      capacity      from      those      service      providers  \\n \\n.      So,      while      JD      builds      JD      Logistics      astandalone   \\n \\n_      high-  \\n \\n  quality   \\n \\n,      self      -contained      ecosystem      for      itself   \\n \\n,      this      was      Alibaba\\\\\\\\\\\\\\'s      hack      ,\"Let\\\\\\\\\\\\\\'s      build   \\n \\na      software      layered      on      top      of      all      these      suppliers  \\n \\n  of      delivery      systems      and      then      let\\\\\\\\\\\\\\'s      put      equity      stakes      in      every      one      of      them      so      we      have      soft      control      on      them     .\"\\nWhat      is      amazing  \\n \\n  about      Alibaba      is      because      they      grew      up      inan      environment      of      frugality      and      they      grew      up      inan      environment      where      nothing      was  \\n \\n  given      to      them   \\n \\n,      they      always      had      their      hack      their      way      into      scale      be      an      asset      -light      methodology  \\n \\n.      That   \\n \\n|      think      what\\\\\\\\\\\\\\'s      special      about  \\n \\n  Alibaba   \\n \\n,      nothing      was      given      to      them   \\n \\n,      they      could      take      nothing      for      granted     .', metadata={'bbox': [3.84, 703.62, 566.96, 809.96], 'page_idx': 3, 'level': 1, 'file_path': '/home/jianyang/local-llm/topic-modelling/documents/Alibaba.pdf'}),\n",
       " Document(page_content=\"Metadata:\\nThe      Logistics      Business  >\\nContent:\\n \\n \\n  What      is      amazing      about      Alibaba      is      because      they      grew      up      inan      environment      of      frugality      and      they      grew      up      in      an  \\n \\n  environment      where      nothing      was      given      to      them,      they      always      had      their      hack      their      way      into      scale      be      an      asset      -light  \\n \\n  methodology  \\n \\n.      That   \\n \\n|      think      what\\\\\\\\\\\\'s      special      about      Alibaba,      nothing      was      given      to      them,      they      could      take      nothing      for  \\n \\n  granted     .\", metadata={'bbox': [33.84, 154.36, 537.67, 213.65], 'page_idx': 4, 'level': 1, 'file_path': '/home/jianyang/local-llm/topic-modelling/documents/Alibaba.pdf'}),\n",
       " Document(page_content=\"Metadata:\\nThe      E-Commerce      Landscape      in      China  >\\nContent:\\n \\n \\n  Patrick   \\n \\n:      [00:21:46]      It      seems      like      one      of      the      most      interesting      modern      trends      amidst      the,   \\n \\nI      don\\\\\\\\\\\\'t      know,      whatever      generation  \\n \\n  you      want      to      call      it,      the      ByteDances      of      the      world,      the      Pinduoduos      of      the      world,      that      the      pressure      on      the      core      e-commerce  \\n \\n  business   \\n \\n,      obviously      it\\\\\\\\\\\\'sstill      massive   \\n \\n,      but      there      are      other      players      inthe      ecosystem      now      that      really      matters      that      have      some  \\n \\n  real      market      share.\\n \\n \\n|      think      Pinduoduo      in      particular      has      incredible      numbers  \\n \\n.      What      are      your      observations      of      just      like      the      right  \\n \\n  or      most      interesting      business      models      to      monetize      commerce      generally      in      China,      where      if      they\\\\\\\\\\\\'re      Google   \\n \\n,      not      Amazon   \\n \\n,      they\\\\\\\\\\\\'re  \\n \\n  monetizing      through      advertising   \\n \\n?      Just      talk      us      through      like      watching      that      development      and      what      the      ecosystem      looks      like  \\n \\n  today      and      what      companies      are      now      relevant      in      that      core      base      of      Alibaba      that      commerce      center      ?\", metadata={'bbox': [3.84, 301.52, 555.19, 407.86], 'page_idx': 4, 'level': 1, 'file_path': '/home/jianyang/local-llm/topic-modelling/documents/Alibaba.pdf'}),\n",
       " Document(page_content=\"Metadata:\\nThe      E-Commerce      Landscape      in      China  >\\nContent:\\n \\n \\n  [00      :22      :28]      There      are      three      companies      that      are      relevant      for      e-commerce      in      China.\\nThere      is      JD,      which   \\n \\n|      think      is   \\n \\na      full-stack  \\n \\n  first-party      ,most      Amazon      -like      business     .So,JD      would      always      call      itself      the      Amazon      of      China,      though   \\n \\n|      would      argue      when      it  \\n \\n  comes      to      atechnology      backbone      and      technology      infrastructure      ,they      are      quite      poor      compared      to      Amazon  \\n \\n.      And      Alibaba      is  \\n \\n  much      more   \\n \\n,      again      ,more      technologically      superior      to      JD      than      JD      clams      to      be.\\nThe      company   \\n \\n|      am      most      excited      about      and      I\\\\\\\\\\\\'ve  \\n \\n  been      invested      in      them   \\n \\n,      luckily      for      along      time,is      Pinduoduo  \\n \\n.      But      Pinduoduo      again      is      an      advertising      mode   \\n \\n,      it\\\\\\\\\\\\'s      not   \\n \\na      commerce  \\n \\n  model  \\n \\n.      Pinduoduo      and      Alibaba      are      the      same      and      Pinduoduo      is      just      anew      version      of      Alibaba,      equally      aggressive      if      not      more,a  \\n \\n  technical      whatever      itis,      batshit      crazy      in      how      they      execute      stuff  \\n \\n.      It\\\\\\\\\\\\'s      areally      impressive      company     .Itis      nuts      how      they      execute  \\n \\n  against     .|      think      they      have      to      do      it      because      you\\\\\\\\\\\\'ve      got      to      understand      ,the      competitive      intensity      in      China      puts      us      to      shame      in      this  \\n \\n  country  \\n \\n.      It      is      1000      times      more      competitive      in      China      to      do      anything  \\n \\n.      So,      the      question      to      ask      is      how      does      aPinduoduo      emerge  \\n \\n  under      the      shadow      of      Alibaba      ?How      does   \\n \\na      ByteDance      emerge      from      the      shadow      of      aTencent   \\n \\n?      And      Tencent      and      Alibaba      are      no  \\n \\n  slouches  \\n \\n.      When      they      see      competition   \\n \\n,      they      try      every      attenpt      to      squash      the      competition  \\n \\n.      It\\\\\\\\\\\\'s      just      the      way      these      companies      are  \\n \\n  built.\\nIf      you      had      to      talk      about      the      competitive      landscape      that      is      Pinduoduo   \\n \\n,      Alibaba      ,and      JD      and      then      you\\\\\\\\\\\\'ve      got      alonger      tail      of  \\n \\n  smaller      companies      like      Vipshop      but      they\\\\\\\\\\\\'re      not      that      relevant      right      now.      I\\\\\\\\\\\\'m      pretty      confident      there\\\\\\\\\\\\'ll      be      other      upstarts      that      come  \\n \\n  over      time.\\nAnd   \\n \\n|      would      also      put      Meituan      inthe      mix      and      I\\\\\\\\\\\\'ll      tell      you      why   \\n \\n|      put      Meituan      inthe      mix.\\nSo,      people      talk      about  \\n \\n  competition      as      abit      of   \\n \\na      bad      thing     .|      think      competition      is      awonderful      thing.\\nNumber      two      is,      think      about      the      market      share  \\n \\n  Alibaba      had      in      China.\\nAt      one      point      in      2015   \\n \\n,      they      were      80%of      all      had      in      China.\\nAt      one      point      in      2015   \\n \\n,      they      were      80%of      dll      e-  \\n \\n  commerce      in      China.\\nThat      doesn\\\\\\\\\\\\'t      make      sense  \\n \\n.      You      can      never      have      an      80%market      in      e-commerce      ,ever.\\nLook      at      America  \\n \\n.      Even  \\n \\n  Walmart      at      its      peak      had      15%of      the      market      share  \\n \\n.      You      just      can\\\\\\\\\\\\'t      have      it.\\nIt\\\\\\\\\\\\'s      not      healthy  \\n \\n.      It      doesn\\\\\\\\\\\\'t      make      sense  \\n \\n.      But      just  \\n \\n  because      you      lose      market      share      doesn\\\\\\\\\\\\'t      mean      that      the      company      is      losing      relevance  \\n \\n.      Infact      ,Amazon      loses      market      share      to  \\n \\n  Wayfair,and      other      companies      growing      even      faster      than      Amazon  \\n \\n.      It      doesn\\\\\\\\\\\\'t      mean      Amazon      is      losing      relevance      inthe      country  \\n \\n.       So,      looking      at      market      share      on      astandalone      basis      ,in      my      opinion   \\n \\n,      is      not      the      right      way      to      look      at      e-commerce      companies  \\n \\n.      It\\\\\\\\\\\\'s  \\n \\n  about      how      many      incremental      dollars      you      collect      ,and      how      big      do      you      get      over      scale      ,and      how      many      dollars      can      you      create  \\n \\n  when      you\\\\\\\\\\\\'re      at      scale      ,interms      of      EBITDA,      to      apply      to      other      products      to      further      strengthen      your      competitive      mode     .\", metadata={'bbox': [3.84, 423.71, 576.32, 782.3499999999999], 'page_idx': 4, 'level': 1, 'file_path': '/home/jianyang/local-llm/topic-modelling/documents/Alibaba.pdf'}),\n",
       " Document(page_content=\"Metadata:\\nSource      :      WSJ  >\\nContent:\\n \\n \\n  To      level      -set   \\n \\n,      everybody      attacks      Alibaba      ina      different      way.\\nWhen      you      are      the      biggest   \\n \\n,      baddest      person      in      town,      everyone\\\\\\\\\\\\'s  \\n \\n  gunning      for      you      in      one      way      or      the      other  \\n \\n.      So      competition      initself      doesn\\\\\\\\\\\\'t      really      worry      me.\\nThe      question      is      how      do      you      execute   \\n \\n?       Because      Alibaba      is      an      aggressive      company      ,was      an      aggressive      company  \\n \\n.      It\\\\\\\\\\\\'s      just      part      of      their      DNA.\\nOne,      you      just      need      an      even  \\n \\n  more      aggressive      competitor      ,like      Pinduoduo      who      will      not      take      no      for      an      answer  \\n \\n.      Second      is      in      China,      what      I\\\\\\\\\\\\'ve      observed      over  \\n \\n  years      is      this      is      all      about   \\n \\na      battle      for      the      relevance      of      user      mind      share  \\n \\n.      China      is   \\n \\na      battle      for      user      mind      share  \\n \\n.      So      number      one.\\nSo  \\n \\n  anybody      who      has      aproduct      that      can      vitally      grow      and      gain      you      some      market      share      maybe      has      achance      of      scaling      abusiness  \\n \\n.       What      did      JD      do?\\nJD      just      said      were      going      to      focus      on      the      bigger      cities  \\n \\n.      We\\\\\\\\\\\\'re      going      to      build      full      logistics  \\n \\n.      Were      going      to      stand  \\n \\n  for      trust      and      quality      ,and      were      going      to      be      the      offline      retailer  \\n \\n.      Very      understandable      business      mode  \\n \\n.      Our      gross      margins      are  \\n \\n  going      to      be      lower.\\nWe      probably      will      be      cyclical      in      nature  \\n \\n.      We      won\\\\\\\\\\\\'t      offer      all      categories  \\n \\n.      And      our      scale      of      users      will      be      lower  \\n \\n  than      Alibaba   \\n \\n,      but      that\\\\\\\\\\\\'s      fine      with      us.\", metadata={'bbox': [3.84, 347.37, 581.84, 501.24], 'page_idx': 5, 'level': 1, 'file_path': '/home/jianyang/local-llm/topic-modelling/documents/Alibaba.pdf'}),\n",
       " Document(page_content=\"Metadata:\\nSource      :      WSJ  >\\nContent:\\n \\n \\n  Pinduoduo      took      avery      different      approach      to      business      building  \\n \\n.      They      bought      agamified      business      model   \\n \\n,      which      basically  \\n \\n  offered      products      for      very,      very,      very      cheap  \\n \\n.      Again,      this      is      back      to      reducing      friction      for      the      user  \\n \\n.      Alibaba\\\\\\\\\\\\'s      scale   \\n \\n,      and      Patrick   \\n \\n,       we\\\\\\\\\\\\'ve      talked      about      it      before      inaprevious      podcast   \\n \\n,      but      reducing      friction      is      probably      the      number      one      reason      for      internet  \\n \\n  businesses      to      scale  \\n \\n.      So      let\\\\\\\\\\\\'s      talk      about      that  \\n \\n.      Alibaba      built      Taobao      on      the      back      of      aggregating      hundreds      of      thousands      of  \\n \\n  millions      of      small      merchants   \\n \\n,      existing      and      new,      by      taking      costs      to      zero.\\neBay      was      in      China      when      Alibaba      was      born,      and      eBay,      by  \\n \\n  the      time      decisions      got      routed      viatelegram      between      the      Bay      area      and      Bajing,it      was      game      over.\\nThis      is      aso      why      Amazon      had  \\n \\n  to      eat      humble      pie      in      China.\\nChinese      competitors      run      circles      around      American      companies     .So      American      companies      are      much  \\n \\n  better      off      working      with      them      than      working      against      them     .So,number      one.\\nNumber      two      is      you      take      friction      to      zero.\\nSo      what      did  \\n \\n  Pinduoduo      do?\\nThey      took      prices      to      zero,      effectively      ,by      giving      very      cheap      prices      to      consumers  \\n \\n.      How      did      they      finance      those  \\n \\n  prices   \\n \\n?      The      hack      that      they      used      was      they      procured      directly      from      the      manufacturer      or      from   \\n \\na      distributor  \\n \\n.      So      the      key      inside      of  \\n \\n  Pinduoduo      is      inacountry      where   \\n \\n,      between      manufacturing      and      aretal      store      ,or      aretail      store      online,      there      are      multiple      levds      of  \\n \\n  distributors  \\n \\n.      Wholesalers   \\n \\n,      city      distributors   \\n \\n,      county      distributors  \\n \\n.      Well,      what      if      you      collapse      all      that   \\n \\n?      One,      you      get      your      prices      are  \\n \\n  much      lower.\\nAnd      two,      manufacturers      just      want      to      move      large      volumes  \\n \\n.      So      if      you      aggregate      them      viaagamified      front      end,      like  \\n \\n  a      Groupon      inmany      ways,      well,      you      could      build   \\n \\na      business      mode      around      that.\", metadata={'bbox': [3.84, 516.85, 577.76, 733.86], 'page_idx': 5, 'level': 1, 'file_path': '/home/jianyang/local-llm/topic-modelling/documents/Alibaba.pdf'}),\n",
       " Document(page_content=\"Metadata:\\nSource      :      WSJ  >\\nContent:\\n \\n \\n  So      Pinduoduo   \\n \\n,      it\\\\\\\\\\\\'s      all      about      consumer      mind      share      and      user      time.\\nSo      they      scaled      their      user      base  \\n \\n.      And      in      fact   \\n \\n,   \\n \\n|      still      remember the way Pinduoduo went public ,it was inthe shadow of darkness.\\nThey filed on the 4th of July,and many people the  \\n \\n  common      refrain      in      America      was      this      is      some      pump      and      dump      Chinese      fraud.\\nIt      could      not      be      more      different      than      the      truth.\\nWe,  \\n \\n  inthe      Western      world,      often      don\\\\\\\\\\\\'t      understand      the      games      and      wars      that      Chinese      companies      have      to      play      inorder      to      survive  \\n \\n  we      can      think      something      different  \\n \\n.      But      my      point      is,      it\\\\\\\\\\\\'s      all      about      aquest      for      user      mind      share  \\n \\n.      So      Pinduoduo      built      that  \\n \\n.      And      then  \\n \\n  once      they      did      that   \\n \\n,      they      are      some      of      the      best      execution      people      inthe      world.\\nPeriod  \\n \\n.      So      they      were      able      to      go      build      it      that      out.\\n \\n \\n  They      got      to      scale  \\n \\n.      Now      they      are      600,      700      million      people      in      active      buyers  \\n \\n.      Now      they\\\\\\\\\\\\'ll      increase      the      categories  \\n \\n.      And   \\n \\n|      would argue that Pinduoduo benefited from all the infrastructure that Alibaba built out for them.\\nAlibaba trained For 20 years , they  \\n \\n  trained      merchants      to      have      amazing      tools      and      put      them      on      these      systems      first.\\nThey      educated      two      generations      of      merchants  \\n \\n  And      now   \\n \\n,      those      merchants      just      sav      anew      channel      called      Pinduoduo      ,and      just      jumped      onto      it.\", metadata={'bbox': [3.84, 749.47, 568.64, 808.76], 'page_idx': 5, 'level': 1, 'file_path': '/home/jianyang/local-llm/topic-modelling/documents/Alibaba.pdf'}),\n",
       " Document(page_content=\"Metadata:\\nSource      :      WSJ  >\\nContent:\\n \\n \\n  So      either      of      you,      if      Alibaba      had      not      done      what      they      did      to      educate      acountry      on      e-commerce      ,Pinduoduo      wouldn\\\\\\\\\\\\'t      exist  \\n \\n.      Of  \\n \\n  course   \\n \\n,      the      vagaries      of      nature      as      such      that      Pinduoduo      now      is      areal      competitor      of      Alibaba.\\nNow,      this      discussion      can      not      end  \\n \\n  without   \\n \\na      discussion      on      Meituan      which      is      one      of      my      favorite      companies      inthe      world.\\nMeituan      is      alot      like      JD.\\nIt      is      full-stack food delivery first.\\nBut then over time, what has happened is They started with the food delivery and excellent scale and  \\n \\n  performance      and      execution      over      years  \\n \\n.      But      then      they      got      into      accommodations      and      hotels   \\n \\n,      and      they      had      some      ,|      argue   \\n \\n,      some  \\n \\n  success      there   \\n \\n,      but      not      much  \\n \\n.      Where      theres      ahuge      success      and      where      there\\\\\\\\\\\\'s      the      potential      disruption      to      the      Alibaba      model  \\n \\n  now      is      the      same      phenomenon’      we\\\\\\\\\\\\'re      seeing      in      America      right      now.      See,      Amazon      was      the      alpha      predator      in      America      when      it  \\n \\n  came      to      e-commerce  \\n \\n.      They      did      it      on      the      back      of      price,      selection      ,and      convenience     .Wecan      get      almost      80%of      what      we      want  \\n \\n  within      two      days      in      America      ,from      Amazon  \\n \\n.      Now      DoorDash      comes      along      ,Instacart      comes      around      and      says   \\n \\n,      I\\\\\\\\\\\\'ll      get      you      the  \\n \\n  same      thing      by      aggregating      the      existing      retailers      in      America      and      bring      it      to      you      in      three      hours  \\n \\n.      How      does      Amazon      compete      with  \\n \\n  that   \\n \\n?      So      this      is      what      Meituan      one      does      in      China.\\nOver      time,      the      biggest      trend      in      China      right      now      is      this      thing      called      community  \\n \\n  group      buying   \\n \\n,      around      food  \\n \\n.      Everyone      wants      fresh      food   \\n \\n,      especially      the      pandemic   \\n \\n,      delivered      to      their      homes  \\n \\n.      And      everyone      has   \\n \\na       version      of      it.\\nMeituan      has      aversion      of      it.\\nPinduoduo      going      to      do      itinsize.\\nAlibaba      obviously      is      fighting      back      and      figuring      its  \\n \\n  own      strategy      out,and      DiDiis      getting      into      it.\\nBut   \\n \\n|      think      Baba      will      get      there      as      well      intheir      own      two-hour      delivery      strategies     .\", metadata={'bbox': [3.84, 138.51, 579.68, 355.29], 'page_idx': 6, 'level': 1, 'file_path': '/home/jianyang/local-llm/topic-modelling/documents/Alibaba.pdf'}),\n",
       " Document(page_content=\"Metadata:\\nSource      :      WSJ  >\\nContent:\\n \\n \\n  Claire:      [00:31:12]      The      Pinduoduo      example   \\n \\n,      because      it\\\\\\\\\\\\'sreally      pushing      into      not      just      group      buying,      but      also      the      social      and      the  \\n \\n  gaming      aspect      that      were      seeing      in      other      different      companies      and      strategies      within      China,      is      it   \\n \\na      bit      like      Twitter      and  \\n \\n  Clubhouse   \\n \\n?      Twitter      is   \\n \\na      big      ecosystem   \\n \\n_     .It\\\\\\\\\\\\'sthe      home      page      for      many      people\\\\\\\\\\\\'s      internet      and      mobile      experience  \\n \\n.      And      then  \\n \\n  Clubhouse      rolls      out      and      captures      this      zeitgeist   \\n \\n,      but      then      Twitter      has      spaces  \\n \\n.      And      so      there\\\\\\\\\\\\'s      almost      this      threat      of   \\n \\n,      we      could  \\n \\n  do      that   \\n \\n,      and      we      can      push      into      it.\\nAnd      if      we      do,      then      we\\\\\\\\\\\\'ve      got   \\n \\na      bigger      moat      to      begin      with.\\nIs      that      an      analog      or      is      that      off?\", metadata={'bbox': [4.08, 371.13, 567.68, 446.03], 'page_idx': 6, 'level': 1, 'file_path': '/home/jianyang/local-llm/topic-modelling/documents/Alibaba.pdf'}),\n",
       " Document(page_content=\"Metadata:\\nSource      :      WSJ  >\\nContent:\\n[00:31:51] It is somewhat of an analog.\\nThe hope and expectation Ihave is because Alibaba is good at executing  \\n \\n  listen   \\n \\n,      innovation      is      not      the      purview      or      the      sole      privilege      of      large      companies  \\n \\n.      Infact      ,the      farther      away      from      them      you      are,      the  \\n \\n  more      innovative      you      have      to      be      for   \\n \\na      survival      perspective     .So,Meituan      comes      up      with      this      community      group      buying      strategy  \\n \\n  and      it      works  \\n \\n.      Our      expectation      is      Alibaba      will      actually      just      copy      it      and      do      an      equally      good      job      and      provide      the      same      service      level  \\n \\n  and      quality      for      its      800      million      users  \\n \\n.      The      Clubhouse      /Twitter      example      ,!\\nwould      argue   \\n \\n,      it\\\\\\\\\\\\'s   \\n \\na      little      different  \\n \\n.      We\\\\\\\\\\\\'ve      seen      many avatars of that in the past.\\nWe\\\\\\\\\\\\'ve seen So Twitter bought way back inthe day, but they ultimately put the kibosh on that.\\n \\n \\n  Before      we      had      Clubhouse      ,we      had      Houseparty   \\n \\n,      which      was      extremely      viral      in      nature   \\n \\n,      which      was      an      amazing      product  \\n \\n.      We      now  \\n \\n  have      interesting      companies      in      Cameo      and      Patreon  \\n \\n.      And      so      far,      what      I\\\\\\\\\\\\'ve      observed      is      Twitter      did      not      copy      fast  \\n \\n.      Facebook  \\n \\n  copied      incredibly      fast  \\n \\n.      Snapchat      innovates      and      Facebook      copies  \\n \\n.      That      historically      used      to      be      the      situation  \\n \\n.      And      we      always  \\n \\n  saw      Twitter      would      not      copy      anybody     .\", metadata={'bbox': [4.08, 461.88, 567.92, 615.75], 'page_idx': 6, 'level': 1, 'file_path': '/home/jianyang/local-llm/topic-modelling/documents/Alibaba.pdf'}),\n",
       " Document(page_content=\"Metadata:\\nSource      :      WSJ  >\\nContent:\\n \\n \\n  Finally,      Twitter      seems      to      have      got      its      act      together  \\n \\n.      They      finally      seen      to      have      shed      their      technical      debt      ,if      you      watch      the      analyst day promise to double the speed of delivery of products , which is good.\\nSo why Clubhouse is an awesome phenomenon And  \\n \\n  it\\\\\\\\\\\\'s   \\n \\na      phenomenon   \\n \\n_      if      you\\\\\\\\\\\\'ve      been      on      it.!\\nwould      argue      that      Twitter      understands      that      they      have      to      copy      and      copy      fast   \\n \\n,      else      they  \\n \\n  themselves      are      standing      inthe      battle      of      irrelevance      at      some      point      intime,      but   \\n \\n|      suspect      that      Twitter      will      do   \\n \\na      good      job.      So   \\n \\n|       think      the      analogy      is      reasonable   \\n \\n,      Claire.\\nAlibaba      has      just      shown      ahistory      of      executing   \\n \\n,      both      innovating      on      its      own      or      copying  \\n \\n  competitors      or      quashing      competitors     .Wehave      abunch      of      techniques      that      got      them      into      trouble      recently   \\n \\n,      but      they      are      an  \\n \\n  incredibly      aggressive      organization      inalmost      everything      they      do.\\nOne      thing      they      may      not      have      done      very      well      is      buying      stuff  \\n \\n  and      then      investing      outside      the      country  \\n \\n.      That      seems      to      be      questionable      to      me      as      well.\", metadata={'bbox': [3.84, 631.36, 570.08, 753.79], 'page_idx': 6, 'level': 1, 'file_path': '/home/jianyang/local-llm/topic-modelling/documents/Alibaba.pdf'}),\n",
       " Document(page_content=\"Metadata:\\nThe      Competitive      Spirit  >\\nContent:\\n \\n \\n  Patrick   \\n \\n:      [00:34:02]   \\n \\n|      have   \\n \\na      question      for      both      of      you      since      you\\\\\\\\\\\\'ve      got      alot      more      experience      in      China      than   \\n \\n|      do.\\nRam,   \\n \\na      couple of times you\\\\\\\\\\\\'ve mentioned this concept of aggression or competition level , or Would quash us in the West if they had the  \\n \\n  opportunity      to      come      compete      against      us.\\nAnd      Claire,      obviously      you\\\\\\\\\\\\'ve      spent      aton      of      time      infront      of      these      businesses   \\n \\n,       working      with      them   \\n \\n,      seeing      them      build.\\nWhat      is      behind      that?\\nBehind      that      word      aggression      and      competition   \\n \\n,      what      specifically  \\n \\n  are      Chinese      companies      doing      differently      and/or      better      that      leads      to      that      competitive      edge   \\n \\n,      that      competitive      spirit,      that  \\n \\n  aggression      ?\", metadata={'bbox': [3.84, 36.97, 562.88, 127.71], 'page_idx': 7, 'level': 1, 'file_path': '/home/jianyang/local-llm/topic-modelling/documents/Alibaba.pdf'}),\n",
       " Document(page_content=\"Metadata:\\nThe      Competitive      Spirit  >\\nContent:\\n \\n \\n  Claire:      [00:34:36]      It\\\\\\\\\\\\'sfunny      because      the      word      aggression      or      winning,      it      almost      sounds      like      this      negative  \\n \\n.   \\n \\n|      take      this      view      that  \\n \\n  it      comes      from      this      strong      sense      of      comradery      and      teamwork      with      your      crew      that\\\\\\\\\\\\'s      going      to      build      something      with      you.\\nJust  \\n \\n  the      language      around      companies   \\n \\n,      whether      it\\\\\\\\\\\\'s      building      engineers      who      arecreating      acleaning      program      to      keep      people      safe  \\n \\n  during      COVID      it\\\\\\\\\\\\'snot      how      do      we      keep      tenants      safe,      it\\\\\\\\\\\\'show      do      we      get      to      victory      over      this      virus?\\nAnd      if      it\\\\\\\\\\\\'s      companies      that  \\n \\n  are      building   \\n \\n,      and      astartup      that\\\\\\\\\\\\'s      getting      started   \\n \\n,      it\\\\\\\\\\\\'show      do      we      get      to      the      top      of      the      mountain      together   \\n \\n?      There      is      this  \\n \\n  language      of      this      heroic      fight      of      creating      something  \\n \\n.      And      so   \\n \\n|      think      there      is      this      surface      understanding      where      people      will      say  \\n \\n  this      all      comes      from      scarcity      and      China\\\\\\\\\\\\'s      economy      is      growing      so      fast  \\n \\n.      And   \\n \\n|      take      this      other      way,      of      this      sense      of      community  \\n \\n  and      winning      and      togetherness  \\n \\n.      Ram,      what      would      you      say      ?\", metadata={'bbox': [3.84, 143.56, 567.68, 265.74], 'page_idx': 7, 'level': 1, 'file_path': '/home/jianyang/local-llm/topic-modelling/documents/Alibaba.pdf'}),\n",
       " Document(page_content=\"Metadata:\\nThe      Competitive      Spirit  >\\nContent:\\n \\n \\n  [00      :35      :35]   \\n \\n|      think      that      is      true.\\n \\n \\n|      think      you\\\\\\\\\\\\'re      exactly      right,      Claire.\\nThat\\\\\\\\\\\\'s      the      way      the      generals      motivate      the      army.\\nBut  \\n \\n  between      the      armies   \\n \\n,      they      hate      each      other  \\n \\n.      So   \\n \\n|      would      argue      that      were      both      correct  \\n \\n.      This      is      the      way      the      common      goal      of  \\n \\n  mission      -oriented      structures      is      from.\\nIt\\\\\\\\\\\\'s      generals      leading      their      troops      to      battles  \\n \\n.      And      this      is      why      in      Alibaba   \\n \\n,      the      sole      leadership  \\n \\n  is      deified  \\n \\n.      They\\\\\\\\\\\\'re      like      the      ancient      heroes     .|      find      it      beautiful  \\n \\n.      It\\\\\\\\\\\\'s      beautifully      seeped      in      old      Chinese      culture  \\n \\n.      It\\\\\\\\\\\\'s      quite      beautiful      ,in  \\n \\n  my      opinion  \\n \\n.      It\\\\\\\\\\\\'s      like      the      general      leading      the      troops      to      battle   \\n \\n,      this      community      and      purpose      of      winning.\\nIt\\\\\\\\\\\\'s      very      meta      in      the      way  \\n \\n  they      think      about      stuff  \\n \\n.      It\\\\\\\\\\\\'s      very      philosophical   \\n \\n,      but      between      armies   \\n \\n,      there      can      be      no      survivors  \\n \\n.      It      is      me      versus      them  \\n \\n.      And      so,|  \\n \\n  actually      think      were      both      correct  \\n \\n.      We\\\\\\\\\\\\'re      just      looking      at      it      in      two      different      ways.\\nBecause      again      ,it\\\\\\\\\\\\'s      just      not      the      scarcity      value,  \\n \\n  but      China,      as   \\n \\na      culture      ,in      my      observation      ,is      extraordinarily      competitive  \\n \\n.      And      again   \\n \\n,      because      the      country      is   \\n \\na      young      country that emerged from relative poverty inarelatively short period of time.\\nUntil the 1990s It\\\\\\\\\\\\'s funny.\\nWe talk about the BRICK  \\n \\n  economies      .1|      grew      up      in      India,      and      I\\\\\\\\\\\\'ve      worked      in      China.\\nAnd      you      go      to      China,      China      shouldn\\\\\\\\\\\\'t      be   \\n \\na      brick      economy  \\n \\n.      That\\\\\\\\\\\\'s      an      old  \\n \\n  term  \\n \\n.      China      is      so      far      ahead   \\n \\n,      it\\\\\\\\\\\\'s      not      even      funny.\\nAnd      so      they      came      to      this      relative      point      of      prosperity      in      30      years  \\n \\n.      That      change      is  \\n \\n  an      aggressive      change     .And      so      many      things      got      upended      inthat      period  \\n \\n.      You      went      from      arelatively      poor   \\n \\n,      socialist      country      to  \\n \\n  what   \\n \\n|      call      the      Chinese      version      of      capitalism      ,with      world-leading      ambitions  \\n \\n.      And      so   \\n \\n|      think      that      is      the      reason      for      we      have      to      win  \\n \\n  at      all      costs      attitude     .\", metadata={'bbox': [3.84, 281.59, 580.88, 498.36], 'page_idx': 7, 'level': 1, 'file_path': '/home/jianyang/local-llm/topic-modelling/documents/Alibaba.pdf'}),\n",
       " Document(page_content=\"Metadata:\\nThe      Competitive      Spirit  >\\nContent:\\n \\n \\n  But      think      about      the      US.\\nTake      Uber      as   \\n \\na      company  \\n \\n.      The      US,      who      take      Uber      as      acompany  \\n \\n.      Right.\\nUber,      well      known      to      be  \\n \\n  incredibly      competitive      in      what      they      do.\\nAmazon      says      something   \\n \\n,      the      world      quakes  \\n \\n.      Right.\\nThey\\\\\\\\\\\\'re      known      for      that      execution  \\n \\n.   \\n \\n|       would      argue      that      for      every      sub      -sector   \\n \\n,      there      are      multiple      competitors      in      China      and      these      waves      of      competitors      keep      coming  \\n \\n.       So      the      incumbents      can      never      rest  \\n \\n.      So      they\\\\\\\\\\\\'re      always      aggressive  \\n \\n.      The      minute      there      is      weakness   \\n \\n_   \\n \\n,      there      is      debt  \\n \\n.      The      minute      that  \\n \\n  people      will      sniff      you      out,      they\\\\\\\\\\\\'ll      kill      you.\\nThis      is      the      way      it      is.\\nRight.\\nAlmost      every      business      sector  \\n \\n.      And      therefore   \\n \\n,      part      of      the      way  \\n \\n  they      have      dealt      with      this      is      companies      that      do      well,      they      have      such      apride      of      execution      speed      and      intensity  \\n \\n.   \\n \\n|      mean   \\n \\n,      there      is  \\n \\n  this      concept      called      996,      which      has      abad      connotation      because      people      die      of      exhaustion      and      of      crazy      hard      work.\\nBut      this  \\n \\n  intensity      of      culture   \\n \\n,      the      intensity      of      work      in      nine      to      nine,      six      days   \\n \\na      week      ,is      just      in-built      in      these      companies      that      we      don\\\\\\\\\\\\'t      see  \\n \\n  that      in      USs      companies  \\n \\n.      Right.\\nAnd      then   \\n \\n,      the      other      piece      is      of      course   \\n \\n,      building      avery      deep      connection      with      local      and      central  \\n \\n  governments  \\n \\n.      That\\\\\\\\\\\\'s      the      third      piece      that   \\n \\n|      don\\\\\\\\\\\\'t      think      people      talk      about      too      much  \\n \\n.      Government      relations      are      so      important      to  \\n \\n  building      great      Chinese      companies  \\n \\n.      And      so,I      think      Claire      is      right,      it\\\\\\\\\\\\'s      not      maybe      ascarcity      mentality  \\n \\n.      And   \\n \\n|      agree      with      her  \\n \\n  completely      it\\\\\\\\\\\\'s      this      mission      to      win.\\nBut      the      only      thing   \\n \\n|      would      argue      is,      think      that\\\\\\\\\\\\'s      the      internal      view,      the      general      leading      his  \\n \\n  troops      to      the      army   \\n \\n,      versus      atake      no      prisoners      attitude     .\", metadata={'bbox': [3.84, 514.21, 576.32, 715.14], 'page_idx': 7, 'level': 1, 'file_path': '/home/jianyang/local-llm/topic-modelling/documents/Alibaba.pdf'}),\n",
       " Document(page_content=\"Metadata:\\nThe      Competitive      Spirit  >\\nContent:\\n \\n \\n \\n|      would      argue      that      for      every      sub-sector   \\n \\n,      there      are      multiple      competitors      in      China      and      these      waves      of      competitors  \\n \\n  keep      coming  \\n \\n.      So      the      incumbents      can      never      rest.\\nSo      they\\\\\\\\\\\\'re      always      aggressive  \\n \\n.      The      minute      there      is      weakness   \\n \\n,       there      is      debt.\\nThe      minute      that      people      will      sniff      you      out,      they\\\\\\\\\\\\'ll      kill      you.\", metadata={'bbox': [33.84, 730.98, 546.31, 774.43], 'page_idx': 7, 'level': 1, 'file_path': '/home/jianyang/local-llm/topic-modelling/documents/Alibaba.pdf'}),\n",
       " Document(page_content=\"Metadata:\\nPortable      Lessons      for      American      Companies  >\\nContent:\\n \\n \\n  Patrick   \\n \\n:      [00      :38      :43]      I\\\\\\\\\\\\'mcurious   \\n \\n,      in      the      West      that      we\\\\\\\\\\\\'ve      got      this      now,      very      mature,      developed      language      for      sources      of  \\n \\n  competitive      advantage      in      Western      companies  \\n \\n.      How      different      is      that      language      for      companies      in      China?\\nSaid      differently   \\n \\n,      the  \\n \\n  seven      powers   \\n \\n,      or      the      five      forces   \\n \\n,      or      whatever      framework      you      want      to      use.\\nDo      you      think,      Ram,      that      it\\\\\\\\\\\\'sthe      same      driving  \\n \\n  factors      that      lead      to      success      and,      or      failure?\\nOr      are      there      more      unique,      relevant      attributes      of      sustainable      competitive  \\n \\n  advantage      in      China      versus      the      West      ?\", metadata={'bbox': [3.84, 70.1, 563.36, 145.23000000000002], 'page_idx': 8, 'level': 1, 'file_path': '/home/jianyang/local-llm/topic-modelling/documents/Alibaba.pdf'}),\n",
       " Document(page_content=\"Metadata:\\nPortable      Lessons      for      American      Companies  >\\nContent:\\n \\n \\n  [00:39:14]      The      seven      powers      framework      ,which   \\n \\n|      follow      somewhat      religiously      ,is      universal      in      nature  \\n \\n.      Right.\\nBut   \\n \\n|      do      think  \\n \\n  the      weighting      of      those      companies      is      different      in      different      countries     .So,if      you      think      about      that      last      piece      of      operational  \\n \\n  process      power   \\n \\n,      that   \\n \\n|      don\\\\\\\\\\\\'t      know      why      Hamilton      put      it      at      the      end.\\n \\n \\n|      think      it\\\\\\\\\\\\'s      one      of      the      most      important      ones     .|      would      argue      that  \\n \\n  a      couple      of      those      have      very      high      weightage      in      China.\\nSo      branding      ,|      don\\\\\\\\\\\\'t      know,      China\\\\\\\\\\\\'s      an      immature      country      still      in      many  \\n \\n  ways.\\nRight.\\nAre      there      any      historical      brands      from      China      that      matter   \\n \\n?      No,      I\\\\\\\\\\\\'m      going      to      argue      there      are      going      to      be      hundreds      of  \\n \\n  new      brands      built      over      the      next      30      to      50      years  \\n \\n.      Right.\\nSo      branding   \\n \\n,      maybe      not      that      much  \\n \\n.      Switching      costs   \\n \\n,      they      make      it      very  \\n \\n  easy      to      switch  \\n \\n.      So,      the      switching      costs      are      not      very      high      across      internet      companies      in      China.\\nBut   \\n \\n|      think      if      theres      one      thing  \\n \\n  that      jumps      out      to      me,scale      economics      really      matters      in      China,      the      first      part      of      Hamilton\\\\\\\\\\\\'s      framework  \\n \\n.      And      then   \\n \\n,      the  \\n \\n  operational      process      cover.\\nSo   \\n \\n|      think      if      you      had      avape      then   \\n \\n,      again      ,|      haven\\\\\\\\\\\\'t      done      the      work,      but   \\n \\n|      suspect      it      would      be      weighted  \\n \\n  differently      in      China      versus      the      US.\\nThe      execution      and      scale      are      the      two      big      things      that      would      jump      out      to      me      in      my  \\n \\n  observation\", metadata={'bbox': [3.84, 161.08, 569.36, 330.56000000000006], 'page_idx': 8, 'level': 1, 'file_path': '/home/jianyang/local-llm/topic-modelling/documents/Alibaba.pdf'}),\n",
       " Document(page_content='Metadata:\\nPortable      Lessons      for      American      Companies  >\\nContent:\\n \\n \\n  Claire:      [00:40:20]      So,      what      do      you      think,      now      that      the      West      has      had      more      time      and      will      have      more      time      to      watch      Alibaba  \\n \\n  grow      and      evolve   \\n \\n?      You      talked      about      this      concept      of      mission      and      the      ethos      between      East      and      West.\\nWhat      can      the      West      learn  \\n \\n  from      Alibaba?', metadata={'bbox': [3.84, 346.17, 555.91, 389.85], 'page_idx': 8, 'level': 1, 'file_path': '/home/jianyang/local-llm/topic-modelling/documents/Alibaba.pdf'}),\n",
       " Document(page_content=\"Metadata:\\nPortable      Lessons      for      American      Companies  >\\nContent:\\n \\n \\n  [00      :40      :37]   \\n \\n|      would      say      that      user      experience      in      China      and      the      USare      so      fundamentally      different  \\n \\n.      Or      user      experiences      and  \\n \\n  user      expectations     .So      in      America   \\n \\n,      what      do      we      love?\\nMy      analyst      this      morning      ,used      this      amazing      experience  \\n \\n.      He      said   \\n \\n,      the  \\n \\n  Beatles      White      Album      UI,      very      clean   \\n \\n,      very      non-complicated      ,very      streamlined      ,very      Apple-like      products  \\n \\n.      Welove      using      Apple      in  \\n \\n  this      country  \\n \\n.      Right.\\n1s      the      Beatles      white      album      UI.\\n1!\\nwould      say      that\\\\\\\\\\\\'s      boring   \\n \\n,      really      boring  \\n \\n.      The      Chinese      consumer   \\n \\n,      first      of      all,  \\n \\n  they      are      native      mobile      and      native      internet      users  \\n \\n.      They      just      want      the      buzzer      -like      experience      .1|      go      to      Reddit  \\n \\n.      And      I\\\\\\\\\\\\'ve      been      going  \\n \\n  to      Reddit      after      the      Wall      Street      Bets      saga      in      January     .|      never      really      went      before      that     .|      actually      cannot      figure      out      Reddit   \\n \\n,      for      the  \\n \\n  most      part     .Is      this      too      confusing      ,even      for      me?\\nTheres      too      much      stuff      going      on      there      that      ,as      an      old      fogy      probably      doesn\\\\\\\\\\\\'t      really  \\n \\n  quite      get      it.\", metadata={'bbox': [3.84, 405.46, 569.12, 527.8900000000001], 'page_idx': 8, 'level': 1, 'file_path': '/home/jianyang/local-llm/topic-modelling/documents/Alibaba.pdf'}),\n",
       " Document(page_content='Metadata:\\nPortable      Lessons      for      American      Companies  >\\nContent:\\n \\n \\n  But      in      China,      it\\\\\\\\\\\\\\'s      all      about      the      buzzer      ,in      your      face   \\n \\n,      the      colors   \\n \\n,      the      fireworks   \\n \\n,      it\\\\\\\\\\\\\\'s      like,      \"Hey,      come      here   \\n \\n,      you      see      this.\"\\nRight.\\nSo  \\n \\n  fundamentally      ,1      think      our      e-commerce      companies      are      boring   \\n \\n,      really      boring  \\n \\n.      Amazon      makes      me      fall      asleep  \\n \\n.      It\\\\\\\\\\\\\\'s      utilitarian   \\n \\n,      does  \\n \\n  the      job,      but      that      will      change  \\n \\n.      Why      is      that      changing   \\n \\n?      Well,      fundamentally      because      we      have      social      companies      redizing      that      after  \\n \\n  they      have      made      $85      billion      in      advertising      like      Facebook      ,well,      what\\\\\\\\\\\\\\'s      the      next      big      hundred      billion      dollar      opportunity   \\n \\n?      Well,      it\\\\\\\\\\\\\\'s  \\n \\n  going      to      be      commerce  \\n \\n.      So,      what      did      they      do?\\nWhere      do      they      turn      on      commerce      for      the      first      time   \\n \\n?      On      Instagram  \\n \\n.      Not      on      the  \\n \\n  Facebook      blue      app      ,on      Instagram     .So      then      what      happens   \\n \\n?      Then      Pinterest      comes      on.\\nThen      TikTok      comes      to      the      US.\\nAnd      now  \\n \\n  people      are      now      realizing   \\n \\n,      Aha.      It\\\\\\\\\\\\\\'s      actually      much      more      fun.\\nInfact   \\n \\n,      that      is      our      virtual      shopping      mall      online.', metadata={'bbox': [3.84, 543.5, 565.52, 650.08], 'page_idx': 8, 'level': 1, 'file_path': '/home/jianyang/local-llm/topic-modelling/documents/Alibaba.pdf'}),\n",
       " Document(page_content=\"Metadata:\\nPortable      Lessons      for      American      Companies  >\\nContent:\\n \\n \\n \\n|      mean      ,malls      were      fun      inthe      US.\\nIt      was   \\n \\na      social      time      you      spent  \\n \\n.      You      didn\\\\\\\\\\\\'t      go      there      for      utility.\\nYou      went      to      hang      there  \\n \\n.      So,      the  \\n \\n  first      thing   \\n \\n|      would      see      with      social      companies      turning      on      commerce      ,my      best      guess      is      shopping      in      America      will      become      more  \\n \\n  fun      again  \\n \\n.      It      won\\\\\\\\\\\\'t      be      boring  \\n \\n.      Number      two,      because      of      companies      like      TikTok,      what      is      the      big      driver      there   \\n \\n?      And      Patreon      and  \\n \\n  Clubhouse      and      everything      else,      you\\\\\\\\\\\\'re      seeing      the      creator      economy      explode  \\n \\n.      Right.\\nAnd      if      the      creator      economy      explodes   \\n \\n,       everyone      becomes      amicro      -entrepreneur      and      you      then      have      influencers  \\n \\n.      Well,      that      drives      alot      of      the      shopping      trends      in  \\n \\n  America   \\n \\n,      very      similar      to      how      influencers      drive      shopping      trends      in      China.\\nSo      that\\\\\\\\\\\\'s      what   \\n \\n|      think      from      acommerce      perspective   \\n \\n, we may likely evolve to over time.\\nBut that doesn\\\\\\\\\\\\'t mean Amazon doesn\\\\\\\\\\\\'t go Amazon cannot evolve its way into that fun  \\n \\n  shopping      experience      ,but      they      don\\\\\\\\\\\\'t      have      to.\\nOther      companies      will      evolve.\\nAnd   \\n \\n|      think      we\\\\\\\\\\\\'re      going      to      copy      alot      of      these  \\n \\n  behaviors      from      China,      which      is      good     .\", metadata={'bbox': [3.84, 665.93, 577.28, 803.96], 'page_idx': 8, 'level': 1, 'file_path': '/home/jianyang/local-llm/topic-modelling/documents/Alibaba.pdf'}),\n",
       " Document(page_content=\"Metadata:\\nPortable      Lessons      for      American      Companies  >\\nContent:\\n \\n \\n  Claire:      [00:43:25]   \\n \\n1      have      to      squeeze      inaprediction      question      on      this,      because      you      talk      about      the      fun      of      shopping      and      the  \\n \\n  digital      world      and      it      moving      and      how      it\\\\\\\\\\\\'schanging  \\n \\n.      So,      does      this      mean      people      will      come      back      to      malls?\\nSo      how      does      this  \\n \\n  relate      then      back      to      the      West      on      the      physical      real      estate      ?\", metadata={'bbox': [4.08, 16.32, 548.95, 59.77], 'page_idx': 9, 'level': 1, 'file_path': '/home/jianyang/local-llm/topic-modelling/documents/Alibaba.pdf'}),\n",
       " Document(page_content=\"Metadata:\\nPortable      Lessons      for      American      Companies  >\\nContent:\\n \\n \\n  [00      :43      :42]      So,      traditional      malls      with      boring      stuff      ,don\\\\\\\\\\\\'t      stand      achance  \\n \\n.      Right.\\nMalls      are      experiential      ,fun      ways      of      doing  \\n \\n  things  \\n \\n.      Right.\\nPeople      will      go      back     .|      think   \\n \\na      subset      of      malls      in      America      will      survive      actually   \\n \\n,      but      they      will      just      look      very      different  \\n \\n.       Therell      be      more      entertainment      and      food      and      fun      and      arcades  \\n \\n.      And      maybe      more      showcases      where      you      can      look      at      the      newest  \\n \\n  products      and      then      scan      QRcode   \\n \\n,      click   \\n \\n,      deliver      to      your      house      and      you      go      back      home  \\n \\n.      That\\\\\\\\\\\\'s      what      you      will      see.\\nWe      are      over   \\n \\n-       malled      in      this      country  \\n \\n.      And      obviously   \\n \\n,      the      mall      footprint      of      this      country      will      go      down      by      probably      half      inthe      next      20      years.\\n \\n \\n  There\\\\\\\\\\\\'s      no      question      about      that      in      my      mind,      but      it\\\\\\\\\\\\'s      not      going      to      ever      go      down      to      zero.\\nWhat      you      will      see      is      those      places  \\n \\n  repurposed      to      much      more      fun      things   \\n \\n,      because      shopping      is      fun.\\nIt\\\\\\\\\\\\'s      not      like      in      China.\\nShopping      should      be      an      experience  \\n \\n.      Right.\\n \\n \\n  |      remember      growing      up      in      Asia      and      my      mom      would      go      out      to      shop      inthe      bazaar      because      going      and      selecting      tomatoes      and  \\n \\n  haggling      with      the      guy,is      fun      for      whatever      reason  \\n \\n.      But      people      love      it.\\nAnd   \\n \\n|      think      people      are      very      similar      indifferent      parts      of      the  \\n \\n  world.\\nWe\\\\\\\\\\\\'re      more      similar      than      we      think      were      different  \\n \\n.      And      especially   \\n \\n,      think      about      young      people      growing      up      indifferent      parts  \\n \\n  of      the      world  \\n \\n.      They      look      very      similar      to      each      other      because      they      all      were      brought      up      on      the      same      mobile      native      internet      first.\\n \\n \\n  They      use      more      or      less      the      same      app      ,global      apps      growing      up.\\nAnd      so,      they      look      and      feel      and      think      and      learn      the      same  \\n \\n.      Look      at  \\n \\n  this      podcast  \\n \\n.      Right.\\nYour      podcast      is      listened      to      by      people      ina      hundred      places      inthe      world.\\nThis      wasn\\\\\\\\\\\\'t      the      case      20      years      ago.\\n \\n \\n  So      this      is      just      back      to      the      democratization      of      knowledge     .And   \\n \\n|      suspect      that      people      will      look      more      similar      in      20      years  \\n \\n.      And  \\n \\n  therefore      ,the      application      that      serves      them   \\n \\n,      will      have      to      be      more      similar  \\n \\n.      And   \\n \\n|      think      they      converge      with      the      Chinese      view      on  \\n \\n  the      world      than      the      American      view      on      the      world      because      it\\\\\\\\\\\\'s      very      boring      right      now.\", metadata={'bbox': [3.84, 75.62, 585.2, 323.84], 'page_idx': 9, 'level': 1, 'file_path': '/home/jianyang/local-llm/topic-modelling/documents/Alibaba.pdf'}),\n",
       " Document(page_content=\"Metadata:\\nPortable      Lessons      for      American      Companies  >\\nContent:\\n \\n \\n  Claire:      [00:45:29]      There\\\\\\\\\\\\'s   \\n \\na      book      by      Parag      Khanna      called      Connectography  \\n \\n.      And      it      puts      this      idea      that      lines      on   \\n \\na      map      aren\\\\\\\\\\\\'t  \\n \\n  what      matters      anymore.\\nIt\\\\\\\\\\\\'sthe      connections      that      come      from      the      internet      and   \\n \\na      mobile      experience   \\n \\n,      and      when      and      how      places  \\n \\n  move      through      geography      that      hits      on      alot      of      what      you\\\\\\\\\\\\'re      saying  \\n \\n.      And      so,   \\n \\n|      guess      where      I\\\\\\\\\\\\'mgoing      to      hit      with      the      last  \\n \\n  question  \\n \\n.      Which      is,      if      we      want      to      learn      more      about      Alibaba      or      what      they\\\\\\\\\\\\'re      seeing   \\n \\n,      or      what      they\\\\\\\\\\\\'re      thinking      about   \\n \\n,      where  \\n \\n  would      we      go?\\nWhat      should      we      read?\", metadata={'bbox': [3.84, 339.68, 552.55, 414.58], 'page_idx': 9, 'level': 1, 'file_path': '/home/jianyang/local-llm/topic-modelling/documents/Alibaba.pdf'}),\n",
       " Document(page_content=\"Metadata:\\nPortable      Lessons      for      American      Companies  >\\nContent:\\n \\n \\n  [00      :45      :55]   \\n \\n1      think      the      book      to      read      is,      Alibaba,      The      House      That      Jack      Ma      Built.\\nIt\\\\\\\\\\\\'s      reasonably      accurate  \\n \\n.      Duncan      Clark,      who  \\n \\n  wrote      it,      did   \\n \\na      good      job      of      it.\\nAnd      if      you      wanted      an      easy      read      about      the      history      of      Alibaba      and      what      this      legendary      entrepreneur  \\n \\n  did,      because      this      guy      is      legendary     .He      doesn\\\\\\\\\\\\'t      deserve      to      have      built      Alibaba   \\n \\n,      but      he      did.\\nItis      an      astonishing      story      of      grit      and  \\n \\n  persistence      ,and      just      being      at      it      for      along      time.\", metadata={'bbox': [3.84, 430.43, 571.04, 489.72], 'page_idx': 9, 'level': 1, 'file_path': '/home/jianyang/local-llm/topic-modelling/documents/Alibaba.pdf'}),\n",
       " Document(page_content=\"Metadata:\\nPortable      Lessons      for      American      Companies  >\\nContent:\\nClaire:      [00:46:18]      Ram,      you\\\\\\\\\\\\'ve      been      amazing  \\n \\n.      This      has      been      so      much      fun      to      dig      into,      and      we\\\\\\\\\\\\'ve      touched      so      many      different  \\n \\n  pieces      of      Alibaba      and      the      business  \\n \\n.      Hey,      look   \\n \\n,      we\\\\\\\\\\\\'ve      only      scratched      the      surface     .\", metadata={'bbox': [4.32, 505.33, 531.67, 533.1700000000001], 'page_idx': 9, 'level': 1, 'file_path': '/home/jianyang/local-llm/topic-modelling/documents/Alibaba.pdf'}),\n",
       " Document(page_content=\"Metadata:\\nPortable      Lessons      for      American      Companies  >\\nContent:\\nPatrick   \\n \\n:      [00:46      :27]      That\\\\\\\\\\\\'s      the      idea.\\nPique      the      interest     .\", metadata={'bbox': [4.56, 548.78, 251.79, 560.78], 'page_idx': 9, 'level': 1, 'file_path': '/home/jianyang/local-llm/topic-modelling/documents/Alibaba.pdf'}),\n",
       " Document(page_content='Metadata:\\nPortable      Lessons      for      American      Companies  >\\nContent:\\nClaire:      [00:46      :30]      Pique      the      interest  \\n \\n.      Thank      you      so      much      for      your      time.\\nThis      was      such   \\n \\na      blast  \\n \\n.      Really      appreciate      it,      Ram.', metadata={'bbox': [4.32, 576.62, 530.23, 588.62], 'page_idx': 9, 'level': 1, 'file_path': '/home/jianyang/local-llm/topic-modelling/documents/Alibaba.pdf'}),\n",
       " Document(page_content=\"Metadata:\\nPortable      Lessons      for      American      Companies  >\\nContent:\\n \\n \\n  Patrick   \\n \\n:      [00:46:36]      Thanks   \\n \\n,      Ram.\\nThank      you      for      joining      us      for      this      breakdown      of      Alibaba      with      Ram      Parameswaran  \\n \\n.      Ram      has  \\n \\n  me      thinking      about      what      American      companies      can      learn      from      Chinese      companies  \\n \\n.      What      strikes      me      most      from      our  \\n \\n  conversation      is      how      underdeveloped      and      boring      our      e-commerce      is      compared      to      what      Chinese      companies      are      doing.\\nOur  \\n \\n  massive      social      media      companies      like      Facebook   \\n \\n,      Twitter,      Instagram   \\n \\n,      Snapchat   \\n \\n,      Reddit   \\n \\n,      and      so      on,      are      only      scratching      the  \\n \\n  surface      of      pushing      commerce      onto      their      websites      and      making      them      fun.\\nRam\\\\\\\\\\\\'sconcept      of      the      virtual      experiential      shopping  \\n \\n  mall      is      something      that      many      American      companies      should      be      studying      from      China.\", metadata={'bbox': [4.08, 604.47, 565.28, 695.21], 'page_idx': 9, 'level': 1, 'file_path': '/home/jianyang/local-llm/topic-modelling/documents/Alibaba.pdf'})]"
      ]
     },
     "execution_count": 18,
     "metadata": {},
     "output_type": "execute_result"
    }
   ],
   "source": [
    "get_chunks_from_topic(0, topic_model, docs_str, docs)"
   ]
  },
  {
   "cell_type": "code",
   "execution_count": 19,
   "metadata": {},
   "outputs": [],
   "source": [
    "# perform vector search on top 2 topics from the query\n",
    "def get_chunks_from_query(query, topic_model, docs_str, docs):\n",
    "    topics = topic_model.find_topics(query)\n",
    "    print(topics)\n",
    "    chunks = []\n",
    "    \n",
    "    # Select all topics with probability > 0.5\n",
    "    for i in range(len(topics[1])):\n",
    "        if topics[1][i] > 0.5:\n",
    "            print(\"Topic Chosen:\", topics[0][i], \"Probability:\", topics[1][i])\n",
    "            chunks.extend(get_chunks_from_topic(topics[0][i], topic_model, docs_str, docs))\n",
    "\n",
    "    if len(chunks) > 3:\n",
    "        return chunks\n",
    "    \n",
    "    # If not enough chunks, get the top 3 topics\n",
    "    for i in range(len(chunks), 3):\n",
    "        print(\"Getting topic:\", i)\n",
    "        chunks.extend(get_chunks_from_topic(i, topic_model, docs_str, docs))\n",
    "        if len(chunks) > 3:\n",
    "            break\n",
    "\n",
    "    return chunks"
   ]
  },
  {
   "cell_type": "code",
   "execution_count": 20,
   "metadata": {},
   "outputs": [
    {
     "data": {
      "text/plain": [
       "([0, -1, 8, 1, 3], [0.4906037, 0.43695295, 0.40536618, 0.370501, 0.36816785])"
      ]
     },
     "execution_count": 20,
     "metadata": {},
     "output_type": "execute_result"
    }
   ],
   "source": [
    "topic_model.find_topics(\"Alibaba\")"
   ]
  },
  {
   "cell_type": "code",
   "execution_count": 21,
   "metadata": {},
   "outputs": [],
   "source": [
    "# Define query here\n",
    "query = \"discuss the business model differences between amazon and alibaba\""
   ]
  },
  {
   "cell_type": "code",
   "execution_count": 22,
   "metadata": {},
   "outputs": [
    {
     "name": "stdout",
     "output_type": "stream",
     "text": [
      "([8, 7, -1, 2, 1], [0.56528264, 0.5249168, 0.52279174, 0.50984883, 0.4957823])\n",
      "Topic Chosen: 8 Probability: 0.56528264\n",
      "Topic Chosen: 7 Probability: 0.5249168\n",
      "Topic Chosen: -1 Probability: 0.52279174\n",
      "Topic Chosen: 2 Probability: 0.50984883\n"
     ]
    }
   ],
   "source": [
    "langchain_docs = get_chunks_from_query(query, topic_model, docs_str, docs)"
   ]
  },
  {
   "cell_type": "code",
   "execution_count": 23,
   "metadata": {},
   "outputs": [],
   "source": [
    "# Remove bbox metadata from langchain_docs due to ChromaDB limitations\n",
    "for doc in langchain_docs:\n",
    "    doc.metadata[\"bbox\"] = \"\""
   ]
  },
  {
   "cell_type": "code",
   "execution_count": 24,
   "metadata": {},
   "outputs": [
    {
     "data": {
      "text/plain": [
       "61"
      ]
     },
     "execution_count": 24,
     "metadata": {},
     "output_type": "execute_result"
    }
   ],
   "source": [
    "len(langchain_docs)"
   ]
  },
  {
   "cell_type": "code",
   "execution_count": 25,
   "metadata": {},
   "outputs": [
    {
     "data": {
      "text/plain": [
       "{'bbox': '',\n",
       " 'page_idx': 1,\n",
       " 'level': 1,\n",
       " 'file_path': '/home/jianyang/local-llm/topic-modelling/documents/amazon_report.pdf'}"
      ]
     },
     "execution_count": 25,
     "metadata": {},
     "output_type": "execute_result"
    }
   ],
   "source": [
    "langchain_docs[0].metadata"
   ]
  },
  {
   "cell_type": "code",
   "execution_count": 26,
   "metadata": {},
   "outputs": [
    {
     "data": {
      "text/plain": [
       "2"
      ]
     },
     "execution_count": 26,
     "metadata": {},
     "output_type": "execute_result"
    }
   ],
   "source": [
    "# identify number of non-alibaba documents in the list\n",
    "len([doc for doc in langchain_docs if \"alibaba\" in doc.metadata[\"file_path\"].lower()])"
   ]
  },
  {
   "cell_type": "code",
   "execution_count": 27,
   "metadata": {},
   "outputs": [],
   "source": [
    "from langchain_community.embeddings import OllamaEmbeddings\n",
    "from langchain_community.vectorstores import Chroma, FAISS"
   ]
  },
  {
   "cell_type": "code",
   "execution_count": 28,
   "metadata": {},
   "outputs": [],
   "source": [
    "\n",
    "embeddings = OllamaEmbeddings(base_url = \"http://localhost:11434\", model = \"llama3:instruct\")\n",
    "vectorstore = Chroma.from_documents(langchain_docs, embeddings)\n",
    "retriever = vectorstore.as_retriever(search_kwargs={\"k\": 10})\n",
    "# retriever = vectorstore.as_retriever()"
   ]
  },
  {
   "cell_type": "code",
   "execution_count": 29,
   "metadata": {},
   "outputs": [],
   "source": [
    "topic_docs = retriever.invoke(query)"
   ]
  },
  {
   "cell_type": "code",
   "execution_count": 30,
   "metadata": {},
   "outputs": [
    {
     "data": {
      "text/plain": [
       "[Document(page_content='Metadata:\\nY/Y      %\\n>\\nAmazon      Investor      Relations      Amazon      Public      Relations  >\\nContent:\\namazon-ir@amazon.com      amazon-pr@amazon.com', metadata={'bbox': '', 'file_path': '/home/jianyang/local-llm/topic-modelling/documents/amazon_report.pdf', 'level': 2, 'page_idx': 16}),\n",
       " Document(page_content='Metadata:\\nContent:\\nSource      :      2020      Annual      Report', metadata={'bbox': '', 'file_path': '/home/jianyang/local-llm/topic-modelling/documents/Alibaba.pdf', 'level': 0, 'page_idx': 2}),\n",
       " Document(page_content='Metadata:\\nAMAZON.COM      ANNOUNCES      FIRST      QUARTER      RESULTS¢\\n \\n   International      segment      sales      increased      10%      year-over-year      to      $31.9      billion,      or      increased      11%      excluding  \\n \\n  changes      in      foreign      exchange      rates.  >\\nContent:\\n*\\n \\n   AWS      segment      sales      increased      17%      year-over-year      to      $25.0      billion.', metadata={'bbox': '', 'file_path': '/home/jianyang/local-llm/topic-modelling/documents/amazon_report.pdf', 'level': 2, 'page_idx': 0}),\n",
       " Document(page_content='Metadata:\\nAMAZON.COM      ANNOUNCES      FIRST      QUARTER      RESULTS\\n>\\nSecond      Quarter      2024      Guidance  >\\nContent:\\n*\\n \\n   Net      sales      are      expected      to      be      between      $144.0      billion      and      $149.0      billion,      or      to      grow      between      7%      and      11%      compared  \\n \\n  with      second      quarter      2023.\\nThis      guidance      anticipates      an      unfavorable      impact      of      approximately      60      basis      points      from  \\n \\n  foreign      exchange      rates.\\nIn      first      quarter      2024      the      impact      from      Leap      Year      added      approximately      120      basis      points      to      the  \\n \\n  year-over-year      net      sales      growth      rate.', metadata={'bbox': '', 'file_path': '/home/jianyang/local-llm/topic-modelling/documents/amazon_report.pdf', 'level': 2, 'page_idx': 6}),\n",
       " Document(page_content='Metadata:\\nAMAZON.COM      ANNOUNCES      FIRST      QUARTER      RESULTS \\n \\n \\n¢      Free      cash      flow      less      principal      repayments      of      finance      leases      and      financing      obligations      improved      to      an      inflow      of  \\n \\n  $46.1      billion      for      the      trailing      twelve      months,      compared      with      an      outflow      of      $10.1      billion      for      the      trailing      twelve      months  \\n \\n  ended      March      31,      2023.  >\\nContent:\\n*\\n \\n   Free      cash      flow      less      equipment      finance      leases      and      principal      repayments      of      all      other      finance      leases      and      financing  \\n \\n  obligations      improved      to      an      inflow      of      $48.8      billion      for      the      trailing      twelve      months,      compared      with      an      outflow      of      $4.5  \\n \\n  billion      for      the      trailing      twelve      months      ended      March      31,      2023.', metadata={'bbox': '', 'file_path': '/home/jianyang/local-llm/topic-modelling/documents/amazon_report.pdf', 'level': 2, 'page_idx': 0}),\n",
       " Document(page_content='Metadata:\\nAMAZON.COM      ANNOUNCES      FIRST      QUARTER      RESULTS\\n>\\nHighlights  >\\nContent:\\n \\n \\n  Announced      that      Amazon      improved      recordable      incident      rates      (any      work-related      injury      that      requires      more      than      basic  \\n \\n  first-aid      treatment)      by      30%      and      lost      time      incident      rates      (any      work-related      injury      that      requires      someone      to      take      time  \\n \\n  away      from      work)      by      60%      worldwide      over      the      past      four      years.\\nIn      2024,      Amazon      plans      to      invest      over      $750      million      in  \\n \\n  technologies,      resources,      training,      and      programs      to      further      improve      safety      across      its      network.', metadata={'bbox': '', 'file_path': '/home/jianyang/local-llm/topic-modelling/documents/amazon_report.pdf', 'level': 1, 'page_idx': 5}),\n",
       " Document(page_content='Metadata:\\nAMAZON.COM      ANNOUNCES      FIRST      QUARTER      RESULTS\\n>\\nHighlights  >\\nContent:\\n*\\n \\n   Announced      that      Prime      Video      will      stream      its      first      NFL      Wild      Card      playoff      game      in      January      2025.\\nPrime      Video,      which      is  \\n \\n  home      to      Thursday      Night      Football,      will      have      exclusive      rights      to      air      an      opening      round      playoff      game.', metadata={'bbox': '', 'file_path': '/home/jianyang/local-llm/topic-modelling/documents/amazon_report.pdf', 'level': 2, 'page_idx': 1}),\n",
       " Document(page_content='Metadata:\\nAMAZON.COM      ANNOUNCES      FIRST      QUARTER      RESULTS\\n>\\nFulfillment  >\\nContent:\\nNet      income Basic      earnings      per      share Diluted      earnings      per      share', metadata={'bbox': '', 'file_path': '/home/jianyang/local-llm/topic-modelling/documents/amazon_report.pdf', 'level': 2, 'page_idx': 9}),\n",
       " Document(page_content='Metadata:\\nAMAZON.COM      ANNOUNCES      FIRST      QUARTER      RESULTS\\n>\\nSecond      Quarter      2024      Guidance  >\\nContent:\\n \\n \\n  About      Amazon  \\n \\n  Amazon      is      guided      by      four      principles:      customer      obsession      rather      than      competitor      focus,      passion      for      invention,      commitment      to  \\n \\n  operational      excellence,      and      long-term      thinking.\\nAmazon      strives      to      be      Earth’s      Most      Customer-Centric      Company,      Earth’s      Best  \\n \\n  Employer,      and      Earth’s      Safest      Place      to      Work.\\nCustomer      reviews,      1-Click      shopping,      personalized      recommendations,      Prime,  \\n \\n  Fulfillment      by      Amazon,      AWS,      Kindle      Direct      Publishing,      Kindle,      Career      Choice,      Fire      tablets,      Fire      TV,      Amazon      Echo,      Alexa,  \\n \\n  Just      Walk      Out      technology,      Amazon      Studios,      and      The      Climate      Pledge      are      some      of      the      things      pioneered      by      Amazon.\\nFor      more  \\n \\n  information,      visit      amazon.com/about      and      follow      @AmazonNews.', metadata={'bbox': '', 'file_path': '/home/jianyang/local-llm/topic-modelling/documents/amazon_report.pdf', 'level': 2, 'page_idx': 7}),\n",
       " Document(page_content='Metadata:\\nContent:\\nCreated      by      @ekmokaya', metadata={'bbox': '', 'file_path': '/home/jianyang/local-llm/topic-modelling/documents/Alibaba.pdf', 'level': 0, 'page_idx': 9})]"
      ]
     },
     "execution_count": 30,
     "metadata": {},
     "output_type": "execute_result"
    }
   ],
   "source": [
    "topic_docs"
   ]
  },
  {
   "cell_type": "code",
   "execution_count": 31,
   "metadata": {},
   "outputs": [
    {
     "name": "stdout",
     "output_type": "stream",
     "text": [
      "61\n"
     ]
    }
   ],
   "source": [
    "print(len(langchain_docs))"
   ]
  },
  {
   "cell_type": "code",
   "execution_count": 32,
   "metadata": {},
   "outputs": [
    {
     "name": "stdout",
     "output_type": "stream",
     "text": [
      "I've analyzed the provided documents and extracted relevant information to discuss the business model differences between Amazon and Alibaba.\n",
      "\n",
      "**Amazon's Business Model:**\n",
      "\n",
      "1. **Fulfillment by Amazon (FBA):** Amazon offers FBA, a service that allows third-party sellers to store their products in Amazon's warehouses and handle logistics, packaging, and shipping.\n",
      "2. **E-commerce Platform:** Amazon operates an e-commerce platform, allowing customers to purchase products from various categories, including electronics, clothing, home goods, and more.\n",
      "3. **Content Creation:** Amazon produces original content through its Prime Video service, offering a range of TV shows, movies, and original productions.\n",
      "4. **Advertising:** Amazon generates revenue through targeted advertising on its platforms, such as Amazon.com, Amazon Alexa, and Amazon Fire TV.\n",
      "\n",
      "**Alibaba's Business Model:**\n",
      "\n",
      "1. **E-commerce Platforms:** Alibaba operates several e-commerce platforms, including Taobao Marketplace, Tmall, and AliExpress, which connect buyers with sellers.\n",
      "2. **Logistics and Delivery:** Alibaba offers logistics and delivery services through its Cainiao Network subsidiary, providing a comprehensive supply chain solution for merchants.\n",
      "3. **Payment Services:** Alibaba provides payment services through Alipay, allowing customers to make secure transactions online.\n",
      "4. **Cloud Computing:** Alibaba offers cloud computing services through Alibaba Cloud, providing infrastructure and platform services for businesses.\n",
      "\n",
      "**Key Differences:**\n",
      "\n",
      "1. **Fulfillment Model:** Amazon's FBA model focuses on handling logistics and shipping for third-party sellers, whereas Alibaba's Cainiao Network provides a more comprehensive supply chain solution.\n",
      "2. **Content Creation:** While both companies produce original content, Amazon's focus is on video streaming through Prime Video, whereas Alibaba has a stronger presence in online publishing and media services.\n",
      "3. **Advertising:** Amazon generates revenue primarily through targeted advertising on its platforms, whereas Alibaba focuses on payment services and logistics fees.\n",
      "4. **Geographic Focus:** Amazon has a strong presence in the United States and other Western markets, while Alibaba is more focused on the Chinese market and has expanded to Southeast Asia and other regions.\n",
      "\n",
      "In summary, Amazon's business model emphasizes fulfillment, content creation, and advertising, whereas Alibaba's focus lies in e-commerce platforms, logistics, payment services, and cloud computing. These differences reflect the unique strengths and strategies of each company as they navigate the competitive landscape of e-commerce and digital services.\n"
     ]
    }
   ],
   "source": [
    "topic_model_resp = llm.invoke(f\"Answer the question: {query} with the following documents: {langchain_docs}\")\n",
    "print(topic_model_resp)"
   ]
  },
  {
   "cell_type": "markdown",
   "metadata": {},
   "source": [
    "### Comparing with Documents retrieved WITHOUT topic modelling"
   ]
  },
  {
   "cell_type": "code",
   "execution_count": 33,
   "metadata": {},
   "outputs": [
    {
     "name": "stdout",
     "output_type": "stream",
     "text": [
      "{'/home/jianyang/local-llm/topic-modelling/documents/amazon_report.pdf', '/home/jianyang/local-llm/topic-modelling/documents/Alibaba.pdf'}\n",
      "189\n"
     ]
    }
   ],
   "source": [
    "# Proof that docs contain all the unfiltered documents by topic\n",
    "print(set(doc.metadata[\"file_path\"] for doc in docs))\n",
    "print(len(docs))"
   ]
  },
  {
   "cell_type": "code",
   "execution_count": 34,
   "metadata": {},
   "outputs": [],
   "source": [
    "assert langchain_docs != docs\n",
    "assert len(langchain_docs) < len(docs)"
   ]
  },
  {
   "cell_type": "code",
   "execution_count": 35,
   "metadata": {},
   "outputs": [],
   "source": [
    "# remove bbox\n",
    "for doc in docs:\n",
    "    doc.metadata[\"bbox\"] = \"\""
   ]
  },
  {
   "cell_type": "code",
   "execution_count": 36,
   "metadata": {},
   "outputs": [
    {
     "ename": "KeyboardInterrupt",
     "evalue": "",
     "output_type": "error",
     "traceback": [
      "\u001b[0;31m---------------------------------------------------------------------------\u001b[0m",
      "\u001b[0;31mKeyboardInterrupt\u001b[0m                         Traceback (most recent call last)",
      "Cell \u001b[0;32mIn[36], line 1\u001b[0m\n\u001b[0;32m----> 1\u001b[0m vectorstore_before_topic_model \u001b[38;5;241m=\u001b[39m \u001b[43mFAISS\u001b[49m\u001b[38;5;241;43m.\u001b[39;49m\u001b[43mfrom_documents\u001b[49m\u001b[43m(\u001b[49m\u001b[43mdocs\u001b[49m\u001b[43m,\u001b[49m\u001b[43m \u001b[49m\u001b[43membeddings\u001b[49m\u001b[43m)\u001b[49m\n\u001b[1;32m      2\u001b[0m retriever_before_topic_model \u001b[38;5;241m=\u001b[39m vectorstore_before_topic_model\u001b[38;5;241m.\u001b[39mas_retriever(search_kwargs\u001b[38;5;241m=\u001b[39m{\u001b[38;5;124m\"\u001b[39m\u001b[38;5;124mk\u001b[39m\u001b[38;5;124m\"\u001b[39m: \u001b[38;5;241m10\u001b[39m})\n",
      "File \u001b[0;32m~/miniconda3/envs/local-llm/lib/python3.9/site-packages/langchain_core/vectorstores.py:635\u001b[0m, in \u001b[0;36mVectorStore.from_documents\u001b[0;34m(cls, documents, embedding, **kwargs)\u001b[0m\n\u001b[1;32m    633\u001b[0m texts \u001b[38;5;241m=\u001b[39m [d\u001b[38;5;241m.\u001b[39mpage_content \u001b[38;5;28;01mfor\u001b[39;00m d \u001b[38;5;129;01min\u001b[39;00m documents]\n\u001b[1;32m    634\u001b[0m metadatas \u001b[38;5;241m=\u001b[39m [d\u001b[38;5;241m.\u001b[39mmetadata \u001b[38;5;28;01mfor\u001b[39;00m d \u001b[38;5;129;01min\u001b[39;00m documents]\n\u001b[0;32m--> 635\u001b[0m \u001b[38;5;28;01mreturn\u001b[39;00m \u001b[38;5;28;43mcls\u001b[39;49m\u001b[38;5;241;43m.\u001b[39;49m\u001b[43mfrom_texts\u001b[49m\u001b[43m(\u001b[49m\u001b[43mtexts\u001b[49m\u001b[43m,\u001b[49m\u001b[43m \u001b[49m\u001b[43membedding\u001b[49m\u001b[43m,\u001b[49m\u001b[43m \u001b[49m\u001b[43mmetadatas\u001b[49m\u001b[38;5;241;43m=\u001b[39;49m\u001b[43mmetadatas\u001b[49m\u001b[43m,\u001b[49m\u001b[43m \u001b[49m\u001b[38;5;241;43m*\u001b[39;49m\u001b[38;5;241;43m*\u001b[39;49m\u001b[43mkwargs\u001b[49m\u001b[43m)\u001b[49m\n",
      "File \u001b[0;32m~/miniconda3/envs/local-llm/lib/python3.9/site-packages/langchain_community/vectorstores/faiss.py:930\u001b[0m, in \u001b[0;36mFAISS.from_texts\u001b[0;34m(cls, texts, embedding, metadatas, ids, **kwargs)\u001b[0m\n\u001b[1;32m    903\u001b[0m \u001b[38;5;129m@classmethod\u001b[39m\n\u001b[1;32m    904\u001b[0m \u001b[38;5;28;01mdef\u001b[39;00m \u001b[38;5;21mfrom_texts\u001b[39m(\n\u001b[1;32m    905\u001b[0m     \u001b[38;5;28mcls\u001b[39m,\n\u001b[0;32m   (...)\u001b[0m\n\u001b[1;32m    910\u001b[0m     \u001b[38;5;241m*\u001b[39m\u001b[38;5;241m*\u001b[39mkwargs: Any,\n\u001b[1;32m    911\u001b[0m ) \u001b[38;5;241m-\u001b[39m\u001b[38;5;241m>\u001b[39m FAISS:\n\u001b[1;32m    912\u001b[0m \u001b[38;5;250m    \u001b[39m\u001b[38;5;124;03m\"\"\"Construct FAISS wrapper from raw documents.\u001b[39;00m\n\u001b[1;32m    913\u001b[0m \n\u001b[1;32m    914\u001b[0m \u001b[38;5;124;03m    This is a user friendly interface that:\u001b[39;00m\n\u001b[0;32m   (...)\u001b[0m\n\u001b[1;32m    928\u001b[0m \u001b[38;5;124;03m            faiss = FAISS.from_texts(texts, embeddings)\u001b[39;00m\n\u001b[1;32m    929\u001b[0m \u001b[38;5;124;03m    \"\"\"\u001b[39;00m\n\u001b[0;32m--> 930\u001b[0m     embeddings \u001b[38;5;241m=\u001b[39m \u001b[43membedding\u001b[49m\u001b[38;5;241;43m.\u001b[39;49m\u001b[43membed_documents\u001b[49m\u001b[43m(\u001b[49m\u001b[43mtexts\u001b[49m\u001b[43m)\u001b[49m\n\u001b[1;32m    931\u001b[0m     \u001b[38;5;28;01mreturn\u001b[39;00m \u001b[38;5;28mcls\u001b[39m\u001b[38;5;241m.\u001b[39m__from(\n\u001b[1;32m    932\u001b[0m         texts,\n\u001b[1;32m    933\u001b[0m         embeddings,\n\u001b[0;32m   (...)\u001b[0m\n\u001b[1;32m    937\u001b[0m         \u001b[38;5;241m*\u001b[39m\u001b[38;5;241m*\u001b[39mkwargs,\n\u001b[1;32m    938\u001b[0m     )\n",
      "File \u001b[0;32m~/miniconda3/envs/local-llm/lib/python3.9/site-packages/langchain_community/embeddings/ollama.py:211\u001b[0m, in \u001b[0;36mOllamaEmbeddings.embed_documents\u001b[0;34m(self, texts)\u001b[0m\n\u001b[1;32m    202\u001b[0m \u001b[38;5;250m\u001b[39m\u001b[38;5;124;03m\"\"\"Embed documents using an Ollama deployed embedding model.\u001b[39;00m\n\u001b[1;32m    203\u001b[0m \n\u001b[1;32m    204\u001b[0m \u001b[38;5;124;03mArgs:\u001b[39;00m\n\u001b[0;32m   (...)\u001b[0m\n\u001b[1;32m    208\u001b[0m \u001b[38;5;124;03m    List of embeddings, one for each text.\u001b[39;00m\n\u001b[1;32m    209\u001b[0m \u001b[38;5;124;03m\"\"\"\u001b[39;00m\n\u001b[1;32m    210\u001b[0m instruction_pairs \u001b[38;5;241m=\u001b[39m [\u001b[38;5;124mf\u001b[39m\u001b[38;5;124m\"\u001b[39m\u001b[38;5;132;01m{\u001b[39;00m\u001b[38;5;28mself\u001b[39m\u001b[38;5;241m.\u001b[39membed_instruction\u001b[38;5;132;01m}\u001b[39;00m\u001b[38;5;132;01m{\u001b[39;00mtext\u001b[38;5;132;01m}\u001b[39;00m\u001b[38;5;124m\"\u001b[39m \u001b[38;5;28;01mfor\u001b[39;00m text \u001b[38;5;129;01min\u001b[39;00m texts]\n\u001b[0;32m--> 211\u001b[0m embeddings \u001b[38;5;241m=\u001b[39m \u001b[38;5;28;43mself\u001b[39;49m\u001b[38;5;241;43m.\u001b[39;49m\u001b[43m_embed\u001b[49m\u001b[43m(\u001b[49m\u001b[43minstruction_pairs\u001b[49m\u001b[43m)\u001b[49m\n\u001b[1;32m    212\u001b[0m \u001b[38;5;28;01mreturn\u001b[39;00m embeddings\n",
      "File \u001b[0;32m~/miniconda3/envs/local-llm/lib/python3.9/site-packages/langchain_community/embeddings/ollama.py:199\u001b[0m, in \u001b[0;36mOllamaEmbeddings._embed\u001b[0;34m(self, input)\u001b[0m\n\u001b[1;32m    197\u001b[0m \u001b[38;5;28;01melse\u001b[39;00m:\n\u001b[1;32m    198\u001b[0m     iter_ \u001b[38;5;241m=\u001b[39m \u001b[38;5;28minput\u001b[39m\n\u001b[0;32m--> 199\u001b[0m \u001b[38;5;28;01mreturn\u001b[39;00m [\u001b[38;5;28mself\u001b[39m\u001b[38;5;241m.\u001b[39m_process_emb_response(prompt) \u001b[38;5;28;01mfor\u001b[39;00m prompt \u001b[38;5;129;01min\u001b[39;00m iter_]\n",
      "File \u001b[0;32m~/miniconda3/envs/local-llm/lib/python3.9/site-packages/langchain_community/embeddings/ollama.py:199\u001b[0m, in \u001b[0;36m<listcomp>\u001b[0;34m(.0)\u001b[0m\n\u001b[1;32m    197\u001b[0m \u001b[38;5;28;01melse\u001b[39;00m:\n\u001b[1;32m    198\u001b[0m     iter_ \u001b[38;5;241m=\u001b[39m \u001b[38;5;28minput\u001b[39m\n\u001b[0;32m--> 199\u001b[0m \u001b[38;5;28;01mreturn\u001b[39;00m [\u001b[38;5;28;43mself\u001b[39;49m\u001b[38;5;241;43m.\u001b[39;49m\u001b[43m_process_emb_response\u001b[49m\u001b[43m(\u001b[49m\u001b[43mprompt\u001b[49m\u001b[43m)\u001b[49m \u001b[38;5;28;01mfor\u001b[39;00m prompt \u001b[38;5;129;01min\u001b[39;00m iter_]\n",
      "File \u001b[0;32m~/miniconda3/envs/local-llm/lib/python3.9/site-packages/langchain_community/embeddings/ollama.py:164\u001b[0m, in \u001b[0;36mOllamaEmbeddings._process_emb_response\u001b[0;34m(self, input)\u001b[0m\n\u001b[1;32m    158\u001b[0m headers \u001b[38;5;241m=\u001b[39m {\n\u001b[1;32m    159\u001b[0m     \u001b[38;5;124m\"\u001b[39m\u001b[38;5;124mContent-Type\u001b[39m\u001b[38;5;124m\"\u001b[39m: \u001b[38;5;124m\"\u001b[39m\u001b[38;5;124mapplication/json\u001b[39m\u001b[38;5;124m\"\u001b[39m,\n\u001b[1;32m    160\u001b[0m     \u001b[38;5;241m*\u001b[39m\u001b[38;5;241m*\u001b[39m(\u001b[38;5;28mself\u001b[39m\u001b[38;5;241m.\u001b[39mheaders \u001b[38;5;129;01mor\u001b[39;00m {}),\n\u001b[1;32m    161\u001b[0m }\n\u001b[1;32m    163\u001b[0m \u001b[38;5;28;01mtry\u001b[39;00m:\n\u001b[0;32m--> 164\u001b[0m     res \u001b[38;5;241m=\u001b[39m \u001b[43mrequests\u001b[49m\u001b[38;5;241;43m.\u001b[39;49m\u001b[43mpost\u001b[49m\u001b[43m(\u001b[49m\n\u001b[1;32m    165\u001b[0m \u001b[43m        \u001b[49m\u001b[38;5;124;43mf\u001b[39;49m\u001b[38;5;124;43m\"\u001b[39;49m\u001b[38;5;132;43;01m{\u001b[39;49;00m\u001b[38;5;28;43mself\u001b[39;49m\u001b[38;5;241;43m.\u001b[39;49m\u001b[43mbase_url\u001b[49m\u001b[38;5;132;43;01m}\u001b[39;49;00m\u001b[38;5;124;43m/api/embeddings\u001b[39;49m\u001b[38;5;124;43m\"\u001b[39;49m\u001b[43m,\u001b[49m\n\u001b[1;32m    166\u001b[0m \u001b[43m        \u001b[49m\u001b[43mheaders\u001b[49m\u001b[38;5;241;43m=\u001b[39;49m\u001b[43mheaders\u001b[49m\u001b[43m,\u001b[49m\n\u001b[1;32m    167\u001b[0m \u001b[43m        \u001b[49m\u001b[43mjson\u001b[49m\u001b[38;5;241;43m=\u001b[39;49m\u001b[43m{\u001b[49m\u001b[38;5;124;43m\"\u001b[39;49m\u001b[38;5;124;43mmodel\u001b[39;49m\u001b[38;5;124;43m\"\u001b[39;49m\u001b[43m:\u001b[49m\u001b[43m \u001b[49m\u001b[38;5;28;43mself\u001b[39;49m\u001b[38;5;241;43m.\u001b[39;49m\u001b[43mmodel\u001b[49m\u001b[43m,\u001b[49m\u001b[43m \u001b[49m\u001b[38;5;124;43m\"\u001b[39;49m\u001b[38;5;124;43mprompt\u001b[39;49m\u001b[38;5;124;43m\"\u001b[39;49m\u001b[43m:\u001b[49m\u001b[43m \u001b[49m\u001b[38;5;28;43minput\u001b[39;49m\u001b[43m,\u001b[49m\u001b[43m \u001b[49m\u001b[38;5;241;43m*\u001b[39;49m\u001b[38;5;241;43m*\u001b[39;49m\u001b[38;5;28;43mself\u001b[39;49m\u001b[38;5;241;43m.\u001b[39;49m\u001b[43m_default_params\u001b[49m\u001b[43m}\u001b[49m\u001b[43m,\u001b[49m\n\u001b[1;32m    168\u001b[0m \u001b[43m    \u001b[49m\u001b[43m)\u001b[49m\n\u001b[1;32m    169\u001b[0m \u001b[38;5;28;01mexcept\u001b[39;00m requests\u001b[38;5;241m.\u001b[39mexceptions\u001b[38;5;241m.\u001b[39mRequestException \u001b[38;5;28;01mas\u001b[39;00m e:\n\u001b[1;32m    170\u001b[0m     \u001b[38;5;28;01mraise\u001b[39;00m \u001b[38;5;167;01mValueError\u001b[39;00m(\u001b[38;5;124mf\u001b[39m\u001b[38;5;124m\"\u001b[39m\u001b[38;5;124mError raised by inference endpoint: \u001b[39m\u001b[38;5;132;01m{\u001b[39;00me\u001b[38;5;132;01m}\u001b[39;00m\u001b[38;5;124m\"\u001b[39m)\n",
      "File \u001b[0;32m~/miniconda3/envs/local-llm/lib/python3.9/site-packages/requests/api.py:115\u001b[0m, in \u001b[0;36mpost\u001b[0;34m(url, data, json, **kwargs)\u001b[0m\n\u001b[1;32m    103\u001b[0m \u001b[38;5;28;01mdef\u001b[39;00m \u001b[38;5;21mpost\u001b[39m(url, data\u001b[38;5;241m=\u001b[39m\u001b[38;5;28;01mNone\u001b[39;00m, json\u001b[38;5;241m=\u001b[39m\u001b[38;5;28;01mNone\u001b[39;00m, \u001b[38;5;241m*\u001b[39m\u001b[38;5;241m*\u001b[39mkwargs):\n\u001b[1;32m    104\u001b[0m \u001b[38;5;250m    \u001b[39m\u001b[38;5;124mr\u001b[39m\u001b[38;5;124;03m\"\"\"Sends a POST request.\u001b[39;00m\n\u001b[1;32m    105\u001b[0m \n\u001b[1;32m    106\u001b[0m \u001b[38;5;124;03m    :param url: URL for the new :class:`Request` object.\u001b[39;00m\n\u001b[0;32m   (...)\u001b[0m\n\u001b[1;32m    112\u001b[0m \u001b[38;5;124;03m    :rtype: requests.Response\u001b[39;00m\n\u001b[1;32m    113\u001b[0m \u001b[38;5;124;03m    \"\"\"\u001b[39;00m\n\u001b[0;32m--> 115\u001b[0m     \u001b[38;5;28;01mreturn\u001b[39;00m \u001b[43mrequest\u001b[49m\u001b[43m(\u001b[49m\u001b[38;5;124;43m\"\u001b[39;49m\u001b[38;5;124;43mpost\u001b[39;49m\u001b[38;5;124;43m\"\u001b[39;49m\u001b[43m,\u001b[49m\u001b[43m \u001b[49m\u001b[43murl\u001b[49m\u001b[43m,\u001b[49m\u001b[43m \u001b[49m\u001b[43mdata\u001b[49m\u001b[38;5;241;43m=\u001b[39;49m\u001b[43mdata\u001b[49m\u001b[43m,\u001b[49m\u001b[43m \u001b[49m\u001b[43mjson\u001b[49m\u001b[38;5;241;43m=\u001b[39;49m\u001b[43mjson\u001b[49m\u001b[43m,\u001b[49m\u001b[43m \u001b[49m\u001b[38;5;241;43m*\u001b[39;49m\u001b[38;5;241;43m*\u001b[39;49m\u001b[43mkwargs\u001b[49m\u001b[43m)\u001b[49m\n",
      "File \u001b[0;32m~/miniconda3/envs/local-llm/lib/python3.9/site-packages/requests/api.py:59\u001b[0m, in \u001b[0;36mrequest\u001b[0;34m(method, url, **kwargs)\u001b[0m\n\u001b[1;32m     55\u001b[0m \u001b[38;5;66;03m# By using the 'with' statement we are sure the session is closed, thus we\u001b[39;00m\n\u001b[1;32m     56\u001b[0m \u001b[38;5;66;03m# avoid leaving sockets open which can trigger a ResourceWarning in some\u001b[39;00m\n\u001b[1;32m     57\u001b[0m \u001b[38;5;66;03m# cases, and look like a memory leak in others.\u001b[39;00m\n\u001b[1;32m     58\u001b[0m \u001b[38;5;28;01mwith\u001b[39;00m sessions\u001b[38;5;241m.\u001b[39mSession() \u001b[38;5;28;01mas\u001b[39;00m session:\n\u001b[0;32m---> 59\u001b[0m     \u001b[38;5;28;01mreturn\u001b[39;00m \u001b[43msession\u001b[49m\u001b[38;5;241;43m.\u001b[39;49m\u001b[43mrequest\u001b[49m\u001b[43m(\u001b[49m\u001b[43mmethod\u001b[49m\u001b[38;5;241;43m=\u001b[39;49m\u001b[43mmethod\u001b[49m\u001b[43m,\u001b[49m\u001b[43m \u001b[49m\u001b[43murl\u001b[49m\u001b[38;5;241;43m=\u001b[39;49m\u001b[43murl\u001b[49m\u001b[43m,\u001b[49m\u001b[43m \u001b[49m\u001b[38;5;241;43m*\u001b[39;49m\u001b[38;5;241;43m*\u001b[39;49m\u001b[43mkwargs\u001b[49m\u001b[43m)\u001b[49m\n",
      "File \u001b[0;32m~/miniconda3/envs/local-llm/lib/python3.9/site-packages/requests/sessions.py:589\u001b[0m, in \u001b[0;36mSession.request\u001b[0;34m(self, method, url, params, data, headers, cookies, files, auth, timeout, allow_redirects, proxies, hooks, stream, verify, cert, json)\u001b[0m\n\u001b[1;32m    584\u001b[0m send_kwargs \u001b[38;5;241m=\u001b[39m {\n\u001b[1;32m    585\u001b[0m     \u001b[38;5;124m\"\u001b[39m\u001b[38;5;124mtimeout\u001b[39m\u001b[38;5;124m\"\u001b[39m: timeout,\n\u001b[1;32m    586\u001b[0m     \u001b[38;5;124m\"\u001b[39m\u001b[38;5;124mallow_redirects\u001b[39m\u001b[38;5;124m\"\u001b[39m: allow_redirects,\n\u001b[1;32m    587\u001b[0m }\n\u001b[1;32m    588\u001b[0m send_kwargs\u001b[38;5;241m.\u001b[39mupdate(settings)\n\u001b[0;32m--> 589\u001b[0m resp \u001b[38;5;241m=\u001b[39m \u001b[38;5;28;43mself\u001b[39;49m\u001b[38;5;241;43m.\u001b[39;49m\u001b[43msend\u001b[49m\u001b[43m(\u001b[49m\u001b[43mprep\u001b[49m\u001b[43m,\u001b[49m\u001b[43m \u001b[49m\u001b[38;5;241;43m*\u001b[39;49m\u001b[38;5;241;43m*\u001b[39;49m\u001b[43msend_kwargs\u001b[49m\u001b[43m)\u001b[49m\n\u001b[1;32m    591\u001b[0m \u001b[38;5;28;01mreturn\u001b[39;00m resp\n",
      "File \u001b[0;32m~/miniconda3/envs/local-llm/lib/python3.9/site-packages/requests/sessions.py:703\u001b[0m, in \u001b[0;36mSession.send\u001b[0;34m(self, request, **kwargs)\u001b[0m\n\u001b[1;32m    700\u001b[0m start \u001b[38;5;241m=\u001b[39m preferred_clock()\n\u001b[1;32m    702\u001b[0m \u001b[38;5;66;03m# Send the request\u001b[39;00m\n\u001b[0;32m--> 703\u001b[0m r \u001b[38;5;241m=\u001b[39m \u001b[43madapter\u001b[49m\u001b[38;5;241;43m.\u001b[39;49m\u001b[43msend\u001b[49m\u001b[43m(\u001b[49m\u001b[43mrequest\u001b[49m\u001b[43m,\u001b[49m\u001b[43m \u001b[49m\u001b[38;5;241;43m*\u001b[39;49m\u001b[38;5;241;43m*\u001b[39;49m\u001b[43mkwargs\u001b[49m\u001b[43m)\u001b[49m\n\u001b[1;32m    705\u001b[0m \u001b[38;5;66;03m# Total elapsed time of the request (approximately)\u001b[39;00m\n\u001b[1;32m    706\u001b[0m elapsed \u001b[38;5;241m=\u001b[39m preferred_clock() \u001b[38;5;241m-\u001b[39m start\n",
      "File \u001b[0;32m~/miniconda3/envs/local-llm/lib/python3.9/site-packages/requests/adapters.py:589\u001b[0m, in \u001b[0;36mHTTPAdapter.send\u001b[0;34m(self, request, stream, timeout, verify, cert, proxies)\u001b[0m\n\u001b[1;32m    586\u001b[0m     timeout \u001b[38;5;241m=\u001b[39m TimeoutSauce(connect\u001b[38;5;241m=\u001b[39mtimeout, read\u001b[38;5;241m=\u001b[39mtimeout)\n\u001b[1;32m    588\u001b[0m \u001b[38;5;28;01mtry\u001b[39;00m:\n\u001b[0;32m--> 589\u001b[0m     resp \u001b[38;5;241m=\u001b[39m \u001b[43mconn\u001b[49m\u001b[38;5;241;43m.\u001b[39;49m\u001b[43murlopen\u001b[49m\u001b[43m(\u001b[49m\n\u001b[1;32m    590\u001b[0m \u001b[43m        \u001b[49m\u001b[43mmethod\u001b[49m\u001b[38;5;241;43m=\u001b[39;49m\u001b[43mrequest\u001b[49m\u001b[38;5;241;43m.\u001b[39;49m\u001b[43mmethod\u001b[49m\u001b[43m,\u001b[49m\n\u001b[1;32m    591\u001b[0m \u001b[43m        \u001b[49m\u001b[43murl\u001b[49m\u001b[38;5;241;43m=\u001b[39;49m\u001b[43murl\u001b[49m\u001b[43m,\u001b[49m\n\u001b[1;32m    592\u001b[0m \u001b[43m        \u001b[49m\u001b[43mbody\u001b[49m\u001b[38;5;241;43m=\u001b[39;49m\u001b[43mrequest\u001b[49m\u001b[38;5;241;43m.\u001b[39;49m\u001b[43mbody\u001b[49m\u001b[43m,\u001b[49m\n\u001b[1;32m    593\u001b[0m \u001b[43m        \u001b[49m\u001b[43mheaders\u001b[49m\u001b[38;5;241;43m=\u001b[39;49m\u001b[43mrequest\u001b[49m\u001b[38;5;241;43m.\u001b[39;49m\u001b[43mheaders\u001b[49m\u001b[43m,\u001b[49m\n\u001b[1;32m    594\u001b[0m \u001b[43m        \u001b[49m\u001b[43mredirect\u001b[49m\u001b[38;5;241;43m=\u001b[39;49m\u001b[38;5;28;43;01mFalse\u001b[39;49;00m\u001b[43m,\u001b[49m\n\u001b[1;32m    595\u001b[0m \u001b[43m        \u001b[49m\u001b[43massert_same_host\u001b[49m\u001b[38;5;241;43m=\u001b[39;49m\u001b[38;5;28;43;01mFalse\u001b[39;49;00m\u001b[43m,\u001b[49m\n\u001b[1;32m    596\u001b[0m \u001b[43m        \u001b[49m\u001b[43mpreload_content\u001b[49m\u001b[38;5;241;43m=\u001b[39;49m\u001b[38;5;28;43;01mFalse\u001b[39;49;00m\u001b[43m,\u001b[49m\n\u001b[1;32m    597\u001b[0m \u001b[43m        \u001b[49m\u001b[43mdecode_content\u001b[49m\u001b[38;5;241;43m=\u001b[39;49m\u001b[38;5;28;43;01mFalse\u001b[39;49;00m\u001b[43m,\u001b[49m\n\u001b[1;32m    598\u001b[0m \u001b[43m        \u001b[49m\u001b[43mretries\u001b[49m\u001b[38;5;241;43m=\u001b[39;49m\u001b[38;5;28;43mself\u001b[39;49m\u001b[38;5;241;43m.\u001b[39;49m\u001b[43mmax_retries\u001b[49m\u001b[43m,\u001b[49m\n\u001b[1;32m    599\u001b[0m \u001b[43m        \u001b[49m\u001b[43mtimeout\u001b[49m\u001b[38;5;241;43m=\u001b[39;49m\u001b[43mtimeout\u001b[49m\u001b[43m,\u001b[49m\n\u001b[1;32m    600\u001b[0m \u001b[43m        \u001b[49m\u001b[43mchunked\u001b[49m\u001b[38;5;241;43m=\u001b[39;49m\u001b[43mchunked\u001b[49m\u001b[43m,\u001b[49m\n\u001b[1;32m    601\u001b[0m \u001b[43m    \u001b[49m\u001b[43m)\u001b[49m\n\u001b[1;32m    603\u001b[0m \u001b[38;5;28;01mexcept\u001b[39;00m (ProtocolError, \u001b[38;5;167;01mOSError\u001b[39;00m) \u001b[38;5;28;01mas\u001b[39;00m err:\n\u001b[1;32m    604\u001b[0m     \u001b[38;5;28;01mraise\u001b[39;00m \u001b[38;5;167;01mConnectionError\u001b[39;00m(err, request\u001b[38;5;241m=\u001b[39mrequest)\n",
      "File \u001b[0;32m~/miniconda3/envs/local-llm/lib/python3.9/site-packages/urllib3/connectionpool.py:789\u001b[0m, in \u001b[0;36mHTTPConnectionPool.urlopen\u001b[0;34m(self, method, url, body, headers, retries, redirect, assert_same_host, timeout, pool_timeout, release_conn, chunked, body_pos, preload_content, decode_content, **response_kw)\u001b[0m\n\u001b[1;32m    786\u001b[0m response_conn \u001b[38;5;241m=\u001b[39m conn \u001b[38;5;28;01mif\u001b[39;00m \u001b[38;5;129;01mnot\u001b[39;00m release_conn \u001b[38;5;28;01melse\u001b[39;00m \u001b[38;5;28;01mNone\u001b[39;00m\n\u001b[1;32m    788\u001b[0m \u001b[38;5;66;03m# Make the request on the HTTPConnection object\u001b[39;00m\n\u001b[0;32m--> 789\u001b[0m response \u001b[38;5;241m=\u001b[39m \u001b[38;5;28;43mself\u001b[39;49m\u001b[38;5;241;43m.\u001b[39;49m\u001b[43m_make_request\u001b[49m\u001b[43m(\u001b[49m\n\u001b[1;32m    790\u001b[0m \u001b[43m    \u001b[49m\u001b[43mconn\u001b[49m\u001b[43m,\u001b[49m\n\u001b[1;32m    791\u001b[0m \u001b[43m    \u001b[49m\u001b[43mmethod\u001b[49m\u001b[43m,\u001b[49m\n\u001b[1;32m    792\u001b[0m \u001b[43m    \u001b[49m\u001b[43murl\u001b[49m\u001b[43m,\u001b[49m\n\u001b[1;32m    793\u001b[0m \u001b[43m    \u001b[49m\u001b[43mtimeout\u001b[49m\u001b[38;5;241;43m=\u001b[39;49m\u001b[43mtimeout_obj\u001b[49m\u001b[43m,\u001b[49m\n\u001b[1;32m    794\u001b[0m \u001b[43m    \u001b[49m\u001b[43mbody\u001b[49m\u001b[38;5;241;43m=\u001b[39;49m\u001b[43mbody\u001b[49m\u001b[43m,\u001b[49m\n\u001b[1;32m    795\u001b[0m \u001b[43m    \u001b[49m\u001b[43mheaders\u001b[49m\u001b[38;5;241;43m=\u001b[39;49m\u001b[43mheaders\u001b[49m\u001b[43m,\u001b[49m\n\u001b[1;32m    796\u001b[0m \u001b[43m    \u001b[49m\u001b[43mchunked\u001b[49m\u001b[38;5;241;43m=\u001b[39;49m\u001b[43mchunked\u001b[49m\u001b[43m,\u001b[49m\n\u001b[1;32m    797\u001b[0m \u001b[43m    \u001b[49m\u001b[43mretries\u001b[49m\u001b[38;5;241;43m=\u001b[39;49m\u001b[43mretries\u001b[49m\u001b[43m,\u001b[49m\n\u001b[1;32m    798\u001b[0m \u001b[43m    \u001b[49m\u001b[43mresponse_conn\u001b[49m\u001b[38;5;241;43m=\u001b[39;49m\u001b[43mresponse_conn\u001b[49m\u001b[43m,\u001b[49m\n\u001b[1;32m    799\u001b[0m \u001b[43m    \u001b[49m\u001b[43mpreload_content\u001b[49m\u001b[38;5;241;43m=\u001b[39;49m\u001b[43mpreload_content\u001b[49m\u001b[43m,\u001b[49m\n\u001b[1;32m    800\u001b[0m \u001b[43m    \u001b[49m\u001b[43mdecode_content\u001b[49m\u001b[38;5;241;43m=\u001b[39;49m\u001b[43mdecode_content\u001b[49m\u001b[43m,\u001b[49m\n\u001b[1;32m    801\u001b[0m \u001b[43m    \u001b[49m\u001b[38;5;241;43m*\u001b[39;49m\u001b[38;5;241;43m*\u001b[39;49m\u001b[43mresponse_kw\u001b[49m\u001b[43m,\u001b[49m\n\u001b[1;32m    802\u001b[0m \u001b[43m\u001b[49m\u001b[43m)\u001b[49m\n\u001b[1;32m    804\u001b[0m \u001b[38;5;66;03m# Everything went great!\u001b[39;00m\n\u001b[1;32m    805\u001b[0m clean_exit \u001b[38;5;241m=\u001b[39m \u001b[38;5;28;01mTrue\u001b[39;00m\n",
      "File \u001b[0;32m~/miniconda3/envs/local-llm/lib/python3.9/site-packages/urllib3/connectionpool.py:536\u001b[0m, in \u001b[0;36mHTTPConnectionPool._make_request\u001b[0;34m(self, conn, method, url, body, headers, retries, timeout, chunked, response_conn, preload_content, decode_content, enforce_content_length)\u001b[0m\n\u001b[1;32m    534\u001b[0m \u001b[38;5;66;03m# Receive the response from the server\u001b[39;00m\n\u001b[1;32m    535\u001b[0m \u001b[38;5;28;01mtry\u001b[39;00m:\n\u001b[0;32m--> 536\u001b[0m     response \u001b[38;5;241m=\u001b[39m \u001b[43mconn\u001b[49m\u001b[38;5;241;43m.\u001b[39;49m\u001b[43mgetresponse\u001b[49m\u001b[43m(\u001b[49m\u001b[43m)\u001b[49m\n\u001b[1;32m    537\u001b[0m \u001b[38;5;28;01mexcept\u001b[39;00m (BaseSSLError, \u001b[38;5;167;01mOSError\u001b[39;00m) \u001b[38;5;28;01mas\u001b[39;00m e:\n\u001b[1;32m    538\u001b[0m     \u001b[38;5;28mself\u001b[39m\u001b[38;5;241m.\u001b[39m_raise_timeout(err\u001b[38;5;241m=\u001b[39me, url\u001b[38;5;241m=\u001b[39murl, timeout_value\u001b[38;5;241m=\u001b[39mread_timeout)\n",
      "File \u001b[0;32m~/miniconda3/envs/local-llm/lib/python3.9/site-packages/urllib3/connection.py:464\u001b[0m, in \u001b[0;36mHTTPConnection.getresponse\u001b[0;34m(self)\u001b[0m\n\u001b[1;32m    461\u001b[0m \u001b[38;5;28;01mfrom\u001b[39;00m \u001b[38;5;21;01m.\u001b[39;00m\u001b[38;5;21;01mresponse\u001b[39;00m \u001b[38;5;28;01mimport\u001b[39;00m HTTPResponse\n\u001b[1;32m    463\u001b[0m \u001b[38;5;66;03m# Get the response from http.client.HTTPConnection\u001b[39;00m\n\u001b[0;32m--> 464\u001b[0m httplib_response \u001b[38;5;241m=\u001b[39m \u001b[38;5;28;43msuper\u001b[39;49m\u001b[43m(\u001b[49m\u001b[43m)\u001b[49m\u001b[38;5;241;43m.\u001b[39;49m\u001b[43mgetresponse\u001b[49m\u001b[43m(\u001b[49m\u001b[43m)\u001b[49m\n\u001b[1;32m    466\u001b[0m \u001b[38;5;28;01mtry\u001b[39;00m:\n\u001b[1;32m    467\u001b[0m     assert_header_parsing(httplib_response\u001b[38;5;241m.\u001b[39mmsg)\n",
      "File \u001b[0;32m~/miniconda3/envs/local-llm/lib/python3.9/http/client.py:1377\u001b[0m, in \u001b[0;36mHTTPConnection.getresponse\u001b[0;34m(self)\u001b[0m\n\u001b[1;32m   1375\u001b[0m \u001b[38;5;28;01mtry\u001b[39;00m:\n\u001b[1;32m   1376\u001b[0m     \u001b[38;5;28;01mtry\u001b[39;00m:\n\u001b[0;32m-> 1377\u001b[0m         \u001b[43mresponse\u001b[49m\u001b[38;5;241;43m.\u001b[39;49m\u001b[43mbegin\u001b[49m\u001b[43m(\u001b[49m\u001b[43m)\u001b[49m\n\u001b[1;32m   1378\u001b[0m     \u001b[38;5;28;01mexcept\u001b[39;00m \u001b[38;5;167;01mConnectionError\u001b[39;00m:\n\u001b[1;32m   1379\u001b[0m         \u001b[38;5;28mself\u001b[39m\u001b[38;5;241m.\u001b[39mclose()\n",
      "File \u001b[0;32m~/miniconda3/envs/local-llm/lib/python3.9/http/client.py:320\u001b[0m, in \u001b[0;36mHTTPResponse.begin\u001b[0;34m(self)\u001b[0m\n\u001b[1;32m    318\u001b[0m \u001b[38;5;66;03m# read until we get a non-100 response\u001b[39;00m\n\u001b[1;32m    319\u001b[0m \u001b[38;5;28;01mwhile\u001b[39;00m \u001b[38;5;28;01mTrue\u001b[39;00m:\n\u001b[0;32m--> 320\u001b[0m     version, status, reason \u001b[38;5;241m=\u001b[39m \u001b[38;5;28;43mself\u001b[39;49m\u001b[38;5;241;43m.\u001b[39;49m\u001b[43m_read_status\u001b[49m\u001b[43m(\u001b[49m\u001b[43m)\u001b[49m\n\u001b[1;32m    321\u001b[0m     \u001b[38;5;28;01mif\u001b[39;00m status \u001b[38;5;241m!=\u001b[39m CONTINUE:\n\u001b[1;32m    322\u001b[0m         \u001b[38;5;28;01mbreak\u001b[39;00m\n",
      "File \u001b[0;32m~/miniconda3/envs/local-llm/lib/python3.9/http/client.py:281\u001b[0m, in \u001b[0;36mHTTPResponse._read_status\u001b[0;34m(self)\u001b[0m\n\u001b[1;32m    280\u001b[0m \u001b[38;5;28;01mdef\u001b[39;00m \u001b[38;5;21m_read_status\u001b[39m(\u001b[38;5;28mself\u001b[39m):\n\u001b[0;32m--> 281\u001b[0m     line \u001b[38;5;241m=\u001b[39m \u001b[38;5;28mstr\u001b[39m(\u001b[38;5;28;43mself\u001b[39;49m\u001b[38;5;241;43m.\u001b[39;49m\u001b[43mfp\u001b[49m\u001b[38;5;241;43m.\u001b[39;49m\u001b[43mreadline\u001b[49m\u001b[43m(\u001b[49m\u001b[43m_MAXLINE\u001b[49m\u001b[43m \u001b[49m\u001b[38;5;241;43m+\u001b[39;49m\u001b[43m \u001b[49m\u001b[38;5;241;43m1\u001b[39;49m\u001b[43m)\u001b[49m, \u001b[38;5;124m\"\u001b[39m\u001b[38;5;124miso-8859-1\u001b[39m\u001b[38;5;124m\"\u001b[39m)\n\u001b[1;32m    282\u001b[0m     \u001b[38;5;28;01mif\u001b[39;00m \u001b[38;5;28mlen\u001b[39m(line) \u001b[38;5;241m>\u001b[39m _MAXLINE:\n\u001b[1;32m    283\u001b[0m         \u001b[38;5;28;01mraise\u001b[39;00m LineTooLong(\u001b[38;5;124m\"\u001b[39m\u001b[38;5;124mstatus line\u001b[39m\u001b[38;5;124m\"\u001b[39m)\n",
      "File \u001b[0;32m~/miniconda3/envs/local-llm/lib/python3.9/socket.py:704\u001b[0m, in \u001b[0;36mSocketIO.readinto\u001b[0;34m(self, b)\u001b[0m\n\u001b[1;32m    702\u001b[0m \u001b[38;5;28;01mwhile\u001b[39;00m \u001b[38;5;28;01mTrue\u001b[39;00m:\n\u001b[1;32m    703\u001b[0m     \u001b[38;5;28;01mtry\u001b[39;00m:\n\u001b[0;32m--> 704\u001b[0m         \u001b[38;5;28;01mreturn\u001b[39;00m \u001b[38;5;28;43mself\u001b[39;49m\u001b[38;5;241;43m.\u001b[39;49m\u001b[43m_sock\u001b[49m\u001b[38;5;241;43m.\u001b[39;49m\u001b[43mrecv_into\u001b[49m\u001b[43m(\u001b[49m\u001b[43mb\u001b[49m\u001b[43m)\u001b[49m\n\u001b[1;32m    705\u001b[0m     \u001b[38;5;28;01mexcept\u001b[39;00m timeout:\n\u001b[1;32m    706\u001b[0m         \u001b[38;5;28mself\u001b[39m\u001b[38;5;241m.\u001b[39m_timeout_occurred \u001b[38;5;241m=\u001b[39m \u001b[38;5;28;01mTrue\u001b[39;00m\n",
      "\u001b[0;31mKeyboardInterrupt\u001b[0m: "
     ]
    }
   ],
   "source": [
    "vectorstore_before_topic_model = FAISS.from_documents(docs, embeddings)\n",
    "retriever_before_topic_model = vectorstore_before_topic_model.as_retriever(search_kwargs={\"k\": 10})"
   ]
  },
  {
   "cell_type": "code",
   "execution_count": null,
   "metadata": {},
   "outputs": [],
   "source": [
    "no_topic_docs = retriever_before_topic_model.invoke(query)"
   ]
  },
  {
   "cell_type": "code",
   "execution_count": null,
   "metadata": {},
   "outputs": [],
   "source": [
    "no_topic_docs"
   ]
  },
  {
   "cell_type": "code",
   "execution_count": null,
   "metadata": {},
   "outputs": [],
   "source": [
    "# See the number of document chunks referencing alibaba\n",
    "len([doc for doc in docs if \"alibaba\" in doc.metadata[\"file_path\"].lower()])"
   ]
  },
  {
   "cell_type": "code",
   "execution_count": null,
   "metadata": {},
   "outputs": [],
   "source": [
    "no_topic_resp = llm.invoke(f\"Answer the question: {query} with the following documents: {no_topic_docs}\")\n",
    "print(no_topic_resp)"
   ]
  },
  {
   "cell_type": "markdown",
   "metadata": {},
   "source": [
    "### Compare differences in document retrieval between topic modelling and no topic modelling"
   ]
  },
  {
   "cell_type": "code",
   "execution_count": null,
   "metadata": {},
   "outputs": [],
   "source": [
    "# Evaluate using ChatGPT.\n",
    "# The printed output will be the input to ChatGPT\n",
    "\n",
    "print(f\"Help me compare the relevant document retrieval performance comparing between\\\n",
    "      using topic modelling and not using topic modelling. I am using the query '{query}'\\\n",
    "      to retrieve relevant documents from both topic model and non-topic model methods.\\\n",
    "      I need you to identify which set of documents are better in terms of relevance to the query.\\\n",
    "      TO make the test fair, you won't know which set of documents are from the topic model and which are not.\\\n",
    "      Please compare the two sets of documents and identify which set of documents are more relevant to the query.\\n\\\n",
    "      Be succinct and NOT verbose, give me the better version straight away with a brief explanation why you think so.\\n\\\n",
    "      Focus on how good the documents are at answering the query. Some documents may have more keywords but less relevant content and that's not what we want.\\n\\\n",
    "      Version 1: Documents retrieved using topic model:\\\n",
    "        {topic_docs}\\n\\\n",
    "        Version 2: Documents retrieved without using topic model:\\\n",
    "        {no_topic_docs}\")"
   ]
  },
  {
   "cell_type": "code",
   "execution_count": null,
   "metadata": {},
   "outputs": [],
   "source": [
    "print(query)"
   ]
  },
  {
   "cell_type": "markdown",
   "metadata": {},
   "source": [
    "Saving and loading model for future re-use"
   ]
  },
  {
   "cell_type": "code",
   "execution_count": 37,
   "metadata": {},
   "outputs": [
    {
     "name": "stderr",
     "output_type": "stream",
     "text": [
      "2024-07-23 11:04:13,536 - BERTopic - WARNING: When you use `pickle` to save/load a BERTopic model,please make sure that the environments in which you saveand load the model are **exactly** the same. The version of BERTopic,its dependencies, and python need to remain the same.\n"
     ]
    }
   ],
   "source": [
    "topic_model.save(\"topic_cache\", serialization=\"pickle\", save_embedding_model=False, save_ctfidf=True)"
   ]
  },
  {
   "cell_type": "code",
   "execution_count": 38,
   "metadata": {},
   "outputs": [],
   "source": [
    "loaded_model = BERTopic.load(\"topic_cache\", embedding_model=SentenceTransformer(\"all-MiniLM-L6-v2\"))"
   ]
  },
  {
   "cell_type": "code",
   "execution_count": 39,
   "metadata": {},
   "outputs": [
    {
     "data": {
      "text/html": [
       "<div>\n",
       "<style scoped>\n",
       "    .dataframe tbody tr th:only-of-type {\n",
       "        vertical-align: middle;\n",
       "    }\n",
       "\n",
       "    .dataframe tbody tr th {\n",
       "        vertical-align: top;\n",
       "    }\n",
       "\n",
       "    .dataframe thead th {\n",
       "        text-align: right;\n",
       "    }\n",
       "</style>\n",
       "<table border=\"1\" class=\"dataframe\">\n",
       "  <thead>\n",
       "    <tr style=\"text-align: right;\">\n",
       "      <th></th>\n",
       "      <th>Topic</th>\n",
       "      <th>Count</th>\n",
       "      <th>Name</th>\n",
       "      <th>Representation</th>\n",
       "      <th>Representative_Docs</th>\n",
       "    </tr>\n",
       "  </thead>\n",
       "  <tbody>\n",
       "    <tr>\n",
       "      <th>0</th>\n",
       "      <td>-1</td>\n",
       "      <td>22</td>\n",
       "      <td>-1_aws_amazon_customers_customer</td>\n",
       "      <td>[aws, amazon, customers, customer, availabilit...</td>\n",
       "      <td>[: Y/Y % &gt; Certain Definitions &gt; : e Reference...</td>\n",
       "    </tr>\n",
       "    <tr>\n",
       "      <th>1</th>\n",
       "      <td>0</td>\n",
       "      <td>48</td>\n",
       "      <td>0_alibaba_commerce_merchants_business</td>\n",
       "      <td>[alibaba, commerce, merchants, business, compa...</td>\n",
       "      <td>[: Portable Lessons American Companies &gt; : [ 0...</td>\n",
       "    </tr>\n",
       "    <tr>\n",
       "      <th>2</th>\n",
       "      <td>1</td>\n",
       "      <td>26</td>\n",
       "      <td>1_aws_amazon_ec2_cloud</td>\n",
       "      <td>[aws, amazon, ec2, cloud, enterprise, capabili...</td>\n",
       "      <td>[: AMAZON.COM ANNOUNCES FIRST QUARTER RESULTS ...</td>\n",
       "    </tr>\n",
       "    <tr>\n",
       "      <th>3</th>\n",
       "      <td>2</td>\n",
       "      <td>25</td>\n",
       "      <td>2_income_amazon_sales_billion</td>\n",
       "      <td>[income, amazon, sales, billion, finance, taxe...</td>\n",
       "      <td>[: AMAZON.COM ANNOUNCES FIRST QUARTER RESULTS ...</td>\n",
       "    </tr>\n",
       "    <tr>\n",
       "      <th>4</th>\n",
       "      <td>3</td>\n",
       "      <td>15</td>\n",
       "      <td>3_amazon_march_diluted_2023</td>\n",
       "      <td>[amazon, march, diluted, 2023, quarter, 2024, ...</td>\n",
       "      <td>[: AMAZON.COM ANNOUNCES FIRST QUARTER RESULTS ...</td>\n",
       "    </tr>\n",
       "    <tr>\n",
       "      <th>5</th>\n",
       "      <td>4</td>\n",
       "      <td>15</td>\n",
       "      <td>4_financing_repayments_leases_finance</td>\n",
       "      <td>[financing, repayments, leases, finance, incom...</td>\n",
       "      <td>[: Y/Y % &gt; : ( 4 ) Free cash flow less princip...</td>\n",
       "    </tr>\n",
       "    <tr>\n",
       "      <th>6</th>\n",
       "      <td>5</td>\n",
       "      <td>9</td>\n",
       "      <td>5_sales_income_expenses_aws</td>\n",
       "      <td>[sales, income, expenses, aws, expense, consol...</td>\n",
       "      <td>[: AWS &gt; Consolidated &gt; : Net sales Operating ...</td>\n",
       "    </tr>\n",
       "    <tr>\n",
       "      <th>7</th>\n",
       "      <td>6</td>\n",
       "      <td>9</td>\n",
       "      <td>6_stockholders_liabilities_equity_earnings</td>\n",
       "      <td>[stockholders, liabilities, equity, earnings, ...</td>\n",
       "      <td>[: LIABILITIES STOCKHOLDERS ’ EQUITY &gt; : Accou...</td>\n",
       "    </tr>\n",
       "    <tr>\n",
       "      <th>8</th>\n",
       "      <td>7</td>\n",
       "      <td>7</td>\n",
       "      <td>7_amazon_2024_nasdaq_reports</td>\n",
       "      <td>[amazon, 2024, nasdaq, reports, announces, fin...</td>\n",
       "      <td>[: AMAZON.COM ANNOUNCES FIRST QUARTER RESULTS ...</td>\n",
       "    </tr>\n",
       "    <tr>\n",
       "      <th>9</th>\n",
       "      <td>8</td>\n",
       "      <td>7</td>\n",
       "      <td>8_amazon_analysts_ranking_companies</td>\n",
       "      <td>[amazon, analysts, ranking, companies, awards,...</td>\n",
       "      <td>[: AMAZON.COM ANNOUNCES FIRST QUARTER RESULTS ...</td>\n",
       "    </tr>\n",
       "    <tr>\n",
       "      <th>10</th>\n",
       "      <td>9</td>\n",
       "      <td>6</td>\n",
       "      <td>9_aws_2023_months_march</td>\n",
       "      <td>[aws, 2023, months, march, 032, 2024, 037, 247...</td>\n",
       "      <td>[: AWS &gt; Three Months Ended March 31 , 2023 20...</td>\n",
       "    </tr>\n",
       "  </tbody>\n",
       "</table>\n",
       "</div>"
      ],
      "text/plain": [
       "    Topic  Count                                        Name  \\\n",
       "0      -1     22            -1_aws_amazon_customers_customer   \n",
       "1       0     48       0_alibaba_commerce_merchants_business   \n",
       "2       1     26                      1_aws_amazon_ec2_cloud   \n",
       "3       2     25               2_income_amazon_sales_billion   \n",
       "4       3     15                 3_amazon_march_diluted_2023   \n",
       "5       4     15       4_financing_repayments_leases_finance   \n",
       "6       5      9                 5_sales_income_expenses_aws   \n",
       "7       6      9  6_stockholders_liabilities_equity_earnings   \n",
       "8       7      7                7_amazon_2024_nasdaq_reports   \n",
       "9       8      7         8_amazon_analysts_ranking_companies   \n",
       "10      9      6                     9_aws_2023_months_march   \n",
       "\n",
       "                                       Representation  \\\n",
       "0   [aws, amazon, customers, customer, availabilit...   \n",
       "1   [alibaba, commerce, merchants, business, compa...   \n",
       "2   [aws, amazon, ec2, cloud, enterprise, capabili...   \n",
       "3   [income, amazon, sales, billion, finance, taxe...   \n",
       "4   [amazon, march, diluted, 2023, quarter, 2024, ...   \n",
       "5   [financing, repayments, leases, finance, incom...   \n",
       "6   [sales, income, expenses, aws, expense, consol...   \n",
       "7   [stockholders, liabilities, equity, earnings, ...   \n",
       "8   [amazon, 2024, nasdaq, reports, announces, fin...   \n",
       "9   [amazon, analysts, ranking, companies, awards,...   \n",
       "10  [aws, 2023, months, march, 032, 2024, 037, 247...   \n",
       "\n",
       "                                  Representative_Docs  \n",
       "0   [: Y/Y % > Certain Definitions > : e Reference...  \n",
       "1   [: Portable Lessons American Companies > : [ 0...  \n",
       "2   [: AMAZON.COM ANNOUNCES FIRST QUARTER RESULTS ...  \n",
       "3   [: AMAZON.COM ANNOUNCES FIRST QUARTER RESULTS ...  \n",
       "4   [: AMAZON.COM ANNOUNCES FIRST QUARTER RESULTS ...  \n",
       "5   [: Y/Y % > : ( 4 ) Free cash flow less princip...  \n",
       "6   [: AWS > Consolidated > : Net sales Operating ...  \n",
       "7   [: LIABILITIES STOCKHOLDERS ’ EQUITY > : Accou...  \n",
       "8   [: AMAZON.COM ANNOUNCES FIRST QUARTER RESULTS ...  \n",
       "9   [: AMAZON.COM ANNOUNCES FIRST QUARTER RESULTS ...  \n",
       "10  [: AWS > Three Months Ended March 31 , 2023 20...  "
      ]
     },
     "execution_count": 39,
     "metadata": {},
     "output_type": "execute_result"
    }
   ],
   "source": [
    "loaded_model.get_topic_info()"
   ]
  },
  {
   "cell_type": "code",
   "execution_count": 53,
   "metadata": {},
   "outputs": [
    {
     "data": {
      "text/plain": [
       "11"
      ]
     },
     "execution_count": 53,
     "metadata": {},
     "output_type": "execute_result"
    }
   ],
   "source": [
    "len(loaded_model.get_topic_info())"
   ]
  },
  {
   "cell_type": "code",
   "execution_count": 55,
   "metadata": {},
   "outputs": [
    {
     "ename": "KeyError",
     "evalue": "-1",
     "output_type": "error",
     "traceback": [
      "\u001b[0;31m---------------------------------------------------------------------------\u001b[0m",
      "\u001b[0;31mValueError\u001b[0m                                Traceback (most recent call last)",
      "File \u001b[0;32m~/miniconda3/envs/local-llm/lib/python3.9/site-packages/pandas/core/indexes/range.py:413\u001b[0m, in \u001b[0;36mRangeIndex.get_loc\u001b[0;34m(self, key)\u001b[0m\n\u001b[1;32m    412\u001b[0m \u001b[38;5;28;01mtry\u001b[39;00m:\n\u001b[0;32m--> 413\u001b[0m     \u001b[38;5;28;01mreturn\u001b[39;00m \u001b[38;5;28;43mself\u001b[39;49m\u001b[38;5;241;43m.\u001b[39;49m\u001b[43m_range\u001b[49m\u001b[38;5;241;43m.\u001b[39;49m\u001b[43mindex\u001b[49m\u001b[43m(\u001b[49m\u001b[43mnew_key\u001b[49m\u001b[43m)\u001b[49m\n\u001b[1;32m    414\u001b[0m \u001b[38;5;28;01mexcept\u001b[39;00m \u001b[38;5;167;01mValueError\u001b[39;00m \u001b[38;5;28;01mas\u001b[39;00m err:\n",
      "\u001b[0;31mValueError\u001b[0m: -1 is not in range",
      "\nThe above exception was the direct cause of the following exception:\n",
      "\u001b[0;31mKeyError\u001b[0m                                  Traceback (most recent call last)",
      "Cell \u001b[0;32mIn[55], line 1\u001b[0m\n\u001b[0;32m----> 1\u001b[0m \u001b[43mloaded_model\u001b[49m\u001b[38;5;241;43m.\u001b[39;49m\u001b[43mget_topic_info\u001b[49m\u001b[43m(\u001b[49m\u001b[43m)\u001b[49m\u001b[43m[\u001b[49m\u001b[38;5;124;43m\"\u001b[39;49m\u001b[38;5;124;43mRepresentation\u001b[39;49m\u001b[38;5;124;43m\"\u001b[39;49m\u001b[43m]\u001b[49m\u001b[43m[\u001b[49m\u001b[38;5;241;43m-\u001b[39;49m\u001b[38;5;241;43m1\u001b[39;49m\u001b[43m]\u001b[49m\n",
      "File \u001b[0;32m~/miniconda3/envs/local-llm/lib/python3.9/site-packages/pandas/core/series.py:1121\u001b[0m, in \u001b[0;36mSeries.__getitem__\u001b[0;34m(self, key)\u001b[0m\n\u001b[1;32m   1118\u001b[0m     \u001b[38;5;28;01mreturn\u001b[39;00m \u001b[38;5;28mself\u001b[39m\u001b[38;5;241m.\u001b[39m_values[key]\n\u001b[1;32m   1120\u001b[0m \u001b[38;5;28;01melif\u001b[39;00m key_is_scalar:\n\u001b[0;32m-> 1121\u001b[0m     \u001b[38;5;28;01mreturn\u001b[39;00m \u001b[38;5;28;43mself\u001b[39;49m\u001b[38;5;241;43m.\u001b[39;49m\u001b[43m_get_value\u001b[49m\u001b[43m(\u001b[49m\u001b[43mkey\u001b[49m\u001b[43m)\u001b[49m\n\u001b[1;32m   1123\u001b[0m \u001b[38;5;66;03m# Convert generator to list before going through hashable part\u001b[39;00m\n\u001b[1;32m   1124\u001b[0m \u001b[38;5;66;03m# (We will iterate through the generator there to check for slices)\u001b[39;00m\n\u001b[1;32m   1125\u001b[0m \u001b[38;5;28;01mif\u001b[39;00m is_iterator(key):\n",
      "File \u001b[0;32m~/miniconda3/envs/local-llm/lib/python3.9/site-packages/pandas/core/series.py:1237\u001b[0m, in \u001b[0;36mSeries._get_value\u001b[0;34m(self, label, takeable)\u001b[0m\n\u001b[1;32m   1234\u001b[0m     \u001b[38;5;28;01mreturn\u001b[39;00m \u001b[38;5;28mself\u001b[39m\u001b[38;5;241m.\u001b[39m_values[label]\n\u001b[1;32m   1236\u001b[0m \u001b[38;5;66;03m# Similar to Index.get_value, but we do not fall back to positional\u001b[39;00m\n\u001b[0;32m-> 1237\u001b[0m loc \u001b[38;5;241m=\u001b[39m \u001b[38;5;28;43mself\u001b[39;49m\u001b[38;5;241;43m.\u001b[39;49m\u001b[43mindex\u001b[49m\u001b[38;5;241;43m.\u001b[39;49m\u001b[43mget_loc\u001b[49m\u001b[43m(\u001b[49m\u001b[43mlabel\u001b[49m\u001b[43m)\u001b[49m\n\u001b[1;32m   1239\u001b[0m \u001b[38;5;28;01mif\u001b[39;00m is_integer(loc):\n\u001b[1;32m   1240\u001b[0m     \u001b[38;5;28;01mreturn\u001b[39;00m \u001b[38;5;28mself\u001b[39m\u001b[38;5;241m.\u001b[39m_values[loc]\n",
      "File \u001b[0;32m~/miniconda3/envs/local-llm/lib/python3.9/site-packages/pandas/core/indexes/range.py:415\u001b[0m, in \u001b[0;36mRangeIndex.get_loc\u001b[0;34m(self, key)\u001b[0m\n\u001b[1;32m    413\u001b[0m         \u001b[38;5;28;01mreturn\u001b[39;00m \u001b[38;5;28mself\u001b[39m\u001b[38;5;241m.\u001b[39m_range\u001b[38;5;241m.\u001b[39mindex(new_key)\n\u001b[1;32m    414\u001b[0m     \u001b[38;5;28;01mexcept\u001b[39;00m \u001b[38;5;167;01mValueError\u001b[39;00m \u001b[38;5;28;01mas\u001b[39;00m err:\n\u001b[0;32m--> 415\u001b[0m         \u001b[38;5;28;01mraise\u001b[39;00m \u001b[38;5;167;01mKeyError\u001b[39;00m(key) \u001b[38;5;28;01mfrom\u001b[39;00m \u001b[38;5;21;01merr\u001b[39;00m\n\u001b[1;32m    416\u001b[0m \u001b[38;5;28;01mif\u001b[39;00m \u001b[38;5;28misinstance\u001b[39m(key, Hashable):\n\u001b[1;32m    417\u001b[0m     \u001b[38;5;28;01mraise\u001b[39;00m \u001b[38;5;167;01mKeyError\u001b[39;00m(key)\n",
      "\u001b[0;31mKeyError\u001b[0m: -1"
     ]
    }
   ],
   "source": [
    "loaded_model.get_topic_info()[\"Representation\"][-1]"
   ]
  },
  {
   "cell_type": "code",
   "execution_count": 57,
   "metadata": {},
   "outputs": [],
   "source": [
    "# Generate topic name\n",
    "topic_name = {}\n",
    "for i in range(len(loaded_model.get_topic_info())):\n",
    "    rep_words = loaded_model.get_topic_info()[\"Representation\"][i]\n",
    "    topic_name[i-1] = llm.invoke(f\"Generate a 2 to 3 word TOPIC NAME from the words it's represented by: ({rep_words[:4]}). IMPORTANT: EXCLUDE ANY PREAMBLE OR EXPLANATION.\")\n",
    "\n",
    "loaded_model.set_topic_labels(topic_name)"
   ]
  },
  {
   "cell_type": "markdown",
   "metadata": {},
   "source": [
    "![images](ideal_state.png)"
   ]
  },
  {
   "cell_type": "markdown",
   "metadata": {},
   "source": [
    "Note the linked topic under business practices. This happens when we try to topic model across multiple documents."
   ]
  },
  {
   "cell_type": "code",
   "execution_count": 58,
   "metadata": {},
   "outputs": [
    {
     "data": {
      "text/plain": [
       "{-1: 'Amazon Customers',\n",
       " 0: 'E-commerce Hub',\n",
       " 1: 'AWS Cloud Compute',\n",
       " 2: 'Amazon Sales',\n",
       " 3: 'Amazon March Report',\n",
       " 4: 'Financial Leases',\n",
       " 5: 'AWS Financials',\n",
       " 6: 'Financial Statements',\n",
       " 7: 'Amazon Nasdaq Reports',\n",
       " 8: 'Amazon Rankings',\n",
       " 9: 'AWS March 2023'}"
      ]
     },
     "execution_count": 58,
     "metadata": {},
     "output_type": "execute_result"
    }
   ],
   "source": [
    "topic_name"
   ]
  },
  {
   "cell_type": "code",
   "execution_count": null,
   "metadata": {},
   "outputs": [],
   "source": [
    "loaded_model.get_document_info(docs_str)[:1]"
   ]
  },
  {
   "cell_type": "code",
   "execution_count": 77,
   "metadata": {},
   "outputs": [],
   "source": [
    "from neo4j import GraphDatabase\n",
    "\n",
    "uri = \"neo4j://localhost:7688\"\n",
    "with GraphDatabase.driver(uri, auth=(\"neo4j\", \"password\")) as driver:\n",
    "    # Clear database\n",
    "    driver.execute_query(\"MATCH (n) DETACH DELETE n\")\n",
    "    # Add all topics\n",
    "    for topic in topic_name:\n",
    "        driver.execute_query(f\"CREATE (t:Topic {{name: '{topic_name[topic]}', id: '{topic}'}})\")\n",
    "    # Add all documents\n",
    "    doc_path = [doc.metadata['file_path'].split(\"/\")[-1] for doc in docs]\n",
    "    set_doc_path = set(doc_path)\n",
    "    for doc in set_doc_path:\n",
    "        driver.execute_query(f\"CREATE (d:Document {{name: '{doc}'}})\")\n",
    "    # Add all document chunks\n",
    "    for i, doc in enumerate(docs):\n",
    "        driver.execute_query(f\"CREATE (c:Chunk {{id: 'chunk_{i}', text: '{doc.page_content}', name: '{doc.metadata['file_path']}', topic: '{loaded_model.get_document_info(docs_str)['Topic'][i]}'}})\")\n",
    "    # Add relationships between documents and chunks\n",
    "    for i, doc in enumerate(docs):\n",
    "        driver.execute_query(f\"MATCH (d:Document {{name: '{doc.metadata['file_path'].split('/')[-1]}'}}), (c:Chunk {{id: 'chunk_{i}'}}) CREATE (d)-[:HAS_CHUNK]->(c)\")\n",
    "        # Add relationships between chunks and topics\n",
    "        driver.execute_query(f\"MATCH (c:Chunk {{id: 'chunk_{i}'}}), (t:Topic {{id: '{loaded_model.get_document_info(docs_str)['Topic'][i]}'}}) CREATE (c)-[:HAS_TOPIC]->(t)\")\n",
    "    # Add direct link between documents and topics\n",
    "    # for doc in set_doc_path:\n",
    "    #     driver.execute_query(f\"MATCH (d:Document {{name: '{doc}'}}), (t:Topic {{id: '{loaded_model.get_document_info(docs_str)['Topic'][doc_path.index(doc)]}'}}) CREATE (d)-[:HAS_TOPIC]->(t)\")\n",
    "    for doc_path in set_doc_path:\n",
    "        # Each main doc has multiple topics associated with it\n",
    "        # Find all topics associated with the doc\n",
    "        chunks = [doc for doc in docs if doc.metadata['file_path'].split('/')[-1] == doc_path]\n",
    "        topics = [loaded_model.get_document_info(docs_str)['Topic'][docs.index(chunk)] for chunk in chunks]\n",
    "        set_topics = set(topics)\n",
    "        for topic in set_topics:\n",
    "            driver.execute_query(f\"MATCH (d:Document {{name: '{doc_path}'}}), (t:Topic {{id: '{topic}'}}) CREATE (d)-[:HAS_TOPIC]->(t)\")\n"
   ]
  },
  {
   "cell_type": "code",
   "execution_count": 69,
   "metadata": {},
   "outputs": [
    {
     "data": {
      "text/plain": [
       "-1"
      ]
     },
     "execution_count": 69,
     "metadata": {},
     "output_type": "execute_result"
    }
   ],
   "source": [
    "loaded_model.get_document_info(docs_str)[\"Topic\"][0]"
   ]
  },
  {
   "cell_type": "code",
   "execution_count": null,
   "metadata": {},
   "outputs": [],
   "source": [
    "# Get all documents with topic 0\n"
   ]
  },
  {
   "cell_type": "code",
   "execution_count": null,
   "metadata": {},
   "outputs": [],
   "source": []
  }
 ],
 "metadata": {
  "kernelspec": {
   "display_name": "topic-modelling",
   "language": "python",
   "name": "python3"
  },
  "language_info": {
   "codemirror_mode": {
    "name": "ipython",
    "version": 3
   },
   "file_extension": ".py",
   "mimetype": "text/x-python",
   "name": "python",
   "nbconvert_exporter": "python",
   "pygments_lexer": "ipython3",
   "version": "3.9.19"
  }
 },
 "nbformat": 4,
 "nbformat_minor": 2
}
