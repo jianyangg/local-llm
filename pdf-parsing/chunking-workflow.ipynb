{
 "cells": [
  {
   "cell_type": "code",
   "execution_count": 1,
   "metadata": {},
   "outputs": [
    {
     "name": "stdout",
     "output_type": "stream",
     "text": [
      "Note: you may need to restart the kernel to use updated packages.\n"
     ]
    }
   ],
   "source": [
    "%pip install -U --quiet llmsherpa graphviz aspose-words langchain_experimental python-docx fpdf pdfkit pdf2image"
   ]
  },
  {
   "cell_type": "code",
   "execution_count": 2,
   "metadata": {},
   "outputs": [],
   "source": [
    "from llmsherpa.readers import LayoutPDFReader\n",
    "from llmsherpa.readers import LayoutReader\n",
    "from llmsherpa.readers.layout_reader import ListItem, Paragraph, Table\n",
    "from pprint import pprint\n",
    "from IPython.display import display, HTML, IFrame\n",
    "from graphviz import Digraph\n",
    "import subprocess\n",
    "import os\n",
    "import aspose.words as aw\n",
    "from langchain.docstore.document import Document as LangchainDocument\n",
    "from langchain_community.document_loaders.llmsherpa import LLMSherpaFileLoader\n",
    "from langchain_community.vectorstores import Neo4jVector\n",
    "from langchain_community.embeddings import OllamaEmbeddings\n",
    "from langchain_text_splitters import RecursiveCharacterTextSplitter\n",
    "from langchain_experimental.text_splitter import SemanticChunker\n",
    "from docx import Document as docxDocument\n",
    "from fpdf import FPDF\n",
    "from pdfkit import from_file\n",
    "from pdf2image import convert_from_path\n",
    "from PIL import ImageDraw, Image\n",
    "import fitz\n",
    "from langchain.retrievers import ContextualCompressionRetriever\n",
    "from langchain.retrievers.document_compressors import FlashrankRerank\n",
    "from langchain_community.llms import Ollama"
   ]
  },
  {
   "cell_type": "markdown",
   "metadata": {},
   "source": [
    "Input file here (we are limiting to pdf for now)"
   ]
  },
  {
   "cell_type": "code",
   "execution_count": 3,
   "metadata": {},
   "outputs": [],
   "source": [
    "file_path = \"documents/word.pdf\""
   ]
  },
  {
   "cell_type": "markdown",
   "metadata": {},
   "source": [
    "### Preliminary chunking using LLMSherpa"
   ]
  },
  {
   "cell_type": "markdown",
   "metadata": {},
   "source": [
    "##### LLMSherpa Setup"
   ]
  },
  {
   "cell_type": "code",
   "execution_count": 4,
   "metadata": {},
   "outputs": [],
   "source": [
    "db_config={\"ollama_base_url\": \"http://localhost:11434\",\n",
    "        \"llm_name\": \"llama3\",\n",
    "        \"nlm_url\": \"http://localhost:5010/api/parseDocument?renderFormat=all&applyOcr=yes&useNewIndentParser=yes\",\n",
    "        \"neo4j_url\": \"bolt://localhost:7687\",\n",
    "        \"neo4j_username\": \"neo4j\",\n",
    "        \"neo4j_password\": \"password\",\n",
    "        \"bbox_correction_multiple\": 2.78\n",
    "        }"
   ]
  },
  {
   "cell_type": "code",
   "execution_count": 5,
   "metadata": {},
   "outputs": [
    {
     "name": "stdout",
     "output_type": "stream",
     "text": [
      "documents/word.pdf\n"
     ]
    }
   ],
   "source": [
    "try:\n",
    "    reader = LayoutPDFReader(db_config[\"nlm_url\"])\n",
    "    print(file_path)\n",
    "    parsed_doc = reader.read_pdf(file_path)\n",
    "    layout_root = parsed_doc.root_node\n",
    "    json_doc = parsed_doc.json\n",
    "except Exception as e:\n",
    "    print(e)"
   ]
  },
  {
   "cell_type": "code",
   "execution_count": 6,
   "metadata": {},
   "outputs": [
    {
     "name": "stdout",
     "output_type": "stream",
     "text": [
      "{'bbox': [58.56, 312.09, 394.8, 740.1399999999999],\n",
      " 'block_class': 'cls_0',\n",
      " 'block_idx': 4,\n",
      " 'level': 1,\n",
      " 'page_idx': 0,\n",
      " 'sentences': [' ',\n",
      "               ' ',\n",
      "               '  In      January      1941--President      Franklin      '\n",
      "               'Roosevelt      came      to      this      chamber      to  ',\n",
      "               ' ',\n",
      "               '  speak      to      the      Nation.',\n",
      "               'He      said-----I      address      you      at   ',\n",
      "               ' ',\n",
      "               'a      moment  ',\n",
      "               ' ',\n",
      "               '  unprecedented [[Page      $2273]]  ',\n",
      "               ' ',\n",
      "               '  in      the      history      of      the      Union\".',\n",
      "               'Hitler      was      on      the      march.',\n",
      "               'War      was      raging  ',\n",
      "               ' ',\n",
      "               '  in      Europe.',\n",
      "               \"President      Roosevelt\\\\\\\\\\\\'s      purpose      was      \"\n",
      "               'to      wake      up      the      Congress  ',\n",
      "               ' ',\n",
      "               '  and      alert      the      American      people      '\n",
      "               'that      this      was      no      ordinary      moment.',\n",
      "               'Freedom  ',\n",
      "               ' ',\n",
      "               '  and      democracy      were      under      assault      '\n",
      "               'in      the      world.',\n",
      "               ' ',\n",
      "               ' ',\n",
      "               '  Tonight--I      come      to      the      same      '\n",
      "               'chamber      to      address      the      Nation.',\n",
      "               'Now      it      is  ',\n",
      "               ' ',\n",
      "               '  we      who      face      an      unprecedented      '\n",
      "               'moment      in      the      history      of      the      '\n",
      "               'Union.',\n",
      "               'And       yes--my      purpose      tonight      is      '\n",
      "               'to      both      wake      up      this      Congress      '\n",
      "               'and      alert      the  ',\n",
      "               ' ',\n",
      "               '  American      people      that      this      is      '\n",
      "               'no      ordinary      moment      either.',\n",
      "               ' ',\n",
      "               ' ',\n",
      "               '  Not      since      President      Lincoln      and      '\n",
      "               'the      Civil      War      have      freedom      and       '\n",
      "               'democracy      been      under      assault      here      '\n",
      "               'at      home      as      they      are      today.',\n",
      "               'What      makes  ',\n",
      "               ' ',\n",
      "               '  our      moment      rare      is      that      '\n",
      "               'freedom      and      democracy      are      under      '\n",
      "               'attack      both      at  ',\n",
      "               ' ',\n",
      "               '  home      and      overseas      at      the      very      '\n",
      "               'same      time.',\n",
      "               ' ',\n",
      "               ' ',\n",
      "               '  Overseas--Putin      of      Russia--is      on      '\n",
      "               'the      march.',\n",
      "               'Invading      Ukraine--and  ',\n",
      "               ' ',\n",
      "               '  sowing      chaos      throughout      Europe      and      '\n",
      "               'beyond.',\n",
      "               'If      anybody      in      this      room  ',\n",
      "               ' ',\n",
      "               '  thinks      Putin      will      stop      at      '\n",
      "               'Ukraine--I      assure      you--he      will      not.',\n",
      "               ' ',\n",
      "               ' ',\n",
      "               '  But      Ukraine      can      stop      Putin--if      '\n",
      "               'we      stand      with      Ukraine.',\n",
      "               'And      provide      the  ',\n",
      "               ' ',\n",
      "               '  weapons      it      needs      to      defend      itself.',\n",
      "               'That      is      all      Ukraine      is      asking.',\n",
      "               'They  ',\n",
      "               ' ',\n",
      "               '  are      not      asking      for      American      '\n",
      "               'soldiers.',\n",
      "               'In      fact--there      are      no      American  ',\n",
      "               ' ',\n",
      "               '  soldiers      at      war      in      Ukraine.',\n",
      "               'And   ',\n",
      "               ' ',\n",
      "               'I      am      determined      to      keep      it      '\n",
      "               'that      way.',\n",
      "               ' ',\n",
      "               ' ',\n",
      "               '  But      now--assistance      for      Ukraine      is      '\n",
      "               'being      blocked      by      those      who      want      '\n",
      "               'us  ',\n",
      "               ' ',\n",
      "               '  to      walk      away      from      our      '\n",
      "               'leadership      in      the      world.',\n",
      "               \"It      wasn\\\\\\\\\\\\'t      that      long      ago  \",\n",
      "               ' ',\n",
      "               '  when   ',\n",
      "               ' ',\n",
      "               'a      Republican      President--Ronald      '\n",
      "               'Reagan--thundered--**      Mr.  ',\n",
      "               ' ',\n",
      "               '  Gorbachev--tear      down      this      wall\".',\n",
      "               ' ',\n",
      "               ' ',\n",
      "               '  Now--my      predecessor--a      former      Republican      '\n",
      "               'President--tells      Putin--*      ‘Do  ',\n",
      "               ' ',\n",
      "               '  whatever      the      hell      you      want.\"',\n",
      "               ' ',\n",
      "               ' ',\n",
      "               'A      former      American      President      actually      '\n",
      "               'said  ',\n",
      "               ' ',\n",
      "               '  that--bowing      down--to   ',\n",
      "               ' ',\n",
      "               'a      Russian      leader.',\n",
      "               \"It\\\\\\\\\\\\'s      outrageous.\",\n",
      "               \"It\\\\\\\\\\\\'s  \",\n",
      "               ' ',\n",
      "               '  dangerous.',\n",
      "               \"It\\\\\\\\\\\\'s      unacceptable.\",\n",
      "               ' ',\n",
      "               ' ',\n",
      "               '  America      is   ',\n",
      "               ' ',\n",
      "               'a      founding      member      of      NATO--the      '\n",
      "               'military      alliance      of  ',\n",
      "               ' ',\n",
      "               '  democratic      nations--created      after      World      '\n",
      "               'War      II      to      prevent      war      and      keep  ',\n",
      "               ' ',\n",
      "               '  the      peace.',\n",
      "               ' ',\n",
      "               ' ',\n",
      "               \"  Today--I\\\\\\\\\\\\'ve      made      NATO      stronger      \"\n",
      "               'than      ever.',\n",
      "               'We      welcomed      Finland      to      the  ',\n",
      "               ' ',\n",
      "               '  Alliance      last      year.',\n",
      "               'And      just      this      morning--Sweden      '\n",
      "               'officially      joined  ',\n",
      "               ' ',\n",
      "               '  NATO--and      their      Prime      Minister--is      '\n",
      "               'here      tonight.'],\n",
      " 'tag': 'para'}\n"
     ]
    }
   ],
   "source": [
    "pprint(json_doc[4])"
   ]
  },
  {
   "cell_type": "markdown",
   "metadata": {},
   "source": [
    "Draw bounding box"
   ]
  },
  {
   "cell_type": "code",
   "execution_count": 7,
   "metadata": {},
   "outputs": [],
   "source": [
    "def draw_bounding_box_on_pdf_image(pdf_path, coordinates, page_number=0, dpi=200):\n",
    "    # Convert PDF page to image\n",
    "    images = convert_from_path(pdf_path, first_page=page_number + 1, last_page=page_number + 1)\n",
    "    \n",
    "    # Assuming we have only one image since we specified a single page\n",
    "    img = images[0]\n",
    "    \n",
    "    # Get the size of the PDF page in points (1 point = 1/72 inches)\n",
    "    pdf_doc = fitz.open(pdf_path)\n",
    "    page = pdf_doc.load_page(page_number)\n",
    "    page_width, page_height = page.rect.width, page.rect.height\n",
    "    \n",
    "    # Scale coordinates to match the image resolution\n",
    "    scale_x = img.width / page_width\n",
    "    print(scale_x)\n",
    "    scale_y = img.height / page_height\n",
    "    print(scale_y)\n",
    "    scaled_coordinates = tuple(int(coord * scale_x) for coord in coordinates)\n",
    "\n",
    "    # Manually tune the right limit more\n",
    "    scaled_coordinates = (scaled_coordinates[0], scaled_coordinates[1], scaled_coordinates[2] + 60, scaled_coordinates[3])\n",
    "    \n",
    "    # Draw the bounding box on the image\n",
    "    draw = ImageDraw.Draw(img)\n",
    "    draw.rectangle(scaled_coordinates, outline=\"red\", width=2)\n",
    "    \n",
    "    # Save the image with the bounding box\n",
    "    img.save(\"output/bbox.png\")"
   ]
  },
  {
   "cell_type": "code",
   "execution_count": 8,
   "metadata": {},
   "outputs": [
    {
     "name": "stdout",
     "output_type": "stream",
     "text": [
      "2.7777777777777777\n",
      "2.7777777777777777\n"
     ]
    }
   ],
   "source": [
    "draw_bounding_box_on_pdf_image(file_path, json_doc[4][\"bbox\"], json_doc[4][\"page_idx\"])"
   ]
  },
  {
   "cell_type": "markdown",
   "metadata": {},
   "source": [
    "Visualise layout tree"
   ]
  },
  {
   "cell_type": "code",
   "execution_count": 9,
   "metadata": {},
   "outputs": [],
   "source": [
    "def visualize_block_tree(root, max_level=-1, graph=None):\n",
    "    if graph is None:\n",
    "        graph = Digraph()\n",
    "    \n",
    "    node_id = str(id(root))\n",
    "    graph.node(node_id, f\"{root.tag} (level {root.level})\")\n",
    "\n",
    "    for child in root.children:\n",
    "        child_id = str(id(child))\n",
    "        max_level = max(max_level, child.level)\n",
    "        graph.node(child_id, f\"{child.tag} (level {child.level})\")\n",
    "        graph.edge(node_id, child_id)\n",
    "        # reset the root node and recurse\n",
    "        _, lvl = visualize_block_tree(child, max_level, graph)\n",
    "        max_level = max(max_level, lvl)\n",
    "    \n",
    "    return graph, max_level"
   ]
  },
  {
   "cell_type": "code",
   "execution_count": 10,
   "metadata": {},
   "outputs": [
    {
     "name": "stdout",
     "output_type": "stream",
     "text": [
      "1\n"
     ]
    }
   ],
   "source": [
    "graph, max_level = visualize_block_tree(layout_root)\n",
    "graph.render('block_tree', view=True)\n",
    "print(max_level)"
   ]
  },
  {
   "cell_type": "code",
   "execution_count": 11,
   "metadata": {},
   "outputs": [],
   "source": [
    "def parent_chain(node):\n",
    "    \"\"\"\n",
    "    Returns the parent chain of the block consisting of all the parents of the block until the root.\n",
    "    \"\"\"\n",
    "    chain = []\n",
    "    parent = node.parent\n",
    "    while parent:\n",
    "        chain.append(parent)\n",
    "        parent = parent.parent\n",
    "    chain.reverse()\n",
    "    return chain\n",
    "\n",
    "def parent_text(node):\n",
    "    \"\"\"\n",
    "    Returns the text of the parent chain of the block. This is useful for adding section information to the text.\n",
    "    \"\"\"\n",
    "    chain = parent_chain(node)\n",
    "    header_texts = []\n",
    "    para_texts = []\n",
    "    for p in chain:\n",
    "        if p.tag == \"header\":\n",
    "            header_texts.append(p.to_text()) \n",
    "        elif p.tag in ['list_item', 'para']:\n",
    "            para_texts.append(p.to_text())\n",
    "    text = \"\\n\\n >> next header >> \\n\\n\".join(header_texts)\n",
    "    if len(para_texts) > 0:\n",
    "        text +=\"\\n\\n\".join(para_texts)\n",
    "    return text\n",
    "   \n",
    "def to_context_text(node, include_section_info=True):\n",
    "    \"\"\"\n",
    "    This is a customised function largely derived from layout_reader.py of the llmsherpa library\n",
    "    Returns the text of the block with section information. This provides context to the text.\n",
    "    \"\"\"\n",
    "    text = \"**CONTENT HEADER**\"\n",
    "    if include_section_info and parent_text(node) != \"\":\n",
    "        text += parent_text(node) + \"\\n\\n >> next header >> \\n\\n\"\n",
    "    else:\n",
    "        text += \"\\n\\n\"\n",
    "    text += \"**CONTENT**\\n\"\n",
    "    if node.tag in ['list_item', 'para', 'table']:\n",
    "        text += node.to_text(include_children=True, recurse=True)\n",
    "    else:\n",
    "        text += node.to_text()\n",
    "    return text"
   ]
  },
  {
   "cell_type": "code",
   "execution_count": 12,
   "metadata": {},
   "outputs": [],
   "source": [
    "def is_use_semantic_chunking(leaf_nodes):\n",
    "    # Returns true if more than 50% of paragraphs have only one line\n",
    "    count = 0\n",
    "    num_paras = len(leaf_nodes)\n",
    "    \n",
    "    for node in leaf_nodes:\n",
    "        if node.tag == \"para\":\n",
    "            txt = node.to_text().strip()\n",
    "\n",
    "            lines = txt.split(\"\\n\")\n",
    "            if len(lines) == 1:\n",
    "                count += 1\n",
    "                print(\"Text is:\", txt)\n",
    "\n",
    "    print(\"Count is:\", count)\n",
    "    return count > num_paras/2"
   ]
  },
  {
   "cell_type": "code",
   "execution_count": 13,
   "metadata": {},
   "outputs": [
    {
     "name": "stdout",
     "output_type": "stream",
     "text": [
      "Found 19 leaf nodes\n",
      "Count is: 0\n"
     ]
    }
   ],
   "source": [
    "leaf_nodes = []\n",
    "\n",
    "def find_leaf_nodes(node):\n",
    "    if len(node.children) == 0:\n",
    "        leaf_nodes.append(node)\n",
    "    for child in node.children:\n",
    "        find_leaf_nodes(child)\n",
    "\n",
    "find_leaf_nodes(layout_root)\n",
    "\n",
    "print(f\"Found {len(leaf_nodes)} leaf nodes\")\n",
    "\n",
    "if is_use_semantic_chunking(leaf_nodes):\n",
    "    # Perform semantic chunking\n",
    "\n",
    "    ## Load embeddings\n",
    "    embeddings = OllamaEmbeddings(\n",
    "        base_url=db_config[\"ollama_base_url\"],\t\n",
    "        model=db_config[\"llm_name\"]\n",
    "    )\n",
    "    ## Chunk documents using semantic chunker\n",
    "    text_splitter = SemanticChunker(\n",
    "        embeddings, breakpoint_threshold_type=\"percentile\"\n",
    "    )\n",
    "\n",
    "    full_text = \"\"\n",
    "    for child in layout_root.children:\n",
    "        full_text += child.to_text(include_children=True, recurse=True) + \"\\n\"\n",
    "\n",
    "    docs = text_splitter.create_documents([full_text[:20]])\n",
    "    print(docs[0])\n",
    "else:\n",
    "    # Use chunks from llmsherpa\n",
    "    # Each chunk is each leaf_node with to_context_text()\n",
    "    collated_pg_content = [to_context_text(node) for node in leaf_nodes]\n",
    "\n",
    "    assert len(collated_pg_content) == len(leaf_nodes)\n",
    "    \n",
    "    # Convert to Langchain documents\n",
    "    # langchainDocument metadata limited to bbox, page_idx, and level for now\n",
    "    docs = [LangchainDocument(page_content=collated_pg_content[i], metadata={key: leaf_nodes[i].block_json[key] for key in ('bbox', 'page_idx', 'level')}) for i in range(len(collated_pg_content))]"
   ]
  },
  {
   "cell_type": "markdown",
   "metadata": {},
   "source": [
    "Testing with LLM"
   ]
  },
  {
   "cell_type": "code",
   "execution_count": 14,
   "metadata": {},
   "outputs": [],
   "source": [
    "embeddings = OllamaEmbeddings(\n",
    "    base_url=db_config[\"ollama_base_url\"],\n",
    "    model=db_config[\"llm_name\"]\n",
    ")"
   ]
  },
  {
   "cell_type": "code",
   "execution_count": 15,
   "metadata": {},
   "outputs": [
    {
     "name": "stdout",
     "output_type": "stream",
     "text": [
      "base_url='http://localhost:11434' model='llama3' embed_instruction='passage: ' query_instruction='query: ' mirostat=None mirostat_eta=None mirostat_tau=None num_ctx=None num_gpu=None num_thread=None repeat_last_n=None repeat_penalty=None temperature=None stop=None tfs_z=None top_k=None top_p=None show_progress=False headers=None model_kwargs=None\n"
     ]
    }
   ],
   "source": [
    "print(embeddings)"
   ]
  },
  {
   "cell_type": "code",
   "execution_count": 16,
   "metadata": {},
   "outputs": [
    {
     "name": "stderr",
     "output_type": "stream",
     "text": [
      "Received notification from DBMS server: {severity: WARNING} {code: Neo.ClientNotification.Statement.FeatureDeprecationWarning} {category: DEPRECATION} {title: This feature is deprecated and will be removed in future versions.} {description: The query used a deprecated procedure. ('db.create.setVectorProperty' has been replaced by 'db.create.setNodeVectorProperty')} {position: line: 1, column: 80, offset: 79} for query: \"UNWIND $data AS row CALL { WITH row MERGE (c:`Chunk` {id: row.id}) WITH c, row CALL db.create.setVectorProperty(c, 'embedding', row.embedding) YIELD node SET c.`text` = row.text SET c += row.metadata } IN TRANSACTIONS OF 1000 ROWS\"\n"
     ]
    }
   ],
   "source": [
    "hybrid_db = Neo4jVector.from_documents(\n",
    "    docs,\n",
    "    embedding=embeddings,\n",
    "    url=db_config[\"neo4j_url\"],\n",
    "    username=db_config[\"neo4j_username\"],\n",
    "    password=db_config[\"neo4j_password\"],\n",
    "    search_type=\"hybrid\",\n",
    ")"
   ]
  },
  {
   "cell_type": "code",
   "execution_count": 17,
   "metadata": {},
   "outputs": [],
   "source": [
    "index_name = \"vector\"  # default index name\n",
    "keyword_index_name = \"keyword\"  # default keyword index name\n",
    "\n",
    "store = Neo4jVector.from_existing_index(\n",
    "    embeddings,\n",
    "    url=db_config[\"neo4j_url\"],\n",
    "    username=db_config[\"neo4j_username\"],\n",
    "    password=db_config[\"neo4j_password\"],\n",
    "    index_name=index_name,\n",
    "    keyword_index_name=keyword_index_name,\n",
    "    search_type=\"hybrid\",\n",
    ")"
   ]
  },
  {
   "cell_type": "code",
   "execution_count": 18,
   "metadata": {},
   "outputs": [],
   "source": [
    "retriever = store.as_retriever()"
   ]
  },
  {
   "cell_type": "code",
   "execution_count": 47,
   "metadata": {},
   "outputs": [],
   "source": [
    "query = \"Does the speaker believe Roe v Wade got it right?\""
   ]
  },
  {
   "cell_type": "code",
   "execution_count": 48,
   "metadata": {},
   "outputs": [
    {
     "name": "stdout",
     "output_type": "stream",
     "text": [
      "PageContent: **CONTENT HEADER**PRESIDENTIAL      MESSAGE\n",
      "\n",
      " >> next header >> \n",
      "\n",
      "**CONTENT**\n",
      " \n",
      " \n",
      "  Between      those      who      want      to      pull      America      back      to      the      past      and      those      who  \n",
      " \n",
      "  want      to      move      America      into      the      future.\n",
      "Metadata: {'level': 1, 'page_idx': 9, 'bbox': [58.8, 449.66, 379.92, 472.7]}\n"
     ]
    }
   ],
   "source": [
    "resp = retriever.invoke(query)[0]\n",
    "print(\"PageContent:\", resp.page_content)\n",
    "print(\"Metadata:\", resp.metadata)"
   ]
  },
  {
   "cell_type": "code",
   "execution_count": 49,
   "metadata": {},
   "outputs": [
    {
     "name": "stdout",
     "output_type": "stream",
     "text": [
      "2.7777777777777777\n",
      "2.7777777777777777\n"
     ]
    }
   ],
   "source": [
    "draw_bounding_box_on_pdf_image(file_path, resp.metadata[\"bbox\"], resp.metadata[\"page_idx\"])"
   ]
  },
  {
   "cell_type": "markdown",
   "metadata": {},
   "source": [
    "Rerank (shown to return better results)"
   ]
  },
  {
   "cell_type": "code",
   "execution_count": 50,
   "metadata": {},
   "outputs": [],
   "source": [
    "llm = Ollama(model=\"llama3\", temperature=0, base_url=\"http://localhost:11434\")\n",
    "\n",
    "compressor = FlashrankRerank()\n",
    "compression_retriever = ContextualCompressionRetriever(\n",
    "    base_compressor=compressor, base_retriever=retriever\n",
    ")\n",
    "\n",
    "compressed_docs = compression_retriever.invoke(\n",
    "    \"Does the speaker believe Roe v Wade got it right?\"\n",
    ")"
   ]
  },
  {
   "cell_type": "code",
   "execution_count": 51,
   "metadata": {},
   "outputs": [
    {
     "data": {
      "text/plain": [
       "Document(page_content=\"**CONTENT HEADER**PRESIDENTIAL      MESSAGE\\n\\n >> next header >> \\n\\n**CONTENT**\\n \\n \\n  So      tonight--let\\\\\\\\\\\\'s      stand      up      for      families      like      hers!\\nTo      my      friends  \\n \\n  across      the      aisle--don\\\\\\\\\\\\'t      keep      families      waiting      any      longer.\\nGuarantee      the  \\n \\n  right      to      IVF      nationwide!\\n \\n \\n  Like      most      Americans--I      believe--Roe      v.      Wade      got      it      right.\\nAnd   \\n \\nI      thank  \\n \\n  Vice      President      Harris      for      being      an      incredible      leader      defending  \\n \\n  reproductive      freedom      and      so      much      more.\\n \\n \\n  But      my      predecessor--came      to      office      determined      to      see      Roe      v.      Wade  \\n \\n  overturned.\\nHe\\\\\\\\\\\\'s      the      reason      it      was.\\nIn      fact--he      brags      about      it.\\nLook      at  \\n \\n  the      chaos.\\n \\n \\n  Joining      us      tonight      is      Kate      Cox--a      wife      and      mother      from      Dallas.\\nWhen  \\n \\n  she      became      pregnant      again      the      fetus      had   \\n \\na      fatal      condition.\\nHer      doctors  \\n \\n  told      Kate      that      her      own      life--and      her      ability      to      have      children      in      the  \\n \\n  future--were      at      risk.\\nBecause      Texas      law      banned      abortion      Kate      and      her  \\n \\n  husband      had      to      leave      the      State      to      get      the      care      she      needed.\\nWhat      her  \\n \\n  family      has      gone      through      should      never      have      happened      as      well.\\n \\n \\n  But      it      is      happening      to      so      many      others.\\nThere      are      State      laws      banning  \\n \\n  abortion--criminalizing      doctors--and      forcing      survivors      of      rape      and       incest      to      leave      their      States      as      well.\\n \\n \\n  Many      of      you      in      this      chamber--and      my      predecessor--are      promising      to  \\n \\n  pass   \\n \\na      national      ban      on      reproductive      freedom.\\nMy      God--what      freedoms      will  \\n \\n  you      take      next?\\n \\n \\n  In      its      decision      to      overturn      Roe      v.      Wade--the      Supreme      Court      majority  \\n \\n  wrote--      “Women      are      not      without      electoral      or      political      power.\\\\\\\\\\\\'\\\\\\\\\\\\'      No  \\n \\n  kidding.\\nClearly      those      bragging      about      overturning      Roe      v.      Wade      have      no  \\n \\n  clue      about      the      power      of      women      in      America.\\n \\n \\n  They      found      out      though--when      reproductive      freedom      was      on      the      ballot  \\n \\n  and      won--in      2022--2023--and      they      will      find      out      again--in      2024.\\nIf  \\n \\n  Americans      send      me   \\n \\na      Congress      that      supports      the      right      to      choose--I  \\n \\n  promise      you--I      will      restore      Roe      v.      Wade--as      the      law      of      the      land--again!\\n \\n \\n  America--cannot      go      back.\\n \\n \\nI      am      here      tonight--to      show      the      way      forward.\\n \\n \\n  Because   \\n \\nI      know      how      far      we\\\\\\\\\\\\'ve      come.\\nFour      years      ago      next      week--before   \\n \\nI       came      to      office--our      country      was      hit      by      the      worst      pandemic      and      the      worst  \\n \\n  economic      crisis      in   \\n \\na      century.\\nRemember      the      fear.\\nRecord      job      losses.\\n \\n \\nA       record      spike      in      murder.\\n \\n \\nA      raging      virus      that      would      take      more      than   \\n \\n1       million      American      lives      and      leave      millions      of      loved      ones      behind.\\n \\n \\nA       mental      health      crisis      of      isolation      and      loneliness.\\n \\n \\nA      President--my  \\n \\n  predecessor--who      failed      the      most      basic      duty      any      President      owes      the  \\n \\n  American      people--the      duty      to      care.\\nThat      is      unforgivable.\\n \\n \\n  I      came      to      office      determined      to      get      us      through      one      of      the      toughest  \\n \\n  periods      in      our      Nation\\\\\\\\\\\\'s      history.\\nAnd      we      have.\\nIt      doesn\\\\\\\\\\\\'t      make      the  \\n \\n  news--but      in      thousands      of      cities      and      towns--the      American      people      are  \\n \\n  writing      the      greatest      comeback      story      never      told.\\nSo      let\\\\\\\\\\\\'s      tell      that  \\n \\n  story--here      and      now.  \\n \\n  America\\\\\\\\\\\\'s      comeback      is      building   \\n \\na      future      of      American      possibilities--  \\n \\n  building      an      economy      from      the      middle      out      and      the      bottom      up--not      the      top  \\n \\n  down--investing      in      all      of      America--in      all      Americans--to      make      sure  \\n \\n  everyone      has   \\n \\na      fair      shot      and      we      leave      no      one      behind!\\n \\n \\n  The      pandemic      no      longer      controls      our      lives.\\nThe      vaccines      that      saved      us  \\n \\n  from      COVID      are      now      being      used      to      help      beat      cancer.\\nTurning      setback      into  \\n \\n  comeback.\\nThat\\\\\\\\\\\\'s      America!\\n \\n \\n  I      inherited      an      economy      that      was      on      the      brink--now      our      economy      is      the  \\n \\n  envy      of      the      world!\\n15      million      new      jobs      in      just   \\n \\n3      years--that\\\\\\\\\\\\'s   \\n \\na       record.\\nUnemployment      at      50-year      lows.\\n \\n \\nA      record      16      million      Americans      are  \\n \\n  starting      small      businesses      and      each      one      is      an      act      of      hope.\\nWith      historic  \\n \\n  job      growth      and      small      business      growth      for      Black--Hispanic--and      Asian-  \\n \\n  Americans.\", metadata={'level': 1, 'page_idx': 1, 'bbox': [57.6, 471.74, 394.32, 735.34], 'relevance_score': 0.9991136})"
      ]
     },
     "execution_count": 51,
     "metadata": {},
     "output_type": "execute_result"
    }
   ],
   "source": [
    "compressed_docs[0]"
   ]
  },
  {
   "cell_type": "code",
   "execution_count": 52,
   "metadata": {},
   "outputs": [],
   "source": [
    "def pretty_print_docs(docs):\n",
    "    print(\n",
    "        f\"\\n{'-' * 100}\\n\".join(\n",
    "            [\n",
    "                f\"Document {i+1}:\\n\\n{d.page_content}\\nMetadata: {d.metadata}\"\n",
    "                for i, d in enumerate(docs)\n",
    "            ]\n",
    "        )\n",
    "    )"
   ]
  },
  {
   "cell_type": "code",
   "execution_count": 53,
   "metadata": {},
   "outputs": [
    {
     "name": "stdout",
     "output_type": "stream",
     "text": [
      "Document 1:\n",
      "\n",
      "**CONTENT HEADER**PRESIDENTIAL      MESSAGE\n",
      "\n",
      " >> next header >> \n",
      "\n",
      "**CONTENT**\n",
      " \n",
      " \n",
      "  So      tonight--let\\\\\\'s      stand      up      for      families      like      hers!\n",
      "To      my      friends  \n",
      " \n",
      "  across      the      aisle--don\\\\\\'t      keep      families      waiting      any      longer.\n",
      "Guarantee      the  \n",
      " \n",
      "  right      to      IVF      nationwide!\n",
      " \n",
      " \n",
      "  Like      most      Americans--I      believe--Roe      v.      Wade      got      it      right.\n",
      "And   \n",
      " \n",
      "I      thank  \n",
      " \n",
      "  Vice      President      Harris      for      being      an      incredible      leader      defending  \n",
      " \n",
      "  reproductive      freedom      and      so      much      more.\n",
      " \n",
      " \n",
      "  But      my      predecessor--came      to      office      determined      to      see      Roe      v.      Wade  \n",
      " \n",
      "  overturned.\n",
      "He\\\\\\'s      the      reason      it      was.\n",
      "In      fact--he      brags      about      it.\n",
      "Look      at  \n",
      " \n",
      "  the      chaos.\n",
      " \n",
      " \n",
      "  Joining      us      tonight      is      Kate      Cox--a      wife      and      mother      from      Dallas.\n",
      "When  \n",
      " \n",
      "  she      became      pregnant      again      the      fetus      had   \n",
      " \n",
      "a      fatal      condition.\n",
      "Her      doctors  \n",
      " \n",
      "  told      Kate      that      her      own      life--and      her      ability      to      have      children      in      the  \n",
      " \n",
      "  future--were      at      risk.\n",
      "Because      Texas      law      banned      abortion      Kate      and      her  \n",
      " \n",
      "  husband      had      to      leave      the      State      to      get      the      care      she      needed.\n",
      "What      her  \n",
      " \n",
      "  family      has      gone      through      should      never      have      happened      as      well.\n",
      " \n",
      " \n",
      "  But      it      is      happening      to      so      many      others.\n",
      "There      are      State      laws      banning  \n",
      " \n",
      "  abortion--criminalizing      doctors--and      forcing      survivors      of      rape      and       incest      to      leave      their      States      as      well.\n",
      " \n",
      " \n",
      "  Many      of      you      in      this      chamber--and      my      predecessor--are      promising      to  \n",
      " \n",
      "  pass   \n",
      " \n",
      "a      national      ban      on      reproductive      freedom.\n",
      "My      God--what      freedoms      will  \n",
      " \n",
      "  you      take      next?\n",
      " \n",
      " \n",
      "  In      its      decision      to      overturn      Roe      v.      Wade--the      Supreme      Court      majority  \n",
      " \n",
      "  wrote--      “Women      are      not      without      electoral      or      political      power.\\\\\\'\\\\\\'      No  \n",
      " \n",
      "  kidding.\n",
      "Clearly      those      bragging      about      overturning      Roe      v.      Wade      have      no  \n",
      " \n",
      "  clue      about      the      power      of      women      in      America.\n",
      " \n",
      " \n",
      "  They      found      out      though--when      reproductive      freedom      was      on      the      ballot  \n",
      " \n",
      "  and      won--in      2022--2023--and      they      will      find      out      again--in      2024.\n",
      "If  \n",
      " \n",
      "  Americans      send      me   \n",
      " \n",
      "a      Congress      that      supports      the      right      to      choose--I  \n",
      " \n",
      "  promise      you--I      will      restore      Roe      v.      Wade--as      the      law      of      the      land--again!\n",
      " \n",
      " \n",
      "  America--cannot      go      back.\n",
      " \n",
      " \n",
      "I      am      here      tonight--to      show      the      way      forward.\n",
      " \n",
      " \n",
      "  Because   \n",
      " \n",
      "I      know      how      far      we\\\\\\'ve      come.\n",
      "Four      years      ago      next      week--before   \n",
      " \n",
      "I       came      to      office--our      country      was      hit      by      the      worst      pandemic      and      the      worst  \n",
      " \n",
      "  economic      crisis      in   \n",
      " \n",
      "a      century.\n",
      "Remember      the      fear.\n",
      "Record      job      losses.\n",
      " \n",
      " \n",
      "A       record      spike      in      murder.\n",
      " \n",
      " \n",
      "A      raging      virus      that      would      take      more      than   \n",
      " \n",
      "1       million      American      lives      and      leave      millions      of      loved      ones      behind.\n",
      " \n",
      " \n",
      "A       mental      health      crisis      of      isolation      and      loneliness.\n",
      " \n",
      " \n",
      "A      President--my  \n",
      " \n",
      "  predecessor--who      failed      the      most      basic      duty      any      President      owes      the  \n",
      " \n",
      "  American      people--the      duty      to      care.\n",
      "That      is      unforgivable.\n",
      " \n",
      " \n",
      "  I      came      to      office      determined      to      get      us      through      one      of      the      toughest  \n",
      " \n",
      "  periods      in      our      Nation\\\\\\'s      history.\n",
      "And      we      have.\n",
      "It      doesn\\\\\\'t      make      the  \n",
      " \n",
      "  news--but      in      thousands      of      cities      and      towns--the      American      people      are  \n",
      " \n",
      "  writing      the      greatest      comeback      story      never      told.\n",
      "So      let\\\\\\'s      tell      that  \n",
      " \n",
      "  story--here      and      now.  \n",
      " \n",
      "  America\\\\\\'s      comeback      is      building   \n",
      " \n",
      "a      future      of      American      possibilities--  \n",
      " \n",
      "  building      an      economy      from      the      middle      out      and      the      bottom      up--not      the      top  \n",
      " \n",
      "  down--investing      in      all      of      America--in      all      Americans--to      make      sure  \n",
      " \n",
      "  everyone      has   \n",
      " \n",
      "a      fair      shot      and      we      leave      no      one      behind!\n",
      " \n",
      " \n",
      "  The      pandemic      no      longer      controls      our      lives.\n",
      "The      vaccines      that      saved      us  \n",
      " \n",
      "  from      COVID      are      now      being      used      to      help      beat      cancer.\n",
      "Turning      setback      into  \n",
      " \n",
      "  comeback.\n",
      "That\\\\\\'s      America!\n",
      " \n",
      " \n",
      "  I      inherited      an      economy      that      was      on      the      brink--now      our      economy      is      the  \n",
      " \n",
      "  envy      of      the      world!\n",
      "15      million      new      jobs      in      just   \n",
      " \n",
      "3      years--that\\\\\\'s   \n",
      " \n",
      "a       record.\n",
      "Unemployment      at      50-year      lows.\n",
      " \n",
      " \n",
      "A      record      16      million      Americans      are  \n",
      " \n",
      "  starting      small      businesses      and      each      one      is      an      act      of      hope.\n",
      "With      historic  \n",
      " \n",
      "  job      growth      and      small      business      growth      for      Black--Hispanic--and      Asian-  \n",
      " \n",
      "  Americans.\n",
      "Metadata: {'level': 1, 'page_idx': 1, 'bbox': [57.6, 471.74, 394.32, 735.34], 'relevance_score': 0.9991136}\n",
      "----------------------------------------------------------------------------------------------------\n",
      "Document 2:\n",
      "\n",
      "**CONTENT HEADER**PRESIDENTIAL      MESSAGE\n",
      "\n",
      " >> next header >> \n",
      "\n",
      "**CONTENT**\n",
      " \n",
      " \n",
      "  800,000      new      manufacturing      jobs      in      America      and      counting.\n",
      "More      people  \n",
      " \n",
      "  have      health      insurance      than      ever      before.\n",
      "The      racial      wealth      gap      is      the  \n",
      " \n",
      "  smallest      it\\\\\\'s      been      in      20      years.\n",
      "Wages      keep      going      up      and      inflation      keeps  \n",
      " \n",
      "  coming      down!\n",
      "Inflation      has      dropped      from   \n",
      " \n",
      "9      percent      to   \n",
      " \n",
      "3      percent--the  \n",
      " \n",
      "  lowest      in      the      world!\n",
      " \n",
      " \n",
      "  And      now--instead      of      importing      foreign      products      and      exporting      American [[Page      $2274]]  \n",
      " \n",
      "  jobs--we\\\\\\'re      exporting      American      products      and      creating      American      jobs--  \n",
      " \n",
      "  right      here      in      America.\n",
      "Where      they      belong!\n",
      "And      the      American      people      are  \n",
      " \n",
      "  beginning      to      feel      it.\n",
      "Metadata: {'level': 1, 'page_idx': 2, 'bbox': [57.6, 405.96, 381.84, 538.48], 'relevance_score': 0.9933019}\n",
      "----------------------------------------------------------------------------------------------------\n",
      "Document 3:\n",
      "\n",
      "**CONTENT HEADER**PRESIDENTIAL      MESSAGE\n",
      "\n",
      " >> next header >> \n",
      "\n",
      "**CONTENT**\n",
      " \n",
      " \n",
      "  Buy      American      has      been      the      law      of      the      land      since      the      1930s.\n",
      "Past  \n",
      " \n",
      "  administrations--including      my      predecessor--failed      to      Buy      American.\n",
      "Not.\n",
      " \n",
      " \n",
      "  Any.\n",
      "More.\n",
      "On      my      watch--Federal      projects      like      helping      to      build      American  \n",
      " \n",
      "  roads--bridges--and      highways      will      be      made      with      American      products--built  \n",
      " \n",
      "  by      American      workers--creating      good-paying      American      jobs!\n",
      " \n",
      " \n",
      "  Thanks      to      my      CHIPS      and      Science      Act--the      United      States      is      investing  \n",
      " \n",
      "  more      in      research      and      development      than      ever      before.\n",
      "During      the  \n",
      " \n",
      "  pandemic--a      shortage      of      semiconductor      chips      drove      up      prices      for  \n",
      " \n",
      "  everything--from      cell      phones      to      automobiles.\n",
      "Well--instead      of      having      to  \n",
      " \n",
      "  import      semiconductor      chips--which      America      invented   \n",
      " \n",
      "I      might      add--private  \n",
      " \n",
      "  companies      are      now      investing      billions      of      dollars      to      build      new      chip  \n",
      " \n",
      "  factories      here      in      America!\n",
      "Creating      tens      of      thousands      of      jobs--many      of  \n",
      " \n",
      "  them      paying      over      $100,000   \n",
      " \n",
      "a      year      and      don\\\\\\'t      require   \n",
      " \n",
      "a      college      degree.\n",
      "Metadata: {'level': 1, 'page_idx': 2, 'bbox': [58.56, 537.28, 381.36, 680.6], 'relevance_score': 0.8714108}\n"
     ]
    }
   ],
   "source": [
    "pretty_print_docs(compressed_docs)"
   ]
  },
  {
   "cell_type": "code",
   "execution_count": 54,
   "metadata": {},
   "outputs": [
    {
     "name": "stdout",
     "output_type": "stream",
     "text": [
      "2.7777777777777777\n",
      "2.7777777777777777\n"
     ]
    }
   ],
   "source": [
    "draw_bounding_box_on_pdf_image(file_path, compressed_docs[0].metadata[\"bbox\"], compressed_docs[0].metadata[\"page_idx\"])"
   ]
  },
  {
   "cell_type": "code",
   "execution_count": null,
   "metadata": {},
   "outputs": [],
   "source": []
  },
  {
   "cell_type": "code",
   "execution_count": null,
   "metadata": {},
   "outputs": [],
   "source": []
  }
 ],
 "metadata": {
  "kernelspec": {
   "display_name": "local-llm",
   "language": "python",
   "name": "python3"
  },
  "language_info": {
   "codemirror_mode": {
    "name": "ipython",
    "version": 3
   },
   "file_extension": ".py",
   "mimetype": "text/x-python",
   "name": "python",
   "nbconvert_exporter": "python",
   "pygments_lexer": "ipython3",
   "version": "3.9.12"
  }
 },
 "nbformat": 4,
 "nbformat_minor": 2
}
