{
 "cells": [
  {
   "cell_type": "code",
   "execution_count": 1,
   "metadata": {},
   "outputs": [
    {
     "name": "stdout",
     "output_type": "stream",
     "text": [
      "Note: you may need to restart the kernel to use updated packages.\n"
     ]
    }
   ],
   "source": [
    "%pip install -U --quiet llmsherpa graphviz aspose-words langchain_experimental python-docx fpdf pdfkit pdf2image"
   ]
  },
  {
   "cell_type": "code",
   "execution_count": 2,
   "metadata": {},
   "outputs": [],
   "source": [
    "from llmsherpa.readers import LayoutPDFReader\n",
    "from IPython.display import display, Markdown\n",
    "from graphviz import Digraph\n",
    "from langchain.docstore.document import Document as LangchainDocument\n",
    "from langchain_community.vectorstores import Neo4jVector\n",
    "from langchain_community.embeddings import OllamaEmbeddings\n",
    "from langchain_experimental.text_splitter import SemanticChunker\n",
    "from pdf2image import convert_from_path\n",
    "from PIL import ImageDraw\n",
    "import fitz\n",
    "from langchain_community.llms import Ollama\n",
    "from langchain_core.output_parsers import JsonOutputParser\n",
    "from langchain_core.output_parsers import StrOutputParser\n",
    "from langchain_core.prompts import PromptTemplate\n",
    "from flashrank import Ranker, RerankRequest"
   ]
  },
  {
   "cell_type": "markdown",
   "metadata": {},
   "source": [
    "**Focus Area: Improving the usefulness of RAG, now that a brief POC of the architecture has been achieved.**<br>\n",
    "- Performance of RAG depends heavily on chunking since RAG just uses LLM to stitch together information.<br>\n",
    "- Previously treated as a black box.<br>\n",
    "- Determine how best for users to verify documents used in answer generation."
   ]
  },
  {
   "cell_type": "markdown",
   "metadata": {},
   "source": [
    "##### Input file here (we are limiting to pdf for now)"
   ]
  },
  {
   "cell_type": "code",
   "execution_count": 3,
   "metadata": {},
   "outputs": [],
   "source": [
    "file_path = \"documents/report.pdf\""
   ]
  },
  {
   "cell_type": "markdown",
   "metadata": {},
   "source": [
    "### Preliminary chunking using LLMSherpa"
   ]
  },
  {
   "cell_type": "markdown",
   "metadata": {},
   "source": [
    "##### LLMSherpa Setup"
   ]
  },
  {
   "cell_type": "code",
   "execution_count": 4,
   "metadata": {},
   "outputs": [],
   "source": [
    "db_config= {\"ollama_base_url\": \"http://localhost:11434\",\n",
    "        \"llm_name\": \"llama3\",\n",
    "        \"nlm_url\": \"http://localhost:5010/api/parseDocument?renderFormat=all&applyOcr=yes&useNewIndentParser=yes\",\n",
    "        \"neo4j_url\": \"bolt://localhost:7687\",\n",
    "        \"neo4j_username\": \"neo4j\",\n",
    "        \"neo4j_password\": \"password\",\n",
    "        }"
   ]
  },
  {
   "cell_type": "code",
   "execution_count": 5,
   "metadata": {},
   "outputs": [
    {
     "name": "stdout",
     "output_type": "stream",
     "text": [
      "documents/report.pdf\n"
     ]
    }
   ],
   "source": [
    "try:\n",
    "    reader = LayoutPDFReader(db_config[\"nlm_url\"])\n",
    "    print(file_path)\n",
    "    parsed_doc = reader.read_pdf(file_path)\n",
    "    layout_root = parsed_doc.root_node\n",
    "    json_doc = parsed_doc.json\n",
    "except Exception as e:\n",
    "    print(\"Error:\", e)"
   ]
  },
  {
   "cell_type": "markdown",
   "metadata": {},
   "source": [
    "Draw bounding box"
   ]
  },
  {
   "cell_type": "code",
   "execution_count": 8,
   "metadata": {},
   "outputs": [],
   "source": [
    "def draw_bounding_box_on_pdf_image(pdf_path, coordinates, page_number=0, dpi=200):\n",
    "    # Convert PDF page to image\n",
    "    images = convert_from_path(pdf_path, first_page=page_number + 1, last_page=page_number + 1, dpi=dpi)\n",
    "    \n",
    "    # Assuming we have only one image since we specified a single page\n",
    "    img = images[0]\n",
    "    \n",
    "    # Get the size of the PDF page in points (1 point = 1/72 inches)\n",
    "    pdf_doc = fitz.open(pdf_path)\n",
    "    page = pdf_doc.load_page(page_number)\n",
    "    page_width, page_height = page.rect.width, page.rect.height\n",
    "    \n",
    "    # Scale coordinates to match the image resolution\n",
    "    scale_x = img.width / page_width\n",
    "    scale_y = img.height / page_height\n",
    "    scaled_coordinates = tuple(int(coord * max(scale_x, scale_y)) for coord in coordinates)\n",
    "\n",
    "    # Manually tune the right limit more\n",
    "    scaled_coordinates = (scaled_coordinates[0], scaled_coordinates[1], scaled_coordinates[2] + 60, scaled_coordinates[3])\n",
    "    \n",
    "    # Draw the bounding box on the image\n",
    "    draw = ImageDraw.Draw(img)\n",
    "    draw.rectangle(scaled_coordinates, outline=\"red\", width=2)\n",
    "\n",
    "    # Image file name\n",
    "    # take the pdf_path and add page_number\n",
    "    # image_path = pdf_path.replace(\".pdf\", f\"_page_{page_number}_{coordinates[1]}.png\")\n",
    "    image_path = pdf_path.split(\"/\")[-1].replace(\".pdf\", f\"_page_{page_number}_{coordinates[1]}.png\")\n",
    "    \n",
    "    # Save the image with the bounding box\n",
    "    img.save(f\"output/{image_path}\")"
   ]
  },
  {
   "cell_type": "markdown",
   "metadata": {},
   "source": [
    "Visualise layout tree (workings)"
   ]
  },
  {
   "cell_type": "code",
   "execution_count": 271,
   "metadata": {},
   "outputs": [],
   "source": [
    "def visualize_block_tree(root, max_level=-1, graph=None):\n",
    "    if graph is None:\n",
    "        graph = Digraph()\n",
    "    \n",
    "    node_id = str(id(root))\n",
    "    graph.node(node_id, f\"{root.tag} (level {root.level})\")\n",
    "\n",
    "    for child in root.children:\n",
    "        child_id = str(id(child))\n",
    "        max_level = max(max_level, child.level)\n",
    "        graph.node(child_id, f\"{child.tag} (level {child.level})\")\n",
    "        graph.edge(node_id, child_id)\n",
    "        # reset the root node and recurse\n",
    "        _, lvl = visualize_block_tree(child, max_level, graph)\n",
    "        max_level = max(max_level, lvl)\n",
    "    \n",
    "    return graph, max_level"
   ]
  },
  {
   "cell_type": "code",
   "execution_count": 272,
   "metadata": {},
   "outputs": [
    {
     "name": "stdout",
     "output_type": "stream",
     "text": [
      "3\n"
     ]
    }
   ],
   "source": [
    "graph, max_level = visualize_block_tree(layout_root)\n",
    "graph.render('block_tree', view=True)\n",
    "print(max_level)"
   ]
  },
  {
   "cell_type": "code",
   "execution_count": 273,
   "metadata": {},
   "outputs": [],
   "source": [
    "def parent_chain(node):\n",
    "    \"\"\"\n",
    "    Returns the parent chain of the block consisting of all the parents of the block until the root.\n",
    "    \"\"\"\n",
    "    chain = []\n",
    "    parent = node.parent\n",
    "    while parent:\n",
    "        chain.append(parent)\n",
    "        parent = parent.parent\n",
    "    chain.reverse()\n",
    "    return chain\n",
    "\n",
    "def parent_text(node):\n",
    "    \"\"\"\n",
    "    Returns the text of the parent chain of the block. This is useful for adding section information to the text.\n",
    "    \"\"\"\n",
    "    chain = parent_chain(node)\n",
    "    header_texts = []\n",
    "    para_texts = []\n",
    "    for p in chain:\n",
    "        if p.tag == \"header\":\n",
    "            header_texts.append(p.to_text()) \n",
    "        elif p.tag in ['list_item', 'para']:\n",
    "            para_texts.append(p.to_text())\n",
    "    text = \"\\n>\\n\".join(header_texts)\n",
    "    if len(para_texts) > 0:\n",
    "        text +=\"\\n\\n\".join(para_texts)\n",
    "    return text\n",
    "   \n",
    "def to_context_text(node, include_section_info=True):\n",
    "    \"\"\"\n",
    "    This is a customised function largely derived from layout_reader.py of the llmsherpa library\n",
    "    Returns the text of the block with section information. This provides context to the text.\n",
    "    \"\"\"\n",
    "    text = \"Metadata:\\n\"\n",
    "    if include_section_info and parent_text(node) != \"\":\n",
    "        text += parent_text(node) + \"  >\\n\"\n",
    "    text += \"Content:\\n\"\n",
    "    if node.tag in ['list_item', 'para']:\n",
    "        text += node.to_text(include_children=True, recurse=True)\n",
    "    elif node.tag == 'table':\n",
    "        text += node.to_html()\n",
    "    else:\n",
    "        text += node.to_text(include_children=True, recurse=True)\n",
    "    return text"
   ]
  },
  {
   "cell_type": "code",
   "execution_count": 276,
   "metadata": {},
   "outputs": [],
   "source": [
    "def is_use_semantic_chunking(leaf_nodes):\n",
    "    # Returns true if more than 50% of paragraphs have only one line\n",
    "    count = 0\n",
    "    num_paras = len([node for node in leaf_nodes if node.tag == \"para\"])\n",
    "    \n",
    "    for node in leaf_nodes:\n",
    "        if node.tag == \"para\":\n",
    "            txt = node.to_text().strip()\n",
    "\n",
    "            lines = txt.split(\"\\n\")\n",
    "            if len(lines) == 1:\n",
    "                count += 1\n",
    "                # print(\"Single line para:\", txt)\n",
    "\n",
    "    print(\"Number of single line para:\", count)\n",
    "    print(\"Number of paragraphs:\", num_paras)\n",
    "    return count > num_paras/2"
   ]
  },
  {
   "cell_type": "code",
   "execution_count": 277,
   "metadata": {},
   "outputs": [
    {
     "name": "stdout",
     "output_type": "stream",
     "text": [
      "Number of single line para: 26\n",
      "Number of paragraphs: 104\n",
      "Using llmsherpa\n"
     ]
    }
   ],
   "source": [
    "\n",
    "\n",
    "def find_leaf_nodes(node):\n",
    "    leaf_nodes = []\n",
    "\n",
    "    if len(node.children) == 0:\n",
    "        leaf_nodes.append(node)\n",
    "    for child in node.children:\n",
    "        find_leaf_nodes(child)\n",
    "\n",
    "    return leaf_nodes\n",
    "    \n",
    "\n",
    "leaf_nodes = find_leaf_nodes(layout_root)\n",
    "\n",
    "if is_use_semantic_chunking(leaf_nodes):\n",
    "    # Perform semantic chunking\n",
    "\n",
    "    ## Load embeddings\n",
    "    embeddings = OllamaEmbeddings(\n",
    "        base_url=db_config[\"ollama_base_url\"],\t\n",
    "        model=db_config[\"llm_name\"]\n",
    "    )\n",
    "    ## Chunk documents using semantic chunker\n",
    "    text_splitter = SemanticChunker(\n",
    "        embeddings, breakpoint_threshold_type=\"percentile\"\n",
    "    )\n",
    "\n",
    "    full_text = \"\"\n",
    "    for child in layout_root.children:\n",
    "        full_text += child.to_text(include_children=True, recurse=True) + \"\\n\"\n",
    "\n",
    "    docs = text_splitter.create_documents([full_text])\n",
    "else:\n",
    "    print(\"Using llmsherpa\")\n",
    "    # Use chunks from llmsherpa\n",
    "    # Each chunk is each leaf_node with to_context_text()\n",
    "    collated_pg_content = [to_context_text(node) for node in leaf_nodes]\n",
    "        \n",
    "    # Convert to Langchain documents\n",
    "    docs = [LangchainDocument(page_content=collated_pg_content[i], metadata={key: leaf_nodes[i].block_json[key] for key in ('bbox', 'page_idx', 'level')} | {\"file_path\": file_path}) for i in range(len(collated_pg_content))]"
   ]
  },
  {
   "cell_type": "markdown",
   "metadata": {},
   "source": [
    "Testing with LLM"
   ]
  },
  {
   "cell_type": "code",
   "execution_count": 245,
   "metadata": {},
   "outputs": [],
   "source": [
    "embeddings = OllamaEmbeddings(\n",
    "    base_url=db_config[\"ollama_base_url\"],\n",
    "    model=db_config[\"llm_name\"]\n",
    ")"
   ]
  },
  {
   "cell_type": "code",
   "execution_count": 246,
   "metadata": {},
   "outputs": [],
   "source": [
    "llm = Ollama(model=\"llama3\", temperature=0, base_url=\"http://localhost:11434\")"
   ]
  },
  {
   "cell_type": "code",
   "execution_count": 247,
   "metadata": {},
   "outputs": [
    {
     "name": "stderr",
     "output_type": "stream",
     "text": [
      "INFO:neo4j.notifications:Received notification from DBMS server: {severity: INFORMATION} {code: Neo.ClientNotification.Schema.IndexOrConstraintAlreadyExists} {category: SCHEMA} {title: `CREATE CONSTRAINT IF NOT EXISTS FOR (e:Chunk) REQUIRE (e.id) IS UNIQUE` has no effect.} {description: `CONSTRAINT constraint_1dc138a FOR (e:Chunk) REQUIRE (e.id) IS UNIQUE` already exists.} for query: 'CREATE CONSTRAINT IF NOT EXISTS FOR (n:`Chunk`) REQUIRE n.id IS UNIQUE;'\n",
      "WARNING:neo4j.notifications:Received notification from DBMS server: {severity: WARNING} {code: Neo.ClientNotification.Statement.FeatureDeprecationWarning} {category: DEPRECATION} {title: This feature is deprecated and will be removed in future versions.} {description: The query used a deprecated procedure. ('db.create.setVectorProperty' has been replaced by 'db.create.setNodeVectorProperty')} {position: line: 1, column: 80, offset: 79} for query: \"UNWIND $data AS row CALL { WITH row MERGE (c:`Chunk` {id: row.id}) WITH c, row CALL db.create.setVectorProperty(c, 'embedding', row.embedding) YIELD node SET c.`text` = row.text SET c += row.metadata } IN TRANSACTIONS OF 1000 ROWS\"\n"
     ]
    }
   ],
   "source": [
    "hybrid_db = Neo4jVector.from_documents(\n",
    "    docs,\n",
    "    embedding=embeddings,\n",
    "    url=db_config[\"neo4j_url\"],\n",
    "    username=db_config[\"neo4j_username\"],\n",
    "    password=db_config[\"neo4j_password\"],\n",
    "    search_type=\"hybrid\",\n",
    "    # TODO: Remove later\n",
    "    pre_delete_collection=True,\n",
    ")"
   ]
  },
  {
   "cell_type": "code",
   "execution_count": 248,
   "metadata": {},
   "outputs": [],
   "source": [
    "index_name = \"vector\"  # default index name\n",
    "keyword_index_name = \"keyword\"  # default keyword index name\n",
    "\n",
    "store = Neo4jVector.from_existing_index(\n",
    "    embeddings,\n",
    "    url=db_config[\"neo4j_url\"],\n",
    "    username=db_config[\"neo4j_username\"],\n",
    "    password=db_config[\"neo4j_password\"],\n",
    "    index_name=index_name,\n",
    "    keyword_index_name=keyword_index_name,\n",
    "    search_type=\"hybrid\",\n",
    ")"
   ]
  },
  {
   "cell_type": "code",
   "execution_count": 249,
   "metadata": {},
   "outputs": [],
   "source": [
    "retriever = store.as_retriever(search_kwargs={'k': 25, 'fetch_k': 50, 'score_threshold': 0.6})"
   ]
  },
  {
   "cell_type": "markdown",
   "metadata": {},
   "source": [
    "Rerank (shown to return better results)"
   ]
  },
  {
   "cell_type": "code",
   "execution_count": 250,
   "metadata": {},
   "outputs": [],
   "source": [
    "query = \"What are ALL the sales figure changes in the three months ended mar31, 2023\""
   ]
  },
  {
   "cell_type": "code",
   "execution_count": 251,
   "metadata": {},
   "outputs": [],
   "source": [
    "ranker = Ranker(model_name=\"ms-marco-MiniLM-L-12-v2\", cache_dir=\"cache\")"
   ]
  },
  {
   "cell_type": "code",
   "execution_count": 252,
   "metadata": {},
   "outputs": [],
   "source": [
    "docs = retriever.invoke(query)"
   ]
  },
  {
   "cell_type": "code",
   "execution_count": 253,
   "metadata": {},
   "outputs": [
    {
     "name": "stdout",
     "output_type": "stream",
     "text": [
      "Number of preliminary docs retrieved: 25\n"
     ]
    }
   ],
   "source": [
    "print(\"Number of preliminary docs retrieved:\", len(docs))"
   ]
  },
  {
   "cell_type": "code",
   "execution_count": 254,
   "metadata": {},
   "outputs": [],
   "source": [
    "def docs_to_passages(docs):\n",
    "    idx = 0\n",
    "    passages = []\n",
    "    for doc in docs:\n",
    "        passages.append({\n",
    "            \"id\": idx,\n",
    "            \"text\": doc.page_content,\n",
    "            \"meta\": doc.metadata\n",
    "        })\n",
    "        idx += 1\n",
    "    return passages"
   ]
  },
  {
   "cell_type": "code",
   "execution_count": 255,
   "metadata": {},
   "outputs": [
    {
     "name": "stdout",
     "output_type": "stream",
     "text": [
      "Number of reranked docs: 25\n"
     ]
    }
   ],
   "source": [
    "rerankrequest = RerankRequest(query=query, passages=docs_to_passages(docs))\n",
    "ranked_passages = ranker.rerank(rerankrequest)\n",
    "print(\"Number of reranked docs:\", len(ranked_passages))"
   ]
  },
  {
   "cell_type": "code",
   "execution_count": 256,
   "metadata": {},
   "outputs": [],
   "source": [
    "# Exclude scores below 0.8\n",
    "filtered_ranked_passages = [doc for doc in ranked_passages if doc['score'] >= 0.8]\n",
    "# If query isn't specific enough, the score will be very low. In this case, we can use the top 5 docs.\n",
    "filtered_ranked_passages = filtered_ranked_passages if len(filtered_ranked_passages) > 3 else ranked_passages[:10]"
   ]
  },
  {
   "cell_type": "code",
   "execution_count": 257,
   "metadata": {},
   "outputs": [
    {
     "name": "stdout",
     "output_type": "stream",
     "text": [
      "10\n"
     ]
    }
   ],
   "source": [
    "print(len(filtered_ranked_passages))"
   ]
  },
  {
   "cell_type": "code",
   "execution_count": 258,
   "metadata": {},
   "outputs": [],
   "source": [
    "def passages_to_langchainDocument(passages):\n",
    "    docs = []\n",
    "    for passage in passages:\n",
    "        docs.append(LangchainDocument(page_content=passage['text'], metadata=passage['meta']))\n",
    "    return docs"
   ]
  },
  {
   "cell_type": "code",
   "execution_count": 259,
   "metadata": {},
   "outputs": [],
   "source": [
    "final_docs = passages_to_langchainDocument(filtered_ranked_passages)"
   ]
  },
  {
   "cell_type": "code",
   "execution_count": 260,
   "metadata": {},
   "outputs": [],
   "source": [
    "def pretty_print_docs(docs):\n",
    "    print(\n",
    "        f\"\\n{'-' * 100}\\n\".join(\n",
    "            [\n",
    "                f\"Document {i+1}:\\n\\n{d.page_content}\\nMetadata: {d.metadata}\"\n",
    "                for i, d in enumerate(docs)\n",
    "            ]\n",
    "        )\n",
    "    )"
   ]
  },
  {
   "cell_type": "code",
   "execution_count": 261,
   "metadata": {},
   "outputs": [
    {
     "name": "stdout",
     "output_type": "stream",
     "text": [
      "Document 1:\n",
      "\n",
      "Metadata:\n",
      "AWS\n",
      ">\n",
      "Three      Months      Ended       March      31,       2023      2024  >\n",
      "Content:\n",
      "$\n",
      " \n",
      "   127,358   \n",
      " \n",
      "$      143,313 122,584      128,006 4,774      15,307 (655)      (2,324)  \n",
      " \n",
      "  (948)      (2,467) 1\n",
      " \n",
      "   (85) $\n",
      " \n",
      "   3,172   \n",
      " \n",
      "$      10,431\n",
      "Metadata: {'level': 2, 'page_idx': 11, 'bbox': [441.6, 376.19, 536.88, 478.94], 'file_path': 'documents/report.pdf'}\n",
      "----------------------------------------------------------------------------------------------------\n",
      "Document 2:\n",
      "\n",
      "Metadata:\n",
      "AWS\n",
      ">\n",
      "Three      Months      Ended       March      31,       2023      2024  >\n",
      "Content:\n",
      "$\n",
      " \n",
      "   29,123   \n",
      " \n",
      "$      31,935 30,370      31,032 $\n",
      " \n",
      "   (1,247)   \n",
      " \n",
      "$      903\n",
      "Metadata: {'level': 2, 'page_idx': 11, 'bbox': [441.6, 230.71, 535.2, 273.44], 'file_path': 'documents/report.pdf'}\n",
      "----------------------------------------------------------------------------------------------------\n",
      "Document 3:\n",
      "\n",
      "Metadata:\n",
      "AWS\n",
      ">\n",
      "Three      Months      Ended       March      31,       2023      2024  >\n",
      "Content:\n",
      "60   \n",
      " \n",
      "%      60   \n",
      " \n",
      "% 23      22 17      18\n",
      "Metadata: {'level': 2, 'page_idx': 11, 'bbox': [476.16, 601.86, 553.44, 643.87], 'file_path': 'documents/report.pdf'}\n",
      "----------------------------------------------------------------------------------------------------\n",
      "Document 4:\n",
      "\n",
      "Metadata:\n",
      "AMAZON.COM      ANNOUNCES      FIRST      QUARTER      RESULTS\n",
      ">\n",
      "Diluted       March      31,\n",
      ">\n",
      "Three      Months      Ended       March      31,       2023      2024  >\n",
      "Content:\n",
      "Net      sales Operating      expenses Operating      income\n",
      "Metadata: {'level': 3, 'page_idx': 11, 'bbox': [70.56, 157.49, 113.28, 199.5], 'file_path': 'documents/report.pdf'}\n",
      "----------------------------------------------------------------------------------------------------\n",
      "Document 5:\n",
      "\n",
      "Metadata:\n",
      "AMAZON.COM      ANNOUNCES      FIRST      QUARTER      RESULTS\n",
      ">\n",
      "Diluted       March      31,\n",
      ">\n",
      "Three      Months      Ended       March      31,       2023      2024  >\n",
      "Content:\n",
      "95      536\n",
      "Metadata: {'level': 3, 'page_idx': 10, 'bbox': [484.56, 220.63, 543.6, 232.63], 'file_path': 'documents/report.pdf'}\n",
      "----------------------------------------------------------------------------------------------------\n",
      "Document 6:\n",
      "\n",
      "Metadata:\n",
      "AMAZON.COM      ANNOUNCES      FIRST      QUARTER      RESULTS \n",
      " \n",
      " \n",
      "¢      Free      cash      flow      less      principal      repayments      of      finance      leases      and      financing      obligations      improved      to      an      inflow      of  \n",
      " \n",
      "  $46.1      billion      for      the      trailing      twelve      months,      compared      with      an      outflow      of      $10.1      billion      for      the      trailing      twelve      months  \n",
      " \n",
      "  ended      March      31,      2023.  >\n",
      "Content:\n",
      "*\n",
      " \n",
      "   Free      cash      flow      less      equipment      finance      leases      and      principal      repayments      of      all      other      finance      leases      and      financing  \n",
      " \n",
      "  obligations      improved      to      an      inflow      of      $48.8      billion      for      the      trailing      twelve      months,      compared      with      an      outflow      of      $4.5  \n",
      " \n",
      "  billion      for      the      trailing      twelve      months      ended      March      31,      2023.\n",
      "Metadata: {'level': 2, 'page_idx': 0, 'bbox': [68.16, 618.67, 533.52, 654.43], 'file_path': 'documents/report.pdf'}\n",
      "----------------------------------------------------------------------------------------------------\n",
      "Document 7:\n",
      "\n",
      "Metadata:\n",
      "AMAZON.COM      ANNOUNCES      FIRST      QUARTER      RESULTS  >\n",
      "Content:\n",
      " \n",
      " \n",
      " \n",
      "¢      Net      sales      increased      13%      to      $143.3      billion      in      the      first      quarter,      compared      with      $127.4      billion      in      first      quarter      2023.  \n",
      " \n",
      "  Excluding      the      $0.2      billion      unfavorable      impact      from      year-over-year      changes      in      foreign      exchange      rates      throughout      the  \n",
      " \n",
      "  quarter,      net      sales      increased      13%      compared      with      first      quarter      2023.\n",
      "Metadata: {'level': 1, 'page_idx': 0, 'bbox': [68.16, 241.03, 539.76, 277.28], 'file_path': 'documents/report.pdf'}\n",
      "----------------------------------------------------------------------------------------------------\n",
      "Document 8:\n",
      "\n",
      "Metadata:\n",
      "Y/Y      %  >\n",
      "Content:\n",
      "Q4      2022      Q1      2023      Q2      2023      Q3      2023      Q4      2023      Q1      2024      Change  \n",
      " \n",
      "  Cash      Flows      and      Shares\n",
      "Metadata: {'level': 1, 'page_idx': 13, 'bbox': [52.56, 101.07, 533.04, 124.59], 'file_path': 'documents/report.pdf'}\n",
      "----------------------------------------------------------------------------------------------------\n",
      "Document 9:\n",
      "\n",
      "Metadata:\n",
      "AMAZON.COM      ANNOUNCES      FIRST      QUARTER      RESULTS\n",
      ">\n",
      "Diluted       March      31,  >\n",
      "Content:\n",
      "2023      2024\n",
      "Metadata: {'level': 2, 'page_idx': 9, 'bbox': [460.56, 115.96, 524.4, 127.96], 'file_path': 'documents/report.pdf'}\n",
      "----------------------------------------------------------------------------------------------------\n",
      "Document 10:\n",
      "\n",
      "Metadata:\n",
      "LIABILITIES      AND      STOCKHOLDERS’      EQUITY\n",
      ">\n",
      "Stockholders’      equity:  >\n",
      "Content:\n",
      "Preferred      stock      ($0.01      par      value;      500      shares      authorized;      no      shares      issued      or  \n",
      " \n",
      "  outstanding) Common      stock      ($0.01      par      value;      100,000      shares      authorized;      10,898      and      10,918  \n",
      " \n",
      "  shares      issued;      10,383      and      10,403      shares      outstanding) Treasury      stock,      at      cost Additional      paid-in      capital Accumulated      other      comprehensive      income      (loss) Retained      earnings Total      stockholders’      equity Total      liabilities      and      stockholders’      equity  \n",
      " \n",
      "  December      31,      2023  \n",
      " \n",
      "  March      31,      2024  \n",
      " \n",
      "  $      73,387   \n",
      " \n",
      "$      72,852  \n",
      " \n",
      "  13,393      12,222  \n",
      " \n",
      "  33,318      31,147  \n",
      " \n",
      "  52,253      47,768  \n",
      " \n",
      "  172,351      163,989  \n",
      " \n",
      "  204,177      209,950  \n",
      " \n",
      "  72,513      73,313  \n",
      " \n",
      "  22,789      22,770  \n",
      " \n",
      "  56,024      60,947  \n",
      " \n",
      "  $      527,854   \n",
      " \n",
      "$      530,969  \n",
      " \n",
      "  $      84,981   \n",
      " \n",
      "$      73,068  \n",
      " \n",
      "  64,709      63,970  \n",
      " \n",
      "  15,227      15,927  \n",
      " \n",
      "  164,917      152,965  \n",
      " \n",
      "  77,297      77,052  \n",
      " \n",
      "  58,314      57,634  \n",
      " \n",
      "  25,451      26,657  \n",
      " \n",
      "  109      109  \n",
      " \n",
      "  (7,837)      (7,837)  \n",
      " \n",
      "  99,025      103,938  \n",
      " \n",
      "  (3,040)      (3,598)  \n",
      " \n",
      "  113,618      124,049  \n",
      " \n",
      "  201,875      216,661  \n",
      " \n",
      "  $      527,854   \n",
      " \n",
      "$      530,969\n",
      "Metadata: {'level': 2, 'page_idx': 12, 'bbox': [70.32, 476.78, 536.16, 618.1799999999998], 'file_path': 'documents/report.pdf'}\n"
     ]
    }
   ],
   "source": [
    "pretty_print_docs(final_docs)"
   ]
  },
  {
   "cell_type": "code",
   "execution_count": 262,
   "metadata": {},
   "outputs": [
    {
     "name": "stdout",
     "output_type": "stream",
     "text": [
      "Metadata:\n",
      "AWS\n",
      ">\n",
      "Three      Months      Ended       March      31,       2023      2024  >\n",
      "Content:\n",
      "$\n",
      " \n",
      "   127,358   \n",
      " \n",
      "$      143,313 122,584      128,006 4,774      15,307 (655)      (2,324)  \n",
      " \n",
      "  (948)      (2,467) 1\n",
      " \n",
      "   (85) $\n",
      " \n",
      "   3,172   \n",
      " \n",
      "$      10,431\n",
      "\n",
      "---\n",
      "\n",
      "Metadata:\n",
      "AWS\n",
      ">\n",
      "Three      Months      Ended       March      31,       2023      2024  >\n",
      "Content:\n",
      "$\n",
      " \n",
      "   29,123   \n",
      " \n",
      "$      31,935 30,370      31,032 $\n",
      " \n",
      "   (1,247)   \n",
      " \n",
      "$      903\n",
      "\n",
      "---\n",
      "\n",
      "Metadata:\n",
      "AWS\n",
      ">\n",
      "Three      Months      Ended       March      31,       2023      2024  >\n",
      "Content:\n",
      "60   \n",
      " \n",
      "%      60   \n",
      " \n",
      "% 23      22 17      18\n",
      "\n",
      "---\n",
      "\n",
      "Metadata:\n",
      "AMAZON.COM      ANNOUNCES      FIRST      QUARTER      RESULTS\n",
      ">\n",
      "Diluted       March      31,\n",
      ">\n",
      "Three      Months      Ended       March      31,       2023      2024  >\n",
      "Content:\n",
      "Net      sales Operating      expenses Operating      income\n",
      "\n",
      "---\n",
      "\n",
      "Metadata:\n",
      "AMAZON.COM      ANNOUNCES      FIRST      QUARTER      RESULTS\n",
      ">\n",
      "Diluted       March      31,\n",
      ">\n",
      "Three      Months      Ended       March      31,       2023      2024  >\n",
      "Content:\n",
      "95      536\n",
      "\n",
      "---\n",
      "\n",
      "Metadata:\n",
      "AMAZON.COM      ANNOUNCES      FIRST      QUARTER      RESULTS \n",
      " \n",
      " \n",
      "¢      Free      cash      flow      less      principal      repayments      of      finance      leases      and      financing      obligations      improved      to      an      inflow      of  \n",
      " \n",
      "  $46.1      billion      for      the      trailing      twelve      months,      compared      with      an      outflow      of      $10.1      billion      for      the      trailing      twelve      months  \n",
      " \n",
      "  ended      March      31,      2023.  >\n",
      "Content:\n",
      "*\n",
      " \n",
      "   Free      cash      flow      less      equipment      finance      leases      and      principal      repayments      of      all      other      finance      leases      and      financing  \n",
      " \n",
      "  obligations      improved      to      an      inflow      of      $48.8      billion      for      the      trailing      twelve      months,      compared      with      an      outflow      of      $4.5  \n",
      " \n",
      "  billion      for      the      trailing      twelve      months      ended      March      31,      2023.\n",
      "\n",
      "---\n",
      "\n",
      "Metadata:\n",
      "AMAZON.COM      ANNOUNCES      FIRST      QUARTER      RESULTS  >\n",
      "Content:\n",
      " \n",
      " \n",
      " \n",
      "¢      Net      sales      increased      13%      to      $143.3      billion      in      the      first      quarter,      compared      with      $127.4      billion      in      first      quarter      2023.  \n",
      " \n",
      "  Excluding      the      $0.2      billion      unfavorable      impact      from      year-over-year      changes      in      foreign      exchange      rates      throughout      the  \n",
      " \n",
      "  quarter,      net      sales      increased      13%      compared      with      first      quarter      2023.\n",
      "\n",
      "---\n",
      "\n",
      "Metadata:\n",
      "Y/Y      %  >\n",
      "Content:\n",
      "Q4      2022      Q1      2023      Q2      2023      Q3      2023      Q4      2023      Q1      2024      Change  \n",
      " \n",
      "  Cash      Flows      and      Shares\n",
      "\n",
      "---\n",
      "\n",
      "Metadata:\n",
      "AMAZON.COM      ANNOUNCES      FIRST      QUARTER      RESULTS\n",
      ">\n",
      "Diluted       March      31,  >\n",
      "Content:\n",
      "2023      2024\n",
      "\n",
      "---\n",
      "\n",
      "Metadata:\n",
      "LIABILITIES      AND      STOCKHOLDERS’      EQUITY\n",
      ">\n",
      "Stockholders’      equity:  >\n",
      "Content:\n",
      "Preferred      stock      ($0.01      par      value;      500      shares      authorized;      no      shares      issued      or  \n",
      " \n",
      "  outstanding) Common      stock      ($0.01      par      value;      100,000      shares      authorized;      10,898      and      10,918  \n",
      " \n",
      "  shares      issued;      10,383      and      10,403      shares      outstanding) Treasury      stock,      at      cost Additional      paid-in      capital Accumulated      other      comprehensive      income      (loss) Retained      earnings Total      stockholders’      equity Total      liabilities      and      stockholders’      equity  \n",
      " \n",
      "  December      31,      2023  \n",
      " \n",
      "  March      31,      2024  \n",
      " \n",
      "  $      73,387   \n",
      " \n",
      "$      72,852  \n",
      " \n",
      "  13,393      12,222  \n",
      " \n",
      "  33,318      31,147  \n",
      " \n",
      "  52,253      47,768  \n",
      " \n",
      "  172,351      163,989  \n",
      " \n",
      "  204,177      209,950  \n",
      " \n",
      "  72,513      73,313  \n",
      " \n",
      "  22,789      22,770  \n",
      " \n",
      "  56,024      60,947  \n",
      " \n",
      "  $      527,854   \n",
      " \n",
      "$      530,969  \n",
      " \n",
      "  $      84,981   \n",
      " \n",
      "$      73,068  \n",
      " \n",
      "  64,709      63,970  \n",
      " \n",
      "  15,227      15,927  \n",
      " \n",
      "  164,917      152,965  \n",
      " \n",
      "  77,297      77,052  \n",
      " \n",
      "  58,314      57,634  \n",
      " \n",
      "  25,451      26,657  \n",
      " \n",
      "  109      109  \n",
      " \n",
      "  (7,837)      (7,837)  \n",
      " \n",
      "  99,025      103,938  \n",
      " \n",
      "  (3,040)      (3,598)  \n",
      " \n",
      "  113,618      124,049  \n",
      " \n",
      "  201,875      216,661  \n",
      " \n",
      "  $      527,854   \n",
      " \n",
      "$      530,969\n"
     ]
    }
   ],
   "source": [
    "llm_prompt = PromptTemplate(\n",
    "    template=\"\"\"\"\n",
    "        <|begin_of_text|>\n",
    "        <|start_header_id|>system<|end_header_id|>\n",
    "        You are a highly knowledgeable and structured Retrieval QA model. You are given a query and a set of documents.\n",
    "        Your task is to provide a detailed and well-structured answer based on the documents provided.\n",
    "        The documents have all been pre-processed and are determined by your overlords to be relevant to the query -- do not second-guess them.\n",
    "        Please ensure that your answer is clear, concise, and divided into the following sections:\n",
    "\n",
    "        1. **Introduction**: Briefly summarize the query and the context.\n",
    "        2. **Key Information from Documents**: Highlight the most relevant information from the documents that directly addresses the query.\n",
    "        3. **Detailed Answer**: Provide a thorough and detailed answer to the query, integrating information from the documents.\n",
    "        4. **Conclusion**: Summarize the key points and provide any additional insights or recommendations if relevant.\n",
    "\n",
    "        Remember to keep your answers concise and structured.\n",
    "        <|eot_id|><|start_header_id|>user<|end_header_id|>\n",
    "        Query: {query}\n",
    "        Documents: {documents}\n",
    "\n",
    "        <|eot_id|><|start_header_id|>assistant<|end_header_id|>\n",
    "        \"\"\",\n",
    "    input_variables=[\"query\", \"documents\"],\n",
    ")\n",
    "\n",
    "pipeline = llm_prompt | llm | StrOutputParser()\n",
    "\n",
    "# limit due to limited context length of llm\n",
    "limit = 7000\n",
    "\n",
    "# process documents stored in the compressed_docs\n",
    "docs = [doc.page_content for doc in final_docs]\n",
    "context = \"\\n\\n---\\n\\n\".join(docs)\n",
    "print(context)\n",
    "\n",
    "# remove all text past limit\n",
    "context = context[:limit]\n"
   ]
  },
  {
   "cell_type": "code",
   "execution_count": 263,
   "metadata": {},
   "outputs": [],
   "source": [
    "def draw_bbox_for_final_docs(docs):\n",
    "    for doc in docs:\n",
    "        print(doc.metadata)\n",
    "        draw_bounding_box_on_pdf_image(doc.metadata[\"file_path\"], doc.metadata[\"bbox\"], doc.metadata[\"page_idx\"])"
   ]
  },
  {
   "cell_type": "code",
   "execution_count": 264,
   "metadata": {},
   "outputs": [
    {
     "data": {
      "text/markdown": [
       "**Introduction**\n",
       "\n",
       "The query asks for the sales figure changes in the three months ended March 31, 2023. The provided documents are metadata and content related to Amazon's first quarter results.\n",
       "\n",
       "**Key Information from Documents**\n",
       "\n",
       "From the documents, we can extract the following key information:\n",
       "\n",
       "* Net sales increased 13% to $143.3 billion in the first quarter of 2024 compared to $127.4 billion in the same period of 2023.\n",
       "* Excluding the $0.2 billion unfavorable impact from year-over-year changes in foreign exchange rates, net sales increased 13% compared with the first quarter of 2023.\n",
       "\n",
       "**Detailed Answer**\n",
       "\n",
       "Based on the provided documents, we can conclude that the sales figure changes in the three months ended March 31, 2023 are as follows:\n",
       "\n",
       "* Net sales increased by $15.9 billion (13%) from $127.4 billion to $143.3 billion.\n",
       "* This increase is attributed to a combination of factors, including year-over-year changes in foreign exchange rates and other market conditions.\n",
       "\n",
       "**Conclusion**\n",
       "\n",
       "In conclusion, the sales figure changes in the three months ended March 31, 2023 show an increase of 13% from the same period in 2023. This growth can be attributed to various factors, including changes in foreign exchange rates and market conditions."
      ],
      "text/plain": [
       "<IPython.core.display.Markdown object>"
      ]
     },
     "metadata": {},
     "output_type": "display_data"
    },
    {
     "name": "stdout",
     "output_type": "stream",
     "text": [
      "---------------\n",
      "[Document(page_content='Metadata:\\nAWS\\n>\\nThree      Months      Ended       March      31,       2023      2024  >\\nContent:\\n$\\n \\n   127,358   \\n \\n$      143,313 122,584      128,006 4,774      15,307 (655)      (2,324)  \\n \\n  (948)      (2,467) 1\\n \\n   (85) $\\n \\n   3,172   \\n \\n$      10,431', metadata={'level': 2, 'page_idx': 11, 'bbox': [441.6, 376.19, 536.88, 478.94], 'file_path': 'documents/report.pdf'}), Document(page_content='Metadata:\\nAWS\\n>\\nThree      Months      Ended       March      31,       2023      2024  >\\nContent:\\n$\\n \\n   29,123   \\n \\n$      31,935 30,370      31,032 $\\n \\n   (1,247)   \\n \\n$      903', metadata={'level': 2, 'page_idx': 11, 'bbox': [441.6, 230.71, 535.2, 273.44], 'file_path': 'documents/report.pdf'}), Document(page_content='Metadata:\\nAWS\\n>\\nThree      Months      Ended       March      31,       2023      2024  >\\nContent:\\n60   \\n \\n%      60   \\n \\n% 23      22 17      18', metadata={'level': 2, 'page_idx': 11, 'bbox': [476.16, 601.86, 553.44, 643.87], 'file_path': 'documents/report.pdf'}), Document(page_content='Metadata:\\nAMAZON.COM      ANNOUNCES      FIRST      QUARTER      RESULTS\\n>\\nDiluted       March      31,\\n>\\nThree      Months      Ended       March      31,       2023      2024  >\\nContent:\\nNet      sales Operating      expenses Operating      income', metadata={'level': 3, 'page_idx': 11, 'bbox': [70.56, 157.49, 113.28, 199.5], 'file_path': 'documents/report.pdf'}), Document(page_content='Metadata:\\nAMAZON.COM      ANNOUNCES      FIRST      QUARTER      RESULTS\\n>\\nDiluted       March      31,\\n>\\nThree      Months      Ended       March      31,       2023      2024  >\\nContent:\\n95      536', metadata={'level': 3, 'page_idx': 10, 'bbox': [484.56, 220.63, 543.6, 232.63], 'file_path': 'documents/report.pdf'}), Document(page_content='Metadata:\\nAMAZON.COM      ANNOUNCES      FIRST      QUARTER      RESULTS \\n \\n \\n¢      Free      cash      flow      less      principal      repayments      of      finance      leases      and      financing      obligations      improved      to      an      inflow      of  \\n \\n  $46.1      billion      for      the      trailing      twelve      months,      compared      with      an      outflow      of      $10.1      billion      for      the      trailing      twelve      months  \\n \\n  ended      March      31,      2023.  >\\nContent:\\n*\\n \\n   Free      cash      flow      less      equipment      finance      leases      and      principal      repayments      of      all      other      finance      leases      and      financing  \\n \\n  obligations      improved      to      an      inflow      of      $48.8      billion      for      the      trailing      twelve      months,      compared      with      an      outflow      of      $4.5  \\n \\n  billion      for      the      trailing      twelve      months      ended      March      31,      2023.', metadata={'level': 2, 'page_idx': 0, 'bbox': [68.16, 618.67, 533.52, 654.43], 'file_path': 'documents/report.pdf'}), Document(page_content='Metadata:\\nAMAZON.COM      ANNOUNCES      FIRST      QUARTER      RESULTS  >\\nContent:\\n \\n \\n \\n¢      Net      sales      increased      13%      to      $143.3      billion      in      the      first      quarter,      compared      with      $127.4      billion      in      first      quarter      2023.  \\n \\n  Excluding      the      $0.2      billion      unfavorable      impact      from      year-over-year      changes      in      foreign      exchange      rates      throughout      the  \\n \\n  quarter,      net      sales      increased      13%      compared      with      first      quarter      2023.', metadata={'level': 1, 'page_idx': 0, 'bbox': [68.16, 241.03, 539.76, 277.28], 'file_path': 'documents/report.pdf'}), Document(page_content='Metadata:\\nY/Y      %  >\\nContent:\\nQ4      2022      Q1      2023      Q2      2023      Q3      2023      Q4      2023      Q1      2024      Change  \\n \\n  Cash      Flows      and      Shares', metadata={'level': 1, 'page_idx': 13, 'bbox': [52.56, 101.07, 533.04, 124.59], 'file_path': 'documents/report.pdf'}), Document(page_content='Metadata:\\nAMAZON.COM      ANNOUNCES      FIRST      QUARTER      RESULTS\\n>\\nDiluted       March      31,  >\\nContent:\\n2023      2024', metadata={'level': 2, 'page_idx': 9, 'bbox': [460.56, 115.96, 524.4, 127.96], 'file_path': 'documents/report.pdf'}), Document(page_content='Metadata:\\nLIABILITIES      AND      STOCKHOLDERS’      EQUITY\\n>\\nStockholders’      equity:  >\\nContent:\\nPreferred      stock      ($0.01      par      value;      500      shares      authorized;      no      shares      issued      or  \\n \\n  outstanding) Common      stock      ($0.01      par      value;      100,000      shares      authorized;      10,898      and      10,918  \\n \\n  shares      issued;      10,383      and      10,403      shares      outstanding) Treasury      stock,      at      cost Additional      paid-in      capital Accumulated      other      comprehensive      income      (loss) Retained      earnings Total      stockholders’      equity Total      liabilities      and      stockholders’      equity  \\n \\n  December      31,      2023  \\n \\n  March      31,      2024  \\n \\n  $      73,387   \\n \\n$      72,852  \\n \\n  13,393      12,222  \\n \\n  33,318      31,147  \\n \\n  52,253      47,768  \\n \\n  172,351      163,989  \\n \\n  204,177      209,950  \\n \\n  72,513      73,313  \\n \\n  22,789      22,770  \\n \\n  56,024      60,947  \\n \\n  $      527,854   \\n \\n$      530,969  \\n \\n  $      84,981   \\n \\n$      73,068  \\n \\n  64,709      63,970  \\n \\n  15,227      15,927  \\n \\n  164,917      152,965  \\n \\n  77,297      77,052  \\n \\n  58,314      57,634  \\n \\n  25,451      26,657  \\n \\n  109      109  \\n \\n  (7,837)      (7,837)  \\n \\n  99,025      103,938  \\n \\n  (3,040)      (3,598)  \\n \\n  113,618      124,049  \\n \\n  201,875      216,661  \\n \\n  $      527,854   \\n \\n$      530,969', metadata={'level': 2, 'page_idx': 12, 'bbox': [70.32, 476.78, 536.16, 618.1799999999998], 'file_path': 'documents/report.pdf'})]\n",
      "{'level': 2, 'page_idx': 11, 'bbox': [441.6, 376.19, 536.88, 478.94], 'file_path': 'documents/report.pdf'}\n",
      "{'level': 2, 'page_idx': 11, 'bbox': [441.6, 230.71, 535.2, 273.44], 'file_path': 'documents/report.pdf'}\n",
      "{'level': 2, 'page_idx': 11, 'bbox': [476.16, 601.86, 553.44, 643.87], 'file_path': 'documents/report.pdf'}\n",
      "{'level': 3, 'page_idx': 11, 'bbox': [70.56, 157.49, 113.28, 199.5], 'file_path': 'documents/report.pdf'}\n",
      "{'level': 3, 'page_idx': 10, 'bbox': [484.56, 220.63, 543.6, 232.63], 'file_path': 'documents/report.pdf'}\n",
      "{'level': 2, 'page_idx': 0, 'bbox': [68.16, 618.67, 533.52, 654.43], 'file_path': 'documents/report.pdf'}\n",
      "{'level': 1, 'page_idx': 0, 'bbox': [68.16, 241.03, 539.76, 277.28], 'file_path': 'documents/report.pdf'}\n",
      "{'level': 1, 'page_idx': 13, 'bbox': [52.56, 101.07, 533.04, 124.59], 'file_path': 'documents/report.pdf'}\n",
      "{'level': 2, 'page_idx': 9, 'bbox': [460.56, 115.96, 524.4, 127.96], 'file_path': 'documents/report.pdf'}\n",
      "{'level': 2, 'page_idx': 12, 'bbox': [70.32, 476.78, 536.16, 618.1799999999998], 'file_path': 'documents/report.pdf'}\n"
     ]
    }
   ],
   "source": [
    "output = pipeline.invoke({\"query\": query, \"documents\": context})\n",
    "display(Markdown(output))\n",
    "print(\"---\" * 5)\n",
    "print(final_docs)\n",
    "draw_bbox_for_final_docs(final_docs)"
   ]
  },
  {
   "cell_type": "markdown",
   "metadata": {},
   "source": [
    "### Archive"
   ]
  },
  {
   "cell_type": "markdown",
   "metadata": {},
   "source": [
    "This is a test to see if iterating through each document and seeing how they answer the question will help"
   ]
  },
  {
   "cell_type": "code",
   "execution_count": null,
   "metadata": {},
   "outputs": [],
   "source": [
    "query = \"Give me the key highlights of financial results for the first quarter ended March 31, 2024\""
   ]
  },
  {
   "cell_type": "code",
   "execution_count": null,
   "metadata": {},
   "outputs": [],
   "source": [
    "llm1_manager = Ollama(model=\"llama3\", temperature=0, format='json', base_url=\"http://localhost:11434\")\n",
    "llm2_answerer = Ollama(model=\"llama3\", temperature=0.3, base_url=\"http://localhost:11434\")\n",
    "# retrieve documents here\n",
    "llm3_summarizer = Ollama(model=\"llama3\", temperature=0.3, base_url=\"http://localhost:11434\")"
   ]
  },
  {
   "cell_type": "code",
   "execution_count": null,
   "metadata": {},
   "outputs": [
    {
     "name": "stdout",
     "output_type": "stream",
     "text": [
      "{'query1': 'What were the total revenues reported by the company for the first quarter ended March 31, 2024?', 'query2': 'What was the net income of the company for the first quarter ended March 31, 2024?', 'query3': \"What was the gross profit margin percentage for the company's products and services for the first quarter ended March 31, 2024?\", 'query4': 'What were the operating expenses reported by the company for the first quarter ended March 31, 2024?', 'query5': 'What was the cash flow from operations for the company for the first quarter ended March 31, 2024?'}\n"
     ]
    }
   ],
   "source": [
    "# llm1 will disect the initial prompt into more specific subprompts\n",
    "llm1_manager_task = PromptTemplate(\n",
    "    template=\"\"\"<|begin_of_text|>\n",
    "    <|start_header_id|>system<|end_header_id|>\n",
    "    Your task is to dissect \n",
    "    the following question into 5 more specific queries \n",
    "    for prompting the vector database. In each of your sub-prompts, \n",
    "    be specific in your use of keyword.\n",
    "\n",
    "    <|eot_id|><|start_header_id|>user<|end_header_id|>\n",
    "    Question: {query}\n",
    "\n",
    "    Answer format:\n",
    "    'query1': 'prompt', 'query2': 'prompt',\n",
    "    <|eot_id|><|start_header_id|>assistant<|end_header_id|>\n",
    "    \"\"\",\n",
    "\n",
    "    # these refer to the items in {} in the template above\n",
    "    input_variables=[\"query\"],\n",
    ")\n",
    "\n",
    "pipeline = llm1_manager_task | llm1_manager | JsonOutputParser()\n",
    "llm1_manager_resp = pipeline.invoke({\"query\":query})\n",
    "print(llm1_manager_resp)\n"
   ]
  },
  {
   "cell_type": "code",
   "execution_count": null,
   "metadata": {},
   "outputs": [
    {
     "name": "stdout",
     "output_type": "stream",
     "text": [
      "['What were the total revenues reported by the company for the first quarter ended March 31, 2024?', 'What was the net income of the company for the first quarter ended March 31, 2024?', \"What was the gross profit margin percentage for the company's products and services for the first quarter ended March 31, 2024?\", 'What were the operating expenses reported by the company for the first quarter ended March 31, 2024?', 'What was the cash flow from operations for the company for the first quarter ended March 31, 2024?']\n"
     ]
    }
   ],
   "source": [
    "doc_prompts = [llm1_manager_resp[query] for query in llm1_manager_resp]\n",
    "print(doc_prompts)"
   ]
  },
  {
   "cell_type": "code",
   "execution_count": null,
   "metadata": {},
   "outputs": [],
   "source": [
    "set_of_docs = []\n",
    "for doc_prompt in doc_prompts:\n",
    "    compressed_docs = compression_retriever.invoke(doc_prompt)\n",
    "    set_of_docs.append(compressed_docs)"
   ]
  },
  {
   "cell_type": "code",
   "execution_count": null,
   "metadata": {},
   "outputs": [
    {
     "name": "stdout",
     "output_type": "stream",
     "text": [
      "[[Document(page_content='Metadata:\\nY/Y      %  >\\nContent:\\n(1)   \\n \\n_      For      the      twelve      months      ended      March      31,      2023      and      2024,      this      amount      relates      to      equipment      included      in      “Property      and      equipment      acquired      under      finance      leases,      net      of  \\n \\n  remeasurements      and      modifications”      of      $517      million      and      $676      million.', metadata={'level': 2, 'page_idx': 13, 'bbox': [63.36, 525.76, 534.24, 545.92], 'relevance_score': 0.9993714}), Document(page_content='Metadata:\\nY/Y      %  >\\nContent:\\n(2)      For      the      twelve      months      ended      March      31,      2023      and      2024,      this      amount      relates      to      property      included      in      “Principal      repayments      of      finance      leases”      of      $6,544      million      and      $3,774  \\n \\n  million.', metadata={'level': 2, 'page_idx': 13, 'bbox': [63.36, 542.32, 538.08, 562.97], 'relevance_score': 0.999313}), Document(page_content='Metadata:\\nAMAZON.COM      ANNOUNCES      FIRST      QUARTER      RESULTS\\n>\\nSecond      Quarter      2024      Guidance  >\\nContent:\\n \\n \\n  About      Amazon  \\n \\n  Amazon      is      guided      by      four      principles:      customer      obsession      rather      than      competitor      focus,      passion      for      invention,      commitment      to  \\n \\n  operational      excellence,      and      long-term      thinking.\\nAmazon      strives      to      be      Earth’s      Most      Customer-Centric      Company,      Earth’s      Best  \\n \\n  Employer,      and      Earth’s      Safest      Place      to      Work.\\nCustomer      reviews,      1-Click      shopping,      personalized      recommendations,      Prime,  \\n \\n  Fulfillment      by      Amazon,      AWS,      Kindle      Direct      Publishing,      Kindle,      Career      Choice,      Fire      tablets,      Fire      TV,      Amazon      Echo,      Alexa,  \\n \\n  Just      Walk      Out      technology,      Amazon      Studios,      and      The      Climate      Pledge      are      some      of      the      things      pioneered      by      Amazon.\\nFor      more  \\n \\n  information,      visit      amazon.com/about      and      follow      @AmazonNews.', metadata={'level': 2, 'page_idx': 7, 'bbox': [49.68, 140.92, 541.92, 224.7], 'relevance_score': 0.9992135}), Document(page_content='Metadata:\\nAMAZON.COM      ANNOUNCES      FIRST      QUARTER      RESULTS \\n \\n \\n¢      Free      cash      flow      less      principal      repayments      of      finance      leases      and      financing      obligations      improved      to      an      inflow      of  \\n \\n  $46.1      billion      for      the      trailing      twelve      months,      compared      with      an      outflow      of      $10.1      billion      for      the      trailing      twelve      months  \\n \\n  ended      March      31,      2023.  >\\nContent:\\n*\\n \\n   Free      cash      flow      less      equipment      finance      leases      and      principal      repayments      of      all      other      finance      leases      and      financing  \\n \\n  obligations      improved      to      an      inflow      of      $48.8      billion      for      the      trailing      twelve      months,      compared      with      an      outflow      of      $4.5  \\n \\n  billion      for      the      trailing      twelve      months      ended      March      31,      2023.', metadata={'level': 2, 'page_idx': 0, 'bbox': [68.16, 618.67, 533.52, 654.43], 'relevance_score': 0.9992092}), Document(page_content='Metadata:\\nAMAZON.COM      ANNOUNCES      FIRST      QUARTER      RESULTS\\n>\\nHighlights  >\\nContent:\\n \\n \\n  Continued      to      rollout      Rufus      in      the      Amazon      Shopping      app      to      millions      of      customers      in      the      U.S.      Rufus,      in      beta,      is   \\n \\na      new       generative      AlI-powered      shopping      assistant      that      can      help      customers      save      time      and      make      more      informed      purchase  \\n \\n  decisions      by      answering   \\n \\na      variety      of      shopping-related      questions,      providing      product      comparisons,      making  \\n \\n  recommendations,      and      more.\\nAmazon      improved      Rufus’      answer      accuracy      and      response      speed,      and      added      new      features,  \\n \\n  including      “My      Orders,”      which      answers      questions      such      as      “when      did   \\n \\nI      last      order      coffee?”\\nand      “what      dog      treats      did   \\n \\nI      last  \\n \\n  order?”\\n \\n \\n  Added      more      generative      AI      features      for      independent      sellers      in      the      U.S.      to      create      product      listings,      including   \\n \\na      new      tool  \\n \\n  that      allows      sellers      to      leverage      product      listings      on      their      own      websites,      simply      by      providing      Amazon      with   \\n \\na      URL.\\n \\n \\n  Amazon’s      generative      Al-based      features      automatically      parse      the      information      to      seamlessly      create      high-quality,  \\n \\n  engaging      listings      for      Amazon’s      store.\\nThis      feature      further      enhances      and      streamlines      the      process      of      creating      product  \\n \\n  listings,      saving      sellers      time      and      effort,      while      also      developing      product      listings      that      appeal      to      customers      and      help      drive  \\n \\n  sales.', metadata={'level': 1, 'page_idx': 4, 'bbox': [85.68, 432.85, 548.88, 581.9299999999998], 'relevance_score': 0.99913216})], [Document(page_content='Metadata:\\nY/Y      %  >\\nContent:\\n(1)   \\n \\n_      For      the      twelve      months      ended      March      31,      2023      and      2024,      this      amount      relates      to      equipment      included      in      “Property      and      equipment      acquired      under      finance      leases,      net      of  \\n \\n  remeasurements      and      modifications”      of      $517      million      and      $676      million.', metadata={'level': 2, 'page_idx': 13, 'bbox': [63.36, 525.76, 534.24, 545.92], 'relevance_score': 0.99956894}), Document(page_content='Metadata:\\nAMAZON.COM      ANNOUNCES      FIRST      QUARTER      RESULTS\\n>\\nSecond      Quarter      2024      Guidance  >\\nContent:\\n*\\n \\n   Net      sales      are      expected      to      be      between      $144.0      billion      and      $149.0      billion,      or      to      grow      between      7%      and      11%      compared  \\n \\n  with      second      quarter      2023.\\nThis      guidance      anticipates      an      unfavorable      impact      of      approximately      60      basis      points      from  \\n \\n  foreign      exchange      rates.\\nIn      first      quarter      2024      the      impact      from      Leap      Year      added      approximately      120      basis      points      to      the  \\n \\n  year-over-year      net      sales      growth      rate.', metadata={'level': 2, 'page_idx': 6, 'bbox': [68.16, 438.61, 538.08, 486.86], 'relevance_score': 0.99944854}), Document(page_content='Metadata:\\nAMAZON.COM      ANNOUNCES      FIRST      QUARTER      RESULTS\\n>\\nSecond      Quarter      2024      Guidance  >\\nContent:\\n \\n \\n  About      Amazon  \\n \\n  Amazon      is      guided      by      four      principles:      customer      obsession      rather      than      competitor      focus,      passion      for      invention,      commitment      to  \\n \\n  operational      excellence,      and      long-term      thinking.\\nAmazon      strives      to      be      Earth’s      Most      Customer-Centric      Company,      Earth’s      Best  \\n \\n  Employer,      and      Earth’s      Safest      Place      to      Work.\\nCustomer      reviews,      1-Click      shopping,      personalized      recommendations,      Prime,  \\n \\n  Fulfillment      by      Amazon,      AWS,      Kindle      Direct      Publishing,      Kindle,      Career      Choice,      Fire      tablets,      Fire      TV,      Amazon      Echo,      Alexa,  \\n \\n  Just      Walk      Out      technology,      Amazon      Studios,      and      The      Climate      Pledge      are      some      of      the      things      pioneered      by      Amazon.\\nFor      more  \\n \\n  information,      visit      amazon.com/about      and      follow      @AmazonNews.', metadata={'level': 2, 'page_idx': 7, 'bbox': [49.68, 140.92, 541.92, 224.7], 'relevance_score': 0.99934375}), Document(page_content='Metadata:\\nY/Y      %  >\\nContent:\\n(2)      For      the      twelve      months      ended      March      31,      2023      and      2024,      this      amount      relates      to      property      included      in      “Principal      repayments      of      finance      leases”      of      $6,544      million      and      $3,774  \\n \\n  million.', metadata={'level': 2, 'page_idx': 13, 'bbox': [63.36, 542.32, 538.08, 562.97], 'relevance_score': 0.9992295}), Document(page_content=\"Metadata:\\nAMAZON.COM      ANNOUNCES      FIRST      QUARTER      RESULTS\\n>\\nSecond      Quarter      2024      Guidance  >\\nContent:\\n \\n \\n  These      forward-looking      statements      are      inherently      difficult      to      predict.\\nActual      results      and      outcomes      could      differ      materially      for   \\n \\na       variety      of      reasons,      including,      in      addition      to      the      factors      discussed      above,      the      amount      that      Amazon.com      invests      in      new      business  \\n \\n  opportunities      and      the      timing      of      those      investments,      the      mix      of      products      and      services      sold      to      customers,      the      mix      of      net      sales  \\n \\n  derived      from      products      as      compared      with      services,      the      extent      to      which      we      owe      income      or      other      taxes,      competition,      management  \\n \\n  of      growth,      potential      fluctuations      in      operating      results,      international      growth      and      expansion,      the      outcomes      of      claims,      litigation,  \\n \\n  government      investigations,      and      other      proceedings,      fulfillment,      sortation,      delivery,      and      data      center      optimization,      risks      of  \\n \\n  inventory      management,      variability      in      demand,      the      degree      to      which      the      Company      enters      into,      maintains,      and      develops  \\n \\n  commercial      agreements,      proposed      and      completed      acquisitions      and      strategic      transactions,      payments      risks,      and      risks      of  \\n \\n  fulfillment      throughput      and      productivity.\\nOther      risks      and      uncertainties      include,      among      others,      risks      related      to      new      products,  \\n \\n  services,      and      technologies,      security      breaches,      system      interruptions,      government      regulation      and      taxation,      and      fraud.\\nIn      addition,  \\n \\n  global      economic      and      geopolitical      conditions      and      additional      or      unforeseen      circumstances,      developments,      or      events      may      give  \\n \\n  rise      to      or      amplify      many      of      these      risks.\\nMore      information      about      factors      that      potentially      could      affect      Amazon.com\\\\\\\\\\\\'s      financial results      is      included      in      Amazon.com’s      filings      with      the      Securities      and      Exchange      Commission      (“SEC”),      including      its      most      recent  \\n \\n  Annual      Report      on      Form      10-K      and      subsequent      filings.\", metadata={'level': 2, 'page_idx': 6, 'bbox': [47.76, 594.9, 546.24, 738.94], 'relevance_score': 0.99921274})], [Document(page_content='Metadata:\\nY/Y      %  >\\nContent:\\n(1)   \\n \\n_      For      the      twelve      months      ended      March      31,      2023      and      2024,      this      amount      relates      to      equipment      included      in      “Property      and      equipment      acquired      under      finance      leases,      net      of  \\n \\n  remeasurements      and      modifications”      of      $517      million      and      $676      million.', metadata={'level': 2, 'page_idx': 13, 'bbox': [63.36, 525.76, 534.24, 545.92], 'relevance_score': 0.99953866}), Document(page_content='Metadata:\\nY/Y      %  >\\nContent:\\n(2)      For      the      twelve      months      ended      March      31,      2023      and      2024,      this      amount      relates      to      property      included      in      “Principal      repayments      of      finance      leases”      of      $6,544      million      and      $3,774  \\n \\n  million.', metadata={'level': 2, 'page_idx': 13, 'bbox': [63.36, 542.32, 538.08, 562.97], 'relevance_score': 0.99953574}), Document(page_content='Metadata:\\nAMAZON.COM      ANNOUNCES      FIRST      QUARTER      RESULTS \\n \\n \\n¢      Free      cash      flow      less      principal      repayments      of      finance      leases      and      financing      obligations      improved      to      an      inflow      of  \\n \\n  $46.1      billion      for      the      trailing      twelve      months,      compared      with      an      outflow      of      $10.1      billion      for      the      trailing      twelve      months  \\n \\n  ended      March      31,      2023.  >\\nContent:\\n*\\n \\n   Free      cash      flow      less      equipment      finance      leases      and      principal      repayments      of      all      other      finance      leases      and      financing  \\n \\n  obligations      improved      to      an      inflow      of      $48.8      billion      for      the      trailing      twelve      months,      compared      with      an      outflow      of      $4.5  \\n \\n  billion      for      the      trailing      twelve      months      ended      March      31,      2023.', metadata={'level': 2, 'page_idx': 0, 'bbox': [68.16, 618.67, 533.52, 654.43], 'relevance_score': 0.9994363}), Document(page_content='Metadata:\\nAMAZON.COM      ANNOUNCES      FIRST      QUARTER      RESULTS\\n>\\nHighlights \\n \\n \\n¢      Helped      customers      save      with      shopping      events      worldwide,      including      Amazon’s      Spring      Deal      Days      in      Europe      and      the      first  \\n \\n  Big      Spring      Sale      in      Canada      and      the      U.S.,      where      customers      saved      on   \\n \\na      wide      selection      of      items      including      fashion,  \\n \\n  outdoor      furniture,      lawn      and      garden      essentials,      and      cleaning      and      organizing      products.\\nAmazon      also      held   \\n \\na      Ramadan  \\n \\n  event      in      Egypt,      Saudi      Arabia,      and      the      UAE,      where      customers      shopped      hundreds      of      thousands      of      deals      on      local      and  \\n \\n  international      brands.\\nAmazon      also      announced      it      will      hold      its      10th      Prime      Day      event      in      July.  >\\nContent:\\n*\\n \\n   Expanded      the      company’s      health      care      offerings      to      provide      customers      in      the      U.S.      more      convenient      access      to      medical  \\n \\n  care      and      medications,      including      adding      Amazon      Pharmacy      home      delivery      of      select      Lilly      diabetes,      obesity,      and  \\n \\n  migraine      medications      to      LillyDirect      patients;      launching      same-day      delivery      of      prescription      medications      to      Amazon  \\n \\n  Pharmacy      customers      in      two      new      locations—greater      Los      Angeles      and      New      York      City—with      plans      to      expand      to      more  \\n \\n  than   \\n \\na      dozen      cities      by      the      end      of      year;      and      introducing      Health      Condition      Programs,      which      makes      it      easier      for  \\n \\n  customers      to      discover      and      enroll      in      digital      health      benefits      for      conditions      like      prediabetes,      diabetes,      and      high      blood  \\n \\n  pressure      in      Amazon’s      U.S.      store.', metadata={'level': 1, 'page_idx': 1, 'bbox': [68.16, 399.96, 531.36, 483.98], 'relevance_score': 0.99937284}), Document(page_content='Metadata:\\nAMAZON.COM      ANNOUNCES      FIRST      QUARTER      RESULTS\\n>\\nSecond      Quarter      2024      Guidance  >\\nContent:\\n \\n \\n  About      Amazon  \\n \\n  Amazon      is      guided      by      four      principles:      customer      obsession      rather      than      competitor      focus,      passion      for      invention,      commitment      to  \\n \\n  operational      excellence,      and      long-term      thinking.\\nAmazon      strives      to      be      Earth’s      Most      Customer-Centric      Company,      Earth’s      Best  \\n \\n  Employer,      and      Earth’s      Safest      Place      to      Work.\\nCustomer      reviews,      1-Click      shopping,      personalized      recommendations,      Prime,  \\n \\n  Fulfillment      by      Amazon,      AWS,      Kindle      Direct      Publishing,      Kindle,      Career      Choice,      Fire      tablets,      Fire      TV,      Amazon      Echo,      Alexa,  \\n \\n  Just      Walk      Out      technology,      Amazon      Studios,      and      The      Climate      Pledge      are      some      of      the      things      pioneered      by      Amazon.\\nFor      more  \\n \\n  information,      visit      amazon.com/about      and      follow      @AmazonNews.', metadata={'level': 2, 'page_idx': 7, 'bbox': [49.68, 140.92, 541.92, 224.7], 'relevance_score': 0.9993677})], [Document(page_content='Metadata:\\nAMAZON.COM      ANNOUNCES      FIRST      QUARTER      RESULTS\\n>\\nSecond      Quarter      2024      Guidance  >\\nContent:\\n \\n \\n  About      Amazon  \\n \\n  Amazon      is      guided      by      four      principles:      customer      obsession      rather      than      competitor      focus,      passion      for      invention,      commitment      to  \\n \\n  operational      excellence,      and      long-term      thinking.\\nAmazon      strives      to      be      Earth’s      Most      Customer-Centric      Company,      Earth’s      Best  \\n \\n  Employer,      and      Earth’s      Safest      Place      to      Work.\\nCustomer      reviews,      1-Click      shopping,      personalized      recommendations,      Prime,  \\n \\n  Fulfillment      by      Amazon,      AWS,      Kindle      Direct      Publishing,      Kindle,      Career      Choice,      Fire      tablets,      Fire      TV,      Amazon      Echo,      Alexa,  \\n \\n  Just      Walk      Out      technology,      Amazon      Studios,      and      The      Climate      Pledge      are      some      of      the      things      pioneered      by      Amazon.\\nFor      more  \\n \\n  information,      visit      amazon.com/about      and      follow      @AmazonNews.', metadata={'level': 2, 'page_idx': 7, 'bbox': [49.68, 140.92, 541.92, 224.7], 'relevance_score': 0.99926925}), Document(page_content='Metadata:\\nY/Y      %  >\\nContent:\\n(1)   \\n \\n_      For      the      twelve      months      ended      March      31,      2023      and      2024,      this      amount      relates      to      equipment      included      in      “Property      and      equipment      acquired      under      finance      leases,      net      of  \\n \\n  remeasurements      and      modifications”      of      $517      million      and      $676      million.', metadata={'level': 2, 'page_idx': 13, 'bbox': [63.36, 525.76, 534.24, 545.92], 'relevance_score': 0.9990831}), Document(page_content='Metadata:\\nY/Y      %  >\\nContent:\\n(2)      For      the      twelve      months      ended      March      31,      2023      and      2024,      this      amount      relates      to      property      included      in      “Principal      repayments      of      finance      leases”      of      $6,544      million      and      $3,774  \\n \\n  million.', metadata={'level': 2, 'page_idx': 13, 'bbox': [63.36, 542.32, 538.08, 562.97], 'relevance_score': 0.99907124}), Document(page_content='Metadata:\\nAMAZON.COM      ANNOUNCES      FIRST      QUARTER      RESULTS\\n>\\nHighlights  >\\nContent:\\n \\n \\n  Continued      to      rollout      Rufus      in      the      Amazon      Shopping      app      to      millions      of      customers      in      the      U.S.      Rufus,      in      beta,      is   \\n \\na      new       generative      AlI-powered      shopping      assistant      that      can      help      customers      save      time      and      make      more      informed      purchase  \\n \\n  decisions      by      answering   \\n \\na      variety      of      shopping-related      questions,      providing      product      comparisons,      making  \\n \\n  recommendations,      and      more.\\nAmazon      improved      Rufus’      answer      accuracy      and      response      speed,      and      added      new      features,  \\n \\n  including      “My      Orders,”      which      answers      questions      such      as      “when      did   \\n \\nI      last      order      coffee?”\\nand      “what      dog      treats      did   \\n \\nI      last  \\n \\n  order?”\\n \\n \\n  Added      more      generative      AI      features      for      independent      sellers      in      the      U.S.      to      create      product      listings,      including   \\n \\na      new      tool  \\n \\n  that      allows      sellers      to      leverage      product      listings      on      their      own      websites,      simply      by      providing      Amazon      with   \\n \\na      URL.\\n \\n \\n  Amazon’s      generative      Al-based      features      automatically      parse      the      information      to      seamlessly      create      high-quality,  \\n \\n  engaging      listings      for      Amazon’s      store.\\nThis      feature      further      enhances      and      streamlines      the      process      of      creating      product  \\n \\n  listings,      saving      sellers      time      and      effort,      while      also      developing      product      listings      that      appeal      to      customers      and      help      drive  \\n \\n  sales.', metadata={'level': 1, 'page_idx': 4, 'bbox': [85.68, 432.85, 548.88, 581.9299999999998], 'relevance_score': 0.99895644}), Document(page_content='Metadata:\\nAMAZON.COM      ANNOUNCES      FIRST      QUARTER      RESULTS\\n>\\nHighlights  \\n \\n*      Launched   \\n \\na      Disaster      Relief      Hub      in      Rheinberg,      Germany—Amazon’s      first      Hub      in      Europe      and      the      company’s      13th  \\n \\n  around      the      world.\\nThe      21,000-square-foot      Hub      allows      Amazon      to      store      and      quickly      pack      relief      items      that      are      most  \\n \\n  needed      following      natural      disasters      and      other      emergencies.\\nAWS      also      provided      technology      to      support      the      nonprofit  \\n \\n  Help.NGO      to      fight      wildfires      in      Chile      and      Colombia,      including      monitoring      active      fires,      spotting      new      fires,      and  \\n \\n  evaluating      how      best      to      help      evacuated      residents      return      to      their      homes.\\nSince      2017,      Amazon      has      used      its      global  \\n \\n  inventory,      logistics      infrastructure,      and      cloud      technology      to      respond      to      more      than      145      natural      disasters      and      donate      more  \\n \\n  than      24      million      relief      items      globally.  >\\nContent:\\n*\\n \\n   Increased      funding      for      the      AWS      Health      Equity      Initiative      by      $20      million,      bringing      its      commitment      since      the      program  \\n \\n  launched      in      2021      to      $60      million.\\nThis      program      provides      free      cloud      credits      and      technical      expertise      to      help      organizations  \\n \\n  harness      the      power      of      the      cloud      to      advance      global      health.\\nIt      has      supported      263      organizations      globally      since      2021.', metadata={'level': 1, 'page_idx': 6, 'bbox': [68.16, 131.56, 513.12, 167.81], 'relevance_score': 0.99892795})], [Document(page_content='Metadata:\\nAMAZON.COM      ANNOUNCES      FIRST      QUARTER      RESULTS \\n \\n \\n¢      Free      cash      flow      less      principal      repayments      of      finance      leases      and      financing      obligations      improved      to      an      inflow      of  \\n \\n  $46.1      billion      for      the      trailing      twelve      months,      compared      with      an      outflow      of      $10.1      billion      for      the      trailing      twelve      months  \\n \\n  ended      March      31,      2023.  >\\nContent:\\n*\\n \\n   Free      cash      flow      less      equipment      finance      leases      and      principal      repayments      of      all      other      finance      leases      and      financing  \\n \\n  obligations      improved      to      an      inflow      of      $48.8      billion      for      the      trailing      twelve      months,      compared      with      an      outflow      of      $4.5  \\n \\n  billion      for      the      trailing      twelve      months      ended      March      31,      2023.', metadata={'level': 2, 'page_idx': 0, 'bbox': [68.16, 618.67, 533.52, 654.43], 'relevance_score': 0.9995087}), Document(page_content='Metadata:\\nY/Y      %  >\\nContent:\\n(1)   \\n \\n_      For      the      twelve      months      ended      March      31,      2023      and      2024,      this      amount      relates      to      equipment      included      in      “Property      and      equipment      acquired      under      finance      leases,      net      of  \\n \\n  remeasurements      and      modifications”      of      $517      million      and      $676      million.', metadata={'level': 2, 'page_idx': 13, 'bbox': [63.36, 525.76, 534.24, 545.92], 'relevance_score': 0.99950165}), Document(page_content='Metadata:\\nY/Y      %  >\\nContent:\\n(2)      For      the      twelve      months      ended      March      31,      2023      and      2024,      this      amount      relates      to      property      included      in      “Principal      repayments      of      finance      leases”      of      $6,544      million      and      $3,774  \\n \\n  million.', metadata={'level': 2, 'page_idx': 13, 'bbox': [63.36, 542.32, 538.08, 562.97], 'relevance_score': 0.99946886}), Document(page_content='Metadata:\\nAMAZON.COM      ANNOUNCES      FIRST      QUARTER      RESULTS  >\\nContent:\\n*\\n \\n   Free      cash      flow      improved      to      an      inflow      of      $50.1      billion      for      the      trailing      twelve      months,      compared      with      an      outflow      of  \\n \\n  $3.3      billion      for      the      trailing      twelve      months      ended      March      31,      2023.', metadata={'level': 2, 'page_idx': 0, 'bbox': [68.16, 548.33, 537.36, 572.33], 'relevance_score': 0.99945104}), Document(page_content='Metadata:\\nAMAZON.COM      ANNOUNCES      FIRST      QUARTER      RESULTS\\n>\\nSecond      Quarter      2024      Guidance  >\\nContent:\\n \\n \\n  About      Amazon  \\n \\n  Amazon      is      guided      by      four      principles:      customer      obsession      rather      than      competitor      focus,      passion      for      invention,      commitment      to  \\n \\n  operational      excellence,      and      long-term      thinking.\\nAmazon      strives      to      be      Earth’s      Most      Customer-Centric      Company,      Earth’s      Best  \\n \\n  Employer,      and      Earth’s      Safest      Place      to      Work.\\nCustomer      reviews,      1-Click      shopping,      personalized      recommendations,      Prime,  \\n \\n  Fulfillment      by      Amazon,      AWS,      Kindle      Direct      Publishing,      Kindle,      Career      Choice,      Fire      tablets,      Fire      TV,      Amazon      Echo,      Alexa,  \\n \\n  Just      Walk      Out      technology,      Amazon      Studios,      and      The      Climate      Pledge      are      some      of      the      things      pioneered      by      Amazon.\\nFor      more  \\n \\n  information,      visit      amazon.com/about      and      follow      @AmazonNews.', metadata={'level': 2, 'page_idx': 7, 'bbox': [49.68, 140.92, 541.92, 224.7], 'relevance_score': 0.9992986})]]\n"
     ]
    }
   ],
   "source": [
    "print((set_of_docs))"
   ]
  },
  {
   "cell_type": "code",
   "execution_count": null,
   "metadata": {},
   "outputs": [],
   "source": [
    "# Flatten array, remove duplicates\n",
    "flat_docs = [doc for docs in set_of_docs for doc in docs]"
   ]
  },
  {
   "cell_type": "code",
   "execution_count": null,
   "metadata": {},
   "outputs": [
    {
     "data": {
      "text/plain": [
       "25"
      ]
     },
     "execution_count": 113,
     "metadata": {},
     "output_type": "execute_result"
    }
   ],
   "source": [
    "len(flat_docs)"
   ]
  },
  {
   "cell_type": "code",
   "execution_count": null,
   "metadata": {},
   "outputs": [
    {
     "name": "stdout",
     "output_type": "stream",
     "text": [
      "The document highlights that for the twelve months ended March 31, 2023 and 2024, equipment acquired under finance leases, net of remeasurements and modifications, was $676 million. This information provides a snapshot of the company's financial performance over a longer period, including the first quarter ended March 31, 2024.\n",
      "The document provides information on principal repayments of finance leases for the 12 months ended March 31, 2023 and 2024. For the period ended March 31, 2024, the amount relates to property included in \"Principal repayments of finance leases\" of $3,774 million. This suggests that there were significant principal repayments made on finance leases during the first quarter of 2024.\n",
      "This document does not provide specific financial results for the first quarter ended March 31, 2024. However, it can contribute to an answer by highlighting Amazon's focus on customer obsession, passion for invention, operational excellence, and long-term thinking, which may be reflected in their financial performance. Additionally, it mentions various innovative services and products pioneered by Amazon, such as Prime, Fulfillment by Amazon, AWS, Kindle Direct Publishing, and Alexa, which could have contributed to their financial results.\n",
      "The document does not provide information on the first quarter ended March 31, 2024. However, it does report on the trailing twelve months (TTM) ended March 31, 2023. The key highlights are:\n",
      "\n",
      "* Free cash flow less principal repayments of finance leases and financing obligations improved to an inflow of $46.1 billion for the TTM ended March 31, 2023.\n",
      "* Free cash flow less equipment finance leases and principal repayments of all other finance leases and financing obligations improved to an inflow of $48.8 billion for the TTM ended March 31, 2023.\n",
      "There are no highlights about financial results for the first quarter ended March 31, 2024. The document appears to be a press release announcing updates and features related to Amazon's shopping app and generative AI capabilities, but does not provide any information on financial results.\n",
      "The document mentions that for the twelve months ended March 31, 2023 and 2024, the company reported $676 million in equipment included in \"Property and equipment acquired under finance leases, net of remeasurements and modifications\". This information is relevant to understanding the financial results for the first quarter ended March 31, 2024.\n",
      "Here are the key highlights of financial results for the first quarter ended March 31, 2024:\n",
      "\n",
      "* Net sales expected to be between $144.0 billion and $149.0 billion, representing a growth rate of 7% to 11% compared to Q2 2023.\n",
      "* Unfavorable impact from foreign exchange rates anticipated at approximately 60 basis points.\n",
      "* Leap Year added approximately 120 basis points to the year-over-year net sales growth rate in Q1 2024.\n",
      "This document does not provide the financial results for the first quarter ended March 31, 2024. It appears to be an introduction to Amazon's company information and values, providing details about its guiding principles, customer-centric approach, and innovative products and services. There is no mention of financial results or quarterly guidance.\n",
      "The document highlights that for the twelve months ended March 31, 2023 and 2024, there was a significant amount related to property included in \"Principal repayments of finance leases\" of $6,544 million and $3,774 million, respectively. This suggests that the company had substantial principal repayments on its finance leases during this period.\n",
      "The document does not provide specific financial results for the first quarter ended March 31, 2024. Instead, it includes forward-looking statements and risk factors that may affect Amazon.com's financial results. However, it mentions that more information about potential factors that could affect their financial results can be found in Amazon.com's filings with the Securities and Exchange Commission (SEC), including its most recent Annual Report on Form 10-K and subsequent filings.\n",
      "The document mentions that for the twelve months ended March 31, 2023 and 2024, the amount relating to equipment included in \"Property and equipment acquired under finance leases, net of remeasurements and modifications\" was $676 million. This suggests that the company has significant investments in equipment and property acquired through finance leases.\n",
      "The document mentions that for the twelve months ended March 31, 2024, there was a principal repayment of finance leases amounting to $3,774 million. This information provides insight into one aspect of the company's financial results for the first quarter ended March 31, 2024.\n",
      "The document does not provide information on the first quarter ended March 31, 2024. However, it does report on the trailing twelve months ended March 31, 2023. The key highlights are:\n",
      "\n",
      "* Free cash flow less principal repayments of finance leases and financing obligations improved to an inflow of $46.1 billion for the trailing twelve months.\n",
      "* Free cash flow less equipment finance leases and principal repayments of all other finance leases and financing obligations improved to an inflow of $48.8 billion for the trailing twelve months.\n",
      "The document does not provide financial results for the first quarter ended March 31, 2024. Instead, it highlights Amazon's efforts to help customers save with shopping events worldwide and expands its healthcare offerings in the US. There is no mention of financial results or quarterly earnings.\n",
      "The document does not contain the financial results for the first quarter ended March 31, 2024. It appears to be a general overview of Amazon's company information and values, rather than a report on its financial performance.\n",
      "The provided document does not contain the financial results for the first quarter ended March 31, 2024. It appears to be an about page for Amazon.com, highlighting the company's values, products, and services. There is no mention of financial results or quarterly guidance.\n",
      "The document mentions that for the twelve months ended March 31, 2023 and 2024, the amount relates to equipment included in \"Property and equipment acquired under finance leases, net of remeasurements and modifications\" of $676 million. This implies that there is no specific information provided on the financial results for the first quarter ended March 31, 2024.\n",
      "The document does not provide direct information on the financial results for the first quarter ended March 31, 2024. However, it mentions that for the twelve months ended March 31, 2023 and 2024, there was a principal repayment of finance leases amounting to $6,544 million and $3,774 million, respectively.\n",
      "The document does not provide financial results for the first quarter ended March 31, 2024. Instead, it highlights Amazon's announcements and updates on its products and services, specifically:\n",
      "\n",
      "* The rollout of Rufus, a generative AI-powered shopping assistant in the Amazon Shopping app.\n",
      "* Improvements to Rufus' answer accuracy and response speed, as well as new features such as \"My Orders\".\n",
      "* The addition of more generative AI features for independent sellers in the US to create product listings.\n",
      "There are no key highlights of financial results for the first quarter ended March 31, 2024 in this document. The document appears to be a press release announcing Amazon's efforts in disaster relief and health equity initiatives, rather than providing financial information.\n",
      "The document does not provide information on the first quarter ended March 31, 2024. However, it does report on the trailing twelve months (TTM) and provides some key highlights:\n",
      "\n",
      "* Free cash flow less principal repayments of finance leases and financing obligations improved to an inflow of $46.1 billion for the TTM.\n",
      "* Free cash flow less equipment finance leases and principal repayments of all other finance leases and financing obligations improved to an inflow of $48.8 billion for the TTM.\n",
      "\n",
      "These metrics indicate a significant improvement in Amazon's cash flow generation over the trailing twelve months, but do not provide specific information on the first quarter ended March 31, 2024.\n",
      "The document reports that for the twelve months ended March 31, 2023 and 2024, the company acquired equipment under finance leases with a net value of $517 million and $676 million, respectively. This information provides insight into the company's capital expenditures and financing activities over the past year.\n",
      "The document provides information on principal repayments of finance leases for the twelve months ended March 31, 2023 and 2024. For the 12-month period ending March 31, 2024, the amount relates to property included in \"Principal repayments of finance leases\" of $3,774 million.\n",
      "The document does not provide information on the first quarter ended March 31, 2024. However, it mentions that Amazon.com announced its first-quarter results and notes that free cash flow improved to an inflow of $50.1 billion for the trailing twelve months, compared with an outflow of $3.3 billion for the trailing twelve months ended March 31, 2023.\n",
      "This document does not contain the financial results for the first quarter ended March 31, 2024. It appears to be an announcement about Amazon's principles and initiatives, rather than a report on its financial performance.\n"
     ]
    }
   ],
   "source": [
    "responses = []\n",
    "# For each document, return yes or no depending on whether the document is relevant to the original query\n",
    "for doc in flat_docs:\n",
    "    llm2_answerer_task = PromptTemplate(\n",
    "        template=\"\"\"\n",
    "        <|begin_of_text|>\n",
    "        <|start_header_id|>system<|end_header_id|>\n",
    "        Your task is to use the document to answer the original query.\n",
    "        ASSUME THAT THE DOCUMENTS ARE ALL RELEVANT TO THE QUERY.\n",
    "        The document WILL NOT answer the full query, but only highlight the key points of how it can contribute to an answer.\n",
    "        Keep to at most 5 sentences.\n",
    "        EXCLUDE ANY PREAMBLE.\n",
    "        <|eot_id|><|start_header_id|>user<|end_header_id|>\n",
    "        Document: {doc}\n",
    "        Original Query: {query}\n",
    "        <|eot_id|><|start_header_id|>assistant<|end_header_id|>\n",
    "        \"\"\",\n",
    "        input_variables=[\"doc\", \"query\"],\n",
    "    )\n",
    "    pipeline = llm2_answerer_task | llm2_answerer | StrOutputParser()\n",
    "    llm2_answerer_resp = pipeline.invoke({\"doc\": doc.page_content, \"query\": query})\n",
    "    print(llm2_answerer_resp)\n",
    "    responses.append(llm2_answerer_resp)"
   ]
  },
  {
   "cell_type": "code",
   "execution_count": null,
   "metadata": {},
   "outputs": [
    {
     "name": "stdout",
     "output_type": "stream",
     "text": [
      "['Unfortunately, there are no specific financial results mentioned in the provided document. However, it does provide information on equipment acquired under finance leases for the 12 months ended March 31, 2023 and 2024, which were $517 million and $676 million, respectively. There is no mention of first-quarter financial results specifically.', \"Unfortunately, there is no information provided about the financial results for the first quarter ended March 31, 2024. The document only mentions a comparison between two years (2023 and 2024) regarding principal repayments of finance leases. If you're looking for specific financial highlights, I'd be happy to help you with that once more information is provided.\", \"I apologize, but there are no financial results or key highlights mentioned in the provided document. The text appears to be an introduction to Amazon and its values, rather than a report on its financial performance. If you're looking for information on Amazon's financial results, I suggest visiting their official website or searching for recent news articles.\", \"I apologize, but there is no information provided about the first quarter ended March 31, 2024. The document only mentions results for the trailing twelve months ended March 31, 2023. However, it does provide some key highlights:\\n\\n* Free cash flow less principal repayments of finance leases and financing obligations improved to an inflow of $46.1 billion for the trailing twelve months.\\n* Free cash flow less equipment finance leases and principal repayments of all other finance leases and financing obligations improved to an inflow of $48.8 billion for the trailing twelve months.\\n\\nPlease note that these results are not specific to the first quarter ended March 31, 2024, but rather provide a snapshot of the company's financial performance over a longer period.\", \"There are no key highlights of financial results for the first quarter ended March 31, 2024 mentioned in this document. The provided text appears to be a press release announcing updates on Amazon's shopping app and generative AI features, but it does not include any information about the company's financial performance.\", 'Unfortunately, there is no specific information provided about the first quarter ended March 31, 2024. The document only mentions the twelve months ended March 31, 2023 and 2024, specifically stating that $676 million relates to equipment included in \"Property and equipment acquired under finance leases, net of remeasurements and modifications\".', \"Based on the provided document, here are the key highlights of Amazon's financial results for the first quarter ended March 31, 2024:\\n\\n* Net sales are expected to be between $144.0 billion and $149.0 billion, representing a growth rate of 7% to 11% compared to Q2 2023.\\n* The guidance anticipates an unfavorable impact of approximately 60 basis points from foreign exchange rates.\\n* The first quarter 2024 saw an added impact of approximately 120 basis points from Leap Year on the year-over-year net sales growth rate.\", \"I apologize, but there are no financial results or key highlights mentioned in the provided document. The text appears to be an introduction to Amazon's company information and values, rather than a report on its financial performance. If you're looking for financial information, I suggest checking Amazon's official investor relations website or quarterly earnings reports.\", 'Unfortunately, the provided document does not contain any information about the first quarter ended March 31, 2024. The only data mentioned is related to the twelve months ended March 31, 2023 and 2024, specifically a $6,544 million and $3,774 million principal repayment of finance leases.', \"There are no specific financial results provided in the given document. The text appears to be a disclaimer or cautionary statement about forward-looking statements and potential risks and uncertainties that may affect Amazon.com's financial results. It does not contain any key highlights of financial results for the first quarter ended March 31, 2024.\", \"Unfortunately, the provided document does not contain any information about the first quarter ended March 31, 2024. The only relevant data mentioned is the total amount spent on equipment under finance leases for the twelve months ended March 31, 2023 and 2024. If you're looking for financial results for the first quarter of 2024 specifically, I'd be happy to help you search for that information elsewhere.\", 'Unfortunately, there is no specific information provided about the first quarter ended March 31, 2024. The document only mentions the twelve months ended March 31, 2023 and 2024, specifically highlighting a $3,774 million principal repayment of finance leases for the latter year. To get the key highlights of financial results for the first quarter ended March 31, 2024, you would need additional information or a separate report.', 'I apologize, but there is no information provided about the first quarter ended March 31, 2024. The document only discusses the trailing twelve months and does not provide specific data for the first quarter of 2024.', 'The provided document does not contain the key highlights of financial results for the first quarter ended March 31, 2024. It appears to be a press release announcing various business developments and events by Amazon.com, including shopping events, expansion of healthcare offerings, and introduction of new programs. There is no mention of financial results or quarterly earnings.', \"I apologize, but there are no financial results or key highlights mentioned in the provided document. The text appears to be an introduction to Amazon's company information and values, rather than a quarterly earnings report. If you're looking for the actual financial results for the first quarter ended March 31, 2024, I would suggest checking Amazon's official investor relations website or searching for publicly available news articles from that time period.\", \"I apologize, but there are no key highlights of financial results for the first quarter ended March 31, 2024 in this document. The provided text appears to be an introduction about Amazon and its values, rather than a press release or announcement containing financial information. If you're looking for actual financial results, I suggest checking Amazon's official website or seeking out a reputable news source that provides quarterly earnings reports.\", 'Based on the provided document, here are the key highlights of financial results for the first quarter ended March 31, 2024:\\n\\n* Equipment included in \"Property and equipment acquired under finance leases, net of remeasurements and modifications\" was $676 million.\\n\\nPlease note that this is the only information available from the given document. If you\\'re looking for more comprehensive financial results, I\\'d be happy to help you search for additional documents or provide general insights on quarterly financial reports.', \"Unfortunately, there is no information provided about the first quarter ended March 31, 2024. The document only mentions data for the twelve months ended March 31, 2023 and 2024, specifically regarding principal repayments of finance leases. If you're looking for financial results for Q1 2024, I'm afraid this document doesn't provide that information.\", \"There are no financial results mentioned in this document. The text appears to be a press release announcing updates and new features on Amazon's platform, including the rollout of Rufus, a generative AI-powered shopping assistant, and enhancements to product listings for independent sellers. There is no mention of financial performance or quarterly results.\", 'There are no specific financial results mentioned in this document. The text appears to be a press release announcing various initiatives and charitable efforts by Amazon, including the launch of a Disaster Relief Hub and an increase in funding for the AWS Health Equity Initiative. There is no mention of financial results for the first quarter ended March 31, 2024.', 'Unfortunately, there is no information provided about the first quarter ended March 31, 2024. The document only mentions the trailing twelve months ended March 31, 2023.', 'Unfortunately, there is no specific information provided about the first quarter ended March 31, 2024. The document only mentions the twelve months ended March 31, 2023 and 2024, specifically highlighting equipment acquired under finance leases, net of remeasurements and modifications, which was $676 million for the 12-month period ending March 31, 2024.', 'Unfortunately, there is no information provided about the first quarter ended March 31, 2024. The document only mentions the twelve months ended March 31, 2023 and 2024, specifically highlighting a $6,544 million and $3,774 million principal repayment of finance leases in those respective periods.', \"I apologize, but there is no information provided about the first quarter ended March 31, 2024. The document only mentions the trailing twelve months and the year 2023. If you're looking for financial results for a specific date or period, I'd be happy to help you find that information if it's publicly available.\", \"I apologize, but there is no mention of Amazon's financial results in the provided document. The text appears to be about Amazon's company values and initiatives, rather than its financial performance. If you're looking for information on Amazon's first quarter results, I suggest visiting the official Amazon website or searching for a press release from Q1 2024.\"]\n"
     ]
    }
   ],
   "source": [
    "print(responses)"
   ]
  },
  {
   "cell_type": "code",
   "execution_count": null,
   "metadata": {},
   "outputs": [
    {
     "name": "stdout",
     "output_type": "stream",
     "text": [
      "Here are the key highlights of financial results for the first quarter ended March 31, 2024:\n",
      "\n",
      "* Net sales expected to be between $144.0 billion and $146.5 billion.\n",
      "* Operating income is expected to be between $3.2 billion and $3.7 billion.\n",
      "* Net income is expected to be between $2.1 billion and $2.6 billion.\n",
      "* Diluted earnings per share (EPS) are expected to be between $4.35 and $5.15.\n",
      "\n",
      "Note: These financial results are based on Amazon's guidance provided in their press release, but do not include actual figures as the query is asking for key highlights of financial results for the first quarter ended March 31, 2024, which are not available in the provided document.\n"
     ]
    }
   ],
   "source": [
    "llm3_summarizer_task = PromptTemplate(\n",
    "    template=\"\"\"\n",
    "    <|begin_of_text|>\n",
    "    <|start_header_id|>system<|end_header_id|>\n",
    "    YOU ARE A SUMMARIZER. YOUR OPINION ON THE ANSWERS OR QUERY IS NOT NEEDED.\n",
    "    SUMMARISE THE ANSWERS TO THE QUERY IN AS MANY SENTENCES AS YOU NEED.\n",
    "    <|eot_id|><|start_header_id|>user<|end_header_id|>\n",
    "    Answers: {answers}\n",
    "    Query: {query}\n",
    "    <|eot_id|><|start_header_id|>assistant<|end_header_id|>\n",
    "    \"\"\",\n",
    "    input_variables=[\"answers\", \"query\"],\n",
    ")\n",
    "\n",
    "pipeline = llm3_summarizer_task | llm3_summarizer | StrOutputParser()\n",
    "# array to text\n",
    "responses_str = \"; \".join(responses)\n",
    "# print(responses_str)\n",
    "llm3_summarizer_resp = pipeline.invoke({\"answers\": responses_str, \"query\": query})\n",
    "print(llm3_summarizer_resp)"
   ]
  },
  {
   "cell_type": "markdown",
   "metadata": {},
   "source": [
    "... this seems kinda useless"
   ]
  },
  {
   "cell_type": "markdown",
   "metadata": {},
   "source": []
  },
  {
   "cell_type": "code",
   "execution_count": null,
   "metadata": {},
   "outputs": [],
   "source": []
  },
  {
   "cell_type": "code",
   "execution_count": null,
   "metadata": {},
   "outputs": [],
   "source": []
  },
  {
   "cell_type": "code",
   "execution_count": null,
   "metadata": {},
   "outputs": [],
   "source": []
  },
  {
   "cell_type": "code",
   "execution_count": null,
   "metadata": {},
   "outputs": [],
   "source": []
  }
 ],
 "metadata": {
  "kernelspec": {
   "display_name": "local-llm",
   "language": "python",
   "name": "python3"
  },
  "language_info": {
   "codemirror_mode": {
    "name": "ipython",
    "version": 3
   },
   "file_extension": ".py",
   "mimetype": "text/x-python",
   "name": "python",
   "nbconvert_exporter": "python",
   "pygments_lexer": "ipython3",
   "version": "3.9.12"
  }
 },
 "nbformat": 4,
 "nbformat_minor": 2
}
