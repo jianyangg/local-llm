{
 "cells": [
  {
   "cell_type": "code",
   "execution_count": 1,
   "metadata": {},
   "outputs": [],
   "source": [
    "import os\n",
    "from string import Template\n",
    "import json\n",
    "from neo4j import GraphDatabase\n",
    "import glob\n",
    "from timeit import default_timer as timer\n",
    "from dotenv import load_dotenv\n",
    "from time import sleep\n",
    "import os\n",
    "\n",
    "import streamlit as st\n",
    "from langchain.chains import create_retrieval_chain\n",
    "from langchain.callbacks.base import BaseCallbackHandler\n",
    "from langchain.text_splitter import RecursiveCharacterTextSplitter\n",
    "from langchain_community.vectorstores import Neo4jVector\n",
    "from streamlit.logger import get_logger\n",
    "from langchain_community.embeddings import OllamaEmbeddings\n",
    "from langchain_community.chat_models import ChatOllama\n",
    "from langchain.chains.combine_documents import create_stuff_documents_chain\n",
    "from langchain_core.prompts import ChatPromptTemplate\n",
    "from typing import Dict, List\n",
    "from langchain_community.llms import Ollama\n",
    "from pprint import pprint\n",
    "from timeit import default_timer as timer\n",
    "from langchain.prompts.prompt import PromptTemplate\n",
    "from langchain_core.output_parsers import StrOutputParser\n",
    "from langchain.chains import GraphCypherQAChain\n",
    "\n",
    "from langchain.graphs import Neo4jGraph"
   ]
  },
  {
   "cell_type": "code",
   "execution_count": 2,
   "metadata": {},
   "outputs": [],
   "source": [
    "config={\"ollama_base_url\": \"http://localhost:11434\",\n",
    "        \"llm_name\": \"llama3\",\n",
    "        \"neo4j_url\": \"bolt://localhost:7687\",\n",
    "        \"neo4j_username\": \"neo4j\",\n",
    "        \"neo4j_password\": \"password\",\n",
    "        \"file_path\": \"data/people_profiles/people-profiles1.md\",\t\t\n",
    "        }"
   ]
  },
  {
   "cell_type": "code",
   "execution_count": 3,
   "metadata": {},
   "outputs": [],
   "source": [
    "url=config[\"neo4j_url\"] #database url\n",
    "username=config[\"neo4j_username\"] #neo4j username\n",
    "password=config[\"neo4j_password\"] #neo4j password"
   ]
  },
  {
   "cell_type": "code",
   "execution_count": 30,
   "metadata": {},
   "outputs": [],
   "source": [
    "llm = Ollama(model=\"llama3\", temperature=0.2, base_url=\"http://localhost:11434\")"
   ]
  },
  {
   "cell_type": "markdown",
   "metadata": {},
   "source": [
    "#### END-TO-END Black Box Query Generation"
   ]
  },
  {
   "cell_type": "markdown",
   "metadata": {},
   "source": [
    "#### Note the tenant label below to assist in generating the right cypher queries. Alternatively, we can do this manually for a more reliable process."
   ]
  },
  {
   "cell_type": "code",
   "execution_count": 95,
   "metadata": {},
   "outputs": [],
   "source": [
    "# Cypher generation prompt\n",
    "cypher_generation_template = \"\"\"\n",
    "<|begin_of_text|><|start_header_id|>system<|end_header_id|>\n",
    "You are an expert Neo4j Cypher translator who converts English to Cypher based on the Neo4j Schema provided, following the instructions below:\n",
    "1. Generate Cypher query compatible ONLY for Neo4j Version 5\n",
    "2. Do not use EXISTS, SIZE, HAVING keywords in the cypher. Use alias when using the WITH keyword\n",
    "3. Use only Nodes and relationships mentioned in the schema\n",
    "4. Always do a case-insensitive and fuzzy search for any properties related search. Eg: to search for a Client, use `toLower(client.id) contains 'neo4j'`. To search for Slack Messages, use 'toLower(SlackMessage.text) contains 'neo4j'`. To search for a project, use `toLower(project.summary) contains 'logistics platform' OR toLower(project.name) contains 'logistics platform'`.)\n",
    "5. Never use relationships that are not mentioned in the given schema\n",
    "6. When asked about projects, Match the properties using case-insensitive matching and the OR-operator, E.g, to find a logistics platform -project, use `toLower(project.summary) contains 'logistics platform' OR toLower(project.name) contains 'logistics platform'`.\n",
    "\n",
    "IMPORTANT! ONLY QUERY TENANTS WITH NODE LABEL \"tenant2\"\n",
    "<|start_header_id|>user<|end_header_id|>\n",
    "schema: {schema}\n",
    "\n",
    "Question: {question}\n",
    "<|eot_id|><|start_header_id|>assistant<|end_header_id|>\n",
    "\"\"\"\n",
    "\n",
    "cypher_prompt = PromptTemplate(\n",
    "    template = cypher_generation_template,\n",
    "    input_variables = [\"schema\", \"question\"]\n",
    ")"
   ]
  },
  {
   "cell_type": "markdown",
   "metadata": {},
   "source": [
    "#### Note! To access schema, we need to enable APOC procedures. Follow this link for more: https://neo4j.com/labs/apoc/4.4/installation/#apoc-core "
   ]
  },
  {
   "cell_type": "code",
   "execution_count": 96,
   "metadata": {},
   "outputs": [],
   "source": [
    "CYPHER_QA_TEMPLATE = \"\"\"You are an assistant that helps to form nice and human understandable answers.\n",
    "The information part contains the provided information that you must use to construct an answer.\n",
    "The provided information is authoritative, you must never doubt it or try to use your internal knowledge to correct it.\n",
    "Make the answer sound as a response to the question. Do not mention that you based the result on the given information.\n",
    "If the provided information is empty, say that you don't know the answer.\n",
    "Final answer should be easily readable and structured.\n",
    "Information:\n",
    "{context}\n",
    "\n",
    "Question: {question}\n",
    "Helpful Answer:\"\"\"\n",
    "\n",
    "qa_prompt = PromptTemplate(\n",
    "    input_variables=[\"context\", \"question\"], template=CYPHER_QA_TEMPLATE\n",
    ")"
   ]
  },
  {
   "cell_type": "code",
   "execution_count": 97,
   "metadata": {},
   "outputs": [
    {
     "name": "stdout",
     "output_type": "stream",
     "text": [
      "Node properties:\n",
      "tenant2 {summary: STRING, additional_properties: STRING, id: STRING, name: STRING}\n",
      "Person {summary: STRING, additional_properties: STRING, id: STRING, name: STRING}\n",
      "Skill {name: STRING, id: STRING, summary: STRING, additional_properties: STRING}\n",
      "tenant1 {summary: STRING, additional_properties: STRING, id: STRING, name: STRING}\n",
      "Relationship properties:\n",
      "\n",
      "The relationships:\n",
      "(:tenant2)-[:WORKED_ON_PROJECT]->(:Skill)\n",
      "(:tenant2)-[:HAS_SKILL]->(:tenant2)\n",
      "(:tenant2)-[:HAS_SKILL]->(:Skill)\n",
      "(:Person)-[:WORKED_ON_PROJECT]->(:Skill)\n",
      "(:Person)-[:HAS_SKILL]->(:tenant2)\n",
      "(:Person)-[:HAS_SKILL]->(:Skill)\n",
      "(:Person)-[:HAS_SKILL]->(:tenant1)\n",
      "(:tenant1)-[:WORKED_ON_PROJECT]->(:Skill)\n",
      "(:tenant1)-[:HAS_SKILL]->(:Skill)\n",
      "(:tenant1)-[:HAS_SKILL]->(:tenant1)\n",
      "(:tenant1)-[:HAS_SKILL]->(:tenant2)\n"
     ]
    }
   ],
   "source": [
    "graph = Neo4jGraph(url, username, password)\n",
    "print(graph.schema)"
   ]
  },
  {
   "cell_type": "code",
   "execution_count": 98,
   "metadata": {},
   "outputs": [],
   "source": [
    "def query_graph(user_input):\n",
    "    graph = Neo4jGraph(url, username, password)\n",
    "    chain = GraphCypherQAChain.from_llm(\n",
    "        llm=llm,\n",
    "        graph=graph,\n",
    "        verbose=True,\n",
    "        return_intermediate_steps=True,\n",
    "        cypher_prompt=cypher_prompt,\n",
    "        qa_prompt=qa_prompt,\n",
    "        )\n",
    "    result = chain(user_input)\n",
    "    return result"
   ]
  },
  {
   "cell_type": "code",
   "execution_count": 102,
   "metadata": {},
   "outputs": [
    {
     "name": "stdout",
     "output_type": "stream",
     "text": [
      "\n",
      "\n",
      "\u001b[1m> Entering new GraphCypherQAChain chain...\u001b[0m\n",
      "Generated Cypher:\n",
      "\u001b[32;1m\u001b[1;3m\n",
      "MATCH (p:Person)-[:HAS_SKILL]->(s:Skill)\n",
      "WHERE toLower(s.name) contains 'python' OR toLower(s.summary) contains 'python'\n",
      "WITH p AS person\n",
      "RETURN person;\n",
      "\u001b[0m\n",
      "Full Context:\n",
      "\u001b[32;1m\u001b[1;3m[{'person': {'summary': '', 'name': 'Sarah Johnson', 'additional_properties': '', 'id': 'sarahjohnson'}}, {'person': {'summary': '', 'name': 'Sarah Johnson', 'additional_properties': '', 'id': 'sarahjohnson'}}, {'person': {'summary': '', 'name': 'Sarah Johnson', 'additional_properties': '', 'id': 'sarahjohnson'}}]\u001b[0m\n",
      "\n",
      "\u001b[1m> Finished chain.\u001b[0m\n"
     ]
    },
    {
     "data": {
      "text/plain": [
       "\"You're looking for guidance on Python! According to the information, Sarah Johnson is the expert you can turn to for assistance. She has the necessary knowledge and expertise to help you with your Python-related queries.\""
      ]
     },
     "execution_count": 102,
     "metadata": {},
     "output_type": "execute_result"
    }
   ],
   "source": [
    "query_graph(\"I want to ask a few questions about PYTHON. Who can I approach?\")[\"result\"]"
   ]
  },
  {
   "cell_type": "code",
   "execution_count": null,
   "metadata": {},
   "outputs": [],
   "source": []
  },
  {
   "cell_type": "markdown",
   "metadata": {},
   "source": [
    "### Verdict: This method of generating cypher queries isn't too relevant. This may limit the use of graph database. The LLM isn't powerful enough to generate the desired queries. We can explore *six degrees of separation*. Alternatively, we may have to fine-tune a model specifically for neo4j queries."
   ]
  },
  {
   "cell_type": "code",
   "execution_count": null,
   "metadata": {},
   "outputs": [],
   "source": []
  }
 ],
 "metadata": {
  "kernelspec": {
   "display_name": "local-llm",
   "language": "python",
   "name": "python3"
  },
  "language_info": {
   "codemirror_mode": {
    "name": "ipython",
    "version": 3
   },
   "file_extension": ".py",
   "mimetype": "text/x-python",
   "name": "python",
   "nbconvert_exporter": "python",
   "pygments_lexer": "ipython3",
   "version": "3.10.4"
  }
 },
 "nbformat": 4,
 "nbformat_minor": 2
}
